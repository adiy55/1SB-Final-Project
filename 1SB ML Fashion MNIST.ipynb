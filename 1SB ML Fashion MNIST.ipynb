{
 "cells": [
  {
   "cell_type": "markdown",
   "source": [
    "<h1 style=\"text-align: center;\">Data Visualization Project</h1>\n",
    "<h2 style=\"text-align: center;\">Fashion-MNIST Dataset</h2>"
   ],
   "metadata": {
    "collapsed": false
   }
  },
  {
   "cell_type": "markdown",
   "source": [
    "# Preface\n",
    "* Fashion-MNIST is a dataset containing 70,000 samples, 60,000 for the training set and 10,000 for the test set.\n",
    "* Each sample is a 28x28 (784 pixels) grayscale image of a certain fashion item.\n",
    "* The data contains a column with 10 labels, making this a **multiclass classification** problem.\n",
    "In other words, this is a **supervised learning** task.\n",
    "* The model will be trained using all available data and run without learning anymore, also known as **offline/batch learning**.\n",
    "* ***Main objective:*** Find the best algorithm and model parameters that classify the unseen images correctly."
   ],
   "metadata": {
    "collapsed": false
   }
  },
  {
   "cell_type": "code",
   "execution_count": 1,
   "outputs": [],
   "source": [
    "# common imports\n",
    "import numpy as np\n",
    "import pandas as pd\n",
    "import seaborn as sns\n",
    "import joblib\n",
    "import matplotlib.pyplot as plt\n",
    "%matplotlib inline\n",
    "\n",
    "# machine learning imports\n",
    "from sklearn.base import BaseEstimator, TransformerMixin\n",
    "from sklearn.pipeline import Pipeline\n",
    "from sklearn.preprocessing import StandardScaler\n",
    "from sklearn.linear_model import LogisticRegression\n",
    "from sklearn.neighbors import KNeighborsClassifier\n",
    "from sklearn.tree import DecisionTreeClassifier\n",
    "from sklearn.ensemble import RandomForestClassifier, ExtraTreesClassifier, AdaBoostClassifier, VotingClassifier\n",
    "from xgboost import XGBClassifier, cv, DMatrix\n",
    "from sklearn.model_selection import cross_val_score, GridSearchCV, cross_val_predict, train_test_split\n",
    "from sklearn.decomposition import PCA\n",
    "from sklearn.multiclass import OneVsRestClassifier, OneVsOneClassifier\n",
    "from sklearn import metrics\n",
    "from sklearn import clone  # 'clone' constructs a new unfitted estimator with the same parameters\n",
    "from sklearn.dummy import DummyClassifier\n",
    "from scipy.ndimage.interpolation import shift\n",
    "\n",
    "# display setup\n",
    "plt.style.use('seaborn')  # for plots"
   ],
   "metadata": {
    "collapsed": false,
    "pycharm": {
     "name": "#%%\n"
    }
   }
  },
  {
   "cell_type": "markdown",
   "source": [
    "# 1. Getting the Data"
   ],
   "metadata": {
    "collapsed": false
   }
  },
  {
   "cell_type": "code",
   "execution_count": 2,
   "outputs": [],
   "source": [
    "# read the csv file\n",
    "train_set = pd.read_csv(r\"FMNIST/fashion-mnist_train.csv\")\n",
    "test_set = pd.read_csv(r\"FMNIST/fashion-mnist_test.csv\")"
   ],
   "metadata": {
    "collapsed": false,
    "pycharm": {
     "name": "#%%\n"
    }
   }
  },
  {
   "cell_type": "code",
   "execution_count": 3,
   "outputs": [
    {
     "data": {
      "text/plain": "   label  pixel1  pixel2  pixel3  pixel4  pixel5  pixel6  pixel7  pixel8  \\\n0      2       0       0       0       0       0       0       0       0   \n1      9       0       0       0       0       0       0       0       0   \n2      6       0       0       0       0       0       0       0       5   \n3      0       0       0       0       1       2       0       0       0   \n4      3       0       0       0       0       0       0       0       0   \n\n   pixel9  ...  pixel775  pixel776  pixel777  pixel778  pixel779  pixel780  \\\n0       0  ...         0         0         0         0         0         0   \n1       0  ...         0         0         0         0         0         0   \n2       0  ...         0         0         0        30        43         0   \n3       0  ...         3         0         0         0         0         1   \n4       0  ...         0         0         0         0         0         0   \n\n   pixel781  pixel782  pixel783  pixel784  \n0         0         0         0         0  \n1         0         0         0         0  \n2         0         0         0         0  \n3         0         0         0         0  \n4         0         0         0         0  \n\n[5 rows x 785 columns]",
      "text/html": "<div>\n<style scoped>\n    .dataframe tbody tr th:only-of-type {\n        vertical-align: middle;\n    }\n\n    .dataframe tbody tr th {\n        vertical-align: top;\n    }\n\n    .dataframe thead th {\n        text-align: right;\n    }\n</style>\n<table border=\"1\" class=\"dataframe\">\n  <thead>\n    <tr style=\"text-align: right;\">\n      <th></th>\n      <th>label</th>\n      <th>pixel1</th>\n      <th>pixel2</th>\n      <th>pixel3</th>\n      <th>pixel4</th>\n      <th>pixel5</th>\n      <th>pixel6</th>\n      <th>pixel7</th>\n      <th>pixel8</th>\n      <th>pixel9</th>\n      <th>...</th>\n      <th>pixel775</th>\n      <th>pixel776</th>\n      <th>pixel777</th>\n      <th>pixel778</th>\n      <th>pixel779</th>\n      <th>pixel780</th>\n      <th>pixel781</th>\n      <th>pixel782</th>\n      <th>pixel783</th>\n      <th>pixel784</th>\n    </tr>\n  </thead>\n  <tbody>\n    <tr>\n      <th>0</th>\n      <td>2</td>\n      <td>0</td>\n      <td>0</td>\n      <td>0</td>\n      <td>0</td>\n      <td>0</td>\n      <td>0</td>\n      <td>0</td>\n      <td>0</td>\n      <td>0</td>\n      <td>...</td>\n      <td>0</td>\n      <td>0</td>\n      <td>0</td>\n      <td>0</td>\n      <td>0</td>\n      <td>0</td>\n      <td>0</td>\n      <td>0</td>\n      <td>0</td>\n      <td>0</td>\n    </tr>\n    <tr>\n      <th>1</th>\n      <td>9</td>\n      <td>0</td>\n      <td>0</td>\n      <td>0</td>\n      <td>0</td>\n      <td>0</td>\n      <td>0</td>\n      <td>0</td>\n      <td>0</td>\n      <td>0</td>\n      <td>...</td>\n      <td>0</td>\n      <td>0</td>\n      <td>0</td>\n      <td>0</td>\n      <td>0</td>\n      <td>0</td>\n      <td>0</td>\n      <td>0</td>\n      <td>0</td>\n      <td>0</td>\n    </tr>\n    <tr>\n      <th>2</th>\n      <td>6</td>\n      <td>0</td>\n      <td>0</td>\n      <td>0</td>\n      <td>0</td>\n      <td>0</td>\n      <td>0</td>\n      <td>0</td>\n      <td>5</td>\n      <td>0</td>\n      <td>...</td>\n      <td>0</td>\n      <td>0</td>\n      <td>0</td>\n      <td>30</td>\n      <td>43</td>\n      <td>0</td>\n      <td>0</td>\n      <td>0</td>\n      <td>0</td>\n      <td>0</td>\n    </tr>\n    <tr>\n      <th>3</th>\n      <td>0</td>\n      <td>0</td>\n      <td>0</td>\n      <td>0</td>\n      <td>1</td>\n      <td>2</td>\n      <td>0</td>\n      <td>0</td>\n      <td>0</td>\n      <td>0</td>\n      <td>...</td>\n      <td>3</td>\n      <td>0</td>\n      <td>0</td>\n      <td>0</td>\n      <td>0</td>\n      <td>1</td>\n      <td>0</td>\n      <td>0</td>\n      <td>0</td>\n      <td>0</td>\n    </tr>\n    <tr>\n      <th>4</th>\n      <td>3</td>\n      <td>0</td>\n      <td>0</td>\n      <td>0</td>\n      <td>0</td>\n      <td>0</td>\n      <td>0</td>\n      <td>0</td>\n      <td>0</td>\n      <td>0</td>\n      <td>...</td>\n      <td>0</td>\n      <td>0</td>\n      <td>0</td>\n      <td>0</td>\n      <td>0</td>\n      <td>0</td>\n      <td>0</td>\n      <td>0</td>\n      <td>0</td>\n      <td>0</td>\n    </tr>\n  </tbody>\n</table>\n<p>5 rows × 785 columns</p>\n</div>"
     },
     "execution_count": 3,
     "metadata": {},
     "output_type": "execute_result"
    }
   ],
   "source": [
    "# display the first 5 rows for a quick look\n",
    "train_set.head()"
   ],
   "metadata": {
    "collapsed": false,
    "pycharm": {
     "name": "#%%\n"
    }
   }
  },
  {
   "cell_type": "code",
   "execution_count": 4,
   "outputs": [
    {
     "data": {
      "text/plain": "       label  pixel1  pixel2  pixel3  pixel4  pixel5  pixel6  pixel7  pixel8  \\\n59995      9       0       0       0       0       0       0       0       0   \n59996      1       0       0       0       0       0       0       0       0   \n59997      8       0       0       0       0       0       0       0       0   \n59998      8       0       0       0       0       0       0       0       0   \n59999      7       0       0       0       0       0       0       0       0   \n\n       pixel9  ...  pixel775  pixel776  pixel777  pixel778  pixel779  \\\n59995       0  ...         0         0         0         0         0   \n59996       0  ...        73         0         0         0         0   \n59997       0  ...       160       162       163       135        94   \n59998       0  ...         0         0         0         0         0   \n59999       0  ...         0         0         0         0         0   \n\n       pixel780  pixel781  pixel782  pixel783  pixel784  \n59995         0         0         0         0         0  \n59996         0         0         0         0         0  \n59997         0         0         0         0         0  \n59998         0         0         0         0         0  \n59999         0         0         0         0         0  \n\n[5 rows x 785 columns]",
      "text/html": "<div>\n<style scoped>\n    .dataframe tbody tr th:only-of-type {\n        vertical-align: middle;\n    }\n\n    .dataframe tbody tr th {\n        vertical-align: top;\n    }\n\n    .dataframe thead th {\n        text-align: right;\n    }\n</style>\n<table border=\"1\" class=\"dataframe\">\n  <thead>\n    <tr style=\"text-align: right;\">\n      <th></th>\n      <th>label</th>\n      <th>pixel1</th>\n      <th>pixel2</th>\n      <th>pixel3</th>\n      <th>pixel4</th>\n      <th>pixel5</th>\n      <th>pixel6</th>\n      <th>pixel7</th>\n      <th>pixel8</th>\n      <th>pixel9</th>\n      <th>...</th>\n      <th>pixel775</th>\n      <th>pixel776</th>\n      <th>pixel777</th>\n      <th>pixel778</th>\n      <th>pixel779</th>\n      <th>pixel780</th>\n      <th>pixel781</th>\n      <th>pixel782</th>\n      <th>pixel783</th>\n      <th>pixel784</th>\n    </tr>\n  </thead>\n  <tbody>\n    <tr>\n      <th>59995</th>\n      <td>9</td>\n      <td>0</td>\n      <td>0</td>\n      <td>0</td>\n      <td>0</td>\n      <td>0</td>\n      <td>0</td>\n      <td>0</td>\n      <td>0</td>\n      <td>0</td>\n      <td>...</td>\n      <td>0</td>\n      <td>0</td>\n      <td>0</td>\n      <td>0</td>\n      <td>0</td>\n      <td>0</td>\n      <td>0</td>\n      <td>0</td>\n      <td>0</td>\n      <td>0</td>\n    </tr>\n    <tr>\n      <th>59996</th>\n      <td>1</td>\n      <td>0</td>\n      <td>0</td>\n      <td>0</td>\n      <td>0</td>\n      <td>0</td>\n      <td>0</td>\n      <td>0</td>\n      <td>0</td>\n      <td>0</td>\n      <td>...</td>\n      <td>73</td>\n      <td>0</td>\n      <td>0</td>\n      <td>0</td>\n      <td>0</td>\n      <td>0</td>\n      <td>0</td>\n      <td>0</td>\n      <td>0</td>\n      <td>0</td>\n    </tr>\n    <tr>\n      <th>59997</th>\n      <td>8</td>\n      <td>0</td>\n      <td>0</td>\n      <td>0</td>\n      <td>0</td>\n      <td>0</td>\n      <td>0</td>\n      <td>0</td>\n      <td>0</td>\n      <td>0</td>\n      <td>...</td>\n      <td>160</td>\n      <td>162</td>\n      <td>163</td>\n      <td>135</td>\n      <td>94</td>\n      <td>0</td>\n      <td>0</td>\n      <td>0</td>\n      <td>0</td>\n      <td>0</td>\n    </tr>\n    <tr>\n      <th>59998</th>\n      <td>8</td>\n      <td>0</td>\n      <td>0</td>\n      <td>0</td>\n      <td>0</td>\n      <td>0</td>\n      <td>0</td>\n      <td>0</td>\n      <td>0</td>\n      <td>0</td>\n      <td>...</td>\n      <td>0</td>\n      <td>0</td>\n      <td>0</td>\n      <td>0</td>\n      <td>0</td>\n      <td>0</td>\n      <td>0</td>\n      <td>0</td>\n      <td>0</td>\n      <td>0</td>\n    </tr>\n    <tr>\n      <th>59999</th>\n      <td>7</td>\n      <td>0</td>\n      <td>0</td>\n      <td>0</td>\n      <td>0</td>\n      <td>0</td>\n      <td>0</td>\n      <td>0</td>\n      <td>0</td>\n      <td>0</td>\n      <td>...</td>\n      <td>0</td>\n      <td>0</td>\n      <td>0</td>\n      <td>0</td>\n      <td>0</td>\n      <td>0</td>\n      <td>0</td>\n      <td>0</td>\n      <td>0</td>\n      <td>0</td>\n    </tr>\n  </tbody>\n</table>\n<p>5 rows × 785 columns</p>\n</div>"
     },
     "execution_count": 4,
     "metadata": {},
     "output_type": "execute_result"
    }
   ],
   "source": [
    "# display the last 5 rows for a quick look\n",
    "train_set.tail()"
   ],
   "metadata": {
    "collapsed": false,
    "pycharm": {
     "name": "#%%\n"
    }
   }
  },
  {
   "cell_type": "code",
   "execution_count": 5,
   "outputs": [
    {
     "name": "stdout",
     "output_type": "stream",
     "text": [
      "Training Set: (60000, 785)\n",
      "Test Set: (10000, 785)\n"
     ]
    }
   ],
   "source": [
    "# DataFrame shape (rows, columns)\n",
    "print(\"Training Set:\", train_set.shape)\n",
    "print(\"Test Set:\", test_set.shape)"
   ],
   "metadata": {
    "collapsed": false,
    "pycharm": {
     "name": "#%%\n"
    }
   }
  },
  {
   "cell_type": "code",
   "execution_count": 6,
   "outputs": [
    {
     "name": "stdout",
     "output_type": "stream",
     "text": [
      "<class 'pandas.core.frame.DataFrame'>\n",
      "RangeIndex: 60000 entries, 0 to 59999\n",
      "Columns: 785 entries, label to pixel784\n",
      "dtypes: int64(785)\n",
      "memory usage: 359.3 MB\n"
     ]
    }
   ],
   "source": [
    "# description of data\n",
    "train_set.info()"
   ],
   "metadata": {
    "collapsed": false,
    "pycharm": {
     "name": "#%%\n"
    }
   }
  },
  {
   "cell_type": "code",
   "execution_count": 7,
   "outputs": [
    {
     "data": {
      "text/plain": "              label        pixel1        pixel2        pixel3        pixel4  \\\ncount  60000.000000  60000.000000  60000.000000  60000.000000  60000.000000   \nmean       4.500000      0.000900      0.006150      0.035333      0.101933   \nstd        2.872305      0.094689      0.271011      1.222324      2.452871   \nmin        0.000000      0.000000      0.000000      0.000000      0.000000   \n25%        2.000000      0.000000      0.000000      0.000000      0.000000   \n50%        4.500000      0.000000      0.000000      0.000000      0.000000   \n75%        7.000000      0.000000      0.000000      0.000000      0.000000   \nmax        9.000000     16.000000     36.000000    226.000000    164.000000   \n\n             pixel5        pixel6        pixel7        pixel8        pixel9  \\\ncount  60000.000000  60000.000000  60000.000000  60000.000000  60000.000000   \nmean       0.247967      0.411467      0.805767      2.198283      5.682000   \nstd        4.306912      5.836188      8.215169     14.093378     23.819481   \nmin        0.000000      0.000000      0.000000      0.000000      0.000000   \n25%        0.000000      0.000000      0.000000      0.000000      0.000000   \n50%        0.000000      0.000000      0.000000      0.000000      0.000000   \n75%        0.000000      0.000000      0.000000      0.000000      0.000000   \nmax      227.000000    230.000000    224.000000    255.000000    254.000000   \n\n       ...      pixel775      pixel776      pixel777      pixel778  \\\ncount  ...  60000.000000  60000.000000  60000.000000  60000.000000   \nmean   ...     34.625400     23.300683     16.588267     17.869433   \nstd    ...     57.545242     48.854427     41.979611     43.966032   \nmin    ...      0.000000      0.000000      0.000000      0.000000   \n25%    ...      0.000000      0.000000      0.000000      0.000000   \n50%    ...      0.000000      0.000000      0.000000      0.000000   \n75%    ...     58.000000      9.000000      0.000000      0.000000   \nmax    ...    255.000000    255.000000    255.000000    255.000000   \n\n           pixel779      pixel780      pixel781      pixel782      pixel783  \\\ncount  60000.000000  60000.000000  60000.000000  60000.000000  60000.000000   \nmean      22.814817     17.911483      8.520633      2.753300      0.855517   \nstd       51.830477     45.149388     29.614859     17.397652      9.356960   \nmin        0.000000      0.000000      0.000000      0.000000      0.000000   \n25%        0.000000      0.000000      0.000000      0.000000      0.000000   \n50%        0.000000      0.000000      0.000000      0.000000      0.000000   \n75%        0.000000      0.000000      0.000000      0.000000      0.000000   \nmax      255.000000    255.000000    255.000000    255.000000    255.000000   \n\n          pixel784  \ncount  60000.00000  \nmean       0.07025  \nstd        2.12587  \nmin        0.00000  \n25%        0.00000  \n50%        0.00000  \n75%        0.00000  \nmax      170.00000  \n\n[8 rows x 785 columns]",
      "text/html": "<div>\n<style scoped>\n    .dataframe tbody tr th:only-of-type {\n        vertical-align: middle;\n    }\n\n    .dataframe tbody tr th {\n        vertical-align: top;\n    }\n\n    .dataframe thead th {\n        text-align: right;\n    }\n</style>\n<table border=\"1\" class=\"dataframe\">\n  <thead>\n    <tr style=\"text-align: right;\">\n      <th></th>\n      <th>label</th>\n      <th>pixel1</th>\n      <th>pixel2</th>\n      <th>pixel3</th>\n      <th>pixel4</th>\n      <th>pixel5</th>\n      <th>pixel6</th>\n      <th>pixel7</th>\n      <th>pixel8</th>\n      <th>pixel9</th>\n      <th>...</th>\n      <th>pixel775</th>\n      <th>pixel776</th>\n      <th>pixel777</th>\n      <th>pixel778</th>\n      <th>pixel779</th>\n      <th>pixel780</th>\n      <th>pixel781</th>\n      <th>pixel782</th>\n      <th>pixel783</th>\n      <th>pixel784</th>\n    </tr>\n  </thead>\n  <tbody>\n    <tr>\n      <th>count</th>\n      <td>60000.000000</td>\n      <td>60000.000000</td>\n      <td>60000.000000</td>\n      <td>60000.000000</td>\n      <td>60000.000000</td>\n      <td>60000.000000</td>\n      <td>60000.000000</td>\n      <td>60000.000000</td>\n      <td>60000.000000</td>\n      <td>60000.000000</td>\n      <td>...</td>\n      <td>60000.000000</td>\n      <td>60000.000000</td>\n      <td>60000.000000</td>\n      <td>60000.000000</td>\n      <td>60000.000000</td>\n      <td>60000.000000</td>\n      <td>60000.000000</td>\n      <td>60000.000000</td>\n      <td>60000.000000</td>\n      <td>60000.00000</td>\n    </tr>\n    <tr>\n      <th>mean</th>\n      <td>4.500000</td>\n      <td>0.000900</td>\n      <td>0.006150</td>\n      <td>0.035333</td>\n      <td>0.101933</td>\n      <td>0.247967</td>\n      <td>0.411467</td>\n      <td>0.805767</td>\n      <td>2.198283</td>\n      <td>5.682000</td>\n      <td>...</td>\n      <td>34.625400</td>\n      <td>23.300683</td>\n      <td>16.588267</td>\n      <td>17.869433</td>\n      <td>22.814817</td>\n      <td>17.911483</td>\n      <td>8.520633</td>\n      <td>2.753300</td>\n      <td>0.855517</td>\n      <td>0.07025</td>\n    </tr>\n    <tr>\n      <th>std</th>\n      <td>2.872305</td>\n      <td>0.094689</td>\n      <td>0.271011</td>\n      <td>1.222324</td>\n      <td>2.452871</td>\n      <td>4.306912</td>\n      <td>5.836188</td>\n      <td>8.215169</td>\n      <td>14.093378</td>\n      <td>23.819481</td>\n      <td>...</td>\n      <td>57.545242</td>\n      <td>48.854427</td>\n      <td>41.979611</td>\n      <td>43.966032</td>\n      <td>51.830477</td>\n      <td>45.149388</td>\n      <td>29.614859</td>\n      <td>17.397652</td>\n      <td>9.356960</td>\n      <td>2.12587</td>\n    </tr>\n    <tr>\n      <th>min</th>\n      <td>0.000000</td>\n      <td>0.000000</td>\n      <td>0.000000</td>\n      <td>0.000000</td>\n      <td>0.000000</td>\n      <td>0.000000</td>\n      <td>0.000000</td>\n      <td>0.000000</td>\n      <td>0.000000</td>\n      <td>0.000000</td>\n      <td>...</td>\n      <td>0.000000</td>\n      <td>0.000000</td>\n      <td>0.000000</td>\n      <td>0.000000</td>\n      <td>0.000000</td>\n      <td>0.000000</td>\n      <td>0.000000</td>\n      <td>0.000000</td>\n      <td>0.000000</td>\n      <td>0.00000</td>\n    </tr>\n    <tr>\n      <th>25%</th>\n      <td>2.000000</td>\n      <td>0.000000</td>\n      <td>0.000000</td>\n      <td>0.000000</td>\n      <td>0.000000</td>\n      <td>0.000000</td>\n      <td>0.000000</td>\n      <td>0.000000</td>\n      <td>0.000000</td>\n      <td>0.000000</td>\n      <td>...</td>\n      <td>0.000000</td>\n      <td>0.000000</td>\n      <td>0.000000</td>\n      <td>0.000000</td>\n      <td>0.000000</td>\n      <td>0.000000</td>\n      <td>0.000000</td>\n      <td>0.000000</td>\n      <td>0.000000</td>\n      <td>0.00000</td>\n    </tr>\n    <tr>\n      <th>50%</th>\n      <td>4.500000</td>\n      <td>0.000000</td>\n      <td>0.000000</td>\n      <td>0.000000</td>\n      <td>0.000000</td>\n      <td>0.000000</td>\n      <td>0.000000</td>\n      <td>0.000000</td>\n      <td>0.000000</td>\n      <td>0.000000</td>\n      <td>...</td>\n      <td>0.000000</td>\n      <td>0.000000</td>\n      <td>0.000000</td>\n      <td>0.000000</td>\n      <td>0.000000</td>\n      <td>0.000000</td>\n      <td>0.000000</td>\n      <td>0.000000</td>\n      <td>0.000000</td>\n      <td>0.00000</td>\n    </tr>\n    <tr>\n      <th>75%</th>\n      <td>7.000000</td>\n      <td>0.000000</td>\n      <td>0.000000</td>\n      <td>0.000000</td>\n      <td>0.000000</td>\n      <td>0.000000</td>\n      <td>0.000000</td>\n      <td>0.000000</td>\n      <td>0.000000</td>\n      <td>0.000000</td>\n      <td>...</td>\n      <td>58.000000</td>\n      <td>9.000000</td>\n      <td>0.000000</td>\n      <td>0.000000</td>\n      <td>0.000000</td>\n      <td>0.000000</td>\n      <td>0.000000</td>\n      <td>0.000000</td>\n      <td>0.000000</td>\n      <td>0.00000</td>\n    </tr>\n    <tr>\n      <th>max</th>\n      <td>9.000000</td>\n      <td>16.000000</td>\n      <td>36.000000</td>\n      <td>226.000000</td>\n      <td>164.000000</td>\n      <td>227.000000</td>\n      <td>230.000000</td>\n      <td>224.000000</td>\n      <td>255.000000</td>\n      <td>254.000000</td>\n      <td>...</td>\n      <td>255.000000</td>\n      <td>255.000000</td>\n      <td>255.000000</td>\n      <td>255.000000</td>\n      <td>255.000000</td>\n      <td>255.000000</td>\n      <td>255.000000</td>\n      <td>255.000000</td>\n      <td>255.000000</td>\n      <td>170.00000</td>\n    </tr>\n  </tbody>\n</table>\n<p>8 rows × 785 columns</p>\n</div>"
     },
     "execution_count": 7,
     "metadata": {},
     "output_type": "execute_result"
    }
   ],
   "source": [
    "# summary of the numerical attributes\n",
    "train_set.describe()"
   ],
   "metadata": {
    "collapsed": false,
    "pycharm": {
     "name": "#%%\n"
    }
   }
  },
  {
   "cell_type": "code",
   "execution_count": 8,
   "outputs": [
    {
     "data": {
      "text/plain": "255.0"
     },
     "execution_count": 8,
     "metadata": {},
     "output_type": "execute_result"
    }
   ],
   "source": [
    "# maximum pixel value\n",
    "train_set.describe().loc['max'].max()"
   ],
   "metadata": {
    "collapsed": false,
    "pycharm": {
     "name": "#%%\n"
    }
   }
  },
  {
   "cell_type": "code",
   "execution_count": 9,
   "outputs": [
    {
     "data": {
      "text/plain": "0.0"
     },
     "execution_count": 9,
     "metadata": {},
     "output_type": "execute_result"
    }
   ],
   "source": [
    "# minimum pixel value\n",
    "train_set.describe().loc['min'].max()"
   ],
   "metadata": {
    "collapsed": false,
    "pycharm": {
     "name": "#%%\n"
    }
   }
  },
  {
   "cell_type": "markdown",
   "source": [
    "> ### Features in the DataFrame:\n",
    "> There are 785 columns, one for the labels and 784 for the pixels (one for each pixel).\n",
    ">> Labels:\n",
    "> - 0 = T-shirt/top\n",
    "> - 1 = Trouser\n",
    "> - 2 = Pullover\n",
    "> - 3 = Dress\n",
    "> - 4 = Coat\n",
    "> - 5 = Sandal\n",
    "> - 6 = Shirt\n",
    "> - 7 = Sneaker\n",
    "> - 8 = Bag\n",
    "> - 9 = Ankle boot"
   ],
   "metadata": {
    "collapsed": false
   }
  },
  {
   "cell_type": "code",
   "execution_count": 10,
   "outputs": [
    {
     "data": {
      "text/plain": "0    6000\n1    6000\n2    6000\n3    6000\n4    6000\n5    6000\n6    6000\n7    6000\n8    6000\n9    6000\nName: label, dtype: int64"
     },
     "execution_count": 10,
     "metadata": {},
     "output_type": "execute_result"
    }
   ],
   "source": [
    "labels = [\"T-shirt/top\", \"Trouser\", \"Pullover\", \"Dress\", \"Coat\", \"Sandal\", \"Shirt\", \"Sneaker\", \"Bag\", \"Ankle boot\"]\n",
    "# number of instances for each category\n",
    "train_set[\"label\"].value_counts().sort_index()"
   ],
   "metadata": {
    "collapsed": false,
    "pycharm": {
     "name": "#%%\n"
    }
   }
  },
  {
   "cell_type": "markdown",
   "source": [
    "> #### Initial observations:\n",
    "* Each category has an equal amount of samples in the training set, making this a **balanced classification** task.\n",
    "* Classes and pixel values are integers.\n",
    "* The pixel range is [0, 255]. Some feature columns have a smaller maximum value or a\n",
    "greater minimum value. This means that the values range is smaller for some pixels."
   ],
   "metadata": {
    "collapsed": false
   }
  },
  {
   "cell_type": "markdown",
   "source": [
    "# 2. Understanding and Visualizing the Data\n",
    "> ##### *The motivation for this section is to gain more insights.*"
   ],
   "metadata": {
    "collapsed": false
   }
  },
  {
   "cell_type": "markdown",
   "source": [
    "> The data was split in advance and the images are already the same aspect ratio.\n",
    "Let's create a copy of the data to prevent accidentally harming the training set."
   ],
   "metadata": {
    "collapsed": false
   }
  },
  {
   "cell_type": "code",
   "execution_count": 11,
   "outputs": [],
   "source": [
    "# deep copy of the training set\n",
    "fmnist = train_set.copy()"
   ],
   "metadata": {
    "collapsed": false,
    "pycharm": {
     "name": "#%%\n"
    }
   }
  },
  {
   "cell_type": "code",
   "execution_count": 12,
   "outputs": [
    {
     "data": {
      "text/plain": "   label  pixel1  pixel2  pixel3  pixel4  pixel5  pixel6  pixel7  pixel8  \\\n0      2       0       0       0       0       0       0       0       0   \n1      9       0       0       0       0       0       0       0       0   \n\n   pixel9  ...  pixel775  pixel776  pixel777  pixel778  pixel779  pixel780  \\\n0       0  ...         0         0         0         0         0         0   \n1       0  ...         0         0         0         0         0         0   \n\n   pixel781  pixel782  pixel783  pixel784  \n0         0         0         0         0  \n1         0         0         0         0  \n\n[2 rows x 785 columns]",
      "text/html": "<div>\n<style scoped>\n    .dataframe tbody tr th:only-of-type {\n        vertical-align: middle;\n    }\n\n    .dataframe tbody tr th {\n        vertical-align: top;\n    }\n\n    .dataframe thead th {\n        text-align: right;\n    }\n</style>\n<table border=\"1\" class=\"dataframe\">\n  <thead>\n    <tr style=\"text-align: right;\">\n      <th></th>\n      <th>label</th>\n      <th>pixel1</th>\n      <th>pixel2</th>\n      <th>pixel3</th>\n      <th>pixel4</th>\n      <th>pixel5</th>\n      <th>pixel6</th>\n      <th>pixel7</th>\n      <th>pixel8</th>\n      <th>pixel9</th>\n      <th>...</th>\n      <th>pixel775</th>\n      <th>pixel776</th>\n      <th>pixel777</th>\n      <th>pixel778</th>\n      <th>pixel779</th>\n      <th>pixel780</th>\n      <th>pixel781</th>\n      <th>pixel782</th>\n      <th>pixel783</th>\n      <th>pixel784</th>\n    </tr>\n  </thead>\n  <tbody>\n    <tr>\n      <th>0</th>\n      <td>2</td>\n      <td>0</td>\n      <td>0</td>\n      <td>0</td>\n      <td>0</td>\n      <td>0</td>\n      <td>0</td>\n      <td>0</td>\n      <td>0</td>\n      <td>0</td>\n      <td>...</td>\n      <td>0</td>\n      <td>0</td>\n      <td>0</td>\n      <td>0</td>\n      <td>0</td>\n      <td>0</td>\n      <td>0</td>\n      <td>0</td>\n      <td>0</td>\n      <td>0</td>\n    </tr>\n    <tr>\n      <th>1</th>\n      <td>9</td>\n      <td>0</td>\n      <td>0</td>\n      <td>0</td>\n      <td>0</td>\n      <td>0</td>\n      <td>0</td>\n      <td>0</td>\n      <td>0</td>\n      <td>0</td>\n      <td>...</td>\n      <td>0</td>\n      <td>0</td>\n      <td>0</td>\n      <td>0</td>\n      <td>0</td>\n      <td>0</td>\n      <td>0</td>\n      <td>0</td>\n      <td>0</td>\n      <td>0</td>\n    </tr>\n  </tbody>\n</table>\n<p>2 rows × 785 columns</p>\n</div>"
     },
     "execution_count": 12,
     "metadata": {},
     "output_type": "execute_result"
    }
   ],
   "source": [
    "fmnist.head(2)"
   ],
   "metadata": {
    "collapsed": false,
    "pycharm": {
     "name": "#%%\n"
    }
   }
  },
  {
   "cell_type": "code",
   "execution_count": 13,
   "outputs": [
    {
     "data": {
      "text/plain": "0"
     },
     "execution_count": 13,
     "metadata": {},
     "output_type": "execute_result"
    }
   ],
   "source": [
    "# check for missing values\n",
    "np.isnan(fmnist.values).sum()"
   ],
   "metadata": {
    "collapsed": false,
    "pycharm": {
     "name": "#%%\n"
    }
   }
  },
  {
   "cell_type": "markdown",
   "source": [
    "> #### Observations:\n",
    "> * There are no missing values in the training set."
   ],
   "metadata": {
    "collapsed": false
   }
  },
  {
   "cell_type": "markdown",
   "source": [
    "> ### Exploring Colors of Sample Image"
   ],
   "metadata": {
    "collapsed": false
   }
  },
  {
   "cell_type": "code",
   "execution_count": 14,
   "outputs": [
    {
     "data": {
      "text/plain": "<Figure size 864x504 with 4 Axes>",
      "image/png": "[encoded data removed]"
     },
     "metadata": {},
     "output_type": "display_data"
    }
   ],
   "source": [
    "# sample image\n",
    "some_sample = fmnist.drop('label', axis=1).iloc[0]  # get sample\n",
    "some_sample = np.array(some_sample)  # convert to array\n",
    "some_sample_img = some_sample.reshape(28, 28)  # reshape array\n",
    "\n",
    "# convert sample image from grayscale to black and white\n",
    "# in the fashion mnist dataset- white pixels are 0 and black pixels are 255\n",
    "# the images are grayscale, so values (0,255) are different intensities of gray\n",
    "some_sample_bin = some_sample.copy()  # deep copy of the sample image\n",
    "some_sample_bin[some_sample_bin > 0] = 1  # convert gray intensities to black\n",
    "some_sample_bin_img = some_sample_bin.reshape(28, 28)  # reshape array\n",
    "\n",
    "fig, dx = plt.subplots(2, 2, figsize=(12, 7))\n",
    "\n",
    "# plot grayscale sample image and pixel value occurrences\n",
    "dx[0, 0].imshow(some_sample_img)\n",
    "dx[0, 0].axis('off')\n",
    "dx[0, 0].set_title(\"Original Grayscale Sample\", size=15)\n",
    "dx[0, 1].hist(some_sample, bins=50)\n",
    "dx[0, 1].set_title(\"Grayscale Sample Pixel Value Occurrences\", size=15)\n",
    "dx[0, 1].set_xlabel(\"Pixel Value\")\n",
    "dx[0, 1].set_ylabel(\"Count\")\n",
    "\n",
    "# plot black and white sample image and pixel value occurrences\n",
    "dx[1, 0].imshow(some_sample_bin_img)\n",
    "dx[1, 0].axis('off')\n",
    "dx[1, 0].set_title(\"Black and White Sample\", size=15)\n",
    "dx[1, 1].hist(some_sample_bin, bins=50)\n",
    "dx[1, 1].set_title(\"Black and White Sample Pixel Value Occurrences\", size=15)\n",
    "dx[1, 1].set_xlabel(\"Pixel Value\")\n",
    "dx[1, 1].set_ylabel(\"Count\")\n",
    "\n",
    "plt.tight_layout()\n",
    "plt.show()"
   ],
   "metadata": {
    "collapsed": false,
    "pycharm": {
     "name": "#%%\n"
    }
   }
  },
  {
   "cell_type": "markdown",
   "source": [
    "> #### Observations:\n",
    "* The most common pixel value in the original grayscale image is white (0) and in the binary\n",
    "image is black (1 = 255 in grayscale).\n",
    "* Aside from a few pixels that are detached from the clothing, the black and white pullover resembles\n",
    "the original grayscale shape.\n",
    "* Training models on both options and comparing the results can help determine if transforming the\n",
    "images to black and white is preferable."
   ],
   "metadata": {
    "collapsed": false
   }
  },
  {
   "cell_type": "markdown",
   "source": [
    "> ### Class Comparison"
   ],
   "metadata": {
    "collapsed": false
   }
  },
  {
   "cell_type": "code",
   "execution_count": 15,
   "outputs": [
    {
     "data": {
      "text/plain": "<Figure size 720x504 with 10 Axes>",
      "image/png": "[encoded data removed]"
     },
     "metadata": {},
     "output_type": "display_data"
    }
   ],
   "source": [
    "# plot image for each category\n",
    "\n",
    "# use a dictionary to easily add subplot titles\n",
    "label_dict = {0: \"0 = T-shirt/top\", 1: \"1 = Trouser\", 2: \"2 = Pullover\", 3: \"3 = Dress\", 4: \"4 = Coat\",\n",
    "              5: \"5 = Sandal\", 6: \"6 = Shirt\", 7: \"7 = Sneaker\", 8: \"8 = Bag\", 9: \"9 = Ankle boot\"}\n",
    "\n",
    "fig = plt.figure(figsize=(10, 7))\n",
    "rows = 2\n",
    "columns = 5\n",
    "# use groupby to locate an instance for each label\n",
    "label_groups = fmnist.groupby('label')\n",
    "# add image in each iteration\n",
    "for i in range(rows * columns):\n",
    "    curr = label_groups.get_group(i)[:1]  # get group\n",
    "    curr_img = curr.drop('label', axis=1).to_numpy().reshape(28, 28)  # convert to reshaped array\n",
    "    fig.add_subplot(rows, columns, i + 1)\n",
    "    plt.imshow(curr_img)\n",
    "    plt.axis('off')  # remove grid\n",
    "    plt.title(label_dict[i])  # use dictionary to add subplot title\n",
    "\n",
    "fig.suptitle(\"Fashion-MNIST Samples\", size=25)\n",
    "plt.tight_layout()\n",
    "plt.show()"
   ],
   "metadata": {
    "collapsed": false,
    "pycharm": {
     "name": "#%%\n"
    }
   }
  },
  {
   "cell_type": "code",
   "execution_count": 16,
   "outputs": [
    {
     "data": {
      "text/plain": "<Figure size 864x504 with 10 Axes>",
      "image/png": "[encoded data removed]"
     },
     "metadata": {},
     "output_type": "display_data"
    }
   ],
   "source": [
    "# plot pixel value occurrences for each class\n",
    "\n",
    "fig, dx = plt.subplots(2, 5, figsize=(12, 7), sharey='all')\n",
    "i = 0  # current group label\n",
    "mean_values = []\n",
    "plt.setp(dx, xticks=np.arange(0, 256, step=85))  # set x axis values\n",
    "\n",
    "for row in range(2):\n",
    "    for col in range(5):\n",
    "        pixels = np.array(label_groups.get_group(i).drop(['label'], axis=1))  # get group and convert to array\n",
    "        mean_values.append(pixels.mean())  # calculate mean pixel value and add to list (for next plot)\n",
    "        dx[row, col].hist(pixels.reshape(-1))  # add histogram in each iteration, -1 reshapes to length of array\n",
    "        dx[row, col].set_title(label_dict[i], size=15)  # use dictionary to add subplot title\n",
    "        i = i + 1  # next group\n",
    "\n",
    "fig.suptitle(\"Pixel Occurrences per Class\", size=25)\n",
    "plt.tight_layout()\n",
    "plt.show()"
   ],
   "metadata": {
    "collapsed": false,
    "pycharm": {
     "name": "#%%\n"
    }
   }
  },
  {
   "cell_type": "code",
   "execution_count": 17,
   "outputs": [
    {
     "data": {
      "text/plain": "<Figure size 864x360 with 1 Axes>",
      "image/png": "[encoded data removed]"
     },
     "metadata": {},
     "output_type": "display_data"
    }
   ],
   "source": [
    "# plot mean values calculated in previous cell\n",
    "plt.figure(figsize=(12, 5))\n",
    "sns.barplot(x=np.arange(10), y=mean_values)  # x axis for classes, y axis for mean values\n",
    "plt.xticks(np.arange(10), labels=label_dict.values())  # use dictionary to set x axis values\n",
    "plt.xlabel(\"Class\", size=15)\n",
    "plt.ylabel(\"Mean\", size=15)\n",
    "plt.title(\"Pixel Occurrences per Class Mean\", size=25)\n",
    "plt.tight_layout()\n",
    "plt.show()"
   ],
   "metadata": {
    "collapsed": false,
    "pycharm": {
     "name": "#%%\n"
    }
   }
  },
  {
   "cell_type": "markdown",
   "source": [
    "> #### Observations:\n",
    "* All classes have a majority of white pixel values (0), with the rest scattered in the remaining range.\n",
    "* Aside from the white pixel value, quite a few of the histograms displaying pixel occurrences look like\n",
    "they have a somewhat normal distribution. They are tail-heavy, extending farther to the right.\n",
    "* Any shoe type (classes 5, 7, 9) have the most white pixels, with sandal (class 5) containing the most.\n",
    "This is emphasized most in the pixel occurrences mean plot.\n",
    "* Coats (class 4) and pullovers (class 2) have the highest pixel mean. When looking at the sample\n",
    "images it is noticeable that they fill most of the diagram.\n",
    "* The t-shirt/top (class 0) and shirt (class 6) have extremely similar pixel occurrences.\n",
    "Had the class labels been removed, the graphs would be nearly indistinguishable. We can assume that\n",
    "the models will make mistakes when predicting instances from these two classes."
   ],
   "metadata": {
    "collapsed": false
   }
  },
  {
   "cell_type": "markdown",
   "source": [
    "> ### Analyze and Compare Sample Images of T-shirt/top and Shirt Classes"
   ],
   "metadata": {
    "collapsed": false
   }
  },
  {
   "cell_type": "code",
   "execution_count": 18,
   "outputs": [],
   "source": [
    "# t-shirt/top sample image (class 0)\n",
    "top = label_groups.get_group(0).drop('label', axis=1).iloc[0]  # get t-shirt/top sample\n",
    "top = np.array(top)  # convert to array\n",
    "top_img = top.reshape(28, 28)  # reshape array\n",
    "\n",
    "# convert t-shirt/top sample image from grayscale to black and white\n",
    "top_bin = top.copy()  # deep copy of the t-shirt/top sample image\n",
    "top_bin[top_bin > 0] = 1  # convert gray intensities to black\n",
    "top_bin_img = top_bin.reshape(28, 28)  # reshape array\n",
    "\n",
    "# shirt sample image (class 6)\n",
    "shirt = label_groups.get_group(6).drop('label', axis=1).iloc[0]  # get t-shirt/top sample\n",
    "shirt = np.array(shirt)  # convert to array\n",
    "shirt_img = shirt.reshape(28, 28)  # reshape array\n",
    "\n",
    "# convert shirt sample image from grayscale to black and white\n",
    "shirt_bin = shirt.copy()  # deep copy of the shirt sample image\n",
    "shirt_bin[shirt_bin > 0] = 1  # convert gray intensities to black\n",
    "shirt_bin_img = shirt_bin.reshape(28, 28)  # reshape array"
   ],
   "metadata": {
    "collapsed": false,
    "pycharm": {
     "name": "#%%\n"
    }
   }
  },
  {
   "cell_type": "code",
   "execution_count": 19,
   "outputs": [
    {
     "data": {
      "text/plain": "<Figure size 720x720 with 8 Axes>",
      "image/png": "[encoded data removed]"
     },
     "metadata": {},
     "output_type": "display_data"
    }
   ],
   "source": [
    "fig, dx = plt.subplots(4, 2, figsize=(10, 10))\n",
    "\n",
    "# plot grayscale t-shirt/top sample image and pixel value occurrences\n",
    "dx[0, 0].imshow(top_img)\n",
    "dx[0, 0].axis('off')\n",
    "dx[0, 0].set_title(\"Grayscale T-shirt/top\", size=15)\n",
    "dx[0, 1].hist(top)\n",
    "dx[0, 1].set_title(\"Grayscale T-shirt/top Pixel Value Occurrences\", size=15)\n",
    "dx[0, 1].set_xlabel(\"Pixel Value\")\n",
    "dx[0, 1].set_ylabel(\"Count\")\n",
    "# plot black and white t-shirt/top sample image and pixel value occurrences\n",
    "dx[1, 0].imshow(top_bin_img)\n",
    "dx[1, 0].axis('off')\n",
    "dx[1, 0].set_title(\"Black and White T-shirt/top\", size=15)\n",
    "dx[1, 1].hist(top_bin)\n",
    "dx[1, 1].set_title(\"Black and White T-shirt/top Pixel Value Occurrences\", size=15)\n",
    "dx[1, 1].set_xticks([0, 1])\n",
    "dx[1, 1].set_xlabel(\"Pixel Value\")\n",
    "dx[1, 1].set_ylabel(\"Count\")\n",
    "\n",
    "# plot grayscale shirt sample image and pixel value occurrences\n",
    "dx[2, 0].imshow(shirt_img)\n",
    "dx[2, 0].axis('off')\n",
    "dx[2, 0].set_title(\"Grayscale Shirt\", size=15)\n",
    "dx[2, 1].hist(shirt)\n",
    "dx[2, 1].set_title(\"Grayscale Shirt Pixel Value Occurrences\", size=15)\n",
    "dx[2, 1].set_xlabel(\"Pixel Value\")\n",
    "dx[2, 1].set_ylabel(\"Count\")\n",
    "# plot black and white shirt sample image and pixel value occurrences\n",
    "dx[3, 0].imshow(shirt_bin_img)\n",
    "dx[3, 0].axis('off')\n",
    "dx[3, 0].set_title(\"Black and White Shirt\", size=15)\n",
    "dx[3, 1].hist(shirt_bin)\n",
    "dx[3, 1].set_title(\"Black and White Shirt Pixel Value Occurrences\", size=15)\n",
    "dx[3, 1].set_xticks([0, 1])\n",
    "dx[3, 1].set_xlabel(\"Pixel Value\")\n",
    "dx[3, 1].set_ylabel(\"Count\")\n",
    "\n",
    "plt.tight_layout()\n",
    "plt.show()"
   ],
   "metadata": {
    "collapsed": false,
    "pycharm": {
     "name": "#%%\n"
    }
   }
  },
  {
   "cell_type": "markdown",
   "source": [
    "> #### Observations:\n",
    "* The main difference between the classes are the pixels representing the sleeves.\n",
    "The t-shirt/top has short sleeves and the shirt has long sleeves.\n",
    "* Converting the images to binary shows where the mix-up between the classes might be.\n",
    "The t-shirt has gray pixels that aren't seen in the grayscale image, but stand out in the\n",
    "black and white image. The unseen gray pixels appear where the long sleeves would be-\n",
    "had this been a shirt.\n",
    "* The pixel value occurrences are similar when comparing the black and white images and are\n",
    "spread out differently in the grayscale images."
   ],
   "metadata": {
    "collapsed": false
   }
  },
  {
   "cell_type": "markdown",
   "source": [
    "# 3. Data Cleaning"
   ],
   "metadata": {
    "collapsed": false
   }
  },
  {
   "cell_type": "code",
   "execution_count": 20,
   "outputs": [],
   "source": [
    "# clean copy of the training set\n",
    "df = train_set.copy()"
   ],
   "metadata": {
    "collapsed": false,
    "pycharm": {
     "name": "#%%\n"
    }
   }
  },
  {
   "cell_type": "code",
   "execution_count": 21,
   "outputs": [],
   "source": [
    "# separate features from target values\n",
    "\n",
    "# drop- creates a copy without changing the training set\n",
    "X_train = df.drop('label', axis=1)\n",
    "\n",
    "# create a deep copy of the target values\n",
    "y_train = df['label'].copy()"
   ],
   "metadata": {
    "collapsed": false,
    "pycharm": {
     "name": "#%%\n"
    }
   }
  },
  {
   "cell_type": "markdown",
   "source": [
    "> ### Custom Transformer:\n",
    "> In section 2, I evaluated samples in grayscale and in black and white.\n",
    "> I assumed that converting images to black and white is a worthwhile transformation to look into\n",
    "> and could improve the ML algorithms.\n",
    ">\n",
    "> The following custom transformer automates this process on the entire dataset:\n",
    ">\n",
    ">> The ColorConverter transformer contains the hyperparameter \"is_binary\". It is\n",
    "> set by default to 'False', meaning the samples remain in the original grayscale format.\n",
    "> However, the hyperparameter can be set to 'True' which will convert the images to black\n",
    "> and white.\n",
    ">>\n",
    ">> Adding this transformer will allow to easily switch between the two options during\n",
    "> model training, and determine which one is better."
   ],
   "metadata": {
    "collapsed": false
   }
  },
  {
   "cell_type": "code",
   "execution_count": 22,
   "outputs": [],
   "source": [
    "# custom transformer for converting images to black and white\n",
    "\n",
    "# BaseEstimator for enabling hyperparameters\n",
    "# TransformerMixin adds fit_transform method\n",
    "class ColorConverter(BaseEstimator, TransformerMixin):\n",
    "\n",
    "    def __init__(self, is_binary=False):\n",
    "        self.is_binary = is_binary\n",
    "\n",
    "    def fit(self, X, y=None):\n",
    "        return self\n",
    "\n",
    "    def transform(self, X):\n",
    "        if self.is_binary:\n",
    "            X_binary = X.copy() # deep copy to avoid harming the original data\n",
    "            X_binary[X_binary > 0] = 1 # convert grayscale intensities to black\n",
    "            return X_binary\n",
    "        else:\n",
    "            return X"
   ],
   "metadata": {
    "collapsed": false,
    "pycharm": {
     "name": "#%%\n"
    }
   }
  },
  {
   "cell_type": "markdown",
   "source": [
    "> ### Feature Scaling\n",
    ">\n",
    "> Although the pixel values are in a known range [0,255], scaling the data can make a crucial difference\n",
    "(especially if the learning algorithm relies on calculating distances).\n",
    ">\n",
    ">> Why is this important?\n",
    "* Models can't differentiate feature importance the same way humans can.\n",
    "A training algorithm may assume that a feature containing large numbers is more important than features\n",
    "with smaller numbers- which might not be the case.\n",
    "* Some algorithms converge much faster when features are scaled (i.e. Gradient Descent).\n",
    "* There are ML algorithms that make assumptions on the data (i.e. PCA assumes the data is centered around\n",
    "the origin).\n",
    "\n",
    "\n",
    "> Chosen feature scale:\n",
    ">\n",
    "> Standardizing centers the data so that it has a zero mean and a standard deviation of 1, under the assumption\n",
    "> that the data is normally distributed.\n",
    ">\n",
    "> * The distribution is relatively normal (aside from the white pixels which is highest in all classes).\n",
    "* Using PCA could be useful since the dataset has a large amount of features. As previously stated,\n",
    "PCA assumes the data has zero mean.\n",
    ">\n",
    "> Therefore, standard scaling is the ideal option."
   ],
   "metadata": {
    "collapsed": false
   }
  },
  {
   "cell_type": "code",
   "execution_count": 23,
   "outputs": [],
   "source": [
    "# create transformation pipeline\n",
    "\n",
    "# How to change ColorConverter is_binary hyperparameter:\n",
    "# full_pipeline['clr_convert'].__setattr__('is_binary', True)\n",
    "\n",
    "full_pipeline = Pipeline([\n",
    "    ('clr_convert', ColorConverter()),\n",
    "    ('std_scaler', StandardScaler()),\n",
    "])"
   ],
   "metadata": {
    "collapsed": false,
    "pycharm": {
     "name": "#%%\n"
    }
   }
  },
  {
   "cell_type": "code",
   "execution_count": 24,
   "outputs": [],
   "source": [
    "# transform training data using pipeline\n",
    "X_train_prepared = full_pipeline.fit_transform(X_train)"
   ],
   "metadata": {
    "collapsed": false,
    "pycharm": {
     "name": "#%%\n"
    }
   }
  },
  {
   "cell_type": "markdown",
   "source": [
    "# 4. Training and Evaluating Models"
   ],
   "metadata": {
    "collapsed": false
   }
  },
  {
   "cell_type": "markdown",
   "source": [
    "> As previously mentioned, the number of instances for each class in the training set are equal.\n",
    ">\n",
    "> Chosen evaluation metric:\n",
    ">\n",
    "> Accuracy works well with balanced classification tasks. It is also the most intuitive\n",
    "> metric and is especially easier to understand when dealing with multiclass classification.\n",
    ">> Note:\n",
    "* Accuracy is sensitive to the test size. Therefore, I will use 6 cross-validation folds\n",
    "(total of 10,000 instances in each test fold- matching the test set size).\n",
    "* Since the features consist of pixel values (a fixed range), it is likely that the testing data would fit the\n",
    "transformers nearly the same. This means that cross-validation should give good assessment\n",
    "of the performance on unseen data, even when evaluating only from the fitted and transformed training data."
   ],
   "metadata": {
    "collapsed": false
   }
  },
  {
   "cell_type": "code",
   "execution_count": 25,
   "outputs": [],
   "source": [
    "# function for evaluating cross validation scores and for easy model comparison\n",
    "def display_scores(scores):\n",
    "    print(\"Scores:\", scores)\n",
    "    print(\"Mean:\", round(scores.mean(), 5))\n",
    "    print(\"Standard Deviation:\", round(scores.std(), 5))\n",
    "\n",
    "# function prints accuracy and errors\n",
    "def display_evaluation(actual, pred, print_report=False, print_errors=False):\n",
    "    print(\"Accuracy:\", round(metrics.accuracy_score(actual, pred), 5))\n",
    "    if print_report:\n",
    "        print(metrics.classification_report(actual, pred))\n",
    "    if print_errors:\n",
    "        print(\"Confusion Matrix Errors:\")\n",
    "        conf_mx = metrics.confusion_matrix(actual, pred, labels=range(10))\n",
    "        # confusion matrix rows represent actual class, columns represent predicted class\n",
    "        row_sums = conf_mx.sum(axis=1, keepdims=True) # count sum of instances in each row (per class)\n",
    "        norm_conf_mx = conf_mx / row_sums # divide confusion matrix by number of instances in each class\n",
    "        np.fill_diagonal(norm_conf_mx, 0) # keep errors only by filling diagonal\n",
    "        plt.matshow(norm_conf_mx, cmap=plt.cm.gray) # plot errors in confusion matrix\n",
    "        plt.grid(False)\n",
    "        plt.show()"
   ],
   "metadata": {
    "collapsed": false,
    "pycharm": {
     "name": "#%%\n"
    }
   }
  },
  {
   "cell_type": "markdown",
   "source": [
    "### Shortlist Promising Models:\n",
    "> Trying many models quickly and selecting the ones that show promising results.\n",
    ">\n",
    ">> How I plan to do this:\n",
    "1. Train a baseline model and evaluate sample predictions.\n",
    "2. Use cross-validation and evaluate the scores.\n",
    "3. If the model has a significant hyperparameter, try changing it. Use cross-validation to\n",
    "compare the results to step 2."
   ],
   "metadata": {
    "collapsed": false
   }
  },
  {
   "cell_type": "code",
   "execution_count": 26,
   "outputs": [],
   "source": [
    "# a few instances from the training data for testing\n",
    "some_data = X_train.iloc[:10]\n",
    "some_labels = y_train.iloc[:10]\n",
    "some_data_prepared = full_pipeline.transform(some_data)"
   ],
   "metadata": {
    "collapsed": false,
    "pycharm": {
     "name": "#%%\n"
    }
   }
  },
  {
   "cell_type": "markdown",
   "source": [
    "### Dummy Classifier"
   ],
   "metadata": {
    "collapsed": false,
    "pycharm": {
     "name": "#%% md\n"
    }
   }
  },
  {
   "cell_type": "code",
   "execution_count": 27,
   "outputs": [
    {
     "name": "stdout",
     "output_type": "stream",
     "text": [
      "Accuracy: 0.1021\n",
      "              precision    recall  f1-score   support\n",
      "\n",
      "           0       0.10      0.10      0.10      6000\n",
      "           1       0.10      0.10      0.10      6000\n",
      "           2       0.10      0.10      0.10      6000\n",
      "           3       0.11      0.10      0.10      6000\n",
      "           4       0.11      0.11      0.11      6000\n",
      "           5       0.10      0.10      0.10      6000\n",
      "           6       0.10      0.11      0.11      6000\n",
      "           7       0.10      0.10      0.10      6000\n",
      "           8       0.10      0.10      0.10      6000\n",
      "           9       0.10      0.10      0.10      6000\n",
      "\n",
      "    accuracy                           0.10     60000\n",
      "   macro avg       0.10      0.10      0.10     60000\n",
      "weighted avg       0.10      0.10      0.10     60000\n",
      "\n",
      "Confusion Matrix Errors:\n"
     ]
    },
    {
     "data": {
      "text/plain": "<Figure size 396x396 with 1 Axes>",
      "image/png": "[encoded data removed]"
     },
     "metadata": {},
     "output_type": "display_data"
    }
   ],
   "source": [
    "dummy_clf = DummyClassifier(strategy=\"stratified\", random_state=42)  # stratified uses training set class distribution\n",
    "dummy_clf.fit(X_train_prepared, y_train)\n",
    "dummy_clf_pred = cross_val_predict(dummy_clf, X_train_prepared, y_train, cv=6)\n",
    "display_evaluation(y_train, dummy_clf_pred, True, True)"
   ],
   "metadata": {
    "collapsed": false,
    "pycharm": {
     "name": "#%%\n"
    }
   }
  },
  {
   "cell_type": "markdown",
   "source": [
    "### 1. Logistic Regression: Grayscale"
   ],
   "metadata": {
    "collapsed": false
   }
  },
  {
   "cell_type": "code",
   "execution_count": 28,
   "outputs": [
    {
     "name": "stdout",
     "output_type": "stream",
     "text": [
      "Predictions: [2 9 6 0 3 6 4 5 4 8]\n",
      "Labels: [2, 9, 6, 0, 3, 4, 4, 5, 4, 8]\n"
     ]
    }
   ],
   "source": [
    "# multinomial = softmax regression, used for multiclass\n",
    "# softmax normalizes the total probability to a sum of 1\n",
    "log_reg = LogisticRegression(multi_class='multinomial', random_state=42, n_jobs=-1)\n",
    "# log_reg.fit(X_train_prepared, y_train)\n",
    "# joblib.dump(log_reg, \"FMNIST/models/log_reg_1.pkl\")\n",
    "log_reg = joblib.load(r\"FMNIST/models/log_reg_1.pkl\")\n",
    "\n",
    "print(\"Predictions:\", log_reg.predict(some_data_prepared))\n",
    "print(\"Labels:\", list(some_labels))"
   ],
   "metadata": {
    "collapsed": false,
    "pycharm": {
     "name": "#%%\n"
    }
   }
  },
  {
   "cell_type": "code",
   "execution_count": 29,
   "outputs": [
    {
     "name": "stdout",
     "output_type": "stream",
     "text": [
      "Scores: [0.8562 0.8508 0.8535 0.8499 0.8482 0.8501]\n",
      "Mean: 0.85145\n",
      "Standard Deviation: 0.00264\n"
     ]
    }
   ],
   "source": [
    "# log_reg_scores_1 = cross_val_score(log_reg, X_train_prepared, y_train, scoring='accuracy', cv=6)\n",
    "# joblib.dump(log_reg_scores_1, \"FMNIST/scores/log_reg_scores_1.pkl\")\n",
    "log_reg_scores_1 = joblib.load(r\"FMNIST/scores/log_reg_scores_1.pkl\")\n",
    "display_scores(log_reg_scores_1)"
   ],
   "metadata": {
    "collapsed": false,
    "pycharm": {
     "name": "#%%\n"
    }
   }
  },
  {
   "cell_type": "markdown",
   "source": [
    "### 2. KNN: Grayscale"
   ],
   "metadata": {
    "collapsed": false
   }
  },
  {
   "cell_type": "code",
   "execution_count": 30,
   "outputs": [
    {
     "name": "stdout",
     "output_type": "stream",
     "text": [
      "Predictions: [2 9 6 0 3 4 4 5 4 8]\n",
      "Labels: [2, 9, 6, 0, 3, 4, 4, 5, 4, 8]\n"
     ]
    }
   ],
   "source": [
    "# using default weights (uniform)\n",
    "# using default n_neighbors (n = 5)\n",
    "knn_clf = KNeighborsClassifier(n_jobs=-1)\n",
    "# knn_clf.fit(X_train_prepared, y_train)\n",
    "# joblib.dump(knn_clf, \"FMNIST/models/knn_clf_2.pkl\")\n",
    "knn_clf = joblib.load(r\"FMNIST/models/knn_clf_2.pkl\")\n",
    "\n",
    "print(\"Predictions:\", knn_clf.predict(some_data_prepared))\n",
    "print(\"Labels:\", list(some_labels))"
   ],
   "metadata": {
    "collapsed": false,
    "pycharm": {
     "name": "#%%\n"
    }
   }
  },
  {
   "cell_type": "code",
   "execution_count": 31,
   "outputs": [
    {
     "name": "stdout",
     "output_type": "stream",
     "text": [
      "Scores: [0.8592 0.8537 0.853  0.857  0.8522 0.8528]\n",
      "Mean: 0.85465\n",
      "Standard Deviation: 0.00256\n"
     ]
    }
   ],
   "source": [
    "# knn_scores_2 = cross_val_score(knn_clf, X_train_prepared, y_train, scoring='accuracy', cv=6)\n",
    "# joblib.dump(knn_scores_2, \"FMNIST/scores/knn_scores_2.pkl\")\n",
    "knn_scores_2 = joblib.load(r\"FMNIST/scores/knn_scores_2.pkl\")\n",
    "display_scores(knn_scores_2)"
   ],
   "metadata": {
    "collapsed": false,
    "pycharm": {
     "name": "#%%\n"
    }
   }
  },
  {
   "cell_type": "markdown",
   "source": [
    "### 3. Decision Tree Classifier: Grayscale"
   ],
   "metadata": {
    "collapsed": false
   }
  },
  {
   "cell_type": "code",
   "execution_count": 32,
   "outputs": [
    {
     "name": "stdout",
     "output_type": "stream",
     "text": [
      "Predictions: [2 9 6 0 3 4 4 5 4 8]\n",
      "Labels: [2, 9, 6, 0, 3, 4, 4, 5, 4, 8]\n"
     ]
    }
   ],
   "source": [
    "tree_clf = DecisionTreeClassifier(random_state=42)\n",
    "# tree_clf.fit(X_train_prepared, y_train)\n",
    "# joblib.dump(tree_clf, \"FMNIST/models/tree_clf_3.pkl\")\n",
    "tree_clf = joblib.load(r\"FMNIST/models/tree_clf_3.pkl\")\n",
    "\n",
    "print(\"Predictions:\", tree_clf.predict(some_data_prepared))\n",
    "print(\"Labels:\", list(some_labels))"
   ],
   "metadata": {
    "collapsed": false,
    "pycharm": {
     "name": "#%%\n"
    }
   }
  },
  {
   "cell_type": "code",
   "execution_count": 33,
   "outputs": [
    {
     "name": "stdout",
     "output_type": "stream",
     "text": [
      "Scores: [0.791  0.7946 0.7932 0.7989 0.7962 0.7939]\n",
      "Mean: 0.79463\n",
      "Standard Deviation: 0.00246\n"
     ]
    }
   ],
   "source": [
    "# tree_scores_3 = cross_val_score(tree_clf, X_train_prepared, y_train, scoring='accuracy', cv=6, n_jobs=-1)\n",
    "# joblib.dump(tree_scores_3, \"FMNIST/scores/tree_scores_3.pkl\")\n",
    "tree_scores_3 = joblib.load(r\"FMNIST/scores/tree_scores_3.pkl\")\n",
    "display_scores(tree_scores_3)"
   ],
   "metadata": {
    "collapsed": false,
    "pycharm": {
     "name": "#%%\n"
    }
   }
  },
  {
   "cell_type": "markdown",
   "source": [
    "### 4. Random Forest Classifier: Grayscale"
   ],
   "metadata": {
    "collapsed": false
   }
  },
  {
   "cell_type": "code",
   "execution_count": 34,
   "outputs": [
    {
     "name": "stdout",
     "output_type": "stream",
     "text": [
      "Predictions: [2 9 6 0 3 4 4 5 4 8]\n",
      "Labels: [2, 9, 6, 0, 3, 4, 4, 5, 4, 8]\n"
     ]
    }
   ],
   "source": [
    "rf_clf = RandomForestClassifier(random_state=42, n_jobs=-1)\n",
    "# rf_clf.fit(X_train_prepared, y_train)\n",
    "# joblib.dump(rf_clf, \"FMNIST/models/rf_clf_4.pkl\")\n",
    "rf_clf = joblib.load(r\"FMNIST/models/rf_clf_4.pkl\")\n",
    "\n",
    "print(\"Predictions:\", rf_clf.predict(some_data_prepared))\n",
    "print(\"Labels:\", list(some_labels))"
   ],
   "metadata": {
    "collapsed": false,
    "pycharm": {
     "name": "#%%\n"
    }
   }
  },
  {
   "cell_type": "code",
   "execution_count": 35,
   "outputs": [
    {
     "name": "stdout",
     "output_type": "stream",
     "text": [
      "Scores: [0.8844 0.8805 0.8854 0.8812 0.8776 0.8815]\n",
      "Mean: 0.88177\n",
      "Standard Deviation: 0.00257\n"
     ]
    }
   ],
   "source": [
    "# rf_scores_4 = cross_val_score(rf_clf, X_train_prepared, y_train, scoring='accuracy', cv=6)\n",
    "# joblib.dump(rf_scores_4, \"FMNIST/scores/rf_scores_4.pkl\")\n",
    "rf_scores_4 = joblib.load(r\"FMNIST/scores/rf_scores_4.pkl\")\n",
    "display_scores(rf_scores_4)"
   ],
   "metadata": {
    "collapsed": false,
    "pycharm": {
     "name": "#%%\n"
    }
   }
  },
  {
   "cell_type": "markdown",
   "source": [
    "> ***Before continuing, I will try these 4 models again on the black and white dataset.***"
   ],
   "metadata": {
    "collapsed": false
   }
  },
  {
   "cell_type": "code",
   "execution_count": 36,
   "outputs": [
    {
     "data": {
      "text/plain": "('clr_convert', ColorConverter(is_binary=True))"
     },
     "execution_count": 36,
     "metadata": {},
     "output_type": "execute_result"
    }
   ],
   "source": [
    "# change hyperparameter to black and white images\n",
    "full_pipeline['clr_convert'].__setattr__('is_binary', True)\n",
    "full_pipeline.steps[0] # check that the hyperparameter changed"
   ],
   "metadata": {
    "collapsed": false,
    "pycharm": {
     "name": "#%%\n"
    }
   }
  },
  {
   "cell_type": "code",
   "execution_count": 37,
   "outputs": [],
   "source": [
    "# transform training data using pipeline\n",
    "X_train_prepared2 = full_pipeline.fit_transform(X_train)\n",
    "\n",
    "# a few instances from the training data for testing\n",
    "some_data_prepared2 = full_pipeline.transform(some_data)"
   ],
   "metadata": {
    "collapsed": false,
    "pycharm": {
     "name": "#%%\n"
    }
   }
  },
  {
   "cell_type": "markdown",
   "source": [
    "> Note: Fitting the same model will overwrite the previous fit."
   ],
   "metadata": {
    "collapsed": false
   }
  },
  {
   "cell_type": "markdown",
   "source": [
    "### 5. Logistic Regression: Black and White"
   ],
   "metadata": {
    "collapsed": false
   }
  },
  {
   "cell_type": "code",
   "execution_count": 38,
   "outputs": [
    {
     "name": "stdout",
     "output_type": "stream",
     "text": [
      "Predictions: [6 9 6 0 3 6 4 5 4 8]\n",
      "Labels: [2, 9, 6, 0, 3, 4, 4, 5, 4, 8]\n"
     ]
    }
   ],
   "source": [
    "# log_reg.fit(X_train_prepared2, y_train)\n",
    "# joblib.dump(log_reg, \"FMNIST/models/log_reg_5.pkl\")\n",
    "log_reg = joblib.load(r\"FMNIST/models/log_reg_5.pkl\")\n",
    "\n",
    "print(\"Predictions:\", log_reg.predict(some_data_prepared2))\n",
    "print(\"Labels:\", list(some_labels))"
   ],
   "metadata": {
    "collapsed": false,
    "pycharm": {
     "name": "#%%\n"
    }
   }
  },
  {
   "cell_type": "code",
   "execution_count": 39,
   "outputs": [
    {
     "name": "stdout",
     "output_type": "stream",
     "text": [
      "Scores: [0.8464 0.8427 0.845  0.8391 0.8417 0.8388]\n",
      "Mean: 0.84228\n",
      "Standard Deviation: 0.0028\n"
     ]
    }
   ],
   "source": [
    "# log_reg_scores_5 = cross_val_score(log_reg, X_train_prepared2, y_train, scoring='accuracy', cv=6)\n",
    "# joblib.dump(log_reg_scores_5, \"FMNIST/scores/log_reg_scores_5.pkl\")\n",
    "log_reg_scores_5 = joblib.load(r\"FMNIST/scores/log_reg_scores_5.pkl\")\n",
    "display_scores(log_reg_scores_5)"
   ],
   "metadata": {
    "collapsed": false,
    "pycharm": {
     "name": "#%%\n"
    }
   }
  },
  {
   "cell_type": "markdown",
   "source": [
    "### 6. KNN: Black and White"
   ],
   "metadata": {
    "collapsed": false
   }
  },
  {
   "cell_type": "code",
   "execution_count": 40,
   "outputs": [
    {
     "name": "stdout",
     "output_type": "stream",
     "text": [
      "Predictions: [2 9 6 0 3 6 4 5 4 8]\n",
      "Labels: [2, 9, 6, 0, 3, 4, 4, 5, 4, 8]\n"
     ]
    }
   ],
   "source": [
    "# knn_clf.fit(X_train_prepared2, y_train)\n",
    "# joblib.dump(knn_clf, \"FMNIST/models/knn_clf_6.pkl\")\n",
    "knn_clf = joblib.load(r\"FMNIST/models/knn_clf_6.pkl\")\n",
    "\n",
    "print(\"Predictions:\", knn_clf.predict(some_data_prepared2))\n",
    "print(\"Labels:\", list(some_labels))"
   ],
   "metadata": {
    "collapsed": false,
    "pycharm": {
     "name": "#%%\n"
    }
   }
  },
  {
   "cell_type": "code",
   "execution_count": 41,
   "outputs": [
    {
     "name": "stdout",
     "output_type": "stream",
     "text": [
      "Scores: [0.8404 0.8347 0.839  0.836  0.8359 0.8432]\n",
      "Mean: 0.8382\n",
      "Standard Deviation: 0.00297\n"
     ]
    }
   ],
   "source": [
    "# knn_scores_6 = cross_val_score(knn_clf, X_train_prepared2, y_train, scoring='accuracy', cv=6)\n",
    "# joblib.dump(knn_scores_6, \"FMNIST/scores/knn_scores_6.pkl\")\n",
    "knn_scores_6 = joblib.load(r\"FMNIST/scores/knn_scores_6.pkl\")\n",
    "display_scores(knn_scores_6)"
   ],
   "metadata": {
    "collapsed": false,
    "pycharm": {
     "name": "#%%\n"
    }
   }
  },
  {
   "cell_type": "markdown",
   "source": [
    "### 7. Decision Tree Classifier: Black and White"
   ],
   "metadata": {
    "collapsed": false
   }
  },
  {
   "cell_type": "code",
   "execution_count": 42,
   "outputs": [
    {
     "name": "stdout",
     "output_type": "stream",
     "text": [
      "Predictions: [2 9 6 0 3 4 4 5 4 8]\n",
      "Labels: [2, 9, 6, 0, 3, 4, 4, 5, 4, 8]\n"
     ]
    }
   ],
   "source": [
    "# tree_clf.fit(X_train_prepared2, y_train)\n",
    "# joblib.dump(tree_clf, \"FMNIST/models/tree_clf_7.pkl\")\n",
    "tree_clf = joblib.load(r\"FMNIST/models/tree_clf_7.pkl\")\n",
    "\n",
    "print(\"Predictions:\", tree_clf.predict(some_data_prepared2))\n",
    "print(\"Labels:\", list(some_labels))"
   ],
   "metadata": {
    "collapsed": false,
    "pycharm": {
     "name": "#%%\n"
    }
   }
  },
  {
   "cell_type": "code",
   "execution_count": 43,
   "outputs": [
    {
     "name": "stdout",
     "output_type": "stream",
     "text": [
      "Scores: [0.7935 0.787  0.7935 0.7956 0.7874 0.7887]\n",
      "Mean: 0.79095\n",
      "Standard Deviation: 0.00336\n"
     ]
    }
   ],
   "source": [
    "# tree_scores_7 = cross_val_score(tree_clf, X_train_prepared2, y_train, scoring='accuracy', cv=6, n_jobs=-1)\n",
    "# joblib.dump(tree_scores_7, \"FMNIST/scores/tree_scores_7.pkl\")\n",
    "tree_scores_7 = joblib.load(r\"FMNIST/scores/tree_scores_7.pkl\")\n",
    "display_scores(tree_scores_7)"
   ],
   "metadata": {
    "collapsed": false,
    "pycharm": {
     "name": "#%%\n"
    }
   }
  },
  {
   "cell_type": "markdown",
   "source": [
    "### 8. Random Forest Classifier: Black and White"
   ],
   "metadata": {
    "collapsed": false
   }
  },
  {
   "cell_type": "code",
   "execution_count": 44,
   "outputs": [
    {
     "name": "stdout",
     "output_type": "stream",
     "text": [
      "Predictions: [2 9 6 0 3 4 4 5 4 8]\n",
      "Labels: [2, 9, 6, 0, 3, 4, 4, 5, 4, 8]\n"
     ]
    }
   ],
   "source": [
    "# rf_clf.fit(X_train_prepared2, y_train)\n",
    "# joblib.dump(rf_clf, \"FMNIST/models/rf_clf_8.pkl\")\n",
    "rf_clf = joblib.load(r\"FMNIST/models/rf_clf_8.pkl\")\n",
    "\n",
    "print(\"Predictions:\", rf_clf.predict(some_data_prepared2))\n",
    "print(\"Labels:\", list(some_labels))"
   ],
   "metadata": {
    "collapsed": false,
    "pycharm": {
     "name": "#%%\n"
    }
   }
  },
  {
   "cell_type": "code",
   "execution_count": 45,
   "outputs": [
    {
     "name": "stdout",
     "output_type": "stream",
     "text": [
      "Scores: [0.8801 0.8794 0.8785 0.8792 0.8779 0.8787]\n",
      "Mean: 0.87897\n",
      "Standard Deviation: 0.0007\n"
     ]
    }
   ],
   "source": [
    "# rf_scores_8 = cross_val_score(rf_clf, X_train_prepared2, y_train, scoring='accuracy', cv=6)\n",
    "# joblib.dump(rf_scores_8, \"FMNIST/scores/rf_scores_8.pkl\")\n",
    "rf_scores_8 = joblib.load(r\"FMNIST/scores/rf_scores_8.pkl\")\n",
    "display_scores(rf_scores_8)"
   ],
   "metadata": {
    "collapsed": false,
    "pycharm": {
     "name": "#%%\n"
    }
   }
  },
  {
   "cell_type": "markdown",
   "source": [
    "> #### Observations:\n",
    "* All models performed slightly worse after converting the images to black and white, the mean after cross-validation\n",
    "was lower."
   ],
   "metadata": {
    "collapsed": false
   }
  },
  {
   "cell_type": "markdown",
   "source": [
    "> ### PCA\n",
    ">\n",
    "> PCA is a dimensionality reduction technique that projects the data onto a lower-dimensional hyperplane.\n",
    "> The ideal projection is one that preserves most of the variance with the least amount of\n",
    "> information loss. There are various ways to select the number of principal components/dimensions,\n",
    "> such as plotting the explained variance or measuring the performance of a Machine Learning\n",
    "> algorithm if PCA is used for pre-processing.\n",
    ">\n",
    "> Evaluating the models on both grayscale and black and white images was a vital step. While PCA does improve\n",
    "> training computation time, some data is lost, so it is better to choose the transformation that has better results.\n",
    ">\n",
    "> Therefore, I will use the grayscale images for PCA.\n",
    ">\n",
    ">> #### PCA vs. KMeans:\n",
    "> PCA works well with continuous values such as image pixels.\n",
    "> Furthermore, KMeans clustering is an unsupervised learning technique which outputs new labels according to\n",
    "> the assigned clusters. Since the data labels are specific (i.e. the clothing could have been split into\n",
    "> 5 categories instead of 10: tops, bottoms, dresses, footwear, bags), clustering does not seem to be the best approach\n",
    "> in this case."
   ],
   "metadata": {
    "collapsed": false,
    "pycharm": {
     "name": "#%% md\n"
    }
   }
  },
  {
   "cell_type": "code",
   "execution_count": 46,
   "outputs": [
    {
     "data": {
      "text/plain": "('clr_convert', ColorConverter())"
     },
     "execution_count": 46,
     "metadata": {},
     "output_type": "execute_result"
    }
   ],
   "source": [
    "# change hyperparameter to grayscale images\n",
    "full_pipeline['clr_convert'].__setattr__('is_binary', False)\n",
    "full_pipeline.steps[0]  # check that the hyperparameter changed"
   ],
   "metadata": {
    "collapsed": false,
    "pycharm": {
     "name": "#%%\n"
    }
   }
  },
  {
   "cell_type": "code",
   "execution_count": 47,
   "outputs": [
    {
     "data": {
      "text/plain": "256"
     },
     "execution_count": 47,
     "metadata": {},
     "output_type": "execute_result"
    }
   ],
   "source": [
    "pca = PCA()\n",
    "pca.fit(X_train_prepared)\n",
    "# cumulative sum (increasing by sequential addition) of components\n",
    "cumsum = np.cumsum(pca.explained_variance_ratio_)\n",
    "d = np.argmax(cumsum >= 0.95) + 1\n",
    "d"
   ],
   "metadata": {
    "collapsed": false,
    "pycharm": {
     "name": "#%%\n"
    }
   }
  },
  {
   "cell_type": "code",
   "execution_count": 48,
   "outputs": [
    {
     "data": {
      "text/plain": "<Figure size 576x396 with 1 Axes>",
      "image/png": "[encoded data removed]"
     },
     "metadata": {},
     "output_type": "display_data"
    }
   ],
   "source": [
    "plt.axis([0, 784, 0, 1])  # axis limits\n",
    "plt.plot(cumsum, linewidth=3)\n",
    "plt.xlabel(\"Dimensions\", size=15)\n",
    "plt.ylabel(\"Explained Variance\", size=15)\n",
    "plt.plot([d, d], [0, 0.95], \"k:\")\n",
    "plt.plot([0, d], [0.95, 0.95], \"k:\")\n",
    "plt.tight_layout()\n",
    "plt.show()"
   ],
   "metadata": {
    "collapsed": false,
    "pycharm": {
     "name": "#%%\n"
    }
   }
  },
  {
   "cell_type": "markdown",
   "source": [
    "> #### Choosing the Number of Dimensions:\n",
    "> Using the elbow method, around 95% explained variance is where the graph starts growing slower.\n",
    "> For instance, reducing the dimensions from 784 down to 256 will preserve 95% of the variance with only\n",
    "> a little data loss.\n",
    ">\n",
    "> I will use pipelines and cross-validation to determine the optimal explained variance value."
   ],
   "metadata": {
    "collapsed": false
   }
  },
  {
   "cell_type": "markdown",
   "source": [
    "### 10. Logistic Regression: Grayscale, PCA"
   ],
   "metadata": {
    "collapsed": false
   }
  },
  {
   "cell_type": "markdown",
   "source": [
    "> Before PCA:"
   ],
   "metadata": {
    "collapsed": false
   }
  },
  {
   "cell_type": "code",
   "execution_count": 49,
   "outputs": [
    {
     "name": "stdout",
     "output_type": "stream",
     "text": [
      "Scores: [0.8562 0.8508 0.8535 0.8499 0.8482 0.8501]\n",
      "Mean: 0.85145\n",
      "Standard Deviation: 0.00264\n"
     ]
    }
   ],
   "source": [
    "display_scores(log_reg_scores_1)"
   ],
   "metadata": {
    "collapsed": false,
    "pycharm": {
     "name": "#%%\n"
    }
   }
  },
  {
   "cell_type": "markdown",
   "source": [
    "> After PCA:"
   ],
   "metadata": {
    "collapsed": false
   }
  },
  {
   "cell_type": "code",
   "execution_count": 50,
   "outputs": [],
   "source": [
    "pca_log_reg = Pipeline([\n",
    "    (\"pca\", PCA()),\n",
    "    (\"log_reg\", LogisticRegression(multi_class='multinomial', random_state=42))\n",
    "])\n",
    "\n",
    "param_grid = [{\n",
    "    \"pca__n_components\": [0.9, 0.91, 0.92, 0.93, 0.94, 0.95]\n",
    "}]"
   ],
   "metadata": {
    "collapsed": false,
    "pycharm": {
     "name": "#%%\n"
    }
   }
  },
  {
   "cell_type": "code",
   "execution_count": 51,
   "outputs": [],
   "source": [
    "# pca_log_reg_grid = GridSearchCV(pca_log_reg, param_grid, cv=6, scoring=\"accuracy\", verbose=2, n_jobs=-1)\n",
    "# pca_log_reg_grid.fit(X_train_prepared, y_train)\n",
    "# joblib.dump(pca_log_reg_grid, \"FMNIST/scores/pca_log_reg_grid.pkl\")\n",
    "pca_log_reg_grid = joblib.load(r\"FMNIST/scores/pca_log_reg_grid.pkl\")"
   ],
   "metadata": {
    "collapsed": false,
    "pycharm": {
     "name": "#%%\n"
    }
   }
  },
  {
   "cell_type": "code",
   "execution_count": 52,
   "outputs": [
    {
     "data": {
      "text/plain": "{'pca__n_components': 0.95}"
     },
     "execution_count": 52,
     "metadata": {},
     "output_type": "execute_result"
    }
   ],
   "source": [
    "pca_log_reg_grid.best_params_"
   ],
   "metadata": {
    "collapsed": false,
    "pycharm": {
     "name": "#%%\n"
    }
   }
  },
  {
   "cell_type": "code",
   "execution_count": 53,
   "outputs": [
    {
     "data": {
      "text/plain": "0.8529666666666667"
     },
     "execution_count": 53,
     "metadata": {},
     "output_type": "execute_result"
    }
   ],
   "source": [
    "pca_log_reg_grid.best_score_"
   ],
   "metadata": {
    "collapsed": false,
    "pycharm": {
     "name": "#%%\n"
    }
   }
  },
  {
   "cell_type": "code",
   "execution_count": 54,
   "outputs": [
    {
     "name": "stdout",
     "output_type": "stream",
     "text": [
      "0.84915 {'pca__n_components': 0.9}\n",
      "0.8501833333333333 {'pca__n_components': 0.91}\n",
      "0.8508999999999999 {'pca__n_components': 0.92}\n",
      "0.8514666666666666 {'pca__n_components': 0.93}\n",
      "0.8516333333333334 {'pca__n_components': 0.94}\n",
      "0.8529666666666667 {'pca__n_components': 0.95}\n"
     ]
    }
   ],
   "source": [
    "# show results for each iteration\n",
    "cvres = pca_log_reg_grid.cv_results_\n",
    "for mean_score, params in zip(cvres[\"mean_test_score\"], cvres[\"params\"]):\n",
    "    print(mean_score, params)"
   ],
   "metadata": {
    "collapsed": false,
    "pycharm": {
     "name": "#%%\n"
    }
   }
  },
  {
   "cell_type": "markdown",
   "source": [
    "### 11. Random Forest: Grayscale, PCA"
   ],
   "metadata": {
    "collapsed": false
   }
  },
  {
   "cell_type": "markdown",
   "source": [
    "> Random Forest before PCA:"
   ],
   "metadata": {
    "collapsed": false
   }
  },
  {
   "cell_type": "code",
   "execution_count": 55,
   "outputs": [
    {
     "name": "stdout",
     "output_type": "stream",
     "text": [
      "Scores: [0.8844 0.8805 0.8854 0.8812 0.8776 0.8815]\n",
      "Mean: 0.88177\n",
      "Standard Deviation: 0.00257\n"
     ]
    }
   ],
   "source": [
    "display_scores(rf_scores_4)"
   ],
   "metadata": {
    "collapsed": false,
    "pycharm": {
     "name": "#%%\n"
    }
   }
  },
  {
   "cell_type": "markdown",
   "source": [
    "> Random Forest after PCA:"
   ],
   "metadata": {
    "collapsed": false
   }
  },
  {
   "cell_type": "code",
   "execution_count": 56,
   "outputs": [],
   "source": [
    "pca_rf_clf = Pipeline([\n",
    "    (\"pca\", PCA()),\n",
    "    (\"rf_clf\", RandomForestClassifier(random_state=42, n_jobs=-1))\n",
    "])"
   ],
   "metadata": {
    "collapsed": false,
    "pycharm": {
     "name": "#%%\n"
    }
   }
  },
  {
   "cell_type": "code",
   "execution_count": 57,
   "outputs": [],
   "source": [
    "# pca_rf_clf_grid = GridSearchCV(pca_rf_clf, param_grid, cv=6, scoring=\"accuracy\", verbose=2)\n",
    "# pca_rf_clf_grid.fit(X_train_prepared, y_train)\n",
    "# joblib.dump(pca_rf_clf_grid, \"FMNIST/scores/pca_rf_clf_grid.pkl\")\n",
    "pca_rf_clf_grid = joblib.load(r\"FMNIST/scores/pca_rf_clf_grid.pkl\")"
   ],
   "metadata": {
    "collapsed": false,
    "pycharm": {
     "name": "#%%\n"
    }
   }
  },
  {
   "cell_type": "code",
   "execution_count": 58,
   "outputs": [
    {
     "data": {
      "text/plain": "{'pca__n_components': 0.92}"
     },
     "execution_count": 58,
     "metadata": {},
     "output_type": "execute_result"
    }
   ],
   "source": [
    "pca_rf_clf_grid.best_params_"
   ],
   "metadata": {
    "collapsed": false,
    "pycharm": {
     "name": "#%%\n"
    }
   }
  },
  {
   "cell_type": "code",
   "execution_count": 59,
   "outputs": [
    {
     "data": {
      "text/plain": "0.8665166666666666"
     },
     "execution_count": 59,
     "metadata": {},
     "output_type": "execute_result"
    }
   ],
   "source": [
    "pca_rf_clf_grid.best_score_"
   ],
   "metadata": {
    "collapsed": false,
    "pycharm": {
     "name": "#%%\n"
    }
   }
  },
  {
   "cell_type": "code",
   "execution_count": 60,
   "outputs": [
    {
     "name": "stdout",
     "output_type": "stream",
     "text": [
      "0.8659 {'pca__n_components': 0.9}\n",
      "0.8653166666666667 {'pca__n_components': 0.91}\n",
      "0.8665166666666666 {'pca__n_components': 0.92}\n",
      "0.8648333333333333 {'pca__n_components': 0.93}\n",
      "0.8636666666666667 {'pca__n_components': 0.94}\n",
      "0.8622500000000001 {'pca__n_components': 0.95}\n"
     ]
    }
   ],
   "source": [
    "# show results for each iteration\n",
    "cvres = pca_rf_clf_grid.cv_results_\n",
    "for mean_score, params in zip(cvres[\"mean_test_score\"], cvres[\"params\"]):\n",
    "    print(mean_score, params)"
   ],
   "metadata": {
    "collapsed": false,
    "pycharm": {
     "name": "#%%\n"
    }
   }
  },
  {
   "cell_type": "markdown",
   "source": [
    "> #### Observations:\n",
    "* Logistic Regression had the highest score with 0.95 explained variance, slightly higher than before PCA.\n",
    "* Random Forest had the highest score with 0.92 explained variance, the score is roughly 2% lower than before PCA.\n",
    "* The Random Forest scores were all nearly the same. Meanwhile, the Logistic Regression scores show a downward trend.\n",
    "Choosing 0.91 explained variance seems like a reasonable ratio, preserving most of the data and model accuracy."
   ],
   "metadata": {
    "collapsed": false,
    "pycharm": {
     "name": "#%% md\n"
    }
   }
  },
  {
   "cell_type": "code",
   "execution_count": 61,
   "outputs": [
    {
     "data": {
      "text/plain": "153"
     },
     "execution_count": 61,
     "metadata": {},
     "output_type": "execute_result"
    }
   ],
   "source": [
    "d = np.argmax(cumsum >= 0.91) + 1\n",
    "d"
   ],
   "metadata": {
    "collapsed": false,
    "pycharm": {
     "name": "#%%\n"
    }
   }
  },
  {
   "cell_type": "markdown",
   "source": [
    "> PCA reduces the dimensions from 784 to 153!"
   ],
   "metadata": {
    "collapsed": false,
    "pycharm": {
     "name": "#%% md\n"
    }
   }
  },
  {
   "cell_type": "code",
   "execution_count": 62,
   "outputs": [
    {
     "data": {
      "text/plain": "Pipeline(steps=[('clr_convert', ColorConverter()),\n                ('std_scaler', StandardScaler()),\n                ('pca', PCA(n_components=0.91))])"
     },
     "execution_count": 62,
     "metadata": {},
     "output_type": "execute_result"
    }
   ],
   "source": [
    "# add PCA to pipeline\n",
    "full_pipeline.steps.append(('pca', PCA(n_components=0.91)))\n",
    "full_pipeline"
   ],
   "metadata": {
    "collapsed": false,
    "pycharm": {
     "name": "#%%\n"
    }
   }
  },
  {
   "cell_type": "code",
   "execution_count": 63,
   "outputs": [],
   "source": [
    "# transform data with reduced dimensions\n",
    "X_train_reduced = full_pipeline.fit_transform(X_train, y_train)\n",
    "some_data_reduced = full_pipeline.transform(some_data)"
   ],
   "metadata": {
    "collapsed": false,
    "pycharm": {
     "name": "#%%\n"
    }
   }
  },
  {
   "cell_type": "markdown",
   "source": [
    "### 12. KNN: Grayscale, PCA"
   ],
   "metadata": {
    "collapsed": false
   }
  },
  {
   "cell_type": "code",
   "execution_count": 64,
   "outputs": [
    {
     "name": "stdout",
     "output_type": "stream",
     "text": [
      "Scores: [0.8642 0.8641 0.8612 0.8629 0.8641 0.8595]\n",
      "Mean: 0.86267\n",
      "Standard Deviation: 0.00177\n"
     ]
    }
   ],
   "source": [
    "# knn_scores_12 = cross_val_score(clone(knn_clf), X_train_reduced, y_train, cv=6, scoring='accuracy', verbose=2)\n",
    "# joblib.dump(knn_scores_12, \"FMNIST/scores/knn_scores_12.pkl\")\n",
    "knn_scores_12 = joblib.load(r\"FMNIST/scores/knn_scores_12.pkl\")\n",
    "display_scores(knn_scores_12)"
   ],
   "metadata": {
    "collapsed": false,
    "pycharm": {
     "name": "#%%\n"
    }
   }
  },
  {
   "cell_type": "markdown",
   "source": [
    "### 13. Decision Tree: Grayscale, PCA"
   ],
   "metadata": {
    "collapsed": false
   }
  },
  {
   "cell_type": "code",
   "execution_count": 65,
   "outputs": [
    {
     "name": "stdout",
     "output_type": "stream",
     "text": [
      "Scores: [0.7732 0.7696 0.7677 0.7671 0.7661 0.7608]\n",
      "Mean: 0.76742\n",
      "Standard Deviation: 0.00374\n"
     ]
    }
   ],
   "source": [
    "# tree_scores_13 = cross_val_score(clone(tree_clf), X_train_reduced, y_train, cv=6, scoring='accuracy', n_jobs=-1, verbose=2)\n",
    "# joblib.dump(tree_scores_13, \"FMNIST/scores/tree_scores_13.pkl\")\n",
    "tree_scores_13 = joblib.load(r\"FMNIST/scores/tree_scores_13.pkl\")\n",
    "display_scores(tree_scores_13)"
   ],
   "metadata": {
    "collapsed": false,
    "pycharm": {
     "name": "#%%\n"
    }
   }
  },
  {
   "cell_type": "markdown",
   "source": [
    "### 14. Extra Trees Classifier: Grayscale, PCA\n",
    "> Very similar to the Random Forest classifier. The main difference is that Extra Trees randomly splits\n",
    "> nodes, while Random Forest searches for the best split. Extra Trees is also faster to train due to this.\n",
    ">> Note: Comparing prediction accuracy can help determine which model performs better on the data."
   ],
   "metadata": {
    "collapsed": false
   }
  },
  {
   "cell_type": "code",
   "execution_count": 66,
   "outputs": [
    {
     "name": "stdout",
     "output_type": "stream",
     "text": [
      "Predictions: [2 9 6 0 3 4 4 5 4 8]\n",
      "Labels: [2, 9, 6, 0, 3, 4, 4, 5, 4, 8]\n"
     ]
    }
   ],
   "source": [
    "ex_trees = ExtraTreesClassifier(random_state=42, n_jobs=-1)\n",
    "# ex_trees.fit(X_train_reduced, y_train)\n",
    "# joblib.dump(ex_trees, \"FMNIST/models/ex_trees.pkl\")\n",
    "ex_trees = joblib.load(r\"FMNIST/models/ex_trees.pkl\")\n",
    "\n",
    "print(\"Predictions:\", ex_trees.predict(some_data_reduced))\n",
    "print(\"Labels:\", list(some_labels))"
   ],
   "metadata": {
    "collapsed": false,
    "pycharm": {
     "name": "#%%\n"
    }
   }
  },
  {
   "cell_type": "code",
   "execution_count": 67,
   "outputs": [
    {
     "name": "stdout",
     "output_type": "stream",
     "text": [
      "Scores: [0.8672 0.8663 0.8679 0.8686 0.8667 0.8634]\n",
      "Mean: 0.86668\n",
      "Standard Deviation: 0.00165\n"
     ]
    }
   ],
   "source": [
    "# ex_trees_scores_14 = cross_val_score(ex_trees, X_train_reduced, y_train, cv=6, scoring='accuracy', verbose=2)\n",
    "# joblib.dump(ex_trees_scores_14, \"FMNIST/scores/ex_trees_scores_14.pkl\")\n",
    "ex_trees_scores_14 = joblib.load(r\"FMNIST/scores/ex_trees_scores_14.pkl\")\n",
    "display_scores(ex_trees_scores_14)"
   ],
   "metadata": {
    "collapsed": false,
    "pycharm": {
     "name": "#%%\n"
    }
   }
  },
  {
   "cell_type": "markdown",
   "source": [
    "> Comparing Extra Trees to Random Forest:"
   ],
   "metadata": {
    "collapsed": false
   }
  },
  {
   "cell_type": "code",
   "execution_count": 68,
   "outputs": [
    {
     "name": "stdout",
     "output_type": "stream",
     "text": [
      "Scores: [0.8673 0.8637 0.87   0.8666 0.8628 0.8651]\n",
      "Mean: 0.86592\n",
      "Standard Deviation: 0.00239\n"
     ]
    }
   ],
   "source": [
    "# rf_clf_scores_14 = cross_val_score(clone(rf_clf), X_train_reduced, y_train, cv=6, scoring='accuracy', verbose=2)\n",
    "# joblib.dump(rf_clf_scores_14, \"FMNIST/scores/rf_clf_scores_14.pkl\")\n",
    "rf_clf_scores_14 = joblib.load(r\"FMNIST/scores/rf_clf_scores_14.pkl\")\n",
    "display_scores(rf_clf_scores_14)"
   ],
   "metadata": {
    "collapsed": false,
    "pycharm": {
     "name": "#%%\n"
    }
   }
  },
  {
   "cell_type": "markdown",
   "source": [
    "> #### Observations:\n",
    "* Extra Trees has a higher accuracy and a lower standard deviation, making it more reliable."
   ],
   "metadata": {
    "collapsed": false
   }
  },
  {
   "cell_type": "markdown",
   "source": [
    "### 15. AdaBoost: Grayscale, PCA\n",
    "> The AdaBoost (adaptive boosting) ensemble method trains a weak classifier, then increases the\n",
    "> weights of the misclassified instances and trains another weak classifier on the dataset with the\n",
    "> updated weights.\n",
    ">> Note: The sklearn default algorithm (\"SAMME.R\") is multiclass. SAMME.R uses class probabilities\n",
    ">> and SAMME uses the predicted classes."
   ],
   "metadata": {
    "collapsed": false
   }
  },
  {
   "cell_type": "code",
   "execution_count": 69,
   "outputs": [
    {
     "name": "stdout",
     "output_type": "stream",
     "text": [
      "Predictions: [2 9 6 0 3 4 4 5 4 8]\n",
      "Labels: [2, 9, 6, 0, 3, 4, 4, 5, 4, 8]\n"
     ]
    }
   ],
   "source": [
    "ada_clf = AdaBoostClassifier(DecisionTreeClassifier(), random_state=42)\n",
    "# ada_clf.fit(X_train_reduced, y_train)\n",
    "# joblib.dump(ada_clf, \"FMNIST/models/ada_clf_15.pkl\")\n",
    "ada_clf = joblib.load(r\"FMNIST/models/ada_clf_15.pkl\")\n",
    "\n",
    "print(\"Predictions:\", ada_clf.predict(some_data_reduced))\n",
    "print(\"Labels:\", list(some_labels))"
   ],
   "metadata": {
    "collapsed": false,
    "pycharm": {
     "name": "#%%\n"
    }
   }
  },
  {
   "cell_type": "code",
   "execution_count": 70,
   "outputs": [
    {
     "name": "stdout",
     "output_type": "stream",
     "text": [
      "Scores: [0.7726 0.7668 0.7652 0.771  0.7664 0.7637]\n",
      "Mean: 0.76762\n",
      "Standard Deviation: 0.00315\n"
     ]
    }
   ],
   "source": [
    "# ada_scores_15 = cross_val_score(ada_clf, X_train_reduced, y_train, cv=6, scoring='accuracy', n_jobs=-1, verbose=2)\n",
    "# joblib.dump(ada_scores_15, \"FMNIST/scores/ada_scores_15.pkl\")\n",
    "ada_scores_15 = joblib.load(r\"FMNIST/scores/ada_scores_15.pkl\")\n",
    "display_scores(ada_scores_15)"
   ],
   "metadata": {
    "collapsed": false,
    "pycharm": {
     "name": "#%%\n"
    }
   }
  },
  {
   "cell_type": "markdown",
   "source": [
    "### 16. XGBoost: Grayscale, PCA\n",
    "> The Gradient Boosting ensemble method adds predictors by fitting a weak classifier to the errors\n",
    "> made by the previous classifiers, then making predictions on the combined classifiers.\n",
    ">> Note: XGBoost (extreme gradient boosting) is a separate library from sklearn\n",
    "> that contains an optimized version of gradient boosting."
   ],
   "metadata": {
    "collapsed": false
   }
  },
  {
   "cell_type": "code",
   "execution_count": 71,
   "outputs": [
    {
     "name": "stdout",
     "output_type": "stream",
     "text": [
      "Predictions: [2 9 6 0 3 4 4 5 4 8]\n",
      "Labels: [2, 9, 6, 0, 3, 4, 4, 5, 4, 8]\n"
     ]
    }
   ],
   "source": [
    "# xgb_clf = XGBClassifier(random_state=42, n_jobs=-1, eval_metric='merror', objective='multi:softmax',\n",
    "#                        num_class=10, use_label_encoder=False)\n",
    "# xgb_clf.fit(X_train_reduced, y_train)\n",
    "# joblib.dump(xgb_clf, \"FMNIST/models/xgb_clf_16.pkl\")\n",
    "xgb_clf = joblib.load(r\"FMNIST/models/xgb_clf_16.pkl\")\n",
    "\n",
    "print(\"Predictions:\", xgb_clf.predict(some_data_reduced))\n",
    "print(\"Labels:\", list(some_labels))"
   ],
   "metadata": {
    "collapsed": false,
    "pycharm": {
     "name": "#%%\n"
    }
   }
  },
  {
   "cell_type": "code",
   "execution_count": 72,
   "outputs": [
    {
     "data": {
      "text/plain": "99"
     },
     "execution_count": 72,
     "metadata": {},
     "output_type": "execute_result"
    }
   ],
   "source": [
    "xgb_clf.best_iteration"
   ],
   "metadata": {
    "collapsed": false,
    "pycharm": {
     "name": "#%%\n"
    }
   }
  },
  {
   "cell_type": "code",
   "execution_count": 73,
   "outputs": [],
   "source": [
    "params = {\n",
    "    \"objective\": \"multi:softmax\",\n",
    "    \"num_class\": 10,\n",
    "    \"eval_metric\": \"merror\"  # merror rate = 1-accuracy, m stands for multiclass\n",
    "}\n",
    "\n",
    "# dmatrix is a data structure used by the XGBoost library that optimizes performance\n",
    "# it is needed when using the XGBoost library cross-validation\n",
    "dmat_train = DMatrix(X_train_reduced, y_train)"
   ],
   "metadata": {
    "collapsed": false,
    "pycharm": {
     "name": "#%%\n"
    }
   }
  },
  {
   "cell_type": "code",
   "execution_count": 74,
   "outputs": [],
   "source": [
    "# xgb_scores_16 = cv(params, dmat_train, num_boost_round=100, nfold=6,\n",
    "#                   early_stopping_rounds=5, seed=42, metrics=\"merror\", verbose_eval=True)\n",
    "# joblib.dump(xgb_scores_16, \"FMNIST/scores/xgb_scores_16.pkl\")\n",
    "xgb_scores_16 = joblib.load(r\"FMNIST/scores/xgb_scores_16.pkl\")"
   ],
   "metadata": {
    "collapsed": false,
    "pycharm": {
     "name": "#%%\n"
    }
   }
  },
  {
   "cell_type": "code",
   "execution_count": 75,
   "outputs": [
    {
     "data": {
      "text/plain": "99"
     },
     "execution_count": 75,
     "metadata": {},
     "output_type": "execute_result"
    }
   ],
   "source": [
    "curr_min = xgb_scores_16[\"test-merror-mean\"].argmin()\n",
    "curr_min"
   ],
   "metadata": {
    "collapsed": false,
    "pycharm": {
     "name": "#%%\n"
    }
   }
  },
  {
   "cell_type": "code",
   "execution_count": 76,
   "outputs": [
    {
     "data": {
      "text/plain": "<Figure size 504x360 with 1 Axes>",
      "image/png": "[encoded data removed]"
     },
     "metadata": {},
     "output_type": "display_data"
    }
   ],
   "source": [
    "# plot classification errors from cross-validation\n",
    "plt.figure(figsize=(7, 5))\n",
    "sns.lineplot(data=[xgb_scores_16[\"test-merror-mean\"], xgb_scores_16[\"train-merror-mean\"]])\n",
    "plt.xlabel(\"number of estimators\")\n",
    "plt.ylabel(\"classification error rate\")\n",
    "plt.title(\"XGBoost Classification Errors\", size=15)\n",
    "plt.tight_layout()\n",
    "plt.show()"
   ],
   "metadata": {
    "collapsed": false,
    "pycharm": {
     "name": "#%%\n"
    }
   }
  },
  {
   "cell_type": "code",
   "execution_count": 77,
   "outputs": [
    {
     "data": {
      "text/plain": "0.8831333333333333"
     },
     "execution_count": 77,
     "metadata": {},
     "output_type": "execute_result"
    }
   ],
   "source": [
    "# best accuracy\n",
    "1 - xgb_scores_16[\"test-merror-mean\"][curr_min]"
   ],
   "metadata": {
    "collapsed": false,
    "pycharm": {
     "name": "#%%\n"
    }
   }
  },
  {
   "cell_type": "markdown",
   "source": [
    "> #### Observations:\n",
    "* So far, the minimum errors are with 100 estimators. The errors only decreased, so during hyperparameter\n",
    "tuning larger parameters should be tested."
   ],
   "metadata": {
    "collapsed": false
   }
  },
  {
   "cell_type": "markdown",
   "source": [
    "> #### Looking Back:\n",
    "* The best models (from lowest to highest scores): Logistic Regression, KNN, Extra Trees and XGBoost.\n",
    "* Decision Tree and AdaBoost models had the lowest performance, both below 80% accuracy.\n",
    ">\n",
    "> The pre-processing steps and baseline models have been analyzed.\n",
    "> The next step is to find the finest hyperparameters for the best models."
   ],
   "metadata": {
    "collapsed": false
   }
  },
  {
   "cell_type": "markdown",
   "source": [
    "### Fine-Tune Logistic Regression"
   ],
   "metadata": {
    "collapsed": false
   }
  },
  {
   "cell_type": "code",
   "execution_count": 78,
   "outputs": [
    {
     "name": "stdout",
     "output_type": "stream",
     "text": [
      "Accuracy: 0.85042\n"
     ]
    }
   ],
   "source": [
    "# predict accuracy and plot errors before tuning\n",
    "\n",
    "# log_reg_pred = cross_val_predict(log_reg, X_train_reduced, y_train, cv=6, verbose=2, n_jobs=-1)\n",
    "# joblib.dump(log_reg_pred, \"FMNIST/pred/ log_reg_pred.pkl\")\n",
    "log_reg_pred = joblib.load(r\"FMNIST/pred/ log_reg_pred.pkl\")\n",
    "display_evaluation(y_train, log_reg_pred)"
   ],
   "metadata": {
    "collapsed": false,
    "pycharm": {
     "name": "#%%\n"
    }
   }
  },
  {
   "cell_type": "markdown",
   "source": [
    "> * When the Logistic Regression parameter 'multi_class' is set to 'multinomial', it is using Softmax Regression\n",
    "which is optimized for multi-class inputs. Simply put, it estimates the probability that an instance belongs\n",
    "to each class and predicts the highest one. The sum of all probabilities is equal to 1.\n",
    "* Another approach: One-vs-One and One-vs-Rest wrapper methods.\n",
    ">\n",
    "> I'll search for the best hyperparameters, then try applying the best estimator with the wrapper methods."
   ],
   "metadata": {
    "collapsed": false
   }
  },
  {
   "cell_type": "markdown",
   "source": [
    "> Tuning solver and penalty:"
   ],
   "metadata": {
    "collapsed": false
   }
  },
  {
   "cell_type": "code",
   "execution_count": 79,
   "outputs": [],
   "source": [
    "# both sag and saga solvers work well with large datasets and multiclass\n",
    "# they are a variation of gradient descent\n",
    "# convergence is faster when the data is scaled\n",
    "\n",
    "param_grid = [{\n",
    "    \"solver\": [\"sag\", \"saga\"]  # sag = stochastic average gradient, saga = variant of sag solver\n",
    "}]"
   ],
   "metadata": {
    "collapsed": false,
    "pycharm": {
     "name": "#%%\n"
    }
   }
  },
  {
   "cell_type": "code",
   "execution_count": 80,
   "outputs": [],
   "source": [
    "# log_reg = LogisticRegression(multi_class='multinomial', random_state=42)\n",
    "# log_reg_cv = GridSearchCV(log_reg, param_grid, cv=6, scoring='accuracy', n_jobs=-1, verbose=2)\n",
    "# log_reg_cv.fit(X_train_reduced, y_train)\n",
    "# joblib.dump(log_reg_cv, \"FMNIST/scores/log_reg_cv.pkl\") # save local copy\n",
    "log_reg_cv = joblib.load(r\"FMNIST/scores/log_reg_cv.pkl\")"
   ],
   "metadata": {
    "collapsed": false,
    "pycharm": {
     "name": "#%%\n"
    }
   }
  },
  {
   "cell_type": "code",
   "execution_count": 81,
   "outputs": [
    {
     "data": {
      "text/plain": "0.8497166666666667"
     },
     "execution_count": 81,
     "metadata": {},
     "output_type": "execute_result"
    }
   ],
   "source": [
    "# show the best score\n",
    "log_reg_cv.best_score_"
   ],
   "metadata": {
    "collapsed": false,
    "pycharm": {
     "name": "#%%\n"
    }
   }
  },
  {
   "cell_type": "code",
   "execution_count": 82,
   "outputs": [
    {
     "data": {
      "text/plain": "LogisticRegression(multi_class='multinomial', random_state=42, solver='sag')"
     },
     "execution_count": 82,
     "metadata": {},
     "output_type": "execute_result"
    }
   ],
   "source": [
    "# best estimator\n",
    "log_reg2 = log_reg_cv.best_estimator_\n",
    "log_reg2"
   ],
   "metadata": {
    "collapsed": false,
    "pycharm": {
     "name": "#%%\n"
    }
   }
  },
  {
   "cell_type": "code",
   "execution_count": 83,
   "outputs": [
    {
     "name": "stdout",
     "output_type": "stream",
     "text": [
      "0.8497166666666667 {'solver': 'sag'}\n",
      "0.8479666666666666 {'solver': 'saga'}\n"
     ]
    }
   ],
   "source": [
    "# show results for each iteration\n",
    "cvres = log_reg_cv.cv_results_\n",
    "for mean_score, params in zip(cvres[\"mean_test_score\"], cvres[\"params\"]):\n",
    "    print(mean_score, params)"
   ],
   "metadata": {
    "collapsed": false,
    "pycharm": {
     "name": "#%%\n"
    }
   }
  },
  {
   "cell_type": "code",
   "execution_count": 84,
   "outputs": [],
   "source": [
    "param_grid = [{\n",
    "    \"C\": [0.001, 0.01, 0.1, 0.2, 0.3, 0.4, 0.5, 0.6, 0.7]  # C controls regularization,\n",
    "    # light penalty if close to 1.0, strong penalty if close to 0.0\n",
    "}]"
   ],
   "metadata": {
    "collapsed": false,
    "pycharm": {
     "name": "#%%\n"
    }
   }
  },
  {
   "cell_type": "code",
   "execution_count": 85,
   "outputs": [],
   "source": [
    "# log_reg_cv2 = GridSearchCV(log_reg2, param_grid, cv=6, scoring='accuracy', n_jobs=-1, verbose=2)\n",
    "# log_reg_cv2.fit(X_train_reduced, y_train)\n",
    "# joblib.dump(log_reg_cv2, \"FMNIST/scores/log_reg_cv2.pkl\")\n",
    "log_reg_cv2 = joblib.load(r\"FMNIST/scores/log_reg_cv2.pkl\")"
   ],
   "metadata": {
    "collapsed": false,
    "pycharm": {
     "name": "#%%\n"
    }
   }
  },
  {
   "cell_type": "code",
   "execution_count": 86,
   "outputs": [
    {
     "data": {
      "text/plain": "0.8497666666666667"
     },
     "execution_count": 86,
     "metadata": {},
     "output_type": "execute_result"
    }
   ],
   "source": [
    "# show the best score\n",
    "log_reg_cv2.best_score_"
   ],
   "metadata": {
    "collapsed": false,
    "pycharm": {
     "name": "#%%\n"
    }
   }
  },
  {
   "cell_type": "code",
   "execution_count": 87,
   "outputs": [
    {
     "data": {
      "text/plain": "LogisticRegression(C=0.5, multi_class='multinomial', random_state=42,\n                   solver='sag')"
     },
     "execution_count": 87,
     "metadata": {},
     "output_type": "execute_result"
    }
   ],
   "source": [
    "# best estimator\n",
    "log_reg3 = log_reg_cv2.best_estimator_\n",
    "log_reg3"
   ],
   "metadata": {
    "collapsed": false,
    "pycharm": {
     "name": "#%%\n"
    }
   }
  },
  {
   "cell_type": "code",
   "execution_count": 88,
   "outputs": [
    {
     "name": "stdout",
     "output_type": "stream",
     "text": [
      "0.8425333333333334 {'C': 0.001}\n",
      "0.8489000000000001 {'C': 0.01}\n",
      "0.8497166666666667 {'C': 0.1}\n",
      "0.8497333333333335 {'C': 0.2}\n",
      "0.8497166666666667 {'C': 0.3}\n",
      "0.8497166666666667 {'C': 0.4}\n",
      "0.8497666666666667 {'C': 0.5}\n",
      "0.8497500000000001 {'C': 0.6}\n",
      "0.8497499999999999 {'C': 0.7}\n"
     ]
    }
   ],
   "source": [
    "# show results for each iteration\n",
    "cvres = log_reg_cv2.cv_results_\n",
    "for mean_score, params in zip(cvres[\"mean_test_score\"], cvres[\"params\"]):\n",
    "    print(mean_score, params)"
   ],
   "metadata": {
    "collapsed": false,
    "pycharm": {
     "name": "#%%\n"
    }
   }
  },
  {
   "cell_type": "markdown",
   "source": [
    "> ### One-vs-Rest:\n",
    "> In this method, a binary classifier is trained for each class (10 in this case). The highest decision\n",
    "> score out of all the classifiers is the predicted class."
   ],
   "metadata": {
    "collapsed": false
   }
  },
  {
   "cell_type": "code",
   "execution_count": 89,
   "outputs": [
    {
     "name": "stdout",
     "output_type": "stream",
     "text": [
      "Scores: [0.846  0.8405 0.8426 0.8392 0.8406 0.8386]\n",
      "Mean: 0.84125\n",
      "Standard Deviation: 0.00247\n"
     ]
    }
   ],
   "source": [
    "ovr = OneVsRestClassifier(clone(log_reg3), n_jobs=-1)\n",
    "# ovr_scores = cross_val_score(ovr, X_train_reduced, y_train, scoring='accuracy', cv=6, n_jobs=-1)\n",
    "# joblib.dump(ovr_scores, \"FMNIST/scores/ovr_scores.pkl\")\n",
    "ovr_scores = joblib.load(r\"FMNIST/scores/ovr_scores.pkl\")\n",
    "display_scores(ovr_scores)"
   ],
   "metadata": {
    "collapsed": false,
    "pycharm": {
     "name": "#%%\n"
    }
   }
  },
  {
   "cell_type": "markdown",
   "source": [
    "> ### One-vs-One:\n",
    "> In this method, a binary classifier is trained for every pair of labels. Although more classifiers\n",
    "> are trained using this method, each needs to be trained only on the instances that represent the two\n",
    "> classes."
   ],
   "metadata": {
    "collapsed": false
   }
  },
  {
   "cell_type": "code",
   "execution_count": 90,
   "outputs": [
    {
     "name": "stdout",
     "output_type": "stream",
     "text": [
      "Scores: [0.8647 0.8575 0.8597 0.8578 0.859  0.8579]\n",
      "Mean: 0.85943\n",
      "Standard Deviation: 0.00247\n"
     ]
    }
   ],
   "source": [
    "ovo = OneVsOneClassifier(clone(log_reg3), n_jobs=-1)\n",
    "# ovo_scores = cross_val_score(ovo, X_train_reduced, y_train, scoring='accuracy', cv=6, n_jobs=-1)\n",
    "# joblib.dump(ovo_scores, \"FMNIST/scores/ovo_scores.pkl\")\n",
    "ovo_scores = joblib.load(r\"FMNIST/scores/ovo_scores.pkl\")\n",
    "display_scores(ovo_scores)"
   ],
   "metadata": {
    "collapsed": false,
    "pycharm": {
     "name": "#%%\n"
    }
   }
  },
  {
   "cell_type": "markdown",
   "source": [
    "> **Final Logistic Regression model:** OvO Logistic Regression, using sag solver, l2 norm and 0.5 penalty."
   ],
   "metadata": {
    "collapsed": false
   }
  },
  {
   "cell_type": "code",
   "execution_count": 91,
   "outputs": [
    {
     "name": "stdout",
     "output_type": "stream",
     "text": [
      "Accuracy: 0.85943\n",
      "              precision    recall  f1-score   support\n",
      "\n",
      "           0       0.80      0.83      0.82      6000\n",
      "           1       0.97      0.96      0.97      6000\n",
      "           2       0.77      0.75      0.76      6000\n",
      "           3       0.85      0.88      0.86      6000\n",
      "           4       0.75      0.78      0.76      6000\n",
      "           5       0.95      0.94      0.94      6000\n",
      "           6       0.66      0.60      0.63      6000\n",
      "           7       0.92      0.94      0.93      6000\n",
      "           8       0.95      0.95      0.95      6000\n",
      "           9       0.96      0.95      0.95      6000\n",
      "\n",
      "    accuracy                           0.86     60000\n",
      "   macro avg       0.86      0.86      0.86     60000\n",
      "weighted avg       0.86      0.86      0.86     60000\n",
      "\n"
     ]
    }
   ],
   "source": [
    "# predict accuracy and plot errors after tuning\n",
    "\n",
    "# log_reg_final_pred = cross_val_predict(ovo, X_train_reduced, y_train, cv=6, verbose=2)\n",
    "# joblib.dump(log_reg_final_pred, \"FMNIST/pred/log_reg_final_pred.pkl\")\n",
    "log_reg_final_pred = joblib.load(r\"FMNIST/pred/log_reg_final_pred.pkl\")\n",
    "display_evaluation(y_train, log_reg_final_pred, True)"
   ],
   "metadata": {
    "collapsed": false,
    "pycharm": {
     "name": "#%%\n"
    }
   }
  },
  {
   "cell_type": "markdown",
   "source": [
    "### Fine-Tune KNN"
   ],
   "metadata": {
    "collapsed": false
   }
  },
  {
   "cell_type": "code",
   "execution_count": 92,
   "outputs": [
    {
     "name": "stdout",
     "output_type": "stream",
     "text": [
      "Accuracy: 0.86267\n"
     ]
    }
   ],
   "source": [
    "# predict accuracy and plot errors before tuning\n",
    "\n",
    "# knn_clf_pred = cross_val_predict(knn_clf, X_train_reduced, y_train, cv=6, verbose=2, n_jobs=-1)\n",
    "# joblib.dump(knn_clf_pred, \"FMNIST/pred/knn_clf_pred.pkl\")\n",
    "knn_clf_pred = joblib.load(r\"FMNIST/pred/knn_clf_pred.pkl\")\n",
    "display_evaluation(y_train, knn_clf_pred)"
   ],
   "metadata": {
    "collapsed": false,
    "pycharm": {
     "name": "#%%\n"
    }
   }
  },
  {
   "cell_type": "markdown",
   "source": [
    "> KNN does not output probabilities, which means that it can only be used for hard voting.\n",
    "In this case, One-vs-Rest, One-vs-One, and a 'soft' Voting Classifier can not be used."
   ],
   "metadata": {
    "collapsed": false
   }
  },
  {
   "cell_type": "markdown",
   "source": [
    "> Tuning weights and penalty:"
   ],
   "metadata": {
    "collapsed": false
   }
  },
  {
   "cell_type": "code",
   "execution_count": 93,
   "outputs": [],
   "source": [
    "param_grid = [{\n",
    "    \"weights\": ['uniform', 'distance'],\n",
    "    \"p\": [1, 2]\n",
    "}]"
   ],
   "metadata": {
    "collapsed": false,
    "pycharm": {
     "name": "#%%\n"
    }
   }
  },
  {
   "cell_type": "code",
   "execution_count": 94,
   "outputs": [],
   "source": [
    "# knn_clf_cv = GridSearchCV(KNeighborsClassifier(), param_grid, cv=6, scoring='accuracy', n_jobs=-1, verbose=2)\n",
    "# knn_clf_cv.fit(X_train_reduced, y_train)\n",
    "# joblib.dump(knn_clf_cv, \"FMNIST/scores/knn_clf_cv.pkl\")\n",
    "knn_clf_cv = joblib.load(r\"FMNIST/scores/knn_clf_cv.pkl\")"
   ],
   "metadata": {
    "collapsed": false,
    "pycharm": {
     "name": "#%%\n"
    }
   }
  },
  {
   "cell_type": "code",
   "execution_count": 95,
   "outputs": [
    {
     "data": {
      "text/plain": "0.8694000000000001"
     },
     "execution_count": 95,
     "metadata": {},
     "output_type": "execute_result"
    }
   ],
   "source": [
    "# show the best score\n",
    "knn_clf_cv.best_score_"
   ],
   "metadata": {
    "collapsed": false,
    "pycharm": {
     "name": "#%%\n"
    }
   }
  },
  {
   "cell_type": "code",
   "execution_count": 96,
   "outputs": [
    {
     "data": {
      "text/plain": "KNeighborsClassifier(p=1, weights='distance')"
     },
     "execution_count": 96,
     "metadata": {},
     "output_type": "execute_result"
    }
   ],
   "source": [
    "# best estimator\n",
    "knn_clf2 = knn_clf_cv.best_estimator_\n",
    "knn_clf2"
   ],
   "metadata": {
    "collapsed": false,
    "pycharm": {
     "name": "#%%\n"
    }
   }
  },
  {
   "cell_type": "code",
   "execution_count": 97,
   "outputs": [
    {
     "name": "stdout",
     "output_type": "stream",
     "text": [
      "0.8670666666666667 {'p': 1, 'weights': 'uniform'}\n",
      "0.8694000000000001 {'p': 1, 'weights': 'distance'}\n",
      "0.8626666666666666 {'p': 2, 'weights': 'uniform'}\n",
      "0.8641166666666668 {'p': 2, 'weights': 'distance'}\n"
     ]
    }
   ],
   "source": [
    "# show results for each iteration\n",
    "cvres = knn_clf_cv.cv_results_\n",
    "for mean_score, params in zip(cvres[\"mean_test_score\"], cvres[\"params\"]):\n",
    "    print(mean_score, params)"
   ],
   "metadata": {
    "collapsed": false,
    "pycharm": {
     "name": "#%%\n"
    }
   }
  },
  {
   "cell_type": "markdown",
   "source": [
    "> Tuning number of neighbors:\n",
    ">> Note: There is an even number of classes. It is better to choose an odd number of neighbors to\n",
    ">> prevent ties."
   ],
   "metadata": {
    "collapsed": false
   }
  },
  {
   "cell_type": "code",
   "execution_count": 98,
   "outputs": [],
   "source": [
    "param_grid = [{\n",
    "    \"n_neighbors\": [3, 5, 7, 9, 11, 13, 15]\n",
    "}]"
   ],
   "metadata": {
    "collapsed": false,
    "pycharm": {
     "name": "#%%\n"
    }
   }
  },
  {
   "cell_type": "code",
   "execution_count": 99,
   "outputs": [],
   "source": [
    "# knn_clf_cv2 = GridSearchCV(knn_clf2, param_grid, cv=6, scoring='accuracy', n_jobs=-1, verbose=2)\n",
    "# knn_clf_cv2.fit(X_train_reduced, y_train)\n",
    "# joblib.dump(knn_clf_cv2, \"FMNIST/scores/knn_clf_cv2.pkl\")\n",
    "knn_clf_cv2 = joblib.load(r\"FMNIST/scores/knn_clf_cv2.pkl\")"
   ],
   "metadata": {
    "collapsed": false,
    "pycharm": {
     "name": "#%%\n"
    }
   }
  },
  {
   "cell_type": "code",
   "execution_count": 100,
   "outputs": [
    {
     "data": {
      "text/plain": "0.8694000000000001"
     },
     "execution_count": 100,
     "metadata": {},
     "output_type": "execute_result"
    }
   ],
   "source": [
    "# show the best score\n",
    "knn_clf_cv2.best_score_"
   ],
   "metadata": {
    "collapsed": false,
    "pycharm": {
     "name": "#%%\n"
    }
   }
  },
  {
   "cell_type": "code",
   "execution_count": 101,
   "outputs": [
    {
     "data": {
      "text/plain": "KNeighborsClassifier(p=1, weights='distance')"
     },
     "execution_count": 101,
     "metadata": {},
     "output_type": "execute_result"
    }
   ],
   "source": [
    "# best estimator\n",
    "knn_clf3 = knn_clf_cv2.best_estimator_\n",
    "knn_clf3"
   ],
   "metadata": {
    "collapsed": false,
    "pycharm": {
     "name": "#%%\n"
    }
   }
  },
  {
   "cell_type": "code",
   "execution_count": 102,
   "outputs": [
    {
     "name": "stdout",
     "output_type": "stream",
     "text": [
      "0.8655333333333334 {'n_neighbors': 3}\n",
      "0.8694000000000001 {'n_neighbors': 5}\n",
      "0.8691166666666668 {'n_neighbors': 7}\n",
      "0.8675833333333333 {'n_neighbors': 9}\n",
      "0.8665666666666668 {'n_neighbors': 11}\n",
      "0.8644999999999999 {'n_neighbors': 13}\n",
      "0.8638666666666666 {'n_neighbors': 15}\n"
     ]
    }
   ],
   "source": [
    "# show results for each iteration\n",
    "cvres = knn_clf_cv2.cv_results_\n",
    "for mean_score, params in zip(cvres[\"mean_test_score\"], cvres[\"params\"]):\n",
    "    print(mean_score, params)"
   ],
   "metadata": {
    "collapsed": false,
    "pycharm": {
     "name": "#%%\n"
    }
   }
  },
  {
   "cell_type": "markdown",
   "source": [
    "> **Final KNN model:** Distance weights, l1 norm and 5 neighbors.\n",
    ">> The final KNN model has a slightly higher accuracy than the final Logistic Regression model!"
   ],
   "metadata": {
    "collapsed": false
   }
  },
  {
   "cell_type": "code",
   "execution_count": 103,
   "outputs": [
    {
     "name": "stdout",
     "output_type": "stream",
     "text": [
      "Accuracy: 0.8694\n",
      "              precision    recall  f1-score   support\n",
      "\n",
      "           0       0.80      0.86      0.83      6000\n",
      "           1       0.99      0.97      0.98      6000\n",
      "           2       0.80      0.77      0.79      6000\n",
      "           3       0.90      0.89      0.90      6000\n",
      "           4       0.76      0.80      0.78      6000\n",
      "           5       0.98      0.90      0.94      6000\n",
      "           6       0.66      0.65      0.65      6000\n",
      "           7       0.91      0.95      0.93      6000\n",
      "           8       0.98      0.94      0.96      6000\n",
      "           9       0.92      0.96      0.94      6000\n",
      "\n",
      "    accuracy                           0.87     60000\n",
      "   macro avg       0.87      0.87      0.87     60000\n",
      "weighted avg       0.87      0.87      0.87     60000\n",
      "\n"
     ]
    }
   ],
   "source": [
    "# predict accuracy and plot errors after tuning\n",
    "\n",
    "# knn_clf_final_pred = cross_val_predict(knn_clf3, X_train_reduced, y_train, cv=6, verbose=2, n_jobs=-1)\n",
    "## joblib.dump(knn_clf_final_pred, \"FMNIST/pred/knn_clf_final_pred.pkl\")\n",
    "knn_clf_final_pred = joblib.load(r\"FMNIST/pred/knn_clf_final_pred.pkl\")\n",
    "display_evaluation(y_train, knn_clf_final_pred, True)"
   ],
   "metadata": {
    "collapsed": false,
    "pycharm": {
     "name": "#%%\n"
    }
   }
  },
  {
   "cell_type": "markdown",
   "source": [
    "### Fine-Tune Extra Trees"
   ],
   "metadata": {
    "collapsed": false
   }
  },
  {
   "cell_type": "code",
   "execution_count": 104,
   "outputs": [
    {
     "name": "stdout",
     "output_type": "stream",
     "text": [
      "Accuracy: 0.88215\n"
     ]
    }
   ],
   "source": [
    "# predict accuracy and plot errors before tuning\n",
    "\n",
    "# ex_trees_pred = cross_val_predict(ex_trees, X_train_reduced, y_train, cv=6, verbose=2)\n",
    "# joblib.dump(ex_trees_pred, \"FMNIST/pred/ex_trees_pred.pkl\")\n",
    "ex_trees_pred = joblib.load(r\"FMNIST/pred/ex_trees_pred.pkl\")\n",
    "display_evaluation(y_train, ex_trees_pred)"
   ],
   "metadata": {
    "collapsed": false,
    "pycharm": {
     "name": "#%%\n"
    }
   }
  },
  {
   "cell_type": "markdown",
   "source": [
    "> Tuning maximum number features per tree:\n",
    ">> Note: If this hyperparameter is set to 'None', it evaluates all features before a split. When dealing with high\n",
    "> dimensional data (such as image classification) it can be convenient to select a smaller amount\n",
    "> of features."
   ],
   "metadata": {
    "collapsed": false
   }
  },
  {
   "cell_type": "code",
   "execution_count": 105,
   "outputs": [],
   "source": [
    "param_grid = [{\n",
    "    \"max_features\": ['sqrt', 0.2, 0.5, 0.8, None]  # max features that are evaluated before splitting a node\n",
    "}]"
   ],
   "metadata": {
    "collapsed": false,
    "pycharm": {
     "name": "#%%\n"
    }
   }
  },
  {
   "cell_type": "code",
   "execution_count": 106,
   "outputs": [],
   "source": [
    "# ex_trees_cv = GridSearchCV(ExtraTreesClassifier(random_state=42, n_jobs=-1), param_grid, cv=6,\n",
    "#                         scoring='accuracy', verbose=2)\n",
    "# ex_trees_cv.fit(X_train_reduced, y_train)\n",
    "# joblib.dump(ex_trees_cv, \"FMNIST/scores/ex_trees_cv.pkl\")\n",
    "ex_trees_cv = joblib.load(r\"FMNIST/scores/ex_trees_cv.pkl\")"
   ],
   "metadata": {
    "collapsed": false,
    "pycharm": {
     "name": "#%%\n"
    }
   }
  },
  {
   "cell_type": "code",
   "execution_count": 107,
   "outputs": [
    {
     "data": {
      "text/plain": "0.8743666666666666"
     },
     "execution_count": 107,
     "metadata": {},
     "output_type": "execute_result"
    }
   ],
   "source": [
    "# show the best score\n",
    "ex_trees_cv.best_score_"
   ],
   "metadata": {
    "collapsed": false,
    "pycharm": {
     "name": "#%%\n"
    }
   }
  },
  {
   "cell_type": "code",
   "execution_count": 108,
   "outputs": [
    {
     "data": {
      "text/plain": "ExtraTreesClassifier(max_features=None, n_jobs=-1, random_state=42)"
     },
     "execution_count": 108,
     "metadata": {},
     "output_type": "execute_result"
    }
   ],
   "source": [
    "# best estimator\n",
    "ex_trees2 = ex_trees_cv.best_estimator_\n",
    "ex_trees2"
   ],
   "metadata": {
    "collapsed": false,
    "pycharm": {
     "name": "#%%\n"
    }
   }
  },
  {
   "cell_type": "code",
   "execution_count": 109,
   "outputs": [
    {
     "name": "stdout",
     "output_type": "stream",
     "text": [
      "0.8666833333333331 {'max_features': 'sqrt'}\n",
      "0.8699499999999999 {'max_features': 0.2}\n",
      "0.8721833333333334 {'max_features': 0.5}\n",
      "0.8742666666666667 {'max_features': 0.8}\n",
      "0.8743666666666666 {'max_features': None}\n"
     ]
    }
   ],
   "source": [
    "# show results for each iteration\n",
    "cvres = ex_trees_cv.cv_results_\n",
    "for mean_score, params in zip(cvres[\"mean_test_score\"], cvres[\"params\"]):\n",
    "    print(mean_score, params)"
   ],
   "metadata": {
    "collapsed": false,
    "pycharm": {
     "name": "#%%\n"
    }
   }
  },
  {
   "cell_type": "markdown",
   "source": [
    "> Tuning number of trees with Bagging and Pasting:\n",
    ">> Note: More estimators tend to improve accuracy at the expense of increasing computational time.\n",
    "> Additionally, from a certain amount of trees the model performance does not change much."
   ],
   "metadata": {
    "collapsed": false
   }
  },
  {
   "cell_type": "code",
   "execution_count": 110,
   "outputs": [],
   "source": [
    "param_grid = [{\n",
    "    \"n_estimators\": [50, 100, 200],  # number of trees in the forest\n",
    "    \"bootstrap\": [True, False]  # sampling with or without replacement\n",
    "    # True = bagging, False (sklearn default) = pasting\n",
    "}]"
   ],
   "metadata": {
    "collapsed": false,
    "pycharm": {
     "name": "#%%\n"
    }
   }
  },
  {
   "cell_type": "code",
   "execution_count": 111,
   "outputs": [],
   "source": [
    "# ex_trees_cv2 = GridSearchCV(ex_trees2, param_grid, cv=6, scoring=\"accuracy\", verbose=2)\n",
    "# ex_trees_cv2.fit(X_train_reduced, y_train)\n",
    "# joblib.dump(ex_trees_cv2, \"FMNIST/scores/ex_trees_cv2.pkl\")\n",
    "ex_trees_cv2 = joblib.load(r\"FMNIST/scores/ex_trees_cv2.pkl\")"
   ],
   "metadata": {
    "collapsed": false,
    "pycharm": {
     "name": "#%%\n"
    }
   }
  },
  {
   "cell_type": "code",
   "execution_count": 112,
   "outputs": [
    {
     "data": {
      "text/plain": "0.8758500000000001"
     },
     "execution_count": 112,
     "metadata": {},
     "output_type": "execute_result"
    }
   ],
   "source": [
    "# show the best score\n",
    "ex_trees_cv2.best_score_"
   ],
   "metadata": {
    "collapsed": false,
    "pycharm": {
     "name": "#%%\n"
    }
   }
  },
  {
   "cell_type": "code",
   "execution_count": 113,
   "outputs": [
    {
     "data": {
      "text/plain": "ExtraTreesClassifier(max_features=None, n_estimators=200, n_jobs=-1,\n                     random_state=42)"
     },
     "execution_count": 113,
     "metadata": {},
     "output_type": "execute_result"
    }
   ],
   "source": [
    "# best estimator\n",
    "ex_trees3 = ex_trees_cv2.best_estimator_\n",
    "ex_trees3"
   ],
   "metadata": {
    "collapsed": false,
    "pycharm": {
     "name": "#%%\n"
    }
   }
  },
  {
   "cell_type": "code",
   "execution_count": 114,
   "outputs": [
    {
     "name": "stdout",
     "output_type": "stream",
     "text": [
      "0.866 {'bootstrap': True, 'n_estimators': 50}\n",
      "0.86885 {'bootstrap': True, 'n_estimators': 100}\n",
      "0.8703499999999998 {'bootstrap': True, 'n_estimators': 200}\n",
      "0.8709666666666666 {'bootstrap': False, 'n_estimators': 50}\n",
      "0.8743666666666666 {'bootstrap': False, 'n_estimators': 100}\n",
      "0.8758500000000001 {'bootstrap': False, 'n_estimators': 200}\n"
     ]
    }
   ],
   "source": [
    "# show results for each iteration\n",
    "cvres = ex_trees_cv2.cv_results_\n",
    "for mean_score, params in zip(cvres[\"mean_test_score\"], cvres[\"params\"]):\n",
    "    print(mean_score, params)"
   ],
   "metadata": {
    "collapsed": false,
    "pycharm": {
     "name": "#%%\n"
    }
   }
  },
  {
   "cell_type": "markdown",
   "source": [
    "> **Final Extra Trees model:** 200 estimators, pasting method (sampling without replacement), and considers\n",
    "> all features when splitting a node."
   ],
   "metadata": {
    "collapsed": false,
    "pycharm": {
     "name": "#%% md\n"
    }
   }
  },
  {
   "cell_type": "code",
   "execution_count": 115,
   "outputs": [
    {
     "name": "stdout",
     "output_type": "stream",
     "text": [
      "Accuracy: 0.87585\n",
      "              precision    recall  f1-score   support\n",
      "\n",
      "           0       0.82      0.86      0.84      6000\n",
      "           1       0.99      0.96      0.98      6000\n",
      "           2       0.79      0.82      0.80      6000\n",
      "           3       0.87      0.91      0.89      6000\n",
      "           4       0.78      0.83      0.81      6000\n",
      "           5       0.94      0.94      0.94      6000\n",
      "           6       0.74      0.61      0.67      6000\n",
      "           7       0.93      0.93      0.93      6000\n",
      "           8       0.95      0.96      0.95      6000\n",
      "           9       0.93      0.95      0.94      6000\n",
      "\n",
      "    accuracy                           0.88     60000\n",
      "   macro avg       0.87      0.88      0.87     60000\n",
      "weighted avg       0.87      0.88      0.87     60000\n",
      "\n"
     ]
    }
   ],
   "source": [
    "# predict accuracy and plot errors after tuning\n",
    "\n",
    "# ex_trees_final_pred = cross_val_predict(ex_trees3, X_train_reduced, y_train, cv=6, verbose=2)\n",
    "# joblib.dump(ex_trees_final_pred, \"FMNIST/pred/ex_trees_final_pred.pkl\")\n",
    "ex_trees_final_pred = joblib.load(r\"FMNIST/pred/ex_trees_final_pred.pkl\")\n",
    "display_evaluation(y_train, ex_trees_final_pred, True)"
   ],
   "metadata": {
    "collapsed": false,
    "pycharm": {
     "name": "#%%\n"
    }
   }
  },
  {
   "cell_type": "markdown",
   "source": [
    "### Fine-Tune XGBoost"
   ],
   "metadata": {
    "collapsed": false
   }
  },
  {
   "cell_type": "code",
   "execution_count": 116,
   "outputs": [
    {
     "name": "stdout",
     "output_type": "stream",
     "text": [
      "Accuracy: 0.88215\n"
     ]
    }
   ],
   "source": [
    "# predict accuracy and plot errors before tuning\n",
    "\n",
    "# xgb_clf_pred = cross_val_predict(xgb_clf, X_train_reduced, y_train, cv=6, verbose=2)\n",
    "# joblib.dump(xgb_clf_pred, \"FMNIST/pred/xgb_clf_pred.pkl\")\n",
    "xgb_clf_pred = joblib.load(r\"FMNIST/pred/xgb_clf_pred.pkl\")\n",
    "display_evaluation(y_train, xgb_clf_pred)"
   ],
   "metadata": {
    "collapsed": false,
    "pycharm": {
     "name": "#%%\n"
    }
   }
  },
  {
   "cell_type": "markdown",
   "source": [
    "> Tuning the number of estimators:"
   ],
   "metadata": {
    "collapsed": false
   }
  },
  {
   "cell_type": "code",
   "execution_count": 117,
   "outputs": [],
   "source": [
    "params = {\n",
    "    \"objective\": \"multi:softmax\",\n",
    "    \"num_class\": 10,\n",
    "    \"eval_metric\": \"merror\"\n",
    "}"
   ],
   "metadata": {
    "collapsed": false,
    "pycharm": {
     "name": "#%%\n"
    }
   }
  },
  {
   "cell_type": "code",
   "execution_count": 118,
   "outputs": [],
   "source": [
    "# xgb_scores_cv1 = cv(params, dmat_train, num_boost_round=200, nfold=6,\n",
    "#                    early_stopping_rounds=5, seed=42, metrics=\"merror\", verbose_eval=True)\n",
    "# joblib.dump(xgb_scores_cv1, \"FMNIST/scores/xgb_scores_cv1.pkl\")\n",
    "xgb_scores_cv1 = joblib.load(r\"FMNIST/scores/xgb_scores_cv1.pkl\")"
   ],
   "metadata": {
    "collapsed": false,
    "pycharm": {
     "name": "#%%\n"
    }
   }
  },
  {
   "cell_type": "code",
   "execution_count": 119,
   "outputs": [
    {
     "data": {
      "text/plain": "121"
     },
     "execution_count": 119,
     "metadata": {},
     "output_type": "execute_result"
    }
   ],
   "source": [
    "curr_min = xgb_scores_cv1[\"test-merror-mean\"].argmin()\n",
    "curr_min"
   ],
   "metadata": {
    "collapsed": false,
    "pycharm": {
     "name": "#%%\n"
    }
   }
  },
  {
   "cell_type": "code",
   "execution_count": 120,
   "outputs": [
    {
     "data": {
      "text/plain": "<Figure size 504x360 with 1 Axes>",
      "image/png": "[encoded data removed]"
     },
     "metadata": {},
     "output_type": "display_data"
    }
   ],
   "source": [
    "# plot classification errors from cross-validation\n",
    "plt.figure(figsize=(7, 5))\n",
    "sns.lineplot(data=[xgb_scores_cv1[\"test-merror-mean\"], xgb_scores_cv1[\"train-merror-mean\"]])\n",
    "plt.xlabel(\"number of estimators\")\n",
    "plt.ylabel(\"classification error rate\")\n",
    "plt.title(\"XGBoost Classification Errors\", size=15)\n",
    "plt.tight_layout()\n",
    "plt.show()"
   ],
   "metadata": {
    "collapsed": false,
    "pycharm": {
     "name": "#%%\n"
    }
   }
  },
  {
   "cell_type": "code",
   "execution_count": 121,
   "outputs": [
    {
     "data": {
      "text/plain": "0.8853"
     },
     "execution_count": 121,
     "metadata": {},
     "output_type": "execute_result"
    }
   ],
   "source": [
    "# best accuracy\n",
    "1 - xgb_scores_cv1[\"test-merror-mean\"][curr_min]"
   ],
   "metadata": {
    "collapsed": false,
    "pycharm": {
     "name": "#%%\n"
    }
   }
  },
  {
   "cell_type": "markdown",
   "source": [
    "> Tuning learning rate and tree depth:"
   ],
   "metadata": {
    "collapsed": false
   }
  },
  {
   "cell_type": "code",
   "execution_count": 122,
   "outputs": [],
   "source": [
    "param_grid = [{\n",
    "    \"max_depth\": [3, 4, 5, 6],  # maximum depth of a tree\n",
    "    \"learning_rate\": [0.1, 0.3]  # controls the weights after every boost (eta)\n",
    "}]"
   ],
   "metadata": {
    "collapsed": false,
    "pycharm": {
     "name": "#%%\n"
    }
   }
  },
  {
   "cell_type": "code",
   "execution_count": 123,
   "outputs": [],
   "source": [
    "# xgb_scores_cv2 = GridSearchCV(XGBClassifier(random_state=42, n_jobs=-1, eval_metric='merror', objective='multi:softmax',\n",
    "#                        num_class=10, use_label_encoder=False, n_estimators=122), param_grid, cv=6, scoring='accuracy', verbose=2)\n",
    "# xgb_scores_cv2.fit(X_train_reduced, y_train)\n",
    "# joblib.dump(xgb_scores_cv2, \"FMNIST/scores/xgb_scores_cv2.pkl\")\n",
    "xgb_scores_cv2 = joblib.load(r\"FMNIST/scores/xgb_scores_cv2.pkl\")"
   ],
   "metadata": {
    "collapsed": false,
    "pycharm": {
     "name": "#%%\n"
    }
   }
  },
  {
   "cell_type": "code",
   "execution_count": 124,
   "outputs": [
    {
     "data": {
      "text/plain": "0.8841"
     },
     "execution_count": 124,
     "metadata": {},
     "output_type": "execute_result"
    }
   ],
   "source": [
    "# show the best score\n",
    "xgb_scores_cv2.best_score_"
   ],
   "metadata": {
    "collapsed": false,
    "pycharm": {
     "name": "#%%\n"
    }
   }
  },
  {
   "cell_type": "code",
   "execution_count": 125,
   "outputs": [
    {
     "data": {
      "text/plain": "XGBClassifier(base_score=0.5, booster='gbtree', colsample_bylevel=1,\n              colsample_bynode=1, colsample_bytree=1, eval_metric='merror',\n              gamma=0, gpu_id=-1, importance_type='gain',\n              interaction_constraints='', learning_rate=0.3, max_delta_step=0,\n              max_depth=6, min_child_weight=1, missing=nan,\n              monotone_constraints='()', n_estimators=122, n_jobs=-1,\n              num_class=10, num_parallel_tree=1, objective='multi:softprob',\n              random_state=42, reg_alpha=0, reg_lambda=1, scale_pos_weight=None,\n              subsample=1, tree_method='exact', use_label_encoder=False,\n              validate_parameters=1, verbosity=None)"
     },
     "execution_count": 125,
     "metadata": {},
     "output_type": "execute_result"
    }
   ],
   "source": [
    "# best estimator\n",
    "xgb_clf2 = xgb_scores_cv2.best_estimator_\n",
    "xgb_clf2"
   ],
   "metadata": {
    "collapsed": false,
    "pycharm": {
     "name": "#%%\n"
    }
   }
  },
  {
   "cell_type": "code",
   "execution_count": 126,
   "outputs": [
    {
     "name": "stdout",
     "output_type": "stream",
     "text": [
      "0.8474333333333334 {'learning_rate': 0.1, 'max_depth': 3}\n",
      "0.8608666666666668 {'learning_rate': 0.1, 'max_depth': 4}\n",
      "0.8693499999999998 {'learning_rate': 0.1, 'max_depth': 5}\n",
      "0.8735666666666666 {'learning_rate': 0.1, 'max_depth': 6}\n",
      "0.8710166666666668 {'learning_rate': 0.3, 'max_depth': 3}\n",
      "0.8770000000000001 {'learning_rate': 0.3, 'max_depth': 4}\n",
      "0.8819 {'learning_rate': 0.3, 'max_depth': 5}\n",
      "0.8841 {'learning_rate': 0.3, 'max_depth': 6}\n"
     ]
    }
   ],
   "source": [
    "# show results for each iteration\n",
    "cvres = xgb_scores_cv2.cv_results_\n",
    "for mean_score, params in zip(cvres[\"mean_test_score\"], cvres[\"params\"]):\n",
    "    print(mean_score, params)"
   ],
   "metadata": {
    "collapsed": false,
    "pycharm": {
     "name": "#%%\n"
    }
   }
  },
  {
   "cell_type": "code",
   "execution_count": 127,
   "outputs": [],
   "source": [
    "param_grid = [{\n",
    "    \"max_depth\": [6, 8],  # maximum depth of a tree\n",
    "    \"learning_rate\": [0.3, 0.5]  # controls the weights after every boost (eta)\n",
    "}]"
   ],
   "metadata": {
    "collapsed": false,
    "pycharm": {
     "name": "#%%\n"
    }
   }
  },
  {
   "cell_type": "code",
   "execution_count": 128,
   "outputs": [],
   "source": [
    "# xgb_scores_cv3 = GridSearchCV(xgb_clf2, param_grid, cv=6, scoring='accuracy', verbose=2)\n",
    "# xgb_scores_cv3.fit(X_train_reduced, y_train)\n",
    "# joblib.dump(xgb_scores_cv3, \"FMNIST/scores/xgb_scores_cv3.pkl\")\n",
    "xgb_scores_cv3 = joblib.load(r\"FMNIST/scores/xgb_scores_cv3.pkl\")"
   ],
   "metadata": {
    "collapsed": false,
    "pycharm": {
     "name": "#%%\n"
    }
   }
  },
  {
   "cell_type": "code",
   "execution_count": 129,
   "outputs": [
    {
     "data": {
      "text/plain": "0.8861333333333334"
     },
     "execution_count": 129,
     "metadata": {},
     "output_type": "execute_result"
    }
   ],
   "source": [
    "# show the best score\n",
    "xgb_scores_cv3.best_score_"
   ],
   "metadata": {
    "collapsed": false,
    "pycharm": {
     "name": "#%%\n"
    }
   }
  },
  {
   "cell_type": "code",
   "execution_count": 130,
   "outputs": [
    {
     "data": {
      "text/plain": "XGBClassifier(base_score=0.5, booster='gbtree', colsample_bylevel=1,\n              colsample_bynode=1, colsample_bytree=1, eval_metric='merror',\n              gamma=0, gpu_id=-1, importance_type='gain',\n              interaction_constraints='', learning_rate=0.3, max_delta_step=0,\n              max_depth=8, min_child_weight=1, missing=nan,\n              monotone_constraints='()', n_estimators=122, n_jobs=-1,\n              num_class=10, num_parallel_tree=1, objective='multi:softprob',\n              random_state=42, reg_alpha=0, reg_lambda=1, scale_pos_weight=None,\n              subsample=1, tree_method='exact', use_label_encoder=False,\n              validate_parameters=1, verbosity=None)"
     },
     "execution_count": 130,
     "metadata": {},
     "output_type": "execute_result"
    }
   ],
   "source": [
    "# best estimator\n",
    "xgb_clf3 = xgb_scores_cv3.best_estimator_\n",
    "xgb_clf3"
   ],
   "metadata": {
    "collapsed": false,
    "pycharm": {
     "name": "#%%\n"
    }
   }
  },
  {
   "cell_type": "code",
   "execution_count": 131,
   "outputs": [
    {
     "name": "stdout",
     "output_type": "stream",
     "text": [
      "0.8841 {'learning_rate': 0.3, 'max_depth': 6}\n",
      "0.8861333333333334 {'learning_rate': 0.3, 'max_depth': 8}\n",
      "0.8844833333333334 {'learning_rate': 0.5, 'max_depth': 6}\n",
      "0.8841000000000001 {'learning_rate': 0.5, 'max_depth': 8}\n"
     ]
    }
   ],
   "source": [
    "# show results for each iteration\n",
    "cvres = xgb_scores_cv3.cv_results_\n",
    "for mean_score, params in zip(cvres[\"mean_test_score\"], cvres[\"params\"]):\n",
    "    print(mean_score, params)"
   ],
   "metadata": {
    "collapsed": false,
    "pycharm": {
     "name": "#%%\n"
    }
   }
  },
  {
   "cell_type": "code",
   "execution_count": 132,
   "outputs": [],
   "source": [
    "param_grid = [{\n",
    "    \"max_depth\": [8, 10],  # maximum depth of a tree\n",
    "    \"learning_rate\": [0.3]  # controls the weights after every boost (eta)\n",
    "}]"
   ],
   "metadata": {
    "collapsed": false,
    "pycharm": {
     "name": "#%%\n"
    }
   }
  },
  {
   "cell_type": "code",
   "source": [
    "# xgb_scores_cv4 = GridSearchCV(xgb_clf3, param_grid, cv=6, scoring='accuracy', verbose=2)\n",
    "# xgb_scores_cv4.fit(X_train_reduced, y_train)\n",
    "# joblib.dump(xgb_scores_cv4, \"FMNIST/scores/xgb_scores_cv4.pkl\")\n",
    "xgb_scores_cv4 = joblib.load(r\"FMNIST/scores/xgb_scores_cv4.pkl\")"
   ],
   "metadata": {
    "collapsed": false,
    "pycharm": {
     "name": "#%%\n"
    }
   },
   "execution_count": 133,
   "outputs": []
  },
  {
   "cell_type": "code",
   "execution_count": 134,
   "outputs": [
    {
     "data": {
      "text/plain": "0.8861333333333334"
     },
     "execution_count": 134,
     "metadata": {},
     "output_type": "execute_result"
    }
   ],
   "source": [
    "# show the best score\n",
    "xgb_scores_cv4.best_score_"
   ],
   "metadata": {
    "collapsed": false,
    "pycharm": {
     "name": "#%%\n"
    }
   }
  },
  {
   "cell_type": "code",
   "execution_count": 135,
   "outputs": [
    {
     "data": {
      "text/plain": "XGBClassifier(base_score=0.5, booster='gbtree', colsample_bylevel=1,\n              colsample_bynode=1, colsample_bytree=1, eval_metric='merror',\n              gamma=0, gpu_id=-1, importance_type='gain',\n              interaction_constraints='', learning_rate=0.3, max_delta_step=0,\n              max_depth=8, min_child_weight=1, missing=nan,\n              monotone_constraints='()', n_estimators=122, n_jobs=-1,\n              num_class=10, num_parallel_tree=1, objective='multi:softprob',\n              random_state=42, reg_alpha=0, reg_lambda=1, scale_pos_weight=None,\n              subsample=1, tree_method='exact', use_label_encoder=False,\n              validate_parameters=1, verbosity=None)"
     },
     "execution_count": 135,
     "metadata": {},
     "output_type": "execute_result"
    }
   ],
   "source": [
    "# best estimator\n",
    "xgb_clf4 = xgb_scores_cv4.best_estimator_\n",
    "xgb_clf4"
   ],
   "metadata": {
    "collapsed": false,
    "pycharm": {
     "name": "#%%\n"
    }
   }
  },
  {
   "cell_type": "code",
   "execution_count": 136,
   "outputs": [
    {
     "name": "stdout",
     "output_type": "stream",
     "text": [
      "0.8861333333333334 {'learning_rate': 0.3, 'max_depth': 8}\n",
      "0.8846666666666666 {'learning_rate': 0.3, 'max_depth': 10}\n"
     ]
    }
   ],
   "source": [
    "# show results for each iteration\n",
    "cvres = xgb_scores_cv4.cv_results_\n",
    "for mean_score, params in zip(cvres[\"mean_test_score\"], cvres[\"params\"]):\n",
    "    print(mean_score, params)"
   ],
   "metadata": {
    "collapsed": false,
    "pycharm": {
     "name": "#%%\n"
    }
   }
  },
  {
   "cell_type": "markdown",
   "source": [
    "> **Final XGBoost model:** 0.3 learning rate, maximum tree depth 8."
   ],
   "metadata": {
    "collapsed": false,
    "pycharm": {
     "name": "#%% md\n"
    }
   }
  },
  {
   "cell_type": "code",
   "source": [
    "# predict accuracy and plot errors after tuning\n",
    "\n",
    "# xgb_clf_final_pred = cross_val_predict(xgb_clf4, X_train_reduced, y_train, cv=6, verbose=2)\n",
    "# joblib.dump(xgb_clf_final_pred, \"FMNIST/pred/xgb_clf_final_pred.pkl\")\n",
    "xgb_clf_final_pred = joblib.load(r\"FMNIST/pred/xgb_clf_final_pred.pkl\")\n",
    "display_evaluation(y_train, xgb_clf_final_pred, True)"
   ],
   "metadata": {
    "collapsed": false,
    "pycharm": {
     "name": "#%%\n"
    }
   },
   "execution_count": 137,
   "outputs": [
    {
     "name": "stdout",
     "output_type": "stream",
     "text": [
      "Accuracy: 0.88613\n",
      "              precision    recall  f1-score   support\n",
      "\n",
      "           0       0.83      0.86      0.84      6000\n",
      "           1       0.99      0.97      0.98      6000\n",
      "           2       0.81      0.82      0.82      6000\n",
      "           3       0.89      0.91      0.90      6000\n",
      "           4       0.80      0.83      0.82      6000\n",
      "           5       0.96      0.95      0.95      6000\n",
      "           6       0.73      0.66      0.69      6000\n",
      "           7       0.94      0.95      0.94      6000\n",
      "           8       0.96      0.96      0.96      6000\n",
      "           9       0.95      0.95      0.95      6000\n",
      "\n",
      "    accuracy                           0.89     60000\n",
      "   macro avg       0.89      0.89      0.89     60000\n",
      "weighted avg       0.89      0.89      0.89     60000\n",
      "\n"
     ]
    }
   ]
  },
  {
   "cell_type": "markdown",
   "source": [
    "### Voting Classifiers\n",
    "> The voting classifier is an ensemble that aggregates the predictions of multiple classifiers.\n",
    "> This often leads to higher prediction accuracy.\n",
    ">> Note: This does not guarantee that the voting classifier will achieve higher accuracy.\n",
    "> The classifiers were trained on the same data and might make similar errors, so it is preferable\n",
    "> to use classifiers with diverse algorithms."
   ],
   "metadata": {
    "collapsed": false
   }
  },
  {
   "cell_type": "markdown",
   "source": [
    "> ### Hard Voting Classifier:\n",
    "> Predicts the class that received the most votes."
   ],
   "metadata": {
    "collapsed": false
   }
  },
  {
   "cell_type": "code",
   "execution_count": 138,
   "outputs": [],
   "source": [
    "voting_hard = VotingClassifier(\n",
    "    estimators=[\n",
    "        ('log_reg', clone(log_reg3)),\n",
    "        ('knn', clone(knn_clf3)),\n",
    "        ('ex_trees', clone(ex_trees3))],\n",
    "    voting='hard')"
   ],
   "metadata": {
    "collapsed": false,
    "pycharm": {
     "name": "#%%\n"
    }
   }
  },
  {
   "cell_type": "code",
   "execution_count": 139,
   "outputs": [
    {
     "name": "stdout",
     "output_type": "stream",
     "text": [
      "Scores: [0.8824 0.8768 0.8817 0.8825 0.8778 0.8807]\n",
      "Mean: 0.88032\n",
      "Standard Deviation: 0.00223\n"
     ]
    }
   ],
   "source": [
    "# voting_hard_scores = cross_val_score(voting_hard, X_train_reduced, y_train, cv=6, scoring=\"accuracy\", verbose=2)\n",
    "# joblib.dump(voting_hard_scores, \"FMNIST/scores/voting_hard_scores.pkl\")\n",
    "voting_hard_scores = joblib.load(r\"FMNIST/scores/voting_hard_scores.pkl\")\n",
    "display_scores(voting_hard_scores)"
   ],
   "metadata": {
    "collapsed": false,
    "pycharm": {
     "name": "#%%\n"
    }
   }
  },
  {
   "cell_type": "code",
   "execution_count": 140,
   "outputs": [
    {
     "name": "stdout",
     "output_type": "stream",
     "text": [
      "Accuracy: 0.88032\n"
     ]
    }
   ],
   "source": [
    "# voting_hard_pred = cross_val_predict(voting_hard, X_train_reduced, y_train, cv=6, verbose=2)\n",
    "# joblib.dump(voting_hard_pred, \"FMNIST/pred/voting_hard_pred.pkl\")\n",
    "voting_hard_pred = joblib.load(r\"FMNIST/pred/voting_hard_pred.pkl\")\n",
    "display_evaluation(y_train, voting_hard_pred)"
   ],
   "metadata": {
    "collapsed": false,
    "pycharm": {
     "name": "#%%\n"
    }
   }
  },
  {
   "cell_type": "markdown",
   "source": [
    "> ### Soft Voting Classifier:\n",
    "> Averages the predicted probabilities.\n",
    ">> Note: This voting method is only possible when all classifiers can output predicted probabilities."
   ],
   "metadata": {
    "collapsed": false,
    "pycharm": {
     "name": "#%% md\n"
    }
   }
  },
  {
   "cell_type": "code",
   "source": [
    "voting_soft = VotingClassifier(\n",
    "    estimators=[\n",
    "        ('log_reg', clone(log_reg3)),\n",
    "        ('ex_trees', clone(ex_trees3)),\n",
    "        ('xgb', clone(xgb_clf4))],\n",
    "    voting='soft')"
   ],
   "metadata": {
    "collapsed": false,
    "pycharm": {
     "name": "#%%\n"
    }
   },
   "execution_count": 141,
   "outputs": []
  },
  {
   "cell_type": "code",
   "source": [
    "# voting_soft_scores = cross_val_score(voting_soft, X_train_reduced, y_train, cv=6, scoring=\"accuracy\", verbose=2)\n",
    "# joblib.dump(voting_soft_scores, \"FMNIST/scores/voing_soft_scores.pkl\")\n",
    "voting_soft_scores = joblib.load(r\"FMNIST/scores/voing_soft_scores.pkl\")\n",
    "display_scores(voting_soft_scores)"
   ],
   "metadata": {
    "collapsed": false,
    "pycharm": {
     "name": "#%%\n"
    }
   },
   "execution_count": 142,
   "outputs": [
    {
     "name": "stdout",
     "output_type": "stream",
     "text": [
      "Scores: [0.8867 0.8828 0.8857 0.8861 0.8848 0.8852]\n",
      "Mean: 0.88522\n",
      "Standard Deviation: 0.00124\n"
     ]
    }
   ]
  },
  {
   "cell_type": "code",
   "source": [
    "# voting_soft_pred = cross_val_predict(voting_soft, X_train_reduced, y_train, cv=6, verbose=2)\n",
    "# joblib.dump(voting_soft_pred, \"FMNIST/pred/voting_soft_pred.pkl\")\n",
    "voting_soft_pred = joblib.load(r\"FMNIST/pred/voting_soft_pred.pkl\")\n",
    "display_evaluation(y_train, voting_soft_pred)"
   ],
   "metadata": {
    "collapsed": false,
    "pycharm": {
     "name": "#%%\n"
    }
   },
   "execution_count": 143,
   "outputs": [
    {
     "name": "stdout",
     "output_type": "stream",
     "text": [
      "Accuracy: 0.88522\n"
     ]
    }
   ]
  },
  {
   "cell_type": "markdown",
   "source": [
    "> #### Observations:\n",
    "* Soft voting achieved a slightly higher accuracy compared to hard voting.\n",
    "* The final XGBoost model was still better than both voting classifiers.\n",
    "\n",
    "### Overall, the model with the highest accuracy score was XGBoost!"
   ],
   "metadata": {
    "collapsed": false,
    "pycharm": {
     "name": "#%% md\n"
    }
   }
  },
  {
   "cell_type": "markdown",
   "source": [
    "> ### Last Attempt to Improve Accuracy with Data Augmentation:\n",
    ">\n",
    "> Data augmentation is a strategy that is used to create more data from the existing data.\n",
    "For example, the images could be rotated. Using this method can add more variation to the data.\n",
    ">\n",
    "> As a last attempt to improve the classification accuracy, I will increase the amount of training samples.\n",
    "For each image, I will create 4 new instances by shifting the images by one pixel in different\n",
    "directions (left, right, top, bottom). Lastly, I will fit the new training instances to the best\n",
    "model, XGBoost in this case, and evaluate the results."
   ],
   "metadata": {
    "collapsed": false
   }
  },
  {
   "cell_type": "code",
   "execution_count": 144,
   "outputs": [],
   "source": [
    "# using scipy multidimensional image processing shift function\n",
    "# function shifts array\n",
    "# fills the values beyond the edge with white pixels\n",
    "# x, y values for shifting according to axis\n",
    "def shift_image(image, x, y):\n",
    "    img = np.array(image).reshape(28, 28)\n",
    "    shifted_img = shift(img, [x, y], cval=0, mode=\"constant\")\n",
    "    return shifted_img.reshape(-1)"
   ],
   "metadata": {
    "collapsed": false,
    "pycharm": {
     "name": "#%%\n"
    }
   }
  },
  {
   "cell_type": "code",
   "execution_count": 145,
   "outputs": [
    {
     "data": {
      "text/plain": "<Figure size 1512x432 with 5 Axes>",
      "image/png": "[encoded data removed]"
     },
     "metadata": {},
     "output_type": "display_data"
    }
   ],
   "source": [
    "# shift sample image by one pixel in each direction\n",
    "sample_img = X_train.iloc[5]\n",
    "img_shifted1 = shift_image(sample_img, -1, 0).reshape(28, 28)\n",
    "img_shifted2 = shift_image(sample_img, 1, 0).reshape(28, 28)\n",
    "img_shifted3 = shift_image(sample_img, 0, -1).reshape(28, 28)\n",
    "img_shifted4 = shift_image(sample_img, 0, 1).reshape(28, 28)\n",
    "\n",
    "# plot shifted images\n",
    "fig, ax = plt.subplots(1, 5, figsize=(21, 6))\n",
    "fig.suptitle(\"Image Augmentation Sample\", size=20)\n",
    "ax[0].imshow(np.array(sample_img).reshape(28, 28), cmap=\"binary\")\n",
    "ax[0].set_title(\"Original\", size=15)\n",
    "ax[1].imshow(img_shifted1, cmap=\"binary\")\n",
    "ax[1].set_title(\"Up\", size=15)\n",
    "ax[2].imshow(img_shifted2, cmap=\"binary\")\n",
    "ax[2].set_title(\"Down\", size=15)\n",
    "ax[3].imshow(img_shifted3, cmap=\"binary\")\n",
    "ax[3].set_title(\"Left\", size=15)\n",
    "ax[4].imshow(img_shifted4, cmap=\"binary\")\n",
    "ax[4].set_title(\"Right\", size=15)\n",
    "plt.tight_layout()\n",
    "plt.show()"
   ],
   "metadata": {
    "collapsed": false,
    "pycharm": {
     "name": "#%%\n"
    }
   }
  },
  {
   "cell_type": "markdown",
   "source": [
    "> As stated earlier, accuracy is sensitive to the test size. It would take a very long time to evaluate\n",
    "before and after augmentation with cross-validation on test sizes of 10,000 instances (30 folds after augmentation!).\n",
    "For this reason, I will create a validation set from the training instances and use it for evaluation.\n",
    ">\n",
    "> The validation set will include 10,000 instances, leaving 50,000 for training."
   ],
   "metadata": {
    "collapsed": false,
    "pycharm": {
     "name": "#%% md\n"
    }
   }
  },
  {
   "cell_type": "code",
   "execution_count": 146,
   "outputs": [],
   "source": [
    "# train and validation set stratified split\n",
    "X, X_val, y, y_val = train_test_split(X_train, y_train, stratify=y_train, test_size=10000, random_state=42)"
   ],
   "metadata": {
    "collapsed": false,
    "pycharm": {
     "name": "#%%\n"
    }
   }
  },
  {
   "cell_type": "code",
   "execution_count": 147,
   "outputs": [
    {
     "data": {
      "text/plain": "0    5000\n1    5000\n2    5000\n3    5000\n4    5000\n5    5000\n6    5000\n7    5000\n8    5000\n9    5000\nName: label, dtype: int64"
     },
     "execution_count": 147,
     "metadata": {},
     "output_type": "execute_result"
    }
   ],
   "source": [
    "# make sure that class distribution is equal\n",
    "y.value_counts().sort_index()"
   ],
   "metadata": {
    "collapsed": false,
    "pycharm": {
     "name": "#%%\n"
    }
   }
  },
  {
   "cell_type": "code",
   "execution_count": 148,
   "outputs": [
    {
     "name": "stdout",
     "output_type": "stream",
     "text": [
      "Training Set: (50000, 784)\n",
      "Validation Set: (10000, 784)\n"
     ]
    }
   ],
   "source": [
    "# DataFrame shape (rows, columns)\n",
    "print(\"Training Set:\", X.shape)\n",
    "print(\"Validation Set:\", X_val.shape)"
   ],
   "metadata": {
    "collapsed": false,
    "pycharm": {
     "name": "#%%\n"
    }
   }
  },
  {
   "cell_type": "markdown",
   "source": [
    "> ### XGBoost Model Before Augmentation:"
   ],
   "metadata": {
    "collapsed": false,
    "pycharm": {
     "name": "#%% md\n"
    }
   }
  },
  {
   "cell_type": "code",
   "execution_count": 149,
   "outputs": [],
   "source": [
    "X_prep = full_pipeline.fit_transform(X)\n",
    "X_val_prep = full_pipeline.transform(X_val)"
   ],
   "metadata": {
    "collapsed": false,
    "pycharm": {
     "name": "#%%\n"
    }
   }
  },
  {
   "cell_type": "code",
   "execution_count": 150,
   "outputs": [
    {
     "name": "stdout",
     "output_type": "stream",
     "text": [
      "Accuracy: 0.885\n",
      "              precision    recall  f1-score   support\n",
      "\n",
      "           0       0.81      0.86      0.84      1000\n",
      "           1       0.99      0.98      0.98      1000\n",
      "           2       0.81      0.82      0.81      1000\n",
      "           3       0.90      0.90      0.90      1000\n",
      "           4       0.79      0.85      0.82      1000\n",
      "           5       0.96      0.95      0.96      1000\n",
      "           6       0.73      0.64      0.68      1000\n",
      "           7       0.93      0.95      0.94      1000\n",
      "           8       0.96      0.96      0.96      1000\n",
      "           9       0.94      0.95      0.95      1000\n",
      "\n",
      "    accuracy                           0.89     10000\n",
      "   macro avg       0.88      0.89      0.88     10000\n",
      "weighted avg       0.88      0.89      0.88     10000\n",
      "\n"
     ]
    }
   ],
   "source": [
    "# xgb_before = clone(xgb_clf4)\n",
    "# xgb_before.fit(X_prep, y)\n",
    "# joblib.dump(xgb_before, \"FMNIST/models/xgb_before.pkl\")\n",
    "xgb_before = joblib.load(r\"FMNIST/models/xgb_before.pkl\")\n",
    "# xgb_before_pred = xgb_before.predict(X_val_prep)\n",
    "# joblib.dump(xgb_before_pred, \"FMNIST/pred/xgb_before_pred.pkl\")\n",
    "xgb_before_pred = joblib.load(r\"FMNIST/pred/xgb_before_pred.pkl\")\n",
    "display_evaluation(y_val, xgb_before_pred, True)"
   ],
   "metadata": {
    "collapsed": false,
    "pycharm": {
     "name": "#%%\n"
    }
   }
  },
  {
   "cell_type": "markdown",
   "source": [
    "> ### XGBoost model after augmentation:"
   ],
   "metadata": {
    "collapsed": false,
    "pycharm": {
     "name": "#%% md\n"
    }
   }
  },
  {
   "cell_type": "code",
   "source": [
    "# X_arr = np.array(X)\n",
    "# y_arr = np.array(y)\n",
    "\n",
    "# X_aug = [image for image in X_arr] # list containing training images arrays\n",
    "# y_aug = [label for label in y_arr] # list containing label values\n",
    "\n",
    "# for x, y in ((1, 0), (-1, 0), (0, 1), (0, -1)):\n",
    "# for image, label in zip(X_arr, y_arr):\n",
    "# X_aug.append(shift_image(image, x, y))\n",
    "# y_aug.append(label)\n",
    "\n",
    "# convert data from list to numpy array\n",
    "# X_aug = np.array(X_aug)\n",
    "# y_aug = np.array(y_aug)\n",
    "\n",
    "# shuffle the training instances\n",
    "# shuffle_idx = np.random.permutation(len(X_aug))\n",
    "# X_aug = X_aug[shuffle_idx]\n",
    "# y_aug = y_aug[shuffle_idx]\n",
    "\n",
    "# joblib.dump(X_aug, \"FMNIST/data/X_aug.pkl\")\n",
    "# joblib.dump(y_aug, \"FMNIST/data/y_aug.pkl\")\n",
    "X_aug = joblib.load(r\"FMNIST/data/X_aug.pkl\")\n",
    "y_aug = joblib.load(r\"FMNIST/data/y_aug.pkl\")"
   ],
   "metadata": {
    "collapsed": false,
    "pycharm": {
     "name": "#%%\n"
    }
   },
   "execution_count": 151,
   "outputs": []
  },
  {
   "cell_type": "code",
   "execution_count": 152,
   "outputs": [
    {
     "data": {
      "text/plain": "(250000, 784)"
     },
     "execution_count": 152,
     "metadata": {},
     "output_type": "execute_result"
    }
   ],
   "source": [
    "# check augmented dataset shape\n",
    "X_aug.shape"
   ],
   "metadata": {
    "collapsed": false,
    "pycharm": {
     "name": "#%%\n"
    }
   }
  },
  {
   "cell_type": "code",
   "execution_count": 153,
   "outputs": [
    {
     "data": {
      "text/plain": "0    25000\n1    25000\n2    25000\n3    25000\n4    25000\n5    25000\n6    25000\n7    25000\n8    25000\n9    25000\ndtype: int64"
     },
     "execution_count": 153,
     "metadata": {},
     "output_type": "execute_result"
    }
   ],
   "source": [
    "# check augmented dataset class distribution (should be equal)\n",
    "pd.Series(y_aug).value_counts().sort_index()"
   ],
   "metadata": {
    "collapsed": false,
    "pycharm": {
     "name": "#%%\n"
    }
   }
  },
  {
   "cell_type": "code",
   "execution_count": 154,
   "outputs": [],
   "source": [
    "# use pipeline to transform data\n",
    "X_aug_prep = full_pipeline.fit_transform(X_aug, y_aug)\n",
    "X_val_aug_prep = full_pipeline.transform(X_val)"
   ],
   "metadata": {
    "collapsed": false,
    "pycharm": {
     "name": "#%%\n"
    }
   }
  },
  {
   "cell_type": "code",
   "execution_count": 155,
   "outputs": [
    {
     "name": "stdout",
     "output_type": "stream",
     "text": [
      "Accuracy: 0.8921\n",
      "              precision    recall  f1-score   support\n",
      "\n",
      "           0       0.83      0.87      0.85      1000\n",
      "           1       0.99      0.98      0.99      1000\n",
      "           2       0.81      0.82      0.81      1000\n",
      "           3       0.91      0.90      0.91      1000\n",
      "           4       0.80      0.84      0.82      1000\n",
      "           5       0.97      0.96      0.97      1000\n",
      "           6       0.73      0.67      0.70      1000\n",
      "           7       0.94      0.96      0.95      1000\n",
      "           8       0.97      0.97      0.97      1000\n",
      "           9       0.97      0.95      0.96      1000\n",
      "\n",
      "    accuracy                           0.89     10000\n",
      "   macro avg       0.89      0.89      0.89     10000\n",
      "weighted avg       0.89      0.89      0.89     10000\n",
      "\n"
     ]
    }
   ],
   "source": [
    "# xgb_after = clone(xgb_clf4)\n",
    "# xgb_after.fit(X_aug_prep, y_aug)\n",
    "# joblib.dump(xgb_after, \"FMNIST/models/xgb_after.pkl\")\n",
    "xgb_after = joblib.load(r\"FMNIST/models/xgb_after.pkl\")\n",
    "# xgb_after_pred = xgb_after.predict(X_val_aug_prep)\n",
    "# joblib.dump(xgb_after_pred, \"FMNIST/pred/xgb_after_pred.pkl\")\n",
    "xgb_after_pred = joblib.load(r\"FMNIST/pred/xgb_after_pred.pkl\")\n",
    "display_evaluation(y_val, xgb_after_pred, True)"
   ],
   "metadata": {
    "collapsed": false,
    "pycharm": {
     "name": "#%%\n"
    }
   }
  },
  {
   "cell_type": "markdown",
   "source": [
    "> ### Conclusion:\n",
    "> **Data augmentation improved the accuracy score of the final model!**"
   ],
   "metadata": {
    "collapsed": false,
    "pycharm": {
     "name": "#%% md\n"
    }
   }
  },
  {
   "cell_type": "markdown",
   "source": [
    "> Fit model on whole augmented training set:"
   ],
   "metadata": {
    "collapsed": false,
    "pycharm": {
     "name": "#%% md\n"
    }
   }
  },
  {
   "cell_type": "code",
   "execution_count": 156,
   "outputs": [],
   "source": [
    "# X_arr = np.array(X_train)\n",
    "# y_arr = np.array(y_train)\n",
    "\n",
    "# X_train_augmented = [image for image in X_arr] # list containing training images arrays\n",
    "# y_train_augmented = [label for label in y_arr] # list containing label values\n",
    "\n",
    "# for x, y in ((1, 0), (-1, 0), (0, 1), (0, -1)):\n",
    "# for image, label in zip(X_arr, y_arr):\n",
    "# X_train_augmented.append(shift_image(image, x, y))\n",
    "# y_train_augmented.append(label)\n",
    "\n",
    "# convert data from list to numpy array\n",
    "# X_train_augmented = np.array(X_train_augmented)\n",
    "# y_train_augmented = np.array(y_train_augmented)\n",
    "\n",
    "# shuffle the training instances\n",
    "# shuffle_idx = np.random.permutation(len(X_train_augmented))\n",
    "# X_train_augmented = X_train_augmented[shuffle_idx]\n",
    "# y_train_augmented = y_train_augmented[shuffle_idx]\n",
    "\n",
    "# joblib.dump(X_train_augmented, \"FMNIST/data/X_train_augmented.pkl\")\n",
    "# joblib.dump(y_train_augmented, \"FMNIST/data/y_train_augmented.pkl\")\n",
    "X_train_augmented = joblib.load(r\"FMNIST/data/X_train_augmented.pkl\")\n",
    "y_train_augmented = joblib.load(r\"FMNIST/data/y_train_augmented.pkl\")"
   ],
   "metadata": {
    "collapsed": false,
    "pycharm": {
     "name": "#%%\n"
    }
   }
  },
  {
   "cell_type": "code",
   "execution_count": 157,
   "outputs": [
    {
     "data": {
      "text/plain": "(300000, 784)"
     },
     "execution_count": 157,
     "metadata": {},
     "output_type": "execute_result"
    }
   ],
   "source": [
    "# check augmented dataset shape\n",
    "X_train_augmented.shape"
   ],
   "metadata": {
    "collapsed": false,
    "pycharm": {
     "name": "#%%\n"
    }
   }
  },
  {
   "cell_type": "code",
   "execution_count": 158,
   "outputs": [
    {
     "data": {
      "text/plain": "0    30000\n1    30000\n2    30000\n3    30000\n4    30000\n5    30000\n6    30000\n7    30000\n8    30000\n9    30000\ndtype: int64"
     },
     "execution_count": 158,
     "metadata": {},
     "output_type": "execute_result"
    }
   ],
   "source": [
    "# check augmented dataset class distribution (should be equal)\n",
    "pd.Series(y_train_augmented).value_counts().sort_index()"
   ],
   "metadata": {
    "collapsed": false,
    "pycharm": {
     "name": "#%%\n"
    }
   }
  },
  {
   "cell_type": "code",
   "source": [
    "# use pipeline to transform data\n",
    "X_train_aug_prepared = full_pipeline.fit_transform(X_train_augmented)"
   ],
   "metadata": {
    "collapsed": false,
    "pycharm": {
     "name": "#%%\n"
    }
   },
   "execution_count": 159,
   "outputs": []
  },
  {
   "cell_type": "code",
   "execution_count": 160,
   "outputs": [],
   "source": [
    "# xgb_clf_final = clone(xgb_clf4)\n",
    "# xgb_clf_final.fit(X_train_aug_prepared, y_train_augmented)\n",
    "# joblib.dump(xgb_clf_final, \"FMNIST/models/xgb_clf_final.pkl\")\n",
    "xgb_clf_final = joblib.load(r\"FMNIST/models/xgb_clf_final.pkl\")"
   ],
   "metadata": {
    "collapsed": false,
    "pycharm": {
     "name": "#%%\n"
    }
   }
  },
  {
   "cell_type": "markdown",
   "source": [
    "# 5. Evaluating the Test Set"
   ],
   "metadata": {
    "collapsed": false
   }
  },
  {
   "cell_type": "code",
   "execution_count": 161,
   "outputs": [],
   "source": [
    "# separate test set predictors and labels\n",
    "X_test = test_set.drop(\"label\", axis=1)\n",
    "y_test = test_set[\"label\"].copy()"
   ],
   "metadata": {
    "collapsed": false,
    "pycharm": {
     "name": "#%%\n"
    }
   }
  },
  {
   "cell_type": "code",
   "execution_count": 162,
   "outputs": [],
   "source": [
    "# transform test set\n",
    "X_test_prepared = full_pipeline.transform(X_test)"
   ],
   "metadata": {
    "collapsed": false,
    "pycharm": {
     "name": "#%%\n"
    }
   }
  },
  {
   "cell_type": "code",
   "execution_count": 163,
   "outputs": [
    {
     "name": "stdout",
     "output_type": "stream",
     "text": [
      "Accuracy: 0.8957\n",
      "              precision    recall  f1-score   support\n",
      "\n",
      "           0       0.84      0.87      0.85      1000\n",
      "           1       0.99      0.97      0.98      1000\n",
      "           2       0.82      0.83      0.82      1000\n",
      "           3       0.91      0.92      0.91      1000\n",
      "           4       0.83      0.84      0.84      1000\n",
      "           5       0.98      0.94      0.96      1000\n",
      "           6       0.74      0.69      0.72      1000\n",
      "           7       0.94      0.95      0.94      1000\n",
      "           8       0.97      0.98      0.97      1000\n",
      "           9       0.95      0.97      0.96      1000\n",
      "\n",
      "    accuracy                           0.90     10000\n",
      "   macro avg       0.90      0.90      0.90     10000\n",
      "weighted avg       0.90      0.90      0.90     10000\n",
      "\n",
      "Confusion Matrix Errors:\n"
     ]
    },
    {
     "data": {
      "text/plain": "<Figure size 396x396 with 1 Axes>",
      "image/png": "[encoded data removed]"
     },
     "metadata": {},
     "output_type": "display_data"
    }
   ],
   "source": [
    "# evaluate test set predictions\n",
    "final_predictions = xgb_clf_final.predict(X_test_prepared)\n",
    "display_evaluation(y_test, final_predictions, True, True)"
   ],
   "metadata": {
    "collapsed": false,
    "pycharm": {
     "name": "#%%\n"
    }
   }
  },
  {
   "cell_type": "markdown",
   "source": [
    "> #### Resources:\n",
    "1. Fashion MNIST Dataset <a href=\"https://www.kaggle.com/zalando-research/fashionmnist\"\n",
    "> title=\"Kaggle\">link</a>\n",
    "2. Feature Scaling Article <a href=\"https://towardsdatascience.com/all-about-feature-scaling-bcc0ad75cb35\"\n",
    "> title=\"towardsdatascience\">link</a>\n",
    "3. PCA Article <a href=\"https://towardsdatascience.com/pca-is-not-feature-selection-3344fb764ae6\"\n",
    "> title=\"towardsdatascience\">link</a>\n",
    "4. Extra Trees and Random Forest Comparison <a href=\"https://quantdare.com/what-is-the-difference-between-extra-trees-and-random-forest/\"\n",
    "> title=\"quantdare\">link</a>"
   ],
   "metadata": {
    "collapsed": false
   }
  },
  {
   "cell_type": "markdown",
   "source": [
    "In the bootstrap aggregating (bagging) method, part of the original data is\n",
    "not being used (also called out-of-bag samples).\n",
    "\n",
    "Sampling without replacement is called pasting.\n",
    "\n",
    "I'll try to train a Random Forest with the same parameters, this time with pasting\n",
    "(bagging is the default)."
   ],
   "metadata": {
    "collapsed": false
   }
  },
  {
   "cell_type": "markdown",
   "source": [
    "> Tuning leaf node minimum samples and maximum tree depth:\n",
    ">> Note: Increasing max hyperparameters increase variance and decrease bias. On the other hand,\n",
    "> increasing min hyperparameters decrease variance and increase bias. It is good to evaluate\n",
    "> how the different values influence model regularization."
   ],
   "metadata": {
    "collapsed": false
   }
  },
  {
   "cell_type": "markdown",
   "source": [
    "param_grid = [{\n",
    "#    \"min_samples_split\": [8, 10, 12], # minimum number of samples required for splitting a node\n",
    "    \"min_samples_leaf\": [10, 50, 100],  # minimum number of samples required for a leaf node\n",
    "    \"max_depth\": [32, 64]  # maximum depth of a tree\n",
    "}]\n"
   ],
   "metadata": {
    "collapsed": false,
    "pycharm": {
     "name": "#%% md\n"
    }
   }
  }
 ],
 "metadata": {
  "kernelspec": {
   "name": "pycharm-bcecade4",
   "language": "python",
   "display_name": "PyCharm (1SB-Final-Project)"
  },
  "language_info": {
   "codemirror_mode": {
    "name": "ipython",
    "version": 2
   },
   "file_extension": ".py",
   "mimetype": "text/x-python",
   "name": "python",
   "nbconvert_exporter": "python",
   "pygments_lexer": "ipython2",
   "version": "2.7.6"
  }
 },
 "nbformat": 4,
 "nbformat_minor": 0
}