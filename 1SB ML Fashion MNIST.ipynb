{
 "cells": [
  {
   "cell_type": "code",
   "execution_count": 59,
   "outputs": [],
   "source": [
    "# common imports\n",
    "import numpy as np\n",
    "import pandas as pd\n",
    "import seaborn as sns\n",
    "import matplotlib.pyplot as plt\n",
    "%matplotlib inline\n",
    "\n",
    "# machine learning imports\n",
    "from sklearn.preprocessing import StandardScaler\n",
    "from sklearn.neighbors import KNeighborsClassifier\n",
    "from sklearn.linear_model import LogisticRegression\n",
    "from sklearn.ensemble import RandomForestClassifier\n",
    "from sklearn import metrics\n",
    "\n",
    "# display setup\n",
    "plt.style.use('seaborn') # for plots\n",
    "# sns.set(style=\"whitegrid\")"
   ],
   "metadata": {
    "collapsed": false,
    "pycharm": {
     "name": "#%%\n"
    }
   }
  },
  {
   "cell_type": "markdown",
   "source": [
    "# Preface\n",
    "* Fashion-MNIST is a dataset containing 70,000 samples, 60,000 for the training set and 10,000 for the test set.\n",
    "* Each sample is a 28x28 (784 pixels) grayscale image of a certain fashion item.\n",
    "* The data contains a column with 10 labels, making this a **multiclass classification** problem.\n",
    "In other words, this is a **supervised learning** task.\n",
    "* The model will be trained using all available data and run without learning anymore. This method is named **offline/batch learning**.\n",
    "* Main objective: Find the best algorithm and model parameters that classify the unused images correctly."
   ],
   "metadata": {
    "collapsed": false
   }
  },
  {
   "cell_type": "markdown",
   "source": [
    "# 1. Getting the Data"
   ],
   "metadata": {
    "collapsed": false
   }
  },
  {
   "cell_type": "code",
   "execution_count": 2,
   "outputs": [],
   "source": [
    "# read the csv file\n",
    "train_set = pd.read_csv(r\"FMNIST/fashion-mnist_train.csv\")\n",
    "test_set = pd.read_csv(r\"FMNIST/fashion-mnist_test.csv\")"
   ],
   "metadata": {
    "collapsed": false,
    "pycharm": {
     "name": "#%%\n"
    }
   }
  },
  {
   "cell_type": "code",
   "execution_count": 3,
   "outputs": [
    {
     "data": {
      "text/plain": "   label  pixel1  pixel2  pixel3  pixel4  pixel5  pixel6  pixel7  pixel8  \\\n0      2       0       0       0       0       0       0       0       0   \n1      9       0       0       0       0       0       0       0       0   \n2      6       0       0       0       0       0       0       0       5   \n3      0       0       0       0       1       2       0       0       0   \n4      3       0       0       0       0       0       0       0       0   \n\n   pixel9  ...  pixel775  pixel776  pixel777  pixel778  pixel779  pixel780  \\\n0       0  ...         0         0         0         0         0         0   \n1       0  ...         0         0         0         0         0         0   \n2       0  ...         0         0         0        30        43         0   \n3       0  ...         3         0         0         0         0         1   \n4       0  ...         0         0         0         0         0         0   \n\n   pixel781  pixel782  pixel783  pixel784  \n0         0         0         0         0  \n1         0         0         0         0  \n2         0         0         0         0  \n3         0         0         0         0  \n4         0         0         0         0  \n\n[5 rows x 785 columns]",
      "text/html": "<div>\n<style scoped>\n    .dataframe tbody tr th:only-of-type {\n        vertical-align: middle;\n    }\n\n    .dataframe tbody tr th {\n        vertical-align: top;\n    }\n\n    .dataframe thead th {\n        text-align: right;\n    }\n</style>\n<table border=\"1\" class=\"dataframe\">\n  <thead>\n    <tr style=\"text-align: right;\">\n      <th></th>\n      <th>label</th>\n      <th>pixel1</th>\n      <th>pixel2</th>\n      <th>pixel3</th>\n      <th>pixel4</th>\n      <th>pixel5</th>\n      <th>pixel6</th>\n      <th>pixel7</th>\n      <th>pixel8</th>\n      <th>pixel9</th>\n      <th>...</th>\n      <th>pixel775</th>\n      <th>pixel776</th>\n      <th>pixel777</th>\n      <th>pixel778</th>\n      <th>pixel779</th>\n      <th>pixel780</th>\n      <th>pixel781</th>\n      <th>pixel782</th>\n      <th>pixel783</th>\n      <th>pixel784</th>\n    </tr>\n  </thead>\n  <tbody>\n    <tr>\n      <th>0</th>\n      <td>2</td>\n      <td>0</td>\n      <td>0</td>\n      <td>0</td>\n      <td>0</td>\n      <td>0</td>\n      <td>0</td>\n      <td>0</td>\n      <td>0</td>\n      <td>0</td>\n      <td>...</td>\n      <td>0</td>\n      <td>0</td>\n      <td>0</td>\n      <td>0</td>\n      <td>0</td>\n      <td>0</td>\n      <td>0</td>\n      <td>0</td>\n      <td>0</td>\n      <td>0</td>\n    </tr>\n    <tr>\n      <th>1</th>\n      <td>9</td>\n      <td>0</td>\n      <td>0</td>\n      <td>0</td>\n      <td>0</td>\n      <td>0</td>\n      <td>0</td>\n      <td>0</td>\n      <td>0</td>\n      <td>0</td>\n      <td>...</td>\n      <td>0</td>\n      <td>0</td>\n      <td>0</td>\n      <td>0</td>\n      <td>0</td>\n      <td>0</td>\n      <td>0</td>\n      <td>0</td>\n      <td>0</td>\n      <td>0</td>\n    </tr>\n    <tr>\n      <th>2</th>\n      <td>6</td>\n      <td>0</td>\n      <td>0</td>\n      <td>0</td>\n      <td>0</td>\n      <td>0</td>\n      <td>0</td>\n      <td>0</td>\n      <td>5</td>\n      <td>0</td>\n      <td>...</td>\n      <td>0</td>\n      <td>0</td>\n      <td>0</td>\n      <td>30</td>\n      <td>43</td>\n      <td>0</td>\n      <td>0</td>\n      <td>0</td>\n      <td>0</td>\n      <td>0</td>\n    </tr>\n    <tr>\n      <th>3</th>\n      <td>0</td>\n      <td>0</td>\n      <td>0</td>\n      <td>0</td>\n      <td>1</td>\n      <td>2</td>\n      <td>0</td>\n      <td>0</td>\n      <td>0</td>\n      <td>0</td>\n      <td>...</td>\n      <td>3</td>\n      <td>0</td>\n      <td>0</td>\n      <td>0</td>\n      <td>0</td>\n      <td>1</td>\n      <td>0</td>\n      <td>0</td>\n      <td>0</td>\n      <td>0</td>\n    </tr>\n    <tr>\n      <th>4</th>\n      <td>3</td>\n      <td>0</td>\n      <td>0</td>\n      <td>0</td>\n      <td>0</td>\n      <td>0</td>\n      <td>0</td>\n      <td>0</td>\n      <td>0</td>\n      <td>0</td>\n      <td>...</td>\n      <td>0</td>\n      <td>0</td>\n      <td>0</td>\n      <td>0</td>\n      <td>0</td>\n      <td>0</td>\n      <td>0</td>\n      <td>0</td>\n      <td>0</td>\n      <td>0</td>\n    </tr>\n  </tbody>\n</table>\n<p>5 rows × 785 columns</p>\n</div>"
     },
     "execution_count": 3,
     "metadata": {},
     "output_type": "execute_result"
    }
   ],
   "source": [
    "# display the first 5 rows for a quick look\n",
    "train_set.head()"
   ],
   "metadata": {
    "collapsed": false,
    "pycharm": {
     "name": "#%%\n"
    }
   }
  },
  {
   "cell_type": "code",
   "execution_count": 4,
   "outputs": [
    {
     "data": {
      "text/plain": "       label  pixel1  pixel2  pixel3  pixel4  pixel5  pixel6  pixel7  pixel8  \\\n59995      9       0       0       0       0       0       0       0       0   \n59996      1       0       0       0       0       0       0       0       0   \n59997      8       0       0       0       0       0       0       0       0   \n59998      8       0       0       0       0       0       0       0       0   \n59999      7       0       0       0       0       0       0       0       0   \n\n       pixel9  ...  pixel775  pixel776  pixel777  pixel778  pixel779  \\\n59995       0  ...         0         0         0         0         0   \n59996       0  ...        73         0         0         0         0   \n59997       0  ...       160       162       163       135        94   \n59998       0  ...         0         0         0         0         0   \n59999       0  ...         0         0         0         0         0   \n\n       pixel780  pixel781  pixel782  pixel783  pixel784  \n59995         0         0         0         0         0  \n59996         0         0         0         0         0  \n59997         0         0         0         0         0  \n59998         0         0         0         0         0  \n59999         0         0         0         0         0  \n\n[5 rows x 785 columns]",
      "text/html": "<div>\n<style scoped>\n    .dataframe tbody tr th:only-of-type {\n        vertical-align: middle;\n    }\n\n    .dataframe tbody tr th {\n        vertical-align: top;\n    }\n\n    .dataframe thead th {\n        text-align: right;\n    }\n</style>\n<table border=\"1\" class=\"dataframe\">\n  <thead>\n    <tr style=\"text-align: right;\">\n      <th></th>\n      <th>label</th>\n      <th>pixel1</th>\n      <th>pixel2</th>\n      <th>pixel3</th>\n      <th>pixel4</th>\n      <th>pixel5</th>\n      <th>pixel6</th>\n      <th>pixel7</th>\n      <th>pixel8</th>\n      <th>pixel9</th>\n      <th>...</th>\n      <th>pixel775</th>\n      <th>pixel776</th>\n      <th>pixel777</th>\n      <th>pixel778</th>\n      <th>pixel779</th>\n      <th>pixel780</th>\n      <th>pixel781</th>\n      <th>pixel782</th>\n      <th>pixel783</th>\n      <th>pixel784</th>\n    </tr>\n  </thead>\n  <tbody>\n    <tr>\n      <th>59995</th>\n      <td>9</td>\n      <td>0</td>\n      <td>0</td>\n      <td>0</td>\n      <td>0</td>\n      <td>0</td>\n      <td>0</td>\n      <td>0</td>\n      <td>0</td>\n      <td>0</td>\n      <td>...</td>\n      <td>0</td>\n      <td>0</td>\n      <td>0</td>\n      <td>0</td>\n      <td>0</td>\n      <td>0</td>\n      <td>0</td>\n      <td>0</td>\n      <td>0</td>\n      <td>0</td>\n    </tr>\n    <tr>\n      <th>59996</th>\n      <td>1</td>\n      <td>0</td>\n      <td>0</td>\n      <td>0</td>\n      <td>0</td>\n      <td>0</td>\n      <td>0</td>\n      <td>0</td>\n      <td>0</td>\n      <td>0</td>\n      <td>...</td>\n      <td>73</td>\n      <td>0</td>\n      <td>0</td>\n      <td>0</td>\n      <td>0</td>\n      <td>0</td>\n      <td>0</td>\n      <td>0</td>\n      <td>0</td>\n      <td>0</td>\n    </tr>\n    <tr>\n      <th>59997</th>\n      <td>8</td>\n      <td>0</td>\n      <td>0</td>\n      <td>0</td>\n      <td>0</td>\n      <td>0</td>\n      <td>0</td>\n      <td>0</td>\n      <td>0</td>\n      <td>0</td>\n      <td>...</td>\n      <td>160</td>\n      <td>162</td>\n      <td>163</td>\n      <td>135</td>\n      <td>94</td>\n      <td>0</td>\n      <td>0</td>\n      <td>0</td>\n      <td>0</td>\n      <td>0</td>\n    </tr>\n    <tr>\n      <th>59998</th>\n      <td>8</td>\n      <td>0</td>\n      <td>0</td>\n      <td>0</td>\n      <td>0</td>\n      <td>0</td>\n      <td>0</td>\n      <td>0</td>\n      <td>0</td>\n      <td>0</td>\n      <td>...</td>\n      <td>0</td>\n      <td>0</td>\n      <td>0</td>\n      <td>0</td>\n      <td>0</td>\n      <td>0</td>\n      <td>0</td>\n      <td>0</td>\n      <td>0</td>\n      <td>0</td>\n    </tr>\n    <tr>\n      <th>59999</th>\n      <td>7</td>\n      <td>0</td>\n      <td>0</td>\n      <td>0</td>\n      <td>0</td>\n      <td>0</td>\n      <td>0</td>\n      <td>0</td>\n      <td>0</td>\n      <td>0</td>\n      <td>...</td>\n      <td>0</td>\n      <td>0</td>\n      <td>0</td>\n      <td>0</td>\n      <td>0</td>\n      <td>0</td>\n      <td>0</td>\n      <td>0</td>\n      <td>0</td>\n      <td>0</td>\n    </tr>\n  </tbody>\n</table>\n<p>5 rows × 785 columns</p>\n</div>"
     },
     "execution_count": 4,
     "metadata": {},
     "output_type": "execute_result"
    }
   ],
   "source": [
    "# display the last 5 rows for a quick look\n",
    "train_set.tail()"
   ],
   "metadata": {
    "collapsed": false,
    "pycharm": {
     "name": "#%%\n"
    }
   }
  },
  {
   "cell_type": "code",
   "execution_count": 5,
   "outputs": [
    {
     "name": "stdout",
     "output_type": "stream",
     "text": [
      "Training Set: (60000, 785)\n",
      "Test Set: (10000, 785)\n"
     ]
    }
   ],
   "source": [
    "# DataFrame shape (rows, columns)\n",
    "print(\"Training Set:\", train_set.shape)\n",
    "print(\"Test Set:\", test_set.shape)"
   ],
   "metadata": {
    "collapsed": false,
    "pycharm": {
     "name": "#%%\n"
    }
   }
  },
  {
   "cell_type": "code",
   "execution_count": 6,
   "outputs": [
    {
     "name": "stdout",
     "output_type": "stream",
     "text": [
      "<class 'pandas.core.frame.DataFrame'>\n",
      "RangeIndex: 60000 entries, 0 to 59999\n",
      "Columns: 785 entries, label to pixel784\n",
      "dtypes: int64(785)\n",
      "memory usage: 359.3 MB\n"
     ]
    }
   ],
   "source": [
    "# description of data\n",
    "train_set.info()"
   ],
   "metadata": {
    "collapsed": false,
    "pycharm": {
     "name": "#%%\n"
    }
   }
  },
  {
   "cell_type": "code",
   "execution_count": 7,
   "outputs": [
    {
     "data": {
      "text/plain": "              label        pixel1        pixel2        pixel3        pixel4  \\\ncount  60000.000000  60000.000000  60000.000000  60000.000000  60000.000000   \nmean       4.500000      0.000900      0.006150      0.035333      0.101933   \nstd        2.872305      0.094689      0.271011      1.222324      2.452871   \nmin        0.000000      0.000000      0.000000      0.000000      0.000000   \n25%        2.000000      0.000000      0.000000      0.000000      0.000000   \n50%        4.500000      0.000000      0.000000      0.000000      0.000000   \n75%        7.000000      0.000000      0.000000      0.000000      0.000000   \nmax        9.000000     16.000000     36.000000    226.000000    164.000000   \n\n             pixel5        pixel6        pixel7        pixel8        pixel9  \\\ncount  60000.000000  60000.000000  60000.000000  60000.000000  60000.000000   \nmean       0.247967      0.411467      0.805767      2.198283      5.682000   \nstd        4.306912      5.836188      8.215169     14.093378     23.819481   \nmin        0.000000      0.000000      0.000000      0.000000      0.000000   \n25%        0.000000      0.000000      0.000000      0.000000      0.000000   \n50%        0.000000      0.000000      0.000000      0.000000      0.000000   \n75%        0.000000      0.000000      0.000000      0.000000      0.000000   \nmax      227.000000    230.000000    224.000000    255.000000    254.000000   \n\n       ...      pixel775      pixel776      pixel777      pixel778  \\\ncount  ...  60000.000000  60000.000000  60000.000000  60000.000000   \nmean   ...     34.625400     23.300683     16.588267     17.869433   \nstd    ...     57.545242     48.854427     41.979611     43.966032   \nmin    ...      0.000000      0.000000      0.000000      0.000000   \n25%    ...      0.000000      0.000000      0.000000      0.000000   \n50%    ...      0.000000      0.000000      0.000000      0.000000   \n75%    ...     58.000000      9.000000      0.000000      0.000000   \nmax    ...    255.000000    255.000000    255.000000    255.000000   \n\n           pixel779      pixel780      pixel781      pixel782      pixel783  \\\ncount  60000.000000  60000.000000  60000.000000  60000.000000  60000.000000   \nmean      22.814817     17.911483      8.520633      2.753300      0.855517   \nstd       51.830477     45.149388     29.614859     17.397652      9.356960   \nmin        0.000000      0.000000      0.000000      0.000000      0.000000   \n25%        0.000000      0.000000      0.000000      0.000000      0.000000   \n50%        0.000000      0.000000      0.000000      0.000000      0.000000   \n75%        0.000000      0.000000      0.000000      0.000000      0.000000   \nmax      255.000000    255.000000    255.000000    255.000000    255.000000   \n\n          pixel784  \ncount  60000.00000  \nmean       0.07025  \nstd        2.12587  \nmin        0.00000  \n25%        0.00000  \n50%        0.00000  \n75%        0.00000  \nmax      170.00000  \n\n[8 rows x 785 columns]",
      "text/html": "<div>\n<style scoped>\n    .dataframe tbody tr th:only-of-type {\n        vertical-align: middle;\n    }\n\n    .dataframe tbody tr th {\n        vertical-align: top;\n    }\n\n    .dataframe thead th {\n        text-align: right;\n    }\n</style>\n<table border=\"1\" class=\"dataframe\">\n  <thead>\n    <tr style=\"text-align: right;\">\n      <th></th>\n      <th>label</th>\n      <th>pixel1</th>\n      <th>pixel2</th>\n      <th>pixel3</th>\n      <th>pixel4</th>\n      <th>pixel5</th>\n      <th>pixel6</th>\n      <th>pixel7</th>\n      <th>pixel8</th>\n      <th>pixel9</th>\n      <th>...</th>\n      <th>pixel775</th>\n      <th>pixel776</th>\n      <th>pixel777</th>\n      <th>pixel778</th>\n      <th>pixel779</th>\n      <th>pixel780</th>\n      <th>pixel781</th>\n      <th>pixel782</th>\n      <th>pixel783</th>\n      <th>pixel784</th>\n    </tr>\n  </thead>\n  <tbody>\n    <tr>\n      <th>count</th>\n      <td>60000.000000</td>\n      <td>60000.000000</td>\n      <td>60000.000000</td>\n      <td>60000.000000</td>\n      <td>60000.000000</td>\n      <td>60000.000000</td>\n      <td>60000.000000</td>\n      <td>60000.000000</td>\n      <td>60000.000000</td>\n      <td>60000.000000</td>\n      <td>...</td>\n      <td>60000.000000</td>\n      <td>60000.000000</td>\n      <td>60000.000000</td>\n      <td>60000.000000</td>\n      <td>60000.000000</td>\n      <td>60000.000000</td>\n      <td>60000.000000</td>\n      <td>60000.000000</td>\n      <td>60000.000000</td>\n      <td>60000.00000</td>\n    </tr>\n    <tr>\n      <th>mean</th>\n      <td>4.500000</td>\n      <td>0.000900</td>\n      <td>0.006150</td>\n      <td>0.035333</td>\n      <td>0.101933</td>\n      <td>0.247967</td>\n      <td>0.411467</td>\n      <td>0.805767</td>\n      <td>2.198283</td>\n      <td>5.682000</td>\n      <td>...</td>\n      <td>34.625400</td>\n      <td>23.300683</td>\n      <td>16.588267</td>\n      <td>17.869433</td>\n      <td>22.814817</td>\n      <td>17.911483</td>\n      <td>8.520633</td>\n      <td>2.753300</td>\n      <td>0.855517</td>\n      <td>0.07025</td>\n    </tr>\n    <tr>\n      <th>std</th>\n      <td>2.872305</td>\n      <td>0.094689</td>\n      <td>0.271011</td>\n      <td>1.222324</td>\n      <td>2.452871</td>\n      <td>4.306912</td>\n      <td>5.836188</td>\n      <td>8.215169</td>\n      <td>14.093378</td>\n      <td>23.819481</td>\n      <td>...</td>\n      <td>57.545242</td>\n      <td>48.854427</td>\n      <td>41.979611</td>\n      <td>43.966032</td>\n      <td>51.830477</td>\n      <td>45.149388</td>\n      <td>29.614859</td>\n      <td>17.397652</td>\n      <td>9.356960</td>\n      <td>2.12587</td>\n    </tr>\n    <tr>\n      <th>min</th>\n      <td>0.000000</td>\n      <td>0.000000</td>\n      <td>0.000000</td>\n      <td>0.000000</td>\n      <td>0.000000</td>\n      <td>0.000000</td>\n      <td>0.000000</td>\n      <td>0.000000</td>\n      <td>0.000000</td>\n      <td>0.000000</td>\n      <td>...</td>\n      <td>0.000000</td>\n      <td>0.000000</td>\n      <td>0.000000</td>\n      <td>0.000000</td>\n      <td>0.000000</td>\n      <td>0.000000</td>\n      <td>0.000000</td>\n      <td>0.000000</td>\n      <td>0.000000</td>\n      <td>0.00000</td>\n    </tr>\n    <tr>\n      <th>25%</th>\n      <td>2.000000</td>\n      <td>0.000000</td>\n      <td>0.000000</td>\n      <td>0.000000</td>\n      <td>0.000000</td>\n      <td>0.000000</td>\n      <td>0.000000</td>\n      <td>0.000000</td>\n      <td>0.000000</td>\n      <td>0.000000</td>\n      <td>...</td>\n      <td>0.000000</td>\n      <td>0.000000</td>\n      <td>0.000000</td>\n      <td>0.000000</td>\n      <td>0.000000</td>\n      <td>0.000000</td>\n      <td>0.000000</td>\n      <td>0.000000</td>\n      <td>0.000000</td>\n      <td>0.00000</td>\n    </tr>\n    <tr>\n      <th>50%</th>\n      <td>4.500000</td>\n      <td>0.000000</td>\n      <td>0.000000</td>\n      <td>0.000000</td>\n      <td>0.000000</td>\n      <td>0.000000</td>\n      <td>0.000000</td>\n      <td>0.000000</td>\n      <td>0.000000</td>\n      <td>0.000000</td>\n      <td>...</td>\n      <td>0.000000</td>\n      <td>0.000000</td>\n      <td>0.000000</td>\n      <td>0.000000</td>\n      <td>0.000000</td>\n      <td>0.000000</td>\n      <td>0.000000</td>\n      <td>0.000000</td>\n      <td>0.000000</td>\n      <td>0.00000</td>\n    </tr>\n    <tr>\n      <th>75%</th>\n      <td>7.000000</td>\n      <td>0.000000</td>\n      <td>0.000000</td>\n      <td>0.000000</td>\n      <td>0.000000</td>\n      <td>0.000000</td>\n      <td>0.000000</td>\n      <td>0.000000</td>\n      <td>0.000000</td>\n      <td>0.000000</td>\n      <td>...</td>\n      <td>58.000000</td>\n      <td>9.000000</td>\n      <td>0.000000</td>\n      <td>0.000000</td>\n      <td>0.000000</td>\n      <td>0.000000</td>\n      <td>0.000000</td>\n      <td>0.000000</td>\n      <td>0.000000</td>\n      <td>0.00000</td>\n    </tr>\n    <tr>\n      <th>max</th>\n      <td>9.000000</td>\n      <td>16.000000</td>\n      <td>36.000000</td>\n      <td>226.000000</td>\n      <td>164.000000</td>\n      <td>227.000000</td>\n      <td>230.000000</td>\n      <td>224.000000</td>\n      <td>255.000000</td>\n      <td>254.000000</td>\n      <td>...</td>\n      <td>255.000000</td>\n      <td>255.000000</td>\n      <td>255.000000</td>\n      <td>255.000000</td>\n      <td>255.000000</td>\n      <td>255.000000</td>\n      <td>255.000000</td>\n      <td>255.000000</td>\n      <td>255.000000</td>\n      <td>170.00000</td>\n    </tr>\n  </tbody>\n</table>\n<p>8 rows × 785 columns</p>\n</div>"
     },
     "execution_count": 7,
     "metadata": {},
     "output_type": "execute_result"
    }
   ],
   "source": [
    "# summary of the numerical attributes\n",
    "# null values are ignored\n",
    "train_set.describe()"
   ],
   "metadata": {
    "collapsed": false,
    "pycharm": {
     "name": "#%%\n"
    }
   }
  },
  {
   "cell_type": "code",
   "execution_count": 8,
   "outputs": [
    {
     "data": {
      "text/plain": "255.0"
     },
     "execution_count": 8,
     "metadata": {},
     "output_type": "execute_result"
    }
   ],
   "source": [
    "# maximum pixel value\n",
    "train_set.describe().loc['max'].max()"
   ],
   "metadata": {
    "collapsed": false,
    "pycharm": {
     "name": "#%%\n"
    }
   }
  },
  {
   "cell_type": "code",
   "execution_count": 9,
   "outputs": [
    {
     "data": {
      "text/plain": "0.0"
     },
     "execution_count": 9,
     "metadata": {},
     "output_type": "execute_result"
    }
   ],
   "source": [
    "# minimum pixel value\n",
    "train_set.describe().loc['min'].max()"
   ],
   "metadata": {
    "collapsed": false,
    "pycharm": {
     "name": "#%%\n"
    }
   }
  },
  {
   "cell_type": "markdown",
   "source": [
    "> ### Features in the DataFrame:\n",
    "> There are 785 columns, one for the labels and 784 for the pixels (one for each pixel).\n",
    ">> Labels:\n",
    "> - 0 = T-shirt/top\n",
    "> - 1 = Trouser\n",
    "> - 2 = Pullover\n",
    "> - 3 = Dress\n",
    "> - 4 = Coat\n",
    "> - 5 = Sandal\n",
    "> - 6 = Shirt\n",
    "> - 7 = Sneaker\n",
    "> - 8 = Bag\n",
    "> - 9 = Ankle boot"
   ],
   "metadata": {
    "collapsed": false
   }
  },
  {
   "cell_type": "code",
   "execution_count": 12,
   "outputs": [
    {
     "data": {
      "text/plain": "0    6000\n1    6000\n2    6000\n3    6000\n4    6000\n5    6000\n6    6000\n7    6000\n8    6000\n9    6000\nName: label, dtype: int64"
     },
     "execution_count": 12,
     "metadata": {},
     "output_type": "execute_result"
    }
   ],
   "source": [
    "labels = [\"T-shirt/top\", \"Trouser\", \"Pullover\", \"Dress\", \"Coat\", \"Sandal\", \"Shirt\", \"Sneaker\", \"Bag\", \"Ankle boot\"]\n",
    "# number of instances for each category\n",
    "train_set[\"label\"].value_counts().sort_index()"
   ],
   "metadata": {
    "collapsed": false,
    "pycharm": {
     "name": "#%%\n"
    }
   }
  },
  {
   "cell_type": "markdown",
   "source": [
    "> Initial observations:\n",
    ">> 1. Each category has an equal amount of samples in the training set.\n",
    "2. Classes and pixel values are integers.\n",
    "3. The pixel range is [0, 255]. Some feature columns have a smaller maximum value or a\n",
    "greater minimum value. This means that the range is reduced for all training instances in\n",
    "that specific feature, in this case being a pixel value."
   ],
   "metadata": {
    "collapsed": false,
    "pycharm": {
     "name": "#%% md\n"
    }
   }
  },
  {
   "cell_type": "markdown",
   "source": [
    "# 2. Understanding and Visualizing the Data\n",
    "> ##### *The motivation for this section is to gain more insights.*"
   ],
   "metadata": {
    "collapsed": false
   }
  },
  {
   "cell_type": "markdown",
   "source": [
    "The data was split in advance and the images are already the same size.\n",
    "Let's create a copy of the data to prevent accidentally harming the training set."
   ],
   "metadata": {
    "collapsed": false
   }
  },
  {
   "cell_type": "code",
   "execution_count": 79,
   "outputs": [],
   "source": [
    "# deep copy of the training set\n",
    "fmnist = train_set.copy()"
   ],
   "metadata": {
    "collapsed": false,
    "pycharm": {
     "name": "#%%\n"
    }
   }
  },
  {
   "cell_type": "code",
   "execution_count": 80,
   "outputs": [
    {
     "data": {
      "text/plain": "(60000, 785)"
     },
     "execution_count": 80,
     "metadata": {},
     "output_type": "execute_result"
    }
   ],
   "source": [
    "# DataFrame shape (rows, columns)\n",
    "# understand the amount of data we are working with\n",
    "fmnist.shape"
   ],
   "metadata": {
    "collapsed": false,
    "pycharm": {
     "name": "#%%\n"
    }
   }
  },
  {
   "cell_type": "code",
   "execution_count": 81,
   "outputs": [
    {
     "data": {
      "text/plain": "0"
     },
     "execution_count": 81,
     "metadata": {},
     "output_type": "execute_result"
    }
   ],
   "source": [
    "# check for missing values\n",
    "np.isnan(fmnist.values).sum()"
   ],
   "metadata": {
    "collapsed": false,
    "pycharm": {
     "name": "#%%\n"
    }
   }
  },
  {
   "cell_type": "markdown",
   "source": [
    "> #### Observations:\n",
    ">> * There are no missing values in the training set."
   ],
   "metadata": {
    "collapsed": false,
    "pycharm": {
     "name": "#%% md\n"
    }
   }
  },
  {
   "cell_type": "code",
   "execution_count": 172,
   "outputs": [
    {
     "data": {
      "text/plain": "<Figure size 864x360 with 2 Axes>",
      "image/png": "[encoded data removed]"
     },
     "metadata": {},
     "output_type": "display_data"
    }
   ],
   "source": [
    "# sample image\n",
    "some_sample = fmnist.drop('label', axis=1).iloc[0] # get sample\n",
    "some_sample = np.array(some_sample) # convert to array\n",
    "some_sample_img = some_sample.reshape(28,28) # reshape array\n",
    "\n",
    "# plot grayscale sample image and pixel value occurrences\n",
    "fig, dx = plt.subplots(1,2, figsize=(12, 5))\n",
    "dx[0].imshow(some_sample_img)\n",
    "dx[0].axis('off')\n",
    "dx[0].set_title(\"Original Grayscale Sample\", size= 15)\n",
    "dx[1].hist(some_sample, bins=50)\n",
    "dx[1].set_title(\"Grayscale Sample Pixel Value Occurrences\", size= 15)\n",
    "dx[1].set_xlabel(\"Pixel Value\")\n",
    "dx[1].set_ylabel(\"Count\")\n",
    "plt.tight_layout()\n",
    "plt.show()"
   ],
   "metadata": {
    "collapsed": false,
    "pycharm": {
     "name": "#%%\n"
    }
   }
  },
  {
   "cell_type": "code",
   "execution_count": 175,
   "outputs": [
    {
     "data": {
      "text/plain": "<Figure size 864x360 with 2 Axes>",
      "image/png": "[encoded data removed]"
     },
     "metadata": {},
     "output_type": "display_data"
    }
   ],
   "source": [
    "# convert sample image from grayscale to black and white\n",
    "# in the fashion mnist dataset white pixels are 0 and black pixels are 255\n",
    "# the images are grayscale, so values (0,255) are different intensities of gray\n",
    "some_sample_bin = some_sample.copy() # deep copy of the sample image\n",
    "some_sample_bin[some_sample>0] = 1 # convert gray intensities to black\n",
    "some_sample_bin_img = some_sample_bin.reshape(28,28) # reshape array\n",
    "\n",
    "# plot black and white sample image and pixel value occurrences\n",
    "fig, dx = plt.subplots(1,2, figsize=(12, 5))\n",
    "dx[0].imshow(some_sample_bin_img)\n",
    "dx[0].axis('off')\n",
    "dx[0].set_title(\"Black and White Sample\", size= 15)\n",
    "dx[1].hist(some_sample_bin, bins=50)\n",
    "dx[1].set_title(\"Black and White Sample Pixel Value Occurrences\", size= 15)\n",
    "dx[1].set_xticks([0,1])\n",
    "dx[1].set_xlabel(\"Pixel Value\")\n",
    "dx[1].set_ylabel(\"Count\")\n",
    "plt.tight_layout()\n",
    "plt.show()"
   ],
   "metadata": {
    "collapsed": false,
    "pycharm": {
     "name": "#%%\n"
    }
   }
  },
  {
   "cell_type": "markdown",
   "source": [
    "> #### Observations:\n",
    ">> * The most common pixel value in the original grayscale sample is white (0) and in the binary\n",
    "> sample is black (1).\n",
    "* Aside from a few pixels that are detached from the clothing, the item resembles the original grayscale shape.\n",
    "* Transforming the data from grayscale to black and white should be further evaluated during model training.\n",
    "There is a possibly it could improve the result."
   ],
   "metadata": {
    "collapsed": false,
    "pycharm": {
     "name": "#%% md\n"
    }
   }
  },
  {
   "cell_type": "code",
   "execution_count": 176,
   "outputs": [
    {
     "data": {
      "text/plain": "<Figure size 720x504 with 10 Axes>",
      "image/png": "[encoded data removed]"
     },
     "metadata": {},
     "output_type": "display_data"
    }
   ],
   "source": [
    "# plot image for each category\n",
    "\n",
    "# use of a dictionary to easily add subplot titles\n",
    "label_dict = {0:\"0 = T-shirt/top\", 1:\"1 = Trouser\", 2:\"2 = Pullover\", 3:\"3 = Dress\", 4:\"4 = Coat\",\n",
    "              5:\"5 = Sandal\", 6:\"6 = Shirt\", 7:\"7 = Sneaker\", 8:\"8 = Bag\", 9:\"9 = Ankle boot\"}\n",
    "\n",
    "fig = plt.figure(figsize=(10,7))\n",
    "rows = 2\n",
    "columns = 5\n",
    "# use groupby to locate an instance for each label\n",
    "label_groups = fmnist.groupby('label')\n",
    "# add image in each iteration\n",
    "for i in range(rows*columns):\n",
    "    curr = label_groups.get_group(i)[:1] # get group\n",
    "    curr_img = curr.drop('label', axis = 1).to_numpy().reshape(28,28) # convert to reshaped array\n",
    "    fig.add_subplot(rows, columns, i+1)\n",
    "    plt.imshow(curr_img, plt.cm.binary)\n",
    "    plt.axis('off') # remove grid\n",
    "    plt.title(label_dict[i]) # use dictionary to add subplot title\n",
    "\n",
    "fig.suptitle(\"Fashion-MNIST Samples\", size=30)\n",
    "plt.tight_layout()\n",
    "plt.show()"
   ],
   "metadata": {
    "collapsed": false,
    "pycharm": {
     "name": "#%%\n"
    }
   }
  },
  {
   "cell_type": "code",
   "execution_count": 177,
   "outputs": [
    {
     "data": {
      "text/plain": "<Figure size 864x504 with 10 Axes>",
      "image/png": "[encoded data removed]"
     },
     "metadata": {},
     "output_type": "display_data"
    }
   ],
   "source": [
    "# plot pixel value occurrences for each class\n",
    "\n",
    "fig, dx = plt.subplots(2,5, figsize=(12, 7), sharey=True)\n",
    "i = 0 # current group label\n",
    "mean_values = []\n",
    "plt.setp(dx, xticks=np.arange(0, 256, step=85)) # set x axis values\n",
    "\n",
    "for row in range(2):\n",
    "    for col in range(5):\n",
    "        pixels = np.array(label_groups.get_group(i).drop(['label'], axis=1)) # get group and convert to array\n",
    "        mean_values.append(pixels.mean()) # calculate mean pixel value and add to list (for next plot)\n",
    "        dx[row,col].hist(pixels.reshape(-1)) # add histogram in each iteration, -1 reshapes to length of array\n",
    "        dx[row,col].set_title(label_dict[i], size=15) # use dictionary to add subplot title\n",
    "        i = i + 1 # next group\n",
    "\n",
    "fig.suptitle(\"Pixel Occurrences per Class\", size=30)\n",
    "plt.tight_layout()\n",
    "plt.show()"
   ],
   "metadata": {
    "collapsed": false,
    "pycharm": {
     "name": "#%%\n"
    }
   }
  },
  {
   "cell_type": "code",
   "execution_count": 65,
   "outputs": [
    {
     "data": {
      "text/plain": "<Figure size 864x360 with 1 Axes>",
      "image/png": "[encoded data removed]"
     },
     "metadata": {},
     "output_type": "display_data"
    }
   ],
   "source": [
    "# plot mean values calculated in previous cell\n",
    "plt.figure(figsize=(12, 5))\n",
    "sns.barplot(x=np.arange(10), y=mean_values) # x axis for classes, y axis for mean values\n",
    "plt.xticks(np.arange(10), labels=label_dict.values()) # use dictionary to set x axis values\n",
    "plt.xlabel(\"Class\", size=15)\n",
    "plt.ylabel(\"Mean\", size=15)\n",
    "plt.title(\"Pixel Occurrences per Class Mean\", size=30)\n",
    "plt.tight_layout()\n",
    "plt.show()"
   ],
   "metadata": {
    "collapsed": false,
    "pycharm": {
     "name": "#%%\n"
    }
   }
  },
  {
   "cell_type": "markdown",
   "source": [
    "# 3. Data Cleaning"
   ],
   "metadata": {
    "collapsed": false
   }
  },
  {
   "cell_type": "code",
   "execution_count": 17,
   "outputs": [],
   "source": [
    "# clean copy of the training set\n",
    "df3 = train_set.copy()"
   ],
   "metadata": {
    "collapsed": false,
    "pycharm": {
     "name": "#%%\n"
    }
   }
  },
  {
   "cell_type": "code",
   "execution_count": 103,
   "outputs": [],
   "source": [
    "# separate features from target values\n",
    "\n",
    "# drop- creates a copy without changing the training set\n",
    "X_train = df3.drop('label', axis=1)\n",
    "\n",
    "# create a deep copy of the target values\n",
    "y_train = df3['label'].copy()"
   ],
   "metadata": {
    "collapsed": false,
    "pycharm": {
     "name": "#%%\n"
    }
   }
  },
  {
   "cell_type": "markdown",
   "source": [
    "Although the pixel values are in a known range [0,255], scaling the data can make a crucial difference\n",
    "(especially if the learning algorithm relies on calculating distances).\n",
    "\n",
    "> Why is this important?\n",
    "* Models can't differentiate feature importance the same way humans can.\n",
    "A training algorithm may assume that a feature containing large numbers is more important than features\n",
    "with smaller numbers- which might not be the case.\n",
    "* Some algorithms converge much faster when features are scaled (i.e. Gradient Descent).\n",
    "* There are ML algorithms that make assumptions on the data (i.e. PCA assumes the data is centered around\n",
    "the origin).\n",
    ">\n",
    "\n",
    "Chosen feature scale:\n",
    "\n",
    "Standardizing centers the data so that it has a zero mean and a standard deviation of 1, under the assumption\n",
    "that the data is normally distributed.\n",
    "\n",
    "* The distribution is relatively normal (aside from the black pixels which is highest in all classes).\n",
    "* Using PCA could be useful since the dataset has a large amount of features. As previously stated,\n",
    "PCA assumes the data has zero mean.\n",
    "\n",
    "Therefore, standard scaling seems to be the ideal option."
   ],
   "metadata": {
    "collapsed": false,
    "pycharm": {
     "name": "#%% md\n"
    }
   }
  },
  {
   "cell_type": "code",
   "execution_count": 18,
   "outputs": [],
   "source": [],
   "metadata": {
    "collapsed": false,
    "pycharm": {
     "name": "#%%\n"
    }
   }
  },
  {
   "cell_type": "markdown",
   "source": [
    "# 4. Training and Evaluating Models"
   ],
   "metadata": {
    "collapsed": false
   }
  },
  {
   "cell_type": "markdown",
   "source": [
    ">"
   ],
   "metadata": {
    "collapsed": false,
    "pycharm": {
     "name": "#%% md\n"
    }
   }
  },
  {
   "cell_type": "markdown",
   "source": [
    "> Accuracy is less relevant for an imbalanced classification problem.\n",
    "> Evaluating by a metric that represents the data better is important.\n",
    ">\n",
    "> Chosen evaluation metric:\n",
    ">\n",
    "> The F1 Score is calculated by using precision (the accuracy of the positive predictions) and\n",
    "> recall (the ratio of positive instances correctly classified) accuracy.\n",
    "> This metric gives a higher value towards false positives rather than false negatives."
   ],
   "metadata": {
    "collapsed": false
   }
  },
  {
   "cell_type": "code",
   "execution_count": 19,
   "outputs": [],
   "source": [
    "# function prints scores\n",
    "def display_evaluation(actual, pred):\n",
    "    print(\"Confusion Matrix:\\n\", metrics.confusion_matrix(actual, pred), \"\\n\")\n",
    "    print(\"Classification Report:\\n\", metrics.classification_report(actual, pred))"
   ],
   "metadata": {
    "collapsed": false,
    "pycharm": {
     "name": "#%%\n"
    }
   }
  },
  {
   "cell_type": "code",
   "execution_count": 20,
   "outputs": [],
   "source": [
    "log_reg = LogisticRegression(random_state=42, n_jobs=-1, multi_class='ovr')"
   ],
   "metadata": {
    "collapsed": false,
    "pycharm": {
     "name": "#%%\n"
    }
   }
  },
  {
   "cell_type": "code",
   "execution_count": 21,
   "outputs": [],
   "source": [
    "from sklearn.model_selection import StratifiedKFold\n",
    "from sklearn.base import clone"
   ],
   "metadata": {
    "collapsed": false,
    "pycharm": {
     "name": "#%%\n"
    }
   }
  },
  {
   "cell_type": "code",
   "execution_count": 22,
   "outputs": [],
   "source": [
    "skfolds = StratifiedKFold(n_splits=6, shuffle=True, random_state=42)"
   ],
   "metadata": {
    "collapsed": false,
    "pycharm": {
     "name": "#%%\n"
    }
   }
  },
  {
   "cell_type": "code",
   "execution_count": 23,
   "outputs": [
    {
     "name": "stdout",
     "output_type": "stream",
     "text": [
      "0    5000\n",
      "1    5000\n",
      "2    5000\n",
      "3    5000\n",
      "4    5000\n",
      "5    5000\n",
      "6    5000\n",
      "7    5000\n",
      "8    5000\n",
      "9    5000\n",
      "Name: label, dtype: int64\n",
      "0    1000\n",
      "8    1000\n",
      "1    1000\n",
      "9    1000\n",
      "2    1000\n",
      "3    1000\n",
      "4    1000\n",
      "5    1000\n",
      "6    1000\n",
      "7    1000\n",
      "Name: label, dtype: int64\n"
     ]
    },
    {
     "ename": "KeyboardInterrupt",
     "evalue": "",
     "output_type": "error",
     "traceback": [
      "\u001B[1;31m---------------------------------------------------------------------------\u001B[0m",
      "\u001B[1;31mKeyboardInterrupt\u001B[0m                         Traceback (most recent call last)",
      "\u001B[1;32m<ipython-input-23-44013d443d53>\u001B[0m in \u001B[0;36m<module>\u001B[1;34m\u001B[0m\n\u001B[0;32m     12\u001B[0m     \u001B[0mstd_scl\u001B[0m\u001B[1;33m.\u001B[0m\u001B[0mtransform\u001B[0m\u001B[1;33m(\u001B[0m\u001B[0mX_test_fold\u001B[0m\u001B[1;33m)\u001B[0m\u001B[1;33m\u001B[0m\u001B[1;33m\u001B[0m\u001B[0m\n\u001B[0;32m     13\u001B[0m \u001B[1;33m\u001B[0m\u001B[0m\n\u001B[1;32m---> 14\u001B[1;33m     \u001B[0mclone_clf\u001B[0m\u001B[1;33m.\u001B[0m\u001B[0mfit\u001B[0m\u001B[1;33m(\u001B[0m\u001B[0mX_train_folds\u001B[0m\u001B[1;33m,\u001B[0m \u001B[0my_train_folds\u001B[0m\u001B[1;33m)\u001B[0m\u001B[1;33m\u001B[0m\u001B[1;33m\u001B[0m\u001B[0m\n\u001B[0m\u001B[0;32m     15\u001B[0m     \u001B[0my_pred_proba\u001B[0m \u001B[1;33m=\u001B[0m \u001B[0mclone_clf\u001B[0m\u001B[1;33m.\u001B[0m\u001B[0mpredict_proba\u001B[0m\u001B[1;33m(\u001B[0m\u001B[0mX_test_fold\u001B[0m\u001B[1;33m)\u001B[0m\u001B[1;33m\u001B[0m\u001B[1;33m\u001B[0m\u001B[0m\n\u001B[0;32m     16\u001B[0m     \u001B[0my_pred\u001B[0m \u001B[1;33m=\u001B[0m \u001B[0mclone_clf\u001B[0m\u001B[1;33m.\u001B[0m\u001B[0mpredict\u001B[0m\u001B[1;33m(\u001B[0m\u001B[0mX_test_fold\u001B[0m\u001B[1;33m)\u001B[0m\u001B[1;33m\u001B[0m\u001B[1;33m\u001B[0m\u001B[0m\n",
      "\u001B[1;32m~\\Anaconda3\\lib\\site-packages\\sklearn\\linear_model\\_logistic.py\u001B[0m in \u001B[0;36mfit\u001B[1;34m(self, X, y, sample_weight)\u001B[0m\n\u001B[0;32m   1404\u001B[0m         \u001B[1;32melse\u001B[0m\u001B[1;33m:\u001B[0m\u001B[1;33m\u001B[0m\u001B[1;33m\u001B[0m\u001B[0m\n\u001B[0;32m   1405\u001B[0m             \u001B[0mprefer\u001B[0m \u001B[1;33m=\u001B[0m \u001B[1;34m'processes'\u001B[0m\u001B[1;33m\u001B[0m\u001B[1;33m\u001B[0m\u001B[0m\n\u001B[1;32m-> 1406\u001B[1;33m         fold_coefs_ = Parallel(n_jobs=self.n_jobs, verbose=self.verbose,\n\u001B[0m\u001B[0;32m   1407\u001B[0m                                \u001B[1;33m**\u001B[0m\u001B[0m_joblib_parallel_args\u001B[0m\u001B[1;33m(\u001B[0m\u001B[0mprefer\u001B[0m\u001B[1;33m=\u001B[0m\u001B[0mprefer\u001B[0m\u001B[1;33m)\u001B[0m\u001B[1;33m)\u001B[0m\u001B[1;33m(\u001B[0m\u001B[1;33m\u001B[0m\u001B[1;33m\u001B[0m\u001B[0m\n\u001B[0;32m   1408\u001B[0m             path_func(X, y, pos_class=class_, Cs=[C_],\n",
      "\u001B[1;32m~\\Anaconda3\\lib\\site-packages\\joblib\\parallel.py\u001B[0m in \u001B[0;36m__call__\u001B[1;34m(self, iterable)\u001B[0m\n\u001B[0;32m   1052\u001B[0m \u001B[1;33m\u001B[0m\u001B[0m\n\u001B[0;32m   1053\u001B[0m             \u001B[1;32mwith\u001B[0m \u001B[0mself\u001B[0m\u001B[1;33m.\u001B[0m\u001B[0m_backend\u001B[0m\u001B[1;33m.\u001B[0m\u001B[0mretrieval_context\u001B[0m\u001B[1;33m(\u001B[0m\u001B[1;33m)\u001B[0m\u001B[1;33m:\u001B[0m\u001B[1;33m\u001B[0m\u001B[1;33m\u001B[0m\u001B[0m\n\u001B[1;32m-> 1054\u001B[1;33m                 \u001B[0mself\u001B[0m\u001B[1;33m.\u001B[0m\u001B[0mretrieve\u001B[0m\u001B[1;33m(\u001B[0m\u001B[1;33m)\u001B[0m\u001B[1;33m\u001B[0m\u001B[1;33m\u001B[0m\u001B[0m\n\u001B[0m\u001B[0;32m   1055\u001B[0m             \u001B[1;31m# Make sure that we get a last message telling us we are done\u001B[0m\u001B[1;33m\u001B[0m\u001B[1;33m\u001B[0m\u001B[1;33m\u001B[0m\u001B[0m\n\u001B[0;32m   1056\u001B[0m             \u001B[0melapsed_time\u001B[0m \u001B[1;33m=\u001B[0m \u001B[0mtime\u001B[0m\u001B[1;33m.\u001B[0m\u001B[0mtime\u001B[0m\u001B[1;33m(\u001B[0m\u001B[1;33m)\u001B[0m \u001B[1;33m-\u001B[0m \u001B[0mself\u001B[0m\u001B[1;33m.\u001B[0m\u001B[0m_start_time\u001B[0m\u001B[1;33m\u001B[0m\u001B[1;33m\u001B[0m\u001B[0m\n",
      "\u001B[1;32m~\\Anaconda3\\lib\\site-packages\\joblib\\parallel.py\u001B[0m in \u001B[0;36mretrieve\u001B[1;34m(self)\u001B[0m\n\u001B[0;32m    931\u001B[0m             \u001B[1;32mtry\u001B[0m\u001B[1;33m:\u001B[0m\u001B[1;33m\u001B[0m\u001B[1;33m\u001B[0m\u001B[0m\n\u001B[0;32m    932\u001B[0m                 \u001B[1;32mif\u001B[0m \u001B[0mgetattr\u001B[0m\u001B[1;33m(\u001B[0m\u001B[0mself\u001B[0m\u001B[1;33m.\u001B[0m\u001B[0m_backend\u001B[0m\u001B[1;33m,\u001B[0m \u001B[1;34m'supports_timeout'\u001B[0m\u001B[1;33m,\u001B[0m \u001B[1;32mFalse\u001B[0m\u001B[1;33m)\u001B[0m\u001B[1;33m:\u001B[0m\u001B[1;33m\u001B[0m\u001B[1;33m\u001B[0m\u001B[0m\n\u001B[1;32m--> 933\u001B[1;33m                     \u001B[0mself\u001B[0m\u001B[1;33m.\u001B[0m\u001B[0m_output\u001B[0m\u001B[1;33m.\u001B[0m\u001B[0mextend\u001B[0m\u001B[1;33m(\u001B[0m\u001B[0mjob\u001B[0m\u001B[1;33m.\u001B[0m\u001B[0mget\u001B[0m\u001B[1;33m(\u001B[0m\u001B[0mtimeout\u001B[0m\u001B[1;33m=\u001B[0m\u001B[0mself\u001B[0m\u001B[1;33m.\u001B[0m\u001B[0mtimeout\u001B[0m\u001B[1;33m)\u001B[0m\u001B[1;33m)\u001B[0m\u001B[1;33m\u001B[0m\u001B[1;33m\u001B[0m\u001B[0m\n\u001B[0m\u001B[0;32m    934\u001B[0m                 \u001B[1;32melse\u001B[0m\u001B[1;33m:\u001B[0m\u001B[1;33m\u001B[0m\u001B[1;33m\u001B[0m\u001B[0m\n\u001B[0;32m    935\u001B[0m                     \u001B[0mself\u001B[0m\u001B[1;33m.\u001B[0m\u001B[0m_output\u001B[0m\u001B[1;33m.\u001B[0m\u001B[0mextend\u001B[0m\u001B[1;33m(\u001B[0m\u001B[0mjob\u001B[0m\u001B[1;33m.\u001B[0m\u001B[0mget\u001B[0m\u001B[1;33m(\u001B[0m\u001B[1;33m)\u001B[0m\u001B[1;33m)\u001B[0m\u001B[1;33m\u001B[0m\u001B[1;33m\u001B[0m\u001B[0m\n",
      "\u001B[1;32m~\\Anaconda3\\lib\\site-packages\\joblib\\_parallel_backends.py\u001B[0m in \u001B[0;36mwrap_future_result\u001B[1;34m(future, timeout)\u001B[0m\n\u001B[0;32m    540\u001B[0m         AsyncResults.get from multiprocessing.\"\"\"\n\u001B[0;32m    541\u001B[0m         \u001B[1;32mtry\u001B[0m\u001B[1;33m:\u001B[0m\u001B[1;33m\u001B[0m\u001B[1;33m\u001B[0m\u001B[0m\n\u001B[1;32m--> 542\u001B[1;33m             \u001B[1;32mreturn\u001B[0m \u001B[0mfuture\u001B[0m\u001B[1;33m.\u001B[0m\u001B[0mresult\u001B[0m\u001B[1;33m(\u001B[0m\u001B[0mtimeout\u001B[0m\u001B[1;33m=\u001B[0m\u001B[0mtimeout\u001B[0m\u001B[1;33m)\u001B[0m\u001B[1;33m\u001B[0m\u001B[1;33m\u001B[0m\u001B[0m\n\u001B[0m\u001B[0;32m    543\u001B[0m         \u001B[1;32mexcept\u001B[0m \u001B[0mCfTimeoutError\u001B[0m \u001B[1;32mas\u001B[0m \u001B[0me\u001B[0m\u001B[1;33m:\u001B[0m\u001B[1;33m\u001B[0m\u001B[1;33m\u001B[0m\u001B[0m\n\u001B[0;32m    544\u001B[0m             \u001B[1;32mraise\u001B[0m \u001B[0mTimeoutError\u001B[0m \u001B[1;32mfrom\u001B[0m \u001B[0me\u001B[0m\u001B[1;33m\u001B[0m\u001B[1;33m\u001B[0m\u001B[0m\n",
      "\u001B[1;32m~\\Anaconda3\\lib\\concurrent\\futures\\_base.py\u001B[0m in \u001B[0;36mresult\u001B[1;34m(self, timeout)\u001B[0m\n\u001B[0;32m    432\u001B[0m                 \u001B[1;32mreturn\u001B[0m \u001B[0mself\u001B[0m\u001B[1;33m.\u001B[0m\u001B[0m__get_result\u001B[0m\u001B[1;33m(\u001B[0m\u001B[1;33m)\u001B[0m\u001B[1;33m\u001B[0m\u001B[1;33m\u001B[0m\u001B[0m\n\u001B[0;32m    433\u001B[0m \u001B[1;33m\u001B[0m\u001B[0m\n\u001B[1;32m--> 434\u001B[1;33m             \u001B[0mself\u001B[0m\u001B[1;33m.\u001B[0m\u001B[0m_condition\u001B[0m\u001B[1;33m.\u001B[0m\u001B[0mwait\u001B[0m\u001B[1;33m(\u001B[0m\u001B[0mtimeout\u001B[0m\u001B[1;33m)\u001B[0m\u001B[1;33m\u001B[0m\u001B[1;33m\u001B[0m\u001B[0m\n\u001B[0m\u001B[0;32m    435\u001B[0m \u001B[1;33m\u001B[0m\u001B[0m\n\u001B[0;32m    436\u001B[0m             \u001B[1;32mif\u001B[0m \u001B[0mself\u001B[0m\u001B[1;33m.\u001B[0m\u001B[0m_state\u001B[0m \u001B[1;32min\u001B[0m \u001B[1;33m[\u001B[0m\u001B[0mCANCELLED\u001B[0m\u001B[1;33m,\u001B[0m \u001B[0mCANCELLED_AND_NOTIFIED\u001B[0m\u001B[1;33m]\u001B[0m\u001B[1;33m:\u001B[0m\u001B[1;33m\u001B[0m\u001B[1;33m\u001B[0m\u001B[0m\n",
      "\u001B[1;32m~\\Anaconda3\\lib\\threading.py\u001B[0m in \u001B[0;36mwait\u001B[1;34m(self, timeout)\u001B[0m\n\u001B[0;32m    300\u001B[0m         \u001B[1;32mtry\u001B[0m\u001B[1;33m:\u001B[0m    \u001B[1;31m# restore state no matter what (e.g., KeyboardInterrupt)\u001B[0m\u001B[1;33m\u001B[0m\u001B[1;33m\u001B[0m\u001B[0m\n\u001B[0;32m    301\u001B[0m             \u001B[1;32mif\u001B[0m \u001B[0mtimeout\u001B[0m \u001B[1;32mis\u001B[0m \u001B[1;32mNone\u001B[0m\u001B[1;33m:\u001B[0m\u001B[1;33m\u001B[0m\u001B[1;33m\u001B[0m\u001B[0m\n\u001B[1;32m--> 302\u001B[1;33m                 \u001B[0mwaiter\u001B[0m\u001B[1;33m.\u001B[0m\u001B[0macquire\u001B[0m\u001B[1;33m(\u001B[0m\u001B[1;33m)\u001B[0m\u001B[1;33m\u001B[0m\u001B[1;33m\u001B[0m\u001B[0m\n\u001B[0m\u001B[0;32m    303\u001B[0m                 \u001B[0mgotit\u001B[0m \u001B[1;33m=\u001B[0m \u001B[1;32mTrue\u001B[0m\u001B[1;33m\u001B[0m\u001B[1;33m\u001B[0m\u001B[0m\n\u001B[0;32m    304\u001B[0m             \u001B[1;32melse\u001B[0m\u001B[1;33m:\u001B[0m\u001B[1;33m\u001B[0m\u001B[1;33m\u001B[0m\u001B[0m\n",
      "\u001B[1;31mKeyboardInterrupt\u001B[0m: "
     ]
    }
   ],
   "source": [
    "for train_index, test_index in skfolds.split(X_train, y_train):\n",
    "    clone_clf = clone(log_reg)\n",
    "    X_train_folds = X_train.loc[train_index]\n",
    "    y_train_folds = y_train.loc[train_index]\n",
    "    X_test_fold = X_train.loc[test_index]\n",
    "    y_test_fold = y_train.loc[test_index]\n",
    "    print(y_train_folds.value_counts())\n",
    "    print(y_test_fold.value_counts())\n",
    "\n",
    "    std_scl = StandardScaler()\n",
    "    std_scl.fit_transform(X_train_folds)\n",
    "    std_scl.transform(X_test_fold)\n",
    "\n",
    "    clone_clf.fit(X_train_folds, y_train_folds)\n",
    "    y_pred_proba = clone_clf.predict_proba(X_test_fold)\n",
    "    y_pred = clone_clf.predict(X_test_fold)\n",
    "    print(metrics.roc_auc_score(y_test_fold, y_pred_proba, multi_class='ovr'))\n",
    "    print(metrics.accuracy_score(y_test_fold, y_pred))\n",
    "  #  n_correct = sum(y_pred == y_test_fold)\n",
    "  #  print(n_correct / len(y_pred))\n",
    "    print()"
   ],
   "metadata": {
    "collapsed": false,
    "pycharm": {
     "name": "#%%\n"
    }
   }
  },
  {
   "cell_type": "code",
   "execution_count": null,
   "outputs": [],
   "source": [
    "knn_clf = KNeighborsClassifier(n_jobs=-1)"
   ],
   "metadata": {
    "collapsed": false,
    "pycharm": {
     "name": "#%%\n"
    }
   }
  },
  {
   "cell_type": "code",
   "execution_count": null,
   "outputs": [],
   "source": [
    "for train_index, test_index in skfolds.split(X_train, y_train):\n",
    "    clone_clf = clone(knn_clf)\n",
    "    X_train_folds = X_train.loc[train_index]\n",
    "    y_train_folds = y_train.loc[train_index]\n",
    "    X_test_fold = X_train.loc[test_index]\n",
    "    y_test_fold = y_train.loc[test_index]\n",
    "\n",
    "    std_scl = StandardScaler()\n",
    "    std_scl.fit_transform(X_train_folds)\n",
    "    std_scl.transform(X_test_fold)\n",
    "\n",
    "    clone_clf.fit(X_train_folds, y_train_folds)\n",
    "    y_pred_proba = clone_clf.predict_proba(X_test_fold)\n",
    "    y_pred = clone_clf.predict(X_test_fold)\n",
    "    print(metrics.roc_auc_score(y_test_fold, y_pred_proba, multi_class='ovr'))\n",
    "    print(metrics.accuracy_score(y_test_fold, y_pred))\n",
    "  #  n_correct = sum(y_pred == y_test_fold)\n",
    "  #  print(n_correct / len(y_pred))\n",
    "    print()"
   ],
   "metadata": {
    "collapsed": false,
    "pycharm": {
     "name": "#%%\n"
    }
   }
  },
  {
   "cell_type": "code",
   "execution_count": null,
   "outputs": [],
   "source": [
    "rf_clf = RandomForestClassifier(random_state=42, n_jobs=-1)"
   ],
   "metadata": {
    "collapsed": false,
    "pycharm": {
     "name": "#%%\n"
    }
   }
  },
  {
   "cell_type": "code",
   "execution_count": null,
   "outputs": [],
   "source": [
    "for train_index, test_index in skfolds.split(X_train, y_train):\n",
    "    clone_clf = clone(rf_clf)\n",
    "    X_train_folds = X_train.loc[train_index]\n",
    "    y_train_folds = y_train.loc[train_index]\n",
    "    X_test_fold = X_train.loc[test_index]\n",
    "    y_test_fold = y_train.loc[test_index]\n",
    "\n",
    "    std_scl = StandardScaler()\n",
    "    std_scl.fit_transform(X_train_folds)\n",
    "    std_scl.transform(X_test_fold)\n",
    "\n",
    "    clone_clf.fit(X_train_folds, y_train_folds)\n",
    "    y_pred_proba = clone_clf.predict_proba(X_test_fold)\n",
    "    y_pred = clone_clf.predict(X_test_fold)\n",
    "    print(metrics.roc_auc_score(y_test_fold, y_pred_proba, multi_class='ovr'))\n",
    "    print(metrics.accuracy_score(y_test_fold, y_pred))\n",
    "  #  n_correct = sum(y_pred == y_test_fold)\n",
    "  #  print(n_correct / len(y_pred))\n",
    "    conf_mx = metrics.confusion_matrix(y_test_fold, y_pred)\n",
    "    plt.matshow(conf_mx, cmap=plt.cm.gray)\n",
    "    plt.show()\n",
    "    row_sums = conf_mx.sum(axis=1, keepdims=True)\n",
    "    norm_conf_mx = conf_mx / row_sums\n",
    "    np.fill_diagonal(norm_conf_mx, 0)\n",
    "    plt.matshow(norm_conf_mx, cmap=plt.cm.gray)\n",
    "    plt.show()\n",
    "    print()\n"
   ],
   "metadata": {
    "collapsed": false,
    "pycharm": {
     "name": "#%%\n"
    }
   }
  },
  {
   "cell_type": "markdown",
   "source": [
    "When gaining insights on the training set I counted the values of each label.\n",
    "\n",
    "Stratified sampling in cross validation ensures the training and test sets have the same proportion."
   ],
   "metadata": {
    "collapsed": false,
    "pycharm": {
     "name": "#%% md\n"
    }
   }
  },
  {
   "cell_type": "code",
   "execution_count": null,
   "outputs": [],
   "source": [
    "from sklearn.model_selection import cross_val_score"
   ],
   "metadata": {
    "collapsed": false,
    "pycharm": {
     "name": "#%%\n"
    }
   }
  },
  {
   "cell_type": "code",
   "execution_count": null,
   "outputs": [],
   "source": [
    "X_train_scaled = StandardScaler().fit_transform(X_train)"
   ],
   "metadata": {
    "collapsed": false,
    "pycharm": {
     "name": "#%%\n"
    }
   }
  },
  {
   "cell_type": "code",
   "execution_count": null,
   "outputs": [],
   "source": [
    "rf_cv = cross_val_score(rf_clf, X_train_scaled, y_train, cv=6, scoring='accuracy')"
   ],
   "metadata": {
    "collapsed": false,
    "pycharm": {
     "name": "#%%\n"
    }
   }
  },
  {
   "cell_type": "code",
   "execution_count": null,
   "outputs": [],
   "source": [
    "cross_val_score(knn_clf, X_train_scaled, y_train, cv=6, scoring='accuracy')"
   ],
   "metadata": {
    "collapsed": false,
    "pycharm": {
     "name": "#%%\n"
    }
   }
  },
  {
   "cell_type": "code",
   "execution_count": null,
   "outputs": [],
   "source": [
    "cross_val_score(log_reg, X_train_scaled, y_train, cv=6, scoring='accuracy')"
   ],
   "metadata": {
    "collapsed": false,
    "pycharm": {
     "name": "#%%\n"
    }
   }
  },
  {
   "cell_type": "code",
   "execution_count": null,
   "outputs": [],
   "source": [
    "rf_cv.mean()"
   ],
   "metadata": {
    "collapsed": false,
    "pycharm": {
     "name": "#%%"
    }
   }
  },
  {
   "cell_type": "code",
   "execution_count": null,
   "outputs": [],
   "source": [],
   "metadata": {
    "collapsed": false,
    "pycharm": {
     "name": "#%%\n"
    }
   }
  },
  {
   "cell_type": "markdown",
   "source": [
    "> #### Resources:\n",
    "> 1. Fashion MNIST Dataset <a href=\"https://www.kaggle.com/zalando-research/fashionmnist\"\n",
    "> title=\"Kaggle\">link</a>\n",
    "> 2. Feature Scaling Article <a href=\"https://towardsdatascience.com/all-about-feature-scaling-bcc0ad75cb35\"\n",
    "> title=\"towardsdatascience\">link</a>\n"
   ],
   "metadata": {
    "collapsed": false,
    "pycharm": {
     "name": "#%% md\n"
    }
   }
  },
  {
   "cell_type": "markdown",
   "source": [],
   "metadata": {
    "collapsed": false,
    "pycharm": {
     "name": "#%% md\n"
    }
   }
  }
 ],
 "metadata": {
  "kernelspec": {
   "name": "pycharm-bcecade4",
   "language": "python",
   "display_name": "PyCharm (1SB-Final-Project)"
  },
  "language_info": {
   "codemirror_mode": {
    "name": "ipython",
    "version": 2
   },
   "file_extension": ".py",
   "mimetype": "text/x-python",
   "name": "python",
   "nbconvert_exporter": "python",
   "pygments_lexer": "ipython2",
   "version": "2.7.6"
  }
 },
 "nbformat": 4,
 "nbformat_minor": 0
}