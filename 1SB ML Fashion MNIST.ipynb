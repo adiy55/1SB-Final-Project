{
 "cells": [
  {
   "cell_type": "code",
   "execution_count": 211,
   "outputs": [],
   "source": [
    "# common imports\n",
    "import numpy as np\n",
    "import pandas as pd\n",
    "import seaborn as sns\n",
    "import joblib\n",
    "import matplotlib.pyplot as plt\n",
    "%matplotlib inline\n",
    "\n",
    "# machine learning imports\n",
    "from sklearn.base import BaseEstimator, TransformerMixin\n",
    "from sklearn.pipeline import Pipeline\n",
    "from sklearn.preprocessing import StandardScaler\n",
    "from sklearn.linear_model import LogisticRegression\n",
    "from sklearn.neighbors import KNeighborsClassifier\n",
    "from sklearn.tree import DecisionTreeClassifier\n",
    "from sklearn.ensemble import RandomForestClassifier, ExtraTreesClassifier, AdaBoostClassifier\n",
    "from xgboost import XGBClassifier, cv, DMatrix\n",
    "from sklearn.model_selection import cross_val_score, train_test_split, GridSearchCV, RandomizedSearchCV\n",
    "from sklearn.decomposition import PCA\n",
    "from sklearn.multiclass import OneVsRestClassifier, OneVsOneClassifier\n",
    "from sklearn import metrics\n",
    "from sklearn import clone\n",
    "from scipy.ndimage.interpolation import shift\n",
    "\n",
    "# display setup\n",
    "plt.style.use('seaborn')  # for plots\n",
    "import warnings\n",
    "\n",
    "warnings.filterwarnings(action='ignore', category=UserWarning)"
   ],
   "metadata": {
    "collapsed": false,
    "pycharm": {
     "name": "#%%\n"
    }
   }
  },
  {
   "cell_type": "markdown",
   "source": [
    "# Preface\n",
    "* Fashion-MNIST is a dataset containing 70,000 samples, 60,000 for the training set and 10,000 for the test set.\n",
    "* Each sample is a 28x28 (784 pixels) grayscale image of a certain fashion item.\n",
    "* The data contains a column with 10 labels, making this a **multiclass classification** problem.\n",
    "In other words, this is a **supervised learning** task.\n",
    "* The model will be trained using all available data and run without learning anymore, also known as **offline/batch learning**.\n",
    "* Main objective: Find the best algorithm and model parameters that classify the unseen images correctly."
   ],
   "metadata": {
    "collapsed": false
   }
  },
  {
   "cell_type": "markdown",
   "source": [
    "# 1. Getting the Data"
   ],
   "metadata": {
    "collapsed": false
   }
  },
  {
   "cell_type": "code",
   "execution_count": 2,
   "outputs": [],
   "source": [
    "# read the csv file\n",
    "train_set = pd.read_csv(r\"FMNIST/fashion-mnist_train.csv\")\n",
    "test_set = pd.read_csv(r\"FMNIST/fashion-mnist_test.csv\")"
   ],
   "metadata": {
    "collapsed": false,
    "pycharm": {
     "name": "#%%\n"
    }
   }
  },
  {
   "cell_type": "code",
   "execution_count": 3,
   "outputs": [
    {
     "data": {
      "text/plain": "   label  pixel1  pixel2  pixel3  pixel4  pixel5  pixel6  pixel7  pixel8  \\\n0      2       0       0       0       0       0       0       0       0   \n1      9       0       0       0       0       0       0       0       0   \n2      6       0       0       0       0       0       0       0       5   \n3      0       0       0       0       1       2       0       0       0   \n4      3       0       0       0       0       0       0       0       0   \n\n   pixel9  ...  pixel775  pixel776  pixel777  pixel778  pixel779  pixel780  \\\n0       0  ...         0         0         0         0         0         0   \n1       0  ...         0         0         0         0         0         0   \n2       0  ...         0         0         0        30        43         0   \n3       0  ...         3         0         0         0         0         1   \n4       0  ...         0         0         0         0         0         0   \n\n   pixel781  pixel782  pixel783  pixel784  \n0         0         0         0         0  \n1         0         0         0         0  \n2         0         0         0         0  \n3         0         0         0         0  \n4         0         0         0         0  \n\n[5 rows x 785 columns]",
      "text/html": "<div>\n<style scoped>\n    .dataframe tbody tr th:only-of-type {\n        vertical-align: middle;\n    }\n\n    .dataframe tbody tr th {\n        vertical-align: top;\n    }\n\n    .dataframe thead th {\n        text-align: right;\n    }\n</style>\n<table border=\"1\" class=\"dataframe\">\n  <thead>\n    <tr style=\"text-align: right;\">\n      <th></th>\n      <th>label</th>\n      <th>pixel1</th>\n      <th>pixel2</th>\n      <th>pixel3</th>\n      <th>pixel4</th>\n      <th>pixel5</th>\n      <th>pixel6</th>\n      <th>pixel7</th>\n      <th>pixel8</th>\n      <th>pixel9</th>\n      <th>...</th>\n      <th>pixel775</th>\n      <th>pixel776</th>\n      <th>pixel777</th>\n      <th>pixel778</th>\n      <th>pixel779</th>\n      <th>pixel780</th>\n      <th>pixel781</th>\n      <th>pixel782</th>\n      <th>pixel783</th>\n      <th>pixel784</th>\n    </tr>\n  </thead>\n  <tbody>\n    <tr>\n      <th>0</th>\n      <td>2</td>\n      <td>0</td>\n      <td>0</td>\n      <td>0</td>\n      <td>0</td>\n      <td>0</td>\n      <td>0</td>\n      <td>0</td>\n      <td>0</td>\n      <td>0</td>\n      <td>...</td>\n      <td>0</td>\n      <td>0</td>\n      <td>0</td>\n      <td>0</td>\n      <td>0</td>\n      <td>0</td>\n      <td>0</td>\n      <td>0</td>\n      <td>0</td>\n      <td>0</td>\n    </tr>\n    <tr>\n      <th>1</th>\n      <td>9</td>\n      <td>0</td>\n      <td>0</td>\n      <td>0</td>\n      <td>0</td>\n      <td>0</td>\n      <td>0</td>\n      <td>0</td>\n      <td>0</td>\n      <td>0</td>\n      <td>...</td>\n      <td>0</td>\n      <td>0</td>\n      <td>0</td>\n      <td>0</td>\n      <td>0</td>\n      <td>0</td>\n      <td>0</td>\n      <td>0</td>\n      <td>0</td>\n      <td>0</td>\n    </tr>\n    <tr>\n      <th>2</th>\n      <td>6</td>\n      <td>0</td>\n      <td>0</td>\n      <td>0</td>\n      <td>0</td>\n      <td>0</td>\n      <td>0</td>\n      <td>0</td>\n      <td>5</td>\n      <td>0</td>\n      <td>...</td>\n      <td>0</td>\n      <td>0</td>\n      <td>0</td>\n      <td>30</td>\n      <td>43</td>\n      <td>0</td>\n      <td>0</td>\n      <td>0</td>\n      <td>0</td>\n      <td>0</td>\n    </tr>\n    <tr>\n      <th>3</th>\n      <td>0</td>\n      <td>0</td>\n      <td>0</td>\n      <td>0</td>\n      <td>1</td>\n      <td>2</td>\n      <td>0</td>\n      <td>0</td>\n      <td>0</td>\n      <td>0</td>\n      <td>...</td>\n      <td>3</td>\n      <td>0</td>\n      <td>0</td>\n      <td>0</td>\n      <td>0</td>\n      <td>1</td>\n      <td>0</td>\n      <td>0</td>\n      <td>0</td>\n      <td>0</td>\n    </tr>\n    <tr>\n      <th>4</th>\n      <td>3</td>\n      <td>0</td>\n      <td>0</td>\n      <td>0</td>\n      <td>0</td>\n      <td>0</td>\n      <td>0</td>\n      <td>0</td>\n      <td>0</td>\n      <td>0</td>\n      <td>...</td>\n      <td>0</td>\n      <td>0</td>\n      <td>0</td>\n      <td>0</td>\n      <td>0</td>\n      <td>0</td>\n      <td>0</td>\n      <td>0</td>\n      <td>0</td>\n      <td>0</td>\n    </tr>\n  </tbody>\n</table>\n<p>5 rows × 785 columns</p>\n</div>"
     },
     "execution_count": 3,
     "metadata": {},
     "output_type": "execute_result"
    }
   ],
   "source": [
    "# display the first 5 rows for a quick look\n",
    "train_set.head()"
   ],
   "metadata": {
    "collapsed": false,
    "pycharm": {
     "name": "#%%\n"
    }
   }
  },
  {
   "cell_type": "code",
   "execution_count": 4,
   "outputs": [
    {
     "data": {
      "text/plain": "       label  pixel1  pixel2  pixel3  pixel4  pixel5  pixel6  pixel7  pixel8  \\\n59995      9       0       0       0       0       0       0       0       0   \n59996      1       0       0       0       0       0       0       0       0   \n59997      8       0       0       0       0       0       0       0       0   \n59998      8       0       0       0       0       0       0       0       0   \n59999      7       0       0       0       0       0       0       0       0   \n\n       pixel9  ...  pixel775  pixel776  pixel777  pixel778  pixel779  \\\n59995       0  ...         0         0         0         0         0   \n59996       0  ...        73         0         0         0         0   \n59997       0  ...       160       162       163       135        94   \n59998       0  ...         0         0         0         0         0   \n59999       0  ...         0         0         0         0         0   \n\n       pixel780  pixel781  pixel782  pixel783  pixel784  \n59995         0         0         0         0         0  \n59996         0         0         0         0         0  \n59997         0         0         0         0         0  \n59998         0         0         0         0         0  \n59999         0         0         0         0         0  \n\n[5 rows x 785 columns]",
      "text/html": "<div>\n<style scoped>\n    .dataframe tbody tr th:only-of-type {\n        vertical-align: middle;\n    }\n\n    .dataframe tbody tr th {\n        vertical-align: top;\n    }\n\n    .dataframe thead th {\n        text-align: right;\n    }\n</style>\n<table border=\"1\" class=\"dataframe\">\n  <thead>\n    <tr style=\"text-align: right;\">\n      <th></th>\n      <th>label</th>\n      <th>pixel1</th>\n      <th>pixel2</th>\n      <th>pixel3</th>\n      <th>pixel4</th>\n      <th>pixel5</th>\n      <th>pixel6</th>\n      <th>pixel7</th>\n      <th>pixel8</th>\n      <th>pixel9</th>\n      <th>...</th>\n      <th>pixel775</th>\n      <th>pixel776</th>\n      <th>pixel777</th>\n      <th>pixel778</th>\n      <th>pixel779</th>\n      <th>pixel780</th>\n      <th>pixel781</th>\n      <th>pixel782</th>\n      <th>pixel783</th>\n      <th>pixel784</th>\n    </tr>\n  </thead>\n  <tbody>\n    <tr>\n      <th>59995</th>\n      <td>9</td>\n      <td>0</td>\n      <td>0</td>\n      <td>0</td>\n      <td>0</td>\n      <td>0</td>\n      <td>0</td>\n      <td>0</td>\n      <td>0</td>\n      <td>0</td>\n      <td>...</td>\n      <td>0</td>\n      <td>0</td>\n      <td>0</td>\n      <td>0</td>\n      <td>0</td>\n      <td>0</td>\n      <td>0</td>\n      <td>0</td>\n      <td>0</td>\n      <td>0</td>\n    </tr>\n    <tr>\n      <th>59996</th>\n      <td>1</td>\n      <td>0</td>\n      <td>0</td>\n      <td>0</td>\n      <td>0</td>\n      <td>0</td>\n      <td>0</td>\n      <td>0</td>\n      <td>0</td>\n      <td>0</td>\n      <td>...</td>\n      <td>73</td>\n      <td>0</td>\n      <td>0</td>\n      <td>0</td>\n      <td>0</td>\n      <td>0</td>\n      <td>0</td>\n      <td>0</td>\n      <td>0</td>\n      <td>0</td>\n    </tr>\n    <tr>\n      <th>59997</th>\n      <td>8</td>\n      <td>0</td>\n      <td>0</td>\n      <td>0</td>\n      <td>0</td>\n      <td>0</td>\n      <td>0</td>\n      <td>0</td>\n      <td>0</td>\n      <td>0</td>\n      <td>...</td>\n      <td>160</td>\n      <td>162</td>\n      <td>163</td>\n      <td>135</td>\n      <td>94</td>\n      <td>0</td>\n      <td>0</td>\n      <td>0</td>\n      <td>0</td>\n      <td>0</td>\n    </tr>\n    <tr>\n      <th>59998</th>\n      <td>8</td>\n      <td>0</td>\n      <td>0</td>\n      <td>0</td>\n      <td>0</td>\n      <td>0</td>\n      <td>0</td>\n      <td>0</td>\n      <td>0</td>\n      <td>0</td>\n      <td>...</td>\n      <td>0</td>\n      <td>0</td>\n      <td>0</td>\n      <td>0</td>\n      <td>0</td>\n      <td>0</td>\n      <td>0</td>\n      <td>0</td>\n      <td>0</td>\n      <td>0</td>\n    </tr>\n    <tr>\n      <th>59999</th>\n      <td>7</td>\n      <td>0</td>\n      <td>0</td>\n      <td>0</td>\n      <td>0</td>\n      <td>0</td>\n      <td>0</td>\n      <td>0</td>\n      <td>0</td>\n      <td>0</td>\n      <td>...</td>\n      <td>0</td>\n      <td>0</td>\n      <td>0</td>\n      <td>0</td>\n      <td>0</td>\n      <td>0</td>\n      <td>0</td>\n      <td>0</td>\n      <td>0</td>\n      <td>0</td>\n    </tr>\n  </tbody>\n</table>\n<p>5 rows × 785 columns</p>\n</div>"
     },
     "execution_count": 4,
     "metadata": {},
     "output_type": "execute_result"
    }
   ],
   "source": [
    "# display the last 5 rows for a quick look\n",
    "train_set.tail()"
   ],
   "metadata": {
    "collapsed": false,
    "pycharm": {
     "name": "#%%\n"
    }
   }
  },
  {
   "cell_type": "code",
   "execution_count": 5,
   "outputs": [
    {
     "name": "stdout",
     "output_type": "stream",
     "text": [
      "Training Set: (60000, 785)\n",
      "Test Set: (10000, 785)\n"
     ]
    }
   ],
   "source": [
    "# DataFrame shape (rows, columns)\n",
    "print(\"Training Set:\", train_set.shape)\n",
    "print(\"Test Set:\", test_set.shape)"
   ],
   "metadata": {
    "collapsed": false,
    "pycharm": {
     "name": "#%%\n"
    }
   }
  },
  {
   "cell_type": "code",
   "execution_count": 6,
   "outputs": [
    {
     "name": "stdout",
     "output_type": "stream",
     "text": [
      "<class 'pandas.core.frame.DataFrame'>\n",
      "RangeIndex: 60000 entries, 0 to 59999\n",
      "Columns: 785 entries, label to pixel784\n",
      "dtypes: int64(785)\n",
      "memory usage: 359.3 MB\n"
     ]
    }
   ],
   "source": [
    "# description of data\n",
    "train_set.info()"
   ],
   "metadata": {
    "collapsed": false,
    "pycharm": {
     "name": "#%%\n"
    }
   }
  },
  {
   "cell_type": "code",
   "execution_count": 7,
   "outputs": [
    {
     "data": {
      "text/plain": "              label        pixel1        pixel2        pixel3        pixel4  \\\ncount  60000.000000  60000.000000  60000.000000  60000.000000  60000.000000   \nmean       4.500000      0.000900      0.006150      0.035333      0.101933   \nstd        2.872305      0.094689      0.271011      1.222324      2.452871   \nmin        0.000000      0.000000      0.000000      0.000000      0.000000   \n25%        2.000000      0.000000      0.000000      0.000000      0.000000   \n50%        4.500000      0.000000      0.000000      0.000000      0.000000   \n75%        7.000000      0.000000      0.000000      0.000000      0.000000   \nmax        9.000000     16.000000     36.000000    226.000000    164.000000   \n\n             pixel5        pixel6        pixel7        pixel8        pixel9  \\\ncount  60000.000000  60000.000000  60000.000000  60000.000000  60000.000000   \nmean       0.247967      0.411467      0.805767      2.198283      5.682000   \nstd        4.306912      5.836188      8.215169     14.093378     23.819481   \nmin        0.000000      0.000000      0.000000      0.000000      0.000000   \n25%        0.000000      0.000000      0.000000      0.000000      0.000000   \n50%        0.000000      0.000000      0.000000      0.000000      0.000000   \n75%        0.000000      0.000000      0.000000      0.000000      0.000000   \nmax      227.000000    230.000000    224.000000    255.000000    254.000000   \n\n       ...      pixel775      pixel776      pixel777      pixel778  \\\ncount  ...  60000.000000  60000.000000  60000.000000  60000.000000   \nmean   ...     34.625400     23.300683     16.588267     17.869433   \nstd    ...     57.545242     48.854427     41.979611     43.966032   \nmin    ...      0.000000      0.000000      0.000000      0.000000   \n25%    ...      0.000000      0.000000      0.000000      0.000000   \n50%    ...      0.000000      0.000000      0.000000      0.000000   \n75%    ...     58.000000      9.000000      0.000000      0.000000   \nmax    ...    255.000000    255.000000    255.000000    255.000000   \n\n           pixel779      pixel780      pixel781      pixel782      pixel783  \\\ncount  60000.000000  60000.000000  60000.000000  60000.000000  60000.000000   \nmean      22.814817     17.911483      8.520633      2.753300      0.855517   \nstd       51.830477     45.149388     29.614859     17.397652      9.356960   \nmin        0.000000      0.000000      0.000000      0.000000      0.000000   \n25%        0.000000      0.000000      0.000000      0.000000      0.000000   \n50%        0.000000      0.000000      0.000000      0.000000      0.000000   \n75%        0.000000      0.000000      0.000000      0.000000      0.000000   \nmax      255.000000    255.000000    255.000000    255.000000    255.000000   \n\n          pixel784  \ncount  60000.00000  \nmean       0.07025  \nstd        2.12587  \nmin        0.00000  \n25%        0.00000  \n50%        0.00000  \n75%        0.00000  \nmax      170.00000  \n\n[8 rows x 785 columns]",
      "text/html": "<div>\n<style scoped>\n    .dataframe tbody tr th:only-of-type {\n        vertical-align: middle;\n    }\n\n    .dataframe tbody tr th {\n        vertical-align: top;\n    }\n\n    .dataframe thead th {\n        text-align: right;\n    }\n</style>\n<table border=\"1\" class=\"dataframe\">\n  <thead>\n    <tr style=\"text-align: right;\">\n      <th></th>\n      <th>label</th>\n      <th>pixel1</th>\n      <th>pixel2</th>\n      <th>pixel3</th>\n      <th>pixel4</th>\n      <th>pixel5</th>\n      <th>pixel6</th>\n      <th>pixel7</th>\n      <th>pixel8</th>\n      <th>pixel9</th>\n      <th>...</th>\n      <th>pixel775</th>\n      <th>pixel776</th>\n      <th>pixel777</th>\n      <th>pixel778</th>\n      <th>pixel779</th>\n      <th>pixel780</th>\n      <th>pixel781</th>\n      <th>pixel782</th>\n      <th>pixel783</th>\n      <th>pixel784</th>\n    </tr>\n  </thead>\n  <tbody>\n    <tr>\n      <th>count</th>\n      <td>60000.000000</td>\n      <td>60000.000000</td>\n      <td>60000.000000</td>\n      <td>60000.000000</td>\n      <td>60000.000000</td>\n      <td>60000.000000</td>\n      <td>60000.000000</td>\n      <td>60000.000000</td>\n      <td>60000.000000</td>\n      <td>60000.000000</td>\n      <td>...</td>\n      <td>60000.000000</td>\n      <td>60000.000000</td>\n      <td>60000.000000</td>\n      <td>60000.000000</td>\n      <td>60000.000000</td>\n      <td>60000.000000</td>\n      <td>60000.000000</td>\n      <td>60000.000000</td>\n      <td>60000.000000</td>\n      <td>60000.00000</td>\n    </tr>\n    <tr>\n      <th>mean</th>\n      <td>4.500000</td>\n      <td>0.000900</td>\n      <td>0.006150</td>\n      <td>0.035333</td>\n      <td>0.101933</td>\n      <td>0.247967</td>\n      <td>0.411467</td>\n      <td>0.805767</td>\n      <td>2.198283</td>\n      <td>5.682000</td>\n      <td>...</td>\n      <td>34.625400</td>\n      <td>23.300683</td>\n      <td>16.588267</td>\n      <td>17.869433</td>\n      <td>22.814817</td>\n      <td>17.911483</td>\n      <td>8.520633</td>\n      <td>2.753300</td>\n      <td>0.855517</td>\n      <td>0.07025</td>\n    </tr>\n    <tr>\n      <th>std</th>\n      <td>2.872305</td>\n      <td>0.094689</td>\n      <td>0.271011</td>\n      <td>1.222324</td>\n      <td>2.452871</td>\n      <td>4.306912</td>\n      <td>5.836188</td>\n      <td>8.215169</td>\n      <td>14.093378</td>\n      <td>23.819481</td>\n      <td>...</td>\n      <td>57.545242</td>\n      <td>48.854427</td>\n      <td>41.979611</td>\n      <td>43.966032</td>\n      <td>51.830477</td>\n      <td>45.149388</td>\n      <td>29.614859</td>\n      <td>17.397652</td>\n      <td>9.356960</td>\n      <td>2.12587</td>\n    </tr>\n    <tr>\n      <th>min</th>\n      <td>0.000000</td>\n      <td>0.000000</td>\n      <td>0.000000</td>\n      <td>0.000000</td>\n      <td>0.000000</td>\n      <td>0.000000</td>\n      <td>0.000000</td>\n      <td>0.000000</td>\n      <td>0.000000</td>\n      <td>0.000000</td>\n      <td>...</td>\n      <td>0.000000</td>\n      <td>0.000000</td>\n      <td>0.000000</td>\n      <td>0.000000</td>\n      <td>0.000000</td>\n      <td>0.000000</td>\n      <td>0.000000</td>\n      <td>0.000000</td>\n      <td>0.000000</td>\n      <td>0.00000</td>\n    </tr>\n    <tr>\n      <th>25%</th>\n      <td>2.000000</td>\n      <td>0.000000</td>\n      <td>0.000000</td>\n      <td>0.000000</td>\n      <td>0.000000</td>\n      <td>0.000000</td>\n      <td>0.000000</td>\n      <td>0.000000</td>\n      <td>0.000000</td>\n      <td>0.000000</td>\n      <td>...</td>\n      <td>0.000000</td>\n      <td>0.000000</td>\n      <td>0.000000</td>\n      <td>0.000000</td>\n      <td>0.000000</td>\n      <td>0.000000</td>\n      <td>0.000000</td>\n      <td>0.000000</td>\n      <td>0.000000</td>\n      <td>0.00000</td>\n    </tr>\n    <tr>\n      <th>50%</th>\n      <td>4.500000</td>\n      <td>0.000000</td>\n      <td>0.000000</td>\n      <td>0.000000</td>\n      <td>0.000000</td>\n      <td>0.000000</td>\n      <td>0.000000</td>\n      <td>0.000000</td>\n      <td>0.000000</td>\n      <td>0.000000</td>\n      <td>...</td>\n      <td>0.000000</td>\n      <td>0.000000</td>\n      <td>0.000000</td>\n      <td>0.000000</td>\n      <td>0.000000</td>\n      <td>0.000000</td>\n      <td>0.000000</td>\n      <td>0.000000</td>\n      <td>0.000000</td>\n      <td>0.00000</td>\n    </tr>\n    <tr>\n      <th>75%</th>\n      <td>7.000000</td>\n      <td>0.000000</td>\n      <td>0.000000</td>\n      <td>0.000000</td>\n      <td>0.000000</td>\n      <td>0.000000</td>\n      <td>0.000000</td>\n      <td>0.000000</td>\n      <td>0.000000</td>\n      <td>0.000000</td>\n      <td>...</td>\n      <td>58.000000</td>\n      <td>9.000000</td>\n      <td>0.000000</td>\n      <td>0.000000</td>\n      <td>0.000000</td>\n      <td>0.000000</td>\n      <td>0.000000</td>\n      <td>0.000000</td>\n      <td>0.000000</td>\n      <td>0.00000</td>\n    </tr>\n    <tr>\n      <th>max</th>\n      <td>9.000000</td>\n      <td>16.000000</td>\n      <td>36.000000</td>\n      <td>226.000000</td>\n      <td>164.000000</td>\n      <td>227.000000</td>\n      <td>230.000000</td>\n      <td>224.000000</td>\n      <td>255.000000</td>\n      <td>254.000000</td>\n      <td>...</td>\n      <td>255.000000</td>\n      <td>255.000000</td>\n      <td>255.000000</td>\n      <td>255.000000</td>\n      <td>255.000000</td>\n      <td>255.000000</td>\n      <td>255.000000</td>\n      <td>255.000000</td>\n      <td>255.000000</td>\n      <td>170.00000</td>\n    </tr>\n  </tbody>\n</table>\n<p>8 rows × 785 columns</p>\n</div>"
     },
     "execution_count": 7,
     "metadata": {},
     "output_type": "execute_result"
    }
   ],
   "source": [
    "# summary of the numerical attributes\n",
    "# null values are ignored\n",
    "train_set.describe()"
   ],
   "metadata": {
    "collapsed": false,
    "pycharm": {
     "name": "#%%\n"
    }
   }
  },
  {
   "cell_type": "code",
   "execution_count": 8,
   "outputs": [
    {
     "data": {
      "text/plain": "255.0"
     },
     "execution_count": 8,
     "metadata": {},
     "output_type": "execute_result"
    }
   ],
   "source": [
    "# maximum pixel value\n",
    "train_set.describe().loc['max'].max()"
   ],
   "metadata": {
    "collapsed": false,
    "pycharm": {
     "name": "#%%\n"
    }
   }
  },
  {
   "cell_type": "code",
   "execution_count": 9,
   "outputs": [
    {
     "data": {
      "text/plain": "0.0"
     },
     "execution_count": 9,
     "metadata": {},
     "output_type": "execute_result"
    }
   ],
   "source": [
    "# minimum pixel value\n",
    "train_set.describe().loc['min'].max()"
   ],
   "metadata": {
    "collapsed": false,
    "pycharm": {
     "name": "#%%\n"
    }
   }
  },
  {
   "cell_type": "markdown",
   "source": [
    "> ### Features in the DataFrame:\n",
    "> There are 785 columns, one for the labels and 784 for the pixels (one for each pixel).\n",
    ">> Labels:\n",
    "> - 0 = T-shirt/top\n",
    "> - 1 = Trouser\n",
    "> - 2 = Pullover\n",
    "> - 3 = Dress\n",
    "> - 4 = Coat\n",
    "> - 5 = Sandal\n",
    "> - 6 = Shirt\n",
    "> - 7 = Sneaker\n",
    "> - 8 = Bag\n",
    "> - 9 = Ankle boot"
   ],
   "metadata": {
    "collapsed": false
   }
  },
  {
   "cell_type": "code",
   "execution_count": 10,
   "outputs": [
    {
     "data": {
      "text/plain": "0    6000\n1    6000\n2    6000\n3    6000\n4    6000\n5    6000\n6    6000\n7    6000\n8    6000\n9    6000\nName: label, dtype: int64"
     },
     "execution_count": 10,
     "metadata": {},
     "output_type": "execute_result"
    }
   ],
   "source": [
    "labels = [\"T-shirt/top\", \"Trouser\", \"Pullover\", \"Dress\", \"Coat\", \"Sandal\", \"Shirt\", \"Sneaker\", \"Bag\", \"Ankle boot\"]\n",
    "# number of instances for each category\n",
    "train_set[\"label\"].value_counts().sort_index()"
   ],
   "metadata": {
    "collapsed": false,
    "pycharm": {
     "name": "#%%\n"
    }
   }
  },
  {
   "cell_type": "markdown",
   "source": [
    "> Initial observations:\n",
    "1. Each category has an equal amount of samples in the training set.\n",
    "2. Classes and pixel values are integers.\n",
    "3. The pixel range is [0, 255]. Some feature columns have a smaller maximum value or a\n",
    "greater minimum value. This means that for some pixels, the range of the values is smaller."
   ],
   "metadata": {
    "collapsed": false
   }
  },
  {
   "cell_type": "markdown",
   "source": [
    "# 2. Understanding and Visualizing the Data\n",
    "> ##### *The motivation for this section is to gain more insights.*"
   ],
   "metadata": {
    "collapsed": false
   }
  },
  {
   "cell_type": "markdown",
   "source": [
    "The data was split in advance and the images are already the same aspect ratio.\n",
    "Let's create a copy of the data to prevent accidentally harming the training set."
   ],
   "metadata": {
    "collapsed": false
   }
  },
  {
   "cell_type": "code",
   "execution_count": 11,
   "outputs": [],
   "source": [
    "# deep copy of the training set\n",
    "fmnist = train_set.copy()"
   ],
   "metadata": {
    "collapsed": false,
    "pycharm": {
     "name": "#%%\n"
    }
   }
  },
  {
   "cell_type": "code",
   "execution_count": 12,
   "outputs": [
    {
     "data": {
      "text/plain": "   label  pixel1  pixel2  pixel3  pixel4  pixel5  pixel6  pixel7  pixel8  \\\n0      2       0       0       0       0       0       0       0       0   \n1      9       0       0       0       0       0       0       0       0   \n\n   pixel9  ...  pixel775  pixel776  pixel777  pixel778  pixel779  pixel780  \\\n0       0  ...         0         0         0         0         0         0   \n1       0  ...         0         0         0         0         0         0   \n\n   pixel781  pixel782  pixel783  pixel784  \n0         0         0         0         0  \n1         0         0         0         0  \n\n[2 rows x 785 columns]",
      "text/html": "<div>\n<style scoped>\n    .dataframe tbody tr th:only-of-type {\n        vertical-align: middle;\n    }\n\n    .dataframe tbody tr th {\n        vertical-align: top;\n    }\n\n    .dataframe thead th {\n        text-align: right;\n    }\n</style>\n<table border=\"1\" class=\"dataframe\">\n  <thead>\n    <tr style=\"text-align: right;\">\n      <th></th>\n      <th>label</th>\n      <th>pixel1</th>\n      <th>pixel2</th>\n      <th>pixel3</th>\n      <th>pixel4</th>\n      <th>pixel5</th>\n      <th>pixel6</th>\n      <th>pixel7</th>\n      <th>pixel8</th>\n      <th>pixel9</th>\n      <th>...</th>\n      <th>pixel775</th>\n      <th>pixel776</th>\n      <th>pixel777</th>\n      <th>pixel778</th>\n      <th>pixel779</th>\n      <th>pixel780</th>\n      <th>pixel781</th>\n      <th>pixel782</th>\n      <th>pixel783</th>\n      <th>pixel784</th>\n    </tr>\n  </thead>\n  <tbody>\n    <tr>\n      <th>0</th>\n      <td>2</td>\n      <td>0</td>\n      <td>0</td>\n      <td>0</td>\n      <td>0</td>\n      <td>0</td>\n      <td>0</td>\n      <td>0</td>\n      <td>0</td>\n      <td>0</td>\n      <td>...</td>\n      <td>0</td>\n      <td>0</td>\n      <td>0</td>\n      <td>0</td>\n      <td>0</td>\n      <td>0</td>\n      <td>0</td>\n      <td>0</td>\n      <td>0</td>\n      <td>0</td>\n    </tr>\n    <tr>\n      <th>1</th>\n      <td>9</td>\n      <td>0</td>\n      <td>0</td>\n      <td>0</td>\n      <td>0</td>\n      <td>0</td>\n      <td>0</td>\n      <td>0</td>\n      <td>0</td>\n      <td>0</td>\n      <td>...</td>\n      <td>0</td>\n      <td>0</td>\n      <td>0</td>\n      <td>0</td>\n      <td>0</td>\n      <td>0</td>\n      <td>0</td>\n      <td>0</td>\n      <td>0</td>\n      <td>0</td>\n    </tr>\n  </tbody>\n</table>\n<p>2 rows × 785 columns</p>\n</div>"
     },
     "execution_count": 12,
     "metadata": {},
     "output_type": "execute_result"
    }
   ],
   "source": [
    "fmnist.head(2)"
   ],
   "metadata": {
    "collapsed": false,
    "pycharm": {
     "name": "#%%\n"
    }
   }
  },
  {
   "cell_type": "code",
   "execution_count": 13,
   "outputs": [
    {
     "data": {
      "text/plain": "0"
     },
     "execution_count": 13,
     "metadata": {},
     "output_type": "execute_result"
    }
   ],
   "source": [
    "# check for missing values\n",
    "np.isnan(fmnist.values).sum()"
   ],
   "metadata": {
    "collapsed": false,
    "pycharm": {
     "name": "#%%\n"
    }
   }
  },
  {
   "cell_type": "markdown",
   "source": [
    "> #### Observations:\n",
    "> * There are no missing values in the training set."
   ],
   "metadata": {
    "collapsed": false
   }
  },
  {
   "cell_type": "markdown",
   "source": [
    "> ### Exploring Colors of Sample Image"
   ],
   "metadata": {
    "collapsed": false
   }
  },
  {
   "cell_type": "code",
   "execution_count": 14,
   "outputs": [
    {
     "data": {
      "text/plain": "<Figure size 864x504 with 4 Axes>",
      "image/png": "[encoded data removed]"
     },
     "metadata": {},
     "output_type": "display_data"
    }
   ],
   "source": [
    "# sample image\n",
    "some_sample = fmnist.drop('label', axis=1).iloc[0]  # get sample\n",
    "some_sample = np.array(some_sample)  # convert to array\n",
    "some_sample_img = some_sample.reshape(28, 28)  # reshape array\n",
    "\n",
    "# convert sample image from grayscale to black and white\n",
    "# in the fashion mnist dataset white pixels are 0 and black pixels are 255\n",
    "# the images are grayscale, so values (0,255) are different intensities of gray\n",
    "some_sample_bin = some_sample.copy()  # deep copy of the sample image\n",
    "some_sample_bin[some_sample_bin > 0] = 1  # convert gray intensities to black\n",
    "some_sample_bin_img = some_sample_bin.reshape(28, 28)  # reshape array\n",
    "\n",
    "fig, dx = plt.subplots(2, 2, figsize=(12, 7))\n",
    "\n",
    "# plot grayscale sample image and pixel value occurrences\n",
    "dx[0, 0].imshow(some_sample_img)\n",
    "dx[0, 0].axis('off')\n",
    "dx[0, 0].set_title(\"Original Grayscale Sample\", size=15)\n",
    "dx[0, 1].hist(some_sample, bins=50)\n",
    "dx[0, 1].set_title(\"Grayscale Sample Pixel Value Occurrences\", size=15)\n",
    "dx[0, 1].set_xlabel(\"Pixel Value\")\n",
    "dx[0, 1].set_ylabel(\"Count\")\n",
    "# plot black and white sample image and pixel value occurrences\n",
    "dx[1, 0].imshow(some_sample_bin_img)\n",
    "dx[1, 0].axis('off')\n",
    "dx[1, 0].set_title(\"Black and White Sample\", size=15)\n",
    "dx[1, 1].hist(some_sample_bin, bins=50)\n",
    "dx[1, 1].set_title(\"Black and White Sample Pixel Value Occurrences\", size=15)\n",
    "dx[1, 1].set_xticks([0, 1])\n",
    "dx[1, 1].set_xlabel(\"Pixel Value\")\n",
    "dx[1, 1].set_ylabel(\"Count\")\n",
    "plt.tight_layout()\n",
    "plt.show()"
   ],
   "metadata": {
    "collapsed": false,
    "pycharm": {
     "name": "#%%\n"
    }
   }
  },
  {
   "cell_type": "markdown",
   "source": [
    "> #### Observations:\n",
    "> * The most common pixel value in the original grayscale image is white (0) and in the binary\n",
    "image is black (1).\n",
    "* Aside from a few pixels that are detached from the clothing, the black and white pullover resembles\n",
    "the original grayscale shape.\n",
    "* Training models on both options and comparing the results can help determine if transforming the\n",
    "images to black and white improves performance."
   ],
   "metadata": {
    "collapsed": false
   }
  },
  {
   "cell_type": "markdown",
   "source": [
    "> ### Class Comparison"
   ],
   "metadata": {
    "collapsed": false
   }
  },
  {
   "cell_type": "code",
   "execution_count": 15,
   "outputs": [
    {
     "data": {
      "text/plain": "<Figure size 720x504 with 10 Axes>",
      "image/png": "[encoded data removed]"
     },
     "metadata": {},
     "output_type": "display_data"
    }
   ],
   "source": [
    "# plot image for each category\n",
    "\n",
    "# use of a dictionary to easily add subplot titles\n",
    "label_dict = {0: \"0 = T-shirt/top\", 1: \"1 = Trouser\", 2: \"2 = Pullover\", 3: \"3 = Dress\", 4: \"4 = Coat\",\n",
    "              5: \"5 = Sandal\", 6: \"6 = Shirt\", 7: \"7 = Sneaker\", 8: \"8 = Bag\", 9: \"9 = Ankle boot\"}\n",
    "\n",
    "fig = plt.figure(figsize=(10, 7))\n",
    "rows = 2\n",
    "columns = 5\n",
    "# use groupby to locate an instance for each label\n",
    "label_groups = fmnist.groupby('label')\n",
    "# add image in each iteration\n",
    "for i in range(rows * columns):\n",
    "    curr = label_groups.get_group(i)[:1]  # get group\n",
    "    curr_img = curr.drop('label', axis=1).to_numpy().reshape(28, 28)  # convert to reshaped array\n",
    "    fig.add_subplot(rows, columns, i + 1)\n",
    "    plt.imshow(curr_img)\n",
    "    plt.axis('off')  # remove grid\n",
    "    plt.title(label_dict[i])  # use dictionary to add subplot title\n",
    "\n",
    "fig.suptitle(\"Fashion-MNIST Samples\", size=30)\n",
    "plt.tight_layout()\n",
    "plt.show()"
   ],
   "metadata": {
    "collapsed": false,
    "pycharm": {
     "name": "#%%\n"
    }
   }
  },
  {
   "cell_type": "code",
   "execution_count": 16,
   "outputs": [
    {
     "data": {
      "text/plain": "<Figure size 864x504 with 10 Axes>",
      "image/png": "[encoded data removed]"
     },
     "metadata": {},
     "output_type": "display_data"
    }
   ],
   "source": [
    "# plot pixel value occurrences for each class\n",
    "\n",
    "fig, dx = plt.subplots(2, 5, figsize=(12, 7), sharey='all')\n",
    "i = 0  # current group label\n",
    "mean_values = []\n",
    "plt.setp(dx, xticks=np.arange(0, 256, step=85))  # set x axis values\n",
    "\n",
    "for row in range(2):\n",
    "    for col in range(5):\n",
    "        pixels = np.array(label_groups.get_group(i).drop(['label'], axis=1))  # get group and convert to array\n",
    "        mean_values.append(pixels.mean())  # calculate mean pixel value and add to list (for next plot)\n",
    "        dx[row, col].hist(pixels.reshape(-1))  # add histogram in each iteration, -1 reshapes to length of array\n",
    "        dx[row, col].set_title(label_dict[i], size=15)  # use dictionary to add subplot title\n",
    "        i = i + 1  # next group\n",
    "\n",
    "fig.suptitle(\"Pixel Occurrences per Class\", size=30)\n",
    "plt.tight_layout()\n",
    "plt.show()"
   ],
   "metadata": {
    "collapsed": false,
    "pycharm": {
     "name": "#%%\n"
    }
   }
  },
  {
   "cell_type": "code",
   "execution_count": 17,
   "outputs": [
    {
     "data": {
      "text/plain": "<Figure size 864x360 with 1 Axes>",
      "image/png": "[encoded data removed]"
     },
     "metadata": {},
     "output_type": "display_data"
    }
   ],
   "source": [
    "# plot mean values calculated in previous cell\n",
    "plt.figure(figsize=(12, 5))\n",
    "sns.barplot(x=np.arange(10), y=mean_values)  # x axis for classes, y axis for mean values\n",
    "plt.xticks(np.arange(10), labels=label_dict.values())  # use dictionary to set x axis values\n",
    "plt.xlabel(\"Class\", size=15)\n",
    "plt.ylabel(\"Mean\", size=15)\n",
    "plt.title(\"Pixel Occurrences per Class Mean\", size=30)\n",
    "plt.tight_layout()\n",
    "plt.show()\n"
   ],
   "metadata": {
    "collapsed": false,
    "pycharm": {
     "name": "#%%\n"
    }
   }
  },
  {
   "cell_type": "markdown",
   "source": [
    "> #### Observations:\n",
    "* All classes have a majority of white pixel values (0), with the remaining scattered in the rest of the range.\n",
    "* Aside from the white pixel value, quite a few of the histograms displaying pixel occurrences look like\n",
    "they have a somewhat normal distribution. They are tail-heavy, extending farther to the left of the\n",
    "median.\n",
    "* Any shoe type (classes 5, 7, 9) have the most white pixels, with sandal (class 5) containing the most.\n",
    "This is emphasized most in the pixel occurrences mean plot.\n",
    "* Coats (class 4) and pullovers (class 2) have the highest pixel mean. When looking at the sample\n",
    "images it is noticeable that they fill most of the diagram.\n",
    "* The t-shirt/top (class 0) and shirt (class 6) have extremely similar pixel occurrences.\n",
    "Had the class labels been removed, the graphs would be indistinguishable. It is likely that\n",
    "the models will make mistakes when predicting instances from these two classes!"
   ],
   "metadata": {
    "collapsed": false
   }
  },
  {
   "cell_type": "markdown",
   "source": [
    "> ### Analyze and Compare Sample Images of T-shirt/top and Shirt Classes"
   ],
   "metadata": {
    "collapsed": false
   }
  },
  {
   "cell_type": "code",
   "execution_count": 18,
   "outputs": [],
   "source": [
    "# t-shirt/top sample image (class 0)\n",
    "top = label_groups.get_group(0).drop('label', axis=1).iloc[0]  # get t-shirt/top sample\n",
    "top = np.array(top)  # convert to array\n",
    "top_img = top.reshape(28, 28)  # reshape array\n",
    "\n",
    "# convert t-shirt/top sample image from grayscale to black and white\n",
    "top_bin = top.copy()  # deep copy of the t-shirt/top sample image\n",
    "top_bin[top_bin > 0] = 1  # convert gray intensities to black\n",
    "top_bin_img = top_bin.reshape(28, 28)  # reshape array\n",
    "\n",
    "# shirt sample image (class 6)\n",
    "shirt = label_groups.get_group(6).drop('label', axis=1).iloc[0]  # get t-shirt/top sample\n",
    "shirt = np.array(shirt)  # convert to array\n",
    "shirt_img = shirt.reshape(28, 28)  # reshape array\n",
    "\n",
    "# convert shirt sample image from grayscale to black and white\n",
    "shirt_bin = shirt.copy()  # deep copy of the shirt sample image\n",
    "shirt_bin[shirt_bin > 0] = 1  # convert gray intensities to black\n",
    "shirt_bin_img = shirt_bin.reshape(28, 28)  # reshape array"
   ],
   "metadata": {
    "collapsed": false,
    "pycharm": {
     "name": "#%%\n"
    }
   }
  },
  {
   "cell_type": "code",
   "execution_count": 19,
   "outputs": [
    {
     "data": {
      "text/plain": "<Figure size 720x720 with 8 Axes>",
      "image/png": "[encoded data removed]"
     },
     "metadata": {},
     "output_type": "display_data"
    }
   ],
   "source": [
    "fig, dx = plt.subplots(4, 2, figsize=(10, 10))\n",
    "\n",
    "# plot grayscale t-shirt/top sample image and pixel value occurrences\n",
    "dx[0, 0].imshow(top_img)\n",
    "dx[0, 0].axis('off')\n",
    "dx[0, 0].set_title(\"Grayscale T-shirt/top\", size=15)\n",
    "dx[0, 1].hist(top)\n",
    "dx[0, 1].set_title(\"Grayscale T-shirt/top Pixel Value Occurrences\", size=15)\n",
    "dx[0, 1].set_xlabel(\"Pixel Value\")\n",
    "dx[0, 1].set_ylabel(\"Count\")\n",
    "# plot black and white t-shirt/top sample image and pixel value occurrences\n",
    "dx[1, 0].imshow(top_bin_img)\n",
    "dx[1, 0].axis('off')\n",
    "dx[1, 0].set_title(\"Black and White T-shirt/top\", size=15)\n",
    "dx[1, 1].hist(top_bin)\n",
    "dx[1, 1].set_title(\"Black and White T-shirt/top Pixel Value Occurrences\", size=15)\n",
    "dx[1, 1].set_xticks([0, 1])\n",
    "dx[1, 1].set_xlabel(\"Pixel Value\")\n",
    "dx[1, 1].set_ylabel(\"Count\")\n",
    "\n",
    "# plot grayscale shirt sample image and pixel value occurrences\n",
    "dx[2, 0].imshow(shirt_img)\n",
    "dx[2, 0].axis('off')\n",
    "dx[2, 0].set_title(\"Grayscale Shirt\", size=15)\n",
    "dx[2, 1].hist(shirt)\n",
    "dx[2, 1].set_title(\"Grayscale Shirt Pixel Value Occurrences\", size=15)\n",
    "dx[2, 1].set_xlabel(\"Pixel Value\")\n",
    "dx[2, 1].set_ylabel(\"Count\")\n",
    "# plot black and white shirt sample image and pixel value occurrences\n",
    "dx[3, 0].imshow(shirt_bin_img)\n",
    "dx[3, 0].axis('off')\n",
    "dx[3, 0].set_title(\"Black and White Shirt\", size=15)\n",
    "dx[3, 1].hist(shirt_bin)\n",
    "dx[3, 1].set_title(\"Black and White Shirt Pixel Value Occurrences\", size=15)\n",
    "dx[3, 1].set_xticks([0, 1])\n",
    "dx[3, 1].set_xlabel(\"Pixel Value\")\n",
    "dx[3, 1].set_ylabel(\"Count\")\n",
    "\n",
    "plt.tight_layout()\n",
    "plt.show()"
   ],
   "metadata": {
    "collapsed": false,
    "pycharm": {
     "name": "#%%\n"
    }
   }
  },
  {
   "cell_type": "markdown",
   "source": [
    "> #### Observations:\n",
    "* The main difference between the classes are the pixels representing the sleeves.\n",
    "The t-shirt/top has short sleeves and the shirt has long sleeves.\n",
    "* Converting the images to binary shows where the mix-up between the classes might be.\n",
    "The t-shirt has gray pixels that aren't seen in the grayscale image, but stand out in the\n",
    "black and white image. The unseen gray pixels appear where the long sleeves would be\n",
    "had this been a shirt.\n",
    "* The pixel value occurrences are similar when comparing the black and white images and are\n",
    "spread out differently in the grayscale images."
   ],
   "metadata": {
    "collapsed": false
   }
  },
  {
   "cell_type": "markdown",
   "source": [
    "# 3. Data Cleaning"
   ],
   "metadata": {
    "collapsed": false
   }
  },
  {
   "cell_type": "code",
   "execution_count": 20,
   "outputs": [],
   "source": [
    "# clean copy of the training set\n",
    "df = train_set.copy()"
   ],
   "metadata": {
    "collapsed": false,
    "pycharm": {
     "name": "#%%\n"
    }
   }
  },
  {
   "cell_type": "code",
   "execution_count": 21,
   "outputs": [],
   "source": [
    "# separate features from target values\n",
    "\n",
    "# drop- creates a copy without changing the training set\n",
    "X_train = df.drop('label', axis=1)\n",
    "\n",
    "# create a deep copy of the target values\n",
    "y_train = df['label'].copy()"
   ],
   "metadata": {
    "collapsed": false,
    "pycharm": {
     "name": "#%%\n"
    }
   }
  },
  {
   "cell_type": "markdown",
   "source": [
    "> ### Custom Transformer:\n",
    "> In section 2, I evaluated samples in grayscale and in black and white.\n",
    "> I assumed that converting images to black and white could improve the ML algorithms.\n",
    ">\n",
    "> The following custom transformer automates this process on the entire dataset:\n",
    ">\n",
    ">> The ColorConverter transformer contains the hyperparameter \"is_binary\". It is\n",
    "> set by default to 'False', meaning the samples remain in the original grayscale format.\n",
    "> However, the hyperparameter can be set to 'True' which will convert the images to black\n",
    "> and white.\n",
    ">>\n",
    ">> Adding this transformer will allow to easily switch between the two options during\n",
    "> model training, and determine which one is better."
   ],
   "metadata": {
    "collapsed": false
   }
  },
  {
   "cell_type": "code",
   "execution_count": 22,
   "outputs": [],
   "source": [
    "# custom transformer for converting images to black and white\n",
    "# default is set to leave as original grayscale images\n",
    "# when is_binary hyperparameter is set to True data is converted to binary\n",
    "\n",
    "# BaseEstimator for enabling hyperparameters\n",
    "# TransformerMixin adds fit_transform method\n",
    "class ColorConverter(BaseEstimator, TransformerMixin):\n",
    "\n",
    "    def __init__(self, is_binary=False):\n",
    "        self.is_binary = is_binary\n",
    "\n",
    "    def fit(self, X, y=None):\n",
    "        return self\n",
    "\n",
    "    def transform(self, X):\n",
    "        if self.is_binary:\n",
    "            X_binary = X.copy()\n",
    "            X_binary[X_binary > 0] = 1\n",
    "            return X_binary\n",
    "        else:\n",
    "            return X"
   ],
   "metadata": {
    "collapsed": false,
    "pycharm": {
     "name": "#%%\n"
    }
   }
  },
  {
   "cell_type": "markdown",
   "source": [
    "> ### Feature Scaling\n",
    "\n",
    "> Although the pixel values are in a known range [0,255], scaling the data can make a crucial difference\n",
    "(especially if the learning algorithm relies on calculating distances).\n",
    "\n",
    "Why is this important?\n",
    "* Models can't differentiate feature importance the same way humans can.\n",
    "A training algorithm may assume that a feature containing large numbers is more important than features\n",
    "with smaller numbers- which might not be the case.\n",
    "* Some algorithms converge much faster when features are scaled (i.e. Gradient Descent).\n",
    "* There are ML algorithms that make assumptions on the data (i.e. PCA assumes the data is centered around\n",
    "the origin).\n",
    "\n",
    "> Chosen feature scale:\n",
    ">\n",
    "> Standardizing centers the data so that it has a zero mean and a standard deviation of 1, under the assumption\n",
    "> that the data is normally distributed.\n",
    ">\n",
    "> * The distribution is relatively normal (aside from the white pixels which is highest for all classes).\n",
    "* Using PCA could be useful since the dataset has a large amount of features. As previously stated,\n",
    "PCA assumes the data has zero mean.\n",
    ">\n",
    "> Therefore, standard scaling is the ideal option."
   ],
   "metadata": {
    "collapsed": false
   }
  },
  {
   "cell_type": "code",
   "execution_count": 23,
   "outputs": [],
   "source": [
    "# create transformation pipeline\n",
    "\n",
    "# How to change ColorConverter is_binary hyperparameter:\n",
    "# full_pipeline['clr_convert'].__setattr__('is_binary', True)\n",
    "\n",
    "\n",
    "full_pipeline = Pipeline([\n",
    "    ('clr_convert', ColorConverter()),\n",
    "    ('std_scaler', StandardScaler()),\n",
    "])"
   ],
   "metadata": {
    "collapsed": false,
    "pycharm": {
     "name": "#%%\n"
    }
   }
  },
  {
   "cell_type": "code",
   "execution_count": 24,
   "outputs": [],
   "source": [
    "# transform training data using pipeline\n",
    "X_train_prepared = full_pipeline.fit_transform(X_train)\n",
    "\n",
    "# transform training data without fit for testing\n",
    "X_tr_testing = full_pipeline.transform(X_train)"
   ],
   "metadata": {
    "collapsed": false,
    "pycharm": {
     "name": "#%%\n"
    }
   }
  },
  {
   "cell_type": "markdown",
   "source": [
    "# 4. Training and Evaluating Models"
   ],
   "metadata": {
    "collapsed": false
   }
  },
  {
   "cell_type": "markdown",
   "source": [
    "> The number of instances for each class in the training set are equal which makes this\n",
    "> a balanced classification task.\n",
    ">\n",
    "> Chosen evaluation metric:\n",
    ">\n",
    "> Accuracy works well with balanced classification tasks. It is also the most intuitive\n",
    "> metric and is especially easier to understand when dealing with multiclass classification."
   ],
   "metadata": {
    "collapsed": false
   }
  },
  {
   "cell_type": "code",
   "execution_count": 25,
   "outputs": [],
   "source": [
    "# function for evaluating cross validation scores and for easy model comparison\n",
    "def display_scores(scores):\n",
    "    print(\"Scores:\", scores)\n",
    "    print(\"Mean:\", scores.mean())\n",
    "    print(\"Standard Deviation:\", scores.std())\n",
    "\n",
    "\n",
    "# function prints accuracy and errors\n",
    "def display_evaluation(actual, pred):\n",
    "    print(\"Accuracy:\", metrics.accuracy_score(actual, pred))\n",
    "    print(\"Display Errors in Confusion Matrix:\")\n",
    "    conf_mx = metrics.confusion_matrix(actual, pred)\n",
    "    row_sums = conf_mx.sum(axis=1, keepdims=True)\n",
    "    norm_conf_mx = conf_mx / row_sums\n",
    "    np.fill_diagonal(norm_conf_mx, 0)\n",
    "    plt.matshow(norm_conf_mx, cmap=plt.cm.gray)\n",
    "    plt.grid(False)\n",
    "    plt.show()"
   ],
   "metadata": {
    "collapsed": false,
    "pycharm": {
     "name": "#%%\n"
    }
   }
  },
  {
   "cell_type": "markdown",
   "source": [
    "### Shortlist Promising Models:\n",
    "> Trying many models quickly and selecting the ones that show promising results.\n",
    ">\n",
    ">> How I plan to do this:\n",
    "1. Train a baseline model and evaluate sample predictions.\n",
    "**Continue to step 2 if the sample predictions were mostly correct.**\n",
    "2. Use cross-validation and evaluate scores.\n",
    "3. If the model has a significant hyperparameters, try changing it. Use cross-validation to\n",
    "compare the results to step 2."
   ],
   "metadata": {
    "collapsed": false
   }
  },
  {
   "cell_type": "code",
   "execution_count": 26,
   "outputs": [],
   "source": [
    "# a few instances from the training data for testing\n",
    "some_data = X_train.iloc[:10]\n",
    "some_labels = y_train.iloc[:10]\n",
    "some_data_prepared = full_pipeline.transform(some_data)"
   ],
   "metadata": {
    "collapsed": false,
    "pycharm": {
     "name": "#%%\n"
    }
   }
  },
  {
   "cell_type": "markdown",
   "source": [
    "#### 1. Logistic Regression"
   ],
   "metadata": {
    "collapsed": false
   }
  },
  {
   "cell_type": "code",
   "execution_count": 27,
   "outputs": [],
   "source": [
    "# multinomial = softmax regression, used for multiclass\n",
    "# softmax normalizes so that the total probability sum is 1\n",
    "log_reg = LogisticRegression(multi_class='multinomial', random_state=42, n_jobs=-1)"
   ],
   "metadata": {
    "collapsed": false,
    "pycharm": {
     "name": "#%%\n"
    }
   }
  },
  {
   "cell_type": "code",
   "execution_count": 28,
   "outputs": [],
   "source": [
    "# log_reg.fit(X_train_prepared, y_train)"
   ],
   "metadata": {
    "collapsed": false,
    "pycharm": {
     "name": "#%%\n"
    }
   }
  },
  {
   "cell_type": "code",
   "execution_count": 29,
   "outputs": [],
   "source": [
    "# joblib.dump(log_reg, \"FMNIST/log_reg_1.pkl\")"
   ],
   "metadata": {
    "collapsed": false,
    "pycharm": {
     "name": "#%%\n"
    }
   }
  },
  {
   "cell_type": "code",
   "execution_count": 30,
   "outputs": [],
   "source": [
    "log_reg = joblib.load(r\"FMNIST/log_reg_1.pkl\")"
   ],
   "metadata": {
    "collapsed": false,
    "pycharm": {
     "name": "#%%\n"
    }
   }
  },
  {
   "cell_type": "code",
   "execution_count": 31,
   "outputs": [
    {
     "name": "stdout",
     "output_type": "stream",
     "text": [
      "Predictions: [2 9 6 0 3 6 4 5 4 8]\n",
      "Labels: [2, 9, 6, 0, 3, 4, 4, 5, 4, 8]\n"
     ]
    }
   ],
   "source": [
    "print(\"Predictions:\", log_reg.predict(some_data_prepared))\n",
    "print(\"Labels:\", list(some_labels))"
   ],
   "metadata": {
    "collapsed": false,
    "pycharm": {
     "name": "#%%\n"
    }
   }
  },
  {
   "cell_type": "code",
   "execution_count": 32,
   "outputs": [],
   "source": [
    "# log_reg_scores = cross_val_score(log_reg, X_train_prepared, y_train, scoring='accuracy', cv=6)"
   ],
   "metadata": {
    "collapsed": false,
    "pycharm": {
     "name": "#%%\n"
    }
   }
  },
  {
   "cell_type": "code",
   "execution_count": 33,
   "outputs": [],
   "source": [
    "# joblib.dump(log_reg_scores, \"FMNIST/log_reg_1_scores.pkl\")"
   ],
   "metadata": {
    "collapsed": false,
    "pycharm": {
     "name": "#%%\n"
    }
   }
  },
  {
   "cell_type": "code",
   "execution_count": 34,
   "outputs": [],
   "source": [
    "log_reg_scores = joblib.load(r\"FMNIST/log_reg_1_scores.pkl\")"
   ],
   "metadata": {
    "collapsed": false,
    "pycharm": {
     "name": "#%%\n"
    }
   }
  },
  {
   "cell_type": "code",
   "execution_count": 35,
   "outputs": [
    {
     "name": "stdout",
     "output_type": "stream",
     "text": [
      "Scores: [0.8562 0.8508 0.8535 0.8499 0.8482 0.8501]\n",
      "Mean: 0.8514499999999999\n",
      "Standard Deviation: 0.002644963767867788\n"
     ]
    }
   ],
   "source": [
    "display_scores(log_reg_scores)"
   ],
   "metadata": {
    "collapsed": false,
    "pycharm": {
     "name": "#%%\n"
    }
   }
  },
  {
   "cell_type": "markdown",
   "source": [
    "#### 2. KNN"
   ],
   "metadata": {
    "collapsed": false
   }
  },
  {
   "cell_type": "code",
   "execution_count": 36,
   "outputs": [],
   "source": [
    "# using default weights (uniform)\n",
    "# using default n_neighbors (n = 5)\n",
    "knn_clf = KNeighborsClassifier(n_jobs=-1)"
   ],
   "metadata": {
    "collapsed": false,
    "pycharm": {
     "name": "#%%\n"
    }
   }
  },
  {
   "cell_type": "code",
   "execution_count": 37,
   "outputs": [],
   "source": [
    "# knn_clf.fit(X_train_prepared, y_train)"
   ],
   "metadata": {
    "collapsed": false,
    "pycharm": {
     "name": "#%%\n"
    }
   }
  },
  {
   "cell_type": "code",
   "execution_count": 38,
   "outputs": [],
   "source": [
    "# joblib.dump(knn_clf, \"FMNIST/knn_clf_2.pkl\")"
   ],
   "metadata": {
    "collapsed": false,
    "pycharm": {
     "name": "#%%\n"
    }
   }
  },
  {
   "cell_type": "code",
   "execution_count": 39,
   "outputs": [],
   "source": [
    "knn_clf = joblib.load(r\"FMNIST/knn_clf_2.pkl\")"
   ],
   "metadata": {
    "collapsed": false,
    "pycharm": {
     "name": "#%%\n"
    }
   }
  },
  {
   "cell_type": "code",
   "execution_count": 40,
   "outputs": [
    {
     "name": "stdout",
     "output_type": "stream",
     "text": [
      "Predictions: [2 9 6 0 3 4 4 5 4 8]\n",
      "Labels: [2, 9, 6, 0, 3, 4, 4, 5, 4, 8]\n"
     ]
    }
   ],
   "source": [
    "print(\"Predictions:\", knn_clf.predict(some_data_prepared))\n",
    "print(\"Labels:\", list(some_labels))"
   ],
   "metadata": {
    "collapsed": false,
    "pycharm": {
     "name": "#%%\n"
    }
   }
  },
  {
   "cell_type": "code",
   "execution_count": 41,
   "outputs": [],
   "source": [
    "# knn_scores = cross_val_score(knn_clf, X_train_prepared, y_train, scoring='accuracy', cv=6)"
   ],
   "metadata": {
    "collapsed": false,
    "pycharm": {
     "name": "#%%\n"
    }
   }
  },
  {
   "cell_type": "code",
   "execution_count": 42,
   "outputs": [],
   "source": [
    "# joblib.dump(knn_scores, \"FMNIST/knn_clf_2_scores.pkl\")"
   ],
   "metadata": {
    "collapsed": false,
    "pycharm": {
     "name": "#%%\n"
    }
   }
  },
  {
   "cell_type": "code",
   "execution_count": 43,
   "outputs": [],
   "source": [
    "knn_scores = joblib.load(r\"FMNIST/knn_clf_2_scores.pkl\")"
   ],
   "metadata": {
    "collapsed": false,
    "pycharm": {
     "name": "#%%\n"
    }
   }
  },
  {
   "cell_type": "code",
   "execution_count": 44,
   "outputs": [
    {
     "name": "stdout",
     "output_type": "stream",
     "text": [
      "Scores: [0.8592 0.8537 0.853  0.857  0.8522 0.8528]\n",
      "Mean: 0.85465\n",
      "Standard Deviation: 0.0025584826232228556\n"
     ]
    }
   ],
   "source": [
    "display_scores(knn_scores)"
   ],
   "metadata": {
    "collapsed": false,
    "pycharm": {
     "name": "#%%\n"
    }
   }
  },
  {
   "cell_type": "markdown",
   "source": [
    "#### 3. Decision Tree Classifier"
   ],
   "metadata": {
    "collapsed": false
   }
  },
  {
   "cell_type": "code",
   "execution_count": 45,
   "outputs": [],
   "source": [
    "tree_clf = DecisionTreeClassifier(random_state=42)"
   ],
   "metadata": {
    "collapsed": false,
    "pycharm": {
     "name": "#%%\n"
    }
   }
  },
  {
   "cell_type": "code",
   "execution_count": 46,
   "outputs": [],
   "source": [
    "# tree_clf.fit(X_train_prepared, y_train)"
   ],
   "metadata": {
    "collapsed": false,
    "pycharm": {
     "name": "#%%\n"
    }
   }
  },
  {
   "cell_type": "code",
   "execution_count": 47,
   "outputs": [],
   "source": [
    "# joblib.dump(tree_clf, \"FMNIST/tree_clf_3.pkl\")"
   ],
   "metadata": {
    "collapsed": false,
    "pycharm": {
     "name": "#%%\n"
    }
   }
  },
  {
   "cell_type": "code",
   "execution_count": 48,
   "outputs": [],
   "source": [
    "tree_clf = joblib.load(r\"FMNIST/tree_clf_3.pkl\")"
   ],
   "metadata": {
    "collapsed": false,
    "pycharm": {
     "name": "#%%\n"
    }
   }
  },
  {
   "cell_type": "code",
   "execution_count": 49,
   "outputs": [
    {
     "name": "stdout",
     "output_type": "stream",
     "text": [
      "Predictions: [2 9 6 0 3 4 4 5 4 8]\n",
      "Labels: [2, 9, 6, 0, 3, 4, 4, 5, 4, 8]\n"
     ]
    }
   ],
   "source": [
    "print(\"Predictions:\", tree_clf.predict(some_data_prepared))\n",
    "print(\"Labels:\", list(some_labels))"
   ],
   "metadata": {
    "collapsed": false,
    "pycharm": {
     "name": "#%%\n"
    }
   }
  },
  {
   "cell_type": "code",
   "execution_count": 50,
   "outputs": [],
   "source": [
    "# tree_scores = cross_val_score(tree_clf, X_train_prepared, y_train, scoring='accuracy', cv=6)"
   ],
   "metadata": {
    "collapsed": false,
    "pycharm": {
     "name": "#%%\n"
    }
   }
  },
  {
   "cell_type": "code",
   "execution_count": 51,
   "outputs": [],
   "source": [
    "# joblib.dump(tree_scores, \"FMNIST/tree_clf_3_scores.pkl\")"
   ],
   "metadata": {
    "collapsed": false,
    "pycharm": {
     "name": "#%%\n"
    }
   }
  },
  {
   "cell_type": "code",
   "execution_count": 52,
   "outputs": [],
   "source": [
    "tree_scores = joblib.load(r\"FMNIST/tree_clf_3_scores.pkl\")"
   ],
   "metadata": {
    "collapsed": false,
    "pycharm": {
     "name": "#%%\n"
    }
   }
  },
  {
   "cell_type": "code",
   "execution_count": 53,
   "outputs": [
    {
     "name": "stdout",
     "output_type": "stream",
     "text": [
      "Scores: [0.791  0.7946 0.7932 0.7989 0.7962 0.7939]\n",
      "Mean: 0.7946333333333334\n",
      "Standard Deviation: 0.0024648642063114915\n"
     ]
    }
   ],
   "source": [
    "display_scores(tree_scores)"
   ],
   "metadata": {
    "collapsed": false,
    "pycharm": {
     "name": "#%%\n"
    }
   }
  },
  {
   "cell_type": "markdown",
   "source": [
    "#### 4. Random Forest Classifier"
   ],
   "metadata": {
    "collapsed": false
   }
  },
  {
   "cell_type": "code",
   "execution_count": 54,
   "outputs": [],
   "source": [
    "rf_clf = RandomForestClassifier(random_state=42, n_jobs=-1)"
   ],
   "metadata": {
    "collapsed": false,
    "pycharm": {
     "name": "#%%\n"
    }
   }
  },
  {
   "cell_type": "code",
   "execution_count": 55,
   "outputs": [],
   "source": [
    "# rf_clf.fit(X_train_prepared, y_train)"
   ],
   "metadata": {
    "collapsed": false,
    "pycharm": {
     "name": "#%%\n"
    }
   }
  },
  {
   "cell_type": "code",
   "execution_count": 56,
   "outputs": [],
   "source": [
    "# joblib.dump(rf_clf, \"FMNIST/rf_clf_4.pkl\")"
   ],
   "metadata": {
    "collapsed": false,
    "pycharm": {
     "name": "#%%\n"
    }
   }
  },
  {
   "cell_type": "code",
   "execution_count": 57,
   "outputs": [],
   "source": [
    "rf_clf = joblib.load(r\"FMNIST/rf_clf_4.pkl\")"
   ],
   "metadata": {
    "collapsed": false,
    "pycharm": {
     "name": "#%%\n"
    }
   }
  },
  {
   "cell_type": "code",
   "execution_count": 58,
   "outputs": [
    {
     "name": "stdout",
     "output_type": "stream",
     "text": [
      "Predictions: [2 9 6 0 3 4 4 5 4 8]\n",
      "Labels: [2, 9, 6, 0, 3, 4, 4, 5, 4, 8]\n"
     ]
    }
   ],
   "source": [
    "print(\"Predictions:\", rf_clf.predict(some_data_prepared))\n",
    "print(\"Labels:\", list(some_labels))"
   ],
   "metadata": {
    "collapsed": false,
    "pycharm": {
     "name": "#%%\n"
    }
   }
  },
  {
   "cell_type": "code",
   "execution_count": 59,
   "outputs": [],
   "source": [
    "# rf_scores = cross_val_score(rf_clf, X_train_prepared, y_train, scoring='accuracy', cv=6)"
   ],
   "metadata": {
    "collapsed": false,
    "pycharm": {
     "name": "#%%\n"
    }
   }
  },
  {
   "cell_type": "code",
   "execution_count": 60,
   "outputs": [],
   "source": [
    "# joblib.dump(rf_scores, \"FMNIST/rf_clf_4_scores.pkl\")"
   ],
   "metadata": {
    "collapsed": false,
    "pycharm": {
     "name": "#%%\n"
    }
   }
  },
  {
   "cell_type": "code",
   "execution_count": 61,
   "outputs": [],
   "source": [
    "rf_scores = joblib.load(r\"FMNIST/rf_clf_4_scores.pkl\")"
   ],
   "metadata": {
    "collapsed": false,
    "pycharm": {
     "name": "#%%\n"
    }
   }
  },
  {
   "cell_type": "code",
   "execution_count": 62,
   "outputs": [
    {
     "name": "stdout",
     "output_type": "stream",
     "text": [
      "Scores: [0.8844 0.8805 0.8854 0.8812 0.8776 0.8815]\n",
      "Mean: 0.8817666666666666\n",
      "Standard Deviation: 0.0025655841873191594\n"
     ]
    }
   ],
   "source": [
    "display_scores(rf_scores)"
   ],
   "metadata": {
    "collapsed": false,
    "pycharm": {
     "name": "#%%\n"
    }
   }
  },
  {
   "cell_type": "markdown",
   "source": [
    "Before continuing, I will try these 4 models again on the black and white dataset."
   ],
   "metadata": {
    "collapsed": false
   }
  },
  {
   "cell_type": "code",
   "execution_count": 63,
   "outputs": [],
   "source": [
    "full_pipeline['clr_convert'].__setattr__('is_binary', True)"
   ],
   "metadata": {
    "collapsed": false,
    "pycharm": {
     "name": "#%%\n"
    }
   }
  },
  {
   "cell_type": "code",
   "execution_count": 64,
   "outputs": [
    {
     "data": {
      "text/plain": "('clr_convert', ColorConverter(is_binary=True))"
     },
     "execution_count": 64,
     "metadata": {},
     "output_type": "execute_result"
    }
   ],
   "source": [
    "full_pipeline.steps[0]"
   ],
   "metadata": {
    "collapsed": false,
    "pycharm": {
     "name": "#%%\n"
    }
   }
  },
  {
   "cell_type": "code",
   "execution_count": 65,
   "outputs": [],
   "source": [
    "# transform training data using pipeline\n",
    "X_train_prepared2 = full_pipeline.fit_transform(X_train)\n",
    "\n",
    "# transform training data without fit for testing\n",
    "X_tr_testing2 = full_pipeline.transform(X_train)\n",
    "\n",
    "# a few instances from the training data for testing\n",
    "some_data_prepared2 = full_pipeline.transform(some_data)"
   ],
   "metadata": {
    "collapsed": false,
    "pycharm": {
     "name": "#%%\n"
    }
   }
  },
  {
   "cell_type": "markdown",
   "source": [
    "> Note: 'clone' constructs a new unfitted estimator with the same parameters."
   ],
   "metadata": {
    "collapsed": false,
    "pycharm": {
     "name": "#%% md\n"
    }
   }
  },
  {
   "cell_type": "markdown",
   "source": [
    "#### 5. Logistic Regression"
   ],
   "metadata": {
    "collapsed": false
   }
  },
  {
   "cell_type": "code",
   "execution_count": 66,
   "outputs": [],
   "source": [
    "log_reg = clone(log_reg)"
   ],
   "metadata": {
    "collapsed": false,
    "pycharm": {
     "name": "#%%\n"
    }
   }
  },
  {
   "cell_type": "code",
   "execution_count": 67,
   "outputs": [],
   "source": [
    "# log_reg.fit(X_train_prepared2, y_train)"
   ],
   "metadata": {
    "collapsed": false,
    "pycharm": {
     "name": "#%%\n"
    }
   }
  },
  {
   "cell_type": "code",
   "execution_count": 68,
   "outputs": [],
   "source": [
    "# joblib.dump(log_reg, \"FMNIST/log_reg_5.pkl\")"
   ],
   "metadata": {
    "collapsed": false,
    "pycharm": {
     "name": "#%%\n"
    }
   }
  },
  {
   "cell_type": "code",
   "execution_count": 69,
   "outputs": [],
   "source": [
    "log_reg = joblib.load(r\"FMNIST/log_reg_5.pkl\")"
   ],
   "metadata": {
    "collapsed": false,
    "pycharm": {
     "name": "#%%\n"
    }
   }
  },
  {
   "cell_type": "code",
   "execution_count": 70,
   "outputs": [
    {
     "name": "stdout",
     "output_type": "stream",
     "text": [
      "Predictions: [6 9 6 0 3 6 4 5 4 8]\n",
      "Labels: [2, 9, 6, 0, 3, 4, 4, 5, 4, 8]\n"
     ]
    }
   ],
   "source": [
    "print(\"Predictions:\", log_reg.predict(some_data_prepared2))\n",
    "print(\"Labels:\", list(some_labels))"
   ],
   "metadata": {
    "collapsed": false,
    "pycharm": {
     "name": "#%%\n"
    }
   }
  },
  {
   "cell_type": "code",
   "execution_count": 71,
   "outputs": [],
   "source": [
    "# log_reg_scores = cross_val_score(log_reg, X_train_prepared2, y_train, scoring='accuracy', cv=6)"
   ],
   "metadata": {
    "collapsed": false,
    "pycharm": {
     "name": "#%%\n"
    }
   }
  },
  {
   "cell_type": "code",
   "execution_count": 72,
   "outputs": [],
   "source": [
    "# joblib.dump(log_reg_scores, \"FMNIST/log_reg_5_scores.pkl\")"
   ],
   "metadata": {
    "collapsed": false,
    "pycharm": {
     "name": "#%%\n"
    }
   }
  },
  {
   "cell_type": "code",
   "execution_count": 73,
   "outputs": [],
   "source": [
    "log_reg_scores = joblib.load(r\"FMNIST/log_reg_5_scores.pkl\")"
   ],
   "metadata": {
    "collapsed": false,
    "pycharm": {
     "name": "#%%\n"
    }
   }
  },
  {
   "cell_type": "code",
   "execution_count": 74,
   "outputs": [
    {
     "name": "stdout",
     "output_type": "stream",
     "text": [
      "Scores: [0.8464 0.8427 0.845  0.8391 0.8417 0.8388]\n",
      "Mean: 0.8422833333333334\n",
      "Standard Deviation: 0.0028020329921128657\n"
     ]
    }
   ],
   "source": [
    "display_scores(log_reg_scores)"
   ],
   "metadata": {
    "collapsed": false,
    "pycharm": {
     "name": "#%%\n"
    }
   }
  },
  {
   "cell_type": "markdown",
   "source": [
    "#### 6. KNN"
   ],
   "metadata": {
    "collapsed": false
   }
  },
  {
   "cell_type": "code",
   "execution_count": 75,
   "outputs": [],
   "source": [
    "# using default weights (uniform)\n",
    "# using default n_neighbors (n = 5)\n",
    "knn_clf = clone(knn_clf)"
   ],
   "metadata": {
    "collapsed": false,
    "pycharm": {
     "name": "#%%\n"
    }
   }
  },
  {
   "cell_type": "code",
   "execution_count": 76,
   "outputs": [],
   "source": [
    "# knn_clf.fit(X_train_prepared2, y_train)"
   ],
   "metadata": {
    "collapsed": false,
    "pycharm": {
     "name": "#%%\n"
    }
   }
  },
  {
   "cell_type": "code",
   "execution_count": 77,
   "outputs": [],
   "source": [
    "# joblib.dump(knn_clf, \"FMNIST/knn_clf_6.pkl\")"
   ],
   "metadata": {
    "collapsed": false,
    "pycharm": {
     "name": "#%%\n"
    }
   }
  },
  {
   "cell_type": "code",
   "execution_count": 78,
   "outputs": [],
   "source": [
    "knn_clf = joblib.load(r\"FMNIST/knn_clf_6.pkl\")"
   ],
   "metadata": {
    "collapsed": false,
    "pycharm": {
     "name": "#%%\n"
    }
   }
  },
  {
   "cell_type": "code",
   "execution_count": 79,
   "outputs": [
    {
     "name": "stdout",
     "output_type": "stream",
     "text": [
      "Predictions: [2 9 6 0 3 6 4 5 4 8]\n",
      "Labels: [2, 9, 6, 0, 3, 4, 4, 5, 4, 8]\n"
     ]
    }
   ],
   "source": [
    "print(\"Predictions:\", knn_clf.predict(some_data_prepared2))\n",
    "print(\"Labels:\", list(some_labels))"
   ],
   "metadata": {
    "collapsed": false,
    "pycharm": {
     "name": "#%%\n"
    }
   }
  },
  {
   "cell_type": "code",
   "execution_count": 80,
   "outputs": [],
   "source": [
    "# knn_scores = cross_val_score(knn_clf, X_train_prepared2, y_train, scoring='accuracy', cv=6)"
   ],
   "metadata": {
    "collapsed": false,
    "pycharm": {
     "name": "#%%\n"
    }
   }
  },
  {
   "cell_type": "code",
   "execution_count": 81,
   "outputs": [],
   "source": [
    "# joblib.dump(knn_scores, \"FMNIST/knn_clf_6_scores.pkl\")"
   ],
   "metadata": {
    "collapsed": false,
    "pycharm": {
     "name": "#%%\n"
    }
   }
  },
  {
   "cell_type": "code",
   "execution_count": 82,
   "outputs": [],
   "source": [
    "knn_scores = joblib.load(r\"FMNIST/knn_clf_6_scores.pkl\")"
   ],
   "metadata": {
    "collapsed": false,
    "pycharm": {
     "name": "#%%\n"
    }
   }
  },
  {
   "cell_type": "code",
   "execution_count": 83,
   "outputs": [
    {
     "name": "stdout",
     "output_type": "stream",
     "text": [
      "Scores: [0.8404 0.8347 0.839  0.836  0.8359 0.8432]\n",
      "Mean: 0.8382\n",
      "Standard Deviation: 0.0029681644159311625\n"
     ]
    }
   ],
   "source": [
    "display_scores(knn_scores)"
   ],
   "metadata": {
    "collapsed": false,
    "pycharm": {
     "name": "#%%\n"
    }
   }
  },
  {
   "cell_type": "markdown",
   "source": [
    "#### 7. Decision Tree Classifier"
   ],
   "metadata": {
    "collapsed": false
   }
  },
  {
   "cell_type": "code",
   "execution_count": 84,
   "outputs": [],
   "source": [
    "tree_clf = clone(tree_clf)"
   ],
   "metadata": {
    "collapsed": false,
    "pycharm": {
     "name": "#%%\n"
    }
   }
  },
  {
   "cell_type": "code",
   "execution_count": 85,
   "outputs": [],
   "source": [
    "# tree_clf.fit(X_train_prepared2, y_train)"
   ],
   "metadata": {
    "collapsed": false,
    "pycharm": {
     "name": "#%%\n"
    }
   }
  },
  {
   "cell_type": "code",
   "execution_count": 86,
   "outputs": [],
   "source": [
    "# joblib.dump(tree_clf, \"FMNIST/tree_clf_7.pkl\")"
   ],
   "metadata": {
    "collapsed": false,
    "pycharm": {
     "name": "#%%\n"
    }
   }
  },
  {
   "cell_type": "code",
   "execution_count": 87,
   "outputs": [],
   "source": [
    "tree_clf = joblib.load(r\"FMNIST/tree_clf_7.pkl\")"
   ],
   "metadata": {
    "collapsed": false,
    "pycharm": {
     "name": "#%%\n"
    }
   }
  },
  {
   "cell_type": "code",
   "execution_count": 88,
   "outputs": [
    {
     "name": "stdout",
     "output_type": "stream",
     "text": [
      "Predictions: [2 9 6 0 3 4 4 5 4 8]\n",
      "Labels: [2, 9, 6, 0, 3, 4, 4, 5, 4, 8]\n"
     ]
    }
   ],
   "source": [
    "print(\"Predictions:\", tree_clf.predict(some_data_prepared2))\n",
    "print(\"Labels:\", list(some_labels))"
   ],
   "metadata": {
    "collapsed": false,
    "pycharm": {
     "name": "#%%\n"
    }
   }
  },
  {
   "cell_type": "code",
   "execution_count": 89,
   "outputs": [],
   "source": [
    "# tree_scores = cross_val_score(tree_clf, X_train_prepared2, y_train, scoring='accuracy', cv=6)"
   ],
   "metadata": {
    "collapsed": false,
    "pycharm": {
     "name": "#%%\n"
    }
   }
  },
  {
   "cell_type": "code",
   "execution_count": 90,
   "outputs": [],
   "source": [
    "# joblib.dump(tree_scores, \"FMNIST/tree_clf_7_scores.pkl\")"
   ],
   "metadata": {
    "collapsed": false,
    "pycharm": {
     "name": "#%%\n"
    }
   }
  },
  {
   "cell_type": "code",
   "execution_count": 91,
   "outputs": [],
   "source": [
    "tree_scores = joblib.load(r\"FMNIST/tree_clf_7_scores.pkl\")"
   ],
   "metadata": {
    "collapsed": false,
    "pycharm": {
     "name": "#%%\n"
    }
   }
  },
  {
   "cell_type": "code",
   "execution_count": 92,
   "outputs": [
    {
     "name": "stdout",
     "output_type": "stream",
     "text": [
      "Scores: [0.7935 0.787  0.7935 0.7956 0.7874 0.7887]\n",
      "Mean: 0.7909499999999999\n",
      "Standard Deviation: 0.003363901504701537\n"
     ]
    }
   ],
   "source": [
    "display_scores(tree_scores)"
   ],
   "metadata": {
    "collapsed": false,
    "pycharm": {
     "name": "#%%\n"
    }
   }
  },
  {
   "cell_type": "markdown",
   "source": [
    "#### 8. Random Forest Classifier"
   ],
   "metadata": {
    "collapsed": false
   }
  },
  {
   "cell_type": "code",
   "execution_count": 93,
   "outputs": [],
   "source": [
    "rf_clf = clone(rf_clf)"
   ],
   "metadata": {
    "collapsed": false,
    "pycharm": {
     "name": "#%%\n"
    }
   }
  },
  {
   "cell_type": "code",
   "execution_count": 94,
   "outputs": [],
   "source": [
    "# rf_clf.fit(X_train_prepared2, y_train)"
   ],
   "metadata": {
    "collapsed": false,
    "pycharm": {
     "name": "#%%\n"
    }
   }
  },
  {
   "cell_type": "code",
   "execution_count": 95,
   "outputs": [],
   "source": [
    "# joblib.dump(rf_clf, \"FMNIST/rf_clf_8.pkl\")"
   ],
   "metadata": {
    "collapsed": false,
    "pycharm": {
     "name": "#%%\n"
    }
   }
  },
  {
   "cell_type": "code",
   "execution_count": 96,
   "outputs": [],
   "source": [
    "rf_clf = joblib.load(r\"FMNIST/rf_clf_8.pkl\")"
   ],
   "metadata": {
    "collapsed": false,
    "pycharm": {
     "name": "#%%\n"
    }
   }
  },
  {
   "cell_type": "code",
   "execution_count": 97,
   "outputs": [
    {
     "name": "stdout",
     "output_type": "stream",
     "text": [
      "Predictions: [2 9 6 0 3 4 4 5 4 8]\n",
      "Labels: [2, 9, 6, 0, 3, 4, 4, 5, 4, 8]\n"
     ]
    }
   ],
   "source": [
    "print(\"Predictions:\", rf_clf.predict(some_data_prepared2))\n",
    "print(\"Labels:\", list(some_labels))"
   ],
   "metadata": {
    "collapsed": false,
    "pycharm": {
     "name": "#%%\n"
    }
   }
  },
  {
   "cell_type": "code",
   "execution_count": 98,
   "outputs": [],
   "source": [
    "# rf_scores = cross_val_score(rf_clf, X_train_prepared2, y_train, scoring='accuracy', cv=6)"
   ],
   "metadata": {
    "collapsed": false,
    "pycharm": {
     "name": "#%%\n"
    }
   }
  },
  {
   "cell_type": "code",
   "execution_count": 99,
   "outputs": [],
   "source": [
    "# joblib.dump(rf_scores, \"FMNIST/rf_clf_8_scores.pkl\")"
   ],
   "metadata": {
    "collapsed": false,
    "pycharm": {
     "name": "#%%\n"
    }
   }
  },
  {
   "cell_type": "code",
   "execution_count": 100,
   "outputs": [],
   "source": [
    "rf_scores = joblib.load(r\"FMNIST/rf_clf_8_scores.pkl\")"
   ],
   "metadata": {
    "collapsed": false,
    "pycharm": {
     "name": "#%%\n"
    }
   }
  },
  {
   "cell_type": "code",
   "execution_count": 101,
   "outputs": [
    {
     "name": "stdout",
     "output_type": "stream",
     "text": [
      "Scores: [0.8801 0.8794 0.8785 0.8792 0.8779 0.8787]\n",
      "Mean: 0.8789666666666668\n",
      "Standard Deviation: 0.000701585505994966\n"
     ]
    }
   ],
   "source": [
    "display_scores(rf_scores)"
   ],
   "metadata": {
    "collapsed": false,
    "pycharm": {
     "name": "#%%\n"
    }
   }
  },
  {
   "cell_type": "markdown",
   "source": [
    "All models performed slightly worse after converting the images to black and white, the mean after cross-validation\n",
    "was lower.\n",
    "\n",
    "When looking at the feature importance from the random forest classifier, it seems that some pixels are\n",
    "redundant around the corners and edges and others towards the middle are very important.\n",
    "\n",
    "PCA is a dimensionality technique that ...\n",
    "\n",
    "Evaluating the models on both grayscale and black and white images was a vital step. While PCA does improve\n",
    "training computation time, some data is lost, so it is better to choose the transformation that has better results.\n",
    "\n",
    "Therefore, I will use the grayscale images for PCA."
   ],
   "metadata": {
    "collapsed": false
   }
  },
  {
   "cell_type": "code",
   "execution_count": 102,
   "outputs": [],
   "source": [
    "X, X_val, y, y_val = train_test_split(X_train, y_train, test_size=10000, random_state=42, stratify=y_train)"
   ],
   "metadata": {
    "collapsed": false,
    "pycharm": {
     "name": "#%%\n"
    }
   }
  },
  {
   "cell_type": "code",
   "execution_count": 103,
   "outputs": [
    {
     "name": "stdout",
     "output_type": "stream",
     "text": [
      "New training set: (50000, 784)\n",
      "New training labels: (50000,)\n",
      "Validation set: (10000, 784)\n",
      "Validation set labels: (10000,)\n"
     ]
    }
   ],
   "source": [
    "# data shape\n",
    "print(\"New training set:\", X.shape)\n",
    "print(\"New training labels:\", y.shape)\n",
    "print(\"Validation set:\", X_val.shape)\n",
    "print(\"Validation set labels:\", y_val.shape)"
   ],
   "metadata": {
    "collapsed": false,
    "pycharm": {
     "name": "#%%\n"
    }
   }
  },
  {
   "cell_type": "code",
   "execution_count": 104,
   "outputs": [
    {
     "data": {
      "text/plain": "('clr_convert', ColorConverter())"
     },
     "execution_count": 104,
     "metadata": {},
     "output_type": "execute_result"
    }
   ],
   "source": [
    "# change hyperparameter for grayscale images\n",
    "full_pipeline['clr_convert'].__setattr__('is_binary', False)\n",
    "full_pipeline.steps[0]  # check that the hyperparameter changed"
   ],
   "metadata": {
    "collapsed": false,
    "pycharm": {
     "name": "#%%\n"
    }
   }
  },
  {
   "cell_type": "code",
   "execution_count": 105,
   "outputs": [],
   "source": [
    "# prepare data after split\n",
    "X_prepared = full_pipeline.fit_transform(X, y)\n",
    "X_val_prepared = full_pipeline.transform(X_val)"
   ],
   "metadata": {
    "collapsed": false,
    "pycharm": {
     "name": "#%%\n"
    }
   }
  },
  {
   "cell_type": "code",
   "execution_count": 106,
   "outputs": [],
   "source": [
    "pca = PCA()\n",
    "pca.fit(X_prepared)\n",
    "# cumulative sum (increasing by sequential addition) of components\n",
    "cumsum = np.cumsum(pca.explained_variance_ratio_)\n",
    "d = np.argmax(cumsum >= 0.95) + 1"
   ],
   "metadata": {
    "collapsed": false,
    "pycharm": {
     "name": "#%%\n"
    }
   }
  },
  {
   "cell_type": "code",
   "execution_count": 107,
   "outputs": [
    {
     "data": {
      "text/plain": "<Figure size 576x396 with 1 Axes>",
      "image/png": "[encoded data removed]"
     },
     "metadata": {},
     "output_type": "display_data"
    }
   ],
   "source": [
    "plt.axis([0, 784, 0, 1])  # axis limits\n",
    "plt.plot(cumsum, linewidth=3)\n",
    "plt.xlabel(\"Dimensions\", size=15)\n",
    "plt.ylabel(\"Explained Variance\", size=15)\n",
    "plt.plot([d, d], [0, 0.95], \"k:\")\n",
    "plt.plot([0, d], [0.95, 0.95], \"k:\")\n",
    "plt.tight_layout()\n",
    "plt.show()"
   ],
   "metadata": {
    "collapsed": false,
    "pycharm": {
     "name": "#%%\n"
    }
   }
  },
  {
   "cell_type": "code",
   "execution_count": 108,
   "outputs": [
    {
     "data": {
      "text/plain": "255"
     },
     "execution_count": 108,
     "metadata": {},
     "output_type": "execute_result"
    }
   ],
   "source": [
    "d"
   ],
   "metadata": {
    "collapsed": false,
    "pycharm": {
     "name": "#%%\n"
    }
   }
  },
  {
   "cell_type": "markdown",
   "source": [
    "Using the elbow method, around 95% explained variance is where the graph\n",
    "starts growing slower.\n",
    "\n",
    "In other words, reducing the dimensions from 784 down to 255 will preserve 95% of\n",
    "the variance with only a little data loss."
   ],
   "metadata": {
    "collapsed": false
   }
  },
  {
   "cell_type": "code",
   "execution_count": 109,
   "outputs": [],
   "source": [
    "pca = PCA(n_components=0.95)\n",
    "X_reduced = pca.fit_transform(X_prepared, y)\n",
    "X_val_reduced = pca.transform(X_val_prepared)"
   ],
   "metadata": {
    "collapsed": false,
    "pycharm": {
     "name": "#%%\n"
    }
   }
  },
  {
   "cell_type": "markdown",
   "source": [
    "from sklearn.manifold import TSNE"
   ],
   "metadata": {
    "collapsed": false,
    "pycharm": {
     "name": "#%% md\n"
    }
   }
  },
  {
   "cell_type": "markdown",
   "source": [
    "tsne = TSNE(n_components=2, perplexity=50, random_state=42, n_jobs=-1)"
   ],
   "metadata": {
    "collapsed": false,
    "pycharm": {
     "name": "#%% md\n"
    }
   }
  },
  {
   "cell_type": "code",
   "execution_count": 110,
   "outputs": [],
   "source": [
    "# X_reduced_tsne = tsne.fit_transform(X_reduced)"
   ],
   "metadata": {
    "collapsed": false,
    "pycharm": {
     "name": "#%%\n"
    }
   }
  },
  {
   "cell_type": "code",
   "execution_count": 111,
   "outputs": [],
   "source": [
    "# joblib.dump(X_reduced_tsne, \"FMNIST/X_reduced_tsne.pkl\")"
   ],
   "metadata": {
    "collapsed": false,
    "pycharm": {
     "name": "#%%\n"
    }
   }
  },
  {
   "cell_type": "markdown",
   "source": [
    "X_reduced_tsne = joblib.load(r\"FMNIST/X_reduced_tsne.pkl\")"
   ],
   "metadata": {
    "collapsed": false,
    "pycharm": {
     "name": "#%% md\n"
    }
   }
  },
  {
   "cell_type": "markdown",
   "source": [
    "plt.figure(figsize=(35,25))\n",
    "plt.scatter(X_reduced_tsne[:, 0], X_reduced_tsne[:, 1], c=y, cmap='jet')\n",
    "plt.axis('off')\n",
    "cb = plt.colorbar()\n",
    "cb.ax.set_yticklabels(labels, size=25)\n",
    "plt.show()"
   ],
   "metadata": {
    "collapsed": false,
    "pycharm": {
     "name": "#%% md\n"
    }
   }
  },
  {
   "cell_type": "markdown",
   "source": [
    "#### 10. Logistic Regression"
   ],
   "metadata": {
    "collapsed": false,
    "pycharm": {
     "name": "#%% md\n"
    }
   }
  },
  {
   "cell_type": "markdown",
   "source": [
    "> Before PCA:"
   ],
   "metadata": {
    "collapsed": false
   }
  },
  {
   "cell_type": "code",
   "execution_count": 112,
   "outputs": [],
   "source": [
    "log_reg = clone(log_reg)\n",
    "# log_reg.fit(X_prepared, y)"
   ],
   "metadata": {
    "collapsed": false,
    "pycharm": {
     "name": "#%%\n"
    }
   }
  },
  {
   "cell_type": "code",
   "execution_count": 113,
   "outputs": [],
   "source": [
    "# joblib.dump(log_reg, \"FMNIST/log_reg_10_before.pkl\")"
   ],
   "metadata": {
    "collapsed": false,
    "pycharm": {
     "name": "#%%\n"
    }
   }
  },
  {
   "cell_type": "code",
   "execution_count": 114,
   "outputs": [],
   "source": [
    "log_reg = joblib.load(r\"FMNIST/log_reg_10_before.pkl\")"
   ],
   "metadata": {
    "collapsed": false,
    "pycharm": {
     "name": "#%%\n"
    }
   }
  },
  {
   "cell_type": "code",
   "execution_count": 115,
   "outputs": [],
   "source": [
    "y_pred = log_reg.predict(X_val_prepared)"
   ],
   "metadata": {
    "collapsed": false,
    "pycharm": {
     "name": "#%%\n"
    }
   }
  },
  {
   "cell_type": "code",
   "execution_count": 116,
   "outputs": [
    {
     "name": "stdout",
     "output_type": "stream",
     "text": [
      "Accuracy: 0.8476\n",
      "Display Errors in Confusion Matrix:\n"
     ]
    },
    {
     "data": {
      "text/plain": "<Figure size 396x396 with 1 Axes>",
      "image/png": "[encoded data removed]"
     },
     "metadata": {},
     "output_type": "display_data"
    }
   ],
   "source": [
    "display_evaluation(y_val, y_pred)"
   ],
   "metadata": {
    "collapsed": false,
    "pycharm": {
     "name": "#%%\n"
    }
   }
  },
  {
   "cell_type": "markdown",
   "source": [
    "> After PCA:"
   ],
   "metadata": {
    "collapsed": false
   }
  },
  {
   "cell_type": "code",
   "execution_count": 117,
   "outputs": [],
   "source": [
    "log_reg = clone(log_reg)\n",
    "# log_reg.fit(X_reduced, y)"
   ],
   "metadata": {
    "collapsed": false,
    "pycharm": {
     "name": "#%%\n"
    }
   }
  },
  {
   "cell_type": "code",
   "execution_count": 118,
   "outputs": [],
   "source": [
    "# joblib.dump(log_reg, \"FMNIST/log_reg_10_after.pkl\")"
   ],
   "metadata": {
    "collapsed": false,
    "pycharm": {
     "name": "#%%\n"
    }
   }
  },
  {
   "cell_type": "code",
   "execution_count": 119,
   "outputs": [],
   "source": [
    "log_reg = joblib.load(r\"FMNIST/log_reg_10_after.pkl\")"
   ],
   "metadata": {
    "collapsed": false,
    "pycharm": {
     "name": "#%%\n"
    }
   }
  },
  {
   "cell_type": "code",
   "execution_count": 120,
   "outputs": [],
   "source": [
    "y_pred = log_reg.predict(X_val_reduced)"
   ],
   "metadata": {
    "collapsed": false,
    "pycharm": {
     "name": "#%%\n"
    }
   }
  },
  {
   "cell_type": "code",
   "execution_count": 121,
   "outputs": [
    {
     "name": "stdout",
     "output_type": "stream",
     "text": [
      "Accuracy: 0.8494\n",
      "Display Errors in Confusion Matrix:\n"
     ]
    },
    {
     "data": {
      "text/plain": "<Figure size 396x396 with 1 Axes>",
      "image/png": "[encoded data removed]"
     },
     "metadata": {},
     "output_type": "display_data"
    }
   ],
   "source": [
    "display_evaluation(y_val, y_pred)"
   ],
   "metadata": {
    "collapsed": false,
    "pycharm": {
     "name": "#%%\n"
    }
   }
  },
  {
   "cell_type": "markdown",
   "source": [
    "#### 11. Random Forest"
   ],
   "metadata": {
    "collapsed": false,
    "pycharm": {
     "name": "#%% md\n"
    }
   }
  },
  {
   "cell_type": "markdown",
   "source": [
    "> Random Forest before PCA:"
   ],
   "metadata": {
    "collapsed": false
   }
  },
  {
   "cell_type": "code",
   "execution_count": 122,
   "outputs": [],
   "source": [
    "rf_clf = clone(rf_clf)\n",
    "# rf_clf.fit(X_prepared, y)"
   ],
   "metadata": {
    "collapsed": false,
    "pycharm": {
     "name": "#%%\n"
    }
   }
  },
  {
   "cell_type": "code",
   "execution_count": 123,
   "outputs": [],
   "source": [
    "# joblib.dump(rf_clf, \"FMNIST/rf_clf_11_before.pkl\")"
   ],
   "metadata": {
    "collapsed": false,
    "pycharm": {
     "name": "#%%\n"
    }
   }
  },
  {
   "cell_type": "code",
   "execution_count": 124,
   "outputs": [],
   "source": [
    "rf_clf = joblib.load(r\"FMNIST/rf_clf_11_before.pkl\")"
   ],
   "metadata": {
    "collapsed": false,
    "pycharm": {
     "name": "#%%\n"
    }
   }
  },
  {
   "cell_type": "code",
   "execution_count": 125,
   "outputs": [],
   "source": [
    "y_pred = rf_clf.predict(X_val_prepared)"
   ],
   "metadata": {
    "collapsed": false,
    "pycharm": {
     "name": "#%%\n"
    }
   }
  },
  {
   "cell_type": "code",
   "execution_count": 126,
   "outputs": [
    {
     "name": "stdout",
     "output_type": "stream",
     "text": [
      "Accuracy: 0.8769\n",
      "Display Errors in Confusion Matrix:\n"
     ]
    },
    {
     "data": {
      "text/plain": "<Figure size 396x396 with 1 Axes>",
      "image/png": "[encoded data removed]"
     },
     "metadata": {},
     "output_type": "display_data"
    }
   ],
   "source": [
    "display_evaluation(y_val, y_pred)"
   ],
   "metadata": {
    "collapsed": false,
    "pycharm": {
     "name": "#%%\n"
    }
   }
  },
  {
   "cell_type": "markdown",
   "source": [
    "> Random Forest after PCA:"
   ],
   "metadata": {
    "collapsed": false
   }
  },
  {
   "cell_type": "code",
   "execution_count": 127,
   "outputs": [],
   "source": [
    "rf_clf = clone(rf_clf)\n",
    "# rf_clf.fit(X_reduced, y)"
   ],
   "metadata": {
    "collapsed": false,
    "pycharm": {
     "name": "#%%\n"
    }
   }
  },
  {
   "cell_type": "code",
   "execution_count": 128,
   "outputs": [],
   "source": [
    "# joblib.dump(rf_clf, \"FMNIST/rf_clf_11_after.pkl\")"
   ],
   "metadata": {
    "collapsed": false,
    "pycharm": {
     "name": "#%%\n"
    }
   }
  },
  {
   "cell_type": "code",
   "execution_count": 129,
   "outputs": [],
   "source": [
    "rf_clf = joblib.load(r\"FMNIST/rf_clf_11_after.pkl\")"
   ],
   "metadata": {
    "collapsed": false,
    "pycharm": {
     "name": "#%%\n"
    }
   }
  },
  {
   "cell_type": "code",
   "execution_count": 130,
   "outputs": [],
   "source": [
    "y_pred = rf_clf.predict(X_val_reduced)"
   ],
   "metadata": {
    "collapsed": false,
    "pycharm": {
     "name": "#%%\n"
    }
   }
  },
  {
   "cell_type": "code",
   "execution_count": 131,
   "outputs": [
    {
     "name": "stdout",
     "output_type": "stream",
     "text": [
      "Accuracy: 0.8616\n",
      "Display Errors in Confusion Matrix:\n"
     ]
    },
    {
     "data": {
      "text/plain": "<Figure size 396x396 with 1 Axes>",
      "image/png": "[encoded data removed]"
     },
     "metadata": {},
     "output_type": "display_data"
    }
   ],
   "source": [
    "display_evaluation(y_val, y_pred)"
   ],
   "metadata": {
    "collapsed": false,
    "pycharm": {
     "name": "#%%\n"
    }
   }
  },
  {
   "cell_type": "markdown",
   "source": [
    "PCA is being used as a pre-processing step, so the model score can be used to evaluate performance.\n",
    "\n",
    "The Random Forest model's accuracy decreased by less than 2%, and the Logistic Regression\n",
    "model's accuracy even slightly increased!\n",
    "Considering the amount of dimensions that were reduced, these are excellent results!"
   ],
   "metadata": {
    "collapsed": false
   }
  },
  {
   "cell_type": "code",
   "execution_count": 132,
   "outputs": [
    {
     "data": {
      "text/plain": "Pipeline(steps=[('clr_convert', ColorConverter()),\n                ('std_scaler', StandardScaler()),\n                ('pca', PCA(n_components=0.95))])"
     },
     "execution_count": 132,
     "metadata": {},
     "output_type": "execute_result"
    }
   ],
   "source": [
    "# add PCA to pipeline\n",
    "full_pipeline.steps.append(('pca', PCA(n_components=0.95)))\n",
    "full_pipeline"
   ],
   "metadata": {
    "collapsed": false,
    "pycharm": {
     "name": "#%%\n"
    }
   }
  },
  {
   "cell_type": "markdown",
   "source": [
    "#### 12. KNN"
   ],
   "metadata": {
    "collapsed": false,
    "pycharm": {
     "name": "#%% md\n"
    }
   }
  },
  {
   "cell_type": "code",
   "execution_count": 133,
   "outputs": [],
   "source": [
    "knn_clf = clone(knn_clf)\n",
    "# knn_clf.fit(X_reduced, y)"
   ],
   "metadata": {
    "collapsed": false,
    "pycharm": {
     "name": "#%%\n"
    }
   }
  },
  {
   "cell_type": "code",
   "execution_count": 134,
   "outputs": [],
   "source": [
    "# joblib.dump(knn_clf, \"FMNIST/knn_clf_12.pkl\")"
   ],
   "metadata": {
    "collapsed": false,
    "pycharm": {
     "name": "#%%\n"
    }
   }
  },
  {
   "cell_type": "code",
   "execution_count": 135,
   "outputs": [],
   "source": [
    "knn_clf = joblib.load(r\"FMNIST/knn_clf_12.pkl\")"
   ],
   "metadata": {
    "collapsed": false,
    "pycharm": {
     "name": "#%%\n"
    }
   }
  },
  {
   "cell_type": "code",
   "execution_count": 136,
   "outputs": [],
   "source": [
    "y_pred = knn_clf.predict(X_val_reduced)"
   ],
   "metadata": {
    "collapsed": false,
    "pycharm": {
     "name": "#%%\n"
    }
   }
  },
  {
   "cell_type": "code",
   "execution_count": 137,
   "outputs": [
    {
     "name": "stdout",
     "output_type": "stream",
     "text": [
      "Accuracy: 0.8608\n",
      "Display Errors in Confusion Matrix:\n"
     ]
    },
    {
     "data": {
      "text/plain": "<Figure size 396x396 with 1 Axes>",
      "image/png": "[encoded data removed]"
     },
     "metadata": {},
     "output_type": "display_data"
    }
   ],
   "source": [
    "display_evaluation(y_val, y_pred)"
   ],
   "metadata": {
    "collapsed": false,
    "pycharm": {
     "name": "#%%\n"
    }
   }
  },
  {
   "cell_type": "markdown",
   "source": [
    "#### 13. Decision Tree"
   ],
   "metadata": {
    "collapsed": false,
    "pycharm": {
     "name": "#%% md\n"
    }
   }
  },
  {
   "cell_type": "code",
   "execution_count": 138,
   "outputs": [],
   "source": [
    "tree_clf = clone(tree_clf)\n",
    "# tree_clf.fit(X_reduced, y)"
   ],
   "metadata": {
    "collapsed": false,
    "pycharm": {
     "name": "#%%\n"
    }
   }
  },
  {
   "cell_type": "code",
   "execution_count": 139,
   "outputs": [],
   "source": [
    "# joblib.dump(tree_clf, \"FMNIST/tree_clf_13.pkl\")"
   ],
   "metadata": {
    "collapsed": false,
    "pycharm": {
     "name": "#%%\n"
    }
   }
  },
  {
   "cell_type": "code",
   "execution_count": 140,
   "outputs": [],
   "source": [
    "tree_clf = joblib.load(r\"FMNIST/tree_clf_13.pkl\")"
   ],
   "metadata": {
    "collapsed": false,
    "pycharm": {
     "name": "#%%\n"
    }
   }
  },
  {
   "cell_type": "code",
   "execution_count": 141,
   "outputs": [],
   "source": [
    "y_pred = tree_clf.predict(X_val_reduced)"
   ],
   "metadata": {
    "collapsed": false,
    "pycharm": {
     "name": "#%%\n"
    }
   }
  },
  {
   "cell_type": "code",
   "execution_count": 142,
   "outputs": [
    {
     "name": "stdout",
     "output_type": "stream",
     "text": [
      "Accuracy: 0.7571\n",
      "Display Errors in Confusion Matrix:\n"
     ]
    },
    {
     "data": {
      "text/plain": "<Figure size 396x396 with 1 Axes>",
      "image/png": "[encoded data removed]"
     },
     "metadata": {},
     "output_type": "display_data"
    }
   ],
   "source": [
    "display_evaluation(y_val, y_pred)"
   ],
   "metadata": {
    "collapsed": false,
    "pycharm": {
     "name": "#%%\n"
    }
   }
  },
  {
   "cell_type": "markdown",
   "source": [
    "#### 14. Extra Trees Classifier"
   ],
   "metadata": {
    "collapsed": false
   }
  },
  {
   "cell_type": "code",
   "source": [
    "ex_tree = ExtraTreesClassifier(random_state=42, n_jobs=-1)\n",
    "# ex_tree.fit(X_reduced, y)"
   ],
   "metadata": {
    "collapsed": false,
    "pycharm": {
     "name": "#%%\n"
    }
   },
   "execution_count": 143,
   "outputs": []
  },
  {
   "cell_type": "code",
   "execution_count": 144,
   "outputs": [],
   "source": [
    "# joblib.dump(ex_tree, \"FMNIST/ex_tree_14.pkl\")"
   ],
   "metadata": {
    "collapsed": false,
    "pycharm": {
     "name": "#%%\n"
    }
   }
  },
  {
   "cell_type": "code",
   "execution_count": 145,
   "outputs": [],
   "source": [
    "ex_tree = joblib.load(r\"FMNIST/ex_tree_14.pkl\")"
   ],
   "metadata": {
    "collapsed": false,
    "pycharm": {
     "name": "#%%\n"
    }
   }
  },
  {
   "cell_type": "code",
   "execution_count": 146,
   "outputs": [],
   "source": [
    "y_pred = ex_tree.predict(X_val_reduced)"
   ],
   "metadata": {
    "collapsed": false,
    "pycharm": {
     "name": "#%%\n"
    }
   }
  },
  {
   "cell_type": "code",
   "execution_count": 147,
   "outputs": [
    {
     "name": "stdout",
     "output_type": "stream",
     "text": [
      "Accuracy: 0.8563\n",
      "Display Errors in Confusion Matrix:\n"
     ]
    },
    {
     "data": {
      "text/plain": "<Figure size 396x396 with 1 Axes>",
      "image/png": "[encoded data removed]"
     },
     "metadata": {},
     "output_type": "display_data"
    }
   ],
   "source": [
    "display_evaluation(y_val, y_pred)"
   ],
   "metadata": {
    "collapsed": false,
    "pycharm": {
     "name": "#%%\n"
    }
   }
  },
  {
   "cell_type": "markdown",
   "source": [
    "#### 15. AdaBoost"
   ],
   "metadata": {
    "collapsed": false
   }
  },
  {
   "cell_type": "code",
   "execution_count": 148,
   "outputs": [],
   "source": [
    "ada_clf = AdaBoostClassifier(DecisionTreeClassifier(), algorithm=\"SAMME.R\", random_state=42)\n",
    "# ada_clf.fit(X_reduced, y)"
   ],
   "metadata": {
    "collapsed": false,
    "pycharm": {
     "name": "#%%\n"
    }
   }
  },
  {
   "cell_type": "code",
   "execution_count": 149,
   "outputs": [],
   "source": [
    "# joblib.dump(ada_clf, \"FMNIST/ada_clf_15.pkl\")"
   ],
   "metadata": {
    "collapsed": false,
    "pycharm": {
     "name": "#%%\n"
    }
   }
  },
  {
   "cell_type": "code",
   "execution_count": 150,
   "outputs": [],
   "source": [
    "ada_clf = joblib.load(r\"FMNIST/ada_clf_15.pkl\")"
   ],
   "metadata": {
    "collapsed": false,
    "pycharm": {
     "name": "#%%\n"
    }
   }
  },
  {
   "cell_type": "code",
   "execution_count": 151,
   "outputs": [],
   "source": [
    "y_pred = ada_clf.predict(X_val_reduced)"
   ],
   "metadata": {
    "collapsed": false,
    "pycharm": {
     "name": "#%%\n"
    }
   }
  },
  {
   "cell_type": "code",
   "execution_count": 152,
   "outputs": [
    {
     "name": "stdout",
     "output_type": "stream",
     "text": [
      "Accuracy: 0.7556\n",
      "Display Errors in Confusion Matrix:\n"
     ]
    },
    {
     "data": {
      "text/plain": "<Figure size 396x396 with 1 Axes>",
      "image/png": "[encoded data removed]"
     },
     "metadata": {},
     "output_type": "display_data"
    }
   ],
   "source": [
    "display_evaluation(y_val, y_pred)"
   ],
   "metadata": {
    "collapsed": false,
    "pycharm": {
     "name": "#%%\n"
    }
   }
  },
  {
   "cell_type": "markdown",
   "source": [
    "#### 16. XGBoost"
   ],
   "metadata": {
    "collapsed": false,
    "pycharm": {
     "name": "#%% md\n"
    }
   }
  },
  {
   "cell_type": "code",
   "execution_count": 153,
   "outputs": [],
   "source": [
    "xgb_clf = XGBClassifier(random_state=42, n_jobs=-1, use_label_encoder=False, eval_metric='merror',\n",
    "                        objective='multi:softmax', num_class=10)\n",
    "# xgb_clf.fit(X_reduced, y, eval_set=[(X_val_reduced, y_val)], early_stopping_rounds=3)"
   ],
   "metadata": {
    "collapsed": false,
    "pycharm": {
     "name": "#%%\n"
    }
   }
  },
  {
   "cell_type": "code",
   "execution_count": 154,
   "outputs": [],
   "source": [
    "# joblib.dump(xgb_clf, \"FMNIST/xgb_clf_16.pkl\")"
   ],
   "metadata": {
    "collapsed": false,
    "pycharm": {
     "name": "#%%\n"
    }
   }
  },
  {
   "cell_type": "code",
   "execution_count": 155,
   "outputs": [],
   "source": [
    "xgb_clf = joblib.load(r\"FMNIST/xgb_clf_16.pkl\")"
   ],
   "metadata": {
    "collapsed": false,
    "pycharm": {
     "name": "#%%\n"
    }
   }
  },
  {
   "cell_type": "code",
   "execution_count": 156,
   "outputs": [],
   "source": [
    "y_pred = xgb_clf.predict(X_val_reduced)"
   ],
   "metadata": {
    "collapsed": false,
    "pycharm": {
     "name": "#%%\n"
    }
   }
  },
  {
   "cell_type": "code",
   "execution_count": 157,
   "outputs": [
    {
     "name": "stdout",
     "output_type": "stream",
     "text": [
      "Accuracy: 0.8726\n",
      "Display Errors in Confusion Matrix:\n"
     ]
    },
    {
     "data": {
      "text/plain": "<Figure size 396x396 with 1 Axes>",
      "image/png": "[encoded data removed]"
     },
     "metadata": {},
     "output_type": "display_data"
    }
   ],
   "source": [
    "display_evaluation(y_val, y_pred)"
   ],
   "metadata": {
    "collapsed": false,
    "pycharm": {
     "name": "#%%\n"
    }
   }
  },
  {
   "cell_type": "markdown",
   "source": [
    "> * The best models (from lowest to highest scores): Logistic Regression, KNN, Random Forest and XGBoost.\n",
    "* Extra Trees also performed well, but since the Random Forest classifier was slightly better and their algorithm\n",
    "is nearly the same, I have chosen to continue tuning the Random Forest model.\n",
    "* Decision Tree and AdaBoost models had the lowest performance, both below 80% accuracy."
   ],
   "metadata": {
    "collapsed": false,
    "pycharm": {
     "name": "#%% md\n"
    }
   }
  },
  {
   "cell_type": "markdown",
   "source": [
    "> ### Looking back:\n",
    ">\n",
    "> The best pre-processing steps and baseline models have been determined.\n",
    "> The next step is to find the best hyperparameters for the models using Grid Search."
   ],
   "metadata": {
    "collapsed": false,
    "pycharm": {
     "name": "#%% md\n"
    }
   }
  },
  {
   "cell_type": "markdown",
   "source": [
    "#### Logistic Regression Grid Search CV\n",
    "\n",
    "* When the Logistic Regression parameter 'multi_class' is set to 'multinomial', it is using Softmax Regression\n",
    "which is optimized for multi-class inputs. Simply put, it estimates the probability that an instance belongs\n",
    "to each class and predicts the highest one. The sum of all probabilities estimated is equal to 1.\n",
    "* Another approach: One-vs-One and One-vs-Rest wrapper methods.\n",
    "\n",
    "I'll compare all three methods (since the only one used so far has been softmax) and choose the best\n",
    "one for hyperparameter tuning.\n",
    "\n",
    "**Recall that the accuracy score for the multinomial classifier was: 0.8494.**"
   ],
   "metadata": {
    "collapsed": false,
    "pycharm": {
     "name": "#%% md\n"
    }
   }
  },
  {
   "cell_type": "code",
   "execution_count": 221,
   "outputs": [],
   "source": [
    "softmax_reg = LogisticRegression(multi_class='multinomial', random_state=42)\n",
    "softmax_score = cross_val_score(softmax_reg, X_reduced, y, scoring='accuracy', cv=5, n_jobs=-1)"
   ],
   "metadata": {
    "collapsed": false,
    "pycharm": {
     "name": "#%%\n"
    }
   }
  },
  {
   "cell_type": "code",
   "execution_count": 222,
   "outputs": [
    {
     "name": "stdout",
     "output_type": "stream",
     "text": [
      "Scores: [0.8495 0.8493 0.8548 0.854  0.8486]\n",
      "Mean: 0.8512400000000001\n",
      "Standard Deviation: 0.002609674309181109\n"
     ]
    }
   ],
   "source": [
    "display_scores(softmax_score)"
   ],
   "metadata": {
    "collapsed": false,
    "pycharm": {
     "name": "#%%\n"
    }
   }
  },
  {
   "cell_type": "code",
   "execution_count": 232,
   "outputs": [],
   "source": [
    "softmax_reg.fit(X_reduced, y)\n",
    "softmax_pred = softmax_reg.predict(X_val_reduced)"
   ],
   "metadata": {
    "collapsed": false,
    "pycharm": {
     "name": "#%%\n"
    }
   }
  },
  {
   "cell_type": "code",
   "execution_count": 233,
   "outputs": [
    {
     "name": "stdout",
     "output_type": "stream",
     "text": [
      "Accuracy: 0.8494\n",
      "Display Errors in Confusion Matrix:\n"
     ]
    },
    {
     "data": {
      "text/plain": "<Figure size 396x396 with 1 Axes>",
      "image/png": "[encoded data removed]"
     },
     "metadata": {},
     "output_type": "display_data"
    }
   ],
   "source": [
    "display_evaluation(y_val, softmax_pred)"
   ],
   "metadata": {
    "collapsed": false,
    "pycharm": {
     "name": "#%%\n"
    }
   }
  },
  {
   "cell_type": "markdown",
   "source": [
    "> #### One-vs-Rest:\n",
    "> In this method, a binary classifier is trained for each class (10 in this case). The highest decision\n",
    "> score out of all the classifiers is the predicted class."
   ],
   "metadata": {
    "collapsed": false,
    "pycharm": {
     "name": "#%% md\n"
    }
   }
  },
  {
   "cell_type": "code",
   "execution_count": 223,
   "outputs": [],
   "source": [
    "ovr = OneVsRestClassifier(LogisticRegression(random_state=42), n_jobs=-1)\n",
    "ovr_score = cross_val_score(ovr, X_reduced, y, scoring='accuracy', cv=5, n_jobs=-1)"
   ],
   "metadata": {
    "collapsed": false,
    "pycharm": {
     "name": "#%%\n"
    }
   }
  },
  {
   "cell_type": "code",
   "execution_count": 224,
   "outputs": [
    {
     "name": "stdout",
     "output_type": "stream",
     "text": [
      "Scores: [0.8514 0.8491 0.853  0.8529 0.8474]\n",
      "Mean: 0.85076\n",
      "Standard Deviation: 0.0021932624102008295\n"
     ]
    }
   ],
   "source": [
    "display_scores(ovr_score)"
   ],
   "metadata": {
    "collapsed": false,
    "pycharm": {
     "name": "#%%\n"
    }
   }
  },
  {
   "cell_type": "code",
   "execution_count": 230,
   "outputs": [],
   "source": [
    "ovr.fit(X_reduced, y)\n",
    "ovr_pred = ovr.predict(X_val_reduced)"
   ],
   "metadata": {
    "collapsed": false,
    "pycharm": {
     "name": "#%%\n"
    }
   }
  },
  {
   "cell_type": "code",
   "execution_count": 231,
   "outputs": [
    {
     "name": "stdout",
     "output_type": "stream",
     "text": [
      "Accuracy: 0.8513\n",
      "Display Errors in Confusion Matrix:\n"
     ]
    },
    {
     "data": {
      "text/plain": "<Figure size 396x396 with 1 Axes>",
      "image/png": "[encoded data removed]"
     },
     "metadata": {},
     "output_type": "display_data"
    }
   ],
   "source": [
    "display_evaluation(y_val, ovr_pred)"
   ],
   "metadata": {
    "collapsed": false,
    "pycharm": {
     "name": "#%%\n"
    }
   }
  },
  {
   "cell_type": "markdown",
   "source": [
    "> #### One-vs-One:\n",
    "> In this method, a binary classifier is trained for every pair of labels. Although more classifiers\n",
    "> are trained using this method, each needs to be trained only on the instances that represent the two\n",
    "> classes that it represents."
   ],
   "metadata": {
    "collapsed": false,
    "pycharm": {
     "name": "#%% md\n"
    }
   }
  },
  {
   "cell_type": "code",
   "execution_count": 225,
   "outputs": [],
   "source": [
    "ovo = OneVsOneClassifier(LogisticRegression(random_state=42), n_jobs=-1)\n",
    "ovo_score = cross_val_score(ovr, X_reduced, y, scoring='accuracy', cv=5, n_jobs=-1)"
   ],
   "metadata": {
    "collapsed": false,
    "pycharm": {
     "name": "#%%\n"
    }
   }
  },
  {
   "cell_type": "code",
   "execution_count": 226,
   "outputs": [
    {
     "name": "stdout",
     "output_type": "stream",
     "text": [
      "Scores: [0.8514 0.8491 0.853  0.8529 0.8474]\n",
      "Mean: 0.85076\n",
      "Standard Deviation: 0.0021932624102008295\n"
     ]
    }
   ],
   "source": [
    "display_scores(ovo_score)"
   ],
   "metadata": {
    "collapsed": false,
    "pycharm": {
     "name": "#%%\n"
    }
   }
  },
  {
   "cell_type": "code",
   "execution_count": 228,
   "outputs": [],
   "source": [
    "ovo.fit(X_reduced, y)\n",
    "ovo_pred = ovo.predict(X_val_reduced)"
   ],
   "metadata": {
    "collapsed": false,
    "pycharm": {
     "name": "#%%\n"
    }
   }
  },
  {
   "cell_type": "code",
   "execution_count": 229,
   "outputs": [
    {
     "name": "stdout",
     "output_type": "stream",
     "text": [
      "Accuracy: 0.857\n",
      "Display Errors in Confusion Matrix:\n"
     ]
    },
    {
     "data": {
      "text/plain": "<Figure size 396x396 with 1 Axes>",
      "image/png": "[encoded data removed]"
     },
     "metadata": {},
     "output_type": "display_data"
    }
   ],
   "source": [
    "display_evaluation(y_val, ovo_pred)"
   ],
   "metadata": {
    "collapsed": false,
    "pycharm": {
     "name": "#%%\n"
    }
   }
  },
  {
   "cell_type": "markdown",
   "source": [
    "> ### Observations:\n",
    "* Softmax had the best cross-validation score and the worst accuracy on the unseen data.\n",
    "* One-vs-One had the worst cross-validation score and the best accuracy on the unseen data.\n",
    "\n",
    "Since the unseen data was only transformed using the pipeline (and not fit), it is likely these\n",
    "results will be the same when predicting new data.\n",
    "Therefore, I will continue hyperparameter tuning on the One-vs-One classifier."
   ],
   "metadata": {
    "collapsed": false,
    "pycharm": {
     "name": "#%% md\n"
    }
   }
  },
  {
   "cell_type": "code",
   "execution_count": null,
   "outputs": [],
   "source": [],
   "metadata": {
    "collapsed": false,
    "pycharm": {
     "name": "#%%\n"
    }
   }
  },
  {
   "cell_type": "code",
   "execution_count": 158,
   "outputs": [],
   "source": [
    "param_grid = [{\n",
    "    \"solver\": ['lbfgs', 'sag', 'saga'],\n",
    "    \"C\": [0.1, 0.5, 1]\n",
    "}]"
   ],
   "metadata": {
    "collapsed": false,
    "pycharm": {
     "name": "#%%\n"
    }
   }
  },
  {
   "cell_type": "code",
   "execution_count": 159,
   "outputs": [
    {
     "data": {
      "text/plain": "LogisticRegression(multi_class='multinomial', n_jobs=-1, random_state=42)"
     },
     "execution_count": 159,
     "metadata": {},
     "output_type": "execute_result"
    }
   ],
   "source": [
    "log_reg2 = clone(log_reg)\n",
    "log_reg2"
   ],
   "metadata": {
    "collapsed": false,
    "pycharm": {
     "name": "#%%\n"
    }
   }
  },
  {
   "cell_type": "code",
   "execution_count": 160,
   "outputs": [],
   "source": [
    "log_reg_cv = GridSearchCV(log_reg2, param_grid, cv=5, scoring='accuracy', n_jobs=-1, verbose=3)"
   ],
   "metadata": {
    "collapsed": false,
    "pycharm": {
     "name": "#%%\n"
    }
   }
  },
  {
   "cell_type": "code",
   "execution_count": 161,
   "outputs": [],
   "source": [
    "# log_reg_cv.fit(X_reduced, y)"
   ],
   "metadata": {
    "collapsed": false,
    "pycharm": {
     "name": "#%%\n"
    }
   }
  },
  {
   "cell_type": "code",
   "execution_count": 162,
   "outputs": [],
   "source": [
    "# save a local copy of the grid search\n",
    "# joblib.dump(log_reg_cv, \"FMNIST/log_reg_cv.pkl\")"
   ],
   "metadata": {
    "collapsed": false,
    "pycharm": {
     "name": "#%%\n"
    }
   }
  },
  {
   "cell_type": "code",
   "execution_count": 163,
   "outputs": [],
   "source": [
    "log_reg_cv = joblib.load(r\"FMNIST/log_reg_cv.pkl\")"
   ],
   "metadata": {
    "collapsed": false,
    "pycharm": {
     "name": "#%%\n"
    }
   }
  },
  {
   "cell_type": "code",
   "execution_count": 164,
   "outputs": [
    {
     "data": {
      "text/plain": "0.8518000000000001"
     },
     "execution_count": 164,
     "metadata": {},
     "output_type": "execute_result"
    }
   ],
   "source": [
    "# show the best score\n",
    "log_reg_cv.best_score_"
   ],
   "metadata": {
    "collapsed": false,
    "pycharm": {
     "name": "#%%\n"
    }
   }
  },
  {
   "cell_type": "code",
   "execution_count": 165,
   "outputs": [
    {
     "data": {
      "text/plain": "LogisticRegression(C=0.1, multi_class='multinomial', n_jobs=-1, random_state=42,\n                   solver='sag')"
     },
     "execution_count": 165,
     "metadata": {},
     "output_type": "execute_result"
    }
   ],
   "source": [
    "# best estimator\n",
    "log_reg2 = log_reg_cv.best_estimator_\n",
    "log_reg2"
   ],
   "metadata": {
    "collapsed": false,
    "pycharm": {
     "name": "#%%\n"
    }
   }
  },
  {
   "cell_type": "code",
   "execution_count": 166,
   "outputs": [],
   "source": [
    "log_reg_pred = log_reg2.predict(X_val_reduced)"
   ],
   "metadata": {
    "collapsed": false,
    "pycharm": {
     "name": "#%%\n"
    }
   }
  },
  {
   "cell_type": "code",
   "execution_count": 167,
   "outputs": [
    {
     "name": "stdout",
     "output_type": "stream",
     "text": [
      "Accuracy: 0.8503\n",
      "Display Errors in Confusion Matrix:\n"
     ]
    },
    {
     "data": {
      "text/plain": "<Figure size 396x396 with 1 Axes>",
      "image/png": "[encoded data removed]"
     },
     "metadata": {},
     "output_type": "display_data"
    }
   ],
   "source": [
    "display_evaluation(y_val, log_reg_pred)"
   ],
   "metadata": {
    "collapsed": false,
    "pycharm": {
     "name": "#%%\n"
    }
   }
  },
  {
   "cell_type": "markdown",
   "source": [
    "#### KNN Grid Search CV"
   ],
   "metadata": {
    "collapsed": false,
    "pycharm": {
     "name": "#%% md\n"
    }
   }
  },
  {
   "cell_type": "code",
   "execution_count": 168,
   "outputs": [],
   "source": [
    "param_grid = [{\n",
    "    \"n_neighbors\": [5, 11, 17],\n",
    "    \"weights\": ['uniform', 'distance'],\n",
    "    \"p\": [1, 2]\n",
    "}]"
   ],
   "metadata": {
    "collapsed": false,
    "pycharm": {
     "name": "#%%\n"
    }
   }
  },
  {
   "cell_type": "code",
   "execution_count": 169,
   "outputs": [
    {
     "data": {
      "text/plain": "KNeighborsClassifier(n_jobs=-1)"
     },
     "execution_count": 169,
     "metadata": {},
     "output_type": "execute_result"
    }
   ],
   "source": [
    "knn_clf2 = clone(knn_clf)\n",
    "knn_clf2"
   ],
   "metadata": {
    "collapsed": false,
    "pycharm": {
     "name": "#%%\n"
    }
   }
  },
  {
   "cell_type": "code",
   "execution_count": 170,
   "outputs": [],
   "source": [
    "knn_clf_cv = GridSearchCV(knn_clf2, param_grid, cv=5, scoring='accuracy', n_jobs=-1, verbose=3)"
   ],
   "metadata": {
    "collapsed": false,
    "pycharm": {
     "name": "#%%\n"
    }
   }
  },
  {
   "cell_type": "code",
   "execution_count": 171,
   "outputs": [],
   "source": [
    "# knn_clf_cv.fit(X_reduced, y)"
   ],
   "metadata": {
    "collapsed": false,
    "pycharm": {
     "name": "#%%\n"
    }
   }
  },
  {
   "cell_type": "code",
   "execution_count": 172,
   "outputs": [],
   "source": [
    "# save a local copy of the grid search\n",
    "# joblib.dump(knn_clf_cv, \"FMNIST/knn_clf_cv.pkl\")"
   ],
   "metadata": {
    "collapsed": false,
    "pycharm": {
     "name": "#%%\n"
    }
   }
  },
  {
   "cell_type": "code",
   "execution_count": 173,
   "outputs": [],
   "source": [
    "knn_clf_cv = joblib.load(r\"FMNIST/knn_clf_cv.pkl\")"
   ],
   "metadata": {
    "collapsed": false,
    "pycharm": {
     "name": "#%%\n"
    }
   }
  },
  {
   "cell_type": "code",
   "execution_count": 174,
   "outputs": [
    {
     "data": {
      "text/plain": "0.8621800000000001"
     },
     "execution_count": 174,
     "metadata": {},
     "output_type": "execute_result"
    }
   ],
   "source": [
    "# show the best score\n",
    "knn_clf_cv.best_score_"
   ],
   "metadata": {
    "collapsed": false,
    "pycharm": {
     "name": "#%%\n"
    }
   }
  },
  {
   "cell_type": "code",
   "execution_count": 175,
   "outputs": [
    {
     "data": {
      "text/plain": "KNeighborsClassifier(n_jobs=-1, p=1, weights='distance')"
     },
     "execution_count": 175,
     "metadata": {},
     "output_type": "execute_result"
    }
   ],
   "source": [
    "# best estimator\n",
    "knn_clf2 = knn_clf_cv.best_estimator_\n",
    "knn_clf2"
   ],
   "metadata": {
    "collapsed": false,
    "pycharm": {
     "name": "#%%\n"
    }
   }
  },
  {
   "cell_type": "code",
   "execution_count": 176,
   "outputs": [],
   "source": [
    "knn_clf_pred = knn_clf2.predict(X_val_reduced)"
   ],
   "metadata": {
    "collapsed": false,
    "pycharm": {
     "name": "#%%\n"
    }
   }
  },
  {
   "cell_type": "code",
   "execution_count": 177,
   "outputs": [
    {
     "name": "stdout",
     "output_type": "stream",
     "text": [
      "Accuracy: 0.864\n",
      "Display Errors in Confusion Matrix:\n"
     ]
    },
    {
     "data": {
      "text/plain": "<Figure size 396x396 with 1 Axes>",
      "image/png": "[encoded data removed]"
     },
     "metadata": {},
     "output_type": "display_data"
    }
   ],
   "source": [
    "display_evaluation(y_val, knn_clf_pred)"
   ],
   "metadata": {
    "collapsed": false,
    "pycharm": {
     "name": "#%%\n"
    }
   }
  },
  {
   "cell_type": "markdown",
   "source": [
    "#### Random Forest Randomized Search CV"
   ],
   "metadata": {
    "collapsed": false,
    "pycharm": {
     "name": "#%% md\n"
    }
   }
  },
  {
   "cell_type": "code",
   "execution_count": 178,
   "outputs": [],
   "source": [
    "param_grid = [{\n",
    "    \"n_estimators\": [500, 1000, 2000],\n",
    "    \"max_features\": ['sqrt', 0.2],\n",
    "    \"max_depth\": [8, 16, 32]\n",
    "}]"
   ],
   "metadata": {
    "collapsed": false,
    "pycharm": {
     "name": "#%%\n"
    }
   }
  },
  {
   "cell_type": "code",
   "execution_count": 179,
   "outputs": [
    {
     "data": {
      "text/plain": "RandomForestClassifier(n_jobs=-1, random_state=42)"
     },
     "execution_count": 179,
     "metadata": {},
     "output_type": "execute_result"
    }
   ],
   "source": [
    "rf_clf2 = clone(rf_clf)\n",
    "rf_clf2"
   ],
   "metadata": {
    "collapsed": false,
    "pycharm": {
     "name": "#%%\n"
    }
   }
  },
  {
   "cell_type": "code",
   "execution_count": 180,
   "outputs": [],
   "source": [
    "rf_clf_cv = RandomizedSearchCV(rf_clf2, param_grid, cv=5, scoring='accuracy', n_jobs=-1,\n",
    "                               n_iter=5, random_state=42)"
   ],
   "metadata": {
    "collapsed": false,
    "pycharm": {
     "name": "#%%\n"
    }
   }
  },
  {
   "cell_type": "code",
   "source": [
    "# rf_clf_cv.fit(X_reduced, y)"
   ],
   "metadata": {
    "collapsed": false,
    "pycharm": {
     "name": "#%%\n"
    }
   },
   "execution_count": 181,
   "outputs": []
  },
  {
   "cell_type": "code",
   "execution_count": 182,
   "outputs": [],
   "source": [
    "# save a local copy of the randomized search\n",
    "# joblib.dump(rf_clf_cv, \"FMNIST/rf_clf_cv.pkl\")"
   ],
   "metadata": {
    "collapsed": false,
    "pycharm": {
     "name": "#%%\n"
    }
   }
  },
  {
   "cell_type": "code",
   "execution_count": 183,
   "outputs": [],
   "source": [
    "rf_clf_cv = joblib.load(r\"FMNIST/rf_clf_cv.pkl\")"
   ],
   "metadata": {
    "collapsed": false,
    "pycharm": {
     "name": "#%%\n"
    }
   }
  },
  {
   "cell_type": "code",
   "execution_count": 184,
   "outputs": [
    {
     "data": {
      "text/plain": "0.8577600000000001"
     },
     "execution_count": 184,
     "metadata": {},
     "output_type": "execute_result"
    }
   ],
   "source": [
    "# show the best score\n",
    "rf_clf_cv.best_score_"
   ],
   "metadata": {
    "collapsed": false,
    "pycharm": {
     "name": "#%%\n"
    }
   }
  },
  {
   "cell_type": "code",
   "execution_count": 185,
   "outputs": [
    {
     "data": {
      "text/plain": "RandomForestClassifier(max_depth=16, max_features='sqrt', n_estimators=2000,\n                       n_jobs=-1, random_state=42)"
     },
     "execution_count": 185,
     "metadata": {},
     "output_type": "execute_result"
    }
   ],
   "source": [
    "# best estimator\n",
    "rf_clf2 = rf_clf_cv.best_estimator_\n",
    "rf_clf2"
   ],
   "metadata": {
    "collapsed": false,
    "pycharm": {
     "name": "#%%\n"
    }
   }
  },
  {
   "cell_type": "code",
   "execution_count": 186,
   "outputs": [],
   "source": [
    "rf_clf_pred = rf_clf2.predict(X_val_reduced)"
   ],
   "metadata": {
    "collapsed": false,
    "pycharm": {
     "name": "#%%\n"
    }
   }
  },
  {
   "cell_type": "code",
   "execution_count": 187,
   "outputs": [
    {
     "name": "stdout",
     "output_type": "stream",
     "text": [
      "Accuracy: 0.8515\n",
      "Display Errors in Confusion Matrix:\n"
     ]
    },
    {
     "data": {
      "text/plain": "<Figure size 396x396 with 1 Axes>",
      "image/png": "[encoded data removed]"
     },
     "metadata": {},
     "output_type": "display_data"
    }
   ],
   "source": [
    "display_evaluation(y_val, rf_clf_pred)"
   ],
   "metadata": {
    "collapsed": false,
    "pycharm": {
     "name": "#%%\n"
    }
   }
  },
  {
   "cell_type": "code",
   "source": [
    "rf_clf3 = RandomForestClassifier(n_estimators=2000, max_features='sqrt', max_depth=16, bootstrap=False,\n",
    "                                 n_jobs=-1, random_state=42)"
   ],
   "metadata": {
    "collapsed": false,
    "pycharm": {
     "name": "#%%\n"
    }
   },
   "execution_count": 188,
   "outputs": []
  },
  {
   "cell_type": "code",
   "source": [
    "# rf_clf3.fit(X_reduced, y)"
   ],
   "metadata": {
    "collapsed": false,
    "pycharm": {
     "name": "#%%\n"
    }
   },
   "execution_count": 189,
   "outputs": []
  },
  {
   "cell_type": "code",
   "execution_count": 190,
   "outputs": [],
   "source": [
    "# joblib.dump(rf_clf3, \"FMNIST/rf_clf3.pkl\")"
   ],
   "metadata": {
    "collapsed": false,
    "pycharm": {
     "name": "#%%\n"
    }
   }
  },
  {
   "cell_type": "code",
   "execution_count": 191,
   "outputs": [],
   "source": [
    "rf_clf3 = joblib.load(r\"FMNIST/rf_clf3.pkl\")"
   ],
   "metadata": {
    "collapsed": false,
    "pycharm": {
     "name": "#%%\n"
    }
   }
  },
  {
   "cell_type": "code",
   "source": [
    "rf_clf_pred = rf_clf3.predict(X_val_reduced)"
   ],
   "metadata": {
    "collapsed": false,
    "pycharm": {
     "name": "#%%\n"
    }
   },
   "execution_count": 192,
   "outputs": []
  },
  {
   "cell_type": "code",
   "execution_count": 193,
   "outputs": [
    {
     "name": "stdout",
     "output_type": "stream",
     "text": [
      "Accuracy: 0.8578\n",
      "Display Errors in Confusion Matrix:\n"
     ]
    },
    {
     "data": {
      "text/plain": "<Figure size 396x396 with 1 Axes>",
      "image/png": "[encoded data removed]"
     },
     "metadata": {},
     "output_type": "display_data"
    }
   ],
   "source": [
    "display_evaluation(y_val, rf_clf_pred)"
   ],
   "metadata": {
    "collapsed": false,
    "pycharm": {
     "name": "#%%\n"
    }
   }
  },
  {
   "cell_type": "markdown",
   "source": [
    "The Random Forest model performed slightly better using the same parameters for pasting.\n",
    "This means that each subset of the sample can be used once at most.\n",
    "The dataset size is in the medium-large range, so training the model this way can...\n"
   ],
   "metadata": {
    "collapsed": false,
    "pycharm": {
     "name": "#%% md\n"
    }
   }
  },
  {
   "cell_type": "code",
   "execution_count": 194,
   "outputs": [],
   "source": [
    "from sklearn.ensemble import VotingClassifier"
   ],
   "metadata": {
    "collapsed": false,
    "pycharm": {
     "name": "#%%\n"
    }
   }
  },
  {
   "cell_type": "markdown",
   "source": [
    "log_reg_voting = clone(log_reg2)\n",
    "rf_clf_voting = clone(rf_clf2)\n",
    "\n",
    "voting_clf = VotingClassifier(\n",
    "    estimators=[('log_reg', log_reg_voting), ('rf_clf', rf_clf_voting)],\n",
    "    voting='soft')"
   ],
   "metadata": {
    "collapsed": false,
    "pycharm": {
     "name": "#%% md\n"
    }
   }
  },
  {
   "cell_type": "markdown",
   "source": [
    "voting_clf.fit(X_reduced, y)"
   ],
   "metadata": {
    "collapsed": false,
    "pycharm": {
     "name": "#%% md\n"
    }
   }
  },
  {
   "cell_type": "markdown",
   "source": [
    "voting_clf_pred = voting_clf.predict(X_val_reduced)"
   ],
   "metadata": {
    "collapsed": false,
    "pycharm": {
     "name": "#%% md\n"
    }
   }
  },
  {
   "cell_type": "markdown",
   "source": [
    "display_evaluation(y_val, voting_clf_pred)"
   ],
   "metadata": {
    "collapsed": false,
    "pycharm": {
     "name": "#%% md\n"
    }
   }
  },
  {
   "cell_type": "markdown",
   "source": [
    "#### XGBoost Grid Search CV"
   ],
   "metadata": {
    "collapsed": false,
    "pycharm": {
     "name": "#%% md\n"
    }
   }
  },
  {
   "cell_type": "code",
   "source": [
    "param_grid = [{\n",
    "    \"n_estimators\": [1000, 2000],\n",
    "    \"learning_rate\": [0.05, 0.1, 0.2],  # learning rate\n",
    "    \"max_depth\": [8, 16]\n",
    "}]"
   ],
   "metadata": {
    "collapsed": false,
    "pycharm": {
     "name": "#%%\n"
    }
   },
   "execution_count": 195,
   "outputs": []
  },
  {
   "cell_type": "code",
   "execution_count": 196,
   "outputs": [],
   "source": [
    "xgb_clf2 = clone(xgb_clf)"
   ],
   "metadata": {
    "collapsed": false,
    "pycharm": {
     "name": "#%%\n"
    }
   }
  },
  {
   "cell_type": "code",
   "execution_count": 197,
   "outputs": [],
   "source": [
    "xgb_clf_cv = RandomizedSearchCV(xgb_clf2, param_grid, cv=5, scoring='accuracy', n_iter=5, random_state=42)"
   ],
   "metadata": {
    "collapsed": false,
    "pycharm": {
     "name": "#%%\n"
    }
   }
  },
  {
   "cell_type": "code",
   "source": [
    "# xgb_clf_cv.fit(X_reduced, y, eval_set=[(X_val_reduced, y_val)], early_stopping_rounds=3)"
   ],
   "metadata": {
    "collapsed": false,
    "pycharm": {
     "name": "#%%\n"
    }
   },
   "execution_count": 198,
   "outputs": []
  },
  {
   "cell_type": "code",
   "execution_count": 199,
   "outputs": [],
   "source": [
    "# save a local copy of the randomized search\n",
    "# joblib.dump(xgb_clf_cv, \"FMNIST/xgb_clf_cv.pkl\")"
   ],
   "metadata": {
    "collapsed": false,
    "pycharm": {
     "name": "#%%\n"
    }
   }
  },
  {
   "cell_type": "code",
   "execution_count": 200,
   "outputs": [],
   "source": [
    "xgb_clf_cv = joblib.load(r\"FMNIST/xgb_clf_cv.pkl\")"
   ],
   "metadata": {
    "collapsed": false,
    "pycharm": {
     "name": "#%%\n"
    }
   }
  },
  {
   "cell_type": "code",
   "execution_count": 201,
   "outputs": [
    {
     "data": {
      "text/plain": "0.8693"
     },
     "execution_count": 201,
     "metadata": {},
     "output_type": "execute_result"
    }
   ],
   "source": [
    "# show the best score\n",
    "xgb_clf_cv.best_score_"
   ],
   "metadata": {
    "collapsed": false,
    "pycharm": {
     "name": "#%%\n"
    }
   }
  },
  {
   "cell_type": "code",
   "execution_count": 202,
   "outputs": [
    {
     "data": {
      "text/plain": "XGBClassifier(base_score=0.5, booster='gbtree', colsample_bylevel=1,\n              colsample_bynode=1, colsample_bytree=1, eval_metric='merror',\n              gamma=0, gpu_id=-1, importance_type='gain',\n              interaction_constraints='', learning_rate=0.2, max_delta_step=0,\n              max_depth=8, min_child_weight=1, missing=nan,\n              monotone_constraints='()', n_estimators=2000, n_jobs=-1,\n              num_class=10, num_parallel_tree=1, objective='multi:softprob',\n              random_state=42, reg_alpha=0, reg_lambda=1, scale_pos_weight=None,\n              subsample=1, tree_method='exact', use_label_encoder=False,\n              validate_parameters=1, verbosity=None)"
     },
     "execution_count": 202,
     "metadata": {},
     "output_type": "execute_result"
    }
   ],
   "source": [
    "# best estimator\n",
    "xgb_clf2 = xgb_clf_cv.best_estimator_\n",
    "xgb_clf2"
   ],
   "metadata": {
    "collapsed": false,
    "pycharm": {
     "name": "#%%\n"
    }
   }
  },
  {
   "cell_type": "code",
   "execution_count": 203,
   "outputs": [
    {
     "name": "stdout",
     "output_type": "stream",
     "text": [
      "0.86762 {'n_estimators': 1000, 'max_depth': 16, 'learning_rate': 0.2}\n",
      "0.8693 {'n_estimators': 2000, 'max_depth': 8, 'learning_rate': 0.2}\n",
      "0.85198 {'n_estimators': 1000, 'max_depth': 8, 'learning_rate': 0.05}\n",
      "0.8693 {'n_estimators': 1000, 'max_depth': 8, 'learning_rate': 0.2}\n",
      "0.8633200000000001 {'n_estimators': 2000, 'max_depth': 8, 'learning_rate': 0.1}\n"
     ]
    }
   ],
   "source": [
    "# show results for each iteration\n",
    "cvres = xgb_clf_cv.cv_results_\n",
    "for mean_score, params in zip(cvres[\"mean_test_score\"], cvres[\"params\"]):\n",
    "    print(mean_score, params)"
   ],
   "metadata": {
    "collapsed": false,
    "pycharm": {
     "name": "#%%\n"
    }
   }
  },
  {
   "cell_type": "code",
   "execution_count": 204,
   "outputs": [],
   "source": [
    "xgb_clf_pred = xgb_clf2.predict(X_val_reduced)"
   ],
   "metadata": {
    "collapsed": false,
    "pycharm": {
     "name": "#%%\n"
    }
   }
  },
  {
   "cell_type": "code",
   "execution_count": 205,
   "outputs": [
    {
     "name": "stdout",
     "output_type": "stream",
     "text": [
      "Accuracy: 0.8694\n",
      "Display Errors in Confusion Matrix:\n"
     ]
    },
    {
     "data": {
      "text/plain": "<Figure size 396x396 with 1 Axes>",
      "image/png": "[encoded data removed]"
     },
     "metadata": {},
     "output_type": "display_data"
    }
   ],
   "source": [
    "display_evaluation(y_val, xgb_clf_pred)"
   ],
   "metadata": {
    "collapsed": false,
    "pycharm": {
     "name": "#%%\n"
    }
   }
  },
  {
   "cell_type": "markdown",
   "source": [
    "----"
   ],
   "metadata": {
    "collapsed": false,
    "pycharm": {
     "name": "#%% md\n"
    }
   }
  },
  {
   "cell_type": "code",
   "execution_count": null,
   "outputs": [],
   "source": [],
   "metadata": {
    "collapsed": false,
    "pycharm": {
     "name": "#%%\n"
    }
   }
  },
  {
   "cell_type": "code",
   "execution_count": null,
   "outputs": [],
   "source": [
    "param_grid = [{\n",
    "    \"n_estimators\": [1000, 2000],\n",
    "    \"learning_rate\": [0.1, 0.2],  # learning rate\n",
    "    \"max_depth\": [8, 16]\n",
    "}]"
   ],
   "metadata": {
    "collapsed": false,
    "pycharm": {
     "name": "#%%\n"
    }
   }
  },
  {
   "cell_type": "code",
   "execution_count": null,
   "outputs": [],
   "source": [
    "xgb_clf2 = clone(xgb_clf)"
   ],
   "metadata": {
    "collapsed": false,
    "pycharm": {
     "name": "#%%\n"
    }
   }
  },
  {
   "cell_type": "code",
   "execution_count": null,
   "outputs": [],
   "source": [
    "xgb_clf_cv = RandomizedSearchCV(xgb_clf2, param_grid, cv=5, scoring='accuracy', n_iter=5, random_state=42)"
   ],
   "metadata": {
    "collapsed": false,
    "pycharm": {
     "name": "#%%\n"
    }
   }
  },
  {
   "cell_type": "code",
   "execution_count": null,
   "outputs": [],
   "source": [
    "xgb_clf_cv.fit(X_reduced, y, eval_set=[(X_val_reduced, y_val)], early_stopping_rounds=3)"
   ],
   "metadata": {
    "collapsed": false,
    "pycharm": {
     "name": "#%%\n"
    }
   }
  },
  {
   "cell_type": "code",
   "execution_count": null,
   "outputs": [],
   "source": [
    "# save a local copy of the randomized search\n",
    "joblib.dump(xgb_clf_cv, \"FMNIST/xgb_clf_cv.pkl\")"
   ],
   "metadata": {
    "collapsed": false,
    "pycharm": {
     "name": "#%%\n"
    }
   }
  },
  {
   "cell_type": "code",
   "execution_count": null,
   "outputs": [],
   "source": [
    "# xgb_clf_cv = joblib.load(r\"FMNIST/xgb_clf_cv.pkl\")"
   ],
   "metadata": {
    "collapsed": false,
    "pycharm": {
     "name": "#%%\n"
    }
   }
  },
  {
   "cell_type": "code",
   "execution_count": null,
   "outputs": [],
   "source": [
    "# show the best score\n",
    "xgb_clf_cv.best_score_"
   ],
   "metadata": {
    "collapsed": false,
    "pycharm": {
     "name": "#%%\n"
    }
   }
  },
  {
   "cell_type": "code",
   "execution_count": null,
   "outputs": [],
   "source": [
    "# best estimator\n",
    "xgb_clf2 = xgb_clf_cv.best_estimator_\n",
    "xgb_clf2"
   ],
   "metadata": {
    "collapsed": false,
    "pycharm": {
     "name": "#%%\n"
    }
   }
  },
  {
   "cell_type": "code",
   "execution_count": null,
   "outputs": [],
   "source": [
    "# show results for each iteration\n",
    "cvres = xgb_clf_cv.cv_results_\n",
    "for mean_score, params in zip(cvres[\"mean_test_score\"], cvres[\"params\"]):\n",
    "    print(mean_score, params)"
   ],
   "metadata": {
    "collapsed": false,
    "pycharm": {
     "name": "#%%\n"
    }
   }
  },
  {
   "cell_type": "code",
   "execution_count": null,
   "outputs": [],
   "source": [
    "xgb_clf_pred = xgb_clf2.predict(X_val_reduced)"
   ],
   "metadata": {
    "collapsed": false,
    "pycharm": {
     "name": "#%%\n"
    }
   }
  },
  {
   "cell_type": "code",
   "execution_count": null,
   "outputs": [],
   "source": [
    "display_evaluation(y_val, xgb_clf_pred)"
   ],
   "metadata": {
    "collapsed": false,
    "pycharm": {
     "name": "#%%\n"
    }
   }
  },
  {
   "cell_type": "markdown",
   "source": [
    "> Attempt to improve accuracy:\n",
    "\n",
    "Data augmentation is a strategy that is used to create more data from the existing data.\n",
    "For instance, the images could be rotated. Using this method can add more variation to the data.\n",
    "\n",
    "As a last attempt to improve model results, I will increase the amount of training data samples.\n",
    "For each image, I will create 4 new instances by the pixels in different directions (left, right, top, bottom).\n",
    "Lastly, I will fit the new training instances to the best model and evaluate the results."
   ],
   "metadata": {
    "collapsed": false
   }
  },
  {
   "cell_type": "code",
   "execution_count": 207,
   "outputs": [],
   "source": [
    "def shift_image(image, x, y):\n",
    "    img = np.array(image).reshape(28,28)\n",
    "    shifted_img = shift(img, [x,y], cval=0, mode=\"constant\")\n",
    "    return shifted_img.reshape(-1)"
   ],
   "metadata": {
    "collapsed": false,
    "pycharm": {
     "name": "#%%\n"
    }
   }
  },
  {
   "cell_type": "code",
   "execution_count": 208,
   "outputs": [
    {
     "data": {
      "text/plain": "pixel1      0\npixel2      0\npixel3      0\npixel4      0\npixel5      0\n           ..\npixel780    0\npixel781    0\npixel782    0\npixel783    0\npixel784    0\nName: 4938, Length: 784, dtype: int64"
     },
     "execution_count": 208,
     "metadata": {},
     "output_type": "execute_result"
    }
   ],
   "source": [
    "img = X.iloc[0]\n",
    "img"
   ],
   "metadata": {
    "collapsed": false,
    "pycharm": {
     "name": "#%%\n"
    }
   }
  },
  {
   "cell_type": "code",
   "execution_count": 209,
   "outputs": [],
   "source": [
    "img_shift = shift_image(img, 1, 0)"
   ],
   "metadata": {
    "collapsed": false,
    "pycharm": {
     "name": "#%%\n"
    }
   }
  },
  {
   "cell_type": "code",
   "execution_count": 241,
   "outputs": [
    {
     "data": {
      "text/plain": "<matplotlib.image.AxesImage at 0x1b44e1b9040>"
     },
     "execution_count": 241,
     "metadata": {},
     "output_type": "execute_result"
    },
    {
     "data": {
      "text/plain": "<Figure size 576x396 with 1 Axes>",
      "image/png": "[encoded data removed]"
     },
     "metadata": {},
     "output_type": "display_data"
    }
   ],
   "source": [
    "plt.imshow(np.array(img).reshape(28,28))"
   ],
   "metadata": {
    "collapsed": false,
    "pycharm": {
     "name": "#%%\n"
    }
   }
  },
  {
   "cell_type": "code",
   "execution_count": 240,
   "outputs": [
    {
     "data": {
      "text/plain": "<matplotlib.image.AxesImage at 0x1b44e194490>"
     },
     "execution_count": 240,
     "metadata": {},
     "output_type": "execute_result"
    },
    {
     "data": {
      "text/plain": "<Figure size 576x396 with 1 Axes>",
      "image/png": "[encoded data removed]"
     },
     "metadata": {},
     "output_type": "display_data"
    }
   ],
   "source": [
    "plt.imshow(img_shift.reshape(28,28))"
   ],
   "metadata": {
    "collapsed": false,
    "pycharm": {
     "name": "#%%\n"
    }
   }
  },
  {
   "cell_type": "code",
   "execution_count": 212,
   "outputs": [],
   "source": [
    "X_arr = np.array(X)\n",
    "y_arr = np.array(y)"
   ],
   "metadata": {
    "collapsed": false,
    "pycharm": {
     "name": "#%%\n"
    }
   }
  },
  {
   "cell_type": "code",
   "execution_count": 213,
   "outputs": [],
   "source": [
    "X_train_augmented = [image for image in X_arr]\n",
    "y_train_augmented = [label for label in y_arr]"
   ],
   "metadata": {
    "collapsed": false,
    "pycharm": {
     "name": "#%%\n"
    }
   }
  },
  {
   "cell_type": "code",
   "execution_count": 217,
   "outputs": [
    {
     "data": {
      "text/plain": "array([[0, 0, 0, ..., 0, 0, 0],\n       [0, 0, 0, ..., 0, 0, 0],\n       [0, 0, 0, ..., 0, 0, 0],\n       ...,\n       [0, 0, 0, ..., 0, 0, 0],\n       [0, 0, 0, ..., 0, 0, 0],\n       [0, 0, 0, ..., 0, 0, 0]], dtype=int64)"
     },
     "execution_count": 217,
     "metadata": {},
     "output_type": "execute_result"
    }
   ],
   "source": [
    "X_arr"
   ],
   "metadata": {
    "collapsed": false,
    "pycharm": {
     "name": "#%%\n"
    }
   }
  },
  {
   "cell_type": "code",
   "execution_count": 218,
   "outputs": [],
   "source": [
    "for x, y in ((1,0), (-1,0), (0,1), (0,-1)):\n",
    "    for image, label in zip(X_arr, y_arr):\n",
    "        X_train_augmented.append(shift_image(image, x, y))\n",
    "        y_train_augmented.append(label)\n",
    "\n",
    "X_train_augmented = np.array(X_train_augmented)\n",
    "y_train_augmented = np.array(y_train_augmented)"
   ],
   "metadata": {
    "collapsed": false,
    "pycharm": {
     "name": "#%%\n"
    }
   }
  },
  {
   "cell_type": "code",
   "execution_count": 219,
   "outputs": [],
   "source": [
    "shuffle_idx = np.random.permutation(len(X_train_augmented))\n",
    "X_train_augmented = X_train_augmented[shuffle_idx]\n",
    "y_train_augmented = y_train_augmented[shuffle_idx]"
   ],
   "metadata": {
    "collapsed": false,
    "pycharm": {
     "name": "#%%\n"
    }
   }
  },
  {
   "cell_type": "code",
   "execution_count": 224,
   "outputs": [],
   "source": [
    "knn_clf5 = clone(knn_clf_cv.best_estimator_)"
   ],
   "metadata": {
    "collapsed": false,
    "pycharm": {
     "name": "#%%\n"
    }
   }
  },
  {
   "cell_type": "code",
   "execution_count": 225,
   "outputs": [],
   "source": [
    "X_train_augmented_prep = full_pipeline.fit_transform(X_train_augmented, y_train_augmented)"
   ],
   "metadata": {
    "collapsed": false,
    "pycharm": {
     "name": "#%%\n"
    }
   }
  },
  {
   "cell_type": "code",
   "execution_count": 226,
   "outputs": [
    {
     "data": {
      "text/plain": "(250000, 258)"
     },
     "execution_count": 226,
     "metadata": {},
     "output_type": "execute_result"
    }
   ],
   "source": [
    "X_train_augmented_prep.shape"
   ],
   "metadata": {
    "collapsed": false,
    "pycharm": {
     "name": "#%%\n"
    }
   }
  },
  {
   "cell_type": "code",
   "execution_count": 227,
   "outputs": [
    {
     "data": {
      "text/plain": "KNeighborsClassifier(n_jobs=-1, p=1, weights='distance')"
     },
     "execution_count": 227,
     "metadata": {},
     "output_type": "execute_result"
    }
   ],
   "source": [
    "knn_clf5.fit(X_train_augmented_prep, y_train_augmented)"
   ],
   "metadata": {
    "collapsed": false,
    "pycharm": {
     "name": "#%%\n"
    }
   }
  },
  {
   "cell_type": "code",
   "execution_count": 229,
   "outputs": [],
   "source": [
    "X_val_prepared2= full_pipeline.transform(X_val)"
   ],
   "metadata": {
    "collapsed": false,
    "pycharm": {
     "name": "#%%\n"
    }
   }
  },
  {
   "cell_type": "code",
   "execution_count": 230,
   "outputs": [],
   "source": [
    "knn_pred = knn_clf5.predict(X_val_prepared2)"
   ],
   "metadata": {
    "collapsed": false,
    "pycharm": {
     "name": "#%%\n"
    }
   }
  },
  {
   "cell_type": "code",
   "execution_count": 232,
   "outputs": [
    {
     "name": "stdout",
     "output_type": "stream",
     "text": [
      "Accuracy: 0.8704\n",
      "Display Errors in Confusion Matrix:\n"
     ]
    },
    {
     "data": {
      "text/plain": "<Figure size 396x396 with 1 Axes>",
      "image/png": "[encoded data removed]"
     },
     "metadata": {},
     "output_type": "display_data"
    }
   ],
   "source": [
    "display_evaluation(y_val, knn_pred)"
   ],
   "metadata": {
    "collapsed": false,
    "pycharm": {
     "name": "#%%\n"
    }
   }
  },
  {
   "cell_type": "markdown",
   "source": [
    "> ### Feature Importance:\n",
    "> Random Forests automatically computes the importance of each feature after training\n",
    "> and even scales them, making the total sum equal to 1.\n",
    "> This provides a quick insight to which features really matter."
   ],
   "metadata": {
    "collapsed": false
   }
  },
  {
   "cell_type": "markdown",
   "source": [
    "# plot random forest classifier feature importance\n",
    "img = rf_clf.feature_importances_.reshape(28,28)\n",
    "plt.imshow(img, cmap= plt.cm.hot, interpolation=\"nearest\")\n",
    "plt.axis('off')\n",
    "cbar = plt.colorbar(ticks=[rf_clf.feature_importances_.min(), rf_clf.feature_importances_.max()])\n",
    "cbar.ax.set_yticklabels(['Not important', 'Very Important'])\n",
    "plt.tight_layout()\n",
    "plt.show()"
   ],
   "metadata": {
    "collapsed": false,
    "pycharm": {
     "name": "#%% md\n"
    }
   }
  },
  {
   "cell_type": "markdown",
   "source": [
    "> ### Observations:\n",
    "* The corners and left and right edges are least important. Dropping them should be considered."
   ],
   "metadata": {
    "collapsed": false
   }
  },
  {
   "cell_type": "markdown",
   "source": [
    "feat = pd.Series(rf_clf.feature_importances_, index=X_train.columns)"
   ],
   "metadata": {
    "collapsed": false
   }
  },
  {
   "cell_type": "markdown",
   "source": [
    "feat.nsmallest(40)"
   ],
   "metadata": {
    "collapsed": false
   }
  },
  {
   "cell_type": "markdown",
   "source": [
    "feat = rf_clf.feature_importances_.reshape(28,28)\n",
    "feat"
   ],
   "metadata": {
    "collapsed": false
   }
  },
  {
   "cell_type": "markdown",
   "source": [
    "thresh = (feat[0,0] + feat[0, -1] + feat[-1, 0] + feat[-1, -1]) / 4\n",
    "thresh"
   ],
   "metadata": {
    "collapsed": false
   }
  },
  {
   "cell_type": "markdown",
   "source": [
    "#### 7. XGBoost\n",
    "\n",
    "Early stopping with XGBoost requires a validation set. In order to implement this,\n",
    "I will create a validation set from the training data."
   ],
   "metadata": {
    "collapsed": false
   }
  },
  {
   "cell_type": "markdown",
   "source": [
    "> #### Resources:\n",
    "> 1. Fashion MNIST Dataset <a href=\"https://www.kaggle.com/zalando-research/fashionmnist\"\n",
    "> title=\"Kaggle\">link</a>\n",
    "> 2. Feature Scaling Article <a href=\"https://towardsdatascience.com/all-about-feature-scaling-bcc0ad75cb35\"\n",
    "> title=\"towardsdatascience\">link</a>\n",
    "> 3. PCA Article <a href=\"https://towardsdatascience.com/pca-is-not-feature-selection-3344fb764ae6\"\n",
    "> title=\"towardsdatascience\">link</a>"
   ],
   "metadata": {
    "collapsed": false
   }
  },
  {
   "cell_type": "markdown",
   "source": [
    "In the bootstrap aggregating (bagging) method, part of the original data is\n",
    "not being used (also called out-of-bag samples).\n",
    "\n",
    "Sampling without replacement is called pasting.\n",
    "\n",
    "I'll try to train a Random Forest with the same parameters, this time with pasting\n",
    "(bagging is the default).\n",
    "\n",
    "\n"
   ],
   "metadata": {
    "collapsed": false
   }
  }
 ],
 "metadata": {
  "kernelspec": {
   "name": "pycharm-bcecade4",
   "language": "python",
   "display_name": "PyCharm (1SB-Final-Project)"
  },
  "language_info": {
   "codemirror_mode": {
    "name": "ipython",
    "version": 2
   },
   "file_extension": ".py",
   "mimetype": "text/x-python",
   "name": "python",
   "nbconvert_exporter": "python",
   "pygments_lexer": "ipython2",
   "version": "2.7.6"
  }
 },
 "nbformat": 4,
 "nbformat_minor": 0
}