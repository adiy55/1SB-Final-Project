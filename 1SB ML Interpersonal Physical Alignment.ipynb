{
 "cells": [
  {
   "cell_type": "code",
   "execution_count": 424,
   "metadata": {
    "collapsed": true
   },
   "outputs": [],
   "source": [
    "# common imports\n",
    "import numpy as np\n",
    "import pandas as pd\n",
    "import joblib, glob\n",
    "import seaborn as sns\n",
    "import matplotlib.pyplot as plt\n",
    "%matplotlib inline\n",
    "\n",
    "# machine learning imports\n",
    "\n",
    "\n",
    "# display setup\n",
    "pd.set_option(\"display.max_columns\", None)  # the None parameter displays unlimited columns\n",
    "plt.style.use('seaborn')  # for plots"
   ]
  },
  {
   "cell_type": "markdown",
   "source": [
    "# 1. Getting the Data"
   ],
   "metadata": {
    "collapsed": false,
    "pycharm": {
     "name": "#%% md\n"
    }
   }
  },
  {
   "cell_type": "markdown",
   "source": [
    "> Each participant has 3 csv files, one for each alignment state.\n",
    ">\n",
    "> Taking a look at one file for each state should help gain insight to which dataframe manipulations are necessary\n",
    "> before inserting it into a machine learning algorithm."
   ],
   "metadata": {
    "collapsed": false,
    "pycharm": {
     "name": "#%% md\n"
    }
   }
  },
  {
   "cell_type": "code",
   "execution_count": 425,
   "outputs": [],
   "source": [
    "# read right hand file\n",
    "handright = pd.read_csv(r\"extraFiles/HandRight.csv\")"
   ],
   "metadata": {
    "collapsed": false,
    "pycharm": {
     "name": "#%%\n"
    }
   }
  },
  {
   "cell_type": "code",
   "execution_count": 426,
   "outputs": [
    {
     "data": {
      "text/plain": "       Time   Frame ID  Hand Type   # hands   Position X   Position Y  \\\n0  128.2883      15478      right         1     15.67167     226.2064   \n1  128.3048      15480      right         1     16.24119     222.9389   \n2  128.3218      15482      right         1     16.72461     220.9709   \n3  128.3384      15484      right         1     17.09016     219.7124   \n4  128.3551      15486      right         1     17.46017     219.3652   \n\n    Position Z   Velocity X   Velocity Y   Velocity Z     Pitch      Roll  \\\n0     20.26470     34.26665  -195.214700   -35.043020  0.270987 -0.017635   \n1     20.11781     36.16443  -180.093900    -4.052799  0.245085 -0.014770   \n2     19.94972     26.35298   -95.088190   -11.157620  0.230796 -0.008779   \n3     19.67679     19.46804   -61.755180   -21.303780  0.217681 -0.010759   \n4     19.13128     21.94964    -8.355943   -35.081790  0.220696 -0.017380   \n\n        Yaw   Wrist Pos X   Wrist Pos Y   Wrist Pos Z   Elbow pos X  \\\n0 -0.277800      46.88831      207.3548      86.23589      203.8337   \n1 -0.277763      47.54861      205.6568      86.42250      203.9553   \n2 -0.278792      48.15030      204.5182      86.35149      204.6231   \n3 -0.279768      48.64175      203.9989      86.16056      204.9939   \n4 -0.278629      48.93135      203.3777      85.59017      204.5952   \n\n    Elbow Pos Y   Elbow Pos Z   Grab Strenth   Grab Angle   Pinch Strength  \n0      49.33507      237.4553            0.0     0.206389              0.0  \n1      47.88272      238.4482            0.0     0.243050              0.0  \n2      45.35921      236.8544            0.0     0.281134              0.0  \n3      44.18692      236.0927            0.0     0.277691              0.0  \n4      42.68003      235.2896            0.0     0.283008              0.0  ",
      "text/html": "<div>\n<style scoped>\n    .dataframe tbody tr th:only-of-type {\n        vertical-align: middle;\n    }\n\n    .dataframe tbody tr th {\n        vertical-align: top;\n    }\n\n    .dataframe thead th {\n        text-align: right;\n    }\n</style>\n<table border=\"1\" class=\"dataframe\">\n  <thead>\n    <tr style=\"text-align: right;\">\n      <th></th>\n      <th>Time</th>\n      <th>Frame ID</th>\n      <th>Hand Type</th>\n      <th># hands</th>\n      <th>Position X</th>\n      <th>Position Y</th>\n      <th>Position Z</th>\n      <th>Velocity X</th>\n      <th>Velocity Y</th>\n      <th>Velocity Z</th>\n      <th>Pitch</th>\n      <th>Roll</th>\n      <th>Yaw</th>\n      <th>Wrist Pos X</th>\n      <th>Wrist Pos Y</th>\n      <th>Wrist Pos Z</th>\n      <th>Elbow pos X</th>\n      <th>Elbow Pos Y</th>\n      <th>Elbow Pos Z</th>\n      <th>Grab Strenth</th>\n      <th>Grab Angle</th>\n      <th>Pinch Strength</th>\n    </tr>\n  </thead>\n  <tbody>\n    <tr>\n      <th>0</th>\n      <td>128.2883</td>\n      <td>15478</td>\n      <td>right</td>\n      <td>1</td>\n      <td>15.67167</td>\n      <td>226.2064</td>\n      <td>20.26470</td>\n      <td>34.26665</td>\n      <td>-195.214700</td>\n      <td>-35.043020</td>\n      <td>0.270987</td>\n      <td>-0.017635</td>\n      <td>-0.277800</td>\n      <td>46.88831</td>\n      <td>207.3548</td>\n      <td>86.23589</td>\n      <td>203.8337</td>\n      <td>49.33507</td>\n      <td>237.4553</td>\n      <td>0.0</td>\n      <td>0.206389</td>\n      <td>0.0</td>\n    </tr>\n    <tr>\n      <th>1</th>\n      <td>128.3048</td>\n      <td>15480</td>\n      <td>right</td>\n      <td>1</td>\n      <td>16.24119</td>\n      <td>222.9389</td>\n      <td>20.11781</td>\n      <td>36.16443</td>\n      <td>-180.093900</td>\n      <td>-4.052799</td>\n      <td>0.245085</td>\n      <td>-0.014770</td>\n      <td>-0.277763</td>\n      <td>47.54861</td>\n      <td>205.6568</td>\n      <td>86.42250</td>\n      <td>203.9553</td>\n      <td>47.88272</td>\n      <td>238.4482</td>\n      <td>0.0</td>\n      <td>0.243050</td>\n      <td>0.0</td>\n    </tr>\n    <tr>\n      <th>2</th>\n      <td>128.3218</td>\n      <td>15482</td>\n      <td>right</td>\n      <td>1</td>\n      <td>16.72461</td>\n      <td>220.9709</td>\n      <td>19.94972</td>\n      <td>26.35298</td>\n      <td>-95.088190</td>\n      <td>-11.157620</td>\n      <td>0.230796</td>\n      <td>-0.008779</td>\n      <td>-0.278792</td>\n      <td>48.15030</td>\n      <td>204.5182</td>\n      <td>86.35149</td>\n      <td>204.6231</td>\n      <td>45.35921</td>\n      <td>236.8544</td>\n      <td>0.0</td>\n      <td>0.281134</td>\n      <td>0.0</td>\n    </tr>\n    <tr>\n      <th>3</th>\n      <td>128.3384</td>\n      <td>15484</td>\n      <td>right</td>\n      <td>1</td>\n      <td>17.09016</td>\n      <td>219.7124</td>\n      <td>19.67679</td>\n      <td>19.46804</td>\n      <td>-61.755180</td>\n      <td>-21.303780</td>\n      <td>0.217681</td>\n      <td>-0.010759</td>\n      <td>-0.279768</td>\n      <td>48.64175</td>\n      <td>203.9989</td>\n      <td>86.16056</td>\n      <td>204.9939</td>\n      <td>44.18692</td>\n      <td>236.0927</td>\n      <td>0.0</td>\n      <td>0.277691</td>\n      <td>0.0</td>\n    </tr>\n    <tr>\n      <th>4</th>\n      <td>128.3551</td>\n      <td>15486</td>\n      <td>right</td>\n      <td>1</td>\n      <td>17.46017</td>\n      <td>219.3652</td>\n      <td>19.13128</td>\n      <td>21.94964</td>\n      <td>-8.355943</td>\n      <td>-35.081790</td>\n      <td>0.220696</td>\n      <td>-0.017380</td>\n      <td>-0.278629</td>\n      <td>48.93135</td>\n      <td>203.3777</td>\n      <td>85.59017</td>\n      <td>204.5952</td>\n      <td>42.68003</td>\n      <td>235.2896</td>\n      <td>0.0</td>\n      <td>0.283008</td>\n      <td>0.0</td>\n    </tr>\n  </tbody>\n</table>\n</div>"
     },
     "execution_count": 426,
     "metadata": {},
     "output_type": "execute_result"
    }
   ],
   "source": [
    "handright.head()"
   ],
   "metadata": {
    "collapsed": false,
    "pycharm": {
     "name": "#%%\n"
    }
   }
  },
  {
   "cell_type": "code",
   "execution_count": 427,
   "outputs": [
    {
     "data": {
      "text/plain": "(4812, 22)"
     },
     "execution_count": 427,
     "metadata": {},
     "output_type": "execute_result"
    }
   ],
   "source": [
    "handright.shape"
   ],
   "metadata": {
    "collapsed": false,
    "pycharm": {
     "name": "#%%\n"
    }
   }
  },
  {
   "cell_type": "code",
   "execution_count": 428,
   "outputs": [
    {
     "name": "stdout",
     "output_type": "stream",
     "text": [
      "<class 'pandas.core.frame.DataFrame'>\n",
      "RangeIndex: 4812 entries, 0 to 4811\n",
      "Data columns (total 22 columns):\n",
      " #   Column           Non-Null Count  Dtype  \n",
      "---  ------           --------------  -----  \n",
      " 0   Time             4812 non-null   float64\n",
      " 1    Frame ID        4812 non-null   int64  \n",
      " 2    Hand Type       4812 non-null   object \n",
      " 3    # hands         4812 non-null   int64  \n",
      " 4    Position X      4812 non-null   float64\n",
      " 5    Position Y      4812 non-null   float64\n",
      " 6    Position Z      4812 non-null   float64\n",
      " 7    Velocity X      4812 non-null   float64\n",
      " 8    Velocity Y      4812 non-null   float64\n",
      " 9    Velocity Z      4812 non-null   float64\n",
      " 10   Pitch           4812 non-null   float64\n",
      " 11   Roll            4812 non-null   float64\n",
      " 12   Yaw             4812 non-null   float64\n",
      " 13   Wrist Pos X     4428 non-null   float64\n",
      " 14   Wrist Pos Y     4428 non-null   float64\n",
      " 15   Wrist Pos Z     4428 non-null   float64\n",
      " 16   Elbow pos X     4428 non-null   float64\n",
      " 17   Elbow Pos Y     4428 non-null   float64\n",
      " 18   Elbow Pos Z     4428 non-null   float64\n",
      " 19   Grab Strenth    4812 non-null   float64\n",
      " 20   Grab Angle      4812 non-null   float64\n",
      " 21   Pinch Strength  4812 non-null   float64\n",
      "dtypes: float64(19), int64(2), object(1)\n",
      "memory usage: 827.2+ KB\n"
     ]
    }
   ],
   "source": [
    "handright.info()"
   ],
   "metadata": {
    "collapsed": false,
    "pycharm": {
     "name": "#%%\n"
    }
   }
  },
  {
   "cell_type": "code",
   "execution_count": 429,
   "outputs": [
    {
     "data": {
      "text/plain": "Time                 0\n Frame ID            0\n Hand Type           0\n # hands             0\n Position X          0\n Position Y          0\n Position Z          0\n Velocity X          0\n Velocity Y          0\n Velocity Z          0\n Pitch               0\n Roll                0\n Yaw                 0\n Wrist Pos X       384\n Wrist Pos Y       384\n Wrist Pos Z       384\n Elbow pos X       384\n Elbow Pos Y       384\n Elbow Pos Z       384\n Grab Strenth        0\n Grab Angle          0\n Pinch Strength      0\ndtype: int64"
     },
     "execution_count": 429,
     "metadata": {},
     "output_type": "execute_result"
    }
   ],
   "source": [
    "handright.isna().sum()"
   ],
   "metadata": {
    "collapsed": false,
    "pycharm": {
     "name": "#%%\n"
    }
   }
  },
  {
   "cell_type": "code",
   "execution_count": 430,
   "outputs": [
    {
     "data": {
      "text/plain": "1    4732\n2      80\nName:  # hands, dtype: int64"
     },
     "execution_count": 430,
     "metadata": {},
     "output_type": "execute_result"
    }
   ],
   "source": [
    "handright[\" # hands\"].value_counts()"
   ],
   "metadata": {
    "collapsed": false,
    "pycharm": {
     "name": "#%%\n"
    }
   }
  },
  {
   "cell_type": "code",
   "execution_count": 431,
   "outputs": [
    {
     "data": {
      "text/plain": "right    4738\nleft       74\nName:  Hand Type, dtype: int64"
     },
     "execution_count": 431,
     "metadata": {},
     "output_type": "execute_result"
    }
   ],
   "source": [
    "handright[\" Hand Type\"].value_counts()"
   ],
   "metadata": {
    "collapsed": false,
    "pycharm": {
     "name": "#%%\n"
    }
   }
  },
  {
   "cell_type": "markdown",
   "source": [
    "> Features in the DataFrame:\n",
    "1. Time: Second and milliseconds of recorded movement\n",
    "2. Frame ID: Identification number of detected movement\n",
    "3. Hand Type: Right or left hand\n",
    "4. Number hands: Hands detected in the frame/movement\n",
    "5. Position X: Center position of the palm from the leap origin, millimeters\n",
    "6. Position Y:\n",
    "7. Position Z:\n",
    "8. Velocity X: Rate of change\n",
    "9. Velocity Y:\n",
    "10. Velocity Z:\n",
    "11. Pitch:\n",
    "12. Roll:\n",
    "13. Yaw:\n",
    "14. Wrist Pos X:\n",
    "15. Wrist Pos Y:\n",
    "16. Wrist Pos Z:\n",
    "17. Elbow pos X:\n",
    "18. Elbow pos Y:\n",
    "19. Elbow pos Z:\n",
    "20. Grab Strength:\n",
    "21. Grab Angle:\n",
    "22. Pinch Strength:"
   ],
   "metadata": {
    "collapsed": false,
    "pycharm": {
     "name": "#%% md\n"
    }
   }
  },
  {
   "cell_type": "markdown",
   "source": [
    "Clearly just by looking at a few files the data needs to be cleaned.\n",
    "\n",
    "* Alone has instances with 2 hands and right hand in hand type that need to be removed. Likewise, spontaneous\n",
    "and sync have instances with 1 hand and a mismatch between right and left hands."
   ],
   "metadata": {
    "collapsed": false,
    "pycharm": {
     "name": "#%% md\n"
    }
   }
  },
  {
   "cell_type": "code",
   "execution_count": 432,
   "outputs": [],
   "source": [
    "def remove_first7(df):\n",
    "    df.drop(df[df[\"Time\"] < df[\"Time\"].min() + 7].index, inplace=True)\n",
    "    df.reset_index(drop=True, inplace=True)"
   ],
   "metadata": {
    "collapsed": false,
    "pycharm": {
     "name": "#%%\n"
    }
   }
  },
  {
   "cell_type": "code",
   "execution_count": 433,
   "outputs": [
    {
     "data": {
      "text/plain": "Time                 0\n Frame ID            0\n Hand Type           0\n # hands             0\n Position X          0\n Position Y          0\n Position Z          0\n Velocity X          0\n Velocity Y          0\n Velocity Z          0\n Pitch               0\n Roll                0\n Yaw                 0\n Wrist Pos X       384\n Wrist Pos Y       384\n Wrist Pos Z       384\n Elbow pos X       384\n Elbow Pos Y       384\n Elbow Pos Z       384\n Grab Strenth        0\n Grab Angle          0\n Pinch Strength      0\ndtype: int64"
     },
     "execution_count": 433,
     "metadata": {},
     "output_type": "execute_result"
    }
   ],
   "source": [
    "handright.isna().sum()"
   ],
   "metadata": {
    "collapsed": false,
    "pycharm": {
     "name": "#%%\n"
    }
   }
  },
  {
   "cell_type": "code",
   "execution_count": 456,
   "outputs": [
    {
     "name": "stdout",
     "output_type": "stream",
     "text": [
      "Before: (4812, 22)\n",
      "(4698, 22)\n",
      "(4277, 22)\n",
      "After: (3893, 22)\n",
      "Null values: 0\n"
     ]
    },
    {
     "data": {
      "text/plain": "       Time   Frame ID  Hand Type   # hands   Position X   Position Y  \\\n0  135.3024      16287      right         1     11.93032     199.9861   \n1  135.3194      16289      right         1     11.19190     195.3075   \n2  135.3357      16291      right         1     10.53308     189.0297   \n3  135.3524      16293      right         1     10.24300     181.9816   \n4  135.3690      16295      right         1     10.02061     174.8592   \n\n    Position Z   Velocity X   Velocity Y   Velocity Z     Pitch      Roll  \\\n0     4.981665   -35.512210    -165.3466    -57.68153 -0.092033  0.108262   \n1     3.661716   -43.587440    -309.8374    -77.18515 -0.111674  0.126925   \n2     2.829388   -30.403600    -363.0033    -43.79815 -0.140004  0.127219   \n3     2.064330   -15.424000    -423.2120    -43.99948 -0.166623  0.122782   \n4     1.228467    -8.733602    -413.4513    -53.88054 -0.197763  0.127587   \n\n        Yaw   Wrist Pos X   Wrist Pos Y   Wrist Pos Z   Elbow pos X  \\\n0 -0.906612      75.45740      206.0521      45.38764      284.3946   \n1 -0.904311      74.46141      202.4562      44.28679      282.6278   \n2 -0.901862      73.60060      197.4387      43.54082      280.6384   \n3 -0.901268      73.19537      191.7202      42.73155      279.7357   \n4 -0.897777      72.68671      186.1613      41.98006      278.6890   \n\n    Elbow Pos Y   Elbow Pos Z   Grab Strenth   Grab Angle   Pinch Strength  \n0      140.0167      201.9318            0.0     0.561324              0.0  \n1      140.9712      203.6773            0.0     0.626321              0.0  \n2      142.5401      206.7526            0.0     0.636596              0.0  \n3      148.1382      209.9330            0.0     0.701644              0.0  \n4      152.5215      212.1112            0.0     0.786548              0.0  ",
      "text/html": "<div>\n<style scoped>\n    .dataframe tbody tr th:only-of-type {\n        vertical-align: middle;\n    }\n\n    .dataframe tbody tr th {\n        vertical-align: top;\n    }\n\n    .dataframe thead th {\n        text-align: right;\n    }\n</style>\n<table border=\"1\" class=\"dataframe\">\n  <thead>\n    <tr style=\"text-align: right;\">\n      <th></th>\n      <th>Time</th>\n      <th>Frame ID</th>\n      <th>Hand Type</th>\n      <th># hands</th>\n      <th>Position X</th>\n      <th>Position Y</th>\n      <th>Position Z</th>\n      <th>Velocity X</th>\n      <th>Velocity Y</th>\n      <th>Velocity Z</th>\n      <th>Pitch</th>\n      <th>Roll</th>\n      <th>Yaw</th>\n      <th>Wrist Pos X</th>\n      <th>Wrist Pos Y</th>\n      <th>Wrist Pos Z</th>\n      <th>Elbow pos X</th>\n      <th>Elbow Pos Y</th>\n      <th>Elbow Pos Z</th>\n      <th>Grab Strenth</th>\n      <th>Grab Angle</th>\n      <th>Pinch Strength</th>\n    </tr>\n  </thead>\n  <tbody>\n    <tr>\n      <th>0</th>\n      <td>135.3024</td>\n      <td>16287</td>\n      <td>right</td>\n      <td>1</td>\n      <td>11.93032</td>\n      <td>199.9861</td>\n      <td>4.981665</td>\n      <td>-35.512210</td>\n      <td>-165.3466</td>\n      <td>-57.68153</td>\n      <td>-0.092033</td>\n      <td>0.108262</td>\n      <td>-0.906612</td>\n      <td>75.45740</td>\n      <td>206.0521</td>\n      <td>45.38764</td>\n      <td>284.3946</td>\n      <td>140.0167</td>\n      <td>201.9318</td>\n      <td>0.0</td>\n      <td>0.561324</td>\n      <td>0.0</td>\n    </tr>\n    <tr>\n      <th>1</th>\n      <td>135.3194</td>\n      <td>16289</td>\n      <td>right</td>\n      <td>1</td>\n      <td>11.19190</td>\n      <td>195.3075</td>\n      <td>3.661716</td>\n      <td>-43.587440</td>\n      <td>-309.8374</td>\n      <td>-77.18515</td>\n      <td>-0.111674</td>\n      <td>0.126925</td>\n      <td>-0.904311</td>\n      <td>74.46141</td>\n      <td>202.4562</td>\n      <td>44.28679</td>\n      <td>282.6278</td>\n      <td>140.9712</td>\n      <td>203.6773</td>\n      <td>0.0</td>\n      <td>0.626321</td>\n      <td>0.0</td>\n    </tr>\n    <tr>\n      <th>2</th>\n      <td>135.3357</td>\n      <td>16291</td>\n      <td>right</td>\n      <td>1</td>\n      <td>10.53308</td>\n      <td>189.0297</td>\n      <td>2.829388</td>\n      <td>-30.403600</td>\n      <td>-363.0033</td>\n      <td>-43.79815</td>\n      <td>-0.140004</td>\n      <td>0.127219</td>\n      <td>-0.901862</td>\n      <td>73.60060</td>\n      <td>197.4387</td>\n      <td>43.54082</td>\n      <td>280.6384</td>\n      <td>142.5401</td>\n      <td>206.7526</td>\n      <td>0.0</td>\n      <td>0.636596</td>\n      <td>0.0</td>\n    </tr>\n    <tr>\n      <th>3</th>\n      <td>135.3524</td>\n      <td>16293</td>\n      <td>right</td>\n      <td>1</td>\n      <td>10.24300</td>\n      <td>181.9816</td>\n      <td>2.064330</td>\n      <td>-15.424000</td>\n      <td>-423.2120</td>\n      <td>-43.99948</td>\n      <td>-0.166623</td>\n      <td>0.122782</td>\n      <td>-0.901268</td>\n      <td>73.19537</td>\n      <td>191.7202</td>\n      <td>42.73155</td>\n      <td>279.7357</td>\n      <td>148.1382</td>\n      <td>209.9330</td>\n      <td>0.0</td>\n      <td>0.701644</td>\n      <td>0.0</td>\n    </tr>\n    <tr>\n      <th>4</th>\n      <td>135.3690</td>\n      <td>16295</td>\n      <td>right</td>\n      <td>1</td>\n      <td>10.02061</td>\n      <td>174.8592</td>\n      <td>1.228467</td>\n      <td>-8.733602</td>\n      <td>-413.4513</td>\n      <td>-53.88054</td>\n      <td>-0.197763</td>\n      <td>0.127587</td>\n      <td>-0.897777</td>\n      <td>72.68671</td>\n      <td>186.1613</td>\n      <td>41.98006</td>\n      <td>278.6890</td>\n      <td>152.5215</td>\n      <td>212.1112</td>\n      <td>0.0</td>\n      <td>0.786548</td>\n      <td>0.0</td>\n    </tr>\n  </tbody>\n</table>\n</div>"
     },
     "execution_count": 456,
     "metadata": {},
     "output_type": "execute_result"
    }
   ],
   "source": [
    "print(\"Before:\", handright.shape)\n",
    "handright_prepared = handright.drop(handright[(handright[\" Hand Type\"]==\"left\") | (handright[\" # hands\"]==2)].index)\n",
    "handright_prepared.reset_index(drop=True, inplace=True)\n",
    "print(handright_prepared.shape)\n",
    "remove_first7(handright_prepared) # right hand file without first 7 seconds\n",
    "print(handright_prepared.shape)\n",
    "handright_prepared.dropna(inplace=True)\n",
    "print(\"After:\", handright_prepared.shape)\n",
    "print(\"Null values:\", handright_prepared.isna().sum().sum())\n",
    "handright_prepared.head()"
   ],
   "metadata": {
    "collapsed": false,
    "pycharm": {
     "name": "#%%\n"
    }
   }
  },
  {
   "cell_type": "code",
   "execution_count": 457,
   "outputs": [
    {
     "name": "stdout",
     "output_type": "stream",
     "text": [
      "Right Hand Train\n",
      "Shape: (3115, 22) \n",
      "Null Values: 0\n",
      "\n",
      "Right Hand Test\n",
      "Shape: (779, 22) \n",
      "Null Values: 0\n"
     ]
    }
   ],
   "source": [
    "# split right hand file for training and testing\n",
    "train_size = round(len(handright_prepared) * 0.8)\n",
    "\n",
    "handright_prepared_train = handright_prepared.loc[:train_size].copy()\n",
    "handright_prepared_test = handright_prepared.loc[train_size:].copy()\n",
    "\n",
    "print(\"Right Hand Train\\nShape:\", handright_prepared_train.shape,\n",
    "      \"\\nNull Values:\", handright_prepared_train.isna().sum().sum())\n",
    "print()\n",
    "print(\"Right Hand Test\\nShape:\", handright_prepared_test.shape,\n",
    "      \"\\nNull Values:\", handright_prepared_test.isna().sum().sum())"
   ],
   "metadata": {
    "collapsed": false,
    "pycharm": {
     "name": "#%%\n"
    }
   }
  },
  {
   "cell_type": "markdown",
   "source": [
    "> The following functions load the data into a DataFrame:"
   ],
   "metadata": {
    "collapsed": false,
    "pycharm": {
     "name": "#%% md\n"
    }
   }
  },
  {
   "cell_type": "code",
   "execution_count": 459,
   "outputs": [],
   "source": [
    "# function combines alone csv file with the right hand file\n",
    "def combine_right(df_alone, is_test):\n",
    "    # remove instances with right hand or 2 hands\n",
    "    df_alone.drop(df_alone[(df_alone[\" Hand Type\"]==\"right\") | (df_alone[\" # hands\"]==2)].index, inplace=True)\n",
    "    # drop is True to prevent from adding the old indices as a new column\n",
    "    df_alone.reset_index(drop=True, inplace=True)\n",
    "\n",
    "    # copy of right hand according to train / test\n",
    "    # prevents harming the DataFrame since it is used multiple times\n",
    "    if is_test:\n",
    "        right = handright_prepared_test.copy()\n",
    "    else:\n",
    "        right = handright_prepared_train.copy()\n",
    "\n",
    "    # calculate number of copies needed to match length of left hand\n",
    "    n_copies = round(len(df_alone) / len(handright_prepared_train)) + 1\n",
    "    copies = [] # list for appending copies\n",
    "    for i in range(n_copies):\n",
    "        copies.append(right)\n",
    "    right = pd.concat(copies, axis=0, ignore_index=True) # concat copies to a DataFrame\n",
    "    right = right.loc[:len(df_alone)-1] # -1 because loc includes the end index, and dataframe indices start from 0\n",
    "\n",
    "    # align column values with alone\n",
    "    right.Time = df_alone.Time\n",
    "    right[\" Frame ID\"] = df_alone[\" Frame ID\"]\n",
    "\n",
    "    # merge DataFrames, sort by Time column and reset index\n",
    "    merged = right.merge(df_alone, how=\"outer\").sort_values(\"Time\").reset_index(drop=True)\n",
    "    merged[\" # hands\"] = 2 # change number of hands to 2 (2 hand rows were dropped per dataframe before merge)\n",
    "    return merged"
   ],
   "metadata": {
    "collapsed": false,
    "pycharm": {
     "name": "#%%\n"
    }
   }
  },
  {
   "cell_type": "code",
   "execution_count": 451,
   "outputs": [],
   "source": [
    "# function returns a DataFrame with right and left hands merged into one row\n",
    "# column names format is changed\n",
    "\n",
    "def transform_columns(df):\n",
    "    # strip removes white spaces in the beginning and end\n",
    "    # lower changes uppercase letters to lowercase\n",
    "    df.columns = df.columns.str.strip().str.lower()\n",
    "    # rename columns without spaces\n",
    "    df.columns = df.columns.str.replace(\" \", \"_\")\n",
    "    # change number of hands column name\n",
    "    df.columns = df.columns.str.replace(\"#_hands\", \"n_hands\")\n",
    "\n",
    "    # remove instances with 1 hand detected\n",
    "    df.drop(df[df[\"n_hands\"] == 1].index, inplace=True)\n",
    "\n",
    "    # merge right and left hands into one row\n",
    "    left = df.groupby(\"hand_type\").get_group(\"left\").drop([\"hand_type\", \"n_hands\", \"frame_id\"], axis=1)\n",
    "    right = df.groupby(\"hand_type\").get_group(\"right\").drop([\"hand_type\", \"n_hands\", \"frame_id\"], axis=1)\n",
    "    keep_same = {\"state\", \"time\"} # shared columns\n",
    "    left.columns = left.columns.map(lambda x: x if x in keep_same else x + \"_left\")\n",
    "    right.columns = right.columns.map(lambda x: x if x in keep_same else x + \"_right\")\n",
    "    return left.merge(right, how=\"outer\", on=[\"state\", \"time\"])"
   ],
   "metadata": {
    "collapsed": false,
    "pycharm": {
     "name": "#%%\n"
    }
   }
  },
  {
   "cell_type": "code",
   "execution_count": 463,
   "outputs": [],
   "source": [
    "training_data = []\n",
    "\n",
    "# glob searches all directories and files\n",
    "for filename in glob.iglob(\"extraFiles/Training/**/*.csv\", recursive=True):\n",
    "    df = pd.read_csv(filename, index_col=None, header=0)\n",
    "    remove_first7(df) # removes first 7 seconds from file\n",
    "    if \"Alone\" in filename:\n",
    "        if \"Training\" in filename:\n",
    "            df = combine_right(df, False)\n",
    "        else:\n",
    "            df = combine_right(df, True)\n",
    "        df.insert(0, \"state\", 0)\n",
    "    elif \"Sync\" in filename:\n",
    "        df.insert(0, \"state\", 1)\n",
    "    elif \"Spontan\" in filename:\n",
    "        df.insert(0, \"state\", 2)\n",
    "    df = transform_columns(df)\n",
    "    training_data.append(df)"
   ],
   "metadata": {
    "collapsed": false,
    "pycharm": {
     "name": "#%%\n"
    }
   }
  },
  {
   "cell_type": "code",
   "execution_count": 462,
   "outputs": [
    {
     "data": {
      "text/plain": "27"
     },
     "execution_count": 462,
     "metadata": {},
     "output_type": "execute_result"
    }
   ],
   "source": [
    "len(training_data)"
   ],
   "metadata": {
    "collapsed": false,
    "pycharm": {
     "name": "#%%\n"
    }
   }
  },
  {
   "cell_type": "code",
   "execution_count": null,
   "outputs": [],
   "source": [
    "frame = pd.concat(training_data, axis=0, ignore_index=True)\n"
   ],
   "metadata": {
    "collapsed": false,
    "pycharm": {
     "name": "#%%\n"
    }
   }
  },
  {
   "cell_type": "markdown",
   "source": [
    "def split_train_val(df):\n",
    "\n"
   ],
   "metadata": {
    "collapsed": false,
    "pycharm": {
     "name": "#%% md\n"
    }
   }
  },
  {
   "cell_type": "markdown",
   "source": [
    "### Notes:\n",
    "\n",
    "01:37:00\n",
    "\n",
    "- Organize the data in a pandas dataframe\n",
    "- Goal: using the hand ... , detect if is alone, sync or spontaneous.\n",
    "- \"spontaneous synchronizing\"\n",
    "- interpersonal space\n",
    "- training has 9 participants\n",
    "- validation has different participants\n",
    "- spontan and sync: if # hands is 1, remove data!\n",
    "- time series\n",
    "- every 2 lines is one feature (need to be combined) = 1 frame\n",
    "- choose how many frames\n",
    "- position y is similar\n",
    "- 2 recordings, second is usually better\n",
    "- can't split train and test as usual (correlation between each following movement). can't shuffle!\n",
    "for instance, can take first 40 seconds for training and last 5 for testing.\n",
    "- at least 2 seconds in between train and test\n",
    "- model for 1 person, try model on second person. train the second person and test the third etc.\n",
    "- 4 frames per second\n",
    "-"
   ],
   "metadata": {
    "collapsed": false
   }
  },
  {
   "cell_type": "markdown",
   "source": [
    "> #### Resources:\n",
    "1. Leap Motion Attributes <a href=\"https://developer-archive.leapmotion.com/documentation/python/api/Leap.Hand.html\"\n",
    "> title=\"leapmotion\">link</a>"
   ],
   "metadata": {
    "collapsed": false,
    "pycharm": {
     "name": "#%% md\n"
    }
   }
  },
  {
   "cell_type": "markdown",
   "source": [],
   "metadata": {
    "collapsed": false,
    "pycharm": {
     "name": "#%% md\n"
    }
   }
  },
  {
   "cell_type": "code",
   "execution_count": null,
   "outputs": [],
   "source": [
    "r = handright_prepared[:100].copy()\n",
    "l = alone[:200]\n",
    "# r.Time = l.Time\n",
    "# r[\" Frame ID\"] = l[\" Frame ID\"]\n",
    "\n",
    "diff = len(l) - len(r)\n",
    "diff\n",
    "\n",
    "# l.drop(l[:diff].index).reset_index(drop=True)\n",
    "l\n",
    "# merged = r.merge(l, how=\"outer\").sort_values(\"Time\").reset_index(drop=True)\n",
    "# merged.groupby(\"Time\")[\" # hands\"].sum()"
   ],
   "metadata": {
    "collapsed": false,
    "pycharm": {
     "name": "#%%\n"
    }
   }
  },
  {
   "cell_type": "code",
   "execution_count": null,
   "outputs": [],
   "source": [
    "def transform_time(df):\n",
    "    # adds a column with the second\n",
    "    df[\"start_time\"] = df.time.astype(int) - df.time.min().astype(int)\n",
    "    start = df.start_time.min() + 7 # remove first 7 seconds\n",
    "    first_7_seconds = df[df[\"start_time\"] < start].index\n",
    "    # drop is True to prevent from adding the old indices as a new column\n",
    "    df_new = df.drop(first_7_seconds).reset_index(drop=True)\n",
    "    # reset index (drop = False) adds round time as the left column in the DataFrame\n",
    "    df = df.groupby(\"start_time\").nth([0, 1, 2, 3]).reset_index() # first four instances per second\n",
    "    df.drop(df[df[\"start_time\"] < df[\"start_time\"].min() + 7].index).reset_index(drop=True)\n",
    "    df.drop(\"start_time\", axis=1, inplace=True)\n",
    "    return df"
   ],
   "metadata": {
    "collapsed": false,
    "pycharm": {
     "name": "#%%\n"
    }
   }
  },
  {
   "cell_type": "markdown",
   "source": [
    "alone[\"Time\"] = alone[\"Time\"] - alone[\"Time\"].min()\n",
    "\n",
    "    # reset index (drop = False) adds round time as the left column in the DataFrame\n",
    "    df = df.groupby(\"start_time\").nth([0, 1, 2, 3]).reset_index() # first four instances per second"
   ],
   "metadata": {
    "collapsed": false
   }
  },
  {
   "cell_type": "code",
   "execution_count": null,
   "outputs": [],
   "source": [
    "# adds a column with the second\n",
    "merged[\"round_time\"] = merged.time.astype(int) - merged.time.min().astype(int)"
   ],
   "metadata": {
    "collapsed": false,
    "pycharm": {
     "name": "#%%\n"
    }
   }
  },
  {
   "cell_type": "code",
   "execution_count": null,
   "outputs": [],
   "source": [
    "# reset index (drop = False) adds round time as the left column in the DataFrame\n",
    "merged = merged.groupby(\"round_time\").nth([0, 1, 2, 3]).reset_index()"
   ],
   "metadata": {
    "collapsed": false,
    "pycharm": {
     "name": "#%%\n"
    }
   }
  },
  {
   "cell_type": "code",
   "execution_count": null,
   "outputs": [],
   "source": [
    "# drop is True to prevent from adding the old indices as a new column\n",
    "merged = merged.drop(merged[merged[\"round_time\"] < merged.round_time.min() + 7].index).reset_index(drop=True)"
   ],
   "metadata": {
    "collapsed": false,
    "pycharm": {
     "name": "#%%\n"
    }
   }
  },
  {
   "cell_type": "code",
   "execution_count": null,
   "outputs": [],
   "source": [
    "merged"
   ],
   "metadata": {
    "collapsed": false,
    "pycharm": {
     "name": "#%%\n"
    }
   }
  },
  {
   "cell_type": "code",
   "execution_count": null,
   "outputs": [],
   "source": [
    "round_time_groups = merged.groupby(\"round_time\")"
   ],
   "metadata": {
    "collapsed": false,
    "pycharm": {
     "name": "#%%\n"
    }
   }
  }
 ],
 "metadata": {
  "kernelspec": {
   "name": "pycharm-bcecade4",
   "language": "python",
   "display_name": "PyCharm (1SB-Final-Project)"
  },
  "language_info": {
   "codemirror_mode": {
    "name": "ipython",
    "version": 2
   },
   "file_extension": ".py",
   "mimetype": "text/x-python",
   "name": "python",
   "nbconvert_exporter": "python",
   "pygments_lexer": "ipython2",
   "version": "2.7.6"
  }
 },
 "nbformat": 4,
 "nbformat_minor": 0
}