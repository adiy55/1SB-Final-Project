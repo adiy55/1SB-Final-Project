{
 "cells": [
  {
   "cell_type": "code",
   "execution_count": 31,
   "metadata": {
    "collapsed": true
   },
   "outputs": [],
   "source": [
    "# common imports\n",
    "import numpy as np\n",
    "import pandas as pd\n",
    "import joblib, glob\n",
    "import seaborn as sns\n",
    "import matplotlib.pyplot as plt\n",
    "%matplotlib inline\n",
    "\n",
    "# machine learning imports\n",
    "\n",
    "\n",
    "# display setup\n",
    "pd.set_option(\"display.max_columns\", None)  # the None parameter displays unlimited columns\n",
    "plt.style.use('seaborn')  # for plots"
   ]
  },
  {
   "cell_type": "markdown",
   "source": [
    "# 1. Getting the Data"
   ],
   "metadata": {
    "collapsed": false,
    "pycharm": {
     "name": "#%% md\n"
    }
   }
  },
  {
   "cell_type": "markdown",
   "source": [
    "> Each participant has 3 csv files, one for each alignment state.\n",
    ">\n",
    "> Taking a look at one file for each state should help gain insight to which dataframe manipulations are necessary\n",
    "> before inserting it into a machine learning algorithm."
   ],
   "metadata": {
    "collapsed": false,
    "pycharm": {
     "name": "#%% md\n"
    }
   }
  },
  {
   "cell_type": "code",
   "execution_count": 148,
   "outputs": [],
   "source": [
    "# read right hand file\n",
    "handright = pd.read_csv(r\"extraFiles/HandRight.csv\")\n",
    "alone = pd.read_csv(r\"extraFiles/Training/Yael Hagai/Yael636771061659067649Alone.csv\")\n",
    "spontan = pd.read_csv(r\"extraFiles/Training/Yael Hagai/Yael636771059544754823Spontan.csv\")\n",
    "sync = pd.read_csv(r\"extraFiles/Training/Yael Hagai/Yael636771060699529085Sync.csv\")"
   ],
   "metadata": {
    "collapsed": false,
    "pycharm": {
     "name": "#%%\n"
    }
   }
  },
  {
   "cell_type": "code",
   "execution_count": 149,
   "outputs": [
    {
     "data": {
      "text/plain": "       Time   Frame ID  Hand Type   # hands   Position X   Position Y  \\\n0  128.2883      15478      right         1     15.67167     226.2064   \n1  128.3048      15480      right         1     16.24119     222.9389   \n2  128.3218      15482      right         1     16.72461     220.9709   \n3  128.3384      15484      right         1     17.09016     219.7124   \n4  128.3551      15486      right         1     17.46017     219.3652   \n\n    Position Z   Velocity X   Velocity Y   Velocity Z     Pitch      Roll  \\\n0     20.26470     34.26665  -195.214700   -35.043020  0.270987 -0.017635   \n1     20.11781     36.16443  -180.093900    -4.052799  0.245085 -0.014770   \n2     19.94972     26.35298   -95.088190   -11.157620  0.230796 -0.008779   \n3     19.67679     19.46804   -61.755180   -21.303780  0.217681 -0.010759   \n4     19.13128     21.94964    -8.355943   -35.081790  0.220696 -0.017380   \n\n        Yaw   Wrist Pos X   Wrist Pos Y   Wrist Pos Z   Elbow pos X  \\\n0 -0.277800      46.88831      207.3548      86.23589      203.8337   \n1 -0.277763      47.54861      205.6568      86.42250      203.9553   \n2 -0.278792      48.15030      204.5182      86.35149      204.6231   \n3 -0.279768      48.64175      203.9989      86.16056      204.9939   \n4 -0.278629      48.93135      203.3777      85.59017      204.5952   \n\n    Elbow Pos Y   Elbow Pos Z   Grab Strenth   Grab Angle   Pinch Strength  \n0      49.33507      237.4553            0.0     0.206389              0.0  \n1      47.88272      238.4482            0.0     0.243050              0.0  \n2      45.35921      236.8544            0.0     0.281134              0.0  \n3      44.18692      236.0927            0.0     0.277691              0.0  \n4      42.68003      235.2896            0.0     0.283008              0.0  ",
      "text/html": "<div>\n<style scoped>\n    .dataframe tbody tr th:only-of-type {\n        vertical-align: middle;\n    }\n\n    .dataframe tbody tr th {\n        vertical-align: top;\n    }\n\n    .dataframe thead th {\n        text-align: right;\n    }\n</style>\n<table border=\"1\" class=\"dataframe\">\n  <thead>\n    <tr style=\"text-align: right;\">\n      <th></th>\n      <th>Time</th>\n      <th>Frame ID</th>\n      <th>Hand Type</th>\n      <th># hands</th>\n      <th>Position X</th>\n      <th>Position Y</th>\n      <th>Position Z</th>\n      <th>Velocity X</th>\n      <th>Velocity Y</th>\n      <th>Velocity Z</th>\n      <th>Pitch</th>\n      <th>Roll</th>\n      <th>Yaw</th>\n      <th>Wrist Pos X</th>\n      <th>Wrist Pos Y</th>\n      <th>Wrist Pos Z</th>\n      <th>Elbow pos X</th>\n      <th>Elbow Pos Y</th>\n      <th>Elbow Pos Z</th>\n      <th>Grab Strenth</th>\n      <th>Grab Angle</th>\n      <th>Pinch Strength</th>\n    </tr>\n  </thead>\n  <tbody>\n    <tr>\n      <th>0</th>\n      <td>128.2883</td>\n      <td>15478</td>\n      <td>right</td>\n      <td>1</td>\n      <td>15.67167</td>\n      <td>226.2064</td>\n      <td>20.26470</td>\n      <td>34.26665</td>\n      <td>-195.214700</td>\n      <td>-35.043020</td>\n      <td>0.270987</td>\n      <td>-0.017635</td>\n      <td>-0.277800</td>\n      <td>46.88831</td>\n      <td>207.3548</td>\n      <td>86.23589</td>\n      <td>203.8337</td>\n      <td>49.33507</td>\n      <td>237.4553</td>\n      <td>0.0</td>\n      <td>0.206389</td>\n      <td>0.0</td>\n    </tr>\n    <tr>\n      <th>1</th>\n      <td>128.3048</td>\n      <td>15480</td>\n      <td>right</td>\n      <td>1</td>\n      <td>16.24119</td>\n      <td>222.9389</td>\n      <td>20.11781</td>\n      <td>36.16443</td>\n      <td>-180.093900</td>\n      <td>-4.052799</td>\n      <td>0.245085</td>\n      <td>-0.014770</td>\n      <td>-0.277763</td>\n      <td>47.54861</td>\n      <td>205.6568</td>\n      <td>86.42250</td>\n      <td>203.9553</td>\n      <td>47.88272</td>\n      <td>238.4482</td>\n      <td>0.0</td>\n      <td>0.243050</td>\n      <td>0.0</td>\n    </tr>\n    <tr>\n      <th>2</th>\n      <td>128.3218</td>\n      <td>15482</td>\n      <td>right</td>\n      <td>1</td>\n      <td>16.72461</td>\n      <td>220.9709</td>\n      <td>19.94972</td>\n      <td>26.35298</td>\n      <td>-95.088190</td>\n      <td>-11.157620</td>\n      <td>0.230796</td>\n      <td>-0.008779</td>\n      <td>-0.278792</td>\n      <td>48.15030</td>\n      <td>204.5182</td>\n      <td>86.35149</td>\n      <td>204.6231</td>\n      <td>45.35921</td>\n      <td>236.8544</td>\n      <td>0.0</td>\n      <td>0.281134</td>\n      <td>0.0</td>\n    </tr>\n    <tr>\n      <th>3</th>\n      <td>128.3384</td>\n      <td>15484</td>\n      <td>right</td>\n      <td>1</td>\n      <td>17.09016</td>\n      <td>219.7124</td>\n      <td>19.67679</td>\n      <td>19.46804</td>\n      <td>-61.755180</td>\n      <td>-21.303780</td>\n      <td>0.217681</td>\n      <td>-0.010759</td>\n      <td>-0.279768</td>\n      <td>48.64175</td>\n      <td>203.9989</td>\n      <td>86.16056</td>\n      <td>204.9939</td>\n      <td>44.18692</td>\n      <td>236.0927</td>\n      <td>0.0</td>\n      <td>0.277691</td>\n      <td>0.0</td>\n    </tr>\n    <tr>\n      <th>4</th>\n      <td>128.3551</td>\n      <td>15486</td>\n      <td>right</td>\n      <td>1</td>\n      <td>17.46017</td>\n      <td>219.3652</td>\n      <td>19.13128</td>\n      <td>21.94964</td>\n      <td>-8.355943</td>\n      <td>-35.081790</td>\n      <td>0.220696</td>\n      <td>-0.017380</td>\n      <td>-0.278629</td>\n      <td>48.93135</td>\n      <td>203.3777</td>\n      <td>85.59017</td>\n      <td>204.5952</td>\n      <td>42.68003</td>\n      <td>235.2896</td>\n      <td>0.0</td>\n      <td>0.283008</td>\n      <td>0.0</td>\n    </tr>\n  </tbody>\n</table>\n</div>"
     },
     "execution_count": 149,
     "metadata": {},
     "output_type": "execute_result"
    }
   ],
   "source": [
    "handright.head()"
   ],
   "metadata": {
    "collapsed": false,
    "pycharm": {
     "name": "#%%\n"
    }
   }
  },
  {
   "cell_type": "code",
   "execution_count": 150,
   "outputs": [
    {
     "data": {
      "text/plain": "(4812, 22)"
     },
     "execution_count": 150,
     "metadata": {},
     "output_type": "execute_result"
    }
   ],
   "source": [
    "handright.shape"
   ],
   "metadata": {
    "collapsed": false,
    "pycharm": {
     "name": "#%%\n"
    }
   }
  },
  {
   "cell_type": "code",
   "execution_count": 151,
   "outputs": [
    {
     "name": "stdout",
     "output_type": "stream",
     "text": [
      "<class 'pandas.core.frame.DataFrame'>\n",
      "RangeIndex: 4812 entries, 0 to 4811\n",
      "Data columns (total 22 columns):\n",
      " #   Column           Non-Null Count  Dtype  \n",
      "---  ------           --------------  -----  \n",
      " 0   Time             4812 non-null   float64\n",
      " 1    Frame ID        4812 non-null   int64  \n",
      " 2    Hand Type       4812 non-null   object \n",
      " 3    # hands         4812 non-null   int64  \n",
      " 4    Position X      4812 non-null   float64\n",
      " 5    Position Y      4812 non-null   float64\n",
      " 6    Position Z      4812 non-null   float64\n",
      " 7    Velocity X      4812 non-null   float64\n",
      " 8    Velocity Y      4812 non-null   float64\n",
      " 9    Velocity Z      4812 non-null   float64\n",
      " 10   Pitch           4812 non-null   float64\n",
      " 11   Roll            4812 non-null   float64\n",
      " 12   Yaw             4812 non-null   float64\n",
      " 13   Wrist Pos X     4428 non-null   float64\n",
      " 14   Wrist Pos Y     4428 non-null   float64\n",
      " 15   Wrist Pos Z     4428 non-null   float64\n",
      " 16   Elbow pos X     4428 non-null   float64\n",
      " 17   Elbow Pos Y     4428 non-null   float64\n",
      " 18   Elbow Pos Z     4428 non-null   float64\n",
      " 19   Grab Strenth    4812 non-null   float64\n",
      " 20   Grab Angle      4812 non-null   float64\n",
      " 21   Pinch Strength  4812 non-null   float64\n",
      "dtypes: float64(19), int64(2), object(1)\n",
      "memory usage: 827.2+ KB\n"
     ]
    }
   ],
   "source": [
    "handright.info()"
   ],
   "metadata": {
    "collapsed": false,
    "pycharm": {
     "name": "#%%\n"
    }
   }
  },
  {
   "cell_type": "code",
   "execution_count": 152,
   "outputs": [
    {
     "data": {
      "text/plain": "Time                 0\n Frame ID            0\n Hand Type           0\n # hands             0\n Position X          0\n Position Y          0\n Position Z          0\n Velocity X          0\n Velocity Y          0\n Velocity Z          0\n Pitch               0\n Roll                0\n Yaw                 0\n Wrist Pos X       384\n Wrist Pos Y       384\n Wrist Pos Z       384\n Elbow pos X       384\n Elbow Pos Y       384\n Elbow Pos Z       384\n Grab Strenth        0\n Grab Angle          0\n Pinch Strength      0\ndtype: int64"
     },
     "execution_count": 152,
     "metadata": {},
     "output_type": "execute_result"
    }
   ],
   "source": [
    "handright.isna().sum()"
   ],
   "metadata": {
    "collapsed": false,
    "pycharm": {
     "name": "#%%\n"
    }
   }
  },
  {
   "cell_type": "code",
   "execution_count": 153,
   "outputs": [
    {
     "data": {
      "text/plain": "1    4732\n2      80\nName:  # hands, dtype: int64"
     },
     "execution_count": 153,
     "metadata": {},
     "output_type": "execute_result"
    }
   ],
   "source": [
    "handright[\" # hands\"].value_counts()"
   ],
   "metadata": {
    "collapsed": false,
    "pycharm": {
     "name": "#%%\n"
    }
   }
  },
  {
   "cell_type": "code",
   "execution_count": 154,
   "outputs": [
    {
     "data": {
      "text/plain": "right    4738\nleft       74\nName:  Hand Type, dtype: int64"
     },
     "execution_count": 154,
     "metadata": {},
     "output_type": "execute_result"
    }
   ],
   "source": [
    "handright[\" Hand Type\"].value_counts()"
   ],
   "metadata": {
    "collapsed": false,
    "pycharm": {
     "name": "#%%\n"
    }
   }
  },
  {
   "cell_type": "code",
   "execution_count": 98,
   "outputs": [
    {
     "data": {
      "text/plain": "       Time   Frame ID  Hand Type   # hands   Position X   Position Y  \\\n0  386.9574      45134       left         1    -158.6170     287.6174   \n1  386.9746      45136       left         1    -159.2629     294.0763   \n2  386.9904      45138       left         1    -159.8529     299.8839   \n3  387.0072      45140       left         1    -160.8173     306.4102   \n4  387.0237      45142       left         1    -162.4503     313.8571   \n\n    Position Z   Velocity X   Velocity Y   Velocity Z     Pitch      Roll  \\\n0    -24.87604    -31.29900     356.5704    107.26580  1.514668  1.042867   \n1    -23.02113    -69.48521     332.7127    105.50880  1.523402  1.051153   \n2    -21.48677    -59.82772     370.6227     90.46810  1.520507  1.042137   \n3    -19.99327   -118.96180     377.6304     95.47686  1.509962  1.042556   \n4    -18.74539     53.77554     370.3851     90.83872  1.510248  1.046471   \n\n        Yaw   Wrist Pos X   Wrist Pos Y   Wrist Pos Z   Elbow pos X  \\\n0  1.465832     -196.7802      229.1945     -21.44019     -277.7189   \n1  1.481661     -197.4044      235.5681     -20.25847     -280.9406   \n2  1.477824     -198.4258      241.6253     -18.72481     -284.1040   \n3  1.457889     -199.1599      247.9668     -17.27442     -286.7310   \n4  1.457001     -200.6748      255.2839     -16.04187     -290.6844   \n\n    Elbow Pos Y   Elbow Pos Z   Grab Strenth   Grab Angle   Pinch Strength  \n0      10.56576      67.69565            0.0     0.336463         0.368310  \n1      16.27876      64.76319            0.0     0.399600         0.451096  \n2      21.73676      62.53461            0.0     0.389698         0.464458  \n3      27.91961      61.49978            0.0     0.991447         0.660603  \n4      35.04873      59.38720            1.0     2.261015         0.793195  ",
      "text/html": "<div>\n<style scoped>\n    .dataframe tbody tr th:only-of-type {\n        vertical-align: middle;\n    }\n\n    .dataframe tbody tr th {\n        vertical-align: top;\n    }\n\n    .dataframe thead th {\n        text-align: right;\n    }\n</style>\n<table border=\"1\" class=\"dataframe\">\n  <thead>\n    <tr style=\"text-align: right;\">\n      <th></th>\n      <th>Time</th>\n      <th>Frame ID</th>\n      <th>Hand Type</th>\n      <th># hands</th>\n      <th>Position X</th>\n      <th>Position Y</th>\n      <th>Position Z</th>\n      <th>Velocity X</th>\n      <th>Velocity Y</th>\n      <th>Velocity Z</th>\n      <th>Pitch</th>\n      <th>Roll</th>\n      <th>Yaw</th>\n      <th>Wrist Pos X</th>\n      <th>Wrist Pos Y</th>\n      <th>Wrist Pos Z</th>\n      <th>Elbow pos X</th>\n      <th>Elbow Pos Y</th>\n      <th>Elbow Pos Z</th>\n      <th>Grab Strenth</th>\n      <th>Grab Angle</th>\n      <th>Pinch Strength</th>\n    </tr>\n  </thead>\n  <tbody>\n    <tr>\n      <th>0</th>\n      <td>386.9574</td>\n      <td>45134</td>\n      <td>left</td>\n      <td>1</td>\n      <td>-158.6170</td>\n      <td>287.6174</td>\n      <td>-24.87604</td>\n      <td>-31.29900</td>\n      <td>356.5704</td>\n      <td>107.26580</td>\n      <td>1.514668</td>\n      <td>1.042867</td>\n      <td>1.465832</td>\n      <td>-196.7802</td>\n      <td>229.1945</td>\n      <td>-21.44019</td>\n      <td>-277.7189</td>\n      <td>10.56576</td>\n      <td>67.69565</td>\n      <td>0.0</td>\n      <td>0.336463</td>\n      <td>0.368310</td>\n    </tr>\n    <tr>\n      <th>1</th>\n      <td>386.9746</td>\n      <td>45136</td>\n      <td>left</td>\n      <td>1</td>\n      <td>-159.2629</td>\n      <td>294.0763</td>\n      <td>-23.02113</td>\n      <td>-69.48521</td>\n      <td>332.7127</td>\n      <td>105.50880</td>\n      <td>1.523402</td>\n      <td>1.051153</td>\n      <td>1.481661</td>\n      <td>-197.4044</td>\n      <td>235.5681</td>\n      <td>-20.25847</td>\n      <td>-280.9406</td>\n      <td>16.27876</td>\n      <td>64.76319</td>\n      <td>0.0</td>\n      <td>0.399600</td>\n      <td>0.451096</td>\n    </tr>\n    <tr>\n      <th>2</th>\n      <td>386.9904</td>\n      <td>45138</td>\n      <td>left</td>\n      <td>1</td>\n      <td>-159.8529</td>\n      <td>299.8839</td>\n      <td>-21.48677</td>\n      <td>-59.82772</td>\n      <td>370.6227</td>\n      <td>90.46810</td>\n      <td>1.520507</td>\n      <td>1.042137</td>\n      <td>1.477824</td>\n      <td>-198.4258</td>\n      <td>241.6253</td>\n      <td>-18.72481</td>\n      <td>-284.1040</td>\n      <td>21.73676</td>\n      <td>62.53461</td>\n      <td>0.0</td>\n      <td>0.389698</td>\n      <td>0.464458</td>\n    </tr>\n    <tr>\n      <th>3</th>\n      <td>387.0072</td>\n      <td>45140</td>\n      <td>left</td>\n      <td>1</td>\n      <td>-160.8173</td>\n      <td>306.4102</td>\n      <td>-19.99327</td>\n      <td>-118.96180</td>\n      <td>377.6304</td>\n      <td>95.47686</td>\n      <td>1.509962</td>\n      <td>1.042556</td>\n      <td>1.457889</td>\n      <td>-199.1599</td>\n      <td>247.9668</td>\n      <td>-17.27442</td>\n      <td>-286.7310</td>\n      <td>27.91961</td>\n      <td>61.49978</td>\n      <td>0.0</td>\n      <td>0.991447</td>\n      <td>0.660603</td>\n    </tr>\n    <tr>\n      <th>4</th>\n      <td>387.0237</td>\n      <td>45142</td>\n      <td>left</td>\n      <td>1</td>\n      <td>-162.4503</td>\n      <td>313.8571</td>\n      <td>-18.74539</td>\n      <td>53.77554</td>\n      <td>370.3851</td>\n      <td>90.83872</td>\n      <td>1.510248</td>\n      <td>1.046471</td>\n      <td>1.457001</td>\n      <td>-200.6748</td>\n      <td>255.2839</td>\n      <td>-16.04187</td>\n      <td>-290.6844</td>\n      <td>35.04873</td>\n      <td>59.38720</td>\n      <td>1.0</td>\n      <td>2.261015</td>\n      <td>0.793195</td>\n    </tr>\n  </tbody>\n</table>\n</div>"
     },
     "execution_count": 98,
     "metadata": {},
     "output_type": "execute_result"
    }
   ],
   "source": [
    "alone.head()"
   ],
   "metadata": {
    "collapsed": false,
    "pycharm": {
     "name": "#%%\n"
    }
   }
  },
  {
   "cell_type": "code",
   "execution_count": 99,
   "outputs": [
    {
     "data": {
      "text/plain": "(4537, 22)"
     },
     "execution_count": 99,
     "metadata": {},
     "output_type": "execute_result"
    }
   ],
   "source": [
    "alone.shape"
   ],
   "metadata": {
    "collapsed": false,
    "pycharm": {
     "name": "#%%\n"
    }
   }
  },
  {
   "cell_type": "code",
   "execution_count": 100,
   "outputs": [
    {
     "name": "stdout",
     "output_type": "stream",
     "text": [
      "<class 'pandas.core.frame.DataFrame'>\n",
      "RangeIndex: 4537 entries, 0 to 4536\n",
      "Data columns (total 22 columns):\n",
      " #   Column           Non-Null Count  Dtype  \n",
      "---  ------           --------------  -----  \n",
      " 0   Time             4537 non-null   float64\n",
      " 1    Frame ID        4537 non-null   int64  \n",
      " 2    Hand Type       4537 non-null   object \n",
      " 3    # hands         4537 non-null   int64  \n",
      " 4    Position X      4537 non-null   float64\n",
      " 5    Position Y      4537 non-null   float64\n",
      " 6    Position Z      4537 non-null   float64\n",
      " 7    Velocity X      4537 non-null   float64\n",
      " 8    Velocity Y      4537 non-null   float64\n",
      " 9    Velocity Z      4537 non-null   float64\n",
      " 10   Pitch           4537 non-null   float64\n",
      " 11   Roll            4537 non-null   float64\n",
      " 12   Yaw             4537 non-null   float64\n",
      " 13   Wrist Pos X     4537 non-null   float64\n",
      " 14   Wrist Pos Y     4537 non-null   float64\n",
      " 15   Wrist Pos Z     4537 non-null   float64\n",
      " 16   Elbow pos X     4537 non-null   float64\n",
      " 17   Elbow Pos Y     4537 non-null   float64\n",
      " 18   Elbow Pos Z     4537 non-null   float64\n",
      " 19   Grab Strenth    4537 non-null   float64\n",
      " 20   Grab Angle      4537 non-null   float64\n",
      " 21   Pinch Strength  4537 non-null   float64\n",
      "dtypes: float64(19), int64(2), object(1)\n",
      "memory usage: 779.9+ KB\n"
     ]
    }
   ],
   "source": [
    "alone.info()"
   ],
   "metadata": {
    "collapsed": false,
    "pycharm": {
     "name": "#%%\n"
    }
   }
  },
  {
   "cell_type": "code",
   "execution_count": 101,
   "outputs": [
    {
     "data": {
      "text/plain": "Time               0\n Frame ID          0\n Hand Type         0\n # hands           0\n Position X        0\n Position Y        0\n Position Z        0\n Velocity X        0\n Velocity Y        0\n Velocity Z        0\n Pitch             0\n Roll              0\n Yaw               0\n Wrist Pos X       0\n Wrist Pos Y       0\n Wrist Pos Z       0\n Elbow pos X       0\n Elbow Pos Y       0\n Elbow Pos Z       0\n Grab Strenth      0\n Grab Angle        0\n Pinch Strength    0\ndtype: int64"
     },
     "execution_count": 101,
     "metadata": {},
     "output_type": "execute_result"
    }
   ],
   "source": [
    "alone.isna().sum()"
   ],
   "metadata": {
    "collapsed": false,
    "pycharm": {
     "name": "#%%\n"
    }
   }
  },
  {
   "cell_type": "code",
   "execution_count": 102,
   "outputs": [
    {
     "data": {
      "text/plain": "1    4435\n2     102\nName:  # hands, dtype: int64"
     },
     "execution_count": 102,
     "metadata": {},
     "output_type": "execute_result"
    }
   ],
   "source": [
    "alone[\" # hands\"].value_counts()"
   ],
   "metadata": {
    "collapsed": false,
    "pycharm": {
     "name": "#%%\n"
    }
   }
  },
  {
   "cell_type": "code",
   "execution_count": 103,
   "outputs": [
    {
     "data": {
      "text/plain": "left     4486\nright      51\nName:  Hand Type, dtype: int64"
     },
     "execution_count": 103,
     "metadata": {},
     "output_type": "execute_result"
    }
   ],
   "source": [
    "alone[\" Hand Type\"].value_counts()"
   ],
   "metadata": {
    "collapsed": false,
    "pycharm": {
     "name": "#%%\n"
    }
   }
  },
  {
   "cell_type": "code",
   "execution_count": 104,
   "outputs": [
    {
     "data": {
      "text/plain": "       Time   Frame ID  Hand Type   # hands   Position X   Position Y  \\\n0  175.5415      20769      right         2     146.6630     160.2139   \n1  175.5415      20769       left         2    -175.4261     238.6634   \n2  175.5589      20771      right         2     141.7510     158.8064   \n3  175.5589      20771       left         2    -176.1160     238.6726   \n4  175.5755      20773      right         2     137.8546     158.4656   \n\n    Position Z   Velocity X   Velocity Y   Velocity Z     Pitch      Roll  \\\n0    -39.06675   -292.87750    -64.44993     86.72254  0.238520 -0.136291   \n1     95.82157    -18.25315    -43.46218    -18.86510  1.609791  1.546077   \n2    -36.19062   -270.43750    -82.31941    187.93000  0.272479 -0.109806   \n3     95.89357    -62.86600     36.26385     23.44059  1.609235  1.553108   \n4    -32.12399   -208.59670    -10.16733    226.08150  0.308624 -0.081112   \n\n        Yaw   Wrist Pos X   Wrist Pos Y   Wrist Pos Z   Elbow pos X  \\\n0 -0.444049      183.7597      147.6642      18.61219      317.4607   \n1  2.799111     -181.1349      170.0918      87.50933     -253.4343   \n2 -0.552327      183.8038      145.5503      17.72754      317.7048   \n3  2.964649     -181.2218      170.0441      87.60751     -249.6812   \n4 -0.695048      185.9733      144.8633      16.12182      321.1910   \n\n    Elbow Pos Y   Elbow Pos Z   Grab Strenth   Grab Angle   Pinch Strength  \n0      64.20674      209.1401            0.0     0.052556         0.000000  \n1     -62.25551      131.4360            0.0     0.907454         0.450613  \n2      58.80313      206.6389            0.0     0.043725         0.000000  \n3     -63.45592      131.5742            0.0     0.926086         0.472969  \n4      46.51823      198.2933            0.0     0.105092         0.000000  ",
      "text/html": "<div>\n<style scoped>\n    .dataframe tbody tr th:only-of-type {\n        vertical-align: middle;\n    }\n\n    .dataframe tbody tr th {\n        vertical-align: top;\n    }\n\n    .dataframe thead th {\n        text-align: right;\n    }\n</style>\n<table border=\"1\" class=\"dataframe\">\n  <thead>\n    <tr style=\"text-align: right;\">\n      <th></th>\n      <th>Time</th>\n      <th>Frame ID</th>\n      <th>Hand Type</th>\n      <th># hands</th>\n      <th>Position X</th>\n      <th>Position Y</th>\n      <th>Position Z</th>\n      <th>Velocity X</th>\n      <th>Velocity Y</th>\n      <th>Velocity Z</th>\n      <th>Pitch</th>\n      <th>Roll</th>\n      <th>Yaw</th>\n      <th>Wrist Pos X</th>\n      <th>Wrist Pos Y</th>\n      <th>Wrist Pos Z</th>\n      <th>Elbow pos X</th>\n      <th>Elbow Pos Y</th>\n      <th>Elbow Pos Z</th>\n      <th>Grab Strenth</th>\n      <th>Grab Angle</th>\n      <th>Pinch Strength</th>\n    </tr>\n  </thead>\n  <tbody>\n    <tr>\n      <th>0</th>\n      <td>175.5415</td>\n      <td>20769</td>\n      <td>right</td>\n      <td>2</td>\n      <td>146.6630</td>\n      <td>160.2139</td>\n      <td>-39.06675</td>\n      <td>-292.87750</td>\n      <td>-64.44993</td>\n      <td>86.72254</td>\n      <td>0.238520</td>\n      <td>-0.136291</td>\n      <td>-0.444049</td>\n      <td>183.7597</td>\n      <td>147.6642</td>\n      <td>18.61219</td>\n      <td>317.4607</td>\n      <td>64.20674</td>\n      <td>209.1401</td>\n      <td>0.0</td>\n      <td>0.052556</td>\n      <td>0.000000</td>\n    </tr>\n    <tr>\n      <th>1</th>\n      <td>175.5415</td>\n      <td>20769</td>\n      <td>left</td>\n      <td>2</td>\n      <td>-175.4261</td>\n      <td>238.6634</td>\n      <td>95.82157</td>\n      <td>-18.25315</td>\n      <td>-43.46218</td>\n      <td>-18.86510</td>\n      <td>1.609791</td>\n      <td>1.546077</td>\n      <td>2.799111</td>\n      <td>-181.1349</td>\n      <td>170.0918</td>\n      <td>87.50933</td>\n      <td>-253.4343</td>\n      <td>-62.25551</td>\n      <td>131.4360</td>\n      <td>0.0</td>\n      <td>0.907454</td>\n      <td>0.450613</td>\n    </tr>\n    <tr>\n      <th>2</th>\n      <td>175.5589</td>\n      <td>20771</td>\n      <td>right</td>\n      <td>2</td>\n      <td>141.7510</td>\n      <td>158.8064</td>\n      <td>-36.19062</td>\n      <td>-270.43750</td>\n      <td>-82.31941</td>\n      <td>187.93000</td>\n      <td>0.272479</td>\n      <td>-0.109806</td>\n      <td>-0.552327</td>\n      <td>183.8038</td>\n      <td>145.5503</td>\n      <td>17.72754</td>\n      <td>317.7048</td>\n      <td>58.80313</td>\n      <td>206.6389</td>\n      <td>0.0</td>\n      <td>0.043725</td>\n      <td>0.000000</td>\n    </tr>\n    <tr>\n      <th>3</th>\n      <td>175.5589</td>\n      <td>20771</td>\n      <td>left</td>\n      <td>2</td>\n      <td>-176.1160</td>\n      <td>238.6726</td>\n      <td>95.89357</td>\n      <td>-62.86600</td>\n      <td>36.26385</td>\n      <td>23.44059</td>\n      <td>1.609235</td>\n      <td>1.553108</td>\n      <td>2.964649</td>\n      <td>-181.2218</td>\n      <td>170.0441</td>\n      <td>87.60751</td>\n      <td>-249.6812</td>\n      <td>-63.45592</td>\n      <td>131.5742</td>\n      <td>0.0</td>\n      <td>0.926086</td>\n      <td>0.472969</td>\n    </tr>\n    <tr>\n      <th>4</th>\n      <td>175.5755</td>\n      <td>20773</td>\n      <td>right</td>\n      <td>2</td>\n      <td>137.8546</td>\n      <td>158.4656</td>\n      <td>-32.12399</td>\n      <td>-208.59670</td>\n      <td>-10.16733</td>\n      <td>226.08150</td>\n      <td>0.308624</td>\n      <td>-0.081112</td>\n      <td>-0.695048</td>\n      <td>185.9733</td>\n      <td>144.8633</td>\n      <td>16.12182</td>\n      <td>321.1910</td>\n      <td>46.51823</td>\n      <td>198.2933</td>\n      <td>0.0</td>\n      <td>0.105092</td>\n      <td>0.000000</td>\n    </tr>\n  </tbody>\n</table>\n</div>"
     },
     "execution_count": 104,
     "metadata": {},
     "output_type": "execute_result"
    }
   ],
   "source": [
    "spontan.head()"
   ],
   "metadata": {
    "collapsed": false,
    "pycharm": {
     "name": "#%%\n"
    }
   }
  },
  {
   "cell_type": "code",
   "execution_count": 105,
   "outputs": [
    {
     "data": {
      "text/plain": "(8773, 22)"
     },
     "execution_count": 105,
     "metadata": {},
     "output_type": "execute_result"
    }
   ],
   "source": [
    "spontan.shape"
   ],
   "metadata": {
    "collapsed": false,
    "pycharm": {
     "name": "#%%\n"
    }
   }
  },
  {
   "cell_type": "code",
   "execution_count": 106,
   "outputs": [
    {
     "name": "stdout",
     "output_type": "stream",
     "text": [
      "<class 'pandas.core.frame.DataFrame'>\n",
      "RangeIndex: 8773 entries, 0 to 8772\n",
      "Data columns (total 22 columns):\n",
      " #   Column           Non-Null Count  Dtype  \n",
      "---  ------           --------------  -----  \n",
      " 0   Time             8773 non-null   float64\n",
      " 1    Frame ID        8773 non-null   int64  \n",
      " 2    Hand Type       8773 non-null   object \n",
      " 3    # hands         8773 non-null   int64  \n",
      " 4    Position X      8773 non-null   float64\n",
      " 5    Position Y      8773 non-null   float64\n",
      " 6    Position Z      8773 non-null   float64\n",
      " 7    Velocity X      8773 non-null   float64\n",
      " 8    Velocity Y      8773 non-null   float64\n",
      " 9    Velocity Z      8773 non-null   float64\n",
      " 10   Pitch           8773 non-null   float64\n",
      " 11   Roll            8773 non-null   float64\n",
      " 12   Yaw             8773 non-null   float64\n",
      " 13   Wrist Pos X     8773 non-null   float64\n",
      " 14   Wrist Pos Y     8773 non-null   float64\n",
      " 15   Wrist Pos Z     8773 non-null   float64\n",
      " 16   Elbow pos X     8773 non-null   float64\n",
      " 17   Elbow Pos Y     8773 non-null   float64\n",
      " 18   Elbow Pos Z     8773 non-null   float64\n",
      " 19   Grab Strenth    8773 non-null   float64\n",
      " 20   Grab Angle      8773 non-null   float64\n",
      " 21   Pinch Strength  8773 non-null   float64\n",
      "dtypes: float64(19), int64(2), object(1)\n",
      "memory usage: 1.5+ MB\n"
     ]
    }
   ],
   "source": [
    "spontan.info()"
   ],
   "metadata": {
    "collapsed": false,
    "pycharm": {
     "name": "#%%\n"
    }
   }
  },
  {
   "cell_type": "code",
   "execution_count": 107,
   "outputs": [
    {
     "data": {
      "text/plain": "Time               0\n Frame ID          0\n Hand Type         0\n # hands           0\n Position X        0\n Position Y        0\n Position Z        0\n Velocity X        0\n Velocity Y        0\n Velocity Z        0\n Pitch             0\n Roll              0\n Yaw               0\n Wrist Pos X       0\n Wrist Pos Y       0\n Wrist Pos Z       0\n Elbow pos X       0\n Elbow Pos Y       0\n Elbow Pos Z       0\n Grab Strenth      0\n Grab Angle        0\n Pinch Strength    0\ndtype: int64"
     },
     "execution_count": 107,
     "metadata": {},
     "output_type": "execute_result"
    }
   ],
   "source": [
    "spontan.isna().sum()"
   ],
   "metadata": {
    "collapsed": false,
    "pycharm": {
     "name": "#%%\n"
    }
   }
  },
  {
   "cell_type": "code",
   "execution_count": 108,
   "outputs": [
    {
     "data": {
      "text/plain": "2    8492\n1     281\nName:  # hands, dtype: int64"
     },
     "execution_count": 108,
     "metadata": {},
     "output_type": "execute_result"
    }
   ],
   "source": [
    "spontan[\" # hands\"].value_counts()"
   ],
   "metadata": {
    "collapsed": false,
    "pycharm": {
     "name": "#%%\n"
    }
   }
  },
  {
   "cell_type": "code",
   "execution_count": 109,
   "outputs": [
    {
     "data": {
      "text/plain": "right    4527\nleft     4246\nName:  Hand Type, dtype: int64"
     },
     "execution_count": 109,
     "metadata": {},
     "output_type": "execute_result"
    }
   ],
   "source": [
    "spontan[\" Hand Type\"].value_counts()"
   ],
   "metadata": {
    "collapsed": false,
    "pycharm": {
     "name": "#%%\n"
    }
   }
  },
  {
   "cell_type": "code",
   "execution_count": 110,
   "outputs": [
    {
     "data": {
      "text/plain": "       Time   Frame ID  Hand Type   # hands   Position X   Position Y  \\\n0  291.0203      34075      right         2     77.93928     205.6924   \n1  291.0203      34075       left         2   -112.80230     242.7639   \n2  291.0363      34077      right         2     76.83206     203.9094   \n3  291.0363      34077       left         2   -113.04160     242.6686   \n4  291.0529      34079      right         2     74.30998     200.5741   \n\n    Position Z   Velocity X   Velocity Y   Velocity Z     Pitch      Roll  \\\n0    21.990890   -31.144050   -14.796920    124.86100  1.654635 -1.457181   \n1     4.668582     5.713323   -61.391260    -21.03796  1.446623  1.405847   \n2    23.754180   -85.668820  -130.091700     97.13650  1.731422 -1.463139   \n3     4.462260   -14.886850    -3.294883     -9.39946  1.455516  1.406081   \n4    25.159250  -148.608600  -171.942100     72.13271  1.791300 -1.455910   \n\n        Yaw   Wrist Pos X   Wrist Pos Y   Wrist Pos Z   Elbow pos X  \\\n0 -2.149903      96.24556      138.3030     12.827740      229.8921   \n1  0.951937    -131.90310      174.4940      5.223116     -257.7061   \n2 -2.436445      95.74135      137.5909     10.118030      231.0989   \n3  0.982829    -132.17560      174.4122      4.426020     -259.8255   \n4 -2.516997      94.72282      135.5896      8.222761      233.5819   \n\n    Elbow Pos Y   Elbow Pos Z   Grab Strenth   Grab Angle   Pinch Strength  \n0     -68.10480      65.34229            0.0          0.0              0.0  \n1     -42.89592      16.99501            0.0          0.0              0.0  \n2     -67.86788      61.96756            0.0          0.0              0.0  \n3     -41.99683      14.22190            0.0          0.0              0.0  \n4     -67.46499      60.28345            0.0          0.0              0.0  ",
      "text/html": "<div>\n<style scoped>\n    .dataframe tbody tr th:only-of-type {\n        vertical-align: middle;\n    }\n\n    .dataframe tbody tr th {\n        vertical-align: top;\n    }\n\n    .dataframe thead th {\n        text-align: right;\n    }\n</style>\n<table border=\"1\" class=\"dataframe\">\n  <thead>\n    <tr style=\"text-align: right;\">\n      <th></th>\n      <th>Time</th>\n      <th>Frame ID</th>\n      <th>Hand Type</th>\n      <th># hands</th>\n      <th>Position X</th>\n      <th>Position Y</th>\n      <th>Position Z</th>\n      <th>Velocity X</th>\n      <th>Velocity Y</th>\n      <th>Velocity Z</th>\n      <th>Pitch</th>\n      <th>Roll</th>\n      <th>Yaw</th>\n      <th>Wrist Pos X</th>\n      <th>Wrist Pos Y</th>\n      <th>Wrist Pos Z</th>\n      <th>Elbow pos X</th>\n      <th>Elbow Pos Y</th>\n      <th>Elbow Pos Z</th>\n      <th>Grab Strenth</th>\n      <th>Grab Angle</th>\n      <th>Pinch Strength</th>\n    </tr>\n  </thead>\n  <tbody>\n    <tr>\n      <th>0</th>\n      <td>291.0203</td>\n      <td>34075</td>\n      <td>right</td>\n      <td>2</td>\n      <td>77.93928</td>\n      <td>205.6924</td>\n      <td>21.990890</td>\n      <td>-31.144050</td>\n      <td>-14.796920</td>\n      <td>124.86100</td>\n      <td>1.654635</td>\n      <td>-1.457181</td>\n      <td>-2.149903</td>\n      <td>96.24556</td>\n      <td>138.3030</td>\n      <td>12.827740</td>\n      <td>229.8921</td>\n      <td>-68.10480</td>\n      <td>65.34229</td>\n      <td>0.0</td>\n      <td>0.0</td>\n      <td>0.0</td>\n    </tr>\n    <tr>\n      <th>1</th>\n      <td>291.0203</td>\n      <td>34075</td>\n      <td>left</td>\n      <td>2</td>\n      <td>-112.80230</td>\n      <td>242.7639</td>\n      <td>4.668582</td>\n      <td>5.713323</td>\n      <td>-61.391260</td>\n      <td>-21.03796</td>\n      <td>1.446623</td>\n      <td>1.405847</td>\n      <td>0.951937</td>\n      <td>-131.90310</td>\n      <td>174.4940</td>\n      <td>5.223116</td>\n      <td>-257.7061</td>\n      <td>-42.89592</td>\n      <td>16.99501</td>\n      <td>0.0</td>\n      <td>0.0</td>\n      <td>0.0</td>\n    </tr>\n    <tr>\n      <th>2</th>\n      <td>291.0363</td>\n      <td>34077</td>\n      <td>right</td>\n      <td>2</td>\n      <td>76.83206</td>\n      <td>203.9094</td>\n      <td>23.754180</td>\n      <td>-85.668820</td>\n      <td>-130.091700</td>\n      <td>97.13650</td>\n      <td>1.731422</td>\n      <td>-1.463139</td>\n      <td>-2.436445</td>\n      <td>95.74135</td>\n      <td>137.5909</td>\n      <td>10.118030</td>\n      <td>231.0989</td>\n      <td>-67.86788</td>\n      <td>61.96756</td>\n      <td>0.0</td>\n      <td>0.0</td>\n      <td>0.0</td>\n    </tr>\n    <tr>\n      <th>3</th>\n      <td>291.0363</td>\n      <td>34077</td>\n      <td>left</td>\n      <td>2</td>\n      <td>-113.04160</td>\n      <td>242.6686</td>\n      <td>4.462260</td>\n      <td>-14.886850</td>\n      <td>-3.294883</td>\n      <td>-9.39946</td>\n      <td>1.455516</td>\n      <td>1.406081</td>\n      <td>0.982829</td>\n      <td>-132.17560</td>\n      <td>174.4122</td>\n      <td>4.426020</td>\n      <td>-259.8255</td>\n      <td>-41.99683</td>\n      <td>14.22190</td>\n      <td>0.0</td>\n      <td>0.0</td>\n      <td>0.0</td>\n    </tr>\n    <tr>\n      <th>4</th>\n      <td>291.0529</td>\n      <td>34079</td>\n      <td>right</td>\n      <td>2</td>\n      <td>74.30998</td>\n      <td>200.5741</td>\n      <td>25.159250</td>\n      <td>-148.608600</td>\n      <td>-171.942100</td>\n      <td>72.13271</td>\n      <td>1.791300</td>\n      <td>-1.455910</td>\n      <td>-2.516997</td>\n      <td>94.72282</td>\n      <td>135.5896</td>\n      <td>8.222761</td>\n      <td>233.5819</td>\n      <td>-67.46499</td>\n      <td>60.28345</td>\n      <td>0.0</td>\n      <td>0.0</td>\n      <td>0.0</td>\n    </tr>\n  </tbody>\n</table>\n</div>"
     },
     "execution_count": 110,
     "metadata": {},
     "output_type": "execute_result"
    }
   ],
   "source": [
    "sync.head()"
   ],
   "metadata": {
    "collapsed": false,
    "pycharm": {
     "name": "#%%\n"
    }
   }
  },
  {
   "cell_type": "code",
   "execution_count": 111,
   "outputs": [
    {
     "data": {
      "text/plain": "(8829, 22)"
     },
     "execution_count": 111,
     "metadata": {},
     "output_type": "execute_result"
    }
   ],
   "source": [
    "sync.shape"
   ],
   "metadata": {
    "collapsed": false,
    "pycharm": {
     "name": "#%%\n"
    }
   }
  },
  {
   "cell_type": "code",
   "execution_count": 112,
   "outputs": [
    {
     "name": "stdout",
     "output_type": "stream",
     "text": [
      "<class 'pandas.core.frame.DataFrame'>\n",
      "RangeIndex: 8829 entries, 0 to 8828\n",
      "Data columns (total 22 columns):\n",
      " #   Column           Non-Null Count  Dtype  \n",
      "---  ------           --------------  -----  \n",
      " 0   Time             8829 non-null   float64\n",
      " 1    Frame ID        8829 non-null   int64  \n",
      " 2    Hand Type       8829 non-null   object \n",
      " 3    # hands         8829 non-null   int64  \n",
      " 4    Position X      8829 non-null   float64\n",
      " 5    Position Y      8829 non-null   float64\n",
      " 6    Position Z      8829 non-null   float64\n",
      " 7    Velocity X      8829 non-null   float64\n",
      " 8    Velocity Y      8829 non-null   float64\n",
      " 9    Velocity Z      8829 non-null   float64\n",
      " 10   Pitch           8829 non-null   float64\n",
      " 11   Roll            8829 non-null   float64\n",
      " 12   Yaw             8829 non-null   float64\n",
      " 13   Wrist Pos X     8829 non-null   float64\n",
      " 14   Wrist Pos Y     8829 non-null   float64\n",
      " 15   Wrist Pos Z     8829 non-null   float64\n",
      " 16   Elbow pos X     8829 non-null   float64\n",
      " 17   Elbow Pos Y     8829 non-null   float64\n",
      " 18   Elbow Pos Z     8829 non-null   float64\n",
      " 19   Grab Strenth    8829 non-null   float64\n",
      " 20   Grab Angle      8829 non-null   float64\n",
      " 21   Pinch Strength  8829 non-null   float64\n",
      "dtypes: float64(19), int64(2), object(1)\n",
      "memory usage: 1.5+ MB\n"
     ]
    }
   ],
   "source": [
    "sync.info()"
   ],
   "metadata": {
    "collapsed": false,
    "pycharm": {
     "name": "#%%\n"
    }
   }
  },
  {
   "cell_type": "code",
   "execution_count": 113,
   "outputs": [
    {
     "data": {
      "text/plain": "Time               0\n Frame ID          0\n Hand Type         0\n # hands           0\n Position X        0\n Position Y        0\n Position Z        0\n Velocity X        0\n Velocity Y        0\n Velocity Z        0\n Pitch             0\n Roll              0\n Yaw               0\n Wrist Pos X       0\n Wrist Pos Y       0\n Wrist Pos Z       0\n Elbow pos X       0\n Elbow Pos Y       0\n Elbow Pos Z       0\n Grab Strenth      0\n Grab Angle        0\n Pinch Strength    0\ndtype: int64"
     },
     "execution_count": 113,
     "metadata": {},
     "output_type": "execute_result"
    }
   ],
   "source": [
    "sync.isna().sum()"
   ],
   "metadata": {
    "collapsed": false,
    "pycharm": {
     "name": "#%%\n"
    }
   }
  },
  {
   "cell_type": "code",
   "execution_count": 114,
   "outputs": [
    {
     "data": {
      "text/plain": "2    8604\n1     225\nName:  # hands, dtype: int64"
     },
     "execution_count": 114,
     "metadata": {},
     "output_type": "execute_result"
    }
   ],
   "source": [
    "sync[\" # hands\"].value_counts()"
   ],
   "metadata": {
    "collapsed": false,
    "pycharm": {
     "name": "#%%\n"
    }
   }
  },
  {
   "cell_type": "code",
   "execution_count": 115,
   "outputs": [
    {
     "data": {
      "text/plain": "right    4527\nleft     4302\nName:  Hand Type, dtype: int64"
     },
     "execution_count": 115,
     "metadata": {},
     "output_type": "execute_result"
    }
   ],
   "source": [
    "sync[\" Hand Type\"].value_counts()"
   ],
   "metadata": {
    "collapsed": false,
    "pycharm": {
     "name": "#%%\n"
    }
   }
  },
  {
   "cell_type": "markdown",
   "source": [
    "Clearly just by looking at a few files the data needs to be cleaned.\n",
    "\n",
    "* Alone has instances with 2 hands and right hand in hand type that need to be removed. Likewise, spontaneous\n",
    "and sync have instances with 1 hand and a mismatch between right and left hands."
   ],
   "metadata": {
    "collapsed": false,
    "pycharm": {
     "name": "#%% md\n"
    }
   }
  },
  {
   "cell_type": "code",
   "execution_count": 170,
   "outputs": [],
   "source": [
    "def remove_first7(df):\n",
    "    return df.drop(df[df[\"Time\"] < df[\"Time\"].min() + 7].index).reset_index(drop=True)"
   ],
   "metadata": {
    "collapsed": false,
    "pycharm": {
     "name": "#%%\n"
    }
   }
  },
  {
   "cell_type": "code",
   "execution_count": 207,
   "outputs": [
    {
     "name": "stdout",
     "output_type": "stream",
     "text": [
      "Before: (4812, 22)\n",
      "(4698, 22)\n",
      "(4277, 22)\n",
      "After: (3893, 22)\n",
      "Null values: 0\n"
     ]
    },
    {
     "data": {
      "text/plain": "       Time   Frame ID  Hand Type   # hands   Position X   Position Y  \\\n0  135.3024      16287      right         1     11.93032     199.9861   \n1  135.3194      16289      right         1     11.19190     195.3075   \n2  135.3357      16291      right         1     10.53308     189.0297   \n3  135.3524      16293      right         1     10.24300     181.9816   \n4  135.3690      16295      right         1     10.02061     174.8592   \n\n    Position Z   Velocity X   Velocity Y   Velocity Z     Pitch      Roll  \\\n0     4.981665   -35.512210    -165.3466    -57.68153 -0.092033  0.108262   \n1     3.661716   -43.587440    -309.8374    -77.18515 -0.111674  0.126925   \n2     2.829388   -30.403600    -363.0033    -43.79815 -0.140004  0.127219   \n3     2.064330   -15.424000    -423.2120    -43.99948 -0.166623  0.122782   \n4     1.228467    -8.733602    -413.4513    -53.88054 -0.197763  0.127587   \n\n        Yaw   Wrist Pos X   Wrist Pos Y   Wrist Pos Z   Elbow pos X  \\\n0 -0.906612      75.45740      206.0521      45.38764      284.3946   \n1 -0.904311      74.46141      202.4562      44.28679      282.6278   \n2 -0.901862      73.60060      197.4387      43.54082      280.6384   \n3 -0.901268      73.19537      191.7202      42.73155      279.7357   \n4 -0.897777      72.68671      186.1613      41.98006      278.6890   \n\n    Elbow Pos Y   Elbow Pos Z   Grab Strenth   Grab Angle   Pinch Strength  \n0      140.0167      201.9318            0.0     0.561324              0.0  \n1      140.9712      203.6773            0.0     0.626321              0.0  \n2      142.5401      206.7526            0.0     0.636596              0.0  \n3      148.1382      209.9330            0.0     0.701644              0.0  \n4      152.5215      212.1112            0.0     0.786548              0.0  ",
      "text/html": "<div>\n<style scoped>\n    .dataframe tbody tr th:only-of-type {\n        vertical-align: middle;\n    }\n\n    .dataframe tbody tr th {\n        vertical-align: top;\n    }\n\n    .dataframe thead th {\n        text-align: right;\n    }\n</style>\n<table border=\"1\" class=\"dataframe\">\n  <thead>\n    <tr style=\"text-align: right;\">\n      <th></th>\n      <th>Time</th>\n      <th>Frame ID</th>\n      <th>Hand Type</th>\n      <th># hands</th>\n      <th>Position X</th>\n      <th>Position Y</th>\n      <th>Position Z</th>\n      <th>Velocity X</th>\n      <th>Velocity Y</th>\n      <th>Velocity Z</th>\n      <th>Pitch</th>\n      <th>Roll</th>\n      <th>Yaw</th>\n      <th>Wrist Pos X</th>\n      <th>Wrist Pos Y</th>\n      <th>Wrist Pos Z</th>\n      <th>Elbow pos X</th>\n      <th>Elbow Pos Y</th>\n      <th>Elbow Pos Z</th>\n      <th>Grab Strenth</th>\n      <th>Grab Angle</th>\n      <th>Pinch Strength</th>\n    </tr>\n  </thead>\n  <tbody>\n    <tr>\n      <th>0</th>\n      <td>135.3024</td>\n      <td>16287</td>\n      <td>right</td>\n      <td>1</td>\n      <td>11.93032</td>\n      <td>199.9861</td>\n      <td>4.981665</td>\n      <td>-35.512210</td>\n      <td>-165.3466</td>\n      <td>-57.68153</td>\n      <td>-0.092033</td>\n      <td>0.108262</td>\n      <td>-0.906612</td>\n      <td>75.45740</td>\n      <td>206.0521</td>\n      <td>45.38764</td>\n      <td>284.3946</td>\n      <td>140.0167</td>\n      <td>201.9318</td>\n      <td>0.0</td>\n      <td>0.561324</td>\n      <td>0.0</td>\n    </tr>\n    <tr>\n      <th>1</th>\n      <td>135.3194</td>\n      <td>16289</td>\n      <td>right</td>\n      <td>1</td>\n      <td>11.19190</td>\n      <td>195.3075</td>\n      <td>3.661716</td>\n      <td>-43.587440</td>\n      <td>-309.8374</td>\n      <td>-77.18515</td>\n      <td>-0.111674</td>\n      <td>0.126925</td>\n      <td>-0.904311</td>\n      <td>74.46141</td>\n      <td>202.4562</td>\n      <td>44.28679</td>\n      <td>282.6278</td>\n      <td>140.9712</td>\n      <td>203.6773</td>\n      <td>0.0</td>\n      <td>0.626321</td>\n      <td>0.0</td>\n    </tr>\n    <tr>\n      <th>2</th>\n      <td>135.3357</td>\n      <td>16291</td>\n      <td>right</td>\n      <td>1</td>\n      <td>10.53308</td>\n      <td>189.0297</td>\n      <td>2.829388</td>\n      <td>-30.403600</td>\n      <td>-363.0033</td>\n      <td>-43.79815</td>\n      <td>-0.140004</td>\n      <td>0.127219</td>\n      <td>-0.901862</td>\n      <td>73.60060</td>\n      <td>197.4387</td>\n      <td>43.54082</td>\n      <td>280.6384</td>\n      <td>142.5401</td>\n      <td>206.7526</td>\n      <td>0.0</td>\n      <td>0.636596</td>\n      <td>0.0</td>\n    </tr>\n    <tr>\n      <th>3</th>\n      <td>135.3524</td>\n      <td>16293</td>\n      <td>right</td>\n      <td>1</td>\n      <td>10.24300</td>\n      <td>181.9816</td>\n      <td>2.064330</td>\n      <td>-15.424000</td>\n      <td>-423.2120</td>\n      <td>-43.99948</td>\n      <td>-0.166623</td>\n      <td>0.122782</td>\n      <td>-0.901268</td>\n      <td>73.19537</td>\n      <td>191.7202</td>\n      <td>42.73155</td>\n      <td>279.7357</td>\n      <td>148.1382</td>\n      <td>209.9330</td>\n      <td>0.0</td>\n      <td>0.701644</td>\n      <td>0.0</td>\n    </tr>\n    <tr>\n      <th>4</th>\n      <td>135.3690</td>\n      <td>16295</td>\n      <td>right</td>\n      <td>1</td>\n      <td>10.02061</td>\n      <td>174.8592</td>\n      <td>1.228467</td>\n      <td>-8.733602</td>\n      <td>-413.4513</td>\n      <td>-53.88054</td>\n      <td>-0.197763</td>\n      <td>0.127587</td>\n      <td>-0.897777</td>\n      <td>72.68671</td>\n      <td>186.1613</td>\n      <td>41.98006</td>\n      <td>278.6890</td>\n      <td>152.5215</td>\n      <td>212.1112</td>\n      <td>0.0</td>\n      <td>0.786548</td>\n      <td>0.0</td>\n    </tr>\n  </tbody>\n</table>\n</div>"
     },
     "execution_count": 207,
     "metadata": {},
     "output_type": "execute_result"
    }
   ],
   "source": [
    "print(\"Before:\", handright.shape)\n",
    "handright_prepared = handright.drop(handright[(handright[\" Hand Type\"]==\"left\") | (handright[\" # hands\"]==2)].index)\n",
    "print(handright_prepared.shape)\n",
    "handright_prepared = remove_first7(handright_prepared) # right hand file without first 7 seconds\n",
    "print(handright_prepared.shape)\n",
    "handright_prepared.dropna(inplace=True)\n",
    "print(\"After:\", handright_prepared.shape)\n",
    "print(\"Null values:\", handright_prepared.isna().sum().sum())\n",
    "handright_prepared.head()"
   ],
   "metadata": {
    "collapsed": false,
    "pycharm": {
     "name": "#%%\n"
    }
   }
  },
  {
   "cell_type": "code",
   "execution_count": 208,
   "outputs": [
    {
     "data": {
      "text/plain": "Time                 0\n Frame ID            0\n Hand Type           0\n # hands             0\n Position X          0\n Position Y          0\n Position Z          0\n Velocity X          0\n Velocity Y          0\n Velocity Z          0\n Pitch               0\n Roll                0\n Yaw                 0\n Wrist Pos X       384\n Wrist Pos Y       384\n Wrist Pos Z       384\n Elbow pos X       384\n Elbow Pos Y       384\n Elbow Pos Z       384\n Grab Strenth        0\n Grab Angle          0\n Pinch Strength      0\ndtype: int64"
     },
     "execution_count": 208,
     "metadata": {},
     "output_type": "execute_result"
    }
   ],
   "source": [
    "handright.isna().sum()"
   ],
   "metadata": {
    "collapsed": false,
    "pycharm": {
     "name": "#%%\n"
    }
   }
  },
  {
   "cell_type": "code",
   "execution_count": 201,
   "outputs": [],
   "source": [
    "def combine_right(df_alone):\n",
    "    left = df_alone.drop(df_alone[(df_alone[\" Hand Type\"]==\"right\") | (df_alone[\" # hands\"]==2)].index).reset_index(drop=True)\n",
    "    left = remove_first7(left)\n",
    "    left.dropna(inplace=True)\n",
    "    if len(left) > len(handright_prepared):\n",
    "        right = handright_prepared[:len(left)].copy()\n",
    "    else:\n",
    "        diff = len(handright_prepared) - len(left)\n",
    "        left = left.drop(left[:diff].index).reset_index(drop=True)\n",
    "        right = handright_prepared[:len(left)].copy()\n",
    "    right.Time = left.Time\n",
    "    right[\" Frame ID\"] = left[\" Frame ID\"]\n",
    "    merged = right.merge(left, how=\"outer\").sort_values(\"Time\").reset_index(drop=True)\n",
    "    merged[\" # hands\"] = 2\n",
    "    return merged\n",
    "\n",
    "def transform_columns(df):\n",
    "    # strip removes white spaces in the beginning and end\n",
    "    # lower changes uppercase letters to lowercase\n",
    "    df.columns = df.columns.str.strip().str.lower()\n",
    "    # rename columns without spaces\n",
    "    df.columns = df.columns.str.replace(\" \", \"_\")\n",
    "    # change number of hands column name\n",
    "    df.columns = df.columns.str.replace(\"#_hands\", \"n_hands\")\n",
    "\n",
    "    # remove instances with 1 hand detected\n",
    "    df.drop(df[df[\"n_hands\"] == 1].index, inplace=True)\n",
    "\n",
    "    # merge right and left hands into one row\n",
    "    left = df.groupby(\"hand_type\").get_group(\"left\").drop([\"hand_type\", \"n_hands\"], axis=1)\n",
    "    right = df.groupby(\"hand_type\").get_group(\"right\").drop([\"hand_type\", \"n_hands\"], axis=1)\n",
    "    keep_same = {\"state\", \"time\", \"frame_id\"}\n",
    "    left.columns = left.columns.map(lambda x: x if x in keep_same else x + \"_left\")\n",
    "    right.columns = right.columns.map(lambda x: x if x in keep_same else x + \"_right\")\n",
    "    merged = left.merge(right, how=\"outer\", on=[\"state\", \"time\", \"frame_id\"]).drop(\"frame_id\", axis=1)\n",
    "    return merged"
   ],
   "metadata": {
    "collapsed": false,
    "pycharm": {
     "name": "#%%\n"
    }
   }
  },
  {
   "cell_type": "code",
   "execution_count": 202,
   "outputs": [],
   "source": [
    "training_data = []\n",
    "validation_data = []\n",
    "training_path = \"extraFiles/Training\"\n",
    "training_dirs = glob.glob(training_path + \"/*\")\n",
    "\n",
    "for dir in training_dirs:\n",
    "    training_files = glob.glob(dir + \"/*.csv\")\n",
    "    for filename in training_files:\n",
    "        df = pd.read_csv(filename, index_col=None, header=0)\n",
    "        if \"Alone\" in filename:\n",
    "            df = combine_right(df)\n",
    "            df.insert(0, \"state\", 0)\n",
    "        elif \"Sync\" in filename:\n",
    "            df.insert(0, \"state\", 1)\n",
    "        elif \"Spontan\" in filename:\n",
    "            df.insert(0, \"state\", 2)\n",
    "        df = transform_columns(df)\n",
    "        training_data.append(df)\n",
    "\n",
    "# frame = pd.concat(training_data, axis=0, ignore_index=True)"
   ],
   "metadata": {
    "collapsed": false,
    "pycharm": {
     "name": "#%%\n"
    }
   }
  },
  {
   "cell_type": "code",
   "execution_count": 204,
   "outputs": [
    {
     "data": {
      "text/plain": "      state      time  position_x_left  position_y_left  position_z_left  \\\n0         0  525.8185        -52.96039         184.5535        -2.856696   \n1         0  525.8351        -50.04434         185.5024        -4.845364   \n2         0  525.8516        -49.07749         182.2930        -6.442950   \n3         0  525.8682        -50.89614         176.7708        -9.005262   \n4         0  525.8848        -51.76074         174.1853       -10.600340   \n...     ...       ...              ...              ...              ...   \n4098      0  593.7177        -44.79453         123.7657        -6.241947   \n4099      0  593.7343        -40.77390         126.7342        -3.452266   \n4100      0  593.7509        -38.56184         127.6858        -2.086977   \n4101      0  593.7681        -35.88303         132.9386         0.526575   \n4102      0  593.7840        -33.63328         139.4063         2.912675   \n\n      velocity_x_left  velocity_y_left  velocity_z_left  pitch_left  \\\n0           162.15270        127.60520        -85.83782    1.238877   \n1           102.82480        -24.84337        -79.46504    1.244299   \n2            12.12360       -258.75260        -99.40902    1.220772   \n3           -53.57292       -271.01500       -143.03330    1.096965   \n4           -40.95883       -140.44390        -59.85620    1.004597   \n...               ...              ...              ...         ...   \n4098        274.44630        106.78920        125.05260    1.234747   \n4099        223.52940        209.72390        160.24900    1.265178   \n4100        254.93310        109.66130        157.34590    1.279585   \n4101        185.86870        204.98220        154.04880    1.299061   \n4102        119.74400        382.61350        141.81010    1.315801   \n\n      roll_left  yaw_left  wrist_pos_x_left  wrist_pos_y_left  \\\n0      1.021919  1.199751        -101.04550          132.5940   \n1      1.132981  1.171960         -95.51471          131.5824   \n2      1.250050  1.152816         -94.32024          128.7403   \n3      1.535388  1.114818         -99.72611          127.6519   \n4      1.760037  1.091361        -102.66840          128.2257   \n...         ...       ...               ...               ...   \n4098   0.282478  1.476095        -114.52440          107.5486   \n4099   0.283400  1.484591        -110.50080          110.7256   \n4100   0.280169  1.489703        -108.34430          111.9989   \n4101   0.298048  1.489702        -105.43440          116.3043   \n4102   0.334827  1.484309        -102.64750          120.6218   \n\n      wrist_pos_z_left  elbow_pos_x_left  elbow_pos_y_left  elbow_pos_z_left  \\\n0             4.449887         -307.7127        -12.177800          5.125422   \n1             2.853924         -313.0367          3.746006         -0.704697   \n2             2.742160         -322.1467         20.402740         -2.617105   \n3             5.047988         -331.5826         28.883190         -7.521224   \n4             6.734126         -333.9562         27.848030         -3.312394   \n...                ...               ...               ...               ...   \n4098         -6.354107         -354.6525         41.165710         45.739930   \n4099         -3.791958         -351.3217         53.684260         55.643090   \n4100         -2.676469         -349.8930         59.758350         58.190420   \n4101          0.041351         -346.9033         66.470160         63.191740   \n4102          2.738251         -343.8961         69.921010         66.053760   \n\n      grab_strenth_left  grab_angle_left  pinch_strength_left  \\\n0                   0.0         0.073635                  0.0   \n1                   0.0         0.018766                  0.0   \n2                   0.0         0.018409                  0.0   \n3                   0.0         0.149852                  0.0   \n4                   0.0         0.242324                  0.0   \n...                 ...              ...                  ...   \n4098                0.0         0.401728                  0.0   \n4099                0.0         0.190267                  0.0   \n4100                0.0         0.042665                  0.0   \n4101                0.0         0.000000                  0.0   \n4102                0.0         0.000000                  0.0   \n\n      position_x_right  position_y_right  position_z_right  velocity_x_right  \\\n0             11.93032          199.9861          4.981665        -35.512210   \n1             11.19190          195.3075          3.661716        -43.587440   \n2             10.53308          189.0297          2.829388        -30.403600   \n3             10.24300          181.9816          2.064330        -15.424000   \n4             10.02061          174.8592          1.228467         -8.733602   \n...                ...               ...               ...               ...   \n4098               NaN               NaN               NaN               NaN   \n4099               NaN               NaN               NaN               NaN   \n4100               NaN               NaN               NaN               NaN   \n4101               NaN               NaN               NaN               NaN   \n4102               NaN               NaN               NaN               NaN   \n\n      velocity_y_right  velocity_z_right  pitch_right  roll_right  yaw_right  \\\n0            -165.3466         -57.68153    -0.092033    0.108262  -0.906612   \n1            -309.8374         -77.18515    -0.111674    0.126925  -0.904311   \n2            -363.0033         -43.79815    -0.140004    0.127219  -0.901862   \n3            -423.2120         -43.99948    -0.166623    0.122782  -0.901268   \n4            -413.4513         -53.88054    -0.197763    0.127587  -0.897777   \n...                ...               ...          ...         ...        ...   \n4098               NaN               NaN          NaN         NaN        NaN   \n4099               NaN               NaN          NaN         NaN        NaN   \n4100               NaN               NaN          NaN         NaN        NaN   \n4101               NaN               NaN          NaN         NaN        NaN   \n4102               NaN               NaN          NaN         NaN        NaN   \n\n      wrist_pos_x_right  wrist_pos_y_right  wrist_pos_z_right  \\\n0              75.45740           206.0521           45.38764   \n1              74.46141           202.4562           44.28679   \n2              73.60060           197.4387           43.54082   \n3              73.19537           191.7202           42.73155   \n4              72.68671           186.1613           41.98006   \n...                 ...                ...                ...   \n4098                NaN                NaN                NaN   \n4099                NaN                NaN                NaN   \n4100                NaN                NaN                NaN   \n4101                NaN                NaN                NaN   \n4102                NaN                NaN                NaN   \n\n      elbow_pos_x_right  elbow_pos_y_right  elbow_pos_z_right  \\\n0              284.3946           140.0167           201.9318   \n1              282.6278           140.9712           203.6773   \n2              280.6384           142.5401           206.7526   \n3              279.7357           148.1382           209.9330   \n4              278.6890           152.5215           212.1112   \n...                 ...                ...                ...   \n4098                NaN                NaN                NaN   \n4099                NaN                NaN                NaN   \n4100                NaN                NaN                NaN   \n4101                NaN                NaN                NaN   \n4102                NaN                NaN                NaN   \n\n      grab_strenth_right  grab_angle_right  pinch_strength_right  \n0                    0.0          0.561324                   0.0  \n1                    0.0          0.626321                   0.0  \n2                    0.0          0.636596                   0.0  \n3                    0.0          0.701644                   0.0  \n4                    0.0          0.786548                   0.0  \n...                  ...               ...                   ...  \n4098                 NaN               NaN                   NaN  \n4099                 NaN               NaN                   NaN  \n4100                 NaN               NaN                   NaN  \n4101                 NaN               NaN                   NaN  \n4102                 NaN               NaN                   NaN  \n\n[4103 rows x 38 columns]",
      "text/html": "<div>\n<style scoped>\n    .dataframe tbody tr th:only-of-type {\n        vertical-align: middle;\n    }\n\n    .dataframe tbody tr th {\n        vertical-align: top;\n    }\n\n    .dataframe thead th {\n        text-align: right;\n    }\n</style>\n<table border=\"1\" class=\"dataframe\">\n  <thead>\n    <tr style=\"text-align: right;\">\n      <th></th>\n      <th>state</th>\n      <th>time</th>\n      <th>position_x_left</th>\n      <th>position_y_left</th>\n      <th>position_z_left</th>\n      <th>velocity_x_left</th>\n      <th>velocity_y_left</th>\n      <th>velocity_z_left</th>\n      <th>pitch_left</th>\n      <th>roll_left</th>\n      <th>yaw_left</th>\n      <th>wrist_pos_x_left</th>\n      <th>wrist_pos_y_left</th>\n      <th>wrist_pos_z_left</th>\n      <th>elbow_pos_x_left</th>\n      <th>elbow_pos_y_left</th>\n      <th>elbow_pos_z_left</th>\n      <th>grab_strenth_left</th>\n      <th>grab_angle_left</th>\n      <th>pinch_strength_left</th>\n      <th>position_x_right</th>\n      <th>position_y_right</th>\n      <th>position_z_right</th>\n      <th>velocity_x_right</th>\n      <th>velocity_y_right</th>\n      <th>velocity_z_right</th>\n      <th>pitch_right</th>\n      <th>roll_right</th>\n      <th>yaw_right</th>\n      <th>wrist_pos_x_right</th>\n      <th>wrist_pos_y_right</th>\n      <th>wrist_pos_z_right</th>\n      <th>elbow_pos_x_right</th>\n      <th>elbow_pos_y_right</th>\n      <th>elbow_pos_z_right</th>\n      <th>grab_strenth_right</th>\n      <th>grab_angle_right</th>\n      <th>pinch_strength_right</th>\n    </tr>\n  </thead>\n  <tbody>\n    <tr>\n      <th>0</th>\n      <td>0</td>\n      <td>525.8185</td>\n      <td>-52.96039</td>\n      <td>184.5535</td>\n      <td>-2.856696</td>\n      <td>162.15270</td>\n      <td>127.60520</td>\n      <td>-85.83782</td>\n      <td>1.238877</td>\n      <td>1.021919</td>\n      <td>1.199751</td>\n      <td>-101.04550</td>\n      <td>132.5940</td>\n      <td>4.449887</td>\n      <td>-307.7127</td>\n      <td>-12.177800</td>\n      <td>5.125422</td>\n      <td>0.0</td>\n      <td>0.073635</td>\n      <td>0.0</td>\n      <td>11.93032</td>\n      <td>199.9861</td>\n      <td>4.981665</td>\n      <td>-35.512210</td>\n      <td>-165.3466</td>\n      <td>-57.68153</td>\n      <td>-0.092033</td>\n      <td>0.108262</td>\n      <td>-0.906612</td>\n      <td>75.45740</td>\n      <td>206.0521</td>\n      <td>45.38764</td>\n      <td>284.3946</td>\n      <td>140.0167</td>\n      <td>201.9318</td>\n      <td>0.0</td>\n      <td>0.561324</td>\n      <td>0.0</td>\n    </tr>\n    <tr>\n      <th>1</th>\n      <td>0</td>\n      <td>525.8351</td>\n      <td>-50.04434</td>\n      <td>185.5024</td>\n      <td>-4.845364</td>\n      <td>102.82480</td>\n      <td>-24.84337</td>\n      <td>-79.46504</td>\n      <td>1.244299</td>\n      <td>1.132981</td>\n      <td>1.171960</td>\n      <td>-95.51471</td>\n      <td>131.5824</td>\n      <td>2.853924</td>\n      <td>-313.0367</td>\n      <td>3.746006</td>\n      <td>-0.704697</td>\n      <td>0.0</td>\n      <td>0.018766</td>\n      <td>0.0</td>\n      <td>11.19190</td>\n      <td>195.3075</td>\n      <td>3.661716</td>\n      <td>-43.587440</td>\n      <td>-309.8374</td>\n      <td>-77.18515</td>\n      <td>-0.111674</td>\n      <td>0.126925</td>\n      <td>-0.904311</td>\n      <td>74.46141</td>\n      <td>202.4562</td>\n      <td>44.28679</td>\n      <td>282.6278</td>\n      <td>140.9712</td>\n      <td>203.6773</td>\n      <td>0.0</td>\n      <td>0.626321</td>\n      <td>0.0</td>\n    </tr>\n    <tr>\n      <th>2</th>\n      <td>0</td>\n      <td>525.8516</td>\n      <td>-49.07749</td>\n      <td>182.2930</td>\n      <td>-6.442950</td>\n      <td>12.12360</td>\n      <td>-258.75260</td>\n      <td>-99.40902</td>\n      <td>1.220772</td>\n      <td>1.250050</td>\n      <td>1.152816</td>\n      <td>-94.32024</td>\n      <td>128.7403</td>\n      <td>2.742160</td>\n      <td>-322.1467</td>\n      <td>20.402740</td>\n      <td>-2.617105</td>\n      <td>0.0</td>\n      <td>0.018409</td>\n      <td>0.0</td>\n      <td>10.53308</td>\n      <td>189.0297</td>\n      <td>2.829388</td>\n      <td>-30.403600</td>\n      <td>-363.0033</td>\n      <td>-43.79815</td>\n      <td>-0.140004</td>\n      <td>0.127219</td>\n      <td>-0.901862</td>\n      <td>73.60060</td>\n      <td>197.4387</td>\n      <td>43.54082</td>\n      <td>280.6384</td>\n      <td>142.5401</td>\n      <td>206.7526</td>\n      <td>0.0</td>\n      <td>0.636596</td>\n      <td>0.0</td>\n    </tr>\n    <tr>\n      <th>3</th>\n      <td>0</td>\n      <td>525.8682</td>\n      <td>-50.89614</td>\n      <td>176.7708</td>\n      <td>-9.005262</td>\n      <td>-53.57292</td>\n      <td>-271.01500</td>\n      <td>-143.03330</td>\n      <td>1.096965</td>\n      <td>1.535388</td>\n      <td>1.114818</td>\n      <td>-99.72611</td>\n      <td>127.6519</td>\n      <td>5.047988</td>\n      <td>-331.5826</td>\n      <td>28.883190</td>\n      <td>-7.521224</td>\n      <td>0.0</td>\n      <td>0.149852</td>\n      <td>0.0</td>\n      <td>10.24300</td>\n      <td>181.9816</td>\n      <td>2.064330</td>\n      <td>-15.424000</td>\n      <td>-423.2120</td>\n      <td>-43.99948</td>\n      <td>-0.166623</td>\n      <td>0.122782</td>\n      <td>-0.901268</td>\n      <td>73.19537</td>\n      <td>191.7202</td>\n      <td>42.73155</td>\n      <td>279.7357</td>\n      <td>148.1382</td>\n      <td>209.9330</td>\n      <td>0.0</td>\n      <td>0.701644</td>\n      <td>0.0</td>\n    </tr>\n    <tr>\n      <th>4</th>\n      <td>0</td>\n      <td>525.8848</td>\n      <td>-51.76074</td>\n      <td>174.1853</td>\n      <td>-10.600340</td>\n      <td>-40.95883</td>\n      <td>-140.44390</td>\n      <td>-59.85620</td>\n      <td>1.004597</td>\n      <td>1.760037</td>\n      <td>1.091361</td>\n      <td>-102.66840</td>\n      <td>128.2257</td>\n      <td>6.734126</td>\n      <td>-333.9562</td>\n      <td>27.848030</td>\n      <td>-3.312394</td>\n      <td>0.0</td>\n      <td>0.242324</td>\n      <td>0.0</td>\n      <td>10.02061</td>\n      <td>174.8592</td>\n      <td>1.228467</td>\n      <td>-8.733602</td>\n      <td>-413.4513</td>\n      <td>-53.88054</td>\n      <td>-0.197763</td>\n      <td>0.127587</td>\n      <td>-0.897777</td>\n      <td>72.68671</td>\n      <td>186.1613</td>\n      <td>41.98006</td>\n      <td>278.6890</td>\n      <td>152.5215</td>\n      <td>212.1112</td>\n      <td>0.0</td>\n      <td>0.786548</td>\n      <td>0.0</td>\n    </tr>\n    <tr>\n      <th>...</th>\n      <td>...</td>\n      <td>...</td>\n      <td>...</td>\n      <td>...</td>\n      <td>...</td>\n      <td>...</td>\n      <td>...</td>\n      <td>...</td>\n      <td>...</td>\n      <td>...</td>\n      <td>...</td>\n      <td>...</td>\n      <td>...</td>\n      <td>...</td>\n      <td>...</td>\n      <td>...</td>\n      <td>...</td>\n      <td>...</td>\n      <td>...</td>\n      <td>...</td>\n      <td>...</td>\n      <td>...</td>\n      <td>...</td>\n      <td>...</td>\n      <td>...</td>\n      <td>...</td>\n      <td>...</td>\n      <td>...</td>\n      <td>...</td>\n      <td>...</td>\n      <td>...</td>\n      <td>...</td>\n      <td>...</td>\n      <td>...</td>\n      <td>...</td>\n      <td>...</td>\n      <td>...</td>\n      <td>...</td>\n    </tr>\n    <tr>\n      <th>4098</th>\n      <td>0</td>\n      <td>593.7177</td>\n      <td>-44.79453</td>\n      <td>123.7657</td>\n      <td>-6.241947</td>\n      <td>274.44630</td>\n      <td>106.78920</td>\n      <td>125.05260</td>\n      <td>1.234747</td>\n      <td>0.282478</td>\n      <td>1.476095</td>\n      <td>-114.52440</td>\n      <td>107.5486</td>\n      <td>-6.354107</td>\n      <td>-354.6525</td>\n      <td>41.165710</td>\n      <td>45.739930</td>\n      <td>0.0</td>\n      <td>0.401728</td>\n      <td>0.0</td>\n      <td>NaN</td>\n      <td>NaN</td>\n      <td>NaN</td>\n      <td>NaN</td>\n      <td>NaN</td>\n      <td>NaN</td>\n      <td>NaN</td>\n      <td>NaN</td>\n      <td>NaN</td>\n      <td>NaN</td>\n      <td>NaN</td>\n      <td>NaN</td>\n      <td>NaN</td>\n      <td>NaN</td>\n      <td>NaN</td>\n      <td>NaN</td>\n      <td>NaN</td>\n      <td>NaN</td>\n    </tr>\n    <tr>\n      <th>4099</th>\n      <td>0</td>\n      <td>593.7343</td>\n      <td>-40.77390</td>\n      <td>126.7342</td>\n      <td>-3.452266</td>\n      <td>223.52940</td>\n      <td>209.72390</td>\n      <td>160.24900</td>\n      <td>1.265178</td>\n      <td>0.283400</td>\n      <td>1.484591</td>\n      <td>-110.50080</td>\n      <td>110.7256</td>\n      <td>-3.791958</td>\n      <td>-351.3217</td>\n      <td>53.684260</td>\n      <td>55.643090</td>\n      <td>0.0</td>\n      <td>0.190267</td>\n      <td>0.0</td>\n      <td>NaN</td>\n      <td>NaN</td>\n      <td>NaN</td>\n      <td>NaN</td>\n      <td>NaN</td>\n      <td>NaN</td>\n      <td>NaN</td>\n      <td>NaN</td>\n      <td>NaN</td>\n      <td>NaN</td>\n      <td>NaN</td>\n      <td>NaN</td>\n      <td>NaN</td>\n      <td>NaN</td>\n      <td>NaN</td>\n      <td>NaN</td>\n      <td>NaN</td>\n      <td>NaN</td>\n    </tr>\n    <tr>\n      <th>4100</th>\n      <td>0</td>\n      <td>593.7509</td>\n      <td>-38.56184</td>\n      <td>127.6858</td>\n      <td>-2.086977</td>\n      <td>254.93310</td>\n      <td>109.66130</td>\n      <td>157.34590</td>\n      <td>1.279585</td>\n      <td>0.280169</td>\n      <td>1.489703</td>\n      <td>-108.34430</td>\n      <td>111.9989</td>\n      <td>-2.676469</td>\n      <td>-349.8930</td>\n      <td>59.758350</td>\n      <td>58.190420</td>\n      <td>0.0</td>\n      <td>0.042665</td>\n      <td>0.0</td>\n      <td>NaN</td>\n      <td>NaN</td>\n      <td>NaN</td>\n      <td>NaN</td>\n      <td>NaN</td>\n      <td>NaN</td>\n      <td>NaN</td>\n      <td>NaN</td>\n      <td>NaN</td>\n      <td>NaN</td>\n      <td>NaN</td>\n      <td>NaN</td>\n      <td>NaN</td>\n      <td>NaN</td>\n      <td>NaN</td>\n      <td>NaN</td>\n      <td>NaN</td>\n      <td>NaN</td>\n    </tr>\n    <tr>\n      <th>4101</th>\n      <td>0</td>\n      <td>593.7681</td>\n      <td>-35.88303</td>\n      <td>132.9386</td>\n      <td>0.526575</td>\n      <td>185.86870</td>\n      <td>204.98220</td>\n      <td>154.04880</td>\n      <td>1.299061</td>\n      <td>0.298048</td>\n      <td>1.489702</td>\n      <td>-105.43440</td>\n      <td>116.3043</td>\n      <td>0.041351</td>\n      <td>-346.9033</td>\n      <td>66.470160</td>\n      <td>63.191740</td>\n      <td>0.0</td>\n      <td>0.000000</td>\n      <td>0.0</td>\n      <td>NaN</td>\n      <td>NaN</td>\n      <td>NaN</td>\n      <td>NaN</td>\n      <td>NaN</td>\n      <td>NaN</td>\n      <td>NaN</td>\n      <td>NaN</td>\n      <td>NaN</td>\n      <td>NaN</td>\n      <td>NaN</td>\n      <td>NaN</td>\n      <td>NaN</td>\n      <td>NaN</td>\n      <td>NaN</td>\n      <td>NaN</td>\n      <td>NaN</td>\n      <td>NaN</td>\n    </tr>\n    <tr>\n      <th>4102</th>\n      <td>0</td>\n      <td>593.7840</td>\n      <td>-33.63328</td>\n      <td>139.4063</td>\n      <td>2.912675</td>\n      <td>119.74400</td>\n      <td>382.61350</td>\n      <td>141.81010</td>\n      <td>1.315801</td>\n      <td>0.334827</td>\n      <td>1.484309</td>\n      <td>-102.64750</td>\n      <td>120.6218</td>\n      <td>2.738251</td>\n      <td>-343.8961</td>\n      <td>69.921010</td>\n      <td>66.053760</td>\n      <td>0.0</td>\n      <td>0.000000</td>\n      <td>0.0</td>\n      <td>NaN</td>\n      <td>NaN</td>\n      <td>NaN</td>\n      <td>NaN</td>\n      <td>NaN</td>\n      <td>NaN</td>\n      <td>NaN</td>\n      <td>NaN</td>\n      <td>NaN</td>\n      <td>NaN</td>\n      <td>NaN</td>\n      <td>NaN</td>\n      <td>NaN</td>\n      <td>NaN</td>\n      <td>NaN</td>\n      <td>NaN</td>\n      <td>NaN</td>\n      <td>NaN</td>\n    </tr>\n  </tbody>\n</table>\n<p>4103 rows × 38 columns</p>\n</div>"
     },
     "execution_count": 204,
     "metadata": {},
     "output_type": "execute_result"
    }
   ],
   "source": [
    "training_data[2]"
   ],
   "metadata": {
    "collapsed": false,
    "pycharm": {
     "name": "#%%\n"
    }
   }
  },
  {
   "cell_type": "code",
   "execution_count": 204,
   "outputs": [],
   "source": [],
   "metadata": {
    "collapsed": false,
    "pycharm": {
     "name": "#%%\n"
    }
   }
  },
  {
   "cell_type": "code",
   "source": [
    "r = handright_prepared[:100].copy()\n",
    "l = alone[:200]\n",
    "# r.Time = l.Time\n",
    "# r[\" Frame ID\"] = l[\" Frame ID\"]\n",
    "\n",
    "diff = len(l) - len(r)\n",
    "diff\n",
    "\n",
    "# l.drop(l[:diff].index).reset_index(drop=True)\n",
    "l\n",
    "# merged = r.merge(l, how=\"outer\").sort_values(\"Time\").reset_index(drop=True)\n",
    "# merged.groupby(\"Time\")[\" # hands\"].sum()"
   ],
   "metadata": {
    "collapsed": false,
    "pycharm": {
     "name": "#%%\n"
    }
   },
   "execution_count": null,
   "outputs": []
  },
  {
   "cell_type": "code",
   "execution_count": 13,
   "outputs": [],
   "source": [
    "def transform_time(df):\n",
    "    # adds a column with the second\n",
    "    df[\"start_time\"] = df.time.astype(int) - df.time.min().astype(int)\n",
    "    start = df.start_time.min() + 7 # remove first 7 seconds\n",
    "    first_7_seconds = df[df[\"start_time\"] < start].index\n",
    "    # drop is True to prevent from adding the old indices as a new column\n",
    "    df_new = df.drop(first_7_seconds).reset_index(drop=True)\n",
    "    # reset index (drop = False) adds round time as the left column in the DataFrame\n",
    "    df = df.groupby(\"start_time\").nth([0, 1, 2, 3]).reset_index() # first four instances per second\n",
    "    df.drop(df[df[\"start_time\"] < df[\"start_time\"].min() + 7].index).reset_index(drop=True)\n",
    "    df.drop(\"start_time\", axis=1, inplace=True)\n",
    "    return df"
   ],
   "metadata": {
    "collapsed": false,
    "pycharm": {
     "name": "#%%\n"
    }
   }
  },
  {
   "cell_type": "code",
   "execution_count": 14,
   "outputs": [
    {
     "data": {
      "text/plain": "     state      time  position_x_left  position_y_left  position_z_left  \\\n0    alone  518.8087        -97.60160         164.1213        42.812550   \n1    alone  518.8252        -95.78062         157.6353        42.180840   \n2    alone  518.8418        -94.39360         154.6338        41.931710   \n3    alone  518.8587        -92.02553         150.6723        42.101190   \n4    alone  519.0077        -59.46984         133.8906        44.374630   \n..     ...       ...              ...              ...              ...   \n299  alone  592.0610        -14.48008         198.6138        21.539440   \n300  alone  593.0053       -129.23140         199.5141        -1.808334   \n301  alone  593.0224       -131.25110         202.0273        -1.129089   \n302  alone  593.0385       -132.50170         203.9422        -0.623775   \n303  alone  593.0551       -133.87660         205.9335        -0.295164   \n\n     velocity_x_left  velocity_y_left  velocity_z_left  pitch_left  roll_left  \\\n0          104.25890       -491.67300        -55.42755    2.939312   0.045867   \n1          148.96830       -351.73860        -36.32422    2.294397   0.074132   \n2          161.69580       -349.91170        -29.04277    1.962658   0.086932   \n3          117.34750       -187.17810         24.42598    1.545560   0.124819   \n4          224.32980         76.83612         14.93058    1.039546   0.386180   \n..               ...              ...              ...         ...        ...   \n299        -27.59156        158.53280          9.32160    1.567686   0.973923   \n300       -143.93890        146.42720         45.25815    1.539906   0.592593   \n301       -108.58520        141.61760         32.49025    1.582844   0.607091   \n302        -92.13113        130.00810         30.82561    1.617976   0.624429   \n303        -73.20906         97.63212         13.09241    1.633385   0.640356   \n\n     yaw_left  wrist_pos_x_left  wrist_pos_y_left  wrist_pos_z_left  \\\n0    1.661706         -166.7207          164.8320         27.585470   \n1    1.623222         -165.4907          155.6419         29.710370   \n2    1.602898         -164.3658          151.5701         31.050590   \n3    1.567605         -162.2663          144.6214         33.945770   \n4    1.336244         -126.7760          111.5562         52.403780   \n..        ...               ...               ...               ...   \n299  1.566222          -59.8157          143.6770         14.271110   \n300  1.550015         -186.9074          158.7414         -8.840541   \n301  1.579173         -188.2238          160.4451         -9.720588   \n302  1.604965         -188.8173          161.5929        -10.415820   \n303  1.617805         -189.5669          162.7964        -10.618810   \n\n     elbow_pos_x_left  elbow_pos_y_left  elbow_pos_z_left  grab_strenth_left  \\\n0           -378.1662         65.893300         -69.90282                0.0   \n1           -380.3233         52.924410         -55.71872                0.0   \n2           -381.7444         48.550320         -47.27909                0.0   \n3           -383.4688         40.271510         -30.72728                0.0   \n4           -362.4101         32.338940          99.34253                0.0   \n..                ...               ...               ...                ...   \n299         -264.3931         -7.235324          18.94250                0.0   \n300         -292.6154        -71.992000         -27.97601                1.0   \n301         -297.2022        -68.870490         -27.50528                1.0   \n302         -303.9758        -64.893780         -25.26640                1.0   \n303         -308.4146        -61.954990         -22.46330                1.0   \n\n     grab_angle_left  pinch_strength_left  position_x_right  position_y_right  \\\n0           0.741855             0.000000          8.843476          221.2352   \n1           0.827916             0.000000         10.148750          216.5558   \n2           0.920401             0.000000         11.245270          213.2907   \n3           1.034603             0.000000         12.286960          210.7743   \n4           0.701896             0.000000         15.127780          204.0240   \n..               ...                  ...               ...               ...   \n299         0.000000             0.000000               NaN               NaN   \n300         3.072773             0.774364               NaN               NaN   \n301         3.141593             0.778001               NaN               NaN   \n302         3.141593             0.760941               NaN               NaN   \n303         3.141593             0.760146               NaN               NaN   \n\n     position_z_right  velocity_x_right  velocity_y_right  velocity_z_right  \\\n0            6.470119         104.51340       -281.738800         15.508580   \n1            6.559062          66.57184       -279.229500          6.164072   \n2            7.028064          64.02025       -131.828100         36.326210   \n3            7.346128          55.01450       -144.576300          7.151942   \n4            7.815229         -14.56217         -6.400454         -8.558474   \n..                ...               ...               ...               ...   \n299               NaN               NaN               NaN               NaN   \n300               NaN               NaN               NaN               NaN   \n301               NaN               NaN               NaN               NaN   \n302               NaN               NaN               NaN               NaN   \n303               NaN               NaN               NaN               NaN   \n\n     pitch_right  roll_right  yaw_right  wrist_pos_x_right  wrist_pos_y_right  \\\n0       0.100931   -0.002752  -0.921538           73.24500           218.7046   \n1       0.084091    0.006277  -0.915060           74.37665           214.7959   \n2       0.079246    0.007753  -0.913869           75.47279           211.6672   \n3       0.055594    0.019090  -0.913344           76.48927           209.9682   \n4      -0.011722    0.059693  -0.896614           78.63611           206.0877   \n..           ...         ...        ...                ...                ...   \n299          NaN         NaN        NaN                NaN                NaN   \n300          NaN         NaN        NaN                NaN                NaN   \n301          NaN         NaN        NaN                NaN                NaN   \n302          NaN         NaN        NaN                NaN                NaN   \n303          NaN         NaN        NaN                NaN                NaN   \n\n     wrist_pos_z_right  elbow_pos_x_right  elbow_pos_y_right  \\\n0             46.08551           278.6815           133.4698   \n1             46.51600           281.3379           132.6930   \n2             46.97842           283.2765           128.6095   \n3             47.27846           284.0101           124.1224   \n4             48.67214           286.6440           123.2016   \n..                 ...                ...                ...   \n299                NaN                NaN                NaN   \n300                NaN                NaN                NaN   \n301                NaN                NaN                NaN   \n302                NaN                NaN                NaN   \n303                NaN                NaN                NaN   \n\n     elbow_pos_z_right  grab_strenth_right  grab_angle_right  \\\n0             198.1875                 0.0          0.358833   \n1             198.2479                 0.0          0.368574   \n2             197.0070                 0.0          0.308148   \n3             196.1059                 0.0          0.237091   \n4             198.3545                 0.0          0.204624   \n..                 ...                 ...               ...   \n299                NaN                 NaN               NaN   \n300                NaN                 NaN               NaN   \n301                NaN                 NaN               NaN   \n302                NaN                 NaN               NaN   \n303                NaN                 NaN               NaN   \n\n     pinch_strength_right  \n0                     0.0  \n1                     0.0  \n2                     0.0  \n3                     0.0  \n4                     0.0  \n..                    ...  \n299                   NaN  \n300                   NaN  \n301                   NaN  \n302                   NaN  \n303                   NaN  \n\n[304 rows x 38 columns]",
      "text/html": "<div>\n<style scoped>\n    .dataframe tbody tr th:only-of-type {\n        vertical-align: middle;\n    }\n\n    .dataframe tbody tr th {\n        vertical-align: top;\n    }\n\n    .dataframe thead th {\n        text-align: right;\n    }\n</style>\n<table border=\"1\" class=\"dataframe\">\n  <thead>\n    <tr style=\"text-align: right;\">\n      <th></th>\n      <th>state</th>\n      <th>time</th>\n      <th>position_x_left</th>\n      <th>position_y_left</th>\n      <th>position_z_left</th>\n      <th>velocity_x_left</th>\n      <th>velocity_y_left</th>\n      <th>velocity_z_left</th>\n      <th>pitch_left</th>\n      <th>roll_left</th>\n      <th>yaw_left</th>\n      <th>wrist_pos_x_left</th>\n      <th>wrist_pos_y_left</th>\n      <th>wrist_pos_z_left</th>\n      <th>elbow_pos_x_left</th>\n      <th>elbow_pos_y_left</th>\n      <th>elbow_pos_z_left</th>\n      <th>grab_strenth_left</th>\n      <th>grab_angle_left</th>\n      <th>pinch_strength_left</th>\n      <th>position_x_right</th>\n      <th>position_y_right</th>\n      <th>position_z_right</th>\n      <th>velocity_x_right</th>\n      <th>velocity_y_right</th>\n      <th>velocity_z_right</th>\n      <th>pitch_right</th>\n      <th>roll_right</th>\n      <th>yaw_right</th>\n      <th>wrist_pos_x_right</th>\n      <th>wrist_pos_y_right</th>\n      <th>wrist_pos_z_right</th>\n      <th>elbow_pos_x_right</th>\n      <th>elbow_pos_y_right</th>\n      <th>elbow_pos_z_right</th>\n      <th>grab_strenth_right</th>\n      <th>grab_angle_right</th>\n      <th>pinch_strength_right</th>\n    </tr>\n  </thead>\n  <tbody>\n    <tr>\n      <th>0</th>\n      <td>alone</td>\n      <td>518.8087</td>\n      <td>-97.60160</td>\n      <td>164.1213</td>\n      <td>42.812550</td>\n      <td>104.25890</td>\n      <td>-491.67300</td>\n      <td>-55.42755</td>\n      <td>2.939312</td>\n      <td>0.045867</td>\n      <td>1.661706</td>\n      <td>-166.7207</td>\n      <td>164.8320</td>\n      <td>27.585470</td>\n      <td>-378.1662</td>\n      <td>65.893300</td>\n      <td>-69.90282</td>\n      <td>0.0</td>\n      <td>0.741855</td>\n      <td>0.000000</td>\n      <td>8.843476</td>\n      <td>221.2352</td>\n      <td>6.470119</td>\n      <td>104.51340</td>\n      <td>-281.738800</td>\n      <td>15.508580</td>\n      <td>0.100931</td>\n      <td>-0.002752</td>\n      <td>-0.921538</td>\n      <td>73.24500</td>\n      <td>218.7046</td>\n      <td>46.08551</td>\n      <td>278.6815</td>\n      <td>133.4698</td>\n      <td>198.1875</td>\n      <td>0.0</td>\n      <td>0.358833</td>\n      <td>0.0</td>\n    </tr>\n    <tr>\n      <th>1</th>\n      <td>alone</td>\n      <td>518.8252</td>\n      <td>-95.78062</td>\n      <td>157.6353</td>\n      <td>42.180840</td>\n      <td>148.96830</td>\n      <td>-351.73860</td>\n      <td>-36.32422</td>\n      <td>2.294397</td>\n      <td>0.074132</td>\n      <td>1.623222</td>\n      <td>-165.4907</td>\n      <td>155.6419</td>\n      <td>29.710370</td>\n      <td>-380.3233</td>\n      <td>52.924410</td>\n      <td>-55.71872</td>\n      <td>0.0</td>\n      <td>0.827916</td>\n      <td>0.000000</td>\n      <td>10.148750</td>\n      <td>216.5558</td>\n      <td>6.559062</td>\n      <td>66.57184</td>\n      <td>-279.229500</td>\n      <td>6.164072</td>\n      <td>0.084091</td>\n      <td>0.006277</td>\n      <td>-0.915060</td>\n      <td>74.37665</td>\n      <td>214.7959</td>\n      <td>46.51600</td>\n      <td>281.3379</td>\n      <td>132.6930</td>\n      <td>198.2479</td>\n      <td>0.0</td>\n      <td>0.368574</td>\n      <td>0.0</td>\n    </tr>\n    <tr>\n      <th>2</th>\n      <td>alone</td>\n      <td>518.8418</td>\n      <td>-94.39360</td>\n      <td>154.6338</td>\n      <td>41.931710</td>\n      <td>161.69580</td>\n      <td>-349.91170</td>\n      <td>-29.04277</td>\n      <td>1.962658</td>\n      <td>0.086932</td>\n      <td>1.602898</td>\n      <td>-164.3658</td>\n      <td>151.5701</td>\n      <td>31.050590</td>\n      <td>-381.7444</td>\n      <td>48.550320</td>\n      <td>-47.27909</td>\n      <td>0.0</td>\n      <td>0.920401</td>\n      <td>0.000000</td>\n      <td>11.245270</td>\n      <td>213.2907</td>\n      <td>7.028064</td>\n      <td>64.02025</td>\n      <td>-131.828100</td>\n      <td>36.326210</td>\n      <td>0.079246</td>\n      <td>0.007753</td>\n      <td>-0.913869</td>\n      <td>75.47279</td>\n      <td>211.6672</td>\n      <td>46.97842</td>\n      <td>283.2765</td>\n      <td>128.6095</td>\n      <td>197.0070</td>\n      <td>0.0</td>\n      <td>0.308148</td>\n      <td>0.0</td>\n    </tr>\n    <tr>\n      <th>3</th>\n      <td>alone</td>\n      <td>518.8587</td>\n      <td>-92.02553</td>\n      <td>150.6723</td>\n      <td>42.101190</td>\n      <td>117.34750</td>\n      <td>-187.17810</td>\n      <td>24.42598</td>\n      <td>1.545560</td>\n      <td>0.124819</td>\n      <td>1.567605</td>\n      <td>-162.2663</td>\n      <td>144.6214</td>\n      <td>33.945770</td>\n      <td>-383.4688</td>\n      <td>40.271510</td>\n      <td>-30.72728</td>\n      <td>0.0</td>\n      <td>1.034603</td>\n      <td>0.000000</td>\n      <td>12.286960</td>\n      <td>210.7743</td>\n      <td>7.346128</td>\n      <td>55.01450</td>\n      <td>-144.576300</td>\n      <td>7.151942</td>\n      <td>0.055594</td>\n      <td>0.019090</td>\n      <td>-0.913344</td>\n      <td>76.48927</td>\n      <td>209.9682</td>\n      <td>47.27846</td>\n      <td>284.0101</td>\n      <td>124.1224</td>\n      <td>196.1059</td>\n      <td>0.0</td>\n      <td>0.237091</td>\n      <td>0.0</td>\n    </tr>\n    <tr>\n      <th>4</th>\n      <td>alone</td>\n      <td>519.0077</td>\n      <td>-59.46984</td>\n      <td>133.8906</td>\n      <td>44.374630</td>\n      <td>224.32980</td>\n      <td>76.83612</td>\n      <td>14.93058</td>\n      <td>1.039546</td>\n      <td>0.386180</td>\n      <td>1.336244</td>\n      <td>-126.7760</td>\n      <td>111.5562</td>\n      <td>52.403780</td>\n      <td>-362.4101</td>\n      <td>32.338940</td>\n      <td>99.34253</td>\n      <td>0.0</td>\n      <td>0.701896</td>\n      <td>0.000000</td>\n      <td>15.127780</td>\n      <td>204.0240</td>\n      <td>7.815229</td>\n      <td>-14.56217</td>\n      <td>-6.400454</td>\n      <td>-8.558474</td>\n      <td>-0.011722</td>\n      <td>0.059693</td>\n      <td>-0.896614</td>\n      <td>78.63611</td>\n      <td>206.0877</td>\n      <td>48.67214</td>\n      <td>286.6440</td>\n      <td>123.2016</td>\n      <td>198.3545</td>\n      <td>0.0</td>\n      <td>0.204624</td>\n      <td>0.0</td>\n    </tr>\n    <tr>\n      <th>...</th>\n      <td>...</td>\n      <td>...</td>\n      <td>...</td>\n      <td>...</td>\n      <td>...</td>\n      <td>...</td>\n      <td>...</td>\n      <td>...</td>\n      <td>...</td>\n      <td>...</td>\n      <td>...</td>\n      <td>...</td>\n      <td>...</td>\n      <td>...</td>\n      <td>...</td>\n      <td>...</td>\n      <td>...</td>\n      <td>...</td>\n      <td>...</td>\n      <td>...</td>\n      <td>...</td>\n      <td>...</td>\n      <td>...</td>\n      <td>...</td>\n      <td>...</td>\n      <td>...</td>\n      <td>...</td>\n      <td>...</td>\n      <td>...</td>\n      <td>...</td>\n      <td>...</td>\n      <td>...</td>\n      <td>...</td>\n      <td>...</td>\n      <td>...</td>\n      <td>...</td>\n      <td>...</td>\n      <td>...</td>\n    </tr>\n    <tr>\n      <th>299</th>\n      <td>alone</td>\n      <td>592.0610</td>\n      <td>-14.48008</td>\n      <td>198.6138</td>\n      <td>21.539440</td>\n      <td>-27.59156</td>\n      <td>158.53280</td>\n      <td>9.32160</td>\n      <td>1.567686</td>\n      <td>0.973923</td>\n      <td>1.566222</td>\n      <td>-59.8157</td>\n      <td>143.6770</td>\n      <td>14.271110</td>\n      <td>-264.3931</td>\n      <td>-7.235324</td>\n      <td>18.94250</td>\n      <td>0.0</td>\n      <td>0.000000</td>\n      <td>0.000000</td>\n      <td>NaN</td>\n      <td>NaN</td>\n      <td>NaN</td>\n      <td>NaN</td>\n      <td>NaN</td>\n      <td>NaN</td>\n      <td>NaN</td>\n      <td>NaN</td>\n      <td>NaN</td>\n      <td>NaN</td>\n      <td>NaN</td>\n      <td>NaN</td>\n      <td>NaN</td>\n      <td>NaN</td>\n      <td>NaN</td>\n      <td>NaN</td>\n      <td>NaN</td>\n      <td>NaN</td>\n    </tr>\n    <tr>\n      <th>300</th>\n      <td>alone</td>\n      <td>593.0053</td>\n      <td>-129.23140</td>\n      <td>199.5141</td>\n      <td>-1.808334</td>\n      <td>-143.93890</td>\n      <td>146.42720</td>\n      <td>45.25815</td>\n      <td>1.539906</td>\n      <td>0.592593</td>\n      <td>1.550015</td>\n      <td>-186.9074</td>\n      <td>158.7414</td>\n      <td>-8.840541</td>\n      <td>-292.6154</td>\n      <td>-71.992000</td>\n      <td>-27.97601</td>\n      <td>1.0</td>\n      <td>3.072773</td>\n      <td>0.774364</td>\n      <td>NaN</td>\n      <td>NaN</td>\n      <td>NaN</td>\n      <td>NaN</td>\n      <td>NaN</td>\n      <td>NaN</td>\n      <td>NaN</td>\n      <td>NaN</td>\n      <td>NaN</td>\n      <td>NaN</td>\n      <td>NaN</td>\n      <td>NaN</td>\n      <td>NaN</td>\n      <td>NaN</td>\n      <td>NaN</td>\n      <td>NaN</td>\n      <td>NaN</td>\n      <td>NaN</td>\n    </tr>\n    <tr>\n      <th>301</th>\n      <td>alone</td>\n      <td>593.0224</td>\n      <td>-131.25110</td>\n      <td>202.0273</td>\n      <td>-1.129089</td>\n      <td>-108.58520</td>\n      <td>141.61760</td>\n      <td>32.49025</td>\n      <td>1.582844</td>\n      <td>0.607091</td>\n      <td>1.579173</td>\n      <td>-188.2238</td>\n      <td>160.4451</td>\n      <td>-9.720588</td>\n      <td>-297.2022</td>\n      <td>-68.870490</td>\n      <td>-27.50528</td>\n      <td>1.0</td>\n      <td>3.141593</td>\n      <td>0.778001</td>\n      <td>NaN</td>\n      <td>NaN</td>\n      <td>NaN</td>\n      <td>NaN</td>\n      <td>NaN</td>\n      <td>NaN</td>\n      <td>NaN</td>\n      <td>NaN</td>\n      <td>NaN</td>\n      <td>NaN</td>\n      <td>NaN</td>\n      <td>NaN</td>\n      <td>NaN</td>\n      <td>NaN</td>\n      <td>NaN</td>\n      <td>NaN</td>\n      <td>NaN</td>\n      <td>NaN</td>\n    </tr>\n    <tr>\n      <th>302</th>\n      <td>alone</td>\n      <td>593.0385</td>\n      <td>-132.50170</td>\n      <td>203.9422</td>\n      <td>-0.623775</td>\n      <td>-92.13113</td>\n      <td>130.00810</td>\n      <td>30.82561</td>\n      <td>1.617976</td>\n      <td>0.624429</td>\n      <td>1.604965</td>\n      <td>-188.8173</td>\n      <td>161.5929</td>\n      <td>-10.415820</td>\n      <td>-303.9758</td>\n      <td>-64.893780</td>\n      <td>-25.26640</td>\n      <td>1.0</td>\n      <td>3.141593</td>\n      <td>0.760941</td>\n      <td>NaN</td>\n      <td>NaN</td>\n      <td>NaN</td>\n      <td>NaN</td>\n      <td>NaN</td>\n      <td>NaN</td>\n      <td>NaN</td>\n      <td>NaN</td>\n      <td>NaN</td>\n      <td>NaN</td>\n      <td>NaN</td>\n      <td>NaN</td>\n      <td>NaN</td>\n      <td>NaN</td>\n      <td>NaN</td>\n      <td>NaN</td>\n      <td>NaN</td>\n      <td>NaN</td>\n    </tr>\n    <tr>\n      <th>303</th>\n      <td>alone</td>\n      <td>593.0551</td>\n      <td>-133.87660</td>\n      <td>205.9335</td>\n      <td>-0.295164</td>\n      <td>-73.20906</td>\n      <td>97.63212</td>\n      <td>13.09241</td>\n      <td>1.633385</td>\n      <td>0.640356</td>\n      <td>1.617805</td>\n      <td>-189.5669</td>\n      <td>162.7964</td>\n      <td>-10.618810</td>\n      <td>-308.4146</td>\n      <td>-61.954990</td>\n      <td>-22.46330</td>\n      <td>1.0</td>\n      <td>3.141593</td>\n      <td>0.760146</td>\n      <td>NaN</td>\n      <td>NaN</td>\n      <td>NaN</td>\n      <td>NaN</td>\n      <td>NaN</td>\n      <td>NaN</td>\n      <td>NaN</td>\n      <td>NaN</td>\n      <td>NaN</td>\n      <td>NaN</td>\n      <td>NaN</td>\n      <td>NaN</td>\n      <td>NaN</td>\n      <td>NaN</td>\n      <td>NaN</td>\n      <td>NaN</td>\n      <td>NaN</td>\n      <td>NaN</td>\n    </tr>\n  </tbody>\n</table>\n<p>304 rows × 38 columns</p>\n</div>"
     },
     "execution_count": 14,
     "metadata": {},
     "output_type": "execute_result"
    }
   ],
   "source": [
    "transform_time(XXX)"
   ],
   "metadata": {
    "collapsed": false,
    "pycharm": {
     "name": "#%%\n"
    }
   }
  },
  {
   "cell_type": "markdown",
   "source": [
    "alone[\"Time\"] = alone[\"Time\"] - alone[\"Time\"].min()\n",
    "\n",
    "    # reset index (drop = False) adds round time as the left column in the DataFrame\n",
    "    df = df.groupby(\"start_time\").nth([0, 1, 2, 3]).reset_index() # first four instances per second"
   ],
   "metadata": {
    "collapsed": false,
    "pycharm": {
     "name": "#%% md\n"
    }
   }
  },
  {
   "cell_type": "code",
   "execution_count": 121,
   "outputs": [
    {
     "data": {
      "text/plain": "          Time   Frame ID  Hand Type   # hands   Position X   Position Y  \\\n0     518.8087     149620       left         1    -97.60160     164.1213   \n1     518.8252     149622       left         1    -95.78062     157.6353   \n2     518.8418     149623       left         1    -94.39360     154.6338   \n3     518.8587     149625       left         1    -92.02553     150.6723   \n4     518.8749     149627       left         1    -89.31953     148.1826   \n...        ...        ...        ...       ...          ...          ...   \n4521  593.7177     158254       left         1    -44.79453     123.7657   \n4522  593.7343     158256       left         1    -40.77390     126.7342   \n4523  593.7509     158257       left         1    -38.56184     127.6858   \n4524  593.7681     158259       left         1    -35.88303     132.9386   \n4525  593.7840     158261       left         1    -33.63328     139.4063   \n\n       Position Z   Velocity X   Velocity Y   Velocity Z     Pitch      Roll  \\\n0       42.812550     104.2589    -491.6730    -55.42755  2.939312  0.045867   \n1       42.180840     148.9683    -351.7386    -36.32422  2.294397  0.074132   \n2       41.931710     161.6958    -349.9117    -29.04277  1.962658  0.086932   \n3       42.101190     117.3475    -187.1781     24.42598  1.545560  0.124819   \n4       42.670650     155.3344    -135.6337     35.87055  1.377898  0.167855   \n...           ...          ...          ...          ...       ...       ...   \n4521    -6.241947     274.4463     106.7892    125.05260  1.234747  0.282478   \n4522    -3.452266     223.5294     209.7239    160.24900  1.265178  0.283400   \n4523    -2.086977     254.9331     109.6613    157.34590  1.279585  0.280169   \n4524     0.526575     185.8687     204.9822    154.04880  1.299061  0.298048   \n4525     2.912675     119.7440     382.6135    141.81010  1.315801  0.334827   \n\n           Yaw   Wrist Pos X   Wrist Pos Y   Wrist Pos Z   Elbow pos X  \\\n0     1.661706     -166.7207      164.8320     27.585470     -378.1662   \n1     1.623222     -165.4907      155.6419     29.710370     -380.3233   \n2     1.602898     -164.3658      151.5701     31.050590     -381.7444   \n3     1.567605     -162.2663      144.6214     33.945770     -383.4688   \n4     1.535920     -159.4586      138.6087     36.681950     -381.0906   \n...        ...           ...           ...           ...           ...   \n4521  1.476095     -114.5244      107.5486     -6.354107     -354.6525   \n4522  1.484591     -110.5008      110.7256     -3.791958     -351.3217   \n4523  1.489703     -108.3443      111.9989     -2.676469     -349.8930   \n4524  1.489702     -105.4344      116.3043      0.041351     -346.9033   \n4525  1.484309     -102.6475      120.6218      2.738251     -343.8961   \n\n       Elbow Pos Y   Elbow Pos Z   Grab Strenth   Grab Angle   Pinch Strength  \n0         65.89330     -69.90282            0.0     0.741855              0.0  \n1         52.92441     -55.71872            0.0     0.827916              0.0  \n2         48.55032     -47.27909            0.0     0.920401              0.0  \n3         40.27151     -30.72728            0.0     1.034603              0.0  \n4         29.07133     -17.01065            0.0     1.166705              0.0  \n...            ...           ...            ...          ...              ...  \n4521      41.16571      45.73993            0.0     0.401728              0.0  \n4522      53.68426      55.64309            0.0     0.190267              0.0  \n4523      59.75835      58.19042            0.0     0.042665              0.0  \n4524      66.47016      63.19174            0.0     0.000000              0.0  \n4525      69.92101      66.05376            0.0     0.000000              0.0  \n\n[4526 rows x 22 columns]",
      "text/html": "<div>\n<style scoped>\n    .dataframe tbody tr th:only-of-type {\n        vertical-align: middle;\n    }\n\n    .dataframe tbody tr th {\n        vertical-align: top;\n    }\n\n    .dataframe thead th {\n        text-align: right;\n    }\n</style>\n<table border=\"1\" class=\"dataframe\">\n  <thead>\n    <tr style=\"text-align: right;\">\n      <th></th>\n      <th>Time</th>\n      <th>Frame ID</th>\n      <th>Hand Type</th>\n      <th># hands</th>\n      <th>Position X</th>\n      <th>Position Y</th>\n      <th>Position Z</th>\n      <th>Velocity X</th>\n      <th>Velocity Y</th>\n      <th>Velocity Z</th>\n      <th>Pitch</th>\n      <th>Roll</th>\n      <th>Yaw</th>\n      <th>Wrist Pos X</th>\n      <th>Wrist Pos Y</th>\n      <th>Wrist Pos Z</th>\n      <th>Elbow pos X</th>\n      <th>Elbow Pos Y</th>\n      <th>Elbow Pos Z</th>\n      <th>Grab Strenth</th>\n      <th>Grab Angle</th>\n      <th>Pinch Strength</th>\n    </tr>\n  </thead>\n  <tbody>\n    <tr>\n      <th>0</th>\n      <td>518.8087</td>\n      <td>149620</td>\n      <td>left</td>\n      <td>1</td>\n      <td>-97.60160</td>\n      <td>164.1213</td>\n      <td>42.812550</td>\n      <td>104.2589</td>\n      <td>-491.6730</td>\n      <td>-55.42755</td>\n      <td>2.939312</td>\n      <td>0.045867</td>\n      <td>1.661706</td>\n      <td>-166.7207</td>\n      <td>164.8320</td>\n      <td>27.585470</td>\n      <td>-378.1662</td>\n      <td>65.89330</td>\n      <td>-69.90282</td>\n      <td>0.0</td>\n      <td>0.741855</td>\n      <td>0.0</td>\n    </tr>\n    <tr>\n      <th>1</th>\n      <td>518.8252</td>\n      <td>149622</td>\n      <td>left</td>\n      <td>1</td>\n      <td>-95.78062</td>\n      <td>157.6353</td>\n      <td>42.180840</td>\n      <td>148.9683</td>\n      <td>-351.7386</td>\n      <td>-36.32422</td>\n      <td>2.294397</td>\n      <td>0.074132</td>\n      <td>1.623222</td>\n      <td>-165.4907</td>\n      <td>155.6419</td>\n      <td>29.710370</td>\n      <td>-380.3233</td>\n      <td>52.92441</td>\n      <td>-55.71872</td>\n      <td>0.0</td>\n      <td>0.827916</td>\n      <td>0.0</td>\n    </tr>\n    <tr>\n      <th>2</th>\n      <td>518.8418</td>\n      <td>149623</td>\n      <td>left</td>\n      <td>1</td>\n      <td>-94.39360</td>\n      <td>154.6338</td>\n      <td>41.931710</td>\n      <td>161.6958</td>\n      <td>-349.9117</td>\n      <td>-29.04277</td>\n      <td>1.962658</td>\n      <td>0.086932</td>\n      <td>1.602898</td>\n      <td>-164.3658</td>\n      <td>151.5701</td>\n      <td>31.050590</td>\n      <td>-381.7444</td>\n      <td>48.55032</td>\n      <td>-47.27909</td>\n      <td>0.0</td>\n      <td>0.920401</td>\n      <td>0.0</td>\n    </tr>\n    <tr>\n      <th>3</th>\n      <td>518.8587</td>\n      <td>149625</td>\n      <td>left</td>\n      <td>1</td>\n      <td>-92.02553</td>\n      <td>150.6723</td>\n      <td>42.101190</td>\n      <td>117.3475</td>\n      <td>-187.1781</td>\n      <td>24.42598</td>\n      <td>1.545560</td>\n      <td>0.124819</td>\n      <td>1.567605</td>\n      <td>-162.2663</td>\n      <td>144.6214</td>\n      <td>33.945770</td>\n      <td>-383.4688</td>\n      <td>40.27151</td>\n      <td>-30.72728</td>\n      <td>0.0</td>\n      <td>1.034603</td>\n      <td>0.0</td>\n    </tr>\n    <tr>\n      <th>4</th>\n      <td>518.8749</td>\n      <td>149627</td>\n      <td>left</td>\n      <td>1</td>\n      <td>-89.31953</td>\n      <td>148.1826</td>\n      <td>42.670650</td>\n      <td>155.3344</td>\n      <td>-135.6337</td>\n      <td>35.87055</td>\n      <td>1.377898</td>\n      <td>0.167855</td>\n      <td>1.535920</td>\n      <td>-159.4586</td>\n      <td>138.6087</td>\n      <td>36.681950</td>\n      <td>-381.0906</td>\n      <td>29.07133</td>\n      <td>-17.01065</td>\n      <td>0.0</td>\n      <td>1.166705</td>\n      <td>0.0</td>\n    </tr>\n    <tr>\n      <th>...</th>\n      <td>...</td>\n      <td>...</td>\n      <td>...</td>\n      <td>...</td>\n      <td>...</td>\n      <td>...</td>\n      <td>...</td>\n      <td>...</td>\n      <td>...</td>\n      <td>...</td>\n      <td>...</td>\n      <td>...</td>\n      <td>...</td>\n      <td>...</td>\n      <td>...</td>\n      <td>...</td>\n      <td>...</td>\n      <td>...</td>\n      <td>...</td>\n      <td>...</td>\n      <td>...</td>\n      <td>...</td>\n    </tr>\n    <tr>\n      <th>4521</th>\n      <td>593.7177</td>\n      <td>158254</td>\n      <td>left</td>\n      <td>1</td>\n      <td>-44.79453</td>\n      <td>123.7657</td>\n      <td>-6.241947</td>\n      <td>274.4463</td>\n      <td>106.7892</td>\n      <td>125.05260</td>\n      <td>1.234747</td>\n      <td>0.282478</td>\n      <td>1.476095</td>\n      <td>-114.5244</td>\n      <td>107.5486</td>\n      <td>-6.354107</td>\n      <td>-354.6525</td>\n      <td>41.16571</td>\n      <td>45.73993</td>\n      <td>0.0</td>\n      <td>0.401728</td>\n      <td>0.0</td>\n    </tr>\n    <tr>\n      <th>4522</th>\n      <td>593.7343</td>\n      <td>158256</td>\n      <td>left</td>\n      <td>1</td>\n      <td>-40.77390</td>\n      <td>126.7342</td>\n      <td>-3.452266</td>\n      <td>223.5294</td>\n      <td>209.7239</td>\n      <td>160.24900</td>\n      <td>1.265178</td>\n      <td>0.283400</td>\n      <td>1.484591</td>\n      <td>-110.5008</td>\n      <td>110.7256</td>\n      <td>-3.791958</td>\n      <td>-351.3217</td>\n      <td>53.68426</td>\n      <td>55.64309</td>\n      <td>0.0</td>\n      <td>0.190267</td>\n      <td>0.0</td>\n    </tr>\n    <tr>\n      <th>4523</th>\n      <td>593.7509</td>\n      <td>158257</td>\n      <td>left</td>\n      <td>1</td>\n      <td>-38.56184</td>\n      <td>127.6858</td>\n      <td>-2.086977</td>\n      <td>254.9331</td>\n      <td>109.6613</td>\n      <td>157.34590</td>\n      <td>1.279585</td>\n      <td>0.280169</td>\n      <td>1.489703</td>\n      <td>-108.3443</td>\n      <td>111.9989</td>\n      <td>-2.676469</td>\n      <td>-349.8930</td>\n      <td>59.75835</td>\n      <td>58.19042</td>\n      <td>0.0</td>\n      <td>0.042665</td>\n      <td>0.0</td>\n    </tr>\n    <tr>\n      <th>4524</th>\n      <td>593.7681</td>\n      <td>158259</td>\n      <td>left</td>\n      <td>1</td>\n      <td>-35.88303</td>\n      <td>132.9386</td>\n      <td>0.526575</td>\n      <td>185.8687</td>\n      <td>204.9822</td>\n      <td>154.04880</td>\n      <td>1.299061</td>\n      <td>0.298048</td>\n      <td>1.489702</td>\n      <td>-105.4344</td>\n      <td>116.3043</td>\n      <td>0.041351</td>\n      <td>-346.9033</td>\n      <td>66.47016</td>\n      <td>63.19174</td>\n      <td>0.0</td>\n      <td>0.000000</td>\n      <td>0.0</td>\n    </tr>\n    <tr>\n      <th>4525</th>\n      <td>593.7840</td>\n      <td>158261</td>\n      <td>left</td>\n      <td>1</td>\n      <td>-33.63328</td>\n      <td>139.4063</td>\n      <td>2.912675</td>\n      <td>119.7440</td>\n      <td>382.6135</td>\n      <td>141.81010</td>\n      <td>1.315801</td>\n      <td>0.334827</td>\n      <td>1.484309</td>\n      <td>-102.6475</td>\n      <td>120.6218</td>\n      <td>2.738251</td>\n      <td>-343.8961</td>\n      <td>69.92101</td>\n      <td>66.05376</td>\n      <td>0.0</td>\n      <td>0.000000</td>\n      <td>0.0</td>\n    </tr>\n  </tbody>\n</table>\n<p>4526 rows × 22 columns</p>\n</div>"
     },
     "execution_count": 121,
     "metadata": {},
     "output_type": "execute_result"
    }
   ],
   "source": [
    "alone"
   ],
   "metadata": {
    "collapsed": false,
    "pycharm": {
     "name": "#%%\n"
    }
   }
  },
  {
   "cell_type": "code",
   "execution_count": 19,
   "outputs": [],
   "source": [
    "handright[\"start_time\"] = handright.Time.astype(int) - handright.Time.min().astype(int)"
   ],
   "metadata": {
    "collapsed": false,
    "pycharm": {
     "name": "#%%\n"
    }
   }
  },
  {
   "cell_type": "code",
   "execution_count": 20,
   "outputs": [
    {
     "data": {
      "text/plain": "          Time   Frame ID  Hand Type   # hands   Position X   Position Y  \\\n0     135.0024      16253      right         1     8.843476     221.2352   \n1     135.0197      16255      right         1    10.148750     216.5558   \n2     135.0359      16257      right         1    11.245270     213.2907   \n3     135.0526      16259      right         1    12.286960     210.7743   \n4     135.0695      16260      right         1    12.752960     209.5283   \n...        ...        ...        ...       ...          ...          ...   \n4290  208.1942      24687      right         1   -15.404800     208.0276   \n4291  208.2108      24689      right         1   -12.678650     218.1196   \n4292  208.2276      24691      right         1    -9.643562     228.2807   \n4293  208.2443      24692      right         1    -7.980715     233.5056   \n4294  208.2619      24694      right         1    -4.468731     243.8388   \n\n       Position Z   Velocity X   Velocity Y   Velocity Z     Pitch      Roll  \\\n0        6.470119    104.51340    -281.7388    15.508580  0.100931 -0.002752   \n1        6.559062     66.57184    -279.2295     6.164072  0.084091  0.006277   \n2        7.028064     64.02025    -131.8281    36.326210  0.079246  0.007753   \n3        7.346128     55.01450    -144.5763     7.151942  0.055594  0.019090   \n4        7.357905     53.77913    -143.7969     1.359107  0.045028  0.027953   \n...           ...          ...          ...          ...       ...       ...   \n4290     9.980799    167.86240     510.0852  -105.529500  0.235165 -0.401107   \n4291     9.314082    145.00970     562.3594   -20.707010  0.309213 -0.548390   \n4292     9.722980    180.42160     591.9019    28.880570  0.369046 -0.704982   \n4293    10.419080    192.45930     604.7344    80.566980  0.381206 -0.770612   \n4294    12.266750    212.20430     589.4778   133.989800  0.406293 -0.891489   \n\n           Yaw   Wrist Pos X   Wrist Pos Y   Wrist Pos Z   Elbow pos X  \\\n0    -0.921538      73.24500      218.7046      46.08551      278.6815   \n1    -0.915060      74.37665      214.7959      46.51600      281.3379   \n2    -0.913869      75.47279      211.6672      46.97842      283.2765   \n3    -0.913344      76.48927      209.9682      47.27846      284.0101   \n4    -0.911791      76.88019      209.1200      47.37424      284.2625   \n...        ...           ...           ...           ...           ...   \n4290 -0.282299           NaN           NaN           NaN           NaN   \n4291 -0.263492           NaN           NaN           NaN           NaN   \n4292 -0.234337           NaN           NaN           NaN           NaN   \n4293 -0.222084           NaN           NaN           NaN           NaN   \n4294 -0.208401           NaN           NaN           NaN           NaN   \n\n       Elbow Pos Y   Elbow Pos Z   Grab Strenth   Grab Angle   Pinch Strength  \\\n0         133.4698      198.1875            0.0     0.358833              0.0   \n1         132.6930      198.2479            0.0     0.368574              0.0   \n2         128.6095      197.0070            0.0     0.308148              0.0   \n3         124.1224      196.1059            0.0     0.237091              0.0   \n4         121.8424      195.5516            0.0     0.217962              0.0   \n...            ...           ...            ...          ...              ...   \n4290           NaN           NaN            0.0     0.503490              0.0   \n4291           NaN           NaN            0.0     0.403687              0.0   \n4292           NaN           NaN            0.0     0.310940              0.0   \n4293           NaN           NaN            0.0     0.286526              0.0   \n4294           NaN           NaN            0.0     0.237838              0.0   \n\n      start_time  \n0              0  \n1              0  \n2              0  \n3              0  \n4              0  \n...          ...  \n4290          73  \n4291          73  \n4292          73  \n4293          73  \n4294          73  \n\n[4295 rows x 23 columns]",
      "text/html": "<div>\n<style scoped>\n    .dataframe tbody tr th:only-of-type {\n        vertical-align: middle;\n    }\n\n    .dataframe tbody tr th {\n        vertical-align: top;\n    }\n\n    .dataframe thead th {\n        text-align: right;\n    }\n</style>\n<table border=\"1\" class=\"dataframe\">\n  <thead>\n    <tr style=\"text-align: right;\">\n      <th></th>\n      <th>Time</th>\n      <th>Frame ID</th>\n      <th>Hand Type</th>\n      <th># hands</th>\n      <th>Position X</th>\n      <th>Position Y</th>\n      <th>Position Z</th>\n      <th>Velocity X</th>\n      <th>Velocity Y</th>\n      <th>Velocity Z</th>\n      <th>Pitch</th>\n      <th>Roll</th>\n      <th>Yaw</th>\n      <th>Wrist Pos X</th>\n      <th>Wrist Pos Y</th>\n      <th>Wrist Pos Z</th>\n      <th>Elbow pos X</th>\n      <th>Elbow Pos Y</th>\n      <th>Elbow Pos Z</th>\n      <th>Grab Strenth</th>\n      <th>Grab Angle</th>\n      <th>Pinch Strength</th>\n      <th>start_time</th>\n    </tr>\n  </thead>\n  <tbody>\n    <tr>\n      <th>0</th>\n      <td>135.0024</td>\n      <td>16253</td>\n      <td>right</td>\n      <td>1</td>\n      <td>8.843476</td>\n      <td>221.2352</td>\n      <td>6.470119</td>\n      <td>104.51340</td>\n      <td>-281.7388</td>\n      <td>15.508580</td>\n      <td>0.100931</td>\n      <td>-0.002752</td>\n      <td>-0.921538</td>\n      <td>73.24500</td>\n      <td>218.7046</td>\n      <td>46.08551</td>\n      <td>278.6815</td>\n      <td>133.4698</td>\n      <td>198.1875</td>\n      <td>0.0</td>\n      <td>0.358833</td>\n      <td>0.0</td>\n      <td>0</td>\n    </tr>\n    <tr>\n      <th>1</th>\n      <td>135.0197</td>\n      <td>16255</td>\n      <td>right</td>\n      <td>1</td>\n      <td>10.148750</td>\n      <td>216.5558</td>\n      <td>6.559062</td>\n      <td>66.57184</td>\n      <td>-279.2295</td>\n      <td>6.164072</td>\n      <td>0.084091</td>\n      <td>0.006277</td>\n      <td>-0.915060</td>\n      <td>74.37665</td>\n      <td>214.7959</td>\n      <td>46.51600</td>\n      <td>281.3379</td>\n      <td>132.6930</td>\n      <td>198.2479</td>\n      <td>0.0</td>\n      <td>0.368574</td>\n      <td>0.0</td>\n      <td>0</td>\n    </tr>\n    <tr>\n      <th>2</th>\n      <td>135.0359</td>\n      <td>16257</td>\n      <td>right</td>\n      <td>1</td>\n      <td>11.245270</td>\n      <td>213.2907</td>\n      <td>7.028064</td>\n      <td>64.02025</td>\n      <td>-131.8281</td>\n      <td>36.326210</td>\n      <td>0.079246</td>\n      <td>0.007753</td>\n      <td>-0.913869</td>\n      <td>75.47279</td>\n      <td>211.6672</td>\n      <td>46.97842</td>\n      <td>283.2765</td>\n      <td>128.6095</td>\n      <td>197.0070</td>\n      <td>0.0</td>\n      <td>0.308148</td>\n      <td>0.0</td>\n      <td>0</td>\n    </tr>\n    <tr>\n      <th>3</th>\n      <td>135.0526</td>\n      <td>16259</td>\n      <td>right</td>\n      <td>1</td>\n      <td>12.286960</td>\n      <td>210.7743</td>\n      <td>7.346128</td>\n      <td>55.01450</td>\n      <td>-144.5763</td>\n      <td>7.151942</td>\n      <td>0.055594</td>\n      <td>0.019090</td>\n      <td>-0.913344</td>\n      <td>76.48927</td>\n      <td>209.9682</td>\n      <td>47.27846</td>\n      <td>284.0101</td>\n      <td>124.1224</td>\n      <td>196.1059</td>\n      <td>0.0</td>\n      <td>0.237091</td>\n      <td>0.0</td>\n      <td>0</td>\n    </tr>\n    <tr>\n      <th>4</th>\n      <td>135.0695</td>\n      <td>16260</td>\n      <td>right</td>\n      <td>1</td>\n      <td>12.752960</td>\n      <td>209.5283</td>\n      <td>7.357905</td>\n      <td>53.77913</td>\n      <td>-143.7969</td>\n      <td>1.359107</td>\n      <td>0.045028</td>\n      <td>0.027953</td>\n      <td>-0.911791</td>\n      <td>76.88019</td>\n      <td>209.1200</td>\n      <td>47.37424</td>\n      <td>284.2625</td>\n      <td>121.8424</td>\n      <td>195.5516</td>\n      <td>0.0</td>\n      <td>0.217962</td>\n      <td>0.0</td>\n      <td>0</td>\n    </tr>\n    <tr>\n      <th>...</th>\n      <td>...</td>\n      <td>...</td>\n      <td>...</td>\n      <td>...</td>\n      <td>...</td>\n      <td>...</td>\n      <td>...</td>\n      <td>...</td>\n      <td>...</td>\n      <td>...</td>\n      <td>...</td>\n      <td>...</td>\n      <td>...</td>\n      <td>...</td>\n      <td>...</td>\n      <td>...</td>\n      <td>...</td>\n      <td>...</td>\n      <td>...</td>\n      <td>...</td>\n      <td>...</td>\n      <td>...</td>\n      <td>...</td>\n    </tr>\n    <tr>\n      <th>4290</th>\n      <td>208.1942</td>\n      <td>24687</td>\n      <td>right</td>\n      <td>1</td>\n      <td>-15.404800</td>\n      <td>208.0276</td>\n      <td>9.980799</td>\n      <td>167.86240</td>\n      <td>510.0852</td>\n      <td>-105.529500</td>\n      <td>0.235165</td>\n      <td>-0.401107</td>\n      <td>-0.282299</td>\n      <td>NaN</td>\n      <td>NaN</td>\n      <td>NaN</td>\n      <td>NaN</td>\n      <td>NaN</td>\n      <td>NaN</td>\n      <td>0.0</td>\n      <td>0.503490</td>\n      <td>0.0</td>\n      <td>73</td>\n    </tr>\n    <tr>\n      <th>4291</th>\n      <td>208.2108</td>\n      <td>24689</td>\n      <td>right</td>\n      <td>1</td>\n      <td>-12.678650</td>\n      <td>218.1196</td>\n      <td>9.314082</td>\n      <td>145.00970</td>\n      <td>562.3594</td>\n      <td>-20.707010</td>\n      <td>0.309213</td>\n      <td>-0.548390</td>\n      <td>-0.263492</td>\n      <td>NaN</td>\n      <td>NaN</td>\n      <td>NaN</td>\n      <td>NaN</td>\n      <td>NaN</td>\n      <td>NaN</td>\n      <td>0.0</td>\n      <td>0.403687</td>\n      <td>0.0</td>\n      <td>73</td>\n    </tr>\n    <tr>\n      <th>4292</th>\n      <td>208.2276</td>\n      <td>24691</td>\n      <td>right</td>\n      <td>1</td>\n      <td>-9.643562</td>\n      <td>228.2807</td>\n      <td>9.722980</td>\n      <td>180.42160</td>\n      <td>591.9019</td>\n      <td>28.880570</td>\n      <td>0.369046</td>\n      <td>-0.704982</td>\n      <td>-0.234337</td>\n      <td>NaN</td>\n      <td>NaN</td>\n      <td>NaN</td>\n      <td>NaN</td>\n      <td>NaN</td>\n      <td>NaN</td>\n      <td>0.0</td>\n      <td>0.310940</td>\n      <td>0.0</td>\n      <td>73</td>\n    </tr>\n    <tr>\n      <th>4293</th>\n      <td>208.2443</td>\n      <td>24692</td>\n      <td>right</td>\n      <td>1</td>\n      <td>-7.980715</td>\n      <td>233.5056</td>\n      <td>10.419080</td>\n      <td>192.45930</td>\n      <td>604.7344</td>\n      <td>80.566980</td>\n      <td>0.381206</td>\n      <td>-0.770612</td>\n      <td>-0.222084</td>\n      <td>NaN</td>\n      <td>NaN</td>\n      <td>NaN</td>\n      <td>NaN</td>\n      <td>NaN</td>\n      <td>NaN</td>\n      <td>0.0</td>\n      <td>0.286526</td>\n      <td>0.0</td>\n      <td>73</td>\n    </tr>\n    <tr>\n      <th>4294</th>\n      <td>208.2619</td>\n      <td>24694</td>\n      <td>right</td>\n      <td>1</td>\n      <td>-4.468731</td>\n      <td>243.8388</td>\n      <td>12.266750</td>\n      <td>212.20430</td>\n      <td>589.4778</td>\n      <td>133.989800</td>\n      <td>0.406293</td>\n      <td>-0.891489</td>\n      <td>-0.208401</td>\n      <td>NaN</td>\n      <td>NaN</td>\n      <td>NaN</td>\n      <td>NaN</td>\n      <td>NaN</td>\n      <td>NaN</td>\n      <td>0.0</td>\n      <td>0.237838</td>\n      <td>0.0</td>\n      <td>73</td>\n    </tr>\n  </tbody>\n</table>\n<p>4295 rows × 23 columns</p>\n</div>"
     },
     "execution_count": 20,
     "metadata": {},
     "output_type": "execute_result"
    }
   ],
   "source": [
    "handright"
   ],
   "metadata": {
    "collapsed": false,
    "pycharm": {
     "name": "#%%\n"
    }
   }
  },
  {
   "cell_type": "code",
   "execution_count": 21,
   "outputs": [
    {
     "data": {
      "text/plain": "          Time   Frame ID  Hand Type   # hands   Position X   Position Y  \\\n420   142.0000      17060      right         1    14.658960     187.5836   \n421   142.0166      17062      right         1    15.622050     189.8192   \n422   142.0335      17064      right         1    17.333340     192.7994   \n423   142.0501      17065      right         1    18.304800     194.3095   \n424   142.0667      17067      right         1    20.644430     197.9036   \n...        ...        ...        ...       ...          ...          ...   \n4290  208.1942      24687      right         1   -15.404800     208.0276   \n4291  208.2108      24689      right         1   -12.678650     218.1196   \n4292  208.2276      24691      right         1    -9.643562     228.2807   \n4293  208.2443      24692      right         1    -7.980715     233.5056   \n4294  208.2619      24694      right         1    -4.468731     243.8388   \n\n       Position Z   Velocity X   Velocity Y   Velocity Z     Pitch      Roll  \\\n420     53.395480     36.19220     60.84531   -22.857380  0.617264  0.204835   \n421     53.152170     57.94945    153.91340   -15.265450  0.626890  0.197027   \n422     53.030010    104.04750    165.17100    -6.662246  0.639270  0.216243   \n423     52.912470    111.88120    173.91010   -13.536420  0.641245  0.228430   \n424     52.539080    148.56490    215.47750   -19.559410  0.655173  0.232834   \n...           ...          ...          ...          ...       ...       ...   \n4290     9.980799    167.86240    510.08520  -105.529500  0.235165 -0.401107   \n4291     9.314082    145.00970    562.35940   -20.707010  0.309213 -0.548390   \n4292     9.722980    180.42160    591.90190    28.880570  0.369046 -0.704982   \n4293    10.419080    192.45930    604.73440    80.566980  0.381206 -0.770612   \n4294    12.266750    212.20430    589.47780   133.989800  0.406293 -0.891489   \n\n           Yaw   Wrist Pos X   Wrist Pos Y   Wrist Pos Z   Elbow pos X  \\\n420  -0.196015      37.08945      151.1525      117.2716      164.8685   \n421  -0.187188      37.69561      152.7267      116.7648      168.3619   \n422  -0.178939      38.83024      154.8900      116.3512      169.6885   \n423  -0.173522      39.47743      156.2263      116.2323      170.8151   \n424  -0.152595      40.67534      158.5628      115.4412      172.6581   \n...        ...           ...           ...           ...           ...   \n4290 -0.282299           NaN           NaN           NaN           NaN   \n4291 -0.263492           NaN           NaN           NaN           NaN   \n4292 -0.234337           NaN           NaN           NaN           NaN   \n4293 -0.222084           NaN           NaN           NaN           NaN   \n4294 -0.208401           NaN           NaN           NaN           NaN   \n\n       Elbow Pos Y   Elbow Pos Z   Grab Strenth   Grab Angle   Pinch Strength  \\\n420       48.20160      334.3133            0.0     2.649905         0.620808   \n421       50.00497      332.1900            0.0     2.654114         0.628246   \n422       49.15894      330.1981            0.0     2.626608         0.608577   \n423       48.90745      328.9917            0.0     2.635067         0.606528   \n424       43.25099      323.5691            0.0     2.684964         0.606563   \n...            ...           ...            ...          ...              ...   \n4290           NaN           NaN            0.0     0.503490         0.000000   \n4291           NaN           NaN            0.0     0.403687         0.000000   \n4292           NaN           NaN            0.0     0.310940         0.000000   \n4293           NaN           NaN            0.0     0.286526         0.000000   \n4294           NaN           NaN            0.0     0.237838         0.000000   \n\n      start_time  \n420            7  \n421            7  \n422            7  \n423            7  \n424            7  \n...          ...  \n4290          73  \n4291          73  \n4292          73  \n4293          73  \n4294          73  \n\n[3875 rows x 23 columns]",
      "text/html": "<div>\n<style scoped>\n    .dataframe tbody tr th:only-of-type {\n        vertical-align: middle;\n    }\n\n    .dataframe tbody tr th {\n        vertical-align: top;\n    }\n\n    .dataframe thead th {\n        text-align: right;\n    }\n</style>\n<table border=\"1\" class=\"dataframe\">\n  <thead>\n    <tr style=\"text-align: right;\">\n      <th></th>\n      <th>Time</th>\n      <th>Frame ID</th>\n      <th>Hand Type</th>\n      <th># hands</th>\n      <th>Position X</th>\n      <th>Position Y</th>\n      <th>Position Z</th>\n      <th>Velocity X</th>\n      <th>Velocity Y</th>\n      <th>Velocity Z</th>\n      <th>Pitch</th>\n      <th>Roll</th>\n      <th>Yaw</th>\n      <th>Wrist Pos X</th>\n      <th>Wrist Pos Y</th>\n      <th>Wrist Pos Z</th>\n      <th>Elbow pos X</th>\n      <th>Elbow Pos Y</th>\n      <th>Elbow Pos Z</th>\n      <th>Grab Strenth</th>\n      <th>Grab Angle</th>\n      <th>Pinch Strength</th>\n      <th>start_time</th>\n    </tr>\n  </thead>\n  <tbody>\n    <tr>\n      <th>420</th>\n      <td>142.0000</td>\n      <td>17060</td>\n      <td>right</td>\n      <td>1</td>\n      <td>14.658960</td>\n      <td>187.5836</td>\n      <td>53.395480</td>\n      <td>36.19220</td>\n      <td>60.84531</td>\n      <td>-22.857380</td>\n      <td>0.617264</td>\n      <td>0.204835</td>\n      <td>-0.196015</td>\n      <td>37.08945</td>\n      <td>151.1525</td>\n      <td>117.2716</td>\n      <td>164.8685</td>\n      <td>48.20160</td>\n      <td>334.3133</td>\n      <td>0.0</td>\n      <td>2.649905</td>\n      <td>0.620808</td>\n      <td>7</td>\n    </tr>\n    <tr>\n      <th>421</th>\n      <td>142.0166</td>\n      <td>17062</td>\n      <td>right</td>\n      <td>1</td>\n      <td>15.622050</td>\n      <td>189.8192</td>\n      <td>53.152170</td>\n      <td>57.94945</td>\n      <td>153.91340</td>\n      <td>-15.265450</td>\n      <td>0.626890</td>\n      <td>0.197027</td>\n      <td>-0.187188</td>\n      <td>37.69561</td>\n      <td>152.7267</td>\n      <td>116.7648</td>\n      <td>168.3619</td>\n      <td>50.00497</td>\n      <td>332.1900</td>\n      <td>0.0</td>\n      <td>2.654114</td>\n      <td>0.628246</td>\n      <td>7</td>\n    </tr>\n    <tr>\n      <th>422</th>\n      <td>142.0335</td>\n      <td>17064</td>\n      <td>right</td>\n      <td>1</td>\n      <td>17.333340</td>\n      <td>192.7994</td>\n      <td>53.030010</td>\n      <td>104.04750</td>\n      <td>165.17100</td>\n      <td>-6.662246</td>\n      <td>0.639270</td>\n      <td>0.216243</td>\n      <td>-0.178939</td>\n      <td>38.83024</td>\n      <td>154.8900</td>\n      <td>116.3512</td>\n      <td>169.6885</td>\n      <td>49.15894</td>\n      <td>330.1981</td>\n      <td>0.0</td>\n      <td>2.626608</td>\n      <td>0.608577</td>\n      <td>7</td>\n    </tr>\n    <tr>\n      <th>423</th>\n      <td>142.0501</td>\n      <td>17065</td>\n      <td>right</td>\n      <td>1</td>\n      <td>18.304800</td>\n      <td>194.3095</td>\n      <td>52.912470</td>\n      <td>111.88120</td>\n      <td>173.91010</td>\n      <td>-13.536420</td>\n      <td>0.641245</td>\n      <td>0.228430</td>\n      <td>-0.173522</td>\n      <td>39.47743</td>\n      <td>156.2263</td>\n      <td>116.2323</td>\n      <td>170.8151</td>\n      <td>48.90745</td>\n      <td>328.9917</td>\n      <td>0.0</td>\n      <td>2.635067</td>\n      <td>0.606528</td>\n      <td>7</td>\n    </tr>\n    <tr>\n      <th>424</th>\n      <td>142.0667</td>\n      <td>17067</td>\n      <td>right</td>\n      <td>1</td>\n      <td>20.644430</td>\n      <td>197.9036</td>\n      <td>52.539080</td>\n      <td>148.56490</td>\n      <td>215.47750</td>\n      <td>-19.559410</td>\n      <td>0.655173</td>\n      <td>0.232834</td>\n      <td>-0.152595</td>\n      <td>40.67534</td>\n      <td>158.5628</td>\n      <td>115.4412</td>\n      <td>172.6581</td>\n      <td>43.25099</td>\n      <td>323.5691</td>\n      <td>0.0</td>\n      <td>2.684964</td>\n      <td>0.606563</td>\n      <td>7</td>\n    </tr>\n    <tr>\n      <th>...</th>\n      <td>...</td>\n      <td>...</td>\n      <td>...</td>\n      <td>...</td>\n      <td>...</td>\n      <td>...</td>\n      <td>...</td>\n      <td>...</td>\n      <td>...</td>\n      <td>...</td>\n      <td>...</td>\n      <td>...</td>\n      <td>...</td>\n      <td>...</td>\n      <td>...</td>\n      <td>...</td>\n      <td>...</td>\n      <td>...</td>\n      <td>...</td>\n      <td>...</td>\n      <td>...</td>\n      <td>...</td>\n      <td>...</td>\n    </tr>\n    <tr>\n      <th>4290</th>\n      <td>208.1942</td>\n      <td>24687</td>\n      <td>right</td>\n      <td>1</td>\n      <td>-15.404800</td>\n      <td>208.0276</td>\n      <td>9.980799</td>\n      <td>167.86240</td>\n      <td>510.08520</td>\n      <td>-105.529500</td>\n      <td>0.235165</td>\n      <td>-0.401107</td>\n      <td>-0.282299</td>\n      <td>NaN</td>\n      <td>NaN</td>\n      <td>NaN</td>\n      <td>NaN</td>\n      <td>NaN</td>\n      <td>NaN</td>\n      <td>0.0</td>\n      <td>0.503490</td>\n      <td>0.000000</td>\n      <td>73</td>\n    </tr>\n    <tr>\n      <th>4291</th>\n      <td>208.2108</td>\n      <td>24689</td>\n      <td>right</td>\n      <td>1</td>\n      <td>-12.678650</td>\n      <td>218.1196</td>\n      <td>9.314082</td>\n      <td>145.00970</td>\n      <td>562.35940</td>\n      <td>-20.707010</td>\n      <td>0.309213</td>\n      <td>-0.548390</td>\n      <td>-0.263492</td>\n      <td>NaN</td>\n      <td>NaN</td>\n      <td>NaN</td>\n      <td>NaN</td>\n      <td>NaN</td>\n      <td>NaN</td>\n      <td>0.0</td>\n      <td>0.403687</td>\n      <td>0.000000</td>\n      <td>73</td>\n    </tr>\n    <tr>\n      <th>4292</th>\n      <td>208.2276</td>\n      <td>24691</td>\n      <td>right</td>\n      <td>1</td>\n      <td>-9.643562</td>\n      <td>228.2807</td>\n      <td>9.722980</td>\n      <td>180.42160</td>\n      <td>591.90190</td>\n      <td>28.880570</td>\n      <td>0.369046</td>\n      <td>-0.704982</td>\n      <td>-0.234337</td>\n      <td>NaN</td>\n      <td>NaN</td>\n      <td>NaN</td>\n      <td>NaN</td>\n      <td>NaN</td>\n      <td>NaN</td>\n      <td>0.0</td>\n      <td>0.310940</td>\n      <td>0.000000</td>\n      <td>73</td>\n    </tr>\n    <tr>\n      <th>4293</th>\n      <td>208.2443</td>\n      <td>24692</td>\n      <td>right</td>\n      <td>1</td>\n      <td>-7.980715</td>\n      <td>233.5056</td>\n      <td>10.419080</td>\n      <td>192.45930</td>\n      <td>604.73440</td>\n      <td>80.566980</td>\n      <td>0.381206</td>\n      <td>-0.770612</td>\n      <td>-0.222084</td>\n      <td>NaN</td>\n      <td>NaN</td>\n      <td>NaN</td>\n      <td>NaN</td>\n      <td>NaN</td>\n      <td>NaN</td>\n      <td>0.0</td>\n      <td>0.286526</td>\n      <td>0.000000</td>\n      <td>73</td>\n    </tr>\n    <tr>\n      <th>4294</th>\n      <td>208.2619</td>\n      <td>24694</td>\n      <td>right</td>\n      <td>1</td>\n      <td>-4.468731</td>\n      <td>243.8388</td>\n      <td>12.266750</td>\n      <td>212.20430</td>\n      <td>589.47780</td>\n      <td>133.989800</td>\n      <td>0.406293</td>\n      <td>-0.891489</td>\n      <td>-0.208401</td>\n      <td>NaN</td>\n      <td>NaN</td>\n      <td>NaN</td>\n      <td>NaN</td>\n      <td>NaN</td>\n      <td>NaN</td>\n      <td>0.0</td>\n      <td>0.237838</td>\n      <td>0.000000</td>\n      <td>73</td>\n    </tr>\n  </tbody>\n</table>\n<p>3875 rows × 23 columns</p>\n</div>"
     },
     "execution_count": 21,
     "metadata": {},
     "output_type": "execute_result"
    }
   ],
   "source": [
    "handright[handright[\"start_time\"] > handright.start_time.min() + 6]"
   ],
   "metadata": {
    "collapsed": false,
    "pycharm": {
     "name": "#%%\n"
    }
   }
  },
  {
   "cell_type": "code",
   "execution_count": 22,
   "outputs": [
    {
     "data": {
      "text/plain": "       Time   Frame ID  Hand Type   # hands   Position X   Position Y  \\\n0  427.2310     139071      right         2     69.65445     209.9525   \n1  427.2310     139071       left         2    -87.18215     204.5752   \n2  427.2483     139073      right         2     68.97833     215.1191   \n3  427.2483     139073       left         2    -85.20093     209.7387   \n4  427.2641     139075      right         2     68.11068     220.9579   \n\n    Position Z   Velocity X   Velocity Y   Velocity Z     Pitch      Roll  \\\n0    -18.54797    -65.04708     338.2631   -102.57630  0.865190 -1.009409   \n1    -40.50642    171.17460     247.9453    -96.48488  1.239694  0.685550   \n2    -20.12599    -44.44045     302.9170    -83.93305  0.863391 -1.005569   \n3    -41.18375     70.93041     344.8777    -46.40427  1.294470  0.710267   \n4    -21.77186    -22.08052     307.0574    -67.08289  0.875840 -1.017380   \n\n        Yaw   Wrist Pos X   Wrist Pos Y   Wrist Pos Z   Elbow pos X  \\\n0 -0.763543      112.1363      162.7645     10.928120      275.1779   \n1  1.220096     -137.3886      158.1433    -27.829490     -261.8767   \n2 -0.766907      111.5590      167.9522      9.239409      272.0606   \n3  1.276068     -135.5462      162.8801    -30.982930     -259.9806   \n4 -0.767062      110.1764      173.1205      7.244619      267.7276   \n\n    Elbow Pos Y   Elbow Pos Z   Grab Strenth   Grab Angle   Pinch Strength  \n0     -7.356547      87.30630            0.0     0.059833              0.0  \n1    -47.873840      30.62584            0.0     0.000000              0.0  \n2     -5.603438      83.23297            0.0     0.090605              0.0  \n3    -43.469070      26.40578            0.0     0.000000              0.0  \n4     -2.693964      82.23973            0.0     0.069295              0.0  ",
      "text/html": "<div>\n<style scoped>\n    .dataframe tbody tr th:only-of-type {\n        vertical-align: middle;\n    }\n\n    .dataframe tbody tr th {\n        vertical-align: top;\n    }\n\n    .dataframe thead th {\n        text-align: right;\n    }\n</style>\n<table border=\"1\" class=\"dataframe\">\n  <thead>\n    <tr style=\"text-align: right;\">\n      <th></th>\n      <th>Time</th>\n      <th>Frame ID</th>\n      <th>Hand Type</th>\n      <th># hands</th>\n      <th>Position X</th>\n      <th>Position Y</th>\n      <th>Position Z</th>\n      <th>Velocity X</th>\n      <th>Velocity Y</th>\n      <th>Velocity Z</th>\n      <th>Pitch</th>\n      <th>Roll</th>\n      <th>Yaw</th>\n      <th>Wrist Pos X</th>\n      <th>Wrist Pos Y</th>\n      <th>Wrist Pos Z</th>\n      <th>Elbow pos X</th>\n      <th>Elbow Pos Y</th>\n      <th>Elbow Pos Z</th>\n      <th>Grab Strenth</th>\n      <th>Grab Angle</th>\n      <th>Pinch Strength</th>\n    </tr>\n  </thead>\n  <tbody>\n    <tr>\n      <th>0</th>\n      <td>427.2310</td>\n      <td>139071</td>\n      <td>right</td>\n      <td>2</td>\n      <td>69.65445</td>\n      <td>209.9525</td>\n      <td>-18.54797</td>\n      <td>-65.04708</td>\n      <td>338.2631</td>\n      <td>-102.57630</td>\n      <td>0.865190</td>\n      <td>-1.009409</td>\n      <td>-0.763543</td>\n      <td>112.1363</td>\n      <td>162.7645</td>\n      <td>10.928120</td>\n      <td>275.1779</td>\n      <td>-7.356547</td>\n      <td>87.30630</td>\n      <td>0.0</td>\n      <td>0.059833</td>\n      <td>0.0</td>\n    </tr>\n    <tr>\n      <th>1</th>\n      <td>427.2310</td>\n      <td>139071</td>\n      <td>left</td>\n      <td>2</td>\n      <td>-87.18215</td>\n      <td>204.5752</td>\n      <td>-40.50642</td>\n      <td>171.17460</td>\n      <td>247.9453</td>\n      <td>-96.48488</td>\n      <td>1.239694</td>\n      <td>0.685550</td>\n      <td>1.220096</td>\n      <td>-137.3886</td>\n      <td>158.1433</td>\n      <td>-27.829490</td>\n      <td>-261.8767</td>\n      <td>-47.873840</td>\n      <td>30.62584</td>\n      <td>0.0</td>\n      <td>0.000000</td>\n      <td>0.0</td>\n    </tr>\n    <tr>\n      <th>2</th>\n      <td>427.2483</td>\n      <td>139073</td>\n      <td>right</td>\n      <td>2</td>\n      <td>68.97833</td>\n      <td>215.1191</td>\n      <td>-20.12599</td>\n      <td>-44.44045</td>\n      <td>302.9170</td>\n      <td>-83.93305</td>\n      <td>0.863391</td>\n      <td>-1.005569</td>\n      <td>-0.766907</td>\n      <td>111.5590</td>\n      <td>167.9522</td>\n      <td>9.239409</td>\n      <td>272.0606</td>\n      <td>-5.603438</td>\n      <td>83.23297</td>\n      <td>0.0</td>\n      <td>0.090605</td>\n      <td>0.0</td>\n    </tr>\n    <tr>\n      <th>3</th>\n      <td>427.2483</td>\n      <td>139073</td>\n      <td>left</td>\n      <td>2</td>\n      <td>-85.20093</td>\n      <td>209.7387</td>\n      <td>-41.18375</td>\n      <td>70.93041</td>\n      <td>344.8777</td>\n      <td>-46.40427</td>\n      <td>1.294470</td>\n      <td>0.710267</td>\n      <td>1.276068</td>\n      <td>-135.5462</td>\n      <td>162.8801</td>\n      <td>-30.982930</td>\n      <td>-259.9806</td>\n      <td>-43.469070</td>\n      <td>26.40578</td>\n      <td>0.0</td>\n      <td>0.000000</td>\n      <td>0.0</td>\n    </tr>\n    <tr>\n      <th>4</th>\n      <td>427.2641</td>\n      <td>139075</td>\n      <td>right</td>\n      <td>2</td>\n      <td>68.11068</td>\n      <td>220.9579</td>\n      <td>-21.77186</td>\n      <td>-22.08052</td>\n      <td>307.0574</td>\n      <td>-67.08289</td>\n      <td>0.875840</td>\n      <td>-1.017380</td>\n      <td>-0.767062</td>\n      <td>110.1764</td>\n      <td>173.1205</td>\n      <td>7.244619</td>\n      <td>267.7276</td>\n      <td>-2.693964</td>\n      <td>82.23973</td>\n      <td>0.0</td>\n      <td>0.069295</td>\n      <td>0.0</td>\n    </tr>\n  </tbody>\n</table>\n</div>"
     },
     "execution_count": 22,
     "metadata": {},
     "output_type": "execute_result"
    }
   ],
   "source": [
    "sync.head()"
   ],
   "metadata": {
    "collapsed": false,
    "pycharm": {
     "name": "#%%\n"
    }
   }
  },
  {
   "cell_type": "code",
   "execution_count": 23,
   "outputs": [
    {
     "name": "stdout",
     "output_type": "stream",
     "text": [
      "<class 'pandas.core.frame.DataFrame'>\n",
      "RangeIndex: 9052 entries, 0 to 9051\n",
      "Data columns (total 22 columns):\n",
      " #   Column           Non-Null Count  Dtype  \n",
      "---  ------           --------------  -----  \n",
      " 0   Time             9052 non-null   float64\n",
      " 1    Frame ID        9052 non-null   int64  \n",
      " 2    Hand Type       9052 non-null   object \n",
      " 3    # hands         9052 non-null   int64  \n",
      " 4    Position X      9052 non-null   float64\n",
      " 5    Position Y      9052 non-null   float64\n",
      " 6    Position Z      9052 non-null   float64\n",
      " 7    Velocity X      9052 non-null   float64\n",
      " 8    Velocity Y      9052 non-null   float64\n",
      " 9    Velocity Z      9052 non-null   float64\n",
      " 10   Pitch           9052 non-null   float64\n",
      " 11   Roll            9052 non-null   float64\n",
      " 12   Yaw             9052 non-null   float64\n",
      " 13   Wrist Pos X     9052 non-null   float64\n",
      " 14   Wrist Pos Y     9052 non-null   float64\n",
      " 15   Wrist Pos Z     9052 non-null   float64\n",
      " 16   Elbow pos X     9052 non-null   float64\n",
      " 17   Elbow Pos Y     9052 non-null   float64\n",
      " 18   Elbow Pos Z     9052 non-null   float64\n",
      " 19   Grab Strenth    9052 non-null   float64\n",
      " 20   Grab Angle      9052 non-null   float64\n",
      " 21   Pinch Strength  9052 non-null   float64\n",
      "dtypes: float64(19), int64(2), object(1)\n",
      "memory usage: 1.5+ MB\n"
     ]
    }
   ],
   "source": [
    "sync.info()"
   ],
   "metadata": {
    "collapsed": false,
    "pycharm": {
     "name": "#%%\n"
    }
   }
  },
  {
   "cell_type": "code",
   "execution_count": 24,
   "outputs": [
    {
     "data": {
      "text/plain": "Index(['time', 'frame id', 'hand type', '# hands', 'position x', 'position y',\n       'position z', 'velocity x', 'velocity y', 'velocity z', 'pitch', 'roll',\n       'yaw', 'wrist pos x', 'wrist pos y', 'wrist pos z', 'elbow pos x',\n       'elbow pos y', 'elbow pos z', 'grab strenth', 'grab angle',\n       'pinch strength'],\n      dtype='object')"
     },
     "execution_count": 24,
     "metadata": {},
     "output_type": "execute_result"
    }
   ],
   "source": [
    "# strip removes whitespaces, lower changes the uppercase letters to lowercase\n",
    "sync.columns = sync.columns.str.strip().str.lower()\n",
    "sync.columns"
   ],
   "metadata": {
    "collapsed": false,
    "pycharm": {
     "name": "#%%\n"
    }
   }
  },
  {
   "cell_type": "code",
   "execution_count": 25,
   "outputs": [],
   "source": [
    "# rename columns without spaces\n",
    "sync.columns = sync.columns.str.replace(\" \", \"_\")\n",
    "# change number of hands column name\n",
    "sync.columns = sync.columns.str.replace(\"#_hands\", \"n_hands\")"
   ],
   "metadata": {
    "collapsed": false,
    "pycharm": {
     "name": "#%%\n"
    }
   }
  },
  {
   "cell_type": "code",
   "execution_count": 26,
   "outputs": [
    {
     "data": {
      "text/plain": "array([2], dtype=int64)"
     },
     "execution_count": 26,
     "metadata": {},
     "output_type": "execute_result"
    }
   ],
   "source": [
    "sync.n_hands.unique()"
   ],
   "metadata": {
    "collapsed": false,
    "pycharm": {
     "name": "#%%\n"
    }
   }
  },
  {
   "cell_type": "code",
   "execution_count": 27,
   "outputs": [],
   "source": [
    "index_numbers = sync[sync[\"n_hands\"] == 1].index"
   ],
   "metadata": {
    "collapsed": false,
    "pycharm": {
     "name": "#%%\n"
    }
   }
  },
  {
   "cell_type": "code",
   "execution_count": 28,
   "outputs": [
    {
     "data": {
      "text/plain": "          time  frame_id hand_type  n_hands  position_x  position_y  \\\n0     427.2310    139071     right        2    69.65445    209.9525   \n1     427.2310    139071      left        2   -87.18215    204.5752   \n2     427.2483    139073     right        2    68.97833    215.1191   \n3     427.2483    139073      left        2   -85.20093    209.7387   \n4     427.2641    139075     right        2    68.11068    220.9579   \n...        ...       ...       ...      ...         ...         ...   \n9047  502.1665    147702      left        2   -93.68062    253.3679   \n9048  502.1830    147704     right        2   108.90170    178.8129   \n9049  502.1830    147704      left        2   -93.12487    250.4072   \n9050  502.1996    147706     right        2   108.96690    179.1278   \n9051  502.1996    147706      left        2   -92.35281    246.6158   \n\n      position_z  velocity_x  velocity_y  velocity_z     pitch      roll  \\\n0      -18.54797  -65.047080  338.263100  -102.57630  0.865190 -1.009409   \n1      -40.50642  171.174600  247.945300   -96.48488  1.239694  0.685550   \n2      -20.12599  -44.440450  302.917000   -83.93305  0.863391 -1.005569   \n3      -41.18375   70.930410  344.877700   -46.40427  1.294470  0.710267   \n4      -21.77186  -22.080520  307.057400   -67.08289  0.875840 -1.017380   \n...          ...         ...         ...         ...       ...       ...   \n9047    50.37835   32.269880 -161.195300  -137.36660  1.246310  1.297078   \n9048    31.02029  -15.531000   -5.445981   -50.80544  0.355584 -2.007045   \n9049    48.05837   32.141470 -157.050300  -124.67950  1.208146  1.327065   \n9050    30.35721    5.587708   20.259880   -34.82480  0.356135 -2.005629   \n9051    45.84472   56.623870 -228.451000  -134.96170  1.180058  1.358709   \n\n           yaw  wrist_pos_x  wrist_pos_y  wrist_pos_z  elbow_pos_x  \\\n0    -0.763543     112.1363     162.7645    10.928120     275.1779   \n1     1.220096    -137.3886     158.1433   -27.829490    -261.8767   \n2    -0.766907     111.5590     167.9522     9.239409     272.0606   \n3     1.276068    -135.5462     162.8801   -30.982930    -259.9806   \n4    -0.767062     110.1764     173.1205     7.244619     267.7276   \n...        ...          ...          ...          ...          ...   \n9047  0.956325    -126.9241     191.1363    58.912840    -302.6545   \n9048 -0.671661     153.5864     150.0203    78.108750     363.4342   \n9049  0.901075    -126.4018     188.6597    59.136610    -308.9988   \n9050 -0.669985     153.5919     150.3768    77.516830     364.0365   \n9051  0.855786    -125.3931     185.2068    58.869600    -314.7061   \n\n      elbow_pos_y  elbow_pos_z  grab_strenth  grab_angle  pinch_strength  \n0       -7.356547     87.30630           0.0    0.059833             0.0  \n1      -47.873840     30.62584           0.0    0.000000             0.0  \n2       -5.603438     83.23297           0.0    0.090605             0.0  \n3      -43.469070     26.40578           0.0    0.000000             0.0  \n4       -2.693964     82.23973           0.0    0.069295             0.0  \n...           ...          ...           ...         ...             ...  \n9047    12.995740     26.75648           0.0    0.000000             0.0  \n9048    50.553340    176.69620           0.0    0.144381             0.0  \n9049    15.970830     37.08796           0.0    0.000000             0.0  \n9050    52.970890    176.88680           0.0    0.148039             0.0  \n9051    19.054550     44.61267           0.0    0.000000             0.0  \n\n[9052 rows x 22 columns]",
      "text/html": "<div>\n<style scoped>\n    .dataframe tbody tr th:only-of-type {\n        vertical-align: middle;\n    }\n\n    .dataframe tbody tr th {\n        vertical-align: top;\n    }\n\n    .dataframe thead th {\n        text-align: right;\n    }\n</style>\n<table border=\"1\" class=\"dataframe\">\n  <thead>\n    <tr style=\"text-align: right;\">\n      <th></th>\n      <th>time</th>\n      <th>frame_id</th>\n      <th>hand_type</th>\n      <th>n_hands</th>\n      <th>position_x</th>\n      <th>position_y</th>\n      <th>position_z</th>\n      <th>velocity_x</th>\n      <th>velocity_y</th>\n      <th>velocity_z</th>\n      <th>pitch</th>\n      <th>roll</th>\n      <th>yaw</th>\n      <th>wrist_pos_x</th>\n      <th>wrist_pos_y</th>\n      <th>wrist_pos_z</th>\n      <th>elbow_pos_x</th>\n      <th>elbow_pos_y</th>\n      <th>elbow_pos_z</th>\n      <th>grab_strenth</th>\n      <th>grab_angle</th>\n      <th>pinch_strength</th>\n    </tr>\n  </thead>\n  <tbody>\n    <tr>\n      <th>0</th>\n      <td>427.2310</td>\n      <td>139071</td>\n      <td>right</td>\n      <td>2</td>\n      <td>69.65445</td>\n      <td>209.9525</td>\n      <td>-18.54797</td>\n      <td>-65.047080</td>\n      <td>338.263100</td>\n      <td>-102.57630</td>\n      <td>0.865190</td>\n      <td>-1.009409</td>\n      <td>-0.763543</td>\n      <td>112.1363</td>\n      <td>162.7645</td>\n      <td>10.928120</td>\n      <td>275.1779</td>\n      <td>-7.356547</td>\n      <td>87.30630</td>\n      <td>0.0</td>\n      <td>0.059833</td>\n      <td>0.0</td>\n    </tr>\n    <tr>\n      <th>1</th>\n      <td>427.2310</td>\n      <td>139071</td>\n      <td>left</td>\n      <td>2</td>\n      <td>-87.18215</td>\n      <td>204.5752</td>\n      <td>-40.50642</td>\n      <td>171.174600</td>\n      <td>247.945300</td>\n      <td>-96.48488</td>\n      <td>1.239694</td>\n      <td>0.685550</td>\n      <td>1.220096</td>\n      <td>-137.3886</td>\n      <td>158.1433</td>\n      <td>-27.829490</td>\n      <td>-261.8767</td>\n      <td>-47.873840</td>\n      <td>30.62584</td>\n      <td>0.0</td>\n      <td>0.000000</td>\n      <td>0.0</td>\n    </tr>\n    <tr>\n      <th>2</th>\n      <td>427.2483</td>\n      <td>139073</td>\n      <td>right</td>\n      <td>2</td>\n      <td>68.97833</td>\n      <td>215.1191</td>\n      <td>-20.12599</td>\n      <td>-44.440450</td>\n      <td>302.917000</td>\n      <td>-83.93305</td>\n      <td>0.863391</td>\n      <td>-1.005569</td>\n      <td>-0.766907</td>\n      <td>111.5590</td>\n      <td>167.9522</td>\n      <td>9.239409</td>\n      <td>272.0606</td>\n      <td>-5.603438</td>\n      <td>83.23297</td>\n      <td>0.0</td>\n      <td>0.090605</td>\n      <td>0.0</td>\n    </tr>\n    <tr>\n      <th>3</th>\n      <td>427.2483</td>\n      <td>139073</td>\n      <td>left</td>\n      <td>2</td>\n      <td>-85.20093</td>\n      <td>209.7387</td>\n      <td>-41.18375</td>\n      <td>70.930410</td>\n      <td>344.877700</td>\n      <td>-46.40427</td>\n      <td>1.294470</td>\n      <td>0.710267</td>\n      <td>1.276068</td>\n      <td>-135.5462</td>\n      <td>162.8801</td>\n      <td>-30.982930</td>\n      <td>-259.9806</td>\n      <td>-43.469070</td>\n      <td>26.40578</td>\n      <td>0.0</td>\n      <td>0.000000</td>\n      <td>0.0</td>\n    </tr>\n    <tr>\n      <th>4</th>\n      <td>427.2641</td>\n      <td>139075</td>\n      <td>right</td>\n      <td>2</td>\n      <td>68.11068</td>\n      <td>220.9579</td>\n      <td>-21.77186</td>\n      <td>-22.080520</td>\n      <td>307.057400</td>\n      <td>-67.08289</td>\n      <td>0.875840</td>\n      <td>-1.017380</td>\n      <td>-0.767062</td>\n      <td>110.1764</td>\n      <td>173.1205</td>\n      <td>7.244619</td>\n      <td>267.7276</td>\n      <td>-2.693964</td>\n      <td>82.23973</td>\n      <td>0.0</td>\n      <td>0.069295</td>\n      <td>0.0</td>\n    </tr>\n    <tr>\n      <th>...</th>\n      <td>...</td>\n      <td>...</td>\n      <td>...</td>\n      <td>...</td>\n      <td>...</td>\n      <td>...</td>\n      <td>...</td>\n      <td>...</td>\n      <td>...</td>\n      <td>...</td>\n      <td>...</td>\n      <td>...</td>\n      <td>...</td>\n      <td>...</td>\n      <td>...</td>\n      <td>...</td>\n      <td>...</td>\n      <td>...</td>\n      <td>...</td>\n      <td>...</td>\n      <td>...</td>\n      <td>...</td>\n    </tr>\n    <tr>\n      <th>9047</th>\n      <td>502.1665</td>\n      <td>147702</td>\n      <td>left</td>\n      <td>2</td>\n      <td>-93.68062</td>\n      <td>253.3679</td>\n      <td>50.37835</td>\n      <td>32.269880</td>\n      <td>-161.195300</td>\n      <td>-137.36660</td>\n      <td>1.246310</td>\n      <td>1.297078</td>\n      <td>0.956325</td>\n      <td>-126.9241</td>\n      <td>191.1363</td>\n      <td>58.912840</td>\n      <td>-302.6545</td>\n      <td>12.995740</td>\n      <td>26.75648</td>\n      <td>0.0</td>\n      <td>0.000000</td>\n      <td>0.0</td>\n    </tr>\n    <tr>\n      <th>9048</th>\n      <td>502.1830</td>\n      <td>147704</td>\n      <td>right</td>\n      <td>2</td>\n      <td>108.90170</td>\n      <td>178.8129</td>\n      <td>31.02029</td>\n      <td>-15.531000</td>\n      <td>-5.445981</td>\n      <td>-50.80544</td>\n      <td>0.355584</td>\n      <td>-2.007045</td>\n      <td>-0.671661</td>\n      <td>153.5864</td>\n      <td>150.0203</td>\n      <td>78.108750</td>\n      <td>363.4342</td>\n      <td>50.553340</td>\n      <td>176.69620</td>\n      <td>0.0</td>\n      <td>0.144381</td>\n      <td>0.0</td>\n    </tr>\n    <tr>\n      <th>9049</th>\n      <td>502.1830</td>\n      <td>147704</td>\n      <td>left</td>\n      <td>2</td>\n      <td>-93.12487</td>\n      <td>250.4072</td>\n      <td>48.05837</td>\n      <td>32.141470</td>\n      <td>-157.050300</td>\n      <td>-124.67950</td>\n      <td>1.208146</td>\n      <td>1.327065</td>\n      <td>0.901075</td>\n      <td>-126.4018</td>\n      <td>188.6597</td>\n      <td>59.136610</td>\n      <td>-308.9988</td>\n      <td>15.970830</td>\n      <td>37.08796</td>\n      <td>0.0</td>\n      <td>0.000000</td>\n      <td>0.0</td>\n    </tr>\n    <tr>\n      <th>9050</th>\n      <td>502.1996</td>\n      <td>147706</td>\n      <td>right</td>\n      <td>2</td>\n      <td>108.96690</td>\n      <td>179.1278</td>\n      <td>30.35721</td>\n      <td>5.587708</td>\n      <td>20.259880</td>\n      <td>-34.82480</td>\n      <td>0.356135</td>\n      <td>-2.005629</td>\n      <td>-0.669985</td>\n      <td>153.5919</td>\n      <td>150.3768</td>\n      <td>77.516830</td>\n      <td>364.0365</td>\n      <td>52.970890</td>\n      <td>176.88680</td>\n      <td>0.0</td>\n      <td>0.148039</td>\n      <td>0.0</td>\n    </tr>\n    <tr>\n      <th>9051</th>\n      <td>502.1996</td>\n      <td>147706</td>\n      <td>left</td>\n      <td>2</td>\n      <td>-92.35281</td>\n      <td>246.6158</td>\n      <td>45.84472</td>\n      <td>56.623870</td>\n      <td>-228.451000</td>\n      <td>-134.96170</td>\n      <td>1.180058</td>\n      <td>1.358709</td>\n      <td>0.855786</td>\n      <td>-125.3931</td>\n      <td>185.2068</td>\n      <td>58.869600</td>\n      <td>-314.7061</td>\n      <td>19.054550</td>\n      <td>44.61267</td>\n      <td>0.0</td>\n      <td>0.000000</td>\n      <td>0.0</td>\n    </tr>\n  </tbody>\n</table>\n<p>9052 rows × 22 columns</p>\n</div>"
     },
     "execution_count": 28,
     "metadata": {},
     "output_type": "execute_result"
    }
   ],
   "source": [
    "sync.drop(index_numbers, inplace=False)"
   ],
   "metadata": {
    "collapsed": false,
    "pycharm": {
     "name": "#%%\n"
    }
   }
  },
  {
   "cell_type": "code",
   "execution_count": 29,
   "outputs": [],
   "source": [
    "sync.time = sync.time.round(2)"
   ],
   "metadata": {
    "collapsed": false,
    "pycharm": {
     "name": "#%%\n"
    }
   }
  },
  {
   "cell_type": "code",
   "execution_count": 30,
   "outputs": [
    {
     "data": {
      "text/plain": "                  frame_id  n_hands  position_x  position_y  position_z  \\\ntime   hand_type                                                          \n427.23 left       139071.0      2.0   -87.18215    204.5752   -40.50642   \n       right      139071.0      2.0    69.65445    209.9525   -18.54797   \n427.25 left       139073.0      2.0   -85.20093    209.7387   -41.18375   \n       right      139073.0      2.0    68.97833    215.1191   -20.12599   \n427.26 left       139075.0      2.0   -83.49533    214.9115   -42.59961   \n...                    ...      ...         ...         ...         ...   \n502.17 right      147702.0      2.0   109.17140    179.3461    31.84416   \n502.18 left       147704.0      2.0   -93.12487    250.4072    48.05837   \n       right      147704.0      2.0   108.90170    178.8129    31.02029   \n502.20 left       147706.0      2.0   -92.35281    246.6158    45.84472   \n       right      147706.0      2.0   108.96690    179.1278    30.35721   \n\n                  velocity_x  velocity_y  velocity_z     pitch      roll  \\\ntime   hand_type                                                           \n427.23 left       171.174600  247.945300   -96.48488  1.239694  0.685550   \n       right      -65.047080  338.263100  -102.57630  0.865190 -1.009409   \n427.25 left        70.930410  344.877700   -46.40427  1.294470  0.710267   \n       right      -44.440450  302.917000   -83.93305  0.863391 -1.005569   \n427.26 left        85.710340  348.234600  -102.02660  1.331296  0.730335   \n...                      ...         ...         ...       ...       ...   \n502.17 right      -46.123690  -69.914710   -57.69822  0.355285 -1.995915   \n502.18 left        32.141470 -157.050300  -124.67950  1.208146  1.327065   \n       right      -15.531000   -5.445981   -50.80544  0.355584 -2.007045   \n502.20 left        56.623870 -228.451000  -134.96170  1.180058  1.358709   \n       right        5.587708   20.259880   -34.82480  0.356135 -2.005629   \n\n                       yaw  wrist_pos_x  wrist_pos_y  wrist_pos_z  \\\ntime   hand_type                                                    \n427.23 left       1.220096    -137.3886     158.1433   -27.829490   \n       right     -0.763543     112.1363     162.7645    10.928120   \n427.25 left       1.276068    -135.5462     162.8801   -30.982930   \n       right     -0.766907     111.5590     167.9522     9.239409   \n427.26 left       1.312464    -133.7321     167.7086   -33.756650   \n...                    ...          ...          ...          ...   \n502.17 right     -0.671905     153.8897     150.4046    78.829510   \n502.18 left       0.901075    -126.4018     188.6597    59.136610   \n       right     -0.671661     153.5864     150.0203    78.108750   \n502.20 left       0.855786    -125.3931     185.2068    58.869600   \n       right     -0.669985     153.5919     150.3768    77.516830   \n\n                  elbow_pos_x  elbow_pos_y  elbow_pos_z  grab_strenth  \\\ntime   hand_type                                                        \n427.23 left         -261.8767   -47.873840     30.62584           0.0   \n       right         275.1779    -7.356547     87.30630           0.0   \n427.25 left         -259.9806   -43.469070     26.40578           0.0   \n       right         272.0606    -5.603438     83.23297           0.0   \n427.26 left         -257.4434   -37.249580     29.84401           0.0   \n...                       ...          ...          ...           ...   \n502.17 right         362.5193    46.762530    175.68630           0.0   \n502.18 left         -308.9988    15.970830     37.08796           0.0   \n       right         363.4342    50.553340    176.69620           0.0   \n502.20 left         -314.7061    19.054550     44.61267           0.0   \n       right         364.0365    52.970890    176.88680           0.0   \n\n                  grab_angle  pinch_strength  \ntime   hand_type                              \n427.23 left         0.000000             0.0  \n       right        0.059833             0.0  \n427.25 left         0.000000             0.0  \n       right        0.090605             0.0  \n427.26 left         0.000000             0.0  \n...                      ...             ...  \n502.17 right        0.137555             0.0  \n502.18 left         0.000000             0.0  \n       right        0.144381             0.0  \n502.20 left         0.000000             0.0  \n       right        0.148039             0.0  \n\n[9052 rows x 20 columns]",
      "text/html": "<div>\n<style scoped>\n    .dataframe tbody tr th:only-of-type {\n        vertical-align: middle;\n    }\n\n    .dataframe tbody tr th {\n        vertical-align: top;\n    }\n\n    .dataframe thead th {\n        text-align: right;\n    }\n</style>\n<table border=\"1\" class=\"dataframe\">\n  <thead>\n    <tr style=\"text-align: right;\">\n      <th></th>\n      <th></th>\n      <th>frame_id</th>\n      <th>n_hands</th>\n      <th>position_x</th>\n      <th>position_y</th>\n      <th>position_z</th>\n      <th>velocity_x</th>\n      <th>velocity_y</th>\n      <th>velocity_z</th>\n      <th>pitch</th>\n      <th>roll</th>\n      <th>yaw</th>\n      <th>wrist_pos_x</th>\n      <th>wrist_pos_y</th>\n      <th>wrist_pos_z</th>\n      <th>elbow_pos_x</th>\n      <th>elbow_pos_y</th>\n      <th>elbow_pos_z</th>\n      <th>grab_strenth</th>\n      <th>grab_angle</th>\n      <th>pinch_strength</th>\n    </tr>\n    <tr>\n      <th>time</th>\n      <th>hand_type</th>\n      <th></th>\n      <th></th>\n      <th></th>\n      <th></th>\n      <th></th>\n      <th></th>\n      <th></th>\n      <th></th>\n      <th></th>\n      <th></th>\n      <th></th>\n      <th></th>\n      <th></th>\n      <th></th>\n      <th></th>\n      <th></th>\n      <th></th>\n      <th></th>\n      <th></th>\n      <th></th>\n    </tr>\n  </thead>\n  <tbody>\n    <tr>\n      <th rowspan=\"2\" valign=\"top\">427.23</th>\n      <th>left</th>\n      <td>139071.0</td>\n      <td>2.0</td>\n      <td>-87.18215</td>\n      <td>204.5752</td>\n      <td>-40.50642</td>\n      <td>171.174600</td>\n      <td>247.945300</td>\n      <td>-96.48488</td>\n      <td>1.239694</td>\n      <td>0.685550</td>\n      <td>1.220096</td>\n      <td>-137.3886</td>\n      <td>158.1433</td>\n      <td>-27.829490</td>\n      <td>-261.8767</td>\n      <td>-47.873840</td>\n      <td>30.62584</td>\n      <td>0.0</td>\n      <td>0.000000</td>\n      <td>0.0</td>\n    </tr>\n    <tr>\n      <th>right</th>\n      <td>139071.0</td>\n      <td>2.0</td>\n      <td>69.65445</td>\n      <td>209.9525</td>\n      <td>-18.54797</td>\n      <td>-65.047080</td>\n      <td>338.263100</td>\n      <td>-102.57630</td>\n      <td>0.865190</td>\n      <td>-1.009409</td>\n      <td>-0.763543</td>\n      <td>112.1363</td>\n      <td>162.7645</td>\n      <td>10.928120</td>\n      <td>275.1779</td>\n      <td>-7.356547</td>\n      <td>87.30630</td>\n      <td>0.0</td>\n      <td>0.059833</td>\n      <td>0.0</td>\n    </tr>\n    <tr>\n      <th rowspan=\"2\" valign=\"top\">427.25</th>\n      <th>left</th>\n      <td>139073.0</td>\n      <td>2.0</td>\n      <td>-85.20093</td>\n      <td>209.7387</td>\n      <td>-41.18375</td>\n      <td>70.930410</td>\n      <td>344.877700</td>\n      <td>-46.40427</td>\n      <td>1.294470</td>\n      <td>0.710267</td>\n      <td>1.276068</td>\n      <td>-135.5462</td>\n      <td>162.8801</td>\n      <td>-30.982930</td>\n      <td>-259.9806</td>\n      <td>-43.469070</td>\n      <td>26.40578</td>\n      <td>0.0</td>\n      <td>0.000000</td>\n      <td>0.0</td>\n    </tr>\n    <tr>\n      <th>right</th>\n      <td>139073.0</td>\n      <td>2.0</td>\n      <td>68.97833</td>\n      <td>215.1191</td>\n      <td>-20.12599</td>\n      <td>-44.440450</td>\n      <td>302.917000</td>\n      <td>-83.93305</td>\n      <td>0.863391</td>\n      <td>-1.005569</td>\n      <td>-0.766907</td>\n      <td>111.5590</td>\n      <td>167.9522</td>\n      <td>9.239409</td>\n      <td>272.0606</td>\n      <td>-5.603438</td>\n      <td>83.23297</td>\n      <td>0.0</td>\n      <td>0.090605</td>\n      <td>0.0</td>\n    </tr>\n    <tr>\n      <th>427.26</th>\n      <th>left</th>\n      <td>139075.0</td>\n      <td>2.0</td>\n      <td>-83.49533</td>\n      <td>214.9115</td>\n      <td>-42.59961</td>\n      <td>85.710340</td>\n      <td>348.234600</td>\n      <td>-102.02660</td>\n      <td>1.331296</td>\n      <td>0.730335</td>\n      <td>1.312464</td>\n      <td>-133.7321</td>\n      <td>167.7086</td>\n      <td>-33.756650</td>\n      <td>-257.4434</td>\n      <td>-37.249580</td>\n      <td>29.84401</td>\n      <td>0.0</td>\n      <td>0.000000</td>\n      <td>0.0</td>\n    </tr>\n    <tr>\n      <th>...</th>\n      <th>...</th>\n      <td>...</td>\n      <td>...</td>\n      <td>...</td>\n      <td>...</td>\n      <td>...</td>\n      <td>...</td>\n      <td>...</td>\n      <td>...</td>\n      <td>...</td>\n      <td>...</td>\n      <td>...</td>\n      <td>...</td>\n      <td>...</td>\n      <td>...</td>\n      <td>...</td>\n      <td>...</td>\n      <td>...</td>\n      <td>...</td>\n      <td>...</td>\n      <td>...</td>\n    </tr>\n    <tr>\n      <th>502.17</th>\n      <th>right</th>\n      <td>147702.0</td>\n      <td>2.0</td>\n      <td>109.17140</td>\n      <td>179.3461</td>\n      <td>31.84416</td>\n      <td>-46.123690</td>\n      <td>-69.914710</td>\n      <td>-57.69822</td>\n      <td>0.355285</td>\n      <td>-1.995915</td>\n      <td>-0.671905</td>\n      <td>153.8897</td>\n      <td>150.4046</td>\n      <td>78.829510</td>\n      <td>362.5193</td>\n      <td>46.762530</td>\n      <td>175.68630</td>\n      <td>0.0</td>\n      <td>0.137555</td>\n      <td>0.0</td>\n    </tr>\n    <tr>\n      <th rowspan=\"2\" valign=\"top\">502.18</th>\n      <th>left</th>\n      <td>147704.0</td>\n      <td>2.0</td>\n      <td>-93.12487</td>\n      <td>250.4072</td>\n      <td>48.05837</td>\n      <td>32.141470</td>\n      <td>-157.050300</td>\n      <td>-124.67950</td>\n      <td>1.208146</td>\n      <td>1.327065</td>\n      <td>0.901075</td>\n      <td>-126.4018</td>\n      <td>188.6597</td>\n      <td>59.136610</td>\n      <td>-308.9988</td>\n      <td>15.970830</td>\n      <td>37.08796</td>\n      <td>0.0</td>\n      <td>0.000000</td>\n      <td>0.0</td>\n    </tr>\n    <tr>\n      <th>right</th>\n      <td>147704.0</td>\n      <td>2.0</td>\n      <td>108.90170</td>\n      <td>178.8129</td>\n      <td>31.02029</td>\n      <td>-15.531000</td>\n      <td>-5.445981</td>\n      <td>-50.80544</td>\n      <td>0.355584</td>\n      <td>-2.007045</td>\n      <td>-0.671661</td>\n      <td>153.5864</td>\n      <td>150.0203</td>\n      <td>78.108750</td>\n      <td>363.4342</td>\n      <td>50.553340</td>\n      <td>176.69620</td>\n      <td>0.0</td>\n      <td>0.144381</td>\n      <td>0.0</td>\n    </tr>\n    <tr>\n      <th rowspan=\"2\" valign=\"top\">502.20</th>\n      <th>left</th>\n      <td>147706.0</td>\n      <td>2.0</td>\n      <td>-92.35281</td>\n      <td>246.6158</td>\n      <td>45.84472</td>\n      <td>56.623870</td>\n      <td>-228.451000</td>\n      <td>-134.96170</td>\n      <td>1.180058</td>\n      <td>1.358709</td>\n      <td>0.855786</td>\n      <td>-125.3931</td>\n      <td>185.2068</td>\n      <td>58.869600</td>\n      <td>-314.7061</td>\n      <td>19.054550</td>\n      <td>44.61267</td>\n      <td>0.0</td>\n      <td>0.000000</td>\n      <td>0.0</td>\n    </tr>\n    <tr>\n      <th>right</th>\n      <td>147706.0</td>\n      <td>2.0</td>\n      <td>108.96690</td>\n      <td>179.1278</td>\n      <td>30.35721</td>\n      <td>5.587708</td>\n      <td>20.259880</td>\n      <td>-34.82480</td>\n      <td>0.356135</td>\n      <td>-2.005629</td>\n      <td>-0.669985</td>\n      <td>153.5919</td>\n      <td>150.3768</td>\n      <td>77.516830</td>\n      <td>364.0365</td>\n      <td>52.970890</td>\n      <td>176.88680</td>\n      <td>0.0</td>\n      <td>0.148039</td>\n      <td>0.0</td>\n    </tr>\n  </tbody>\n</table>\n<p>9052 rows × 20 columns</p>\n</div>"
     },
     "execution_count": 30,
     "metadata": {},
     "output_type": "execute_result"
    }
   ],
   "source": [
    "sync.groupby([\"time\", \"hand_type\"]).mean()"
   ],
   "metadata": {
    "collapsed": false,
    "pycharm": {
     "name": "#%%\n"
    }
   }
  },
  {
   "cell_type": "code",
   "execution_count": 31,
   "outputs": [
    {
     "data": {
      "text/plain": "     time  frame_id hand_type  n_hands  position_x  position_y  position_z  \\\n0  427.23    139071     right        2    69.65445    209.9525   -18.54797   \n1  427.23    139071      left        2   -87.18215    204.5752   -40.50642   \n2  427.25    139073     right        2    68.97833    215.1191   -20.12599   \n3  427.25    139073      left        2   -85.20093    209.7387   -41.18375   \n4  427.26    139075     right        2    68.11068    220.9579   -21.77186   \n\n   velocity_x  velocity_y  velocity_z     pitch      roll       yaw  \\\n0   -65.04708    338.2631  -102.57630  0.865190 -1.009409 -0.763543   \n1   171.17460    247.9453   -96.48488  1.239694  0.685550  1.220096   \n2   -44.44045    302.9170   -83.93305  0.863391 -1.005569 -0.766907   \n3    70.93041    344.8777   -46.40427  1.294470  0.710267  1.276068   \n4   -22.08052    307.0574   -67.08289  0.875840 -1.017380 -0.767062   \n\n   wrist_pos_x  wrist_pos_y  wrist_pos_z  elbow_pos_x  elbow_pos_y  \\\n0     112.1363     162.7645    10.928120     275.1779    -7.356547   \n1    -137.3886     158.1433   -27.829490    -261.8767   -47.873840   \n2     111.5590     167.9522     9.239409     272.0606    -5.603438   \n3    -135.5462     162.8801   -30.982930    -259.9806   -43.469070   \n4     110.1764     173.1205     7.244619     267.7276    -2.693964   \n\n   elbow_pos_z  grab_strenth  grab_angle  pinch_strength  \n0     87.30630           0.0    0.059833             0.0  \n1     30.62584           0.0    0.000000             0.0  \n2     83.23297           0.0    0.090605             0.0  \n3     26.40578           0.0    0.000000             0.0  \n4     82.23973           0.0    0.069295             0.0  ",
      "text/html": "<div>\n<style scoped>\n    .dataframe tbody tr th:only-of-type {\n        vertical-align: middle;\n    }\n\n    .dataframe tbody tr th {\n        vertical-align: top;\n    }\n\n    .dataframe thead th {\n        text-align: right;\n    }\n</style>\n<table border=\"1\" class=\"dataframe\">\n  <thead>\n    <tr style=\"text-align: right;\">\n      <th></th>\n      <th>time</th>\n      <th>frame_id</th>\n      <th>hand_type</th>\n      <th>n_hands</th>\n      <th>position_x</th>\n      <th>position_y</th>\n      <th>position_z</th>\n      <th>velocity_x</th>\n      <th>velocity_y</th>\n      <th>velocity_z</th>\n      <th>pitch</th>\n      <th>roll</th>\n      <th>yaw</th>\n      <th>wrist_pos_x</th>\n      <th>wrist_pos_y</th>\n      <th>wrist_pos_z</th>\n      <th>elbow_pos_x</th>\n      <th>elbow_pos_y</th>\n      <th>elbow_pos_z</th>\n      <th>grab_strenth</th>\n      <th>grab_angle</th>\n      <th>pinch_strength</th>\n    </tr>\n  </thead>\n  <tbody>\n    <tr>\n      <th>0</th>\n      <td>427.23</td>\n      <td>139071</td>\n      <td>right</td>\n      <td>2</td>\n      <td>69.65445</td>\n      <td>209.9525</td>\n      <td>-18.54797</td>\n      <td>-65.04708</td>\n      <td>338.2631</td>\n      <td>-102.57630</td>\n      <td>0.865190</td>\n      <td>-1.009409</td>\n      <td>-0.763543</td>\n      <td>112.1363</td>\n      <td>162.7645</td>\n      <td>10.928120</td>\n      <td>275.1779</td>\n      <td>-7.356547</td>\n      <td>87.30630</td>\n      <td>0.0</td>\n      <td>0.059833</td>\n      <td>0.0</td>\n    </tr>\n    <tr>\n      <th>1</th>\n      <td>427.23</td>\n      <td>139071</td>\n      <td>left</td>\n      <td>2</td>\n      <td>-87.18215</td>\n      <td>204.5752</td>\n      <td>-40.50642</td>\n      <td>171.17460</td>\n      <td>247.9453</td>\n      <td>-96.48488</td>\n      <td>1.239694</td>\n      <td>0.685550</td>\n      <td>1.220096</td>\n      <td>-137.3886</td>\n      <td>158.1433</td>\n      <td>-27.829490</td>\n      <td>-261.8767</td>\n      <td>-47.873840</td>\n      <td>30.62584</td>\n      <td>0.0</td>\n      <td>0.000000</td>\n      <td>0.0</td>\n    </tr>\n    <tr>\n      <th>2</th>\n      <td>427.25</td>\n      <td>139073</td>\n      <td>right</td>\n      <td>2</td>\n      <td>68.97833</td>\n      <td>215.1191</td>\n      <td>-20.12599</td>\n      <td>-44.44045</td>\n      <td>302.9170</td>\n      <td>-83.93305</td>\n      <td>0.863391</td>\n      <td>-1.005569</td>\n      <td>-0.766907</td>\n      <td>111.5590</td>\n      <td>167.9522</td>\n      <td>9.239409</td>\n      <td>272.0606</td>\n      <td>-5.603438</td>\n      <td>83.23297</td>\n      <td>0.0</td>\n      <td>0.090605</td>\n      <td>0.0</td>\n    </tr>\n    <tr>\n      <th>3</th>\n      <td>427.25</td>\n      <td>139073</td>\n      <td>left</td>\n      <td>2</td>\n      <td>-85.20093</td>\n      <td>209.7387</td>\n      <td>-41.18375</td>\n      <td>70.93041</td>\n      <td>344.8777</td>\n      <td>-46.40427</td>\n      <td>1.294470</td>\n      <td>0.710267</td>\n      <td>1.276068</td>\n      <td>-135.5462</td>\n      <td>162.8801</td>\n      <td>-30.982930</td>\n      <td>-259.9806</td>\n      <td>-43.469070</td>\n      <td>26.40578</td>\n      <td>0.0</td>\n      <td>0.000000</td>\n      <td>0.0</td>\n    </tr>\n    <tr>\n      <th>4</th>\n      <td>427.26</td>\n      <td>139075</td>\n      <td>right</td>\n      <td>2</td>\n      <td>68.11068</td>\n      <td>220.9579</td>\n      <td>-21.77186</td>\n      <td>-22.08052</td>\n      <td>307.0574</td>\n      <td>-67.08289</td>\n      <td>0.875840</td>\n      <td>-1.017380</td>\n      <td>-0.767062</td>\n      <td>110.1764</td>\n      <td>173.1205</td>\n      <td>7.244619</td>\n      <td>267.7276</td>\n      <td>-2.693964</td>\n      <td>82.23973</td>\n      <td>0.0</td>\n      <td>0.069295</td>\n      <td>0.0</td>\n    </tr>\n  </tbody>\n</table>\n</div>"
     },
     "execution_count": 31,
     "metadata": {},
     "output_type": "execute_result"
    }
   ],
   "source": [
    "sync.head()"
   ],
   "metadata": {
    "collapsed": false,
    "pycharm": {
     "name": "#%%\n"
    }
   }
  },
  {
   "cell_type": "code",
   "execution_count": 32,
   "outputs": [],
   "source": [
    "# sync.time = sync.time.agg(lambda x: x-427)"
   ],
   "metadata": {
    "collapsed": false,
    "pycharm": {
     "name": "#%%\n"
    }
   }
  },
  {
   "cell_type": "code",
   "execution_count": 33,
   "outputs": [],
   "source": [
    "# sync.set_index(\"Time\", drop=True, inplace=False)"
   ],
   "metadata": {
    "collapsed": false,
    "pycharm": {
     "name": "#%%\n"
    }
   }
  },
  {
   "cell_type": "code",
   "execution_count": 34,
   "outputs": [],
   "source": [
    "left = sync.groupby(\"hand_type\").get_group(\"left\").drop([\"hand_type\", \"n_hands\"], axis=1)\n",
    "right = sync.groupby(\"hand_type\").get_group(\"right\").drop([\"hand_type\", \"n_hands\"], axis=1)"
   ],
   "metadata": {
    "collapsed": false,
    "pycharm": {
     "name": "#%%\n"
    }
   }
  },
  {
   "cell_type": "code",
   "execution_count": 35,
   "outputs": [],
   "source": [
    "keep_same = {\"time\", \"frame_id\"}\n",
    "left.columns = left.columns.map(lambda x: x if x in keep_same else x + \"_left\")\n",
    "right.columns = right.columns.map(lambda x: x if x in keep_same else x + \"_right\")"
   ],
   "metadata": {
    "collapsed": false,
    "pycharm": {
     "name": "#%%\n"
    }
   }
  },
  {
   "cell_type": "code",
   "execution_count": 36,
   "outputs": [
    {
     "data": {
      "text/plain": "        time  frame_id  position_x_left  position_y_left  position_z_left  \\\n0     427.23    139071        -87.18215         204.5752        -40.50642   \n1     427.25    139073        -85.20093         209.7387        -41.18375   \n2     427.26    139075        -83.49533         214.9115        -42.59961   \n3     427.28    139077        -83.51068         221.4817        -44.18541   \n4     427.30    139078        -83.72626         224.9673        -44.57369   \n...      ...       ...              ...              ...              ...   \n4521  502.13    147698        -94.49778         257.4222         55.64758   \n4522  502.15    147700        -94.05425         255.8155         52.81230   \n4523  502.17    147702        -93.68062         253.3679         50.37835   \n4524  502.18    147704        -93.12487         250.4072         48.05837   \n4525  502.20    147706        -92.35281         246.6158         45.84472   \n\n      velocity_x_left  velocity_y_left  velocity_z_left  pitch_left  \\\n0          171.174600        247.94530        -96.48488    1.239694   \n1           70.930410        344.87770        -46.40427    1.294470   \n2           85.710340        348.23460       -102.02660    1.331296   \n3            0.287095        388.70420        -86.57835    1.358686   \n4          -24.301780        392.91710        -43.76951    1.375643   \n...               ...              ...              ...         ...   \n4521        36.686230        -78.04737       -178.26260    1.323389   \n4522        30.153270       -144.97720       -155.62700    1.285448   \n4523        32.269880       -161.19530       -137.36660    1.246310   \n4524        32.141470       -157.05030       -124.67950    1.208146   \n4525        56.623870       -228.45100       -134.96170    1.180058   \n\n      roll_left  yaw_left  wrist_pos_x_left  wrist_pos_y_left  \\\n0      0.685550  1.220096         -137.3886          158.1433   \n1      0.710267  1.276068         -135.5462          162.8801   \n2      0.730335  1.312464         -133.7321          167.7086   \n3      0.747044  1.338415         -133.4904          173.9064   \n4      0.755893  1.355570         -133.5924          177.2040   \n...         ...       ...               ...               ...   \n4521   1.258593  1.065970         -127.3144          194.4717   \n4522   1.277849  1.007618         -126.9333          193.0801   \n4523   1.297078  0.956325         -126.9241          191.1363   \n4524   1.327065  0.901075         -126.4018          188.6597   \n4525   1.358709  0.855786         -125.3931          185.2068   \n\n      wrist_pos_z_left  elbow_pos_x_left  elbow_pos_y_left  elbow_pos_z_left  \\\n0            -27.82949         -261.8767         -47.87384          30.62584   \n1            -30.98293         -259.9806         -43.46907          26.40578   \n2            -33.75665         -257.4434         -37.24958          29.84401   \n3            -36.19991         -255.7929         -29.82336          33.75477   \n4            -37.22458         -254.6681         -26.72015          34.28068   \n...                ...               ...               ...               ...   \n4521          59.52803         -299.5664          15.22464          16.52840   \n4522          58.90355         -298.9101          12.87815          18.89758   \n4523          58.91284         -302.6545          12.99574          26.75648   \n4524          59.13661         -308.9988          15.97083          37.08796   \n4525          58.86960         -314.7061          19.05455          44.61267   \n\n      grab_strenth_left  grab_angle_left  pinch_strength_left  \\\n0                   0.0              0.0                  0.0   \n1                   0.0              0.0                  0.0   \n2                   0.0              0.0                  0.0   \n3                   0.0              0.0                  0.0   \n4                   0.0              0.0                  0.0   \n...                 ...              ...                  ...   \n4521                0.0              0.0                  0.0   \n4522                0.0              0.0                  0.0   \n4523                0.0              0.0                  0.0   \n4524                0.0              0.0                  0.0   \n4525                0.0              0.0                  0.0   \n\n      position_x_right  position_y_right  position_z_right  velocity_x_right  \\\n0             69.65445          209.9525         -18.54797        -65.047080   \n1             68.97833          215.1191         -20.12599        -44.440450   \n2             68.11068          220.9579         -21.77186        -22.080520   \n3             68.26217          226.7594         -22.93307          7.860982   \n4             68.29678          230.0778         -23.70698          3.900916   \n...                ...               ...               ...               ...   \n4521         111.39700          182.9246          34.27466        -42.475920   \n4522         110.08700          180.8389          32.92039        -71.148420   \n4523         109.17140          179.3461          31.84416        -46.123690   \n4524         108.90170          178.8129          31.02029        -15.531000   \n4525         108.96690          179.1278          30.35721          5.587708   \n\n      velocity_y_right  velocity_z_right  pitch_right  roll_right  yaw_right  \\\n0           338.263100        -102.57630     0.865190   -1.009409  -0.763543   \n1           302.917000         -83.93305     0.863391   -1.005569  -0.766907   \n2           307.057400         -67.08289     0.875840   -1.017380  -0.767062   \n3           335.314400         -61.81393     0.883429   -1.023885  -0.767406   \n4           374.071900         -87.24055     0.890813   -1.033500  -0.761958   \n...                ...               ...          ...         ...        ...   \n4521       -117.845800         -61.32522     0.395246   -1.971680  -0.640369   \n4522       -111.439600         -69.28531     0.365014   -1.987410  -0.661939   \n4523        -69.914710         -57.69822     0.355285   -1.995915  -0.671905   \n4524         -5.445981         -50.80544     0.355584   -2.007045  -0.671661   \n4525         20.259880         -34.82480     0.356135   -2.005629  -0.669985   \n\n      wrist_pos_x_right  wrist_pos_y_right  wrist_pos_z_right  \\\n0              112.1363           162.7645          10.928120   \n1              111.5590           167.9522           9.239409   \n2              110.1764           173.1205           7.244619   \n3              110.0817           178.5817           5.874156   \n4              109.6549           181.4484           5.007799   \n...                 ...                ...                ...   \n4521           154.4715           151.6662          81.147250   \n4522           154.3424           151.2262          79.876530   \n4523           153.8897           150.4046          78.829510   \n4524           153.5864           150.0203          78.108750   \n4525           153.5919           150.3768          77.516830   \n\n      elbow_pos_x_right  elbow_pos_y_right  elbow_pos_z_right  \\\n0              275.1779          -7.356547           87.30630   \n1              272.0606          -5.603438           83.23297   \n2              267.7276          -2.693964           82.23973   \n3              267.2276           2.777664           81.73924   \n4              266.7950           5.949927           81.58895   \n...                 ...                ...                ...   \n4521           367.3650          47.177640          167.21540   \n4522           364.2306          45.544070          171.67780   \n4523           362.5193          46.762530          175.68630   \n4524           363.4342          50.553340          176.69620   \n4525           364.0365          52.970890          176.88680   \n\n      grab_strenth_right  grab_angle_right  pinch_strength_right  \n0                    0.0          0.059833                   0.0  \n1                    0.0          0.090605                   0.0  \n2                    0.0          0.069295                   0.0  \n3                    0.0          0.058568                   0.0  \n4                    0.0          0.059980                   0.0  \n...                  ...               ...                   ...  \n4521                 0.0          0.176508                   0.0  \n4522                 0.0          0.147999                   0.0  \n4523                 0.0          0.137555                   0.0  \n4524                 0.0          0.144381                   0.0  \n4525                 0.0          0.148039                   0.0  \n\n[4526 rows x 38 columns]",
      "text/html": "<div>\n<style scoped>\n    .dataframe tbody tr th:only-of-type {\n        vertical-align: middle;\n    }\n\n    .dataframe tbody tr th {\n        vertical-align: top;\n    }\n\n    .dataframe thead th {\n        text-align: right;\n    }\n</style>\n<table border=\"1\" class=\"dataframe\">\n  <thead>\n    <tr style=\"text-align: right;\">\n      <th></th>\n      <th>time</th>\n      <th>frame_id</th>\n      <th>position_x_left</th>\n      <th>position_y_left</th>\n      <th>position_z_left</th>\n      <th>velocity_x_left</th>\n      <th>velocity_y_left</th>\n      <th>velocity_z_left</th>\n      <th>pitch_left</th>\n      <th>roll_left</th>\n      <th>yaw_left</th>\n      <th>wrist_pos_x_left</th>\n      <th>wrist_pos_y_left</th>\n      <th>wrist_pos_z_left</th>\n      <th>elbow_pos_x_left</th>\n      <th>elbow_pos_y_left</th>\n      <th>elbow_pos_z_left</th>\n      <th>grab_strenth_left</th>\n      <th>grab_angle_left</th>\n      <th>pinch_strength_left</th>\n      <th>position_x_right</th>\n      <th>position_y_right</th>\n      <th>position_z_right</th>\n      <th>velocity_x_right</th>\n      <th>velocity_y_right</th>\n      <th>velocity_z_right</th>\n      <th>pitch_right</th>\n      <th>roll_right</th>\n      <th>yaw_right</th>\n      <th>wrist_pos_x_right</th>\n      <th>wrist_pos_y_right</th>\n      <th>wrist_pos_z_right</th>\n      <th>elbow_pos_x_right</th>\n      <th>elbow_pos_y_right</th>\n      <th>elbow_pos_z_right</th>\n      <th>grab_strenth_right</th>\n      <th>grab_angle_right</th>\n      <th>pinch_strength_right</th>\n    </tr>\n  </thead>\n  <tbody>\n    <tr>\n      <th>0</th>\n      <td>427.23</td>\n      <td>139071</td>\n      <td>-87.18215</td>\n      <td>204.5752</td>\n      <td>-40.50642</td>\n      <td>171.174600</td>\n      <td>247.94530</td>\n      <td>-96.48488</td>\n      <td>1.239694</td>\n      <td>0.685550</td>\n      <td>1.220096</td>\n      <td>-137.3886</td>\n      <td>158.1433</td>\n      <td>-27.82949</td>\n      <td>-261.8767</td>\n      <td>-47.87384</td>\n      <td>30.62584</td>\n      <td>0.0</td>\n      <td>0.0</td>\n      <td>0.0</td>\n      <td>69.65445</td>\n      <td>209.9525</td>\n      <td>-18.54797</td>\n      <td>-65.047080</td>\n      <td>338.263100</td>\n      <td>-102.57630</td>\n      <td>0.865190</td>\n      <td>-1.009409</td>\n      <td>-0.763543</td>\n      <td>112.1363</td>\n      <td>162.7645</td>\n      <td>10.928120</td>\n      <td>275.1779</td>\n      <td>-7.356547</td>\n      <td>87.30630</td>\n      <td>0.0</td>\n      <td>0.059833</td>\n      <td>0.0</td>\n    </tr>\n    <tr>\n      <th>1</th>\n      <td>427.25</td>\n      <td>139073</td>\n      <td>-85.20093</td>\n      <td>209.7387</td>\n      <td>-41.18375</td>\n      <td>70.930410</td>\n      <td>344.87770</td>\n      <td>-46.40427</td>\n      <td>1.294470</td>\n      <td>0.710267</td>\n      <td>1.276068</td>\n      <td>-135.5462</td>\n      <td>162.8801</td>\n      <td>-30.98293</td>\n      <td>-259.9806</td>\n      <td>-43.46907</td>\n      <td>26.40578</td>\n      <td>0.0</td>\n      <td>0.0</td>\n      <td>0.0</td>\n      <td>68.97833</td>\n      <td>215.1191</td>\n      <td>-20.12599</td>\n      <td>-44.440450</td>\n      <td>302.917000</td>\n      <td>-83.93305</td>\n      <td>0.863391</td>\n      <td>-1.005569</td>\n      <td>-0.766907</td>\n      <td>111.5590</td>\n      <td>167.9522</td>\n      <td>9.239409</td>\n      <td>272.0606</td>\n      <td>-5.603438</td>\n      <td>83.23297</td>\n      <td>0.0</td>\n      <td>0.090605</td>\n      <td>0.0</td>\n    </tr>\n    <tr>\n      <th>2</th>\n      <td>427.26</td>\n      <td>139075</td>\n      <td>-83.49533</td>\n      <td>214.9115</td>\n      <td>-42.59961</td>\n      <td>85.710340</td>\n      <td>348.23460</td>\n      <td>-102.02660</td>\n      <td>1.331296</td>\n      <td>0.730335</td>\n      <td>1.312464</td>\n      <td>-133.7321</td>\n      <td>167.7086</td>\n      <td>-33.75665</td>\n      <td>-257.4434</td>\n      <td>-37.24958</td>\n      <td>29.84401</td>\n      <td>0.0</td>\n      <td>0.0</td>\n      <td>0.0</td>\n      <td>68.11068</td>\n      <td>220.9579</td>\n      <td>-21.77186</td>\n      <td>-22.080520</td>\n      <td>307.057400</td>\n      <td>-67.08289</td>\n      <td>0.875840</td>\n      <td>-1.017380</td>\n      <td>-0.767062</td>\n      <td>110.1764</td>\n      <td>173.1205</td>\n      <td>7.244619</td>\n      <td>267.7276</td>\n      <td>-2.693964</td>\n      <td>82.23973</td>\n      <td>0.0</td>\n      <td>0.069295</td>\n      <td>0.0</td>\n    </tr>\n    <tr>\n      <th>3</th>\n      <td>427.28</td>\n      <td>139077</td>\n      <td>-83.51068</td>\n      <td>221.4817</td>\n      <td>-44.18541</td>\n      <td>0.287095</td>\n      <td>388.70420</td>\n      <td>-86.57835</td>\n      <td>1.358686</td>\n      <td>0.747044</td>\n      <td>1.338415</td>\n      <td>-133.4904</td>\n      <td>173.9064</td>\n      <td>-36.19991</td>\n      <td>-255.7929</td>\n      <td>-29.82336</td>\n      <td>33.75477</td>\n      <td>0.0</td>\n      <td>0.0</td>\n      <td>0.0</td>\n      <td>68.26217</td>\n      <td>226.7594</td>\n      <td>-22.93307</td>\n      <td>7.860982</td>\n      <td>335.314400</td>\n      <td>-61.81393</td>\n      <td>0.883429</td>\n      <td>-1.023885</td>\n      <td>-0.767406</td>\n      <td>110.0817</td>\n      <td>178.5817</td>\n      <td>5.874156</td>\n      <td>267.2276</td>\n      <td>2.777664</td>\n      <td>81.73924</td>\n      <td>0.0</td>\n      <td>0.058568</td>\n      <td>0.0</td>\n    </tr>\n    <tr>\n      <th>4</th>\n      <td>427.30</td>\n      <td>139078</td>\n      <td>-83.72626</td>\n      <td>224.9673</td>\n      <td>-44.57369</td>\n      <td>-24.301780</td>\n      <td>392.91710</td>\n      <td>-43.76951</td>\n      <td>1.375643</td>\n      <td>0.755893</td>\n      <td>1.355570</td>\n      <td>-133.5924</td>\n      <td>177.2040</td>\n      <td>-37.22458</td>\n      <td>-254.6681</td>\n      <td>-26.72015</td>\n      <td>34.28068</td>\n      <td>0.0</td>\n      <td>0.0</td>\n      <td>0.0</td>\n      <td>68.29678</td>\n      <td>230.0778</td>\n      <td>-23.70698</td>\n      <td>3.900916</td>\n      <td>374.071900</td>\n      <td>-87.24055</td>\n      <td>0.890813</td>\n      <td>-1.033500</td>\n      <td>-0.761958</td>\n      <td>109.6549</td>\n      <td>181.4484</td>\n      <td>5.007799</td>\n      <td>266.7950</td>\n      <td>5.949927</td>\n      <td>81.58895</td>\n      <td>0.0</td>\n      <td>0.059980</td>\n      <td>0.0</td>\n    </tr>\n    <tr>\n      <th>...</th>\n      <td>...</td>\n      <td>...</td>\n      <td>...</td>\n      <td>...</td>\n      <td>...</td>\n      <td>...</td>\n      <td>...</td>\n      <td>...</td>\n      <td>...</td>\n      <td>...</td>\n      <td>...</td>\n      <td>...</td>\n      <td>...</td>\n      <td>...</td>\n      <td>...</td>\n      <td>...</td>\n      <td>...</td>\n      <td>...</td>\n      <td>...</td>\n      <td>...</td>\n      <td>...</td>\n      <td>...</td>\n      <td>...</td>\n      <td>...</td>\n      <td>...</td>\n      <td>...</td>\n      <td>...</td>\n      <td>...</td>\n      <td>...</td>\n      <td>...</td>\n      <td>...</td>\n      <td>...</td>\n      <td>...</td>\n      <td>...</td>\n      <td>...</td>\n      <td>...</td>\n      <td>...</td>\n      <td>...</td>\n    </tr>\n    <tr>\n      <th>4521</th>\n      <td>502.13</td>\n      <td>147698</td>\n      <td>-94.49778</td>\n      <td>257.4222</td>\n      <td>55.64758</td>\n      <td>36.686230</td>\n      <td>-78.04737</td>\n      <td>-178.26260</td>\n      <td>1.323389</td>\n      <td>1.258593</td>\n      <td>1.065970</td>\n      <td>-127.3144</td>\n      <td>194.4717</td>\n      <td>59.52803</td>\n      <td>-299.5664</td>\n      <td>15.22464</td>\n      <td>16.52840</td>\n      <td>0.0</td>\n      <td>0.0</td>\n      <td>0.0</td>\n      <td>111.39700</td>\n      <td>182.9246</td>\n      <td>34.27466</td>\n      <td>-42.475920</td>\n      <td>-117.845800</td>\n      <td>-61.32522</td>\n      <td>0.395246</td>\n      <td>-1.971680</td>\n      <td>-0.640369</td>\n      <td>154.4715</td>\n      <td>151.6662</td>\n      <td>81.147250</td>\n      <td>367.3650</td>\n      <td>47.177640</td>\n      <td>167.21540</td>\n      <td>0.0</td>\n      <td>0.176508</td>\n      <td>0.0</td>\n    </tr>\n    <tr>\n      <th>4522</th>\n      <td>502.15</td>\n      <td>147700</td>\n      <td>-94.05425</td>\n      <td>255.8155</td>\n      <td>52.81230</td>\n      <td>30.153270</td>\n      <td>-144.97720</td>\n      <td>-155.62700</td>\n      <td>1.285448</td>\n      <td>1.277849</td>\n      <td>1.007618</td>\n      <td>-126.9333</td>\n      <td>193.0801</td>\n      <td>58.90355</td>\n      <td>-298.9101</td>\n      <td>12.87815</td>\n      <td>18.89758</td>\n      <td>0.0</td>\n      <td>0.0</td>\n      <td>0.0</td>\n      <td>110.08700</td>\n      <td>180.8389</td>\n      <td>32.92039</td>\n      <td>-71.148420</td>\n      <td>-111.439600</td>\n      <td>-69.28531</td>\n      <td>0.365014</td>\n      <td>-1.987410</td>\n      <td>-0.661939</td>\n      <td>154.3424</td>\n      <td>151.2262</td>\n      <td>79.876530</td>\n      <td>364.2306</td>\n      <td>45.544070</td>\n      <td>171.67780</td>\n      <td>0.0</td>\n      <td>0.147999</td>\n      <td>0.0</td>\n    </tr>\n    <tr>\n      <th>4523</th>\n      <td>502.17</td>\n      <td>147702</td>\n      <td>-93.68062</td>\n      <td>253.3679</td>\n      <td>50.37835</td>\n      <td>32.269880</td>\n      <td>-161.19530</td>\n      <td>-137.36660</td>\n      <td>1.246310</td>\n      <td>1.297078</td>\n      <td>0.956325</td>\n      <td>-126.9241</td>\n      <td>191.1363</td>\n      <td>58.91284</td>\n      <td>-302.6545</td>\n      <td>12.99574</td>\n      <td>26.75648</td>\n      <td>0.0</td>\n      <td>0.0</td>\n      <td>0.0</td>\n      <td>109.17140</td>\n      <td>179.3461</td>\n      <td>31.84416</td>\n      <td>-46.123690</td>\n      <td>-69.914710</td>\n      <td>-57.69822</td>\n      <td>0.355285</td>\n      <td>-1.995915</td>\n      <td>-0.671905</td>\n      <td>153.8897</td>\n      <td>150.4046</td>\n      <td>78.829510</td>\n      <td>362.5193</td>\n      <td>46.762530</td>\n      <td>175.68630</td>\n      <td>0.0</td>\n      <td>0.137555</td>\n      <td>0.0</td>\n    </tr>\n    <tr>\n      <th>4524</th>\n      <td>502.18</td>\n      <td>147704</td>\n      <td>-93.12487</td>\n      <td>250.4072</td>\n      <td>48.05837</td>\n      <td>32.141470</td>\n      <td>-157.05030</td>\n      <td>-124.67950</td>\n      <td>1.208146</td>\n      <td>1.327065</td>\n      <td>0.901075</td>\n      <td>-126.4018</td>\n      <td>188.6597</td>\n      <td>59.13661</td>\n      <td>-308.9988</td>\n      <td>15.97083</td>\n      <td>37.08796</td>\n      <td>0.0</td>\n      <td>0.0</td>\n      <td>0.0</td>\n      <td>108.90170</td>\n      <td>178.8129</td>\n      <td>31.02029</td>\n      <td>-15.531000</td>\n      <td>-5.445981</td>\n      <td>-50.80544</td>\n      <td>0.355584</td>\n      <td>-2.007045</td>\n      <td>-0.671661</td>\n      <td>153.5864</td>\n      <td>150.0203</td>\n      <td>78.108750</td>\n      <td>363.4342</td>\n      <td>50.553340</td>\n      <td>176.69620</td>\n      <td>0.0</td>\n      <td>0.144381</td>\n      <td>0.0</td>\n    </tr>\n    <tr>\n      <th>4525</th>\n      <td>502.20</td>\n      <td>147706</td>\n      <td>-92.35281</td>\n      <td>246.6158</td>\n      <td>45.84472</td>\n      <td>56.623870</td>\n      <td>-228.45100</td>\n      <td>-134.96170</td>\n      <td>1.180058</td>\n      <td>1.358709</td>\n      <td>0.855786</td>\n      <td>-125.3931</td>\n      <td>185.2068</td>\n      <td>58.86960</td>\n      <td>-314.7061</td>\n      <td>19.05455</td>\n      <td>44.61267</td>\n      <td>0.0</td>\n      <td>0.0</td>\n      <td>0.0</td>\n      <td>108.96690</td>\n      <td>179.1278</td>\n      <td>30.35721</td>\n      <td>5.587708</td>\n      <td>20.259880</td>\n      <td>-34.82480</td>\n      <td>0.356135</td>\n      <td>-2.005629</td>\n      <td>-0.669985</td>\n      <td>153.5919</td>\n      <td>150.3768</td>\n      <td>77.516830</td>\n      <td>364.0365</td>\n      <td>52.970890</td>\n      <td>176.88680</td>\n      <td>0.0</td>\n      <td>0.148039</td>\n      <td>0.0</td>\n    </tr>\n  </tbody>\n</table>\n<p>4526 rows × 38 columns</p>\n</div>"
     },
     "execution_count": 36,
     "metadata": {},
     "output_type": "execute_result"
    }
   ],
   "source": [
    "merged = left.merge(right, how=\"outer\", on=[\"time\", \"frame_id\"])\n",
    "\n",
    "#    .drop(\"frame_id\", axis=1)\n",
    "merged"
   ],
   "metadata": {
    "collapsed": false,
    "pycharm": {
     "name": "#%%\n"
    }
   }
  },
  {
   "cell_type": "code",
   "execution_count": 80,
   "outputs": [],
   "source": [
    "# adds a column with the second\n",
    "merged[\"round_time\"] = merged.time.astype(int) - merged.time.min().astype(int)"
   ],
   "metadata": {
    "collapsed": false,
    "pycharm": {
     "name": "#%%\n"
    }
   }
  },
  {
   "cell_type": "code",
   "execution_count": 37,
   "outputs": [
    {
     "ename": "KeyError",
     "evalue": "'round_time'",
     "output_type": "error",
     "traceback": [
      "\u001B[1;31m---------------------------------------------------------------------------\u001B[0m",
      "\u001B[1;31mKeyError\u001B[0m                                  Traceback (most recent call last)",
      "\u001B[1;32m~\\AppData\\Local\\Temp/ipykernel_1608/164431865.py\u001B[0m in \u001B[0;36m<module>\u001B[1;34m\u001B[0m\n\u001B[0;32m      1\u001B[0m \u001B[1;31m# reset index (drop = False) adds round time as the left column in the DataFrame\u001B[0m\u001B[1;33m\u001B[0m\u001B[1;33m\u001B[0m\u001B[1;33m\u001B[0m\u001B[0m\n\u001B[1;32m----> 2\u001B[1;33m \u001B[0mmerged\u001B[0m \u001B[1;33m=\u001B[0m \u001B[0mmerged\u001B[0m\u001B[1;33m.\u001B[0m\u001B[0mgroupby\u001B[0m\u001B[1;33m(\u001B[0m\u001B[1;34m\"round_time\"\u001B[0m\u001B[1;33m)\u001B[0m\u001B[1;33m.\u001B[0m\u001B[0mnth\u001B[0m\u001B[1;33m(\u001B[0m\u001B[1;33m[\u001B[0m\u001B[1;36m0\u001B[0m\u001B[1;33m,\u001B[0m \u001B[1;36m1\u001B[0m\u001B[1;33m,\u001B[0m \u001B[1;36m2\u001B[0m\u001B[1;33m,\u001B[0m \u001B[1;36m3\u001B[0m\u001B[1;33m]\u001B[0m\u001B[1;33m)\u001B[0m\u001B[1;33m.\u001B[0m\u001B[0mreset_index\u001B[0m\u001B[1;33m(\u001B[0m\u001B[1;33m)\u001B[0m\u001B[1;33m\u001B[0m\u001B[1;33m\u001B[0m\u001B[0m\n\u001B[0m\u001B[0;32m      3\u001B[0m \u001B[1;33m\u001B[0m\u001B[0m\n",
      "\u001B[1;32m~\\Anaconda3\\envs\\1SB-Final-Project\\lib\\site-packages\\pandas\\core\\frame.py\u001B[0m in \u001B[0;36mgroupby\u001B[1;34m(self, by, axis, level, as_index, sort, group_keys, squeeze, observed, dropna)\u001B[0m\n\u001B[0;32m   7624\u001B[0m         \u001B[1;31m# error: Argument \"squeeze\" to \"DataFrameGroupBy\" has incompatible type\u001B[0m\u001B[1;33m\u001B[0m\u001B[1;33m\u001B[0m\u001B[1;33m\u001B[0m\u001B[0m\n\u001B[0;32m   7625\u001B[0m         \u001B[1;31m# \"Union[bool, NoDefault]\"; expected \"bool\"\u001B[0m\u001B[1;33m\u001B[0m\u001B[1;33m\u001B[0m\u001B[1;33m\u001B[0m\u001B[0m\n\u001B[1;32m-> 7626\u001B[1;33m         return DataFrameGroupBy(\n\u001B[0m\u001B[0;32m   7627\u001B[0m             \u001B[0mobj\u001B[0m\u001B[1;33m=\u001B[0m\u001B[0mself\u001B[0m\u001B[1;33m,\u001B[0m\u001B[1;33m\u001B[0m\u001B[1;33m\u001B[0m\u001B[0m\n\u001B[0;32m   7628\u001B[0m             \u001B[0mkeys\u001B[0m\u001B[1;33m=\u001B[0m\u001B[0mby\u001B[0m\u001B[1;33m,\u001B[0m\u001B[1;33m\u001B[0m\u001B[1;33m\u001B[0m\u001B[0m\n",
      "\u001B[1;32m~\\Anaconda3\\envs\\1SB-Final-Project\\lib\\site-packages\\pandas\\core\\groupby\\groupby.py\u001B[0m in \u001B[0;36m__init__\u001B[1;34m(self, obj, keys, axis, level, grouper, exclusions, selection, as_index, sort, group_keys, squeeze, observed, mutated, dropna)\u001B[0m\n\u001B[0;32m    886\u001B[0m             \u001B[1;32mfrom\u001B[0m \u001B[0mpandas\u001B[0m\u001B[1;33m.\u001B[0m\u001B[0mcore\u001B[0m\u001B[1;33m.\u001B[0m\u001B[0mgroupby\u001B[0m\u001B[1;33m.\u001B[0m\u001B[0mgrouper\u001B[0m \u001B[1;32mimport\u001B[0m \u001B[0mget_grouper\u001B[0m\u001B[1;33m\u001B[0m\u001B[1;33m\u001B[0m\u001B[0m\n\u001B[0;32m    887\u001B[0m \u001B[1;33m\u001B[0m\u001B[0m\n\u001B[1;32m--> 888\u001B[1;33m             grouper, exclusions, obj = get_grouper(\n\u001B[0m\u001B[0;32m    889\u001B[0m                 \u001B[0mobj\u001B[0m\u001B[1;33m,\u001B[0m\u001B[1;33m\u001B[0m\u001B[1;33m\u001B[0m\u001B[0m\n\u001B[0;32m    890\u001B[0m                 \u001B[0mkeys\u001B[0m\u001B[1;33m,\u001B[0m\u001B[1;33m\u001B[0m\u001B[1;33m\u001B[0m\u001B[0m\n",
      "\u001B[1;32m~\\Anaconda3\\envs\\1SB-Final-Project\\lib\\site-packages\\pandas\\core\\groupby\\grouper.py\u001B[0m in \u001B[0;36mget_grouper\u001B[1;34m(obj, key, axis, level, sort, observed, mutated, validate, dropna)\u001B[0m\n\u001B[0;32m    858\u001B[0m                 \u001B[0min_axis\u001B[0m\u001B[1;33m,\u001B[0m \u001B[0mlevel\u001B[0m\u001B[1;33m,\u001B[0m \u001B[0mgpr\u001B[0m \u001B[1;33m=\u001B[0m \u001B[1;32mFalse\u001B[0m\u001B[1;33m,\u001B[0m \u001B[0mgpr\u001B[0m\u001B[1;33m,\u001B[0m \u001B[1;32mNone\u001B[0m\u001B[1;33m\u001B[0m\u001B[1;33m\u001B[0m\u001B[0m\n\u001B[0;32m    859\u001B[0m             \u001B[1;32melse\u001B[0m\u001B[1;33m:\u001B[0m\u001B[1;33m\u001B[0m\u001B[1;33m\u001B[0m\u001B[0m\n\u001B[1;32m--> 860\u001B[1;33m                 \u001B[1;32mraise\u001B[0m \u001B[0mKeyError\u001B[0m\u001B[1;33m(\u001B[0m\u001B[0mgpr\u001B[0m\u001B[1;33m)\u001B[0m\u001B[1;33m\u001B[0m\u001B[1;33m\u001B[0m\u001B[0m\n\u001B[0m\u001B[0;32m    861\u001B[0m         \u001B[1;32melif\u001B[0m \u001B[0misinstance\u001B[0m\u001B[1;33m(\u001B[0m\u001B[0mgpr\u001B[0m\u001B[1;33m,\u001B[0m \u001B[0mGrouper\u001B[0m\u001B[1;33m)\u001B[0m \u001B[1;32mand\u001B[0m \u001B[0mgpr\u001B[0m\u001B[1;33m.\u001B[0m\u001B[0mkey\u001B[0m \u001B[1;32mis\u001B[0m \u001B[1;32mnot\u001B[0m \u001B[1;32mNone\u001B[0m\u001B[1;33m:\u001B[0m\u001B[1;33m\u001B[0m\u001B[1;33m\u001B[0m\u001B[0m\n\u001B[0;32m    862\u001B[0m             \u001B[1;31m# Add key to exclusions\u001B[0m\u001B[1;33m\u001B[0m\u001B[1;33m\u001B[0m\u001B[1;33m\u001B[0m\u001B[0m\n",
      "\u001B[1;31mKeyError\u001B[0m: 'round_time'"
     ]
    }
   ],
   "source": [
    "# reset index (drop = False) adds round time as the left column in the DataFrame\n",
    "merged = merged.groupby(\"round_time\").nth([0, 1, 2, 3]).reset_index()"
   ],
   "metadata": {
    "collapsed": false,
    "pycharm": {
     "name": "#%%\n"
    }
   }
  },
  {
   "cell_type": "code",
   "execution_count": null,
   "outputs": [],
   "source": [
    "# drop is True to prevent from adding the old indices as a new column\n",
    "merged = merged.drop(merged[merged[\"round_time\"] < merged.round_time.min() + 7].index).reset_index(drop=True)"
   ],
   "metadata": {
    "collapsed": false,
    "pycharm": {
     "name": "#%%\n"
    }
   }
  },
  {
   "cell_type": "code",
   "execution_count": null,
   "outputs": [],
   "source": [
    "merged"
   ],
   "metadata": {
    "collapsed": false,
    "pycharm": {
     "name": "#%%\n"
    }
   }
  },
  {
   "cell_type": "code",
   "execution_count": 86,
   "outputs": [],
   "source": [
    "round_time_groups = merged.groupby(\"round_time\")"
   ],
   "metadata": {
    "collapsed": false,
    "pycharm": {
     "name": "#%%\n"
    }
   }
  },
  {
   "cell_type": "code",
   "execution_count": 42,
   "outputs": [
    {
     "data": {
      "text/plain": "  elbow_pos_x_left                                                             \\\n                0         1        2         3         28        29        30   \n0              NaN       NaN      NaN       NaN -318.1297 -318.6808 -319.1055   \n0        -277.1588 -281.9228 -288.142 -290.7782       NaN       NaN       NaN   \n\n            elbow_pos_x_right                                                 \\\n         31                0         1       2        3         28        29   \n0 -319.3068               NaN       NaN     NaN      NaN  349.6196  345.2472   \n0       NaN          342.8213  356.3757  365.07  368.133       NaN       NaN   \n\n                      elbow_pos_y_left                                \\\n         30        31               0         1         2         3    \n0  338.5471  330.7361              NaN       NaN       NaN       NaN   \n0       NaN       NaN         -32.4144 -32.64224 -31.89404 -31.72424   \n\n                                          elbow_pos_y_right            \\\n         28        29        30        31                0         1    \n0 -51.25742 -48.80588 -46.20153 -42.04137               NaN       NaN   \n0       NaN       NaN       NaN       NaN         -19.87595 -14.13137   \n\n                                                               \\\n         2         3         28        29        30        31   \n0       NaN       NaN -21.77575 -19.43496 -17.59132 -16.85076   \n0 -13.07153 -14.17725       NaN       NaN       NaN       NaN   \n\n  elbow_pos_z_left                                                    \\\n                0         1         2         3         28        29   \n0              NaN       NaN       NaN       NaN  34.35236  30.59289   \n0         46.54707  44.98996  44.39068  44.22089       NaN       NaN   \n\n                      elbow_pos_z_right                               \\\n         30        31                0        1         2         3    \n0  27.95444  27.97145               NaN      NaN       NaN       NaN   \n0       NaN       NaN          64.49064  66.3457  68.40325  68.86563   \n\n                                          grab_angle_left                      \\\n         28        29        30        31              0    1    2    3    28   \n0  130.6426  126.1261  124.0072  121.3898             NaN  NaN  NaN  NaN  0.0   \n0       NaN       NaN       NaN       NaN             0.0  0.0  0.0  0.0  NaN   \n\n                 grab_angle_right                                     \\\n    29   30   31               0    1    2    3    28   29   30   31   \n0  0.0  0.0  0.0              NaN  NaN  NaN  NaN  0.0  0.0  0.0  0.0   \n0  NaN  NaN  NaN              0.0  0.0  0.0  0.0  NaN  NaN  NaN  NaN   \n\n  grab_strenth_left                                    grab_strenth_right  \\\n                 0    1    2    3    28   29   30   31                 0    \n0               NaN  NaN  NaN  NaN  0.0  0.0  0.0  0.0                NaN   \n0               0.0  0.0  0.0  0.0  NaN  NaN  NaN  NaN                0.0   \n\n                                     pinch_strength_left                      \\\n    1    2    3    28   29   30   31                  0    1    2    3    28   \n0  NaN  NaN  NaN  0.0  0.0  0.0  0.0                 NaN  NaN  NaN  NaN  0.0   \n0  0.0  0.0  0.0  NaN  NaN  NaN  NaN                 0.0  0.0  0.0  0.0  NaN   \n\n                 pinch_strength_right                                     \\\n    29   30   31                   0    1    2    3    28   29   30   31   \n0  0.0  0.0  0.0                  NaN  NaN  NaN  NaN  0.0  0.0  0.0  0.0   \n0  NaN  NaN  NaN                  0.0  0.0  0.0  0.0  NaN  NaN  NaN  NaN   \n\n  pitch_left                                                            \\\n          0         1        2        3         28        29        30   \n0        NaN       NaN      NaN      NaN  1.625889  1.623542  1.620962   \n0   1.460463  1.464737  1.46526  1.46547       NaN       NaN       NaN   \n\n            pitch_right                                                    \\\n         31          0         1         2         3         28        29   \n0  1.621744         NaN       NaN       NaN       NaN  1.244156  1.270567   \n0       NaN    1.636958  1.628423  1.623693  1.620205       NaN       NaN   \n\n                      position_x_left                                          \\\n         30        31              0         1         2         3         28   \n0  1.286052  1.297734             NaN       NaN       NaN       NaN -99.63873   \n0       NaN       NaN       -69.01128 -67.35872 -66.13987 -65.45469       NaN   \n\n                                position_x_right                      \\\n         29        30        31               0         1         2    \n0 -102.2255 -105.4718 -107.8266              NaN       NaN       NaN   \n0       NaN       NaN       NaN         122.2716  127.8625  133.0621   \n\n                                                    position_y_left           \\\n         3         28        29        30        31              0        1    \n0       NaN  98.60052  93.60865  88.09119  82.67999             NaN      NaN   \n0  135.4468       NaN       NaN       NaN       NaN        198.5826  192.127   \n\n                                                             position_y_right  \\\n        2         3         28        29        30        31               0    \n0      NaN       NaN  176.4536  180.7795  185.9096  192.0195              NaN   \n0  185.758  182.7984       NaN       NaN       NaN       NaN          205.696   \n\n                                                                       \\\n        1         2         3        28        29        30        31   \n0      NaN       NaN       NaN  157.569  160.0581  163.2982  167.4217   \n0  202.891  199.5995  197.6018      NaN       NaN       NaN       NaN   \n\n  position_z_left                                                             \\\n               0         1        2         3         28        29        30   \n0             NaN       NaN      NaN       NaN  66.75639  66.21472  66.05576   \n0        67.63021  67.93264  68.3474  68.42313       NaN       NaN       NaN   \n\n            position_z_right                                                  \\\n         31               0        1         2         3        28        29   \n0  65.91613              NaN      NaN       NaN       NaN  57.1483  57.24354   \n0       NaN         42.27343  40.9398  39.70962  39.07674      NaN       NaN   \n\n                      roll_left                                         \\\n         30        31        0         1         2        3         28   \n0  57.01411  56.91537       NaN       NaN       NaN      NaN  0.979514   \n0       NaN       NaN  1.353737  1.325756  1.284522  1.26233       NaN   \n\n                               roll_right                                \\\n         29       30        31         0         1         2         3    \n0  0.965707  0.96231  0.972749        NaN       NaN       NaN       NaN   \n0       NaN      NaN       NaN  -0.910298 -0.894512 -0.884453 -0.879405   \n\n                                         round_time                       \\\n        28        29        30        31         0      1      2      3    \n0 -0.84458 -0.888116 -0.935435 -0.980123        NaN    NaN    NaN    NaN   \n0      NaN       NaN       NaN       NaN      442.0  442.0  442.0  442.0   \n\n                                 time                                         \\\n      28     29     30     31      0       1       2       3      28      29   \n0  441.0  441.0  441.0  441.0     NaN     NaN     NaN     NaN  441.0  441.01   \n0    NaN    NaN    NaN    NaN  442.01  442.03  442.04  442.06    NaN     NaN   \n\n                  velocity_x_left                                          \\\n       30      31              0         1         2         3         28   \n0  441.03  441.05             NaN       NaN       NaN       NaN -64.70576   \n0     NaN     NaN        112.1148  92.48999  66.77081  78.27922       NaN   \n\n                                velocity_x_right                      \\\n         29        30        31               0         1         2    \n0 -191.2717 -180.4209 -126.2727              NaN       NaN       NaN   \n0       NaN       NaN       NaN         270.0492  332.6096  296.4992   \n\n                                                    velocity_y_left            \\\n         3         28        29        30        31              0         1    \n0       NaN -290.6911 -287.1685 -319.5137 -314.8653             NaN       NaN   \n0  272.4397       NaN       NaN       NaN       NaN       -369.1525 -356.9936   \n\n                                                               \\\n         2         3         28        29        30        31   \n0       NaN       NaN  148.4376  288.7971  323.6361  372.5123   \n0 -327.3372 -338.1207       NaN       NaN       NaN       NaN   \n\n  velocity_y_right                                                             \\\n                0         1         2         3         28       29        30   \n0              NaN       NaN       NaN       NaN  98.42847  163.319  202.2137   \n0        -195.1253 -158.8382 -180.0318 -228.2338       NaN      NaN       NaN   \n\n            velocity_z_left                                                   \\\n         31              0         1        2         3         28        29   \n0  231.9504             NaN       NaN      NaN       NaN -89.66738 -6.990762   \n0       NaN       -10.25111  17.52591  17.6967  8.651788       NaN       NaN   \n\n                      velocity_z_right                                         \\\n         30        31               0         1        2         3         28   \n0 -8.951144  4.630224              NaN       NaN      NaN       NaN -4.511591   \n0       NaN       NaN        -77.64381 -71.37215 -62.4418 -72.30432       NaN   \n\n                                wrist_pos_x_left                      \\\n         29        30        31               0         1         2    \n0  6.546028 -13.01662 -1.426334              NaN       NaN       NaN   \n0       NaN       NaN       NaN        -93.41663 -93.49084 -94.78535   \n\n                                                 wrist_pos_x_right           \\\n         3         28       29      30        31                0        1    \n0       NaN -140.4549 -143.696 -147.22 -148.9273               NaN      NaN   \n0 -95.41006       NaN      NaN     NaN       NaN          169.0618  175.737   \n\n                                                            wrist_pos_y_left  \\\n         2         3        28        29        30       31               0    \n0       NaN       NaN  149.489  142.9059  135.3758  127.904              NaN   \n0  181.4363  183.9892      NaN       NaN       NaN      NaN         133.3783   \n\n                                                                         \\\n         1         2         3         28        29        30        31   \n0       NaN       NaN       NaN  120.7925  125.5604  130.8538  136.4963   \n0  127.6199  122.3127  119.9403       NaN       NaN       NaN       NaN   \n\n  wrist_pos_y_right                                                    \\\n                 0         1         2         3         28        29   \n0               NaN       NaN       NaN       NaN  110.6168  111.2898   \n0          154.6541  152.7664  149.9208  148.0609       NaN       NaN   \n\n                      wrist_pos_z_left                                         \\\n         30        31               0         1        2         3         28   \n0  112.5707  114.8477              NaN       NaN      NaN       NaN  55.28494   \n0       NaN       NaN         65.50215  65.41437  65.6623  65.66778       NaN   \n\n                                wrist_pos_z_right                     \\\n         29        30        31                0         1        2    \n0  54.76803  54.68459  54.48259               NaN       NaN      NaN   \n0       NaN       NaN       NaN          33.59426  32.84242  31.9185   \n\n                                                    yaw_left            \\\n         3         28       29        30        31        0         1    \n0       NaN  67.17873  66.3205  65.80955  65.51181       NaN       NaN   \n0  31.43992       NaN      NaN       NaN       NaN  1.154565  1.208668   \n\n                                                              yaw_right  \\\n         2         3         28        29        30        31        0    \n0       NaN       NaN  1.655404  1.649239  1.644589  1.647544       NaN   \n0  1.257493  1.278843       NaN       NaN       NaN       NaN -1.655466   \n\n                                                                       \n         1         2         3         28       29        30       31  \n0       NaN       NaN       NaN -1.215411 -1.21859 -1.204873 -1.18691  \n0 -1.642197 -1.635106 -1.630326       NaN      NaN       NaN      NaN  ",
      "text/html": "<div>\n<style scoped>\n    .dataframe tbody tr th:only-of-type {\n        vertical-align: middle;\n    }\n\n    .dataframe tbody tr th {\n        vertical-align: top;\n    }\n\n    .dataframe thead tr th {\n        text-align: left;\n    }\n</style>\n<table border=\"1\" class=\"dataframe\">\n  <thead>\n    <tr>\n      <th></th>\n      <th colspan=\"8\" halign=\"left\">elbow_pos_x_left</th>\n      <th colspan=\"8\" halign=\"left\">elbow_pos_x_right</th>\n      <th colspan=\"8\" halign=\"left\">elbow_pos_y_left</th>\n      <th colspan=\"8\" halign=\"left\">elbow_pos_y_right</th>\n      <th colspan=\"8\" halign=\"left\">elbow_pos_z_left</th>\n      <th colspan=\"8\" halign=\"left\">elbow_pos_z_right</th>\n      <th colspan=\"8\" halign=\"left\">grab_angle_left</th>\n      <th colspan=\"8\" halign=\"left\">grab_angle_right</th>\n      <th colspan=\"8\" halign=\"left\">grab_strenth_left</th>\n      <th colspan=\"8\" halign=\"left\">grab_strenth_right</th>\n      <th colspan=\"8\" halign=\"left\">pinch_strength_left</th>\n      <th colspan=\"8\" halign=\"left\">pinch_strength_right</th>\n      <th colspan=\"8\" halign=\"left\">pitch_left</th>\n      <th colspan=\"8\" halign=\"left\">pitch_right</th>\n      <th colspan=\"8\" halign=\"left\">position_x_left</th>\n      <th colspan=\"8\" halign=\"left\">position_x_right</th>\n      <th colspan=\"8\" halign=\"left\">position_y_left</th>\n      <th colspan=\"8\" halign=\"left\">position_y_right</th>\n      <th colspan=\"8\" halign=\"left\">position_z_left</th>\n      <th colspan=\"8\" halign=\"left\">position_z_right</th>\n      <th colspan=\"8\" halign=\"left\">roll_left</th>\n      <th colspan=\"8\" halign=\"left\">roll_right</th>\n      <th colspan=\"8\" halign=\"left\">round_time</th>\n      <th colspan=\"8\" halign=\"left\">time</th>\n      <th colspan=\"8\" halign=\"left\">velocity_x_left</th>\n      <th colspan=\"8\" halign=\"left\">velocity_x_right</th>\n      <th colspan=\"8\" halign=\"left\">velocity_y_left</th>\n      <th colspan=\"8\" halign=\"left\">velocity_y_right</th>\n      <th colspan=\"8\" halign=\"left\">velocity_z_left</th>\n      <th colspan=\"8\" halign=\"left\">velocity_z_right</th>\n      <th colspan=\"8\" halign=\"left\">wrist_pos_x_left</th>\n      <th colspan=\"8\" halign=\"left\">wrist_pos_x_right</th>\n      <th colspan=\"8\" halign=\"left\">wrist_pos_y_left</th>\n      <th colspan=\"8\" halign=\"left\">wrist_pos_y_right</th>\n      <th colspan=\"8\" halign=\"left\">wrist_pos_z_left</th>\n      <th colspan=\"8\" halign=\"left\">wrist_pos_z_right</th>\n      <th colspan=\"8\" halign=\"left\">yaw_left</th>\n      <th colspan=\"8\" halign=\"left\">yaw_right</th>\n    </tr>\n    <tr>\n      <th></th>\n      <th>0</th>\n      <th>1</th>\n      <th>2</th>\n      <th>3</th>\n      <th>28</th>\n      <th>29</th>\n      <th>30</th>\n      <th>31</th>\n      <th>0</th>\n      <th>1</th>\n      <th>2</th>\n      <th>3</th>\n      <th>28</th>\n      <th>29</th>\n      <th>30</th>\n      <th>31</th>\n      <th>0</th>\n      <th>1</th>\n      <th>2</th>\n      <th>3</th>\n      <th>28</th>\n      <th>29</th>\n      <th>30</th>\n      <th>31</th>\n      <th>0</th>\n      <th>1</th>\n      <th>2</th>\n      <th>3</th>\n      <th>28</th>\n      <th>29</th>\n      <th>30</th>\n      <th>31</th>\n      <th>0</th>\n      <th>1</th>\n      <th>2</th>\n      <th>3</th>\n      <th>28</th>\n      <th>29</th>\n      <th>30</th>\n      <th>31</th>\n      <th>0</th>\n      <th>1</th>\n      <th>2</th>\n      <th>3</th>\n      <th>28</th>\n      <th>29</th>\n      <th>30</th>\n      <th>31</th>\n      <th>0</th>\n      <th>1</th>\n      <th>2</th>\n      <th>3</th>\n      <th>28</th>\n      <th>29</th>\n      <th>30</th>\n      <th>31</th>\n      <th>0</th>\n      <th>1</th>\n      <th>2</th>\n      <th>3</th>\n      <th>28</th>\n      <th>29</th>\n      <th>30</th>\n      <th>31</th>\n      <th>0</th>\n      <th>1</th>\n      <th>2</th>\n      <th>3</th>\n      <th>28</th>\n      <th>29</th>\n      <th>30</th>\n      <th>31</th>\n      <th>0</th>\n      <th>1</th>\n      <th>2</th>\n      <th>3</th>\n      <th>28</th>\n      <th>29</th>\n      <th>30</th>\n      <th>31</th>\n      <th>0</th>\n      <th>1</th>\n      <th>2</th>\n      <th>3</th>\n      <th>28</th>\n      <th>29</th>\n      <th>30</th>\n      <th>31</th>\n      <th>0</th>\n      <th>1</th>\n      <th>2</th>\n      <th>3</th>\n      <th>28</th>\n      <th>29</th>\n      <th>30</th>\n      <th>31</th>\n      <th>0</th>\n      <th>1</th>\n      <th>2</th>\n      <th>3</th>\n      <th>28</th>\n      <th>29</th>\n      <th>30</th>\n      <th>31</th>\n      <th>0</th>\n      <th>1</th>\n      <th>2</th>\n      <th>3</th>\n      <th>28</th>\n      <th>29</th>\n      <th>30</th>\n      <th>31</th>\n      <th>0</th>\n      <th>1</th>\n      <th>2</th>\n      <th>3</th>\n      <th>28</th>\n      <th>29</th>\n      <th>30</th>\n      <th>31</th>\n      <th>0</th>\n      <th>1</th>\n      <th>2</th>\n      <th>3</th>\n      <th>28</th>\n      <th>29</th>\n      <th>30</th>\n      <th>31</th>\n      <th>0</th>\n      <th>1</th>\n      <th>2</th>\n      <th>3</th>\n      <th>28</th>\n      <th>29</th>\n      <th>30</th>\n      <th>31</th>\n      <th>0</th>\n      <th>1</th>\n      <th>2</th>\n      <th>3</th>\n      <th>28</th>\n      <th>29</th>\n      <th>30</th>\n      <th>31</th>\n      <th>0</th>\n      <th>1</th>\n      <th>2</th>\n      <th>3</th>\n      <th>28</th>\n      <th>29</th>\n      <th>30</th>\n      <th>31</th>\n      <th>0</th>\n      <th>1</th>\n      <th>2</th>\n      <th>3</th>\n      <th>28</th>\n      <th>29</th>\n      <th>30</th>\n      <th>31</th>\n      <th>0</th>\n      <th>1</th>\n      <th>2</th>\n      <th>3</th>\n      <th>28</th>\n      <th>29</th>\n      <th>30</th>\n      <th>31</th>\n      <th>0</th>\n      <th>1</th>\n      <th>2</th>\n      <th>3</th>\n      <th>28</th>\n      <th>29</th>\n      <th>30</th>\n      <th>31</th>\n      <th>0</th>\n      <th>1</th>\n      <th>2</th>\n      <th>3</th>\n      <th>28</th>\n      <th>29</th>\n      <th>30</th>\n      <th>31</th>\n      <th>0</th>\n      <th>1</th>\n      <th>2</th>\n      <th>3</th>\n      <th>28</th>\n      <th>29</th>\n      <th>30</th>\n      <th>31</th>\n      <th>0</th>\n      <th>1</th>\n      <th>2</th>\n      <th>3</th>\n      <th>28</th>\n      <th>29</th>\n      <th>30</th>\n      <th>31</th>\n      <th>0</th>\n      <th>1</th>\n      <th>2</th>\n      <th>3</th>\n      <th>28</th>\n      <th>29</th>\n      <th>30</th>\n      <th>31</th>\n      <th>0</th>\n      <th>1</th>\n      <th>2</th>\n      <th>3</th>\n      <th>28</th>\n      <th>29</th>\n      <th>30</th>\n      <th>31</th>\n      <th>0</th>\n      <th>1</th>\n      <th>2</th>\n      <th>3</th>\n      <th>28</th>\n      <th>29</th>\n      <th>30</th>\n      <th>31</th>\n      <th>0</th>\n      <th>1</th>\n      <th>2</th>\n      <th>3</th>\n      <th>28</th>\n      <th>29</th>\n      <th>30</th>\n      <th>31</th>\n      <th>0</th>\n      <th>1</th>\n      <th>2</th>\n      <th>3</th>\n      <th>28</th>\n      <th>29</th>\n      <th>30</th>\n      <th>31</th>\n      <th>0</th>\n      <th>1</th>\n      <th>2</th>\n      <th>3</th>\n      <th>28</th>\n      <th>29</th>\n      <th>30</th>\n      <th>31</th>\n      <th>0</th>\n      <th>1</th>\n      <th>2</th>\n      <th>3</th>\n      <th>28</th>\n      <th>29</th>\n      <th>30</th>\n      <th>31</th>\n      <th>0</th>\n      <th>1</th>\n      <th>2</th>\n      <th>3</th>\n      <th>28</th>\n      <th>29</th>\n      <th>30</th>\n      <th>31</th>\n      <th>0</th>\n      <th>1</th>\n      <th>2</th>\n      <th>3</th>\n      <th>28</th>\n      <th>29</th>\n      <th>30</th>\n      <th>31</th>\n      <th>0</th>\n      <th>1</th>\n      <th>2</th>\n      <th>3</th>\n      <th>28</th>\n      <th>29</th>\n      <th>30</th>\n      <th>31</th>\n      <th>0</th>\n      <th>1</th>\n      <th>2</th>\n      <th>3</th>\n      <th>28</th>\n      <th>29</th>\n      <th>30</th>\n      <th>31</th>\n      <th>0</th>\n      <th>1</th>\n      <th>2</th>\n      <th>3</th>\n      <th>28</th>\n      <th>29</th>\n      <th>30</th>\n      <th>31</th>\n      <th>0</th>\n      <th>1</th>\n      <th>2</th>\n      <th>3</th>\n      <th>28</th>\n      <th>29</th>\n      <th>30</th>\n      <th>31</th>\n    </tr>\n  </thead>\n  <tbody>\n    <tr>\n      <th>0</th>\n      <td>NaN</td>\n      <td>NaN</td>\n      <td>NaN</td>\n      <td>NaN</td>\n      <td>-318.1297</td>\n      <td>-318.6808</td>\n      <td>-319.1055</td>\n      <td>-319.3068</td>\n      <td>NaN</td>\n      <td>NaN</td>\n      <td>NaN</td>\n      <td>NaN</td>\n      <td>349.6196</td>\n      <td>345.2472</td>\n      <td>338.5471</td>\n      <td>330.7361</td>\n      <td>NaN</td>\n      <td>NaN</td>\n      <td>NaN</td>\n      <td>NaN</td>\n      <td>-51.25742</td>\n      <td>-48.80588</td>\n      <td>-46.20153</td>\n      <td>-42.04137</td>\n      <td>NaN</td>\n      <td>NaN</td>\n      <td>NaN</td>\n      <td>NaN</td>\n      <td>-21.77575</td>\n      <td>-19.43496</td>\n      <td>-17.59132</td>\n      <td>-16.85076</td>\n      <td>NaN</td>\n      <td>NaN</td>\n      <td>NaN</td>\n      <td>NaN</td>\n      <td>34.35236</td>\n      <td>30.59289</td>\n      <td>27.95444</td>\n      <td>27.97145</td>\n      <td>NaN</td>\n      <td>NaN</td>\n      <td>NaN</td>\n      <td>NaN</td>\n      <td>130.6426</td>\n      <td>126.1261</td>\n      <td>124.0072</td>\n      <td>121.3898</td>\n      <td>NaN</td>\n      <td>NaN</td>\n      <td>NaN</td>\n      <td>NaN</td>\n      <td>0.0</td>\n      <td>0.0</td>\n      <td>0.0</td>\n      <td>0.0</td>\n      <td>NaN</td>\n      <td>NaN</td>\n      <td>NaN</td>\n      <td>NaN</td>\n      <td>0.0</td>\n      <td>0.0</td>\n      <td>0.0</td>\n      <td>0.0</td>\n      <td>NaN</td>\n      <td>NaN</td>\n      <td>NaN</td>\n      <td>NaN</td>\n      <td>0.0</td>\n      <td>0.0</td>\n      <td>0.0</td>\n      <td>0.0</td>\n      <td>NaN</td>\n      <td>NaN</td>\n      <td>NaN</td>\n      <td>NaN</td>\n      <td>0.0</td>\n      <td>0.0</td>\n      <td>0.0</td>\n      <td>0.0</td>\n      <td>NaN</td>\n      <td>NaN</td>\n      <td>NaN</td>\n      <td>NaN</td>\n      <td>0.0</td>\n      <td>0.0</td>\n      <td>0.0</td>\n      <td>0.0</td>\n      <td>NaN</td>\n      <td>NaN</td>\n      <td>NaN</td>\n      <td>NaN</td>\n      <td>0.0</td>\n      <td>0.0</td>\n      <td>0.0</td>\n      <td>0.0</td>\n      <td>NaN</td>\n      <td>NaN</td>\n      <td>NaN</td>\n      <td>NaN</td>\n      <td>1.625889</td>\n      <td>1.623542</td>\n      <td>1.620962</td>\n      <td>1.621744</td>\n      <td>NaN</td>\n      <td>NaN</td>\n      <td>NaN</td>\n      <td>NaN</td>\n      <td>1.244156</td>\n      <td>1.270567</td>\n      <td>1.286052</td>\n      <td>1.297734</td>\n      <td>NaN</td>\n      <td>NaN</td>\n      <td>NaN</td>\n      <td>NaN</td>\n      <td>-99.63873</td>\n      <td>-102.2255</td>\n      <td>-105.4718</td>\n      <td>-107.8266</td>\n      <td>NaN</td>\n      <td>NaN</td>\n      <td>NaN</td>\n      <td>NaN</td>\n      <td>98.60052</td>\n      <td>93.60865</td>\n      <td>88.09119</td>\n      <td>82.67999</td>\n      <td>NaN</td>\n      <td>NaN</td>\n      <td>NaN</td>\n      <td>NaN</td>\n      <td>176.4536</td>\n      <td>180.7795</td>\n      <td>185.9096</td>\n      <td>192.0195</td>\n      <td>NaN</td>\n      <td>NaN</td>\n      <td>NaN</td>\n      <td>NaN</td>\n      <td>157.569</td>\n      <td>160.0581</td>\n      <td>163.2982</td>\n      <td>167.4217</td>\n      <td>NaN</td>\n      <td>NaN</td>\n      <td>NaN</td>\n      <td>NaN</td>\n      <td>66.75639</td>\n      <td>66.21472</td>\n      <td>66.05576</td>\n      <td>65.91613</td>\n      <td>NaN</td>\n      <td>NaN</td>\n      <td>NaN</td>\n      <td>NaN</td>\n      <td>57.1483</td>\n      <td>57.24354</td>\n      <td>57.01411</td>\n      <td>56.91537</td>\n      <td>NaN</td>\n      <td>NaN</td>\n      <td>NaN</td>\n      <td>NaN</td>\n      <td>0.979514</td>\n      <td>0.965707</td>\n      <td>0.96231</td>\n      <td>0.972749</td>\n      <td>NaN</td>\n      <td>NaN</td>\n      <td>NaN</td>\n      <td>NaN</td>\n      <td>-0.84458</td>\n      <td>-0.888116</td>\n      <td>-0.935435</td>\n      <td>-0.980123</td>\n      <td>NaN</td>\n      <td>NaN</td>\n      <td>NaN</td>\n      <td>NaN</td>\n      <td>441.0</td>\n      <td>441.0</td>\n      <td>441.0</td>\n      <td>441.0</td>\n      <td>NaN</td>\n      <td>NaN</td>\n      <td>NaN</td>\n      <td>NaN</td>\n      <td>441.0</td>\n      <td>441.01</td>\n      <td>441.03</td>\n      <td>441.05</td>\n      <td>NaN</td>\n      <td>NaN</td>\n      <td>NaN</td>\n      <td>NaN</td>\n      <td>-64.70576</td>\n      <td>-191.2717</td>\n      <td>-180.4209</td>\n      <td>-126.2727</td>\n      <td>NaN</td>\n      <td>NaN</td>\n      <td>NaN</td>\n      <td>NaN</td>\n      <td>-290.6911</td>\n      <td>-287.1685</td>\n      <td>-319.5137</td>\n      <td>-314.8653</td>\n      <td>NaN</td>\n      <td>NaN</td>\n      <td>NaN</td>\n      <td>NaN</td>\n      <td>148.4376</td>\n      <td>288.7971</td>\n      <td>323.6361</td>\n      <td>372.5123</td>\n      <td>NaN</td>\n      <td>NaN</td>\n      <td>NaN</td>\n      <td>NaN</td>\n      <td>98.42847</td>\n      <td>163.319</td>\n      <td>202.2137</td>\n      <td>231.9504</td>\n      <td>NaN</td>\n      <td>NaN</td>\n      <td>NaN</td>\n      <td>NaN</td>\n      <td>-89.66738</td>\n      <td>-6.990762</td>\n      <td>-8.951144</td>\n      <td>4.630224</td>\n      <td>NaN</td>\n      <td>NaN</td>\n      <td>NaN</td>\n      <td>NaN</td>\n      <td>-4.511591</td>\n      <td>6.546028</td>\n      <td>-13.01662</td>\n      <td>-1.426334</td>\n      <td>NaN</td>\n      <td>NaN</td>\n      <td>NaN</td>\n      <td>NaN</td>\n      <td>-140.4549</td>\n      <td>-143.696</td>\n      <td>-147.22</td>\n      <td>-148.9273</td>\n      <td>NaN</td>\n      <td>NaN</td>\n      <td>NaN</td>\n      <td>NaN</td>\n      <td>149.489</td>\n      <td>142.9059</td>\n      <td>135.3758</td>\n      <td>127.904</td>\n      <td>NaN</td>\n      <td>NaN</td>\n      <td>NaN</td>\n      <td>NaN</td>\n      <td>120.7925</td>\n      <td>125.5604</td>\n      <td>130.8538</td>\n      <td>136.4963</td>\n      <td>NaN</td>\n      <td>NaN</td>\n      <td>NaN</td>\n      <td>NaN</td>\n      <td>110.6168</td>\n      <td>111.2898</td>\n      <td>112.5707</td>\n      <td>114.8477</td>\n      <td>NaN</td>\n      <td>NaN</td>\n      <td>NaN</td>\n      <td>NaN</td>\n      <td>55.28494</td>\n      <td>54.76803</td>\n      <td>54.68459</td>\n      <td>54.48259</td>\n      <td>NaN</td>\n      <td>NaN</td>\n      <td>NaN</td>\n      <td>NaN</td>\n      <td>67.17873</td>\n      <td>66.3205</td>\n      <td>65.80955</td>\n      <td>65.51181</td>\n      <td>NaN</td>\n      <td>NaN</td>\n      <td>NaN</td>\n      <td>NaN</td>\n      <td>1.655404</td>\n      <td>1.649239</td>\n      <td>1.644589</td>\n      <td>1.647544</td>\n      <td>NaN</td>\n      <td>NaN</td>\n      <td>NaN</td>\n      <td>NaN</td>\n      <td>-1.215411</td>\n      <td>-1.21859</td>\n      <td>-1.204873</td>\n      <td>-1.18691</td>\n    </tr>\n    <tr>\n      <th>0</th>\n      <td>-277.1588</td>\n      <td>-281.9228</td>\n      <td>-288.142</td>\n      <td>-290.7782</td>\n      <td>NaN</td>\n      <td>NaN</td>\n      <td>NaN</td>\n      <td>NaN</td>\n      <td>342.8213</td>\n      <td>356.3757</td>\n      <td>365.07</td>\n      <td>368.133</td>\n      <td>NaN</td>\n      <td>NaN</td>\n      <td>NaN</td>\n      <td>NaN</td>\n      <td>-32.4144</td>\n      <td>-32.64224</td>\n      <td>-31.89404</td>\n      <td>-31.72424</td>\n      <td>NaN</td>\n      <td>NaN</td>\n      <td>NaN</td>\n      <td>NaN</td>\n      <td>-19.87595</td>\n      <td>-14.13137</td>\n      <td>-13.07153</td>\n      <td>-14.17725</td>\n      <td>NaN</td>\n      <td>NaN</td>\n      <td>NaN</td>\n      <td>NaN</td>\n      <td>46.54707</td>\n      <td>44.98996</td>\n      <td>44.39068</td>\n      <td>44.22089</td>\n      <td>NaN</td>\n      <td>NaN</td>\n      <td>NaN</td>\n      <td>NaN</td>\n      <td>64.49064</td>\n      <td>66.3457</td>\n      <td>68.40325</td>\n      <td>68.86563</td>\n      <td>NaN</td>\n      <td>NaN</td>\n      <td>NaN</td>\n      <td>NaN</td>\n      <td>0.0</td>\n      <td>0.0</td>\n      <td>0.0</td>\n      <td>0.0</td>\n      <td>NaN</td>\n      <td>NaN</td>\n      <td>NaN</td>\n      <td>NaN</td>\n      <td>0.0</td>\n      <td>0.0</td>\n      <td>0.0</td>\n      <td>0.0</td>\n      <td>NaN</td>\n      <td>NaN</td>\n      <td>NaN</td>\n      <td>NaN</td>\n      <td>0.0</td>\n      <td>0.0</td>\n      <td>0.0</td>\n      <td>0.0</td>\n      <td>NaN</td>\n      <td>NaN</td>\n      <td>NaN</td>\n      <td>NaN</td>\n      <td>0.0</td>\n      <td>0.0</td>\n      <td>0.0</td>\n      <td>0.0</td>\n      <td>NaN</td>\n      <td>NaN</td>\n      <td>NaN</td>\n      <td>NaN</td>\n      <td>0.0</td>\n      <td>0.0</td>\n      <td>0.0</td>\n      <td>0.0</td>\n      <td>NaN</td>\n      <td>NaN</td>\n      <td>NaN</td>\n      <td>NaN</td>\n      <td>0.0</td>\n      <td>0.0</td>\n      <td>0.0</td>\n      <td>0.0</td>\n      <td>NaN</td>\n      <td>NaN</td>\n      <td>NaN</td>\n      <td>NaN</td>\n      <td>1.460463</td>\n      <td>1.464737</td>\n      <td>1.46526</td>\n      <td>1.46547</td>\n      <td>NaN</td>\n      <td>NaN</td>\n      <td>NaN</td>\n      <td>NaN</td>\n      <td>1.636958</td>\n      <td>1.628423</td>\n      <td>1.623693</td>\n      <td>1.620205</td>\n      <td>NaN</td>\n      <td>NaN</td>\n      <td>NaN</td>\n      <td>NaN</td>\n      <td>-69.01128</td>\n      <td>-67.35872</td>\n      <td>-66.13987</td>\n      <td>-65.45469</td>\n      <td>NaN</td>\n      <td>NaN</td>\n      <td>NaN</td>\n      <td>NaN</td>\n      <td>122.2716</td>\n      <td>127.8625</td>\n      <td>133.0621</td>\n      <td>135.4468</td>\n      <td>NaN</td>\n      <td>NaN</td>\n      <td>NaN</td>\n      <td>NaN</td>\n      <td>198.5826</td>\n      <td>192.127</td>\n      <td>185.758</td>\n      <td>182.7984</td>\n      <td>NaN</td>\n      <td>NaN</td>\n      <td>NaN</td>\n      <td>NaN</td>\n      <td>205.696</td>\n      <td>202.891</td>\n      <td>199.5995</td>\n      <td>197.6018</td>\n      <td>NaN</td>\n      <td>NaN</td>\n      <td>NaN</td>\n      <td>NaN</td>\n      <td>67.63021</td>\n      <td>67.93264</td>\n      <td>68.3474</td>\n      <td>68.42313</td>\n      <td>NaN</td>\n      <td>NaN</td>\n      <td>NaN</td>\n      <td>NaN</td>\n      <td>42.27343</td>\n      <td>40.9398</td>\n      <td>39.70962</td>\n      <td>39.07674</td>\n      <td>NaN</td>\n      <td>NaN</td>\n      <td>NaN</td>\n      <td>NaN</td>\n      <td>1.353737</td>\n      <td>1.325756</td>\n      <td>1.284522</td>\n      <td>1.26233</td>\n      <td>NaN</td>\n      <td>NaN</td>\n      <td>NaN</td>\n      <td>NaN</td>\n      <td>-0.910298</td>\n      <td>-0.894512</td>\n      <td>-0.884453</td>\n      <td>-0.879405</td>\n      <td>NaN</td>\n      <td>NaN</td>\n      <td>NaN</td>\n      <td>NaN</td>\n      <td>442.0</td>\n      <td>442.0</td>\n      <td>442.0</td>\n      <td>442.0</td>\n      <td>NaN</td>\n      <td>NaN</td>\n      <td>NaN</td>\n      <td>NaN</td>\n      <td>442.01</td>\n      <td>442.03</td>\n      <td>442.04</td>\n      <td>442.06</td>\n      <td>NaN</td>\n      <td>NaN</td>\n      <td>NaN</td>\n      <td>NaN</td>\n      <td>112.1148</td>\n      <td>92.48999</td>\n      <td>66.77081</td>\n      <td>78.27922</td>\n      <td>NaN</td>\n      <td>NaN</td>\n      <td>NaN</td>\n      <td>NaN</td>\n      <td>270.0492</td>\n      <td>332.6096</td>\n      <td>296.4992</td>\n      <td>272.4397</td>\n      <td>NaN</td>\n      <td>NaN</td>\n      <td>NaN</td>\n      <td>NaN</td>\n      <td>-369.1525</td>\n      <td>-356.9936</td>\n      <td>-327.3372</td>\n      <td>-338.1207</td>\n      <td>NaN</td>\n      <td>NaN</td>\n      <td>NaN</td>\n      <td>NaN</td>\n      <td>-195.1253</td>\n      <td>-158.8382</td>\n      <td>-180.0318</td>\n      <td>-228.2338</td>\n      <td>NaN</td>\n      <td>NaN</td>\n      <td>NaN</td>\n      <td>NaN</td>\n      <td>-10.25111</td>\n      <td>17.52591</td>\n      <td>17.6967</td>\n      <td>8.651788</td>\n      <td>NaN</td>\n      <td>NaN</td>\n      <td>NaN</td>\n      <td>NaN</td>\n      <td>-77.64381</td>\n      <td>-71.37215</td>\n      <td>-62.4418</td>\n      <td>-72.30432</td>\n      <td>NaN</td>\n      <td>NaN</td>\n      <td>NaN</td>\n      <td>NaN</td>\n      <td>-93.41663</td>\n      <td>-93.49084</td>\n      <td>-94.78535</td>\n      <td>-95.41006</td>\n      <td>NaN</td>\n      <td>NaN</td>\n      <td>NaN</td>\n      <td>NaN</td>\n      <td>169.0618</td>\n      <td>175.737</td>\n      <td>181.4363</td>\n      <td>183.9892</td>\n      <td>NaN</td>\n      <td>NaN</td>\n      <td>NaN</td>\n      <td>NaN</td>\n      <td>133.3783</td>\n      <td>127.6199</td>\n      <td>122.3127</td>\n      <td>119.9403</td>\n      <td>NaN</td>\n      <td>NaN</td>\n      <td>NaN</td>\n      <td>NaN</td>\n      <td>154.6541</td>\n      <td>152.7664</td>\n      <td>149.9208</td>\n      <td>148.0609</td>\n      <td>NaN</td>\n      <td>NaN</td>\n      <td>NaN</td>\n      <td>NaN</td>\n      <td>65.50215</td>\n      <td>65.41437</td>\n      <td>65.6623</td>\n      <td>65.66778</td>\n      <td>NaN</td>\n      <td>NaN</td>\n      <td>NaN</td>\n      <td>NaN</td>\n      <td>33.59426</td>\n      <td>32.84242</td>\n      <td>31.9185</td>\n      <td>31.43992</td>\n      <td>NaN</td>\n      <td>NaN</td>\n      <td>NaN</td>\n      <td>NaN</td>\n      <td>1.154565</td>\n      <td>1.208668</td>\n      <td>1.257493</td>\n      <td>1.278843</td>\n      <td>NaN</td>\n      <td>NaN</td>\n      <td>NaN</td>\n      <td>NaN</td>\n      <td>-1.655466</td>\n      <td>-1.642197</td>\n      <td>-1.635106</td>\n      <td>-1.630326</td>\n      <td>NaN</td>\n      <td>NaN</td>\n      <td>NaN</td>\n      <td>NaN</td>\n    </tr>\n  </tbody>\n</table>\n</div>"
     },
     "execution_count": 42,
     "metadata": {},
     "output_type": "execute_result"
    }
   ],
   "source": [
    "X = pd.DataFrame(round_time_groups.get_group(441).unstack()).T.append(\n",
    "    pd.DataFrame(round_time_groups.get_group(442).reset_index(drop=True).unstack()).T)\n",
    "X"
   ],
   "metadata": {
    "collapsed": false,
    "pycharm": {
     "name": "#%%\n"
    }
   }
  },
  {
   "cell_type": "markdown",
   "source": [
    "### Notes:\n",
    "\n",
    "01:37:00\n",
    "\n",
    "- Organize the data in a pandas dataframe\n",
    "- Goal: using the hand ... , detect if is alone, sync or spontaneous.\n",
    "- \"spontaneous synchronizing\"\n",
    "- interpersonal space\n",
    "- training has 9 participants\n",
    "- validation has different participants\n",
    "- spontan and sync: if # hands is 1, remove data!\n",
    "- time series\n",
    "- every 2 lines is one feature (need to be combined) = 1 frame\n",
    "- choose how many frames\n",
    "- position y is similar\n",
    "- 2 recordings, second is usually better\n",
    "- can't split train and test as usual (correlation between each following movement). can't shuffle!\n",
    "for instance, can take first 40 seconds for training and last 5 for testing.\n",
    "- at least 2 seconds in between train and test\n",
    "- model for 1 person, try model on second person. train the second person and test the third etc.\n",
    "- 4 frames per second\n",
    "-"
   ],
   "metadata": {
    "collapsed": false
   }
  },
  {
   "cell_type": "markdown",
   "source": [
    "> #### Resources:\n",
    "1. Leap Motion Attributes <a href=\"https://developer-archive.leapmotion.com/documentation/python/api/Leap.Hand.html\"\n",
    "> title=\"leapmotion\">link</a>\n"
   ],
   "metadata": {
    "collapsed": false,
    "pycharm": {
     "name": "#%% md\n"
    }
   }
  }
 ],
 "metadata": {
  "kernelspec": {
   "name": "pycharm-bcecade4",
   "language": "python",
   "display_name": "PyCharm (1SB-Final-Project)"
  },
  "language_info": {
   "codemirror_mode": {
    "name": "ipython",
    "version": 2
   },
   "file_extension": ".py",
   "mimetype": "text/x-python",
   "name": "python",
   "nbconvert_exporter": "python",
   "pygments_lexer": "ipython2",
   "version": "2.7.6"
  }
 },
 "nbformat": 4,
 "nbformat_minor": 0
}