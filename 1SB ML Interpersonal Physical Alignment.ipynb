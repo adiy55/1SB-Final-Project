{
 "cells": [
  {
   "cell_type": "code",
   "execution_count": 1,
   "metadata": {
    "collapsed": true
   },
   "outputs": [],
   "source": [
    "# common imports\n",
    "import numpy as np\n",
    "import pandas as pd\n",
    "import joblib\n",
    "import seaborn as sns\n",
    "import matplotlib.pyplot as plt\n",
    "%matplotlib inline\n",
    "\n",
    "# machine learning imports\n",
    "\n",
    "\n",
    "# display setup\n",
    "pd.set_option(\"display.max_columns\", None) # the None parameter displays unlimited columns\n",
    "plt.style.use('seaborn')  # for plots"
   ]
  },
  {
   "cell_type": "markdown",
   "source": [
    "# 1. Getting the Data"
   ],
   "metadata": {
    "collapsed": false,
    "pycharm": {
     "name": "#%% md\n"
    }
   }
  },
  {
   "cell_type": "markdown",
   "source": [
    "> Each participant has 3 csv files, one for each alignment state.\n",
    ">\n",
    "> Taking a look at one file for each state should help gain insight to which dataframe manipulations are necessary\n",
    "> before inserting it into a machine learning algorithm."
   ],
   "metadata": {
    "collapsed": false,
    "pycharm": {
     "name": "#%% md\n"
    }
   }
  },
  {
   "cell_type": "code",
   "execution_count": 151,
   "outputs": [],
   "source": [
    "spontan = pd.read_csv(r\"extraFiles/Training/Evyatar Cohen/Evyatar636771052727603804Spontan.csv\")\n",
    "sync = pd.read_csv(r\"extraFiles/Training/Evyatar Cohen/Evyatar636771053639929594Sync.csv\")"
   ],
   "metadata": {
    "collapsed": false,
    "pycharm": {
     "name": "#%%\n"
    }
   }
  },
  {
   "cell_type": "code",
   "execution_count": 152,
   "outputs": [
    {
     "data": {
      "text/plain": "       Time   Frame ID  Hand Type   # hands   Position X   Position Y  \\\n0  427.2310     139071      right         2     69.65445     209.9525   \n1  427.2310     139071       left         2    -87.18215     204.5752   \n2  427.2483     139073      right         2     68.97833     215.1191   \n3  427.2483     139073       left         2    -85.20093     209.7387   \n4  427.2641     139075      right         2     68.11068     220.9579   \n\n    Position Z   Velocity X   Velocity Y   Velocity Z     Pitch      Roll  \\\n0    -18.54797    -65.04708     338.2631   -102.57630  0.865190 -1.009409   \n1    -40.50642    171.17460     247.9453    -96.48488  1.239694  0.685550   \n2    -20.12599    -44.44045     302.9170    -83.93305  0.863391 -1.005569   \n3    -41.18375     70.93041     344.8777    -46.40427  1.294470  0.710267   \n4    -21.77186    -22.08052     307.0574    -67.08289  0.875840 -1.017380   \n\n        Yaw   Wrist Pos X   Wrist Pos Y   Wrist Pos Z   Elbow pos X  \\\n0 -0.763543      112.1363      162.7645     10.928120      275.1779   \n1  1.220096     -137.3886      158.1433    -27.829490     -261.8767   \n2 -0.766907      111.5590      167.9522      9.239409      272.0606   \n3  1.276068     -135.5462      162.8801    -30.982930     -259.9806   \n4 -0.767062      110.1764      173.1205      7.244619      267.7276   \n\n    Elbow Pos Y   Elbow Pos Z   Grab Strenth   Grab Angle   Pinch Strength  \n0     -7.356547      87.30630            0.0     0.059833              0.0  \n1    -47.873840      30.62584            0.0     0.000000              0.0  \n2     -5.603438      83.23297            0.0     0.090605              0.0  \n3    -43.469070      26.40578            0.0     0.000000              0.0  \n4     -2.693964      82.23973            0.0     0.069295              0.0  ",
      "text/html": "<div>\n<style scoped>\n    .dataframe tbody tr th:only-of-type {\n        vertical-align: middle;\n    }\n\n    .dataframe tbody tr th {\n        vertical-align: top;\n    }\n\n    .dataframe thead th {\n        text-align: right;\n    }\n</style>\n<table border=\"1\" class=\"dataframe\">\n  <thead>\n    <tr style=\"text-align: right;\">\n      <th></th>\n      <th>Time</th>\n      <th>Frame ID</th>\n      <th>Hand Type</th>\n      <th># hands</th>\n      <th>Position X</th>\n      <th>Position Y</th>\n      <th>Position Z</th>\n      <th>Velocity X</th>\n      <th>Velocity Y</th>\n      <th>Velocity Z</th>\n      <th>Pitch</th>\n      <th>Roll</th>\n      <th>Yaw</th>\n      <th>Wrist Pos X</th>\n      <th>Wrist Pos Y</th>\n      <th>Wrist Pos Z</th>\n      <th>Elbow pos X</th>\n      <th>Elbow Pos Y</th>\n      <th>Elbow Pos Z</th>\n      <th>Grab Strenth</th>\n      <th>Grab Angle</th>\n      <th>Pinch Strength</th>\n    </tr>\n  </thead>\n  <tbody>\n    <tr>\n      <th>0</th>\n      <td>427.2310</td>\n      <td>139071</td>\n      <td>right</td>\n      <td>2</td>\n      <td>69.65445</td>\n      <td>209.9525</td>\n      <td>-18.54797</td>\n      <td>-65.04708</td>\n      <td>338.2631</td>\n      <td>-102.57630</td>\n      <td>0.865190</td>\n      <td>-1.009409</td>\n      <td>-0.763543</td>\n      <td>112.1363</td>\n      <td>162.7645</td>\n      <td>10.928120</td>\n      <td>275.1779</td>\n      <td>-7.356547</td>\n      <td>87.30630</td>\n      <td>0.0</td>\n      <td>0.059833</td>\n      <td>0.0</td>\n    </tr>\n    <tr>\n      <th>1</th>\n      <td>427.2310</td>\n      <td>139071</td>\n      <td>left</td>\n      <td>2</td>\n      <td>-87.18215</td>\n      <td>204.5752</td>\n      <td>-40.50642</td>\n      <td>171.17460</td>\n      <td>247.9453</td>\n      <td>-96.48488</td>\n      <td>1.239694</td>\n      <td>0.685550</td>\n      <td>1.220096</td>\n      <td>-137.3886</td>\n      <td>158.1433</td>\n      <td>-27.829490</td>\n      <td>-261.8767</td>\n      <td>-47.873840</td>\n      <td>30.62584</td>\n      <td>0.0</td>\n      <td>0.000000</td>\n      <td>0.0</td>\n    </tr>\n    <tr>\n      <th>2</th>\n      <td>427.2483</td>\n      <td>139073</td>\n      <td>right</td>\n      <td>2</td>\n      <td>68.97833</td>\n      <td>215.1191</td>\n      <td>-20.12599</td>\n      <td>-44.44045</td>\n      <td>302.9170</td>\n      <td>-83.93305</td>\n      <td>0.863391</td>\n      <td>-1.005569</td>\n      <td>-0.766907</td>\n      <td>111.5590</td>\n      <td>167.9522</td>\n      <td>9.239409</td>\n      <td>272.0606</td>\n      <td>-5.603438</td>\n      <td>83.23297</td>\n      <td>0.0</td>\n      <td>0.090605</td>\n      <td>0.0</td>\n    </tr>\n    <tr>\n      <th>3</th>\n      <td>427.2483</td>\n      <td>139073</td>\n      <td>left</td>\n      <td>2</td>\n      <td>-85.20093</td>\n      <td>209.7387</td>\n      <td>-41.18375</td>\n      <td>70.93041</td>\n      <td>344.8777</td>\n      <td>-46.40427</td>\n      <td>1.294470</td>\n      <td>0.710267</td>\n      <td>1.276068</td>\n      <td>-135.5462</td>\n      <td>162.8801</td>\n      <td>-30.982930</td>\n      <td>-259.9806</td>\n      <td>-43.469070</td>\n      <td>26.40578</td>\n      <td>0.0</td>\n      <td>0.000000</td>\n      <td>0.0</td>\n    </tr>\n    <tr>\n      <th>4</th>\n      <td>427.2641</td>\n      <td>139075</td>\n      <td>right</td>\n      <td>2</td>\n      <td>68.11068</td>\n      <td>220.9579</td>\n      <td>-21.77186</td>\n      <td>-22.08052</td>\n      <td>307.0574</td>\n      <td>-67.08289</td>\n      <td>0.875840</td>\n      <td>-1.017380</td>\n      <td>-0.767062</td>\n      <td>110.1764</td>\n      <td>173.1205</td>\n      <td>7.244619</td>\n      <td>267.7276</td>\n      <td>-2.693964</td>\n      <td>82.23973</td>\n      <td>0.0</td>\n      <td>0.069295</td>\n      <td>0.0</td>\n    </tr>\n  </tbody>\n</table>\n</div>"
     },
     "execution_count": 152,
     "metadata": {},
     "output_type": "execute_result"
    }
   ],
   "source": [
    "sync.head()"
   ],
   "metadata": {
    "collapsed": false,
    "pycharm": {
     "name": "#%%\n"
    }
   }
  },
  {
   "cell_type": "code",
   "execution_count": 155,
   "outputs": [
    {
     "data": {
      "text/plain": "       time  frame_id hand_type  n_hands  position_x  position_y  position_z  \\\n0  427.2310    139071     right        2    69.65445    209.9525   -18.54797   \n1  427.2310    139071      left        2   -87.18215    204.5752   -40.50642   \n2  427.2483    139073     right        2    68.97833    215.1191   -20.12599   \n3  427.2483    139073      left        2   -85.20093    209.7387   -41.18375   \n4  427.2641    139075     right        2    68.11068    220.9579   -21.77186   \n\n   velocity_x  velocity_y  velocity_z     pitch      roll       yaw  \\\n0   -65.04708    338.2631  -102.57630  0.865190 -1.009409 -0.763543   \n1   171.17460    247.9453   -96.48488  1.239694  0.685550  1.220096   \n2   -44.44045    302.9170   -83.93305  0.863391 -1.005569 -0.766907   \n3    70.93041    344.8777   -46.40427  1.294470  0.710267  1.276068   \n4   -22.08052    307.0574   -67.08289  0.875840 -1.017380 -0.767062   \n\n   wrist_pos_x  wrist_pos_y  wrist_pos_z  elbow_pos_x  elbow_pos_y  \\\n0     112.1363     162.7645    10.928120     275.1779    -7.356547   \n1    -137.3886     158.1433   -27.829490    -261.8767   -47.873840   \n2     111.5590     167.9522     9.239409     272.0606    -5.603438   \n3    -135.5462     162.8801   -30.982930    -259.9806   -43.469070   \n4     110.1764     173.1205     7.244619     267.7276    -2.693964   \n\n   elbow_pos_z  grab_strenth  grab_angle  pinch_strength  \n0     87.30630           0.0    0.059833             0.0  \n1     30.62584           0.0    0.000000             0.0  \n2     83.23297           0.0    0.090605             0.0  \n3     26.40578           0.0    0.000000             0.0  \n4     82.23973           0.0    0.069295             0.0  ",
      "text/html": "<div>\n<style scoped>\n    .dataframe tbody tr th:only-of-type {\n        vertical-align: middle;\n    }\n\n    .dataframe tbody tr th {\n        vertical-align: top;\n    }\n\n    .dataframe thead th {\n        text-align: right;\n    }\n</style>\n<table border=\"1\" class=\"dataframe\">\n  <thead>\n    <tr style=\"text-align: right;\">\n      <th></th>\n      <th>time</th>\n      <th>frame_id</th>\n      <th>hand_type</th>\n      <th>n_hands</th>\n      <th>position_x</th>\n      <th>position_y</th>\n      <th>position_z</th>\n      <th>velocity_x</th>\n      <th>velocity_y</th>\n      <th>velocity_z</th>\n      <th>pitch</th>\n      <th>roll</th>\n      <th>yaw</th>\n      <th>wrist_pos_x</th>\n      <th>wrist_pos_y</th>\n      <th>wrist_pos_z</th>\n      <th>elbow_pos_x</th>\n      <th>elbow_pos_y</th>\n      <th>elbow_pos_z</th>\n      <th>grab_strenth</th>\n      <th>grab_angle</th>\n      <th>pinch_strength</th>\n    </tr>\n  </thead>\n  <tbody>\n    <tr>\n      <th>0</th>\n      <td>427.2310</td>\n      <td>139071</td>\n      <td>right</td>\n      <td>2</td>\n      <td>69.65445</td>\n      <td>209.9525</td>\n      <td>-18.54797</td>\n      <td>-65.04708</td>\n      <td>338.2631</td>\n      <td>-102.57630</td>\n      <td>0.865190</td>\n      <td>-1.009409</td>\n      <td>-0.763543</td>\n      <td>112.1363</td>\n      <td>162.7645</td>\n      <td>10.928120</td>\n      <td>275.1779</td>\n      <td>-7.356547</td>\n      <td>87.30630</td>\n      <td>0.0</td>\n      <td>0.059833</td>\n      <td>0.0</td>\n    </tr>\n    <tr>\n      <th>1</th>\n      <td>427.2310</td>\n      <td>139071</td>\n      <td>left</td>\n      <td>2</td>\n      <td>-87.18215</td>\n      <td>204.5752</td>\n      <td>-40.50642</td>\n      <td>171.17460</td>\n      <td>247.9453</td>\n      <td>-96.48488</td>\n      <td>1.239694</td>\n      <td>0.685550</td>\n      <td>1.220096</td>\n      <td>-137.3886</td>\n      <td>158.1433</td>\n      <td>-27.829490</td>\n      <td>-261.8767</td>\n      <td>-47.873840</td>\n      <td>30.62584</td>\n      <td>0.0</td>\n      <td>0.000000</td>\n      <td>0.0</td>\n    </tr>\n    <tr>\n      <th>2</th>\n      <td>427.2483</td>\n      <td>139073</td>\n      <td>right</td>\n      <td>2</td>\n      <td>68.97833</td>\n      <td>215.1191</td>\n      <td>-20.12599</td>\n      <td>-44.44045</td>\n      <td>302.9170</td>\n      <td>-83.93305</td>\n      <td>0.863391</td>\n      <td>-1.005569</td>\n      <td>-0.766907</td>\n      <td>111.5590</td>\n      <td>167.9522</td>\n      <td>9.239409</td>\n      <td>272.0606</td>\n      <td>-5.603438</td>\n      <td>83.23297</td>\n      <td>0.0</td>\n      <td>0.090605</td>\n      <td>0.0</td>\n    </tr>\n    <tr>\n      <th>3</th>\n      <td>427.2483</td>\n      <td>139073</td>\n      <td>left</td>\n      <td>2</td>\n      <td>-85.20093</td>\n      <td>209.7387</td>\n      <td>-41.18375</td>\n      <td>70.93041</td>\n      <td>344.8777</td>\n      <td>-46.40427</td>\n      <td>1.294470</td>\n      <td>0.710267</td>\n      <td>1.276068</td>\n      <td>-135.5462</td>\n      <td>162.8801</td>\n      <td>-30.982930</td>\n      <td>-259.9806</td>\n      <td>-43.469070</td>\n      <td>26.40578</td>\n      <td>0.0</td>\n      <td>0.000000</td>\n      <td>0.0</td>\n    </tr>\n    <tr>\n      <th>4</th>\n      <td>427.2641</td>\n      <td>139075</td>\n      <td>right</td>\n      <td>2</td>\n      <td>68.11068</td>\n      <td>220.9579</td>\n      <td>-21.77186</td>\n      <td>-22.08052</td>\n      <td>307.0574</td>\n      <td>-67.08289</td>\n      <td>0.875840</td>\n      <td>-1.017380</td>\n      <td>-0.767062</td>\n      <td>110.1764</td>\n      <td>173.1205</td>\n      <td>7.244619</td>\n      <td>267.7276</td>\n      <td>-2.693964</td>\n      <td>82.23973</td>\n      <td>0.0</td>\n      <td>0.069295</td>\n      <td>0.0</td>\n    </tr>\n  </tbody>\n</table>\n</div>"
     },
     "execution_count": 155,
     "metadata": {},
     "output_type": "execute_result"
    }
   ],
   "source": [
    "sync.head()"
   ],
   "metadata": {
    "collapsed": false,
    "pycharm": {
     "name": "#%%\n"
    }
   }
  },
  {
   "cell_type": "code",
   "execution_count": 156,
   "outputs": [
    {
     "name": "stdout",
     "output_type": "stream",
     "text": [
      "<class 'pandas.core.frame.DataFrame'>\n",
      "RangeIndex: 9052 entries, 0 to 9051\n",
      "Data columns (total 22 columns):\n",
      " #   Column          Non-Null Count  Dtype  \n",
      "---  ------          --------------  -----  \n",
      " 0   time            9052 non-null   float64\n",
      " 1   frame_id        9052 non-null   int64  \n",
      " 2   hand_type       9052 non-null   object \n",
      " 3   n_hands         9052 non-null   int64  \n",
      " 4   position_x      9052 non-null   float64\n",
      " 5   position_y      9052 non-null   float64\n",
      " 6   position_z      9052 non-null   float64\n",
      " 7   velocity_x      9052 non-null   float64\n",
      " 8   velocity_y      9052 non-null   float64\n",
      " 9   velocity_z      9052 non-null   float64\n",
      " 10  pitch           9052 non-null   float64\n",
      " 11  roll            9052 non-null   float64\n",
      " 12  yaw             9052 non-null   float64\n",
      " 13  wrist_pos_x     9052 non-null   float64\n",
      " 14  wrist_pos_y     9052 non-null   float64\n",
      " 15  wrist_pos_z     9052 non-null   float64\n",
      " 16  elbow_pos_x     9052 non-null   float64\n",
      " 17  elbow_pos_y     9052 non-null   float64\n",
      " 18  elbow_pos_z     9052 non-null   float64\n",
      " 19  grab_strenth    9052 non-null   float64\n",
      " 20  grab_angle      9052 non-null   float64\n",
      " 21  pinch_strength  9052 non-null   float64\n",
      "dtypes: float64(19), int64(2), object(1)\n",
      "memory usage: 1.5+ MB\n"
     ]
    }
   ],
   "source": [
    "sync.info()"
   ],
   "metadata": {
    "collapsed": false,
    "pycharm": {
     "name": "#%%\n"
    }
   }
  },
  {
   "cell_type": "code",
   "execution_count": null,
   "outputs": [],
   "source": [
    "# strip removes whitespaces, lower changes the uppercase letters to lowercase\n",
    "sync.columns = sync.columns.str.strip().str.lower()\n",
    "sync.columns"
   ],
   "metadata": {
    "collapsed": false,
    "pycharm": {
     "name": "#%%\n"
    }
   }
  },
  {
   "cell_type": "code",
   "execution_count": null,
   "outputs": [],
   "source": [
    "# rename columns without spaces\n",
    "sync.columns = sync.columns.str.replace(\" \", \"_\")\n",
    "# change number of hands column name\n",
    "sync.columns = sync.columns.str.replace(\"#_hands\", \"n_hands\")"
   ],
   "metadata": {
    "collapsed": false,
    "pycharm": {
     "name": "#%%\n"
    }
   }
  },
  {
   "cell_type": "code",
   "execution_count": 157,
   "outputs": [
    {
     "data": {
      "text/plain": "array([2], dtype=int64)"
     },
     "execution_count": 157,
     "metadata": {},
     "output_type": "execute_result"
    }
   ],
   "source": [
    "sync.n_hands.unique()"
   ],
   "metadata": {
    "collapsed": false,
    "pycharm": {
     "name": "#%%\n"
    }
   }
  },
  {
   "cell_type": "code",
   "execution_count": 162,
   "outputs": [
    {
     "data": {
      "text/plain": "Int64Index([   0,    1,    2,    3,    4,    5,    6,    7,    8,    9,\n            ...\n            9042, 9043, 9044, 9045, 9046, 9047, 9048, 9049, 9050, 9051],\n           dtype='int64', length=9052)"
     },
     "execution_count": 162,
     "metadata": {},
     "output_type": "execute_result"
    }
   ],
   "source": [
    "index_numbers = sync[sync[\"n_hands\"]==1].index"
   ],
   "metadata": {
    "collapsed": false,
    "pycharm": {
     "name": "#%%\n"
    }
   }
  },
  {
   "cell_type": "code",
   "execution_count": 163,
   "outputs": [
    {
     "data": {
      "text/plain": "Empty DataFrame\nColumns: [time, frame_id, hand_type, n_hands, position_x, position_y, position_z, velocity_x, velocity_y, velocity_z, pitch, roll, yaw, wrist_pos_x, wrist_pos_y, wrist_pos_z, elbow_pos_x, elbow_pos_y, elbow_pos_z, grab_strenth, grab_angle, pinch_strength]\nIndex: []",
      "text/html": "<div>\n<style scoped>\n    .dataframe tbody tr th:only-of-type {\n        vertical-align: middle;\n    }\n\n    .dataframe tbody tr th {\n        vertical-align: top;\n    }\n\n    .dataframe thead th {\n        text-align: right;\n    }\n</style>\n<table border=\"1\" class=\"dataframe\">\n  <thead>\n    <tr style=\"text-align: right;\">\n      <th></th>\n      <th>time</th>\n      <th>frame_id</th>\n      <th>hand_type</th>\n      <th>n_hands</th>\n      <th>position_x</th>\n      <th>position_y</th>\n      <th>position_z</th>\n      <th>velocity_x</th>\n      <th>velocity_y</th>\n      <th>velocity_z</th>\n      <th>pitch</th>\n      <th>roll</th>\n      <th>yaw</th>\n      <th>wrist_pos_x</th>\n      <th>wrist_pos_y</th>\n      <th>wrist_pos_z</th>\n      <th>elbow_pos_x</th>\n      <th>elbow_pos_y</th>\n      <th>elbow_pos_z</th>\n      <th>grab_strenth</th>\n      <th>grab_angle</th>\n      <th>pinch_strength</th>\n    </tr>\n  </thead>\n  <tbody>\n  </tbody>\n</table>\n</div>"
     },
     "execution_count": 163,
     "metadata": {},
     "output_type": "execute_result"
    }
   ],
   "source": [
    "sync.drop(index_numbers, inplace=False)"
   ],
   "metadata": {
    "collapsed": false,
    "pycharm": {
     "name": "#%%\n"
    }
   }
  },
  {
   "cell_type": "code",
   "execution_count": 143,
   "outputs": [],
   "source": [
    "# sync.set_index(\"Time\", drop=True, inplace=False)"
   ],
   "metadata": {
    "collapsed": false,
    "pycharm": {
     "name": "#%%\n"
    }
   }
  },
  {
   "cell_type": "code",
   "execution_count": 175,
   "outputs": [],
   "source": [
    "left = sync.groupby(\"hand_type\").get_group(\"left\").drop([\"hand_type\", \"n_hands\"], axis=1)\n",
    "right = sync.groupby(\"hand_type\").get_group(\"right\").drop([\"hand_type\", \"n_hands\"], axis=1)"
   ],
   "metadata": {
    "collapsed": false,
    "pycharm": {
     "name": "#%%\n"
    }
   }
  },
  {
   "cell_type": "code",
   "execution_count": 176,
   "outputs": [
    {
     "data": {
      "text/plain": "          time  frame_id  position_x  position_y  position_z  velocity_x  \\\n1     427.2310    139071   -87.18215    204.5752   -40.50642  171.174600   \n3     427.2483    139073   -85.20093    209.7387   -41.18375   70.930410   \n5     427.2641    139075   -83.49533    214.9115   -42.59961   85.710340   \n7     427.2807    139077   -83.51068    221.4817   -44.18541    0.287095   \n9     427.2973    139078   -83.72626    224.9673   -44.57369  -24.301780   \n...        ...       ...         ...         ...         ...         ...   \n9043  502.1338    147698   -94.49778    257.4222    55.64758   36.686230   \n9045  502.1499    147700   -94.05425    255.8155    52.81230   30.153270   \n9047  502.1665    147702   -93.68062    253.3679    50.37835   32.269880   \n9049  502.1830    147704   -93.12487    250.4072    48.05837   32.141470   \n9051  502.1996    147706   -92.35281    246.6158    45.84472   56.623870   \n\n      velocity_y  velocity_z     pitch      roll       yaw  wrist_pos_x  \\\n1      247.94530   -96.48488  1.239694  0.685550  1.220096    -137.3886   \n3      344.87770   -46.40427  1.294470  0.710267  1.276068    -135.5462   \n5      348.23460  -102.02660  1.331296  0.730335  1.312464    -133.7321   \n7      388.70420   -86.57835  1.358686  0.747044  1.338415    -133.4904   \n9      392.91710   -43.76951  1.375643  0.755893  1.355570    -133.5924   \n...          ...         ...       ...       ...       ...          ...   \n9043   -78.04737  -178.26260  1.323389  1.258593  1.065970    -127.3144   \n9045  -144.97720  -155.62700  1.285448  1.277849  1.007618    -126.9333   \n9047  -161.19530  -137.36660  1.246310  1.297078  0.956325    -126.9241   \n9049  -157.05030  -124.67950  1.208146  1.327065  0.901075    -126.4018   \n9051  -228.45100  -134.96170  1.180058  1.358709  0.855786    -125.3931   \n\n      wrist_pos_y  wrist_pos_z  elbow_pos_x  elbow_pos_y  elbow_pos_z  \\\n1        158.1433    -27.82949    -261.8767    -47.87384     30.62584   \n3        162.8801    -30.98293    -259.9806    -43.46907     26.40578   \n5        167.7086    -33.75665    -257.4434    -37.24958     29.84401   \n7        173.9064    -36.19991    -255.7929    -29.82336     33.75477   \n9        177.2040    -37.22458    -254.6681    -26.72015     34.28068   \n...           ...          ...          ...          ...          ...   \n9043     194.4717     59.52803    -299.5664     15.22464     16.52840   \n9045     193.0801     58.90355    -298.9101     12.87815     18.89758   \n9047     191.1363     58.91284    -302.6545     12.99574     26.75648   \n9049     188.6597     59.13661    -308.9988     15.97083     37.08796   \n9051     185.2068     58.86960    -314.7061     19.05455     44.61267   \n\n      grab_strenth  grab_angle  pinch_strength  \n1              0.0         0.0             0.0  \n3              0.0         0.0             0.0  \n5              0.0         0.0             0.0  \n7              0.0         0.0             0.0  \n9              0.0         0.0             0.0  \n...            ...         ...             ...  \n9043           0.0         0.0             0.0  \n9045           0.0         0.0             0.0  \n9047           0.0         0.0             0.0  \n9049           0.0         0.0             0.0  \n9051           0.0         0.0             0.0  \n\n[4526 rows x 20 columns]",
      "text/html": "<div>\n<style scoped>\n    .dataframe tbody tr th:only-of-type {\n        vertical-align: middle;\n    }\n\n    .dataframe tbody tr th {\n        vertical-align: top;\n    }\n\n    .dataframe thead th {\n        text-align: right;\n    }\n</style>\n<table border=\"1\" class=\"dataframe\">\n  <thead>\n    <tr style=\"text-align: right;\">\n      <th></th>\n      <th>time</th>\n      <th>frame_id</th>\n      <th>position_x</th>\n      <th>position_y</th>\n      <th>position_z</th>\n      <th>velocity_x</th>\n      <th>velocity_y</th>\n      <th>velocity_z</th>\n      <th>pitch</th>\n      <th>roll</th>\n      <th>yaw</th>\n      <th>wrist_pos_x</th>\n      <th>wrist_pos_y</th>\n      <th>wrist_pos_z</th>\n      <th>elbow_pos_x</th>\n      <th>elbow_pos_y</th>\n      <th>elbow_pos_z</th>\n      <th>grab_strenth</th>\n      <th>grab_angle</th>\n      <th>pinch_strength</th>\n    </tr>\n  </thead>\n  <tbody>\n    <tr>\n      <th>1</th>\n      <td>427.2310</td>\n      <td>139071</td>\n      <td>-87.18215</td>\n      <td>204.5752</td>\n      <td>-40.50642</td>\n      <td>171.174600</td>\n      <td>247.94530</td>\n      <td>-96.48488</td>\n      <td>1.239694</td>\n      <td>0.685550</td>\n      <td>1.220096</td>\n      <td>-137.3886</td>\n      <td>158.1433</td>\n      <td>-27.82949</td>\n      <td>-261.8767</td>\n      <td>-47.87384</td>\n      <td>30.62584</td>\n      <td>0.0</td>\n      <td>0.0</td>\n      <td>0.0</td>\n    </tr>\n    <tr>\n      <th>3</th>\n      <td>427.2483</td>\n      <td>139073</td>\n      <td>-85.20093</td>\n      <td>209.7387</td>\n      <td>-41.18375</td>\n      <td>70.930410</td>\n      <td>344.87770</td>\n      <td>-46.40427</td>\n      <td>1.294470</td>\n      <td>0.710267</td>\n      <td>1.276068</td>\n      <td>-135.5462</td>\n      <td>162.8801</td>\n      <td>-30.98293</td>\n      <td>-259.9806</td>\n      <td>-43.46907</td>\n      <td>26.40578</td>\n      <td>0.0</td>\n      <td>0.0</td>\n      <td>0.0</td>\n    </tr>\n    <tr>\n      <th>5</th>\n      <td>427.2641</td>\n      <td>139075</td>\n      <td>-83.49533</td>\n      <td>214.9115</td>\n      <td>-42.59961</td>\n      <td>85.710340</td>\n      <td>348.23460</td>\n      <td>-102.02660</td>\n      <td>1.331296</td>\n      <td>0.730335</td>\n      <td>1.312464</td>\n      <td>-133.7321</td>\n      <td>167.7086</td>\n      <td>-33.75665</td>\n      <td>-257.4434</td>\n      <td>-37.24958</td>\n      <td>29.84401</td>\n      <td>0.0</td>\n      <td>0.0</td>\n      <td>0.0</td>\n    </tr>\n    <tr>\n      <th>7</th>\n      <td>427.2807</td>\n      <td>139077</td>\n      <td>-83.51068</td>\n      <td>221.4817</td>\n      <td>-44.18541</td>\n      <td>0.287095</td>\n      <td>388.70420</td>\n      <td>-86.57835</td>\n      <td>1.358686</td>\n      <td>0.747044</td>\n      <td>1.338415</td>\n      <td>-133.4904</td>\n      <td>173.9064</td>\n      <td>-36.19991</td>\n      <td>-255.7929</td>\n      <td>-29.82336</td>\n      <td>33.75477</td>\n      <td>0.0</td>\n      <td>0.0</td>\n      <td>0.0</td>\n    </tr>\n    <tr>\n      <th>9</th>\n      <td>427.2973</td>\n      <td>139078</td>\n      <td>-83.72626</td>\n      <td>224.9673</td>\n      <td>-44.57369</td>\n      <td>-24.301780</td>\n      <td>392.91710</td>\n      <td>-43.76951</td>\n      <td>1.375643</td>\n      <td>0.755893</td>\n      <td>1.355570</td>\n      <td>-133.5924</td>\n      <td>177.2040</td>\n      <td>-37.22458</td>\n      <td>-254.6681</td>\n      <td>-26.72015</td>\n      <td>34.28068</td>\n      <td>0.0</td>\n      <td>0.0</td>\n      <td>0.0</td>\n    </tr>\n    <tr>\n      <th>...</th>\n      <td>...</td>\n      <td>...</td>\n      <td>...</td>\n      <td>...</td>\n      <td>...</td>\n      <td>...</td>\n      <td>...</td>\n      <td>...</td>\n      <td>...</td>\n      <td>...</td>\n      <td>...</td>\n      <td>...</td>\n      <td>...</td>\n      <td>...</td>\n      <td>...</td>\n      <td>...</td>\n      <td>...</td>\n      <td>...</td>\n      <td>...</td>\n      <td>...</td>\n    </tr>\n    <tr>\n      <th>9043</th>\n      <td>502.1338</td>\n      <td>147698</td>\n      <td>-94.49778</td>\n      <td>257.4222</td>\n      <td>55.64758</td>\n      <td>36.686230</td>\n      <td>-78.04737</td>\n      <td>-178.26260</td>\n      <td>1.323389</td>\n      <td>1.258593</td>\n      <td>1.065970</td>\n      <td>-127.3144</td>\n      <td>194.4717</td>\n      <td>59.52803</td>\n      <td>-299.5664</td>\n      <td>15.22464</td>\n      <td>16.52840</td>\n      <td>0.0</td>\n      <td>0.0</td>\n      <td>0.0</td>\n    </tr>\n    <tr>\n      <th>9045</th>\n      <td>502.1499</td>\n      <td>147700</td>\n      <td>-94.05425</td>\n      <td>255.8155</td>\n      <td>52.81230</td>\n      <td>30.153270</td>\n      <td>-144.97720</td>\n      <td>-155.62700</td>\n      <td>1.285448</td>\n      <td>1.277849</td>\n      <td>1.007618</td>\n      <td>-126.9333</td>\n      <td>193.0801</td>\n      <td>58.90355</td>\n      <td>-298.9101</td>\n      <td>12.87815</td>\n      <td>18.89758</td>\n      <td>0.0</td>\n      <td>0.0</td>\n      <td>0.0</td>\n    </tr>\n    <tr>\n      <th>9047</th>\n      <td>502.1665</td>\n      <td>147702</td>\n      <td>-93.68062</td>\n      <td>253.3679</td>\n      <td>50.37835</td>\n      <td>32.269880</td>\n      <td>-161.19530</td>\n      <td>-137.36660</td>\n      <td>1.246310</td>\n      <td>1.297078</td>\n      <td>0.956325</td>\n      <td>-126.9241</td>\n      <td>191.1363</td>\n      <td>58.91284</td>\n      <td>-302.6545</td>\n      <td>12.99574</td>\n      <td>26.75648</td>\n      <td>0.0</td>\n      <td>0.0</td>\n      <td>0.0</td>\n    </tr>\n    <tr>\n      <th>9049</th>\n      <td>502.1830</td>\n      <td>147704</td>\n      <td>-93.12487</td>\n      <td>250.4072</td>\n      <td>48.05837</td>\n      <td>32.141470</td>\n      <td>-157.05030</td>\n      <td>-124.67950</td>\n      <td>1.208146</td>\n      <td>1.327065</td>\n      <td>0.901075</td>\n      <td>-126.4018</td>\n      <td>188.6597</td>\n      <td>59.13661</td>\n      <td>-308.9988</td>\n      <td>15.97083</td>\n      <td>37.08796</td>\n      <td>0.0</td>\n      <td>0.0</td>\n      <td>0.0</td>\n    </tr>\n    <tr>\n      <th>9051</th>\n      <td>502.1996</td>\n      <td>147706</td>\n      <td>-92.35281</td>\n      <td>246.6158</td>\n      <td>45.84472</td>\n      <td>56.623870</td>\n      <td>-228.45100</td>\n      <td>-134.96170</td>\n      <td>1.180058</td>\n      <td>1.358709</td>\n      <td>0.855786</td>\n      <td>-125.3931</td>\n      <td>185.2068</td>\n      <td>58.86960</td>\n      <td>-314.7061</td>\n      <td>19.05455</td>\n      <td>44.61267</td>\n      <td>0.0</td>\n      <td>0.0</td>\n      <td>0.0</td>\n    </tr>\n  </tbody>\n</table>\n<p>4526 rows × 20 columns</p>\n</div>"
     },
     "execution_count": 176,
     "metadata": {},
     "output_type": "execute_result"
    }
   ],
   "source": [
    "left"
   ],
   "metadata": {
    "collapsed": false,
    "pycharm": {
     "name": "#%%\n"
    }
   }
  },
  {
   "cell_type": "code",
   "execution_count": 177,
   "outputs": [
    {
     "data": {
      "text/plain": "          time  frame_id  position_x_right  position_y_right  \\\n0     427.2310    139071          69.65445          209.9525   \n2     427.2483    139073          68.97833          215.1191   \n4     427.2641    139075          68.11068          220.9579   \n6     427.2807    139077          68.26217          226.7594   \n8     427.2973    139078          68.29678          230.0778   \n...        ...       ...               ...               ...   \n9042  502.1338    147698         111.39700          182.9246   \n9044  502.1499    147700         110.08700          180.8389   \n9046  502.1665    147702         109.17140          179.3461   \n9048  502.1830    147704         108.90170          178.8129   \n9050  502.1996    147706         108.96690          179.1278   \n\n      position_z_right  velocity_x_right  velocity_y_right  velocity_z_right  \\\n0            -18.54797        -65.047080        338.263100        -102.57630   \n2            -20.12599        -44.440450        302.917000         -83.93305   \n4            -21.77186        -22.080520        307.057400         -67.08289   \n6            -22.93307          7.860982        335.314400         -61.81393   \n8            -23.70698          3.900916        374.071900         -87.24055   \n...                ...               ...               ...               ...   \n9042          34.27466        -42.475920       -117.845800         -61.32522   \n9044          32.92039        -71.148420       -111.439600         -69.28531   \n9046          31.84416        -46.123690        -69.914710         -57.69822   \n9048          31.02029        -15.531000         -5.445981         -50.80544   \n9050          30.35721          5.587708         20.259880         -34.82480   \n\n      pitch_right  roll_right  yaw_right  wrist_pos_x_right  \\\n0        0.865190   -1.009409  -0.763543           112.1363   \n2        0.863391   -1.005569  -0.766907           111.5590   \n4        0.875840   -1.017380  -0.767062           110.1764   \n6        0.883429   -1.023885  -0.767406           110.0817   \n8        0.890813   -1.033500  -0.761958           109.6549   \n...           ...         ...        ...                ...   \n9042     0.395246   -1.971680  -0.640369           154.4715   \n9044     0.365014   -1.987410  -0.661939           154.3424   \n9046     0.355285   -1.995915  -0.671905           153.8897   \n9048     0.355584   -2.007045  -0.671661           153.5864   \n9050     0.356135   -2.005629  -0.669985           153.5919   \n\n      wrist_pos_y_right  wrist_pos_z_right  elbow_pos_x_right  \\\n0              162.7645          10.928120           275.1779   \n2              167.9522           9.239409           272.0606   \n4              173.1205           7.244619           267.7276   \n6              178.5817           5.874156           267.2276   \n8              181.4484           5.007799           266.7950   \n...                 ...                ...                ...   \n9042           151.6662          81.147250           367.3650   \n9044           151.2262          79.876530           364.2306   \n9046           150.4046          78.829510           362.5193   \n9048           150.0203          78.108750           363.4342   \n9050           150.3768          77.516830           364.0365   \n\n      elbow_pos_y_right  elbow_pos_z_right  grab_strenth_right  \\\n0             -7.356547           87.30630                 0.0   \n2             -5.603438           83.23297                 0.0   \n4             -2.693964           82.23973                 0.0   \n6              2.777664           81.73924                 0.0   \n8              5.949927           81.58895                 0.0   \n...                 ...                ...                 ...   \n9042          47.177640          167.21540                 0.0   \n9044          45.544070          171.67780                 0.0   \n9046          46.762530          175.68630                 0.0   \n9048          50.553340          176.69620                 0.0   \n9050          52.970890          176.88680                 0.0   \n\n      grab_angle_right  pinch_strength_right  \n0             0.059833                   0.0  \n2             0.090605                   0.0  \n4             0.069295                   0.0  \n6             0.058568                   0.0  \n8             0.059980                   0.0  \n...                ...                   ...  \n9042          0.176508                   0.0  \n9044          0.147999                   0.0  \n9046          0.137555                   0.0  \n9048          0.144381                   0.0  \n9050          0.148039                   0.0  \n\n[4526 rows x 20 columns]",
      "text/html": "<div>\n<style scoped>\n    .dataframe tbody tr th:only-of-type {\n        vertical-align: middle;\n    }\n\n    .dataframe tbody tr th {\n        vertical-align: top;\n    }\n\n    .dataframe thead th {\n        text-align: right;\n    }\n</style>\n<table border=\"1\" class=\"dataframe\">\n  <thead>\n    <tr style=\"text-align: right;\">\n      <th></th>\n      <th>time</th>\n      <th>frame_id</th>\n      <th>position_x_right</th>\n      <th>position_y_right</th>\n      <th>position_z_right</th>\n      <th>velocity_x_right</th>\n      <th>velocity_y_right</th>\n      <th>velocity_z_right</th>\n      <th>pitch_right</th>\n      <th>roll_right</th>\n      <th>yaw_right</th>\n      <th>wrist_pos_x_right</th>\n      <th>wrist_pos_y_right</th>\n      <th>wrist_pos_z_right</th>\n      <th>elbow_pos_x_right</th>\n      <th>elbow_pos_y_right</th>\n      <th>elbow_pos_z_right</th>\n      <th>grab_strenth_right</th>\n      <th>grab_angle_right</th>\n      <th>pinch_strength_right</th>\n    </tr>\n  </thead>\n  <tbody>\n    <tr>\n      <th>0</th>\n      <td>427.2310</td>\n      <td>139071</td>\n      <td>69.65445</td>\n      <td>209.9525</td>\n      <td>-18.54797</td>\n      <td>-65.047080</td>\n      <td>338.263100</td>\n      <td>-102.57630</td>\n      <td>0.865190</td>\n      <td>-1.009409</td>\n      <td>-0.763543</td>\n      <td>112.1363</td>\n      <td>162.7645</td>\n      <td>10.928120</td>\n      <td>275.1779</td>\n      <td>-7.356547</td>\n      <td>87.30630</td>\n      <td>0.0</td>\n      <td>0.059833</td>\n      <td>0.0</td>\n    </tr>\n    <tr>\n      <th>2</th>\n      <td>427.2483</td>\n      <td>139073</td>\n      <td>68.97833</td>\n      <td>215.1191</td>\n      <td>-20.12599</td>\n      <td>-44.440450</td>\n      <td>302.917000</td>\n      <td>-83.93305</td>\n      <td>0.863391</td>\n      <td>-1.005569</td>\n      <td>-0.766907</td>\n      <td>111.5590</td>\n      <td>167.9522</td>\n      <td>9.239409</td>\n      <td>272.0606</td>\n      <td>-5.603438</td>\n      <td>83.23297</td>\n      <td>0.0</td>\n      <td>0.090605</td>\n      <td>0.0</td>\n    </tr>\n    <tr>\n      <th>4</th>\n      <td>427.2641</td>\n      <td>139075</td>\n      <td>68.11068</td>\n      <td>220.9579</td>\n      <td>-21.77186</td>\n      <td>-22.080520</td>\n      <td>307.057400</td>\n      <td>-67.08289</td>\n      <td>0.875840</td>\n      <td>-1.017380</td>\n      <td>-0.767062</td>\n      <td>110.1764</td>\n      <td>173.1205</td>\n      <td>7.244619</td>\n      <td>267.7276</td>\n      <td>-2.693964</td>\n      <td>82.23973</td>\n      <td>0.0</td>\n      <td>0.069295</td>\n      <td>0.0</td>\n    </tr>\n    <tr>\n      <th>6</th>\n      <td>427.2807</td>\n      <td>139077</td>\n      <td>68.26217</td>\n      <td>226.7594</td>\n      <td>-22.93307</td>\n      <td>7.860982</td>\n      <td>335.314400</td>\n      <td>-61.81393</td>\n      <td>0.883429</td>\n      <td>-1.023885</td>\n      <td>-0.767406</td>\n      <td>110.0817</td>\n      <td>178.5817</td>\n      <td>5.874156</td>\n      <td>267.2276</td>\n      <td>2.777664</td>\n      <td>81.73924</td>\n      <td>0.0</td>\n      <td>0.058568</td>\n      <td>0.0</td>\n    </tr>\n    <tr>\n      <th>8</th>\n      <td>427.2973</td>\n      <td>139078</td>\n      <td>68.29678</td>\n      <td>230.0778</td>\n      <td>-23.70698</td>\n      <td>3.900916</td>\n      <td>374.071900</td>\n      <td>-87.24055</td>\n      <td>0.890813</td>\n      <td>-1.033500</td>\n      <td>-0.761958</td>\n      <td>109.6549</td>\n      <td>181.4484</td>\n      <td>5.007799</td>\n      <td>266.7950</td>\n      <td>5.949927</td>\n      <td>81.58895</td>\n      <td>0.0</td>\n      <td>0.059980</td>\n      <td>0.0</td>\n    </tr>\n    <tr>\n      <th>...</th>\n      <td>...</td>\n      <td>...</td>\n      <td>...</td>\n      <td>...</td>\n      <td>...</td>\n      <td>...</td>\n      <td>...</td>\n      <td>...</td>\n      <td>...</td>\n      <td>...</td>\n      <td>...</td>\n      <td>...</td>\n      <td>...</td>\n      <td>...</td>\n      <td>...</td>\n      <td>...</td>\n      <td>...</td>\n      <td>...</td>\n      <td>...</td>\n      <td>...</td>\n    </tr>\n    <tr>\n      <th>9042</th>\n      <td>502.1338</td>\n      <td>147698</td>\n      <td>111.39700</td>\n      <td>182.9246</td>\n      <td>34.27466</td>\n      <td>-42.475920</td>\n      <td>-117.845800</td>\n      <td>-61.32522</td>\n      <td>0.395246</td>\n      <td>-1.971680</td>\n      <td>-0.640369</td>\n      <td>154.4715</td>\n      <td>151.6662</td>\n      <td>81.147250</td>\n      <td>367.3650</td>\n      <td>47.177640</td>\n      <td>167.21540</td>\n      <td>0.0</td>\n      <td>0.176508</td>\n      <td>0.0</td>\n    </tr>\n    <tr>\n      <th>9044</th>\n      <td>502.1499</td>\n      <td>147700</td>\n      <td>110.08700</td>\n      <td>180.8389</td>\n      <td>32.92039</td>\n      <td>-71.148420</td>\n      <td>-111.439600</td>\n      <td>-69.28531</td>\n      <td>0.365014</td>\n      <td>-1.987410</td>\n      <td>-0.661939</td>\n      <td>154.3424</td>\n      <td>151.2262</td>\n      <td>79.876530</td>\n      <td>364.2306</td>\n      <td>45.544070</td>\n      <td>171.67780</td>\n      <td>0.0</td>\n      <td>0.147999</td>\n      <td>0.0</td>\n    </tr>\n    <tr>\n      <th>9046</th>\n      <td>502.1665</td>\n      <td>147702</td>\n      <td>109.17140</td>\n      <td>179.3461</td>\n      <td>31.84416</td>\n      <td>-46.123690</td>\n      <td>-69.914710</td>\n      <td>-57.69822</td>\n      <td>0.355285</td>\n      <td>-1.995915</td>\n      <td>-0.671905</td>\n      <td>153.8897</td>\n      <td>150.4046</td>\n      <td>78.829510</td>\n      <td>362.5193</td>\n      <td>46.762530</td>\n      <td>175.68630</td>\n      <td>0.0</td>\n      <td>0.137555</td>\n      <td>0.0</td>\n    </tr>\n    <tr>\n      <th>9048</th>\n      <td>502.1830</td>\n      <td>147704</td>\n      <td>108.90170</td>\n      <td>178.8129</td>\n      <td>31.02029</td>\n      <td>-15.531000</td>\n      <td>-5.445981</td>\n      <td>-50.80544</td>\n      <td>0.355584</td>\n      <td>-2.007045</td>\n      <td>-0.671661</td>\n      <td>153.5864</td>\n      <td>150.0203</td>\n      <td>78.108750</td>\n      <td>363.4342</td>\n      <td>50.553340</td>\n      <td>176.69620</td>\n      <td>0.0</td>\n      <td>0.144381</td>\n      <td>0.0</td>\n    </tr>\n    <tr>\n      <th>9050</th>\n      <td>502.1996</td>\n      <td>147706</td>\n      <td>108.96690</td>\n      <td>179.1278</td>\n      <td>30.35721</td>\n      <td>5.587708</td>\n      <td>20.259880</td>\n      <td>-34.82480</td>\n      <td>0.356135</td>\n      <td>-2.005629</td>\n      <td>-0.669985</td>\n      <td>153.5919</td>\n      <td>150.3768</td>\n      <td>77.516830</td>\n      <td>364.0365</td>\n      <td>52.970890</td>\n      <td>176.88680</td>\n      <td>0.0</td>\n      <td>0.148039</td>\n      <td>0.0</td>\n    </tr>\n  </tbody>\n</table>\n<p>4526 rows × 20 columns</p>\n</div>"
     },
     "execution_count": 177,
     "metadata": {},
     "output_type": "execute_result"
    }
   ],
   "source": [
    "keep_same = {\"time\", \"frame_id\"}\n",
    "left.columns = left.columns.map(lambda x: x if x in keep_same else x+\"_left\")\n",
    "right.columns = right.columns.map(lambda x: x if x in keep_same else x+\"_right\")\n",
    "right"
   ],
   "metadata": {
    "collapsed": false,
    "pycharm": {
     "name": "#%%\n"
    }
   }
  },
  {
   "cell_type": "code",
   "execution_count": 182,
   "outputs": [
    {
     "data": {
      "text/plain": "          time  position_x_left  position_y_left  position_z_left  \\\n0     427.2310        -87.18215         204.5752        -40.50642   \n1     427.2483        -85.20093         209.7387        -41.18375   \n2     427.2641        -83.49533         214.9115        -42.59961   \n3     427.2807        -83.51068         221.4817        -44.18541   \n4     427.2973        -83.72626         224.9673        -44.57369   \n...        ...              ...              ...              ...   \n4521  502.1338        -94.49778         257.4222         55.64758   \n4522  502.1499        -94.05425         255.8155         52.81230   \n4523  502.1665        -93.68062         253.3679         50.37835   \n4524  502.1830        -93.12487         250.4072         48.05837   \n4525  502.1996        -92.35281         246.6158         45.84472   \n\n      velocity_x_left  velocity_y_left  velocity_z_left  pitch_left  \\\n0          171.174600        247.94530        -96.48488    1.239694   \n1           70.930410        344.87770        -46.40427    1.294470   \n2           85.710340        348.23460       -102.02660    1.331296   \n3            0.287095        388.70420        -86.57835    1.358686   \n4          -24.301780        392.91710        -43.76951    1.375643   \n...               ...              ...              ...         ...   \n4521        36.686230        -78.04737       -178.26260    1.323389   \n4522        30.153270       -144.97720       -155.62700    1.285448   \n4523        32.269880       -161.19530       -137.36660    1.246310   \n4524        32.141470       -157.05030       -124.67950    1.208146   \n4525        56.623870       -228.45100       -134.96170    1.180058   \n\n      roll_left  yaw_left  wrist_pos_x_left  wrist_pos_y_left  \\\n0      0.685550  1.220096         -137.3886          158.1433   \n1      0.710267  1.276068         -135.5462          162.8801   \n2      0.730335  1.312464         -133.7321          167.7086   \n3      0.747044  1.338415         -133.4904          173.9064   \n4      0.755893  1.355570         -133.5924          177.2040   \n...         ...       ...               ...               ...   \n4521   1.258593  1.065970         -127.3144          194.4717   \n4522   1.277849  1.007618         -126.9333          193.0801   \n4523   1.297078  0.956325         -126.9241          191.1363   \n4524   1.327065  0.901075         -126.4018          188.6597   \n4525   1.358709  0.855786         -125.3931          185.2068   \n\n      wrist_pos_z_left  elbow_pos_x_left  elbow_pos_y_left  elbow_pos_z_left  \\\n0            -27.82949         -261.8767         -47.87384          30.62584   \n1            -30.98293         -259.9806         -43.46907          26.40578   \n2            -33.75665         -257.4434         -37.24958          29.84401   \n3            -36.19991         -255.7929         -29.82336          33.75477   \n4            -37.22458         -254.6681         -26.72015          34.28068   \n...                ...               ...               ...               ...   \n4521          59.52803         -299.5664          15.22464          16.52840   \n4522          58.90355         -298.9101          12.87815          18.89758   \n4523          58.91284         -302.6545          12.99574          26.75648   \n4524          59.13661         -308.9988          15.97083          37.08796   \n4525          58.86960         -314.7061          19.05455          44.61267   \n\n      grab_strenth_left  grab_angle_left  pinch_strength_left  \\\n0                   0.0              0.0                  0.0   \n1                   0.0              0.0                  0.0   \n2                   0.0              0.0                  0.0   \n3                   0.0              0.0                  0.0   \n4                   0.0              0.0                  0.0   \n...                 ...              ...                  ...   \n4521                0.0              0.0                  0.0   \n4522                0.0              0.0                  0.0   \n4523                0.0              0.0                  0.0   \n4524                0.0              0.0                  0.0   \n4525                0.0              0.0                  0.0   \n\n      position_x_right  position_y_right  position_z_right  velocity_x_right  \\\n0             69.65445          209.9525         -18.54797        -65.047080   \n1             68.97833          215.1191         -20.12599        -44.440450   \n2             68.11068          220.9579         -21.77186        -22.080520   \n3             68.26217          226.7594         -22.93307          7.860982   \n4             68.29678          230.0778         -23.70698          3.900916   \n...                ...               ...               ...               ...   \n4521         111.39700          182.9246          34.27466        -42.475920   \n4522         110.08700          180.8389          32.92039        -71.148420   \n4523         109.17140          179.3461          31.84416        -46.123690   \n4524         108.90170          178.8129          31.02029        -15.531000   \n4525         108.96690          179.1278          30.35721          5.587708   \n\n      velocity_y_right  velocity_z_right  pitch_right  roll_right  yaw_right  \\\n0           338.263100        -102.57630     0.865190   -1.009409  -0.763543   \n1           302.917000         -83.93305     0.863391   -1.005569  -0.766907   \n2           307.057400         -67.08289     0.875840   -1.017380  -0.767062   \n3           335.314400         -61.81393     0.883429   -1.023885  -0.767406   \n4           374.071900         -87.24055     0.890813   -1.033500  -0.761958   \n...                ...               ...          ...         ...        ...   \n4521       -117.845800         -61.32522     0.395246   -1.971680  -0.640369   \n4522       -111.439600         -69.28531     0.365014   -1.987410  -0.661939   \n4523        -69.914710         -57.69822     0.355285   -1.995915  -0.671905   \n4524         -5.445981         -50.80544     0.355584   -2.007045  -0.671661   \n4525         20.259880         -34.82480     0.356135   -2.005629  -0.669985   \n\n      wrist_pos_x_right  wrist_pos_y_right  wrist_pos_z_right  \\\n0              112.1363           162.7645          10.928120   \n1              111.5590           167.9522           9.239409   \n2              110.1764           173.1205           7.244619   \n3              110.0817           178.5817           5.874156   \n4              109.6549           181.4484           5.007799   \n...                 ...                ...                ...   \n4521           154.4715           151.6662          81.147250   \n4522           154.3424           151.2262          79.876530   \n4523           153.8897           150.4046          78.829510   \n4524           153.5864           150.0203          78.108750   \n4525           153.5919           150.3768          77.516830   \n\n      elbow_pos_x_right  elbow_pos_y_right  elbow_pos_z_right  \\\n0              275.1779          -7.356547           87.30630   \n1              272.0606          -5.603438           83.23297   \n2              267.7276          -2.693964           82.23973   \n3              267.2276           2.777664           81.73924   \n4              266.7950           5.949927           81.58895   \n...                 ...                ...                ...   \n4521           367.3650          47.177640          167.21540   \n4522           364.2306          45.544070          171.67780   \n4523           362.5193          46.762530          175.68630   \n4524           363.4342          50.553340          176.69620   \n4525           364.0365          52.970890          176.88680   \n\n      grab_strenth_right  grab_angle_right  pinch_strength_right  \n0                    0.0          0.059833                   0.0  \n1                    0.0          0.090605                   0.0  \n2                    0.0          0.069295                   0.0  \n3                    0.0          0.058568                   0.0  \n4                    0.0          0.059980                   0.0  \n...                  ...               ...                   ...  \n4521                 0.0          0.176508                   0.0  \n4522                 0.0          0.147999                   0.0  \n4523                 0.0          0.137555                   0.0  \n4524                 0.0          0.144381                   0.0  \n4525                 0.0          0.148039                   0.0  \n\n[4526 rows x 37 columns]",
      "text/html": "<div>\n<style scoped>\n    .dataframe tbody tr th:only-of-type {\n        vertical-align: middle;\n    }\n\n    .dataframe tbody tr th {\n        vertical-align: top;\n    }\n\n    .dataframe thead th {\n        text-align: right;\n    }\n</style>\n<table border=\"1\" class=\"dataframe\">\n  <thead>\n    <tr style=\"text-align: right;\">\n      <th></th>\n      <th>time</th>\n      <th>position_x_left</th>\n      <th>position_y_left</th>\n      <th>position_z_left</th>\n      <th>velocity_x_left</th>\n      <th>velocity_y_left</th>\n      <th>velocity_z_left</th>\n      <th>pitch_left</th>\n      <th>roll_left</th>\n      <th>yaw_left</th>\n      <th>wrist_pos_x_left</th>\n      <th>wrist_pos_y_left</th>\n      <th>wrist_pos_z_left</th>\n      <th>elbow_pos_x_left</th>\n      <th>elbow_pos_y_left</th>\n      <th>elbow_pos_z_left</th>\n      <th>grab_strenth_left</th>\n      <th>grab_angle_left</th>\n      <th>pinch_strength_left</th>\n      <th>position_x_right</th>\n      <th>position_y_right</th>\n      <th>position_z_right</th>\n      <th>velocity_x_right</th>\n      <th>velocity_y_right</th>\n      <th>velocity_z_right</th>\n      <th>pitch_right</th>\n      <th>roll_right</th>\n      <th>yaw_right</th>\n      <th>wrist_pos_x_right</th>\n      <th>wrist_pos_y_right</th>\n      <th>wrist_pos_z_right</th>\n      <th>elbow_pos_x_right</th>\n      <th>elbow_pos_y_right</th>\n      <th>elbow_pos_z_right</th>\n      <th>grab_strenth_right</th>\n      <th>grab_angle_right</th>\n      <th>pinch_strength_right</th>\n    </tr>\n  </thead>\n  <tbody>\n    <tr>\n      <th>0</th>\n      <td>427.2310</td>\n      <td>-87.18215</td>\n      <td>204.5752</td>\n      <td>-40.50642</td>\n      <td>171.174600</td>\n      <td>247.94530</td>\n      <td>-96.48488</td>\n      <td>1.239694</td>\n      <td>0.685550</td>\n      <td>1.220096</td>\n      <td>-137.3886</td>\n      <td>158.1433</td>\n      <td>-27.82949</td>\n      <td>-261.8767</td>\n      <td>-47.87384</td>\n      <td>30.62584</td>\n      <td>0.0</td>\n      <td>0.0</td>\n      <td>0.0</td>\n      <td>69.65445</td>\n      <td>209.9525</td>\n      <td>-18.54797</td>\n      <td>-65.047080</td>\n      <td>338.263100</td>\n      <td>-102.57630</td>\n      <td>0.865190</td>\n      <td>-1.009409</td>\n      <td>-0.763543</td>\n      <td>112.1363</td>\n      <td>162.7645</td>\n      <td>10.928120</td>\n      <td>275.1779</td>\n      <td>-7.356547</td>\n      <td>87.30630</td>\n      <td>0.0</td>\n      <td>0.059833</td>\n      <td>0.0</td>\n    </tr>\n    <tr>\n      <th>1</th>\n      <td>427.2483</td>\n      <td>-85.20093</td>\n      <td>209.7387</td>\n      <td>-41.18375</td>\n      <td>70.930410</td>\n      <td>344.87770</td>\n      <td>-46.40427</td>\n      <td>1.294470</td>\n      <td>0.710267</td>\n      <td>1.276068</td>\n      <td>-135.5462</td>\n      <td>162.8801</td>\n      <td>-30.98293</td>\n      <td>-259.9806</td>\n      <td>-43.46907</td>\n      <td>26.40578</td>\n      <td>0.0</td>\n      <td>0.0</td>\n      <td>0.0</td>\n      <td>68.97833</td>\n      <td>215.1191</td>\n      <td>-20.12599</td>\n      <td>-44.440450</td>\n      <td>302.917000</td>\n      <td>-83.93305</td>\n      <td>0.863391</td>\n      <td>-1.005569</td>\n      <td>-0.766907</td>\n      <td>111.5590</td>\n      <td>167.9522</td>\n      <td>9.239409</td>\n      <td>272.0606</td>\n      <td>-5.603438</td>\n      <td>83.23297</td>\n      <td>0.0</td>\n      <td>0.090605</td>\n      <td>0.0</td>\n    </tr>\n    <tr>\n      <th>2</th>\n      <td>427.2641</td>\n      <td>-83.49533</td>\n      <td>214.9115</td>\n      <td>-42.59961</td>\n      <td>85.710340</td>\n      <td>348.23460</td>\n      <td>-102.02660</td>\n      <td>1.331296</td>\n      <td>0.730335</td>\n      <td>1.312464</td>\n      <td>-133.7321</td>\n      <td>167.7086</td>\n      <td>-33.75665</td>\n      <td>-257.4434</td>\n      <td>-37.24958</td>\n      <td>29.84401</td>\n      <td>0.0</td>\n      <td>0.0</td>\n      <td>0.0</td>\n      <td>68.11068</td>\n      <td>220.9579</td>\n      <td>-21.77186</td>\n      <td>-22.080520</td>\n      <td>307.057400</td>\n      <td>-67.08289</td>\n      <td>0.875840</td>\n      <td>-1.017380</td>\n      <td>-0.767062</td>\n      <td>110.1764</td>\n      <td>173.1205</td>\n      <td>7.244619</td>\n      <td>267.7276</td>\n      <td>-2.693964</td>\n      <td>82.23973</td>\n      <td>0.0</td>\n      <td>0.069295</td>\n      <td>0.0</td>\n    </tr>\n    <tr>\n      <th>3</th>\n      <td>427.2807</td>\n      <td>-83.51068</td>\n      <td>221.4817</td>\n      <td>-44.18541</td>\n      <td>0.287095</td>\n      <td>388.70420</td>\n      <td>-86.57835</td>\n      <td>1.358686</td>\n      <td>0.747044</td>\n      <td>1.338415</td>\n      <td>-133.4904</td>\n      <td>173.9064</td>\n      <td>-36.19991</td>\n      <td>-255.7929</td>\n      <td>-29.82336</td>\n      <td>33.75477</td>\n      <td>0.0</td>\n      <td>0.0</td>\n      <td>0.0</td>\n      <td>68.26217</td>\n      <td>226.7594</td>\n      <td>-22.93307</td>\n      <td>7.860982</td>\n      <td>335.314400</td>\n      <td>-61.81393</td>\n      <td>0.883429</td>\n      <td>-1.023885</td>\n      <td>-0.767406</td>\n      <td>110.0817</td>\n      <td>178.5817</td>\n      <td>5.874156</td>\n      <td>267.2276</td>\n      <td>2.777664</td>\n      <td>81.73924</td>\n      <td>0.0</td>\n      <td>0.058568</td>\n      <td>0.0</td>\n    </tr>\n    <tr>\n      <th>4</th>\n      <td>427.2973</td>\n      <td>-83.72626</td>\n      <td>224.9673</td>\n      <td>-44.57369</td>\n      <td>-24.301780</td>\n      <td>392.91710</td>\n      <td>-43.76951</td>\n      <td>1.375643</td>\n      <td>0.755893</td>\n      <td>1.355570</td>\n      <td>-133.5924</td>\n      <td>177.2040</td>\n      <td>-37.22458</td>\n      <td>-254.6681</td>\n      <td>-26.72015</td>\n      <td>34.28068</td>\n      <td>0.0</td>\n      <td>0.0</td>\n      <td>0.0</td>\n      <td>68.29678</td>\n      <td>230.0778</td>\n      <td>-23.70698</td>\n      <td>3.900916</td>\n      <td>374.071900</td>\n      <td>-87.24055</td>\n      <td>0.890813</td>\n      <td>-1.033500</td>\n      <td>-0.761958</td>\n      <td>109.6549</td>\n      <td>181.4484</td>\n      <td>5.007799</td>\n      <td>266.7950</td>\n      <td>5.949927</td>\n      <td>81.58895</td>\n      <td>0.0</td>\n      <td>0.059980</td>\n      <td>0.0</td>\n    </tr>\n    <tr>\n      <th>...</th>\n      <td>...</td>\n      <td>...</td>\n      <td>...</td>\n      <td>...</td>\n      <td>...</td>\n      <td>...</td>\n      <td>...</td>\n      <td>...</td>\n      <td>...</td>\n      <td>...</td>\n      <td>...</td>\n      <td>...</td>\n      <td>...</td>\n      <td>...</td>\n      <td>...</td>\n      <td>...</td>\n      <td>...</td>\n      <td>...</td>\n      <td>...</td>\n      <td>...</td>\n      <td>...</td>\n      <td>...</td>\n      <td>...</td>\n      <td>...</td>\n      <td>...</td>\n      <td>...</td>\n      <td>...</td>\n      <td>...</td>\n      <td>...</td>\n      <td>...</td>\n      <td>...</td>\n      <td>...</td>\n      <td>...</td>\n      <td>...</td>\n      <td>...</td>\n      <td>...</td>\n      <td>...</td>\n    </tr>\n    <tr>\n      <th>4521</th>\n      <td>502.1338</td>\n      <td>-94.49778</td>\n      <td>257.4222</td>\n      <td>55.64758</td>\n      <td>36.686230</td>\n      <td>-78.04737</td>\n      <td>-178.26260</td>\n      <td>1.323389</td>\n      <td>1.258593</td>\n      <td>1.065970</td>\n      <td>-127.3144</td>\n      <td>194.4717</td>\n      <td>59.52803</td>\n      <td>-299.5664</td>\n      <td>15.22464</td>\n      <td>16.52840</td>\n      <td>0.0</td>\n      <td>0.0</td>\n      <td>0.0</td>\n      <td>111.39700</td>\n      <td>182.9246</td>\n      <td>34.27466</td>\n      <td>-42.475920</td>\n      <td>-117.845800</td>\n      <td>-61.32522</td>\n      <td>0.395246</td>\n      <td>-1.971680</td>\n      <td>-0.640369</td>\n      <td>154.4715</td>\n      <td>151.6662</td>\n      <td>81.147250</td>\n      <td>367.3650</td>\n      <td>47.177640</td>\n      <td>167.21540</td>\n      <td>0.0</td>\n      <td>0.176508</td>\n      <td>0.0</td>\n    </tr>\n    <tr>\n      <th>4522</th>\n      <td>502.1499</td>\n      <td>-94.05425</td>\n      <td>255.8155</td>\n      <td>52.81230</td>\n      <td>30.153270</td>\n      <td>-144.97720</td>\n      <td>-155.62700</td>\n      <td>1.285448</td>\n      <td>1.277849</td>\n      <td>1.007618</td>\n      <td>-126.9333</td>\n      <td>193.0801</td>\n      <td>58.90355</td>\n      <td>-298.9101</td>\n      <td>12.87815</td>\n      <td>18.89758</td>\n      <td>0.0</td>\n      <td>0.0</td>\n      <td>0.0</td>\n      <td>110.08700</td>\n      <td>180.8389</td>\n      <td>32.92039</td>\n      <td>-71.148420</td>\n      <td>-111.439600</td>\n      <td>-69.28531</td>\n      <td>0.365014</td>\n      <td>-1.987410</td>\n      <td>-0.661939</td>\n      <td>154.3424</td>\n      <td>151.2262</td>\n      <td>79.876530</td>\n      <td>364.2306</td>\n      <td>45.544070</td>\n      <td>171.67780</td>\n      <td>0.0</td>\n      <td>0.147999</td>\n      <td>0.0</td>\n    </tr>\n    <tr>\n      <th>4523</th>\n      <td>502.1665</td>\n      <td>-93.68062</td>\n      <td>253.3679</td>\n      <td>50.37835</td>\n      <td>32.269880</td>\n      <td>-161.19530</td>\n      <td>-137.36660</td>\n      <td>1.246310</td>\n      <td>1.297078</td>\n      <td>0.956325</td>\n      <td>-126.9241</td>\n      <td>191.1363</td>\n      <td>58.91284</td>\n      <td>-302.6545</td>\n      <td>12.99574</td>\n      <td>26.75648</td>\n      <td>0.0</td>\n      <td>0.0</td>\n      <td>0.0</td>\n      <td>109.17140</td>\n      <td>179.3461</td>\n      <td>31.84416</td>\n      <td>-46.123690</td>\n      <td>-69.914710</td>\n      <td>-57.69822</td>\n      <td>0.355285</td>\n      <td>-1.995915</td>\n      <td>-0.671905</td>\n      <td>153.8897</td>\n      <td>150.4046</td>\n      <td>78.829510</td>\n      <td>362.5193</td>\n      <td>46.762530</td>\n      <td>175.68630</td>\n      <td>0.0</td>\n      <td>0.137555</td>\n      <td>0.0</td>\n    </tr>\n    <tr>\n      <th>4524</th>\n      <td>502.1830</td>\n      <td>-93.12487</td>\n      <td>250.4072</td>\n      <td>48.05837</td>\n      <td>32.141470</td>\n      <td>-157.05030</td>\n      <td>-124.67950</td>\n      <td>1.208146</td>\n      <td>1.327065</td>\n      <td>0.901075</td>\n      <td>-126.4018</td>\n      <td>188.6597</td>\n      <td>59.13661</td>\n      <td>-308.9988</td>\n      <td>15.97083</td>\n      <td>37.08796</td>\n      <td>0.0</td>\n      <td>0.0</td>\n      <td>0.0</td>\n      <td>108.90170</td>\n      <td>178.8129</td>\n      <td>31.02029</td>\n      <td>-15.531000</td>\n      <td>-5.445981</td>\n      <td>-50.80544</td>\n      <td>0.355584</td>\n      <td>-2.007045</td>\n      <td>-0.671661</td>\n      <td>153.5864</td>\n      <td>150.0203</td>\n      <td>78.108750</td>\n      <td>363.4342</td>\n      <td>50.553340</td>\n      <td>176.69620</td>\n      <td>0.0</td>\n      <td>0.144381</td>\n      <td>0.0</td>\n    </tr>\n    <tr>\n      <th>4525</th>\n      <td>502.1996</td>\n      <td>-92.35281</td>\n      <td>246.6158</td>\n      <td>45.84472</td>\n      <td>56.623870</td>\n      <td>-228.45100</td>\n      <td>-134.96170</td>\n      <td>1.180058</td>\n      <td>1.358709</td>\n      <td>0.855786</td>\n      <td>-125.3931</td>\n      <td>185.2068</td>\n      <td>58.86960</td>\n      <td>-314.7061</td>\n      <td>19.05455</td>\n      <td>44.61267</td>\n      <td>0.0</td>\n      <td>0.0</td>\n      <td>0.0</td>\n      <td>108.96690</td>\n      <td>179.1278</td>\n      <td>30.35721</td>\n      <td>5.587708</td>\n      <td>20.259880</td>\n      <td>-34.82480</td>\n      <td>0.356135</td>\n      <td>-2.005629</td>\n      <td>-0.669985</td>\n      <td>153.5919</td>\n      <td>150.3768</td>\n      <td>77.516830</td>\n      <td>364.0365</td>\n      <td>52.970890</td>\n      <td>176.88680</td>\n      <td>0.0</td>\n      <td>0.148039</td>\n      <td>0.0</td>\n    </tr>\n  </tbody>\n</table>\n<p>4526 rows × 37 columns</p>\n</div>"
     },
     "execution_count": 182,
     "metadata": {},
     "output_type": "execute_result"
    }
   ],
   "source": [
    "merged = left.merge(right, how=\"outer\", on=[\"time\", \"frame_id\"]).drop(\"frame_id\", axis=1)\n",
    "merged"
   ],
   "metadata": {
    "collapsed": false,
    "pycharm": {
     "name": "#%%\n"
    }
   }
  },
  {
   "cell_type": "code",
   "execution_count": 181,
   "outputs": [
    {
     "ename": "AttributeError",
     "evalue": "'DataFrame' object has no attribute 'time'",
     "output_type": "error",
     "traceback": [
      "\u001B[1;31m---------------------------------------------------------------------------\u001B[0m",
      "\u001B[1;31mAttributeError\u001B[0m                            Traceback (most recent call last)",
      "\u001B[1;32m~\\AppData\\Local\\Temp/ipykernel_2308/4285024702.py\u001B[0m in \u001B[0;36m<module>\u001B[1;34m\u001B[0m\n\u001B[1;32m----> 1\u001B[1;33m \u001B[0mmerged\u001B[0m\u001B[1;33m.\u001B[0m\u001B[0mtime\u001B[0m\u001B[1;33m\u001B[0m\u001B[1;33m\u001B[0m\u001B[0m\n\u001B[0m\u001B[0;32m      2\u001B[0m \u001B[1;33m\u001B[0m\u001B[0m\n",
      "\u001B[1;32m~\\Anaconda3\\envs\\1SB-Final-Project\\lib\\site-packages\\pandas\\core\\generic.py\u001B[0m in \u001B[0;36m__getattr__\u001B[1;34m(self, name)\u001B[0m\n\u001B[0;32m   5476\u001B[0m         ):\n\u001B[0;32m   5477\u001B[0m             \u001B[1;32mreturn\u001B[0m \u001B[0mself\u001B[0m\u001B[1;33m[\u001B[0m\u001B[0mname\u001B[0m\u001B[1;33m]\u001B[0m\u001B[1;33m\u001B[0m\u001B[1;33m\u001B[0m\u001B[0m\n\u001B[1;32m-> 5478\u001B[1;33m         \u001B[1;32mreturn\u001B[0m \u001B[0mobject\u001B[0m\u001B[1;33m.\u001B[0m\u001B[0m__getattribute__\u001B[0m\u001B[1;33m(\u001B[0m\u001B[0mself\u001B[0m\u001B[1;33m,\u001B[0m \u001B[0mname\u001B[0m\u001B[1;33m)\u001B[0m\u001B[1;33m\u001B[0m\u001B[1;33m\u001B[0m\u001B[0m\n\u001B[0m\u001B[0;32m   5479\u001B[0m \u001B[1;33m\u001B[0m\u001B[0m\n\u001B[0;32m   5480\u001B[0m     \u001B[1;32mdef\u001B[0m \u001B[0m__setattr__\u001B[0m\u001B[1;33m(\u001B[0m\u001B[0mself\u001B[0m\u001B[1;33m,\u001B[0m \u001B[0mname\u001B[0m\u001B[1;33m:\u001B[0m \u001B[0mstr\u001B[0m\u001B[1;33m,\u001B[0m \u001B[0mvalue\u001B[0m\u001B[1;33m)\u001B[0m \u001B[1;33m->\u001B[0m \u001B[1;32mNone\u001B[0m\u001B[1;33m:\u001B[0m\u001B[1;33m\u001B[0m\u001B[1;33m\u001B[0m\u001B[0m\n",
      "\u001B[1;31mAttributeError\u001B[0m: 'DataFrame' object has no attribute 'time'"
     ]
    }
   ],
   "source": [],
   "metadata": {
    "collapsed": false,
    "pycharm": {
     "name": "#%%\n"
    }
   }
  },
  {
   "cell_type": "markdown",
   "source": [
    "### Notes:\n",
    "\n",
    "01:37:00\n",
    "\n",
    "- Organize the data in a pandas dataframe\n",
    "- Goal: using the hand ... , detect if is alone, sync or spontaneous.\n",
    "- \"spontaneous synchronizing\"\n",
    "- interpersonal space\n",
    "- training has 9 participants\n",
    "- validation has different participants\n",
    "- spontan and sync: if # hands is 1, remove data!\n",
    "- time series\n",
    "- every 2 lines is one feature (need to be combined) = 1 frame\n",
    "- choose how many frames\n",
    "- position y is similar\n",
    "- 2 recordings, second is usually better\n",
    "- can't split train and test as usual (correlation between each following movement). can't shuffle!\n",
    "for instance, can take first 40 seconds for training and last 5 for testing.\n",
    "- at least 2 seconds in between train and test\n",
    "- model for 1 person, try model on second person. train the second person and test the third etc.\n",
    "- 4 frames per second\n",
    "-\n"
   ],
   "metadata": {
    "collapsed": false
   }
  }
 ],
 "metadata": {
  "kernelspec": {
   "name": "pycharm-bcecade4",
   "language": "python",
   "display_name": "PyCharm (1SB-Final-Project)"
  },
  "language_info": {
   "codemirror_mode": {
    "name": "ipython",
    "version": 2
   },
   "file_extension": ".py",
   "mimetype": "text/x-python",
   "name": "python",
   "nbconvert_exporter": "python",
   "pygments_lexer": "ipython2",
   "version": "2.7.6"
  }
 },
 "nbformat": 4,
 "nbformat_minor": 0
}