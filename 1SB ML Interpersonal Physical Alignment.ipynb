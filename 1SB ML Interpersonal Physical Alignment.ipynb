{
 "cells": [
  {
   "cell_type": "code",
   "execution_count": 138,
   "metadata": {
    "collapsed": true
   },
   "outputs": [],
   "source": [
    "# common imports\n",
    "import numpy as np\n",
    "import pandas as pd\n",
    "import joblib, glob\n",
    "import seaborn as sns\n",
    "import matplotlib.pyplot as plt\n",
    "%matplotlib inline\n",
    "\n",
    "# machine learning imports\n",
    "\n",
    "\n",
    "# display setup\n",
    "pd.set_option(\"display.max_columns\", None)  # the None parameter displays unlimited columns\n",
    "plt.style.use('seaborn')  # for plots"
   ]
  },
  {
   "cell_type": "markdown",
   "source": [
    "# 1. Getting the Data"
   ],
   "metadata": {
    "collapsed": false,
    "pycharm": {
     "name": "#%% md\n"
    }
   }
  },
  {
   "cell_type": "markdown",
   "source": [
    "> Each participant has 3 csv files, one for each alignment state.\n",
    ">\n",
    "> Taking a look at one file for each state should help gain insight to which dataframe manipulations are necessary\n",
    "> before inserting it into a machine learning algorithm."
   ],
   "metadata": {
    "collapsed": false,
    "pycharm": {
     "name": "#%% md\n"
    }
   }
  },
  {
   "cell_type": "code",
   "execution_count": 304,
   "outputs": [],
   "source": [
    "# read right hand file\n",
    "handright = pd.read_csv(r\"extraFiles/HandRight.csv\")"
   ],
   "metadata": {
    "collapsed": false,
    "pycharm": {
     "name": "#%%\n"
    }
   }
  },
  {
   "cell_type": "code",
   "execution_count": 305,
   "outputs": [
    {
     "data": {
      "text/plain": "       Time   Frame ID  Hand Type   # hands   Position X   Position Y  \\\n0  128.2883      15478      right         1     15.67167     226.2064   \n1  128.3048      15480      right         1     16.24119     222.9389   \n2  128.3218      15482      right         1     16.72461     220.9709   \n3  128.3384      15484      right         1     17.09016     219.7124   \n4  128.3551      15486      right         1     17.46017     219.3652   \n\n    Position Z   Velocity X   Velocity Y   Velocity Z     Pitch      Roll  \\\n0     20.26470     34.26665  -195.214700   -35.043020  0.270987 -0.017635   \n1     20.11781     36.16443  -180.093900    -4.052799  0.245085 -0.014770   \n2     19.94972     26.35298   -95.088190   -11.157620  0.230796 -0.008779   \n3     19.67679     19.46804   -61.755180   -21.303780  0.217681 -0.010759   \n4     19.13128     21.94964    -8.355943   -35.081790  0.220696 -0.017380   \n\n        Yaw   Wrist Pos X   Wrist Pos Y   Wrist Pos Z   Elbow pos X  \\\n0 -0.277800      46.88831      207.3548      86.23589      203.8337   \n1 -0.277763      47.54861      205.6568      86.42250      203.9553   \n2 -0.278792      48.15030      204.5182      86.35149      204.6231   \n3 -0.279768      48.64175      203.9989      86.16056      204.9939   \n4 -0.278629      48.93135      203.3777      85.59017      204.5952   \n\n    Elbow Pos Y   Elbow Pos Z   Grab Strenth   Grab Angle   Pinch Strength  \n0      49.33507      237.4553            0.0     0.206389              0.0  \n1      47.88272      238.4482            0.0     0.243050              0.0  \n2      45.35921      236.8544            0.0     0.281134              0.0  \n3      44.18692      236.0927            0.0     0.277691              0.0  \n4      42.68003      235.2896            0.0     0.283008              0.0  ",
      "text/html": "<div>\n<style scoped>\n    .dataframe tbody tr th:only-of-type {\n        vertical-align: middle;\n    }\n\n    .dataframe tbody tr th {\n        vertical-align: top;\n    }\n\n    .dataframe thead th {\n        text-align: right;\n    }\n</style>\n<table border=\"1\" class=\"dataframe\">\n  <thead>\n    <tr style=\"text-align: right;\">\n      <th></th>\n      <th>Time</th>\n      <th>Frame ID</th>\n      <th>Hand Type</th>\n      <th># hands</th>\n      <th>Position X</th>\n      <th>Position Y</th>\n      <th>Position Z</th>\n      <th>Velocity X</th>\n      <th>Velocity Y</th>\n      <th>Velocity Z</th>\n      <th>Pitch</th>\n      <th>Roll</th>\n      <th>Yaw</th>\n      <th>Wrist Pos X</th>\n      <th>Wrist Pos Y</th>\n      <th>Wrist Pos Z</th>\n      <th>Elbow pos X</th>\n      <th>Elbow Pos Y</th>\n      <th>Elbow Pos Z</th>\n      <th>Grab Strenth</th>\n      <th>Grab Angle</th>\n      <th>Pinch Strength</th>\n    </tr>\n  </thead>\n  <tbody>\n    <tr>\n      <th>0</th>\n      <td>128.2883</td>\n      <td>15478</td>\n      <td>right</td>\n      <td>1</td>\n      <td>15.67167</td>\n      <td>226.2064</td>\n      <td>20.26470</td>\n      <td>34.26665</td>\n      <td>-195.214700</td>\n      <td>-35.043020</td>\n      <td>0.270987</td>\n      <td>-0.017635</td>\n      <td>-0.277800</td>\n      <td>46.88831</td>\n      <td>207.3548</td>\n      <td>86.23589</td>\n      <td>203.8337</td>\n      <td>49.33507</td>\n      <td>237.4553</td>\n      <td>0.0</td>\n      <td>0.206389</td>\n      <td>0.0</td>\n    </tr>\n    <tr>\n      <th>1</th>\n      <td>128.3048</td>\n      <td>15480</td>\n      <td>right</td>\n      <td>1</td>\n      <td>16.24119</td>\n      <td>222.9389</td>\n      <td>20.11781</td>\n      <td>36.16443</td>\n      <td>-180.093900</td>\n      <td>-4.052799</td>\n      <td>0.245085</td>\n      <td>-0.014770</td>\n      <td>-0.277763</td>\n      <td>47.54861</td>\n      <td>205.6568</td>\n      <td>86.42250</td>\n      <td>203.9553</td>\n      <td>47.88272</td>\n      <td>238.4482</td>\n      <td>0.0</td>\n      <td>0.243050</td>\n      <td>0.0</td>\n    </tr>\n    <tr>\n      <th>2</th>\n      <td>128.3218</td>\n      <td>15482</td>\n      <td>right</td>\n      <td>1</td>\n      <td>16.72461</td>\n      <td>220.9709</td>\n      <td>19.94972</td>\n      <td>26.35298</td>\n      <td>-95.088190</td>\n      <td>-11.157620</td>\n      <td>0.230796</td>\n      <td>-0.008779</td>\n      <td>-0.278792</td>\n      <td>48.15030</td>\n      <td>204.5182</td>\n      <td>86.35149</td>\n      <td>204.6231</td>\n      <td>45.35921</td>\n      <td>236.8544</td>\n      <td>0.0</td>\n      <td>0.281134</td>\n      <td>0.0</td>\n    </tr>\n    <tr>\n      <th>3</th>\n      <td>128.3384</td>\n      <td>15484</td>\n      <td>right</td>\n      <td>1</td>\n      <td>17.09016</td>\n      <td>219.7124</td>\n      <td>19.67679</td>\n      <td>19.46804</td>\n      <td>-61.755180</td>\n      <td>-21.303780</td>\n      <td>0.217681</td>\n      <td>-0.010759</td>\n      <td>-0.279768</td>\n      <td>48.64175</td>\n      <td>203.9989</td>\n      <td>86.16056</td>\n      <td>204.9939</td>\n      <td>44.18692</td>\n      <td>236.0927</td>\n      <td>0.0</td>\n      <td>0.277691</td>\n      <td>0.0</td>\n    </tr>\n    <tr>\n      <th>4</th>\n      <td>128.3551</td>\n      <td>15486</td>\n      <td>right</td>\n      <td>1</td>\n      <td>17.46017</td>\n      <td>219.3652</td>\n      <td>19.13128</td>\n      <td>21.94964</td>\n      <td>-8.355943</td>\n      <td>-35.081790</td>\n      <td>0.220696</td>\n      <td>-0.017380</td>\n      <td>-0.278629</td>\n      <td>48.93135</td>\n      <td>203.3777</td>\n      <td>85.59017</td>\n      <td>204.5952</td>\n      <td>42.68003</td>\n      <td>235.2896</td>\n      <td>0.0</td>\n      <td>0.283008</td>\n      <td>0.0</td>\n    </tr>\n  </tbody>\n</table>\n</div>"
     },
     "execution_count": 305,
     "metadata": {},
     "output_type": "execute_result"
    }
   ],
   "source": [
    "handright.head()"
   ],
   "metadata": {
    "collapsed": false,
    "pycharm": {
     "name": "#%%\n"
    }
   }
  },
  {
   "cell_type": "code",
   "execution_count": 306,
   "outputs": [
    {
     "data": {
      "text/plain": "(4812, 22)"
     },
     "execution_count": 306,
     "metadata": {},
     "output_type": "execute_result"
    }
   ],
   "source": [
    "handright.shape"
   ],
   "metadata": {
    "collapsed": false,
    "pycharm": {
     "name": "#%%\n"
    }
   }
  },
  {
   "cell_type": "code",
   "execution_count": 307,
   "outputs": [
    {
     "name": "stdout",
     "output_type": "stream",
     "text": [
      "<class 'pandas.core.frame.DataFrame'>\n",
      "RangeIndex: 4812 entries, 0 to 4811\n",
      "Data columns (total 22 columns):\n",
      " #   Column           Non-Null Count  Dtype  \n",
      "---  ------           --------------  -----  \n",
      " 0   Time             4812 non-null   float64\n",
      " 1    Frame ID        4812 non-null   int64  \n",
      " 2    Hand Type       4812 non-null   object \n",
      " 3    # hands         4812 non-null   int64  \n",
      " 4    Position X      4812 non-null   float64\n",
      " 5    Position Y      4812 non-null   float64\n",
      " 6    Position Z      4812 non-null   float64\n",
      " 7    Velocity X      4812 non-null   float64\n",
      " 8    Velocity Y      4812 non-null   float64\n",
      " 9    Velocity Z      4812 non-null   float64\n",
      " 10   Pitch           4812 non-null   float64\n",
      " 11   Roll            4812 non-null   float64\n",
      " 12   Yaw             4812 non-null   float64\n",
      " 13   Wrist Pos X     4428 non-null   float64\n",
      " 14   Wrist Pos Y     4428 non-null   float64\n",
      " 15   Wrist Pos Z     4428 non-null   float64\n",
      " 16   Elbow pos X     4428 non-null   float64\n",
      " 17   Elbow Pos Y     4428 non-null   float64\n",
      " 18   Elbow Pos Z     4428 non-null   float64\n",
      " 19   Grab Strenth    4812 non-null   float64\n",
      " 20   Grab Angle      4812 non-null   float64\n",
      " 21   Pinch Strength  4812 non-null   float64\n",
      "dtypes: float64(19), int64(2), object(1)\n",
      "memory usage: 827.2+ KB\n"
     ]
    }
   ],
   "source": [
    "handright.info()"
   ],
   "metadata": {
    "collapsed": false,
    "pycharm": {
     "name": "#%%\n"
    }
   }
  },
  {
   "cell_type": "code",
   "execution_count": 308,
   "outputs": [
    {
     "data": {
      "text/plain": "Time                 0\n Frame ID            0\n Hand Type           0\n # hands             0\n Position X          0\n Position Y          0\n Position Z          0\n Velocity X          0\n Velocity Y          0\n Velocity Z          0\n Pitch               0\n Roll                0\n Yaw                 0\n Wrist Pos X       384\n Wrist Pos Y       384\n Wrist Pos Z       384\n Elbow pos X       384\n Elbow Pos Y       384\n Elbow Pos Z       384\n Grab Strenth        0\n Grab Angle          0\n Pinch Strength      0\ndtype: int64"
     },
     "execution_count": 308,
     "metadata": {},
     "output_type": "execute_result"
    }
   ],
   "source": [
    "handright.isna().sum()"
   ],
   "metadata": {
    "collapsed": false,
    "pycharm": {
     "name": "#%%\n"
    }
   }
  },
  {
   "cell_type": "code",
   "execution_count": 309,
   "outputs": [
    {
     "data": {
      "text/plain": "1    4732\n2      80\nName:  # hands, dtype: int64"
     },
     "execution_count": 309,
     "metadata": {},
     "output_type": "execute_result"
    }
   ],
   "source": [
    "handright[\" # hands\"].value_counts()"
   ],
   "metadata": {
    "collapsed": false,
    "pycharm": {
     "name": "#%%\n"
    }
   }
  },
  {
   "cell_type": "code",
   "execution_count": 310,
   "outputs": [
    {
     "data": {
      "text/plain": "right    4738\nleft       74\nName:  Hand Type, dtype: int64"
     },
     "execution_count": 310,
     "metadata": {},
     "output_type": "execute_result"
    }
   ],
   "source": [
    "handright[\" Hand Type\"].value_counts()"
   ],
   "metadata": {
    "collapsed": false,
    "pycharm": {
     "name": "#%%\n"
    }
   }
  },
  {
   "cell_type": "markdown",
   "source": [
    "> Features in the DataFrame:\n",
    "1. Time: Second and milliseconds of recorded movement\n",
    "2. Frame ID: Identification number of detected movement\n",
    "3. Hand Type: Right or left hand\n",
    "4. Number hands: Hands detected in the frame/movement\n",
    "5. Position X: Center position of the palm from the leap origin, millimeters\n",
    "6. Position Y:\n",
    "7. Position Z:\n",
    "8. Velocity X: Rate of change\n",
    "9. Velocity Y:\n",
    "10. Velocity Z:\n",
    "11. Pitch:\n",
    "12. Roll:\n",
    "13. Yaw:\n",
    "14. Wrist Pos X:\n",
    "15. Wrist Pos Y:\n",
    "16. Wrist Pos Z:\n",
    "17. Elbow pos X:\n",
    "18. Elbow pos Y:\n",
    "19. Elbow pos Z:\n",
    "20. Grab Strength:\n",
    "21. Grab Angle:\n",
    "22. Pinch Strength:"
   ],
   "metadata": {
    "collapsed": false,
    "pycharm": {
     "name": "#%% md\n"
    }
   }
  },
  {
   "cell_type": "markdown",
   "source": [
    "Clearly just by looking at a few files the data needs to be cleaned.\n",
    "\n",
    "* Alone has instances with 2 hands and right hand in hand type that need to be removed. Likewise, spontaneous\n",
    "and sync have instances with 1 hand and a mismatch between right and left hands."
   ],
   "metadata": {
    "collapsed": false,
    "pycharm": {
     "name": "#%% md\n"
    }
   }
  },
  {
   "cell_type": "code",
   "execution_count": 311,
   "outputs": [],
   "source": [
    "def remove_first7(df):\n",
    "    df.drop(df[df[\"Time\"] < df[\"Time\"].min() + 7].index, inplace=True)\n",
    "    df.reset_index(drop=True, inplace=True)"
   ],
   "metadata": {
    "collapsed": false,
    "pycharm": {
     "name": "#%%\n"
    }
   }
  },
  {
   "cell_type": "code",
   "execution_count": 273,
   "outputs": [
    {
     "data": {
      "text/plain": "Time                 0\n Frame ID            0\n Hand Type           0\n # hands             0\n Position X          0\n Position Y          0\n Position Z          0\n Velocity X          0\n Velocity Y          0\n Velocity Z          0\n Pitch               0\n Roll                0\n Yaw                 0\n Wrist Pos X       384\n Wrist Pos Y       384\n Wrist Pos Z       384\n Elbow pos X       384\n Elbow Pos Y       384\n Elbow Pos Z       384\n Grab Strenth        0\n Grab Angle          0\n Pinch Strength      0\ndtype: int64"
     },
     "execution_count": 273,
     "metadata": {},
     "output_type": "execute_result"
    }
   ],
   "source": [
    "handright.isna().sum()"
   ],
   "metadata": {
    "collapsed": false,
    "pycharm": {
     "name": "#%%\n"
    }
   }
  },
  {
   "cell_type": "code",
   "execution_count": 312,
   "outputs": [
    {
     "name": "stdout",
     "output_type": "stream",
     "text": [
      "Before: (4812, 22)\n",
      "(4698, 22)\n",
      "(4277, 22)\n",
      "After: (3893, 22)\n",
      "Null values: 0\n"
     ]
    },
    {
     "data": {
      "text/plain": "       Time   Frame ID  Hand Type   # hands   Position X   Position Y  \\\n0  135.3024      16287      right         1     11.93032     199.9861   \n1  135.3194      16289      right         1     11.19190     195.3075   \n2  135.3357      16291      right         1     10.53308     189.0297   \n3  135.3524      16293      right         1     10.24300     181.9816   \n4  135.3690      16295      right         1     10.02061     174.8592   \n\n    Position Z   Velocity X   Velocity Y   Velocity Z     Pitch      Roll  \\\n0     4.981665   -35.512210    -165.3466    -57.68153 -0.092033  0.108262   \n1     3.661716   -43.587440    -309.8374    -77.18515 -0.111674  0.126925   \n2     2.829388   -30.403600    -363.0033    -43.79815 -0.140004  0.127219   \n3     2.064330   -15.424000    -423.2120    -43.99948 -0.166623  0.122782   \n4     1.228467    -8.733602    -413.4513    -53.88054 -0.197763  0.127587   \n\n        Yaw   Wrist Pos X   Wrist Pos Y   Wrist Pos Z   Elbow pos X  \\\n0 -0.906612      75.45740      206.0521      45.38764      284.3946   \n1 -0.904311      74.46141      202.4562      44.28679      282.6278   \n2 -0.901862      73.60060      197.4387      43.54082      280.6384   \n3 -0.901268      73.19537      191.7202      42.73155      279.7357   \n4 -0.897777      72.68671      186.1613      41.98006      278.6890   \n\n    Elbow Pos Y   Elbow Pos Z   Grab Strenth   Grab Angle   Pinch Strength  \n0      140.0167      201.9318            0.0     0.561324              0.0  \n1      140.9712      203.6773            0.0     0.626321              0.0  \n2      142.5401      206.7526            0.0     0.636596              0.0  \n3      148.1382      209.9330            0.0     0.701644              0.0  \n4      152.5215      212.1112            0.0     0.786548              0.0  ",
      "text/html": "<div>\n<style scoped>\n    .dataframe tbody tr th:only-of-type {\n        vertical-align: middle;\n    }\n\n    .dataframe tbody tr th {\n        vertical-align: top;\n    }\n\n    .dataframe thead th {\n        text-align: right;\n    }\n</style>\n<table border=\"1\" class=\"dataframe\">\n  <thead>\n    <tr style=\"text-align: right;\">\n      <th></th>\n      <th>Time</th>\n      <th>Frame ID</th>\n      <th>Hand Type</th>\n      <th># hands</th>\n      <th>Position X</th>\n      <th>Position Y</th>\n      <th>Position Z</th>\n      <th>Velocity X</th>\n      <th>Velocity Y</th>\n      <th>Velocity Z</th>\n      <th>Pitch</th>\n      <th>Roll</th>\n      <th>Yaw</th>\n      <th>Wrist Pos X</th>\n      <th>Wrist Pos Y</th>\n      <th>Wrist Pos Z</th>\n      <th>Elbow pos X</th>\n      <th>Elbow Pos Y</th>\n      <th>Elbow Pos Z</th>\n      <th>Grab Strenth</th>\n      <th>Grab Angle</th>\n      <th>Pinch Strength</th>\n    </tr>\n  </thead>\n  <tbody>\n    <tr>\n      <th>0</th>\n      <td>135.3024</td>\n      <td>16287</td>\n      <td>right</td>\n      <td>1</td>\n      <td>11.93032</td>\n      <td>199.9861</td>\n      <td>4.981665</td>\n      <td>-35.512210</td>\n      <td>-165.3466</td>\n      <td>-57.68153</td>\n      <td>-0.092033</td>\n      <td>0.108262</td>\n      <td>-0.906612</td>\n      <td>75.45740</td>\n      <td>206.0521</td>\n      <td>45.38764</td>\n      <td>284.3946</td>\n      <td>140.0167</td>\n      <td>201.9318</td>\n      <td>0.0</td>\n      <td>0.561324</td>\n      <td>0.0</td>\n    </tr>\n    <tr>\n      <th>1</th>\n      <td>135.3194</td>\n      <td>16289</td>\n      <td>right</td>\n      <td>1</td>\n      <td>11.19190</td>\n      <td>195.3075</td>\n      <td>3.661716</td>\n      <td>-43.587440</td>\n      <td>-309.8374</td>\n      <td>-77.18515</td>\n      <td>-0.111674</td>\n      <td>0.126925</td>\n      <td>-0.904311</td>\n      <td>74.46141</td>\n      <td>202.4562</td>\n      <td>44.28679</td>\n      <td>282.6278</td>\n      <td>140.9712</td>\n      <td>203.6773</td>\n      <td>0.0</td>\n      <td>0.626321</td>\n      <td>0.0</td>\n    </tr>\n    <tr>\n      <th>2</th>\n      <td>135.3357</td>\n      <td>16291</td>\n      <td>right</td>\n      <td>1</td>\n      <td>10.53308</td>\n      <td>189.0297</td>\n      <td>2.829388</td>\n      <td>-30.403600</td>\n      <td>-363.0033</td>\n      <td>-43.79815</td>\n      <td>-0.140004</td>\n      <td>0.127219</td>\n      <td>-0.901862</td>\n      <td>73.60060</td>\n      <td>197.4387</td>\n      <td>43.54082</td>\n      <td>280.6384</td>\n      <td>142.5401</td>\n      <td>206.7526</td>\n      <td>0.0</td>\n      <td>0.636596</td>\n      <td>0.0</td>\n    </tr>\n    <tr>\n      <th>3</th>\n      <td>135.3524</td>\n      <td>16293</td>\n      <td>right</td>\n      <td>1</td>\n      <td>10.24300</td>\n      <td>181.9816</td>\n      <td>2.064330</td>\n      <td>-15.424000</td>\n      <td>-423.2120</td>\n      <td>-43.99948</td>\n      <td>-0.166623</td>\n      <td>0.122782</td>\n      <td>-0.901268</td>\n      <td>73.19537</td>\n      <td>191.7202</td>\n      <td>42.73155</td>\n      <td>279.7357</td>\n      <td>148.1382</td>\n      <td>209.9330</td>\n      <td>0.0</td>\n      <td>0.701644</td>\n      <td>0.0</td>\n    </tr>\n    <tr>\n      <th>4</th>\n      <td>135.3690</td>\n      <td>16295</td>\n      <td>right</td>\n      <td>1</td>\n      <td>10.02061</td>\n      <td>174.8592</td>\n      <td>1.228467</td>\n      <td>-8.733602</td>\n      <td>-413.4513</td>\n      <td>-53.88054</td>\n      <td>-0.197763</td>\n      <td>0.127587</td>\n      <td>-0.897777</td>\n      <td>72.68671</td>\n      <td>186.1613</td>\n      <td>41.98006</td>\n      <td>278.6890</td>\n      <td>152.5215</td>\n      <td>212.1112</td>\n      <td>0.0</td>\n      <td>0.786548</td>\n      <td>0.0</td>\n    </tr>\n  </tbody>\n</table>\n</div>"
     },
     "execution_count": 312,
     "metadata": {},
     "output_type": "execute_result"
    }
   ],
   "source": [
    "print(\"Before:\", handright.shape)\n",
    "handright_prepared = handright.drop(handright[(handright[\" Hand Type\"]==\"left\") | (handright[\" # hands\"]==2)].index)\n",
    "print(handright_prepared.shape)\n",
    "remove_first7(handright_prepared) # right hand file without first 7 seconds\n",
    "print(handright_prepared.shape)\n",
    "handright_prepared.dropna(inplace=True)\n",
    "print(\"After:\", handright_prepared.shape)\n",
    "print(\"Null values:\", handright_prepared.isna().sum().sum())\n",
    "handright_prepared.head()"
   ],
   "metadata": {
    "collapsed": false,
    "pycharm": {
     "name": "#%%\n"
    }
   }
  },
  {
   "cell_type": "code",
   "execution_count": 313,
   "outputs": [],
   "source": [
    "def combine_right(df_alone):\n",
    "    left = df_alone.drop(df_alone[(df_alone[\" Hand Type\"]==\"right\") | (df_alone[\" # hands\"]==2)].index).reset_index(drop=True)\n",
    "    if len(left) > len(handright_prepared):\n",
    "        right = handright_prepared[:len(left)].copy()\n",
    "    else:\n",
    "        diff = len(handright_prepared) - len(left)\n",
    "        left = left.drop(left[:diff].index).reset_index(drop=True)\n",
    "        right = handright_prepared[:len(left)].copy()\n",
    "    right.Time = left.Time\n",
    "    right[\" Frame ID\"] = left[\" Frame ID\"]\n",
    "    merged = right.merge(left, how=\"outer\").sort_values(\"Time\").reset_index(drop=True)\n",
    "    merged[\" # hands\"] = 2\n",
    "    return merged"
   ],
   "metadata": {
    "collapsed": false,
    "pycharm": {
     "name": "#%%\n"
    }
   }
  },
  {
   "cell_type": "code",
   "execution_count": null,
   "outputs": [],
   "source": [
    "def transform_columns(df):\n",
    "    # strip removes white spaces in the beginning and end\n",
    "    # lower changes uppercase letters to lowercase\n",
    "    df.columns = df.columns.str.strip().str.lower()\n",
    "    # rename columns without spaces\n",
    "    df.columns = df.columns.str.replace(\" \", \"_\")\n",
    "    # change number of hands column name\n",
    "    df.columns = df.columns.str.replace(\"#_hands\", \"n_hands\")\n",
    "\n",
    "    # remove instances with 1 hand detected\n",
    "    df.drop(df[df[\"n_hands\"] == 1].index, inplace=True)\n",
    "\n",
    "    # merge right and left hands into one row\n",
    "    left = df.groupby(\"hand_type\").get_group(\"left\").drop([\"hand_type\", \"n_hands\", \"frame_id\"], axis=1)\n",
    "    right = df.groupby(\"hand_type\").get_group(\"right\").drop([\"hand_type\", \"n_hands\", \"frame_id\"], axis=1)\n",
    "    keep_same = {\"state\", \"time\"}\n",
    "    left.columns = left.columns.map(lambda x: x if x in keep_same else x + \"_left\")\n",
    "    right.columns = right.columns.map(lambda x: x if x in keep_same else x + \"_right\")\n",
    "    merged = left.merge(right, how=\"outer\", on=[\"state\", \"time\"])\n",
    "    return merged"
   ],
   "metadata": {
    "collapsed": false,
    "pycharm": {
     "name": "#%%\n"
    }
   }
  },
  {
   "cell_type": "code",
   "execution_count": 315,
   "outputs": [],
   "source": [
    "training_data = []\n",
    "validation_data = []\n",
    "\n",
    "for filename in glob.iglob(\"extraFiles/Training/**/*.csv\", recursive=True):\n",
    "    df = pd.read_csv(filename, index_col=None, header=0)\n",
    "    remove_first7(df)\n",
    "    if \"Alone\" in filename:\n",
    "        df = combine_right(df)\n",
    "        df.insert(0, \"state\", 0)\n",
    "    elif \"Sync\" in filename:\n",
    "        df.insert(0, \"state\", 1)\n",
    "    elif \"Spontan\" in filename:\n",
    "        df.insert(0, \"state\", 2)\n",
    "    df = transform_columns(df)\n",
    "    training_data.append(df)"
   ],
   "metadata": {
    "collapsed": false,
    "pycharm": {
     "name": "#%%\n"
    }
   }
  },
  {
   "cell_type": "code",
   "execution_count": 316,
   "outputs": [
    {
     "data": {
      "text/plain": "state                      0\ntime                       0\nposition_x_left            0\nposition_y_left            0\nposition_z_left            0\nvelocity_x_left            0\nvelocity_y_left            0\nvelocity_z_left            0\npitch_left                 0\nroll_left                  0\nyaw_left                   0\nwrist_pos_x_left           0\nwrist_pos_y_left           0\nwrist_pos_z_left           0\nelbow_pos_x_left           0\nelbow_pos_y_left           0\nelbow_pos_z_left           0\ngrab_strenth_left          0\ngrab_angle_left            0\npinch_strength_left        0\nposition_x_right        1108\nposition_y_right        1108\nposition_z_right        1108\nvelocity_x_right        1108\nvelocity_y_right        1108\nvelocity_z_right        1108\npitch_right             1108\nroll_right              1108\nyaw_right               1108\nwrist_pos_x_right       1108\nwrist_pos_y_right       1108\nwrist_pos_z_right       1108\nelbow_pos_x_right       1108\nelbow_pos_y_right       1108\nelbow_pos_z_right       1108\ngrab_strenth_right      1108\ngrab_angle_right        1108\npinch_strength_right    1108\ndtype: int64"
     },
     "execution_count": 316,
     "metadata": {},
     "output_type": "execute_result"
    }
   ],
   "source": [
    "frame = pd.concat(training_data, axis=0, ignore_index=True)\n",
    "frame.isna().sum()"
   ],
   "metadata": {
    "collapsed": false,
    "pycharm": {
     "name": "#%%\n"
    }
   }
  },
  {
   "cell_type": "code",
   "execution_count": 284,
   "outputs": [
    {
     "data": {
      "text/plain": "      state      time  position_x_left  position_y_left  position_z_left  \\\n0         0  525.8185        -52.96039         184.5535        -2.856696   \n1         0  525.8351        -50.04434         185.5024        -4.845364   \n2         0  525.8516        -49.07749         182.2930        -6.442950   \n3         0  525.8682        -50.89614         176.7708        -9.005262   \n4         0  525.8848        -51.76074         174.1853       -10.600340   \n...     ...       ...              ...              ...              ...   \n4098      0  593.7177        -44.79453         123.7657        -6.241947   \n4099      0  593.7343        -40.77390         126.7342        -3.452266   \n4100      0  593.7509        -38.56184         127.6858        -2.086977   \n4101      0  593.7681        -35.88303         132.9386         0.526575   \n4102      0  593.7840        -33.63328         139.4063         2.912675   \n\n      velocity_x_left  velocity_y_left  velocity_z_left  pitch_left  \\\n0           162.15270        127.60520        -85.83782    1.238877   \n1           102.82480        -24.84337        -79.46504    1.244299   \n2            12.12360       -258.75260        -99.40902    1.220772   \n3           -53.57292       -271.01500       -143.03330    1.096965   \n4           -40.95883       -140.44390        -59.85620    1.004597   \n...               ...              ...              ...         ...   \n4098        274.44630        106.78920        125.05260    1.234747   \n4099        223.52940        209.72390        160.24900    1.265178   \n4100        254.93310        109.66130        157.34590    1.279585   \n4101        185.86870        204.98220        154.04880    1.299061   \n4102        119.74400        382.61350        141.81010    1.315801   \n\n      roll_left  yaw_left  wrist_pos_x_left  wrist_pos_y_left  \\\n0      1.021919  1.199751        -101.04550          132.5940   \n1      1.132981  1.171960         -95.51471          131.5824   \n2      1.250050  1.152816         -94.32024          128.7403   \n3      1.535388  1.114818         -99.72611          127.6519   \n4      1.760037  1.091361        -102.66840          128.2257   \n...         ...       ...               ...               ...   \n4098   0.282478  1.476095        -114.52440          107.5486   \n4099   0.283400  1.484591        -110.50080          110.7256   \n4100   0.280169  1.489703        -108.34430          111.9989   \n4101   0.298048  1.489702        -105.43440          116.3043   \n4102   0.334827  1.484309        -102.64750          120.6218   \n\n      wrist_pos_z_left  elbow_pos_x_left  elbow_pos_y_left  elbow_pos_z_left  \\\n0             4.449887         -307.7127        -12.177800          5.125422   \n1             2.853924         -313.0367          3.746006         -0.704697   \n2             2.742160         -322.1467         20.402740         -2.617105   \n3             5.047988         -331.5826         28.883190         -7.521224   \n4             6.734126         -333.9562         27.848030         -3.312394   \n...                ...               ...               ...               ...   \n4098         -6.354107         -354.6525         41.165710         45.739930   \n4099         -3.791958         -351.3217         53.684260         55.643090   \n4100         -2.676469         -349.8930         59.758350         58.190420   \n4101          0.041351         -346.9033         66.470160         63.191740   \n4102          2.738251         -343.8961         69.921010         66.053760   \n\n      grab_strenth_left  grab_angle_left  pinch_strength_left  \\\n0                   0.0         0.073635                  0.0   \n1                   0.0         0.018766                  0.0   \n2                   0.0         0.018409                  0.0   \n3                   0.0         0.149852                  0.0   \n4                   0.0         0.242324                  0.0   \n...                 ...              ...                  ...   \n4098                0.0         0.401728                  0.0   \n4099                0.0         0.190267                  0.0   \n4100                0.0         0.042665                  0.0   \n4101                0.0         0.000000                  0.0   \n4102                0.0         0.000000                  0.0   \n\n      position_x_right  position_y_right  position_z_right  velocity_x_right  \\\n0             11.93032          199.9861          4.981665        -35.512210   \n1             11.19190          195.3075          3.661716        -43.587440   \n2             10.53308          189.0297          2.829388        -30.403600   \n3             10.24300          181.9816          2.064330        -15.424000   \n4             10.02061          174.8592          1.228467         -8.733602   \n...                ...               ...               ...               ...   \n4098               NaN               NaN               NaN               NaN   \n4099               NaN               NaN               NaN               NaN   \n4100               NaN               NaN               NaN               NaN   \n4101               NaN               NaN               NaN               NaN   \n4102               NaN               NaN               NaN               NaN   \n\n      velocity_y_right  velocity_z_right  pitch_right  roll_right  yaw_right  \\\n0            -165.3466         -57.68153    -0.092033    0.108262  -0.906612   \n1            -309.8374         -77.18515    -0.111674    0.126925  -0.904311   \n2            -363.0033         -43.79815    -0.140004    0.127219  -0.901862   \n3            -423.2120         -43.99948    -0.166623    0.122782  -0.901268   \n4            -413.4513         -53.88054    -0.197763    0.127587  -0.897777   \n...                ...               ...          ...         ...        ...   \n4098               NaN               NaN          NaN         NaN        NaN   \n4099               NaN               NaN          NaN         NaN        NaN   \n4100               NaN               NaN          NaN         NaN        NaN   \n4101               NaN               NaN          NaN         NaN        NaN   \n4102               NaN               NaN          NaN         NaN        NaN   \n\n      wrist_pos_x_right  wrist_pos_y_right  wrist_pos_z_right  \\\n0              75.45740           206.0521           45.38764   \n1              74.46141           202.4562           44.28679   \n2              73.60060           197.4387           43.54082   \n3              73.19537           191.7202           42.73155   \n4              72.68671           186.1613           41.98006   \n...                 ...                ...                ...   \n4098                NaN                NaN                NaN   \n4099                NaN                NaN                NaN   \n4100                NaN                NaN                NaN   \n4101                NaN                NaN                NaN   \n4102                NaN                NaN                NaN   \n\n      elbow_pos_x_right  elbow_pos_y_right  elbow_pos_z_right  \\\n0              284.3946           140.0167           201.9318   \n1              282.6278           140.9712           203.6773   \n2              280.6384           142.5401           206.7526   \n3              279.7357           148.1382           209.9330   \n4              278.6890           152.5215           212.1112   \n...                 ...                ...                ...   \n4098                NaN                NaN                NaN   \n4099                NaN                NaN                NaN   \n4100                NaN                NaN                NaN   \n4101                NaN                NaN                NaN   \n4102                NaN                NaN                NaN   \n\n      grab_strenth_right  grab_angle_right  pinch_strength_right  \n0                    0.0          0.561324                   0.0  \n1                    0.0          0.626321                   0.0  \n2                    0.0          0.636596                   0.0  \n3                    0.0          0.701644                   0.0  \n4                    0.0          0.786548                   0.0  \n...                  ...               ...                   ...  \n4098                 NaN               NaN                   NaN  \n4099                 NaN               NaN                   NaN  \n4100                 NaN               NaN                   NaN  \n4101                 NaN               NaN                   NaN  \n4102                 NaN               NaN                   NaN  \n\n[4103 rows x 38 columns]",
      "text/html": "<div>\n<style scoped>\n    .dataframe tbody tr th:only-of-type {\n        vertical-align: middle;\n    }\n\n    .dataframe tbody tr th {\n        vertical-align: top;\n    }\n\n    .dataframe thead th {\n        text-align: right;\n    }\n</style>\n<table border=\"1\" class=\"dataframe\">\n  <thead>\n    <tr style=\"text-align: right;\">\n      <th></th>\n      <th>state</th>\n      <th>time</th>\n      <th>position_x_left</th>\n      <th>position_y_left</th>\n      <th>position_z_left</th>\n      <th>velocity_x_left</th>\n      <th>velocity_y_left</th>\n      <th>velocity_z_left</th>\n      <th>pitch_left</th>\n      <th>roll_left</th>\n      <th>yaw_left</th>\n      <th>wrist_pos_x_left</th>\n      <th>wrist_pos_y_left</th>\n      <th>wrist_pos_z_left</th>\n      <th>elbow_pos_x_left</th>\n      <th>elbow_pos_y_left</th>\n      <th>elbow_pos_z_left</th>\n      <th>grab_strenth_left</th>\n      <th>grab_angle_left</th>\n      <th>pinch_strength_left</th>\n      <th>position_x_right</th>\n      <th>position_y_right</th>\n      <th>position_z_right</th>\n      <th>velocity_x_right</th>\n      <th>velocity_y_right</th>\n      <th>velocity_z_right</th>\n      <th>pitch_right</th>\n      <th>roll_right</th>\n      <th>yaw_right</th>\n      <th>wrist_pos_x_right</th>\n      <th>wrist_pos_y_right</th>\n      <th>wrist_pos_z_right</th>\n      <th>elbow_pos_x_right</th>\n      <th>elbow_pos_y_right</th>\n      <th>elbow_pos_z_right</th>\n      <th>grab_strenth_right</th>\n      <th>grab_angle_right</th>\n      <th>pinch_strength_right</th>\n    </tr>\n  </thead>\n  <tbody>\n    <tr>\n      <th>0</th>\n      <td>0</td>\n      <td>525.8185</td>\n      <td>-52.96039</td>\n      <td>184.5535</td>\n      <td>-2.856696</td>\n      <td>162.15270</td>\n      <td>127.60520</td>\n      <td>-85.83782</td>\n      <td>1.238877</td>\n      <td>1.021919</td>\n      <td>1.199751</td>\n      <td>-101.04550</td>\n      <td>132.5940</td>\n      <td>4.449887</td>\n      <td>-307.7127</td>\n      <td>-12.177800</td>\n      <td>5.125422</td>\n      <td>0.0</td>\n      <td>0.073635</td>\n      <td>0.0</td>\n      <td>11.93032</td>\n      <td>199.9861</td>\n      <td>4.981665</td>\n      <td>-35.512210</td>\n      <td>-165.3466</td>\n      <td>-57.68153</td>\n      <td>-0.092033</td>\n      <td>0.108262</td>\n      <td>-0.906612</td>\n      <td>75.45740</td>\n      <td>206.0521</td>\n      <td>45.38764</td>\n      <td>284.3946</td>\n      <td>140.0167</td>\n      <td>201.9318</td>\n      <td>0.0</td>\n      <td>0.561324</td>\n      <td>0.0</td>\n    </tr>\n    <tr>\n      <th>1</th>\n      <td>0</td>\n      <td>525.8351</td>\n      <td>-50.04434</td>\n      <td>185.5024</td>\n      <td>-4.845364</td>\n      <td>102.82480</td>\n      <td>-24.84337</td>\n      <td>-79.46504</td>\n      <td>1.244299</td>\n      <td>1.132981</td>\n      <td>1.171960</td>\n      <td>-95.51471</td>\n      <td>131.5824</td>\n      <td>2.853924</td>\n      <td>-313.0367</td>\n      <td>3.746006</td>\n      <td>-0.704697</td>\n      <td>0.0</td>\n      <td>0.018766</td>\n      <td>0.0</td>\n      <td>11.19190</td>\n      <td>195.3075</td>\n      <td>3.661716</td>\n      <td>-43.587440</td>\n      <td>-309.8374</td>\n      <td>-77.18515</td>\n      <td>-0.111674</td>\n      <td>0.126925</td>\n      <td>-0.904311</td>\n      <td>74.46141</td>\n      <td>202.4562</td>\n      <td>44.28679</td>\n      <td>282.6278</td>\n      <td>140.9712</td>\n      <td>203.6773</td>\n      <td>0.0</td>\n      <td>0.626321</td>\n      <td>0.0</td>\n    </tr>\n    <tr>\n      <th>2</th>\n      <td>0</td>\n      <td>525.8516</td>\n      <td>-49.07749</td>\n      <td>182.2930</td>\n      <td>-6.442950</td>\n      <td>12.12360</td>\n      <td>-258.75260</td>\n      <td>-99.40902</td>\n      <td>1.220772</td>\n      <td>1.250050</td>\n      <td>1.152816</td>\n      <td>-94.32024</td>\n      <td>128.7403</td>\n      <td>2.742160</td>\n      <td>-322.1467</td>\n      <td>20.402740</td>\n      <td>-2.617105</td>\n      <td>0.0</td>\n      <td>0.018409</td>\n      <td>0.0</td>\n      <td>10.53308</td>\n      <td>189.0297</td>\n      <td>2.829388</td>\n      <td>-30.403600</td>\n      <td>-363.0033</td>\n      <td>-43.79815</td>\n      <td>-0.140004</td>\n      <td>0.127219</td>\n      <td>-0.901862</td>\n      <td>73.60060</td>\n      <td>197.4387</td>\n      <td>43.54082</td>\n      <td>280.6384</td>\n      <td>142.5401</td>\n      <td>206.7526</td>\n      <td>0.0</td>\n      <td>0.636596</td>\n      <td>0.0</td>\n    </tr>\n    <tr>\n      <th>3</th>\n      <td>0</td>\n      <td>525.8682</td>\n      <td>-50.89614</td>\n      <td>176.7708</td>\n      <td>-9.005262</td>\n      <td>-53.57292</td>\n      <td>-271.01500</td>\n      <td>-143.03330</td>\n      <td>1.096965</td>\n      <td>1.535388</td>\n      <td>1.114818</td>\n      <td>-99.72611</td>\n      <td>127.6519</td>\n      <td>5.047988</td>\n      <td>-331.5826</td>\n      <td>28.883190</td>\n      <td>-7.521224</td>\n      <td>0.0</td>\n      <td>0.149852</td>\n      <td>0.0</td>\n      <td>10.24300</td>\n      <td>181.9816</td>\n      <td>2.064330</td>\n      <td>-15.424000</td>\n      <td>-423.2120</td>\n      <td>-43.99948</td>\n      <td>-0.166623</td>\n      <td>0.122782</td>\n      <td>-0.901268</td>\n      <td>73.19537</td>\n      <td>191.7202</td>\n      <td>42.73155</td>\n      <td>279.7357</td>\n      <td>148.1382</td>\n      <td>209.9330</td>\n      <td>0.0</td>\n      <td>0.701644</td>\n      <td>0.0</td>\n    </tr>\n    <tr>\n      <th>4</th>\n      <td>0</td>\n      <td>525.8848</td>\n      <td>-51.76074</td>\n      <td>174.1853</td>\n      <td>-10.600340</td>\n      <td>-40.95883</td>\n      <td>-140.44390</td>\n      <td>-59.85620</td>\n      <td>1.004597</td>\n      <td>1.760037</td>\n      <td>1.091361</td>\n      <td>-102.66840</td>\n      <td>128.2257</td>\n      <td>6.734126</td>\n      <td>-333.9562</td>\n      <td>27.848030</td>\n      <td>-3.312394</td>\n      <td>0.0</td>\n      <td>0.242324</td>\n      <td>0.0</td>\n      <td>10.02061</td>\n      <td>174.8592</td>\n      <td>1.228467</td>\n      <td>-8.733602</td>\n      <td>-413.4513</td>\n      <td>-53.88054</td>\n      <td>-0.197763</td>\n      <td>0.127587</td>\n      <td>-0.897777</td>\n      <td>72.68671</td>\n      <td>186.1613</td>\n      <td>41.98006</td>\n      <td>278.6890</td>\n      <td>152.5215</td>\n      <td>212.1112</td>\n      <td>0.0</td>\n      <td>0.786548</td>\n      <td>0.0</td>\n    </tr>\n    <tr>\n      <th>...</th>\n      <td>...</td>\n      <td>...</td>\n      <td>...</td>\n      <td>...</td>\n      <td>...</td>\n      <td>...</td>\n      <td>...</td>\n      <td>...</td>\n      <td>...</td>\n      <td>...</td>\n      <td>...</td>\n      <td>...</td>\n      <td>...</td>\n      <td>...</td>\n      <td>...</td>\n      <td>...</td>\n      <td>...</td>\n      <td>...</td>\n      <td>...</td>\n      <td>...</td>\n      <td>...</td>\n      <td>...</td>\n      <td>...</td>\n      <td>...</td>\n      <td>...</td>\n      <td>...</td>\n      <td>...</td>\n      <td>...</td>\n      <td>...</td>\n      <td>...</td>\n      <td>...</td>\n      <td>...</td>\n      <td>...</td>\n      <td>...</td>\n      <td>...</td>\n      <td>...</td>\n      <td>...</td>\n      <td>...</td>\n    </tr>\n    <tr>\n      <th>4098</th>\n      <td>0</td>\n      <td>593.7177</td>\n      <td>-44.79453</td>\n      <td>123.7657</td>\n      <td>-6.241947</td>\n      <td>274.44630</td>\n      <td>106.78920</td>\n      <td>125.05260</td>\n      <td>1.234747</td>\n      <td>0.282478</td>\n      <td>1.476095</td>\n      <td>-114.52440</td>\n      <td>107.5486</td>\n      <td>-6.354107</td>\n      <td>-354.6525</td>\n      <td>41.165710</td>\n      <td>45.739930</td>\n      <td>0.0</td>\n      <td>0.401728</td>\n      <td>0.0</td>\n      <td>NaN</td>\n      <td>NaN</td>\n      <td>NaN</td>\n      <td>NaN</td>\n      <td>NaN</td>\n      <td>NaN</td>\n      <td>NaN</td>\n      <td>NaN</td>\n      <td>NaN</td>\n      <td>NaN</td>\n      <td>NaN</td>\n      <td>NaN</td>\n      <td>NaN</td>\n      <td>NaN</td>\n      <td>NaN</td>\n      <td>NaN</td>\n      <td>NaN</td>\n      <td>NaN</td>\n    </tr>\n    <tr>\n      <th>4099</th>\n      <td>0</td>\n      <td>593.7343</td>\n      <td>-40.77390</td>\n      <td>126.7342</td>\n      <td>-3.452266</td>\n      <td>223.52940</td>\n      <td>209.72390</td>\n      <td>160.24900</td>\n      <td>1.265178</td>\n      <td>0.283400</td>\n      <td>1.484591</td>\n      <td>-110.50080</td>\n      <td>110.7256</td>\n      <td>-3.791958</td>\n      <td>-351.3217</td>\n      <td>53.684260</td>\n      <td>55.643090</td>\n      <td>0.0</td>\n      <td>0.190267</td>\n      <td>0.0</td>\n      <td>NaN</td>\n      <td>NaN</td>\n      <td>NaN</td>\n      <td>NaN</td>\n      <td>NaN</td>\n      <td>NaN</td>\n      <td>NaN</td>\n      <td>NaN</td>\n      <td>NaN</td>\n      <td>NaN</td>\n      <td>NaN</td>\n      <td>NaN</td>\n      <td>NaN</td>\n      <td>NaN</td>\n      <td>NaN</td>\n      <td>NaN</td>\n      <td>NaN</td>\n      <td>NaN</td>\n    </tr>\n    <tr>\n      <th>4100</th>\n      <td>0</td>\n      <td>593.7509</td>\n      <td>-38.56184</td>\n      <td>127.6858</td>\n      <td>-2.086977</td>\n      <td>254.93310</td>\n      <td>109.66130</td>\n      <td>157.34590</td>\n      <td>1.279585</td>\n      <td>0.280169</td>\n      <td>1.489703</td>\n      <td>-108.34430</td>\n      <td>111.9989</td>\n      <td>-2.676469</td>\n      <td>-349.8930</td>\n      <td>59.758350</td>\n      <td>58.190420</td>\n      <td>0.0</td>\n      <td>0.042665</td>\n      <td>0.0</td>\n      <td>NaN</td>\n      <td>NaN</td>\n      <td>NaN</td>\n      <td>NaN</td>\n      <td>NaN</td>\n      <td>NaN</td>\n      <td>NaN</td>\n      <td>NaN</td>\n      <td>NaN</td>\n      <td>NaN</td>\n      <td>NaN</td>\n      <td>NaN</td>\n      <td>NaN</td>\n      <td>NaN</td>\n      <td>NaN</td>\n      <td>NaN</td>\n      <td>NaN</td>\n      <td>NaN</td>\n    </tr>\n    <tr>\n      <th>4101</th>\n      <td>0</td>\n      <td>593.7681</td>\n      <td>-35.88303</td>\n      <td>132.9386</td>\n      <td>0.526575</td>\n      <td>185.86870</td>\n      <td>204.98220</td>\n      <td>154.04880</td>\n      <td>1.299061</td>\n      <td>0.298048</td>\n      <td>1.489702</td>\n      <td>-105.43440</td>\n      <td>116.3043</td>\n      <td>0.041351</td>\n      <td>-346.9033</td>\n      <td>66.470160</td>\n      <td>63.191740</td>\n      <td>0.0</td>\n      <td>0.000000</td>\n      <td>0.0</td>\n      <td>NaN</td>\n      <td>NaN</td>\n      <td>NaN</td>\n      <td>NaN</td>\n      <td>NaN</td>\n      <td>NaN</td>\n      <td>NaN</td>\n      <td>NaN</td>\n      <td>NaN</td>\n      <td>NaN</td>\n      <td>NaN</td>\n      <td>NaN</td>\n      <td>NaN</td>\n      <td>NaN</td>\n      <td>NaN</td>\n      <td>NaN</td>\n      <td>NaN</td>\n      <td>NaN</td>\n    </tr>\n    <tr>\n      <th>4102</th>\n      <td>0</td>\n      <td>593.7840</td>\n      <td>-33.63328</td>\n      <td>139.4063</td>\n      <td>2.912675</td>\n      <td>119.74400</td>\n      <td>382.61350</td>\n      <td>141.81010</td>\n      <td>1.315801</td>\n      <td>0.334827</td>\n      <td>1.484309</td>\n      <td>-102.64750</td>\n      <td>120.6218</td>\n      <td>2.738251</td>\n      <td>-343.8961</td>\n      <td>69.921010</td>\n      <td>66.053760</td>\n      <td>0.0</td>\n      <td>0.000000</td>\n      <td>0.0</td>\n      <td>NaN</td>\n      <td>NaN</td>\n      <td>NaN</td>\n      <td>NaN</td>\n      <td>NaN</td>\n      <td>NaN</td>\n      <td>NaN</td>\n      <td>NaN</td>\n      <td>NaN</td>\n      <td>NaN</td>\n      <td>NaN</td>\n      <td>NaN</td>\n      <td>NaN</td>\n      <td>NaN</td>\n      <td>NaN</td>\n      <td>NaN</td>\n      <td>NaN</td>\n      <td>NaN</td>\n    </tr>\n  </tbody>\n</table>\n<p>4103 rows × 38 columns</p>\n</div>"
     },
     "execution_count": 284,
     "metadata": {},
     "output_type": "execute_result"
    }
   ],
   "source": [
    "training_data[2]"
   ],
   "metadata": {
    "collapsed": false,
    "pycharm": {
     "name": "#%%\n"
    }
   }
  },
  {
   "cell_type": "markdown",
   "source": [
    "def split_train_val(df):\n",
    "\n"
   ],
   "metadata": {
    "collapsed": false,
    "pycharm": {
     "name": "#%% md\n"
    }
   }
  },
  {
   "cell_type": "code",
   "source": [
    "r = handright_prepared[:100].copy()\n",
    "l = alone[:200]\n",
    "# r.Time = l.Time\n",
    "# r[\" Frame ID\"] = l[\" Frame ID\"]\n",
    "\n",
    "diff = len(l) - len(r)\n",
    "diff\n",
    "\n",
    "# l.drop(l[:diff].index).reset_index(drop=True)\n",
    "l\n",
    "# merged = r.merge(l, how=\"outer\").sort_values(\"Time\").reset_index(drop=True)\n",
    "# merged.groupby(\"Time\")[\" # hands\"].sum()"
   ],
   "metadata": {
    "collapsed": false,
    "pycharm": {
     "name": "#%%\n"
    }
   },
   "execution_count": 286,
   "outputs": [
    {
     "data": {
      "text/plain": "         Time   Frame ID  Hand Type   # hands   Position X   Position Y  \\\n0    407.9808      47556       left         1    -179.4770     276.1585   \n1    407.9974      47557       left         1    -179.0340     276.1196   \n2    408.0139      47559       left         1    -178.1166     276.0284   \n3    408.0306      47561       left         1    -177.3277     275.4324   \n4    408.0471      47563       left         1    -175.8580     273.7563   \n..        ...        ...        ...       ...          ...          ...   \n195  411.2113      47928       left         1    -121.3494     256.9073   \n196  411.2281      47930       left         1    -121.9743     258.2573   \n197  411.2444      47932       left         1    -122.7447     259.2232   \n198  411.2610      47934       left         1    -123.6065     260.0752   \n199  411.2776      47936       left         1    -124.1802     260.6259   \n\n      Position Z   Velocity X   Velocity Y   Velocity Z     Pitch      Roll  \\\n0      -81.35535     99.07191   -26.663200   -51.001030  0.948318  1.034780   \n1      -81.67410     51.22052    -4.495606   -36.853840  0.934901  1.019857   \n2      -82.15177     44.13683     7.827627   -27.463290  0.913104  0.989654   \n3      -82.21334     57.69436   -40.209590    -1.573000  0.904349  0.943895   \n4      -82.06954     81.56409   -73.096860    -7.129474  0.894652  0.868642   \n..           ...          ...          ...          ...       ...       ...   \n195    -92.55829    -52.93547    82.818770    21.865110  1.312111  0.469143   \n196    -92.56493    -45.00289    74.893240     0.642928  1.311271  0.481302   \n197    -92.58044    -43.21984    53.114780    -4.828522  1.301822  0.474176   \n198    -92.82473    -56.48501    60.959110   -18.548290  1.293716  0.472095   \n199    -93.29468    -28.92516    23.410430   -32.595510  1.283691  0.465549   \n\n          Yaw   Wrist Pos X   Wrist Pos Y   Wrist Pos Z   Elbow pos X  \\\n0    0.815414     -219.9878      226.1490     -53.11938     -340.6174   \n1    0.801340     -219.5979      226.5593     -52.69025     -341.4207   \n2    0.794463     -219.2282      227.5683     -52.12496     -339.7957   \n3    0.800395     -219.0942      227.8294     -51.79783     -334.6825   \n4    0.837790     -219.6559      227.9204     -51.97683     -329.6036   \n..        ...           ...           ...           ...           ...   \n195  1.080968     -154.8785      199.6766     -71.39955     -168.8650   \n196  1.089992     -156.0721      201.3614     -71.48066     -171.0412   \n197  1.078938     -157.0743      202.5940     -71.11491     -173.6659   \n198  1.062970     -157.7702      203.4537     -71.02069     -174.7301   \n199  1.045790     -158.2493      204.0985     -71.05497     -175.6140   \n\n      Elbow Pos Y   Elbow Pos Z   Grab Strenth   Grab Angle   Pinch Strength  \n0       52.240320      79.09514       0.000000     0.920139         0.242647  \n1       53.470780      79.50654       0.000000     1.007900         0.269254  \n2       56.526610      83.83327       0.000000     1.064587         0.265355  \n3       54.800450      85.95831       0.000000     1.174450         0.232811  \n4       50.930030      85.36330       0.011588     1.339837         0.191908  \n..            ...           ...            ...          ...              ...  \n195     -9.490250      63.98888       0.000000     0.738392         0.381271  \n196     -7.087211      64.90680       0.000000     0.708975         0.430401  \n197     -5.946049      64.94463       0.000000     0.744805         0.512482  \n198     -5.783407      63.91866       0.000000     0.778173         0.571423  \n199     -5.719716      62.92717       0.000000     0.794212         0.614138  \n\n[200 rows x 22 columns]",
      "text/html": "<div>\n<style scoped>\n    .dataframe tbody tr th:only-of-type {\n        vertical-align: middle;\n    }\n\n    .dataframe tbody tr th {\n        vertical-align: top;\n    }\n\n    .dataframe thead th {\n        text-align: right;\n    }\n</style>\n<table border=\"1\" class=\"dataframe\">\n  <thead>\n    <tr style=\"text-align: right;\">\n      <th></th>\n      <th>Time</th>\n      <th>Frame ID</th>\n      <th>Hand Type</th>\n      <th># hands</th>\n      <th>Position X</th>\n      <th>Position Y</th>\n      <th>Position Z</th>\n      <th>Velocity X</th>\n      <th>Velocity Y</th>\n      <th>Velocity Z</th>\n      <th>Pitch</th>\n      <th>Roll</th>\n      <th>Yaw</th>\n      <th>Wrist Pos X</th>\n      <th>Wrist Pos Y</th>\n      <th>Wrist Pos Z</th>\n      <th>Elbow pos X</th>\n      <th>Elbow Pos Y</th>\n      <th>Elbow Pos Z</th>\n      <th>Grab Strenth</th>\n      <th>Grab Angle</th>\n      <th>Pinch Strength</th>\n    </tr>\n  </thead>\n  <tbody>\n    <tr>\n      <th>0</th>\n      <td>407.9808</td>\n      <td>47556</td>\n      <td>left</td>\n      <td>1</td>\n      <td>-179.4770</td>\n      <td>276.1585</td>\n      <td>-81.35535</td>\n      <td>99.07191</td>\n      <td>-26.663200</td>\n      <td>-51.001030</td>\n      <td>0.948318</td>\n      <td>1.034780</td>\n      <td>0.815414</td>\n      <td>-219.9878</td>\n      <td>226.1490</td>\n      <td>-53.11938</td>\n      <td>-340.6174</td>\n      <td>52.240320</td>\n      <td>79.09514</td>\n      <td>0.000000</td>\n      <td>0.920139</td>\n      <td>0.242647</td>\n    </tr>\n    <tr>\n      <th>1</th>\n      <td>407.9974</td>\n      <td>47557</td>\n      <td>left</td>\n      <td>1</td>\n      <td>-179.0340</td>\n      <td>276.1196</td>\n      <td>-81.67410</td>\n      <td>51.22052</td>\n      <td>-4.495606</td>\n      <td>-36.853840</td>\n      <td>0.934901</td>\n      <td>1.019857</td>\n      <td>0.801340</td>\n      <td>-219.5979</td>\n      <td>226.5593</td>\n      <td>-52.69025</td>\n      <td>-341.4207</td>\n      <td>53.470780</td>\n      <td>79.50654</td>\n      <td>0.000000</td>\n      <td>1.007900</td>\n      <td>0.269254</td>\n    </tr>\n    <tr>\n      <th>2</th>\n      <td>408.0139</td>\n      <td>47559</td>\n      <td>left</td>\n      <td>1</td>\n      <td>-178.1166</td>\n      <td>276.0284</td>\n      <td>-82.15177</td>\n      <td>44.13683</td>\n      <td>7.827627</td>\n      <td>-27.463290</td>\n      <td>0.913104</td>\n      <td>0.989654</td>\n      <td>0.794463</td>\n      <td>-219.2282</td>\n      <td>227.5683</td>\n      <td>-52.12496</td>\n      <td>-339.7957</td>\n      <td>56.526610</td>\n      <td>83.83327</td>\n      <td>0.000000</td>\n      <td>1.064587</td>\n      <td>0.265355</td>\n    </tr>\n    <tr>\n      <th>3</th>\n      <td>408.0306</td>\n      <td>47561</td>\n      <td>left</td>\n      <td>1</td>\n      <td>-177.3277</td>\n      <td>275.4324</td>\n      <td>-82.21334</td>\n      <td>57.69436</td>\n      <td>-40.209590</td>\n      <td>-1.573000</td>\n      <td>0.904349</td>\n      <td>0.943895</td>\n      <td>0.800395</td>\n      <td>-219.0942</td>\n      <td>227.8294</td>\n      <td>-51.79783</td>\n      <td>-334.6825</td>\n      <td>54.800450</td>\n      <td>85.95831</td>\n      <td>0.000000</td>\n      <td>1.174450</td>\n      <td>0.232811</td>\n    </tr>\n    <tr>\n      <th>4</th>\n      <td>408.0471</td>\n      <td>47563</td>\n      <td>left</td>\n      <td>1</td>\n      <td>-175.8580</td>\n      <td>273.7563</td>\n      <td>-82.06954</td>\n      <td>81.56409</td>\n      <td>-73.096860</td>\n      <td>-7.129474</td>\n      <td>0.894652</td>\n      <td>0.868642</td>\n      <td>0.837790</td>\n      <td>-219.6559</td>\n      <td>227.9204</td>\n      <td>-51.97683</td>\n      <td>-329.6036</td>\n      <td>50.930030</td>\n      <td>85.36330</td>\n      <td>0.011588</td>\n      <td>1.339837</td>\n      <td>0.191908</td>\n    </tr>\n    <tr>\n      <th>...</th>\n      <td>...</td>\n      <td>...</td>\n      <td>...</td>\n      <td>...</td>\n      <td>...</td>\n      <td>...</td>\n      <td>...</td>\n      <td>...</td>\n      <td>...</td>\n      <td>...</td>\n      <td>...</td>\n      <td>...</td>\n      <td>...</td>\n      <td>...</td>\n      <td>...</td>\n      <td>...</td>\n      <td>...</td>\n      <td>...</td>\n      <td>...</td>\n      <td>...</td>\n      <td>...</td>\n      <td>...</td>\n    </tr>\n    <tr>\n      <th>195</th>\n      <td>411.2113</td>\n      <td>47928</td>\n      <td>left</td>\n      <td>1</td>\n      <td>-121.3494</td>\n      <td>256.9073</td>\n      <td>-92.55829</td>\n      <td>-52.93547</td>\n      <td>82.818770</td>\n      <td>21.865110</td>\n      <td>1.312111</td>\n      <td>0.469143</td>\n      <td>1.080968</td>\n      <td>-154.8785</td>\n      <td>199.6766</td>\n      <td>-71.39955</td>\n      <td>-168.8650</td>\n      <td>-9.490250</td>\n      <td>63.98888</td>\n      <td>0.000000</td>\n      <td>0.738392</td>\n      <td>0.381271</td>\n    </tr>\n    <tr>\n      <th>196</th>\n      <td>411.2281</td>\n      <td>47930</td>\n      <td>left</td>\n      <td>1</td>\n      <td>-121.9743</td>\n      <td>258.2573</td>\n      <td>-92.56493</td>\n      <td>-45.00289</td>\n      <td>74.893240</td>\n      <td>0.642928</td>\n      <td>1.311271</td>\n      <td>0.481302</td>\n      <td>1.089992</td>\n      <td>-156.0721</td>\n      <td>201.3614</td>\n      <td>-71.48066</td>\n      <td>-171.0412</td>\n      <td>-7.087211</td>\n      <td>64.90680</td>\n      <td>0.000000</td>\n      <td>0.708975</td>\n      <td>0.430401</td>\n    </tr>\n    <tr>\n      <th>197</th>\n      <td>411.2444</td>\n      <td>47932</td>\n      <td>left</td>\n      <td>1</td>\n      <td>-122.7447</td>\n      <td>259.2232</td>\n      <td>-92.58044</td>\n      <td>-43.21984</td>\n      <td>53.114780</td>\n      <td>-4.828522</td>\n      <td>1.301822</td>\n      <td>0.474176</td>\n      <td>1.078938</td>\n      <td>-157.0743</td>\n      <td>202.5940</td>\n      <td>-71.11491</td>\n      <td>-173.6659</td>\n      <td>-5.946049</td>\n      <td>64.94463</td>\n      <td>0.000000</td>\n      <td>0.744805</td>\n      <td>0.512482</td>\n    </tr>\n    <tr>\n      <th>198</th>\n      <td>411.2610</td>\n      <td>47934</td>\n      <td>left</td>\n      <td>1</td>\n      <td>-123.6065</td>\n      <td>260.0752</td>\n      <td>-92.82473</td>\n      <td>-56.48501</td>\n      <td>60.959110</td>\n      <td>-18.548290</td>\n      <td>1.293716</td>\n      <td>0.472095</td>\n      <td>1.062970</td>\n      <td>-157.7702</td>\n      <td>203.4537</td>\n      <td>-71.02069</td>\n      <td>-174.7301</td>\n      <td>-5.783407</td>\n      <td>63.91866</td>\n      <td>0.000000</td>\n      <td>0.778173</td>\n      <td>0.571423</td>\n    </tr>\n    <tr>\n      <th>199</th>\n      <td>411.2776</td>\n      <td>47936</td>\n      <td>left</td>\n      <td>1</td>\n      <td>-124.1802</td>\n      <td>260.6259</td>\n      <td>-93.29468</td>\n      <td>-28.92516</td>\n      <td>23.410430</td>\n      <td>-32.595510</td>\n      <td>1.283691</td>\n      <td>0.465549</td>\n      <td>1.045790</td>\n      <td>-158.2493</td>\n      <td>204.0985</td>\n      <td>-71.05497</td>\n      <td>-175.6140</td>\n      <td>-5.719716</td>\n      <td>62.92717</td>\n      <td>0.000000</td>\n      <td>0.794212</td>\n      <td>0.614138</td>\n    </tr>\n  </tbody>\n</table>\n<p>200 rows × 22 columns</p>\n</div>"
     },
     "execution_count": 286,
     "metadata": {},
     "output_type": "execute_result"
    }
   ]
  },
  {
   "cell_type": "code",
   "execution_count": 287,
   "outputs": [],
   "source": [
    "def transform_time(df):\n",
    "    # adds a column with the second\n",
    "    df[\"start_time\"] = df.time.astype(int) - df.time.min().astype(int)\n",
    "    start = df.start_time.min() + 7 # remove first 7 seconds\n",
    "    first_7_seconds = df[df[\"start_time\"] < start].index\n",
    "    # drop is True to prevent from adding the old indices as a new column\n",
    "    df_new = df.drop(first_7_seconds).reset_index(drop=True)\n",
    "    # reset index (drop = False) adds round time as the left column in the DataFrame\n",
    "    df = df.groupby(\"start_time\").nth([0, 1, 2, 3]).reset_index() # first four instances per second\n",
    "    df.drop(df[df[\"start_time\"] < df[\"start_time\"].min() + 7].index).reset_index(drop=True)\n",
    "    df.drop(\"start_time\", axis=1, inplace=True)\n",
    "    return df"
   ],
   "metadata": {
    "collapsed": false,
    "pycharm": {
     "name": "#%%\n"
    }
   }
  },
  {
   "cell_type": "markdown",
   "source": [
    "alone[\"Time\"] = alone[\"Time\"] - alone[\"Time\"].min()\n",
    "\n",
    "    # reset index (drop = False) adds round time as the left column in the DataFrame\n",
    "    df = df.groupby(\"start_time\").nth([0, 1, 2, 3]).reset_index() # first four instances per second"
   ],
   "metadata": {
    "collapsed": false,
    "pycharm": {
     "name": "#%% md\n"
    }
   }
  },
  {
   "cell_type": "code",
   "execution_count": 180,
   "outputs": [
    {
     "data": {
      "text/plain": "Index(['time', 'frame id', 'hand type', '# hands', 'position x', 'position y',\n       'position z', 'velocity x', 'velocity y', 'velocity z', 'pitch', 'roll',\n       'yaw', 'wrist pos x', 'wrist pos y', 'wrist pos z', 'elbow pos x',\n       'elbow pos y', 'elbow pos z', 'grab strenth', 'grab angle',\n       'pinch strength'],\n      dtype='object')"
     },
     "execution_count": 180,
     "metadata": {},
     "output_type": "execute_result"
    }
   ],
   "source": [
    "# strip removes whitespaces, lower changes the uppercase letters to lowercase\n",
    "sync.columns = sync.columns.str.strip().str.lower()\n",
    "sync.columns"
   ],
   "metadata": {
    "collapsed": false,
    "pycharm": {
     "name": "#%%\n"
    }
   }
  },
  {
   "cell_type": "code",
   "execution_count": 181,
   "outputs": [],
   "source": [
    "# rename columns without spaces\n",
    "sync.columns = sync.columns.str.replace(\" \", \"_\")\n",
    "# change number of hands column name\n",
    "sync.columns = sync.columns.str.replace(\"#_hands\", \"n_hands\")"
   ],
   "metadata": {
    "collapsed": false,
    "pycharm": {
     "name": "#%%\n"
    }
   }
  },
  {
   "cell_type": "code",
   "execution_count": 182,
   "outputs": [
    {
     "data": {
      "text/plain": "array([2, 1], dtype=int64)"
     },
     "execution_count": 182,
     "metadata": {},
     "output_type": "execute_result"
    }
   ],
   "source": [
    "sync.n_hands.unique()"
   ],
   "metadata": {
    "collapsed": false,
    "pycharm": {
     "name": "#%%\n"
    }
   }
  },
  {
   "cell_type": "code",
   "execution_count": 183,
   "outputs": [],
   "source": [
    "index_numbers = sync[sync[\"n_hands\"] == 1].index"
   ],
   "metadata": {
    "collapsed": false,
    "pycharm": {
     "name": "#%%\n"
    }
   }
  },
  {
   "cell_type": "code",
   "execution_count": 184,
   "outputs": [
    {
     "data": {
      "text/plain": "          time  frame_id hand_type  n_hands  position_x  position_y  \\\n0     291.0203     34075     right        2    77.93928    205.6924   \n1     291.0203     34075      left        2  -112.80230    242.7639   \n2     291.0363     34077     right        2    76.83206    203.9094   \n3     291.0363     34077      left        2  -113.04160    242.6686   \n4     291.0529     34079     right        2    74.30998    200.5741   \n...        ...       ...       ...      ...         ...         ...   \n8824  365.9673     42714      left        2  -127.28110    137.6471   \n8825  365.9842     42716     right        2   105.85730    203.8846   \n8826  365.9842     42716      left        2  -126.16660    130.8461   \n8827  366.0006     42718     right        2   105.98730    204.8087   \n8828  366.0006     42718      left        2  -125.08190    124.3706   \n\n      position_z  velocity_x  velocity_y  velocity_z     pitch      roll  \\\n0      21.990890  -31.144050  -14.796920  124.861000  1.654635 -1.457181   \n1       4.668582    5.713323  -61.391260  -21.037960  1.446623  1.405847   \n2      23.754180  -85.668820 -130.091700   97.136500  1.731422 -1.463139   \n3       4.462260  -14.886850   -3.294883   -9.399460  1.455516  1.406081   \n4      25.159250 -148.608600 -171.942100   72.132710  1.791300 -1.455910   \n...          ...         ...         ...         ...       ...       ...   \n8824  -55.658230   60.419170 -402.945800   99.212360  0.491071  1.811933   \n8825  -40.742390   38.903880   73.382320   75.832130  1.629559 -1.190103   \n8826  -54.101770   93.572760 -388.126900   62.157910  0.482603  1.835022   \n8827  -38.943860   -3.431330   47.855800  110.779000  1.689795 -1.196228   \n8828  -53.590630   34.041080 -345.480500   -0.226533  0.467451  1.900445   \n\n           yaw  wrist_pos_x  wrist_pos_y  wrist_pos_z  elbow_pos_x  \\\n0    -2.149903     96.24556    138.30300    12.827740     229.8921   \n1     0.951937   -131.90310    174.49400     5.223116    -257.7061   \n2    -2.436445     95.74135    137.59090    10.118030     231.0989   \n3     0.982829   -132.17560    174.41220     4.426020    -259.8255   \n4    -2.516997     94.72282    135.58960     8.222761     233.5819   \n...        ...          ...          ...          ...          ...   \n8824  0.393753   -157.11800    101.79940    -3.860802    -356.9034   \n8825 -1.712266    137.24730    142.04170   -45.929200     226.1846   \n8826  0.385263   -155.38810     95.57278    -1.611514    -352.0472   \n8827 -1.848437    137.76080    143.67720   -47.348780     232.7063   \n8828  0.330986   -151.16530     89.24838     0.549865    -343.8246   \n\n      elbow_pos_y  elbow_pos_z  grab_strenth  grab_angle  pinch_strength  \n0       -68.10480     65.34229           0.0    0.000000             0.0  \n1       -42.89592     16.99501           0.0    0.000000             0.0  \n2       -67.86788     61.96756           0.0    0.000000             0.0  \n3       -41.99683     14.22190           0.0    0.000000             0.0  \n4       -67.46499     60.28345           0.0    0.000000             0.0  \n...           ...          ...           ...         ...             ...  \n8824     50.44975    136.61840           0.0    0.102073             0.0  \n8825    -67.83814     55.68773           0.0    0.000000             0.0  \n8826     50.69477    145.34620           0.0    0.095909             0.0  \n8827    -63.07462     55.24001           0.0    0.019550             0.0  \n8828     42.99534    152.30110           0.0    0.110599             0.0  \n\n[8604 rows x 22 columns]",
      "text/html": "<div>\n<style scoped>\n    .dataframe tbody tr th:only-of-type {\n        vertical-align: middle;\n    }\n\n    .dataframe tbody tr th {\n        vertical-align: top;\n    }\n\n    .dataframe thead th {\n        text-align: right;\n    }\n</style>\n<table border=\"1\" class=\"dataframe\">\n  <thead>\n    <tr style=\"text-align: right;\">\n      <th></th>\n      <th>time</th>\n      <th>frame_id</th>\n      <th>hand_type</th>\n      <th>n_hands</th>\n      <th>position_x</th>\n      <th>position_y</th>\n      <th>position_z</th>\n      <th>velocity_x</th>\n      <th>velocity_y</th>\n      <th>velocity_z</th>\n      <th>pitch</th>\n      <th>roll</th>\n      <th>yaw</th>\n      <th>wrist_pos_x</th>\n      <th>wrist_pos_y</th>\n      <th>wrist_pos_z</th>\n      <th>elbow_pos_x</th>\n      <th>elbow_pos_y</th>\n      <th>elbow_pos_z</th>\n      <th>grab_strenth</th>\n      <th>grab_angle</th>\n      <th>pinch_strength</th>\n    </tr>\n  </thead>\n  <tbody>\n    <tr>\n      <th>0</th>\n      <td>291.0203</td>\n      <td>34075</td>\n      <td>right</td>\n      <td>2</td>\n      <td>77.93928</td>\n      <td>205.6924</td>\n      <td>21.990890</td>\n      <td>-31.144050</td>\n      <td>-14.796920</td>\n      <td>124.861000</td>\n      <td>1.654635</td>\n      <td>-1.457181</td>\n      <td>-2.149903</td>\n      <td>96.24556</td>\n      <td>138.30300</td>\n      <td>12.827740</td>\n      <td>229.8921</td>\n      <td>-68.10480</td>\n      <td>65.34229</td>\n      <td>0.0</td>\n      <td>0.000000</td>\n      <td>0.0</td>\n    </tr>\n    <tr>\n      <th>1</th>\n      <td>291.0203</td>\n      <td>34075</td>\n      <td>left</td>\n      <td>2</td>\n      <td>-112.80230</td>\n      <td>242.7639</td>\n      <td>4.668582</td>\n      <td>5.713323</td>\n      <td>-61.391260</td>\n      <td>-21.037960</td>\n      <td>1.446623</td>\n      <td>1.405847</td>\n      <td>0.951937</td>\n      <td>-131.90310</td>\n      <td>174.49400</td>\n      <td>5.223116</td>\n      <td>-257.7061</td>\n      <td>-42.89592</td>\n      <td>16.99501</td>\n      <td>0.0</td>\n      <td>0.000000</td>\n      <td>0.0</td>\n    </tr>\n    <tr>\n      <th>2</th>\n      <td>291.0363</td>\n      <td>34077</td>\n      <td>right</td>\n      <td>2</td>\n      <td>76.83206</td>\n      <td>203.9094</td>\n      <td>23.754180</td>\n      <td>-85.668820</td>\n      <td>-130.091700</td>\n      <td>97.136500</td>\n      <td>1.731422</td>\n      <td>-1.463139</td>\n      <td>-2.436445</td>\n      <td>95.74135</td>\n      <td>137.59090</td>\n      <td>10.118030</td>\n      <td>231.0989</td>\n      <td>-67.86788</td>\n      <td>61.96756</td>\n      <td>0.0</td>\n      <td>0.000000</td>\n      <td>0.0</td>\n    </tr>\n    <tr>\n      <th>3</th>\n      <td>291.0363</td>\n      <td>34077</td>\n      <td>left</td>\n      <td>2</td>\n      <td>-113.04160</td>\n      <td>242.6686</td>\n      <td>4.462260</td>\n      <td>-14.886850</td>\n      <td>-3.294883</td>\n      <td>-9.399460</td>\n      <td>1.455516</td>\n      <td>1.406081</td>\n      <td>0.982829</td>\n      <td>-132.17560</td>\n      <td>174.41220</td>\n      <td>4.426020</td>\n      <td>-259.8255</td>\n      <td>-41.99683</td>\n      <td>14.22190</td>\n      <td>0.0</td>\n      <td>0.000000</td>\n      <td>0.0</td>\n    </tr>\n    <tr>\n      <th>4</th>\n      <td>291.0529</td>\n      <td>34079</td>\n      <td>right</td>\n      <td>2</td>\n      <td>74.30998</td>\n      <td>200.5741</td>\n      <td>25.159250</td>\n      <td>-148.608600</td>\n      <td>-171.942100</td>\n      <td>72.132710</td>\n      <td>1.791300</td>\n      <td>-1.455910</td>\n      <td>-2.516997</td>\n      <td>94.72282</td>\n      <td>135.58960</td>\n      <td>8.222761</td>\n      <td>233.5819</td>\n      <td>-67.46499</td>\n      <td>60.28345</td>\n      <td>0.0</td>\n      <td>0.000000</td>\n      <td>0.0</td>\n    </tr>\n    <tr>\n      <th>...</th>\n      <td>...</td>\n      <td>...</td>\n      <td>...</td>\n      <td>...</td>\n      <td>...</td>\n      <td>...</td>\n      <td>...</td>\n      <td>...</td>\n      <td>...</td>\n      <td>...</td>\n      <td>...</td>\n      <td>...</td>\n      <td>...</td>\n      <td>...</td>\n      <td>...</td>\n      <td>...</td>\n      <td>...</td>\n      <td>...</td>\n      <td>...</td>\n      <td>...</td>\n      <td>...</td>\n      <td>...</td>\n    </tr>\n    <tr>\n      <th>8824</th>\n      <td>365.9673</td>\n      <td>42714</td>\n      <td>left</td>\n      <td>2</td>\n      <td>-127.28110</td>\n      <td>137.6471</td>\n      <td>-55.658230</td>\n      <td>60.419170</td>\n      <td>-402.945800</td>\n      <td>99.212360</td>\n      <td>0.491071</td>\n      <td>1.811933</td>\n      <td>0.393753</td>\n      <td>-157.11800</td>\n      <td>101.79940</td>\n      <td>-3.860802</td>\n      <td>-356.9034</td>\n      <td>50.44975</td>\n      <td>136.61840</td>\n      <td>0.0</td>\n      <td>0.102073</td>\n      <td>0.0</td>\n    </tr>\n    <tr>\n      <th>8825</th>\n      <td>365.9842</td>\n      <td>42716</td>\n      <td>right</td>\n      <td>2</td>\n      <td>105.85730</td>\n      <td>203.8846</td>\n      <td>-40.742390</td>\n      <td>38.903880</td>\n      <td>73.382320</td>\n      <td>75.832130</td>\n      <td>1.629559</td>\n      <td>-1.190103</td>\n      <td>-1.712266</td>\n      <td>137.24730</td>\n      <td>142.04170</td>\n      <td>-45.929200</td>\n      <td>226.1846</td>\n      <td>-67.83814</td>\n      <td>55.68773</td>\n      <td>0.0</td>\n      <td>0.000000</td>\n      <td>0.0</td>\n    </tr>\n    <tr>\n      <th>8826</th>\n      <td>365.9842</td>\n      <td>42716</td>\n      <td>left</td>\n      <td>2</td>\n      <td>-126.16660</td>\n      <td>130.8461</td>\n      <td>-54.101770</td>\n      <td>93.572760</td>\n      <td>-388.126900</td>\n      <td>62.157910</td>\n      <td>0.482603</td>\n      <td>1.835022</td>\n      <td>0.385263</td>\n      <td>-155.38810</td>\n      <td>95.57278</td>\n      <td>-1.611514</td>\n      <td>-352.0472</td>\n      <td>50.69477</td>\n      <td>145.34620</td>\n      <td>0.0</td>\n      <td>0.095909</td>\n      <td>0.0</td>\n    </tr>\n    <tr>\n      <th>8827</th>\n      <td>366.0006</td>\n      <td>42718</td>\n      <td>right</td>\n      <td>2</td>\n      <td>105.98730</td>\n      <td>204.8087</td>\n      <td>-38.943860</td>\n      <td>-3.431330</td>\n      <td>47.855800</td>\n      <td>110.779000</td>\n      <td>1.689795</td>\n      <td>-1.196228</td>\n      <td>-1.848437</td>\n      <td>137.76080</td>\n      <td>143.67720</td>\n      <td>-47.348780</td>\n      <td>232.7063</td>\n      <td>-63.07462</td>\n      <td>55.24001</td>\n      <td>0.0</td>\n      <td>0.019550</td>\n      <td>0.0</td>\n    </tr>\n    <tr>\n      <th>8828</th>\n      <td>366.0006</td>\n      <td>42718</td>\n      <td>left</td>\n      <td>2</td>\n      <td>-125.08190</td>\n      <td>124.3706</td>\n      <td>-53.590630</td>\n      <td>34.041080</td>\n      <td>-345.480500</td>\n      <td>-0.226533</td>\n      <td>0.467451</td>\n      <td>1.900445</td>\n      <td>0.330986</td>\n      <td>-151.16530</td>\n      <td>89.24838</td>\n      <td>0.549865</td>\n      <td>-343.8246</td>\n      <td>42.99534</td>\n      <td>152.30110</td>\n      <td>0.0</td>\n      <td>0.110599</td>\n      <td>0.0</td>\n    </tr>\n  </tbody>\n</table>\n<p>8604 rows × 22 columns</p>\n</div>"
     },
     "execution_count": 184,
     "metadata": {},
     "output_type": "execute_result"
    }
   ],
   "source": [
    "sync.drop(index_numbers, inplace=False)"
   ],
   "metadata": {
    "collapsed": false,
    "pycharm": {
     "name": "#%%\n"
    }
   }
  },
  {
   "cell_type": "code",
   "execution_count": 185,
   "outputs": [],
   "source": [
    "sync.time = sync.time.round(2)"
   ],
   "metadata": {
    "collapsed": false,
    "pycharm": {
     "name": "#%%\n"
    }
   }
  },
  {
   "cell_type": "code",
   "execution_count": 186,
   "outputs": [
    {
     "data": {
      "text/plain": "                  frame_id  n_hands  position_x  position_y  position_z  \\\ntime   hand_type                                                          \n291.02 left        34075.0      2.0  -112.80230    242.7639    4.668582   \n       right       34075.0      2.0    77.93928    205.6924   21.990890   \n291.04 left        34077.0      2.0  -113.04160    242.6686    4.462260   \n       right       34077.0      2.0    76.83206    203.9094   23.754180   \n291.05 left        34079.0      2.0  -113.45420    242.7294    4.221472   \n...                    ...      ...         ...         ...         ...   \n365.97 right       42714.0      2.0   104.87810    201.8934  -42.092990   \n365.98 left        42716.0      2.0  -126.16660    130.8461  -54.101770   \n       right       42716.0      2.0   105.85730    203.8846  -40.742390   \n366.00 left        42718.0      2.0  -125.08190    124.3706  -53.590630   \n       right       42718.0      2.0   105.98730    204.8087  -38.943860   \n\n                  velocity_x  velocity_y  velocity_z     pitch      roll  \\\ntime   hand_type                                                           \n291.02 left         5.713323  -61.391260  -21.037960  1.446623  1.405847   \n       right      -31.144050  -14.796920  124.861000  1.654635 -1.457181   \n291.04 left       -14.886850   -3.294883   -9.399460  1.455516  1.406081   \n       right      -85.668820 -130.091700   97.136500  1.731422 -1.463139   \n291.05 left       -26.589320    4.308950  -12.123590  1.461161  1.409692   \n...                      ...         ...         ...       ...       ...   \n365.97 right       30.958710  105.118200  116.192400  1.562618 -1.181244   \n365.98 left        93.572760 -388.126900   62.157910  0.482603  1.835022   \n       right       38.903880   73.382320   75.832130  1.629559 -1.190103   \n366.00 left        34.041080 -345.480500   -0.226533  0.467451  1.900445   \n       right       -3.431330   47.855800  110.779000  1.689795 -1.196228   \n\n                       yaw  wrist_pos_x  wrist_pos_y  wrist_pos_z  \\\ntime   hand_type                                                    \n291.02 left       0.951937   -131.90310    174.49400     5.223116   \n       right     -2.149903     96.24556    138.30300    12.827740   \n291.04 left       0.982829   -132.17560    174.41220     4.426020   \n       right     -2.436445     95.74135    137.59090    10.118030   \n291.05 left       0.994170   -132.38580    174.42370     3.821367   \n...                    ...          ...          ...          ...   \n365.97 right     -1.550808    136.04060    139.59430   -43.757560   \n365.98 left       0.385263   -155.38810     95.57278    -1.611514   \n       right     -1.712266    137.24730    142.04170   -45.929200   \n366.00 left       0.330986   -151.16530     89.24838     0.549865   \n       right     -1.848437    137.76080    143.67720   -47.348780   \n\n                  elbow_pos_x  elbow_pos_y  elbow_pos_z  grab_strenth  \\\ntime   hand_type                                                        \n291.02 left         -257.7061    -42.89592     16.99501           0.0   \n       right         229.8921    -68.10480     65.34229           0.0   \n291.04 left         -259.8255    -41.99683     14.22190           0.0   \n       right         231.0989    -67.86788     61.96756           0.0   \n291.05 left         -260.6950    -41.63982     12.57686           0.0   \n...                       ...          ...          ...           ...   \n365.97 right         226.5645    -68.98385     59.13079           0.0   \n365.98 left         -352.0472     50.69477    145.34620           0.0   \n       right         226.1846    -67.83814     55.68773           0.0   \n366.00 left         -343.8246     42.99534    152.30110           0.0   \n       right         232.7063    -63.07462     55.24001           0.0   \n\n                  grab_angle  pinch_strength  \ntime   hand_type                              \n291.02 left         0.000000             0.0  \n       right        0.000000             0.0  \n291.04 left         0.000000             0.0  \n       right        0.000000             0.0  \n291.05 left         0.000000             0.0  \n...                      ...             ...  \n365.97 right        0.000000             0.0  \n365.98 left         0.095909             0.0  \n       right        0.000000             0.0  \n366.00 left         0.110599             0.0  \n       right        0.019550             0.0  \n\n[8829 rows x 20 columns]",
      "text/html": "<div>\n<style scoped>\n    .dataframe tbody tr th:only-of-type {\n        vertical-align: middle;\n    }\n\n    .dataframe tbody tr th {\n        vertical-align: top;\n    }\n\n    .dataframe thead th {\n        text-align: right;\n    }\n</style>\n<table border=\"1\" class=\"dataframe\">\n  <thead>\n    <tr style=\"text-align: right;\">\n      <th></th>\n      <th></th>\n      <th>frame_id</th>\n      <th>n_hands</th>\n      <th>position_x</th>\n      <th>position_y</th>\n      <th>position_z</th>\n      <th>velocity_x</th>\n      <th>velocity_y</th>\n      <th>velocity_z</th>\n      <th>pitch</th>\n      <th>roll</th>\n      <th>yaw</th>\n      <th>wrist_pos_x</th>\n      <th>wrist_pos_y</th>\n      <th>wrist_pos_z</th>\n      <th>elbow_pos_x</th>\n      <th>elbow_pos_y</th>\n      <th>elbow_pos_z</th>\n      <th>grab_strenth</th>\n      <th>grab_angle</th>\n      <th>pinch_strength</th>\n    </tr>\n    <tr>\n      <th>time</th>\n      <th>hand_type</th>\n      <th></th>\n      <th></th>\n      <th></th>\n      <th></th>\n      <th></th>\n      <th></th>\n      <th></th>\n      <th></th>\n      <th></th>\n      <th></th>\n      <th></th>\n      <th></th>\n      <th></th>\n      <th></th>\n      <th></th>\n      <th></th>\n      <th></th>\n      <th></th>\n      <th></th>\n      <th></th>\n    </tr>\n  </thead>\n  <tbody>\n    <tr>\n      <th rowspan=\"2\" valign=\"top\">291.02</th>\n      <th>left</th>\n      <td>34075.0</td>\n      <td>2.0</td>\n      <td>-112.80230</td>\n      <td>242.7639</td>\n      <td>4.668582</td>\n      <td>5.713323</td>\n      <td>-61.391260</td>\n      <td>-21.037960</td>\n      <td>1.446623</td>\n      <td>1.405847</td>\n      <td>0.951937</td>\n      <td>-131.90310</td>\n      <td>174.49400</td>\n      <td>5.223116</td>\n      <td>-257.7061</td>\n      <td>-42.89592</td>\n      <td>16.99501</td>\n      <td>0.0</td>\n      <td>0.000000</td>\n      <td>0.0</td>\n    </tr>\n    <tr>\n      <th>right</th>\n      <td>34075.0</td>\n      <td>2.0</td>\n      <td>77.93928</td>\n      <td>205.6924</td>\n      <td>21.990890</td>\n      <td>-31.144050</td>\n      <td>-14.796920</td>\n      <td>124.861000</td>\n      <td>1.654635</td>\n      <td>-1.457181</td>\n      <td>-2.149903</td>\n      <td>96.24556</td>\n      <td>138.30300</td>\n      <td>12.827740</td>\n      <td>229.8921</td>\n      <td>-68.10480</td>\n      <td>65.34229</td>\n      <td>0.0</td>\n      <td>0.000000</td>\n      <td>0.0</td>\n    </tr>\n    <tr>\n      <th rowspan=\"2\" valign=\"top\">291.04</th>\n      <th>left</th>\n      <td>34077.0</td>\n      <td>2.0</td>\n      <td>-113.04160</td>\n      <td>242.6686</td>\n      <td>4.462260</td>\n      <td>-14.886850</td>\n      <td>-3.294883</td>\n      <td>-9.399460</td>\n      <td>1.455516</td>\n      <td>1.406081</td>\n      <td>0.982829</td>\n      <td>-132.17560</td>\n      <td>174.41220</td>\n      <td>4.426020</td>\n      <td>-259.8255</td>\n      <td>-41.99683</td>\n      <td>14.22190</td>\n      <td>0.0</td>\n      <td>0.000000</td>\n      <td>0.0</td>\n    </tr>\n    <tr>\n      <th>right</th>\n      <td>34077.0</td>\n      <td>2.0</td>\n      <td>76.83206</td>\n      <td>203.9094</td>\n      <td>23.754180</td>\n      <td>-85.668820</td>\n      <td>-130.091700</td>\n      <td>97.136500</td>\n      <td>1.731422</td>\n      <td>-1.463139</td>\n      <td>-2.436445</td>\n      <td>95.74135</td>\n      <td>137.59090</td>\n      <td>10.118030</td>\n      <td>231.0989</td>\n      <td>-67.86788</td>\n      <td>61.96756</td>\n      <td>0.0</td>\n      <td>0.000000</td>\n      <td>0.0</td>\n    </tr>\n    <tr>\n      <th>291.05</th>\n      <th>left</th>\n      <td>34079.0</td>\n      <td>2.0</td>\n      <td>-113.45420</td>\n      <td>242.7294</td>\n      <td>4.221472</td>\n      <td>-26.589320</td>\n      <td>4.308950</td>\n      <td>-12.123590</td>\n      <td>1.461161</td>\n      <td>1.409692</td>\n      <td>0.994170</td>\n      <td>-132.38580</td>\n      <td>174.42370</td>\n      <td>3.821367</td>\n      <td>-260.6950</td>\n      <td>-41.63982</td>\n      <td>12.57686</td>\n      <td>0.0</td>\n      <td>0.000000</td>\n      <td>0.0</td>\n    </tr>\n    <tr>\n      <th>...</th>\n      <th>...</th>\n      <td>...</td>\n      <td>...</td>\n      <td>...</td>\n      <td>...</td>\n      <td>...</td>\n      <td>...</td>\n      <td>...</td>\n      <td>...</td>\n      <td>...</td>\n      <td>...</td>\n      <td>...</td>\n      <td>...</td>\n      <td>...</td>\n      <td>...</td>\n      <td>...</td>\n      <td>...</td>\n      <td>...</td>\n      <td>...</td>\n      <td>...</td>\n      <td>...</td>\n    </tr>\n    <tr>\n      <th>365.97</th>\n      <th>right</th>\n      <td>42714.0</td>\n      <td>2.0</td>\n      <td>104.87810</td>\n      <td>201.8934</td>\n      <td>-42.092990</td>\n      <td>30.958710</td>\n      <td>105.118200</td>\n      <td>116.192400</td>\n      <td>1.562618</td>\n      <td>-1.181244</td>\n      <td>-1.550808</td>\n      <td>136.04060</td>\n      <td>139.59430</td>\n      <td>-43.757560</td>\n      <td>226.5645</td>\n      <td>-68.98385</td>\n      <td>59.13079</td>\n      <td>0.0</td>\n      <td>0.000000</td>\n      <td>0.0</td>\n    </tr>\n    <tr>\n      <th rowspan=\"2\" valign=\"top\">365.98</th>\n      <th>left</th>\n      <td>42716.0</td>\n      <td>2.0</td>\n      <td>-126.16660</td>\n      <td>130.8461</td>\n      <td>-54.101770</td>\n      <td>93.572760</td>\n      <td>-388.126900</td>\n      <td>62.157910</td>\n      <td>0.482603</td>\n      <td>1.835022</td>\n      <td>0.385263</td>\n      <td>-155.38810</td>\n      <td>95.57278</td>\n      <td>-1.611514</td>\n      <td>-352.0472</td>\n      <td>50.69477</td>\n      <td>145.34620</td>\n      <td>0.0</td>\n      <td>0.095909</td>\n      <td>0.0</td>\n    </tr>\n    <tr>\n      <th>right</th>\n      <td>42716.0</td>\n      <td>2.0</td>\n      <td>105.85730</td>\n      <td>203.8846</td>\n      <td>-40.742390</td>\n      <td>38.903880</td>\n      <td>73.382320</td>\n      <td>75.832130</td>\n      <td>1.629559</td>\n      <td>-1.190103</td>\n      <td>-1.712266</td>\n      <td>137.24730</td>\n      <td>142.04170</td>\n      <td>-45.929200</td>\n      <td>226.1846</td>\n      <td>-67.83814</td>\n      <td>55.68773</td>\n      <td>0.0</td>\n      <td>0.000000</td>\n      <td>0.0</td>\n    </tr>\n    <tr>\n      <th rowspan=\"2\" valign=\"top\">366.00</th>\n      <th>left</th>\n      <td>42718.0</td>\n      <td>2.0</td>\n      <td>-125.08190</td>\n      <td>124.3706</td>\n      <td>-53.590630</td>\n      <td>34.041080</td>\n      <td>-345.480500</td>\n      <td>-0.226533</td>\n      <td>0.467451</td>\n      <td>1.900445</td>\n      <td>0.330986</td>\n      <td>-151.16530</td>\n      <td>89.24838</td>\n      <td>0.549865</td>\n      <td>-343.8246</td>\n      <td>42.99534</td>\n      <td>152.30110</td>\n      <td>0.0</td>\n      <td>0.110599</td>\n      <td>0.0</td>\n    </tr>\n    <tr>\n      <th>right</th>\n      <td>42718.0</td>\n      <td>2.0</td>\n      <td>105.98730</td>\n      <td>204.8087</td>\n      <td>-38.943860</td>\n      <td>-3.431330</td>\n      <td>47.855800</td>\n      <td>110.779000</td>\n      <td>1.689795</td>\n      <td>-1.196228</td>\n      <td>-1.848437</td>\n      <td>137.76080</td>\n      <td>143.67720</td>\n      <td>-47.348780</td>\n      <td>232.7063</td>\n      <td>-63.07462</td>\n      <td>55.24001</td>\n      <td>0.0</td>\n      <td>0.019550</td>\n      <td>0.0</td>\n    </tr>\n  </tbody>\n</table>\n<p>8829 rows × 20 columns</p>\n</div>"
     },
     "execution_count": 186,
     "metadata": {},
     "output_type": "execute_result"
    }
   ],
   "source": [
    "sync.groupby([\"time\", \"hand_type\"]).mean()"
   ],
   "metadata": {
    "collapsed": false,
    "pycharm": {
     "name": "#%%\n"
    }
   }
  },
  {
   "cell_type": "code",
   "execution_count": 187,
   "outputs": [
    {
     "data": {
      "text/plain": "     time  frame_id hand_type  n_hands  position_x  position_y  position_z  \\\n0  291.02     34075     right        2    77.93928    205.6924   21.990890   \n1  291.02     34075      left        2  -112.80230    242.7639    4.668582   \n2  291.04     34077     right        2    76.83206    203.9094   23.754180   \n3  291.04     34077      left        2  -113.04160    242.6686    4.462260   \n4  291.05     34079     right        2    74.30998    200.5741   25.159250   \n\n   velocity_x  velocity_y  velocity_z     pitch      roll       yaw  \\\n0  -31.144050  -14.796920   124.86100  1.654635 -1.457181 -2.149903   \n1    5.713323  -61.391260   -21.03796  1.446623  1.405847  0.951937   \n2  -85.668820 -130.091700    97.13650  1.731422 -1.463139 -2.436445   \n3  -14.886850   -3.294883    -9.39946  1.455516  1.406081  0.982829   \n4 -148.608600 -171.942100    72.13271  1.791300 -1.455910 -2.516997   \n\n   wrist_pos_x  wrist_pos_y  wrist_pos_z  elbow_pos_x  elbow_pos_y  \\\n0     96.24556     138.3030    12.827740     229.8921    -68.10480   \n1   -131.90310     174.4940     5.223116    -257.7061    -42.89592   \n2     95.74135     137.5909    10.118030     231.0989    -67.86788   \n3   -132.17560     174.4122     4.426020    -259.8255    -41.99683   \n4     94.72282     135.5896     8.222761     233.5819    -67.46499   \n\n   elbow_pos_z  grab_strenth  grab_angle  pinch_strength  \n0     65.34229           0.0         0.0             0.0  \n1     16.99501           0.0         0.0             0.0  \n2     61.96756           0.0         0.0             0.0  \n3     14.22190           0.0         0.0             0.0  \n4     60.28345           0.0         0.0             0.0  ",
      "text/html": "<div>\n<style scoped>\n    .dataframe tbody tr th:only-of-type {\n        vertical-align: middle;\n    }\n\n    .dataframe tbody tr th {\n        vertical-align: top;\n    }\n\n    .dataframe thead th {\n        text-align: right;\n    }\n</style>\n<table border=\"1\" class=\"dataframe\">\n  <thead>\n    <tr style=\"text-align: right;\">\n      <th></th>\n      <th>time</th>\n      <th>frame_id</th>\n      <th>hand_type</th>\n      <th>n_hands</th>\n      <th>position_x</th>\n      <th>position_y</th>\n      <th>position_z</th>\n      <th>velocity_x</th>\n      <th>velocity_y</th>\n      <th>velocity_z</th>\n      <th>pitch</th>\n      <th>roll</th>\n      <th>yaw</th>\n      <th>wrist_pos_x</th>\n      <th>wrist_pos_y</th>\n      <th>wrist_pos_z</th>\n      <th>elbow_pos_x</th>\n      <th>elbow_pos_y</th>\n      <th>elbow_pos_z</th>\n      <th>grab_strenth</th>\n      <th>grab_angle</th>\n      <th>pinch_strength</th>\n    </tr>\n  </thead>\n  <tbody>\n    <tr>\n      <th>0</th>\n      <td>291.02</td>\n      <td>34075</td>\n      <td>right</td>\n      <td>2</td>\n      <td>77.93928</td>\n      <td>205.6924</td>\n      <td>21.990890</td>\n      <td>-31.144050</td>\n      <td>-14.796920</td>\n      <td>124.86100</td>\n      <td>1.654635</td>\n      <td>-1.457181</td>\n      <td>-2.149903</td>\n      <td>96.24556</td>\n      <td>138.3030</td>\n      <td>12.827740</td>\n      <td>229.8921</td>\n      <td>-68.10480</td>\n      <td>65.34229</td>\n      <td>0.0</td>\n      <td>0.0</td>\n      <td>0.0</td>\n    </tr>\n    <tr>\n      <th>1</th>\n      <td>291.02</td>\n      <td>34075</td>\n      <td>left</td>\n      <td>2</td>\n      <td>-112.80230</td>\n      <td>242.7639</td>\n      <td>4.668582</td>\n      <td>5.713323</td>\n      <td>-61.391260</td>\n      <td>-21.03796</td>\n      <td>1.446623</td>\n      <td>1.405847</td>\n      <td>0.951937</td>\n      <td>-131.90310</td>\n      <td>174.4940</td>\n      <td>5.223116</td>\n      <td>-257.7061</td>\n      <td>-42.89592</td>\n      <td>16.99501</td>\n      <td>0.0</td>\n      <td>0.0</td>\n      <td>0.0</td>\n    </tr>\n    <tr>\n      <th>2</th>\n      <td>291.04</td>\n      <td>34077</td>\n      <td>right</td>\n      <td>2</td>\n      <td>76.83206</td>\n      <td>203.9094</td>\n      <td>23.754180</td>\n      <td>-85.668820</td>\n      <td>-130.091700</td>\n      <td>97.13650</td>\n      <td>1.731422</td>\n      <td>-1.463139</td>\n      <td>-2.436445</td>\n      <td>95.74135</td>\n      <td>137.5909</td>\n      <td>10.118030</td>\n      <td>231.0989</td>\n      <td>-67.86788</td>\n      <td>61.96756</td>\n      <td>0.0</td>\n      <td>0.0</td>\n      <td>0.0</td>\n    </tr>\n    <tr>\n      <th>3</th>\n      <td>291.04</td>\n      <td>34077</td>\n      <td>left</td>\n      <td>2</td>\n      <td>-113.04160</td>\n      <td>242.6686</td>\n      <td>4.462260</td>\n      <td>-14.886850</td>\n      <td>-3.294883</td>\n      <td>-9.39946</td>\n      <td>1.455516</td>\n      <td>1.406081</td>\n      <td>0.982829</td>\n      <td>-132.17560</td>\n      <td>174.4122</td>\n      <td>4.426020</td>\n      <td>-259.8255</td>\n      <td>-41.99683</td>\n      <td>14.22190</td>\n      <td>0.0</td>\n      <td>0.0</td>\n      <td>0.0</td>\n    </tr>\n    <tr>\n      <th>4</th>\n      <td>291.05</td>\n      <td>34079</td>\n      <td>right</td>\n      <td>2</td>\n      <td>74.30998</td>\n      <td>200.5741</td>\n      <td>25.159250</td>\n      <td>-148.608600</td>\n      <td>-171.942100</td>\n      <td>72.13271</td>\n      <td>1.791300</td>\n      <td>-1.455910</td>\n      <td>-2.516997</td>\n      <td>94.72282</td>\n      <td>135.5896</td>\n      <td>8.222761</td>\n      <td>233.5819</td>\n      <td>-67.46499</td>\n      <td>60.28345</td>\n      <td>0.0</td>\n      <td>0.0</td>\n      <td>0.0</td>\n    </tr>\n  </tbody>\n</table>\n</div>"
     },
     "execution_count": 187,
     "metadata": {},
     "output_type": "execute_result"
    }
   ],
   "source": [
    "sync.head()"
   ],
   "metadata": {
    "collapsed": false,
    "pycharm": {
     "name": "#%%\n"
    }
   }
  },
  {
   "cell_type": "code",
   "execution_count": 188,
   "outputs": [],
   "source": [
    "# sync.time = sync.time.agg(lambda x: x-427)"
   ],
   "metadata": {
    "collapsed": false,
    "pycharm": {
     "name": "#%%\n"
    }
   }
  },
  {
   "cell_type": "code",
   "execution_count": 189,
   "outputs": [],
   "source": [
    "# sync.set_index(\"Time\", drop=True, inplace=False)"
   ],
   "metadata": {
    "collapsed": false,
    "pycharm": {
     "name": "#%%\n"
    }
   }
  },
  {
   "cell_type": "code",
   "execution_count": 190,
   "outputs": [],
   "source": [
    "left = sync.groupby(\"hand_type\").get_group(\"left\").drop([\"hand_type\", \"n_hands\"], axis=1)\n",
    "right = sync.groupby(\"hand_type\").get_group(\"right\").drop([\"hand_type\", \"n_hands\"], axis=1)"
   ],
   "metadata": {
    "collapsed": false,
    "pycharm": {
     "name": "#%%\n"
    }
   }
  },
  {
   "cell_type": "code",
   "execution_count": 191,
   "outputs": [],
   "source": [
    "keep_same = {\"time\", \"frame_id\"}\n",
    "left.columns = left.columns.map(lambda x: x if x in keep_same else x + \"_left\")\n",
    "right.columns = right.columns.map(lambda x: x if x in keep_same else x + \"_right\")"
   ],
   "metadata": {
    "collapsed": false,
    "pycharm": {
     "name": "#%%\n"
    }
   }
  },
  {
   "cell_type": "code",
   "execution_count": 192,
   "outputs": [
    {
     "data": {
      "text/plain": "        time  frame_id  position_x_left  position_y_left  position_z_left  \\\n0     291.02     34075        -112.8023         242.7639         4.668582   \n1     291.04     34077        -113.0416         242.6686         4.462260   \n2     291.05     34079        -113.4542         242.7294         4.221472   \n3     291.07     34080        -113.7288         242.7941         4.114124   \n4     291.09     34082        -113.8567         242.1508         4.034664   \n...      ...       ...              ...              ...              ...   \n4522  346.02     40417              NaN              NaN              NaN   \n4523  346.04     40419              NaN              NaN              NaN   \n4524  346.05     40421              NaN              NaN              NaN   \n4525  346.07     40423              NaN              NaN              NaN   \n4526  346.09     40425              NaN              NaN              NaN   \n\n      velocity_x_left  velocity_y_left  velocity_z_left  pitch_left  \\\n0            5.713323       -61.391260       -21.037960    1.446623   \n1          -14.886850        -3.294883        -9.399460    1.455516   \n2          -26.589320         4.308950       -12.123590    1.461161   \n3          -31.287990         7.372077       -12.229150    1.462790   \n4           -0.001188       -64.188040         6.096469    1.460808   \n...               ...              ...              ...         ...   \n4522              NaN              NaN              NaN         NaN   \n4523              NaN              NaN              NaN         NaN   \n4524              NaN              NaN              NaN         NaN   \n4525              NaN              NaN              NaN         NaN   \n4526              NaN              NaN              NaN         NaN   \n\n      roll_left  yaw_left  wrist_pos_x_left  wrist_pos_y_left  \\\n0      1.405847  0.951937         -131.9031          174.4940   \n1      1.406081  0.982829         -132.1756          174.4122   \n2      1.409692  0.994170         -132.3858          174.4237   \n3      1.412944  0.991204         -132.4646          174.4369   \n4      1.417862  0.969437         -132.3376          173.7254   \n...         ...       ...               ...               ...   \n4522        NaN       NaN               NaN               NaN   \n4523        NaN       NaN               NaN               NaN   \n4524        NaN       NaN               NaN               NaN   \n4525        NaN       NaN               NaN               NaN   \n4526        NaN       NaN               NaN               NaN   \n\n      wrist_pos_z_left  elbow_pos_x_left  elbow_pos_y_left  elbow_pos_z_left  \\\n0             5.223116         -257.7061         -42.89592          16.99501   \n1             4.426020         -259.8255         -41.99683          14.22190   \n2             3.821367         -260.6950         -41.63982          12.57686   \n3             3.603024         -260.7704         -41.65061          11.79549   \n4             3.587554         -261.2905         -42.02287          10.45622   \n...                ...               ...               ...               ...   \n4522               NaN               NaN               NaN               NaN   \n4523               NaN               NaN               NaN               NaN   \n4524               NaN               NaN               NaN               NaN   \n4525               NaN               NaN               NaN               NaN   \n4526               NaN               NaN               NaN               NaN   \n\n      grab_strenth_left  grab_angle_left  pinch_strength_left  \\\n0                   0.0              0.0                  0.0   \n1                   0.0              0.0                  0.0   \n2                   0.0              0.0                  0.0   \n3                   0.0              0.0                  0.0   \n4                   0.0              0.0                  0.0   \n...                 ...              ...                  ...   \n4522                NaN              NaN                  NaN   \n4523                NaN              NaN                  NaN   \n4524                NaN              NaN                  NaN   \n4525                NaN              NaN                  NaN   \n4526                NaN              NaN                  NaN   \n\n      position_x_right  position_y_right  position_z_right  velocity_x_right  \\\n0             77.93928          205.6924          21.99089         -31.14405   \n1             76.83206          203.9094          23.75418         -85.66882   \n2             74.30998          200.5741          25.15925        -148.60860   \n3             73.20616          199.4709          25.63680        -125.74880   \n4             71.33848          197.9209          26.41051         -93.97961   \n...                ...               ...               ...               ...   \n4522        -190.69900          134.7367         -73.96497          27.04534   \n4523        -192.53520          134.0741         -73.39403        -122.46460   \n4524          95.85992          201.3093         -20.35820         199.05810   \n4525          98.28775          200.4698         -15.60555         128.41210   \n4526         100.15700          200.8087         -11.22832          99.27737   \n\n      velocity_y_right  velocity_z_right  pitch_right  roll_right  yaw_right  \\\n0           -14.796920         124.86100     1.654635   -1.457181  -2.149903   \n1          -130.091700          97.13650     1.731422   -1.463139  -2.436445   \n2          -171.942100          72.13271     1.791300   -1.455910  -2.516997   \n3          -125.683000          54.40320     1.813066   -1.450552  -2.534261   \n4           -81.535020          42.03247     1.845923   -1.438699  -2.546650   \n...                ...               ...          ...         ...        ...   \n4522       -178.467600         107.08410    -1.693777    0.296669  -1.612239   \n4523        -33.960430          30.01225    -1.657707    0.301389  -1.599872   \n4524       -399.482500         193.24220     0.949080   -0.916772  -0.705287   \n4525         -3.501244         306.41170     0.965241   -0.918798  -0.715762   \n4526        -11.209670         249.08760     0.985984   -0.944554  -0.696105   \n\n      wrist_pos_x_right  wrist_pos_y_right  wrist_pos_z_right  \\\n0              96.24556           138.3030          12.827740   \n1              95.74135           137.5909          10.118030   \n2              94.72282           135.5896           8.222761   \n3              94.22473           135.0637           7.473455   \n4              93.46699           134.5095           6.377122   \n...                 ...                ...                ...   \n4522         -125.74840           159.4046         -79.341040   \n4523         -127.51570           158.6437         -77.671530   \n4524          133.65540           150.2853          10.641900   \n4525          136.99070           148.4237          12.684130   \n4526          137.50620           147.3755          16.307610   \n\n      elbow_pos_x_right  elbow_pos_y_right  elbow_pos_z_right  \\\n0              229.8921          -68.10480           65.34229   \n1              231.0989          -67.86788           61.96756   \n2              233.5819          -67.46499           60.28345   \n3              235.3536          -66.46627           59.35478   \n4              238.4372          -64.67204           56.71305   \n...                 ...                ...                ...   \n4522           122.0018          125.06270          -65.98660   \n4523           119.4800          119.87770          -62.56577   \n4524           255.1758          -32.04730          131.99050   \n4525           279.7113          -45.45572           81.81748   \n4526           281.2325          -48.43377           77.45767   \n\n      grab_strenth_right  grab_angle_right  pinch_strength_right  \n0               0.000000          0.000000              0.000000  \n1               0.000000          0.000000              0.000000  \n2               0.000000          0.000000              0.000000  \n3               0.000000          0.000000              0.000000  \n4               0.000000          0.000000              0.000000  \n...                  ...               ...                   ...  \n4522            1.000000          2.834147              1.000000  \n4523            1.000000          2.860157              0.912698  \n4524            0.511996          1.583867              0.000000  \n4525            0.555357          1.638591              0.000000  \n4526            0.628525          1.723161              0.000000  \n\n[4527 rows x 38 columns]",
      "text/html": "<div>\n<style scoped>\n    .dataframe tbody tr th:only-of-type {\n        vertical-align: middle;\n    }\n\n    .dataframe tbody tr th {\n        vertical-align: top;\n    }\n\n    .dataframe thead th {\n        text-align: right;\n    }\n</style>\n<table border=\"1\" class=\"dataframe\">\n  <thead>\n    <tr style=\"text-align: right;\">\n      <th></th>\n      <th>time</th>\n      <th>frame_id</th>\n      <th>position_x_left</th>\n      <th>position_y_left</th>\n      <th>position_z_left</th>\n      <th>velocity_x_left</th>\n      <th>velocity_y_left</th>\n      <th>velocity_z_left</th>\n      <th>pitch_left</th>\n      <th>roll_left</th>\n      <th>yaw_left</th>\n      <th>wrist_pos_x_left</th>\n      <th>wrist_pos_y_left</th>\n      <th>wrist_pos_z_left</th>\n      <th>elbow_pos_x_left</th>\n      <th>elbow_pos_y_left</th>\n      <th>elbow_pos_z_left</th>\n      <th>grab_strenth_left</th>\n      <th>grab_angle_left</th>\n      <th>pinch_strength_left</th>\n      <th>position_x_right</th>\n      <th>position_y_right</th>\n      <th>position_z_right</th>\n      <th>velocity_x_right</th>\n      <th>velocity_y_right</th>\n      <th>velocity_z_right</th>\n      <th>pitch_right</th>\n      <th>roll_right</th>\n      <th>yaw_right</th>\n      <th>wrist_pos_x_right</th>\n      <th>wrist_pos_y_right</th>\n      <th>wrist_pos_z_right</th>\n      <th>elbow_pos_x_right</th>\n      <th>elbow_pos_y_right</th>\n      <th>elbow_pos_z_right</th>\n      <th>grab_strenth_right</th>\n      <th>grab_angle_right</th>\n      <th>pinch_strength_right</th>\n    </tr>\n  </thead>\n  <tbody>\n    <tr>\n      <th>0</th>\n      <td>291.02</td>\n      <td>34075</td>\n      <td>-112.8023</td>\n      <td>242.7639</td>\n      <td>4.668582</td>\n      <td>5.713323</td>\n      <td>-61.391260</td>\n      <td>-21.037960</td>\n      <td>1.446623</td>\n      <td>1.405847</td>\n      <td>0.951937</td>\n      <td>-131.9031</td>\n      <td>174.4940</td>\n      <td>5.223116</td>\n      <td>-257.7061</td>\n      <td>-42.89592</td>\n      <td>16.99501</td>\n      <td>0.0</td>\n      <td>0.0</td>\n      <td>0.0</td>\n      <td>77.93928</td>\n      <td>205.6924</td>\n      <td>21.99089</td>\n      <td>-31.14405</td>\n      <td>-14.796920</td>\n      <td>124.86100</td>\n      <td>1.654635</td>\n      <td>-1.457181</td>\n      <td>-2.149903</td>\n      <td>96.24556</td>\n      <td>138.3030</td>\n      <td>12.827740</td>\n      <td>229.8921</td>\n      <td>-68.10480</td>\n      <td>65.34229</td>\n      <td>0.000000</td>\n      <td>0.000000</td>\n      <td>0.000000</td>\n    </tr>\n    <tr>\n      <th>1</th>\n      <td>291.04</td>\n      <td>34077</td>\n      <td>-113.0416</td>\n      <td>242.6686</td>\n      <td>4.462260</td>\n      <td>-14.886850</td>\n      <td>-3.294883</td>\n      <td>-9.399460</td>\n      <td>1.455516</td>\n      <td>1.406081</td>\n      <td>0.982829</td>\n      <td>-132.1756</td>\n      <td>174.4122</td>\n      <td>4.426020</td>\n      <td>-259.8255</td>\n      <td>-41.99683</td>\n      <td>14.22190</td>\n      <td>0.0</td>\n      <td>0.0</td>\n      <td>0.0</td>\n      <td>76.83206</td>\n      <td>203.9094</td>\n      <td>23.75418</td>\n      <td>-85.66882</td>\n      <td>-130.091700</td>\n      <td>97.13650</td>\n      <td>1.731422</td>\n      <td>-1.463139</td>\n      <td>-2.436445</td>\n      <td>95.74135</td>\n      <td>137.5909</td>\n      <td>10.118030</td>\n      <td>231.0989</td>\n      <td>-67.86788</td>\n      <td>61.96756</td>\n      <td>0.000000</td>\n      <td>0.000000</td>\n      <td>0.000000</td>\n    </tr>\n    <tr>\n      <th>2</th>\n      <td>291.05</td>\n      <td>34079</td>\n      <td>-113.4542</td>\n      <td>242.7294</td>\n      <td>4.221472</td>\n      <td>-26.589320</td>\n      <td>4.308950</td>\n      <td>-12.123590</td>\n      <td>1.461161</td>\n      <td>1.409692</td>\n      <td>0.994170</td>\n      <td>-132.3858</td>\n      <td>174.4237</td>\n      <td>3.821367</td>\n      <td>-260.6950</td>\n      <td>-41.63982</td>\n      <td>12.57686</td>\n      <td>0.0</td>\n      <td>0.0</td>\n      <td>0.0</td>\n      <td>74.30998</td>\n      <td>200.5741</td>\n      <td>25.15925</td>\n      <td>-148.60860</td>\n      <td>-171.942100</td>\n      <td>72.13271</td>\n      <td>1.791300</td>\n      <td>-1.455910</td>\n      <td>-2.516997</td>\n      <td>94.72282</td>\n      <td>135.5896</td>\n      <td>8.222761</td>\n      <td>233.5819</td>\n      <td>-67.46499</td>\n      <td>60.28345</td>\n      <td>0.000000</td>\n      <td>0.000000</td>\n      <td>0.000000</td>\n    </tr>\n    <tr>\n      <th>3</th>\n      <td>291.07</td>\n      <td>34080</td>\n      <td>-113.7288</td>\n      <td>242.7941</td>\n      <td>4.114124</td>\n      <td>-31.287990</td>\n      <td>7.372077</td>\n      <td>-12.229150</td>\n      <td>1.462790</td>\n      <td>1.412944</td>\n      <td>0.991204</td>\n      <td>-132.4646</td>\n      <td>174.4369</td>\n      <td>3.603024</td>\n      <td>-260.7704</td>\n      <td>-41.65061</td>\n      <td>11.79549</td>\n      <td>0.0</td>\n      <td>0.0</td>\n      <td>0.0</td>\n      <td>73.20616</td>\n      <td>199.4709</td>\n      <td>25.63680</td>\n      <td>-125.74880</td>\n      <td>-125.683000</td>\n      <td>54.40320</td>\n      <td>1.813066</td>\n      <td>-1.450552</td>\n      <td>-2.534261</td>\n      <td>94.22473</td>\n      <td>135.0637</td>\n      <td>7.473455</td>\n      <td>235.3536</td>\n      <td>-66.46627</td>\n      <td>59.35478</td>\n      <td>0.000000</td>\n      <td>0.000000</td>\n      <td>0.000000</td>\n    </tr>\n    <tr>\n      <th>4</th>\n      <td>291.09</td>\n      <td>34082</td>\n      <td>-113.8567</td>\n      <td>242.1508</td>\n      <td>4.034664</td>\n      <td>-0.001188</td>\n      <td>-64.188040</td>\n      <td>6.096469</td>\n      <td>1.460808</td>\n      <td>1.417862</td>\n      <td>0.969437</td>\n      <td>-132.3376</td>\n      <td>173.7254</td>\n      <td>3.587554</td>\n      <td>-261.2905</td>\n      <td>-42.02287</td>\n      <td>10.45622</td>\n      <td>0.0</td>\n      <td>0.0</td>\n      <td>0.0</td>\n      <td>71.33848</td>\n      <td>197.9209</td>\n      <td>26.41051</td>\n      <td>-93.97961</td>\n      <td>-81.535020</td>\n      <td>42.03247</td>\n      <td>1.845923</td>\n      <td>-1.438699</td>\n      <td>-2.546650</td>\n      <td>93.46699</td>\n      <td>134.5095</td>\n      <td>6.377122</td>\n      <td>238.4372</td>\n      <td>-64.67204</td>\n      <td>56.71305</td>\n      <td>0.000000</td>\n      <td>0.000000</td>\n      <td>0.000000</td>\n    </tr>\n    <tr>\n      <th>...</th>\n      <td>...</td>\n      <td>...</td>\n      <td>...</td>\n      <td>...</td>\n      <td>...</td>\n      <td>...</td>\n      <td>...</td>\n      <td>...</td>\n      <td>...</td>\n      <td>...</td>\n      <td>...</td>\n      <td>...</td>\n      <td>...</td>\n      <td>...</td>\n      <td>...</td>\n      <td>...</td>\n      <td>...</td>\n      <td>...</td>\n      <td>...</td>\n      <td>...</td>\n      <td>...</td>\n      <td>...</td>\n      <td>...</td>\n      <td>...</td>\n      <td>...</td>\n      <td>...</td>\n      <td>...</td>\n      <td>...</td>\n      <td>...</td>\n      <td>...</td>\n      <td>...</td>\n      <td>...</td>\n      <td>...</td>\n      <td>...</td>\n      <td>...</td>\n      <td>...</td>\n      <td>...</td>\n      <td>...</td>\n    </tr>\n    <tr>\n      <th>4522</th>\n      <td>346.02</td>\n      <td>40417</td>\n      <td>NaN</td>\n      <td>NaN</td>\n      <td>NaN</td>\n      <td>NaN</td>\n      <td>NaN</td>\n      <td>NaN</td>\n      <td>NaN</td>\n      <td>NaN</td>\n      <td>NaN</td>\n      <td>NaN</td>\n      <td>NaN</td>\n      <td>NaN</td>\n      <td>NaN</td>\n      <td>NaN</td>\n      <td>NaN</td>\n      <td>NaN</td>\n      <td>NaN</td>\n      <td>NaN</td>\n      <td>-190.69900</td>\n      <td>134.7367</td>\n      <td>-73.96497</td>\n      <td>27.04534</td>\n      <td>-178.467600</td>\n      <td>107.08410</td>\n      <td>-1.693777</td>\n      <td>0.296669</td>\n      <td>-1.612239</td>\n      <td>-125.74840</td>\n      <td>159.4046</td>\n      <td>-79.341040</td>\n      <td>122.0018</td>\n      <td>125.06270</td>\n      <td>-65.98660</td>\n      <td>1.000000</td>\n      <td>2.834147</td>\n      <td>1.000000</td>\n    </tr>\n    <tr>\n      <th>4523</th>\n      <td>346.04</td>\n      <td>40419</td>\n      <td>NaN</td>\n      <td>NaN</td>\n      <td>NaN</td>\n      <td>NaN</td>\n      <td>NaN</td>\n      <td>NaN</td>\n      <td>NaN</td>\n      <td>NaN</td>\n      <td>NaN</td>\n      <td>NaN</td>\n      <td>NaN</td>\n      <td>NaN</td>\n      <td>NaN</td>\n      <td>NaN</td>\n      <td>NaN</td>\n      <td>NaN</td>\n      <td>NaN</td>\n      <td>NaN</td>\n      <td>-192.53520</td>\n      <td>134.0741</td>\n      <td>-73.39403</td>\n      <td>-122.46460</td>\n      <td>-33.960430</td>\n      <td>30.01225</td>\n      <td>-1.657707</td>\n      <td>0.301389</td>\n      <td>-1.599872</td>\n      <td>-127.51570</td>\n      <td>158.6437</td>\n      <td>-77.671530</td>\n      <td>119.4800</td>\n      <td>119.87770</td>\n      <td>-62.56577</td>\n      <td>1.000000</td>\n      <td>2.860157</td>\n      <td>0.912698</td>\n    </tr>\n    <tr>\n      <th>4524</th>\n      <td>346.05</td>\n      <td>40421</td>\n      <td>NaN</td>\n      <td>NaN</td>\n      <td>NaN</td>\n      <td>NaN</td>\n      <td>NaN</td>\n      <td>NaN</td>\n      <td>NaN</td>\n      <td>NaN</td>\n      <td>NaN</td>\n      <td>NaN</td>\n      <td>NaN</td>\n      <td>NaN</td>\n      <td>NaN</td>\n      <td>NaN</td>\n      <td>NaN</td>\n      <td>NaN</td>\n      <td>NaN</td>\n      <td>NaN</td>\n      <td>95.85992</td>\n      <td>201.3093</td>\n      <td>-20.35820</td>\n      <td>199.05810</td>\n      <td>-399.482500</td>\n      <td>193.24220</td>\n      <td>0.949080</td>\n      <td>-0.916772</td>\n      <td>-0.705287</td>\n      <td>133.65540</td>\n      <td>150.2853</td>\n      <td>10.641900</td>\n      <td>255.1758</td>\n      <td>-32.04730</td>\n      <td>131.99050</td>\n      <td>0.511996</td>\n      <td>1.583867</td>\n      <td>0.000000</td>\n    </tr>\n    <tr>\n      <th>4525</th>\n      <td>346.07</td>\n      <td>40423</td>\n      <td>NaN</td>\n      <td>NaN</td>\n      <td>NaN</td>\n      <td>NaN</td>\n      <td>NaN</td>\n      <td>NaN</td>\n      <td>NaN</td>\n      <td>NaN</td>\n      <td>NaN</td>\n      <td>NaN</td>\n      <td>NaN</td>\n      <td>NaN</td>\n      <td>NaN</td>\n      <td>NaN</td>\n      <td>NaN</td>\n      <td>NaN</td>\n      <td>NaN</td>\n      <td>NaN</td>\n      <td>98.28775</td>\n      <td>200.4698</td>\n      <td>-15.60555</td>\n      <td>128.41210</td>\n      <td>-3.501244</td>\n      <td>306.41170</td>\n      <td>0.965241</td>\n      <td>-0.918798</td>\n      <td>-0.715762</td>\n      <td>136.99070</td>\n      <td>148.4237</td>\n      <td>12.684130</td>\n      <td>279.7113</td>\n      <td>-45.45572</td>\n      <td>81.81748</td>\n      <td>0.555357</td>\n      <td>1.638591</td>\n      <td>0.000000</td>\n    </tr>\n    <tr>\n      <th>4526</th>\n      <td>346.09</td>\n      <td>40425</td>\n      <td>NaN</td>\n      <td>NaN</td>\n      <td>NaN</td>\n      <td>NaN</td>\n      <td>NaN</td>\n      <td>NaN</td>\n      <td>NaN</td>\n      <td>NaN</td>\n      <td>NaN</td>\n      <td>NaN</td>\n      <td>NaN</td>\n      <td>NaN</td>\n      <td>NaN</td>\n      <td>NaN</td>\n      <td>NaN</td>\n      <td>NaN</td>\n      <td>NaN</td>\n      <td>NaN</td>\n      <td>100.15700</td>\n      <td>200.8087</td>\n      <td>-11.22832</td>\n      <td>99.27737</td>\n      <td>-11.209670</td>\n      <td>249.08760</td>\n      <td>0.985984</td>\n      <td>-0.944554</td>\n      <td>-0.696105</td>\n      <td>137.50620</td>\n      <td>147.3755</td>\n      <td>16.307610</td>\n      <td>281.2325</td>\n      <td>-48.43377</td>\n      <td>77.45767</td>\n      <td>0.628525</td>\n      <td>1.723161</td>\n      <td>0.000000</td>\n    </tr>\n  </tbody>\n</table>\n<p>4527 rows × 38 columns</p>\n</div>"
     },
     "execution_count": 192,
     "metadata": {},
     "output_type": "execute_result"
    }
   ],
   "source": [
    "merged = left.merge(right, how=\"outer\", on=[\"time\", \"frame_id\"])\n",
    "\n",
    "#    .drop(\"frame_id\", axis=1)\n",
    "merged"
   ],
   "metadata": {
    "collapsed": false,
    "pycharm": {
     "name": "#%%\n"
    }
   }
  },
  {
   "cell_type": "code",
   "execution_count": 193,
   "outputs": [],
   "source": [
    "# adds a column with the second\n",
    "merged[\"round_time\"] = merged.time.astype(int) - merged.time.min().astype(int)"
   ],
   "metadata": {
    "collapsed": false,
    "pycharm": {
     "name": "#%%\n"
    }
   }
  },
  {
   "cell_type": "code",
   "execution_count": 194,
   "outputs": [],
   "source": [
    "# reset index (drop = False) adds round time as the left column in the DataFrame\n",
    "merged = merged.groupby(\"round_time\").nth([0, 1, 2, 3]).reset_index()"
   ],
   "metadata": {
    "collapsed": false,
    "pycharm": {
     "name": "#%%\n"
    }
   }
  },
  {
   "cell_type": "code",
   "execution_count": 195,
   "outputs": [],
   "source": [
    "# drop is True to prevent from adding the old indices as a new column\n",
    "merged = merged.drop(merged[merged[\"round_time\"] < merged.round_time.min() + 7].index).reset_index(drop=True)"
   ],
   "metadata": {
    "collapsed": false,
    "pycharm": {
     "name": "#%%\n"
    }
   }
  },
  {
   "cell_type": "code",
   "execution_count": null,
   "outputs": [],
   "source": [
    "merged"
   ],
   "metadata": {
    "collapsed": false,
    "pycharm": {
     "name": "#%%\n"
    }
   }
  },
  {
   "cell_type": "code",
   "execution_count": 86,
   "outputs": [],
   "source": [
    "round_time_groups = merged.groupby(\"round_time\")"
   ],
   "metadata": {
    "collapsed": false,
    "pycharm": {
     "name": "#%%\n"
    }
   }
  },
  {
   "cell_type": "markdown",
   "source": [
    "### Notes:\n",
    "\n",
    "01:37:00\n",
    "\n",
    "- Organize the data in a pandas dataframe\n",
    "- Goal: using the hand ... , detect if is alone, sync or spontaneous.\n",
    "- \"spontaneous synchronizing\"\n",
    "- interpersonal space\n",
    "- training has 9 participants\n",
    "- validation has different participants\n",
    "- spontan and sync: if # hands is 1, remove data!\n",
    "- time series\n",
    "- every 2 lines is one feature (need to be combined) = 1 frame\n",
    "- choose how many frames\n",
    "- position y is similar\n",
    "- 2 recordings, second is usually better\n",
    "- can't split train and test as usual (correlation between each following movement). can't shuffle!\n",
    "for instance, can take first 40 seconds for training and last 5 for testing.\n",
    "- at least 2 seconds in between train and test\n",
    "- model for 1 person, try model on second person. train the second person and test the third etc.\n",
    "- 4 frames per second\n",
    "-"
   ],
   "metadata": {
    "collapsed": false
   }
  },
  {
   "cell_type": "markdown",
   "source": [
    "> #### Resources:\n",
    "1. Leap Motion Attributes <a href=\"https://developer-archive.leapmotion.com/documentation/python/api/Leap.Hand.html\"\n",
    "> title=\"leapmotion\">link</a>"
   ],
   "metadata": {
    "collapsed": false,
    "pycharm": {
     "name": "#%% md\n"
    }
   }
  },
  {
   "cell_type": "code",
   "source": [
    "training_data = []\n",
    "validation_data = []\n",
    "training_path = \"extraFiles/Training\"\n",
    "training_dirs = glob.glob(training_path + \"/*\")\n",
    "# seed = 0\n",
    "\n",
    "for dir in training_dirs:\n",
    "    training_files = glob.glob(dir + \"/*.csv\")\n",
    "    for filename in training_files:\n",
    "        df = pd.read_csv(filename, index_col=None, header=0)\n",
    "        if \"Alone\" in filename:\n",
    "            df = combine_right(df)\n",
    "            df.insert(0, \"state\", 0)\n",
    "        elif \"Sync\" in filename:\n",
    "            df.insert(0, \"state\", 1)\n",
    "        elif \"Spontan\" in filename:\n",
    "            df.insert(0, \"state\", 2)\n",
    "        df = transform_columns(df)\n",
    "        training_data.append(df)\n",
    "\n",
    "# frame = pd.concat(training_data, axis=0, ignore_index=True)"
   ],
   "metadata": {
    "collapsed": false,
    "pycharm": {
     "name": "#%%\n"
    }
   },
   "execution_count": null,
   "outputs": []
  },
  {
   "cell_type": "code",
   "execution_count": null,
   "outputs": [],
   "source": [],
   "metadata": {
    "collapsed": false,
    "pycharm": {
     "name": "#%%"
    }
   }
  }
 ],
 "metadata": {
  "kernelspec": {
   "name": "pycharm-bcecade4",
   "language": "python",
   "display_name": "PyCharm (1SB-Final-Project)"
  },
  "language_info": {
   "codemirror_mode": {
    "name": "ipython",
    "version": 2
   },
   "file_extension": ".py",
   "mimetype": "text/x-python",
   "name": "python",
   "nbconvert_exporter": "python",
   "pygments_lexer": "ipython2",
   "version": "2.7.6"
  }
 },
 "nbformat": 4,
 "nbformat_minor": 0
}