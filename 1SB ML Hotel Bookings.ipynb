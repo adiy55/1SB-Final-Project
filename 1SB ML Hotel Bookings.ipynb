{
 "nbformat": 4,
 "nbformat_minor": 0,
 "metadata": {
  "kernelspec": {
   "name": "pycharm-bcecade4",
   "language": "python",
   "display_name": "PyCharm (1SB-Final-Project)"
  },
  "language_info": {
   "codemirror_mode": {
    "name": "ipython",
    "version": 2
   },
   "file_extension": ".py",
   "mimetype": "text/x-python",
   "name": "python",
   "nbconvert_exporter": "python",
   "pygments_lexer": "ipython2",
   "version": "2.7.6"
  },
  "colab": {
   "name": "1SB ML Hotel Bookings.ipynb",
   "provenance": []
  }
 },
 "cells": [
  {
   "cell_type": "markdown",
   "source": [
    "<h1 style=\"text-align: center;\">Data Science Project</h1>\n",
    "<h2 style=\"text-align: center;\">Hotel Booking Demand Dataset</h2>"
   ],
   "metadata": {
    "collapsed": false
   }
  },
  {
   "cell_type": "markdown",
   "source": [
    "## Contents:\n",
    "> **Section A:** EDA of Hotel Bookings and ML to Predict Cancellations\n",
    ">> 1. Getting the Data\n",
    ">> 2. Understanding and Visualizing the Data\n",
    ">> 3. Data Cleaning\n",
    ">> 4. Training and Evaluating Models\n",
    ">> 5. Evaluating the Test Set\n",
    ">\n",
    "> **Section B:** Using Different ML Techniques to Improve Prediction Results\n",
    ">> Model Improvements:\n",
    "6. First Attempt: Fine-Tune the Random Forest model.\n",
    "7. Second Attempt: Fine-Tune the KNN model.\n",
    "8. Third Attempt: Train and Tune a Logistic Regression model.\n",
    "9. Fourth Attempt: Train and Tune a Gradient Boosting model.\n",
    "10. Fifth Attempt: Train Voting Classifiers using the Tuned Models.\n",
    "11. Sixth Attempt: Use the Tuned Models for Stacking.\n",
    "12. Re-evaluating the Test Set\n",
    "\n",
    "***Note: If you already read the first section, you may want to skip directly to Section B.***"
   ],
   "metadata": {
    "collapsed": false
   }
  },
  {
   "cell_type": "code",
   "execution_count": 1,
   "outputs": [],
   "source": [
    "# common imports\n",
    "import numpy as np\n",
    "import pandas as pd\n",
    "import joblib\n",
    "import seaborn as sns\n",
    "import matplotlib.pyplot as plt\n",
    "%matplotlib inline\n",
    "\n",
    "# machine learning imports\n",
    "from sklearn.neighbors import KNeighborsClassifier\n",
    "from sklearn.ensemble import RandomForestClassifier, VotingClassifier, StackingClassifier\n",
    "from sklearn.model_selection import train_test_split, cross_val_predict, RandomizedSearchCV, GridSearchCV, cross_val_score\n",
    "from sklearn.pipeline import Pipeline, TransformerMixin\n",
    "from sklearn.preprocessing import MinMaxScaler, OneHotEncoder\n",
    "from sklearn.compose import ColumnTransformer\n",
    "from sklearn.impute import SimpleImputer\n",
    "from sklearn.base import BaseEstimator\n",
    "from sklearn.linear_model import LogisticRegression\n",
    "from sklearn import metrics\n",
    "from xgboost import XGBClassifier, DMatrix, cv\n",
    "from sklearn import clone  # 'clone' constructs a new unfitted estimator with the same parameters\n",
    "\n",
    "# display setup\n",
    "pd.set_option(\"display.max_columns\", None)  # the None parameter displays unlimited columns\n",
    "plt.style.use('seaborn')  # for plots"
   ],
   "metadata": {
    "collapsed": false,
    "pycharm": {
     "name": "#%%\n"
    }
   }
  },
  {
   "cell_type": "markdown",
   "source": [
    "## Section A: EDA of Hotel Bookings and ML to Predict Cancellations"
   ],
   "metadata": {
    "collapsed": false
   }
  },
  {
   "cell_type": "markdown",
   "source": [
    "<a id=\"one\"></a>"
   ],
   "metadata": {
    "collapsed": false
   }
  },
  {
   "cell_type": "markdown",
   "source": [
    "# 1. Getting the Data"
   ],
   "metadata": {
    "collapsed": false
   }
  },
  {
   "cell_type": "code",
   "execution_count": 2,
   "outputs": [],
   "source": [
    "# read the csv file\n",
    "df = pd.read_csv(r\"hotel_bookings.csv\")"
   ],
   "metadata": {
    "collapsed": false,
    "pycharm": {
     "name": "#%%\n"
    }
   }
  },
  {
   "cell_type": "code",
   "execution_count": 3,
   "outputs": [
    {
     "data": {
      "text/plain": "          hotel  is_canceled  lead_time  arrival_date_year arrival_date_month  \\\n0  Resort Hotel            0        342               2015               July   \n1  Resort Hotel            0        737               2015               July   \n2  Resort Hotel            0          7               2015               July   \n3  Resort Hotel            0         13               2015               July   \n4  Resort Hotel            0         14               2015               July   \n\n   arrival_date_week_number  arrival_date_day_of_month  \\\n0                        27                          1   \n1                        27                          1   \n2                        27                          1   \n3                        27                          1   \n4                        27                          1   \n\n   stays_in_weekend_nights  stays_in_week_nights  adults  children  babies  \\\n0                        0                     0       2       0.0       0   \n1                        0                     0       2       0.0       0   \n2                        0                     1       1       0.0       0   \n3                        0                     1       1       0.0       0   \n4                        0                     2       2       0.0       0   \n\n  meal country market_segment distribution_channel  is_repeated_guest  \\\n0   BB     PRT         Direct               Direct                  0   \n1   BB     PRT         Direct               Direct                  0   \n2   BB     GBR         Direct               Direct                  0   \n3   BB     GBR      Corporate            Corporate                  0   \n4   BB     GBR      Online TA                TA/TO                  0   \n\n   previous_cancellations  previous_bookings_not_canceled reserved_room_type  \\\n0                       0                               0                  C   \n1                       0                               0                  C   \n2                       0                               0                  A   \n3                       0                               0                  A   \n4                       0                               0                  A   \n\n  assigned_room_type  booking_changes deposit_type  agent  company  \\\n0                  C                3   No Deposit    NaN      NaN   \n1                  C                4   No Deposit    NaN      NaN   \n2                  C                0   No Deposit    NaN      NaN   \n3                  A                0   No Deposit  304.0      NaN   \n4                  A                0   No Deposit  240.0      NaN   \n\n   days_in_waiting_list customer_type   adr  required_car_parking_spaces  \\\n0                     0     Transient   0.0                            0   \n1                     0     Transient   0.0                            0   \n2                     0     Transient  75.0                            0   \n3                     0     Transient  75.0                            0   \n4                     0     Transient  98.0                            0   \n\n   total_of_special_requests reservation_status reservation_status_date  \n0                          0          Check-Out              2015-07-01  \n1                          0          Check-Out              2015-07-01  \n2                          0          Check-Out              2015-07-02  \n3                          0          Check-Out              2015-07-02  \n4                          1          Check-Out              2015-07-03  ",
      "text/html": "<div>\n<style scoped>\n    .dataframe tbody tr th:only-of-type {\n        vertical-align: middle;\n    }\n\n    .dataframe tbody tr th {\n        vertical-align: top;\n    }\n\n    .dataframe thead th {\n        text-align: right;\n    }\n</style>\n<table border=\"1\" class=\"dataframe\">\n  <thead>\n    <tr style=\"text-align: right;\">\n      <th></th>\n      <th>hotel</th>\n      <th>is_canceled</th>\n      <th>lead_time</th>\n      <th>arrival_date_year</th>\n      <th>arrival_date_month</th>\n      <th>arrival_date_week_number</th>\n      <th>arrival_date_day_of_month</th>\n      <th>stays_in_weekend_nights</th>\n      <th>stays_in_week_nights</th>\n      <th>adults</th>\n      <th>children</th>\n      <th>babies</th>\n      <th>meal</th>\n      <th>country</th>\n      <th>market_segment</th>\n      <th>distribution_channel</th>\n      <th>is_repeated_guest</th>\n      <th>previous_cancellations</th>\n      <th>previous_bookings_not_canceled</th>\n      <th>reserved_room_type</th>\n      <th>assigned_room_type</th>\n      <th>booking_changes</th>\n      <th>deposit_type</th>\n      <th>agent</th>\n      <th>company</th>\n      <th>days_in_waiting_list</th>\n      <th>customer_type</th>\n      <th>adr</th>\n      <th>required_car_parking_spaces</th>\n      <th>total_of_special_requests</th>\n      <th>reservation_status</th>\n      <th>reservation_status_date</th>\n    </tr>\n  </thead>\n  <tbody>\n    <tr>\n      <th>0</th>\n      <td>Resort Hotel</td>\n      <td>0</td>\n      <td>342</td>\n      <td>2015</td>\n      <td>July</td>\n      <td>27</td>\n      <td>1</td>\n      <td>0</td>\n      <td>0</td>\n      <td>2</td>\n      <td>0.0</td>\n      <td>0</td>\n      <td>BB</td>\n      <td>PRT</td>\n      <td>Direct</td>\n      <td>Direct</td>\n      <td>0</td>\n      <td>0</td>\n      <td>0</td>\n      <td>C</td>\n      <td>C</td>\n      <td>3</td>\n      <td>No Deposit</td>\n      <td>NaN</td>\n      <td>NaN</td>\n      <td>0</td>\n      <td>Transient</td>\n      <td>0.0</td>\n      <td>0</td>\n      <td>0</td>\n      <td>Check-Out</td>\n      <td>2015-07-01</td>\n    </tr>\n    <tr>\n      <th>1</th>\n      <td>Resort Hotel</td>\n      <td>0</td>\n      <td>737</td>\n      <td>2015</td>\n      <td>July</td>\n      <td>27</td>\n      <td>1</td>\n      <td>0</td>\n      <td>0</td>\n      <td>2</td>\n      <td>0.0</td>\n      <td>0</td>\n      <td>BB</td>\n      <td>PRT</td>\n      <td>Direct</td>\n      <td>Direct</td>\n      <td>0</td>\n      <td>0</td>\n      <td>0</td>\n      <td>C</td>\n      <td>C</td>\n      <td>4</td>\n      <td>No Deposit</td>\n      <td>NaN</td>\n      <td>NaN</td>\n      <td>0</td>\n      <td>Transient</td>\n      <td>0.0</td>\n      <td>0</td>\n      <td>0</td>\n      <td>Check-Out</td>\n      <td>2015-07-01</td>\n    </tr>\n    <tr>\n      <th>2</th>\n      <td>Resort Hotel</td>\n      <td>0</td>\n      <td>7</td>\n      <td>2015</td>\n      <td>July</td>\n      <td>27</td>\n      <td>1</td>\n      <td>0</td>\n      <td>1</td>\n      <td>1</td>\n      <td>0.0</td>\n      <td>0</td>\n      <td>BB</td>\n      <td>GBR</td>\n      <td>Direct</td>\n      <td>Direct</td>\n      <td>0</td>\n      <td>0</td>\n      <td>0</td>\n      <td>A</td>\n      <td>C</td>\n      <td>0</td>\n      <td>No Deposit</td>\n      <td>NaN</td>\n      <td>NaN</td>\n      <td>0</td>\n      <td>Transient</td>\n      <td>75.0</td>\n      <td>0</td>\n      <td>0</td>\n      <td>Check-Out</td>\n      <td>2015-07-02</td>\n    </tr>\n    <tr>\n      <th>3</th>\n      <td>Resort Hotel</td>\n      <td>0</td>\n      <td>13</td>\n      <td>2015</td>\n      <td>July</td>\n      <td>27</td>\n      <td>1</td>\n      <td>0</td>\n      <td>1</td>\n      <td>1</td>\n      <td>0.0</td>\n      <td>0</td>\n      <td>BB</td>\n      <td>GBR</td>\n      <td>Corporate</td>\n      <td>Corporate</td>\n      <td>0</td>\n      <td>0</td>\n      <td>0</td>\n      <td>A</td>\n      <td>A</td>\n      <td>0</td>\n      <td>No Deposit</td>\n      <td>304.0</td>\n      <td>NaN</td>\n      <td>0</td>\n      <td>Transient</td>\n      <td>75.0</td>\n      <td>0</td>\n      <td>0</td>\n      <td>Check-Out</td>\n      <td>2015-07-02</td>\n    </tr>\n    <tr>\n      <th>4</th>\n      <td>Resort Hotel</td>\n      <td>0</td>\n      <td>14</td>\n      <td>2015</td>\n      <td>July</td>\n      <td>27</td>\n      <td>1</td>\n      <td>0</td>\n      <td>2</td>\n      <td>2</td>\n      <td>0.0</td>\n      <td>0</td>\n      <td>BB</td>\n      <td>GBR</td>\n      <td>Online TA</td>\n      <td>TA/TO</td>\n      <td>0</td>\n      <td>0</td>\n      <td>0</td>\n      <td>A</td>\n      <td>A</td>\n      <td>0</td>\n      <td>No Deposit</td>\n      <td>240.0</td>\n      <td>NaN</td>\n      <td>0</td>\n      <td>Transient</td>\n      <td>98.0</td>\n      <td>0</td>\n      <td>1</td>\n      <td>Check-Out</td>\n      <td>2015-07-03</td>\n    </tr>\n  </tbody>\n</table>\n</div>"
     },
     "execution_count": 3,
     "metadata": {},
     "output_type": "execute_result"
    }
   ],
   "source": [
    "# display the first 5 rows for a quick look\n",
    "df.head()"
   ],
   "metadata": {
    "collapsed": false,
    "pycharm": {
     "name": "#%%\n"
    }
   }
  },
  {
   "cell_type": "code",
   "execution_count": 4,
   "outputs": [
    {
     "data": {
      "text/plain": "(119390, 32)"
     },
     "execution_count": 4,
     "metadata": {},
     "output_type": "execute_result"
    }
   ],
   "source": [
    "# DataFrame shape (rows, columns)\n",
    "# understand the amount of data we are working with\n",
    "df.shape"
   ],
   "metadata": {
    "collapsed": false,
    "pycharm": {
     "name": "#%%\n"
    }
   }
  },
  {
   "cell_type": "code",
   "execution_count": 5,
   "outputs": [
    {
     "name": "stdout",
     "output_type": "stream",
     "text": [
      "<class 'pandas.core.frame.DataFrame'>\n",
      "RangeIndex: 119390 entries, 0 to 119389\n",
      "Data columns (total 32 columns):\n",
      " #   Column                          Non-Null Count   Dtype  \n",
      "---  ------                          --------------   -----  \n",
      " 0   hotel                           119390 non-null  object \n",
      " 1   is_canceled                     119390 non-null  int64  \n",
      " 2   lead_time                       119390 non-null  int64  \n",
      " 3   arrival_date_year               119390 non-null  int64  \n",
      " 4   arrival_date_month              119390 non-null  object \n",
      " 5   arrival_date_week_number        119390 non-null  int64  \n",
      " 6   arrival_date_day_of_month       119390 non-null  int64  \n",
      " 7   stays_in_weekend_nights         119390 non-null  int64  \n",
      " 8   stays_in_week_nights            119390 non-null  int64  \n",
      " 9   adults                          119390 non-null  int64  \n",
      " 10  children                        119386 non-null  float64\n",
      " 11  babies                          119390 non-null  int64  \n",
      " 12  meal                            119390 non-null  object \n",
      " 13  country                         118902 non-null  object \n",
      " 14  market_segment                  119390 non-null  object \n",
      " 15  distribution_channel            119390 non-null  object \n",
      " 16  is_repeated_guest               119390 non-null  int64  \n",
      " 17  previous_cancellations          119390 non-null  int64  \n",
      " 18  previous_bookings_not_canceled  119390 non-null  int64  \n",
      " 19  reserved_room_type              119390 non-null  object \n",
      " 20  assigned_room_type              119390 non-null  object \n",
      " 21  booking_changes                 119390 non-null  int64  \n",
      " 22  deposit_type                    119390 non-null  object \n",
      " 23  agent                           103050 non-null  float64\n",
      " 24  company                         6797 non-null    float64\n",
      " 25  days_in_waiting_list            119390 non-null  int64  \n",
      " 26  customer_type                   119390 non-null  object \n",
      " 27  adr                             119390 non-null  float64\n",
      " 28  required_car_parking_spaces     119390 non-null  int64  \n",
      " 29  total_of_special_requests       119390 non-null  int64  \n",
      " 30  reservation_status              119390 non-null  object \n",
      " 31  reservation_status_date         119390 non-null  object \n",
      "dtypes: float64(4), int64(16), object(12)\n",
      "memory usage: 29.1+ MB\n"
     ]
    }
   ],
   "source": [
    "# description of data\n",
    "df.info()"
   ],
   "metadata": {
    "collapsed": false,
    "pycharm": {
     "name": "#%%\n"
    }
   }
  },
  {
   "cell_type": "markdown",
   "source": [
    "> In a first observation it is clear that some features have\n",
    "> missing values (i.e. \"company\" and \"agent\" columns).\n",
    "> We will need to take care of this later."
   ],
   "metadata": {
    "collapsed": false
   }
  },
  {
   "cell_type": "code",
   "execution_count": 6,
   "outputs": [
    {
     "data": {
      "text/plain": "         is_canceled      lead_time  arrival_date_year  \\\ncount  119390.000000  119390.000000      119390.000000   \nmean        0.370416     104.011416        2016.156554   \nstd         0.482918     106.863097           0.707476   \nmin         0.000000       0.000000        2015.000000   \n25%         0.000000      18.000000        2016.000000   \n50%         0.000000      69.000000        2016.000000   \n75%         1.000000     160.000000        2017.000000   \nmax         1.000000     737.000000        2017.000000   \n\n       arrival_date_week_number  arrival_date_day_of_month  \\\ncount             119390.000000              119390.000000   \nmean                  27.165173                  15.798241   \nstd                   13.605138                   8.780829   \nmin                    1.000000                   1.000000   \n25%                   16.000000                   8.000000   \n50%                   28.000000                  16.000000   \n75%                   38.000000                  23.000000   \nmax                   53.000000                  31.000000   \n\n       stays_in_weekend_nights  stays_in_week_nights         adults  \\\ncount            119390.000000         119390.000000  119390.000000   \nmean                  0.927599              2.500302       1.856403   \nstd                   0.998613              1.908286       0.579261   \nmin                   0.000000              0.000000       0.000000   \n25%                   0.000000              1.000000       2.000000   \n50%                   1.000000              2.000000       2.000000   \n75%                   2.000000              3.000000       2.000000   \nmax                  19.000000             50.000000      55.000000   \n\n            children         babies  is_repeated_guest  \\\ncount  119386.000000  119390.000000      119390.000000   \nmean        0.103890       0.007949           0.031912   \nstd         0.398561       0.097436           0.175767   \nmin         0.000000       0.000000           0.000000   \n25%         0.000000       0.000000           0.000000   \n50%         0.000000       0.000000           0.000000   \n75%         0.000000       0.000000           0.000000   \nmax        10.000000      10.000000           1.000000   \n\n       previous_cancellations  previous_bookings_not_canceled  \\\ncount           119390.000000                   119390.000000   \nmean                 0.087118                        0.137097   \nstd                  0.844336                        1.497437   \nmin                  0.000000                        0.000000   \n25%                  0.000000                        0.000000   \n50%                  0.000000                        0.000000   \n75%                  0.000000                        0.000000   \nmax                 26.000000                       72.000000   \n\n       booking_changes          agent      company  days_in_waiting_list  \\\ncount    119390.000000  103050.000000  6797.000000         119390.000000   \nmean          0.221124      86.693382   189.266735              2.321149   \nstd           0.652306     110.774548   131.655015             17.594721   \nmin           0.000000       1.000000     6.000000              0.000000   \n25%           0.000000       9.000000    62.000000              0.000000   \n50%           0.000000      14.000000   179.000000              0.000000   \n75%           0.000000     229.000000   270.000000              0.000000   \nmax          21.000000     535.000000   543.000000            391.000000   \n\n                 adr  required_car_parking_spaces  total_of_special_requests  \ncount  119390.000000                119390.000000              119390.000000  \nmean      101.831122                     0.062518                   0.571363  \nstd        50.535790                     0.245291                   0.792798  \nmin        -6.380000                     0.000000                   0.000000  \n25%        69.290000                     0.000000                   0.000000  \n50%        94.575000                     0.000000                   0.000000  \n75%       126.000000                     0.000000                   1.000000  \nmax      5400.000000                     8.000000                   5.000000  ",
      "text/html": "<div>\n<style scoped>\n    .dataframe tbody tr th:only-of-type {\n        vertical-align: middle;\n    }\n\n    .dataframe tbody tr th {\n        vertical-align: top;\n    }\n\n    .dataframe thead th {\n        text-align: right;\n    }\n</style>\n<table border=\"1\" class=\"dataframe\">\n  <thead>\n    <tr style=\"text-align: right;\">\n      <th></th>\n      <th>is_canceled</th>\n      <th>lead_time</th>\n      <th>arrival_date_year</th>\n      <th>arrival_date_week_number</th>\n      <th>arrival_date_day_of_month</th>\n      <th>stays_in_weekend_nights</th>\n      <th>stays_in_week_nights</th>\n      <th>adults</th>\n      <th>children</th>\n      <th>babies</th>\n      <th>is_repeated_guest</th>\n      <th>previous_cancellations</th>\n      <th>previous_bookings_not_canceled</th>\n      <th>booking_changes</th>\n      <th>agent</th>\n      <th>company</th>\n      <th>days_in_waiting_list</th>\n      <th>adr</th>\n      <th>required_car_parking_spaces</th>\n      <th>total_of_special_requests</th>\n    </tr>\n  </thead>\n  <tbody>\n    <tr>\n      <th>count</th>\n      <td>119390.000000</td>\n      <td>119390.000000</td>\n      <td>119390.000000</td>\n      <td>119390.000000</td>\n      <td>119390.000000</td>\n      <td>119390.000000</td>\n      <td>119390.000000</td>\n      <td>119390.000000</td>\n      <td>119386.000000</td>\n      <td>119390.000000</td>\n      <td>119390.000000</td>\n      <td>119390.000000</td>\n      <td>119390.000000</td>\n      <td>119390.000000</td>\n      <td>103050.000000</td>\n      <td>6797.000000</td>\n      <td>119390.000000</td>\n      <td>119390.000000</td>\n      <td>119390.000000</td>\n      <td>119390.000000</td>\n    </tr>\n    <tr>\n      <th>mean</th>\n      <td>0.370416</td>\n      <td>104.011416</td>\n      <td>2016.156554</td>\n      <td>27.165173</td>\n      <td>15.798241</td>\n      <td>0.927599</td>\n      <td>2.500302</td>\n      <td>1.856403</td>\n      <td>0.103890</td>\n      <td>0.007949</td>\n      <td>0.031912</td>\n      <td>0.087118</td>\n      <td>0.137097</td>\n      <td>0.221124</td>\n      <td>86.693382</td>\n      <td>189.266735</td>\n      <td>2.321149</td>\n      <td>101.831122</td>\n      <td>0.062518</td>\n      <td>0.571363</td>\n    </tr>\n    <tr>\n      <th>std</th>\n      <td>0.482918</td>\n      <td>106.863097</td>\n      <td>0.707476</td>\n      <td>13.605138</td>\n      <td>8.780829</td>\n      <td>0.998613</td>\n      <td>1.908286</td>\n      <td>0.579261</td>\n      <td>0.398561</td>\n      <td>0.097436</td>\n      <td>0.175767</td>\n      <td>0.844336</td>\n      <td>1.497437</td>\n      <td>0.652306</td>\n      <td>110.774548</td>\n      <td>131.655015</td>\n      <td>17.594721</td>\n      <td>50.535790</td>\n      <td>0.245291</td>\n      <td>0.792798</td>\n    </tr>\n    <tr>\n      <th>min</th>\n      <td>0.000000</td>\n      <td>0.000000</td>\n      <td>2015.000000</td>\n      <td>1.000000</td>\n      <td>1.000000</td>\n      <td>0.000000</td>\n      <td>0.000000</td>\n      <td>0.000000</td>\n      <td>0.000000</td>\n      <td>0.000000</td>\n      <td>0.000000</td>\n      <td>0.000000</td>\n      <td>0.000000</td>\n      <td>0.000000</td>\n      <td>1.000000</td>\n      <td>6.000000</td>\n      <td>0.000000</td>\n      <td>-6.380000</td>\n      <td>0.000000</td>\n      <td>0.000000</td>\n    </tr>\n    <tr>\n      <th>25%</th>\n      <td>0.000000</td>\n      <td>18.000000</td>\n      <td>2016.000000</td>\n      <td>16.000000</td>\n      <td>8.000000</td>\n      <td>0.000000</td>\n      <td>1.000000</td>\n      <td>2.000000</td>\n      <td>0.000000</td>\n      <td>0.000000</td>\n      <td>0.000000</td>\n      <td>0.000000</td>\n      <td>0.000000</td>\n      <td>0.000000</td>\n      <td>9.000000</td>\n      <td>62.000000</td>\n      <td>0.000000</td>\n      <td>69.290000</td>\n      <td>0.000000</td>\n      <td>0.000000</td>\n    </tr>\n    <tr>\n      <th>50%</th>\n      <td>0.000000</td>\n      <td>69.000000</td>\n      <td>2016.000000</td>\n      <td>28.000000</td>\n      <td>16.000000</td>\n      <td>1.000000</td>\n      <td>2.000000</td>\n      <td>2.000000</td>\n      <td>0.000000</td>\n      <td>0.000000</td>\n      <td>0.000000</td>\n      <td>0.000000</td>\n      <td>0.000000</td>\n      <td>0.000000</td>\n      <td>14.000000</td>\n      <td>179.000000</td>\n      <td>0.000000</td>\n      <td>94.575000</td>\n      <td>0.000000</td>\n      <td>0.000000</td>\n    </tr>\n    <tr>\n      <th>75%</th>\n      <td>1.000000</td>\n      <td>160.000000</td>\n      <td>2017.000000</td>\n      <td>38.000000</td>\n      <td>23.000000</td>\n      <td>2.000000</td>\n      <td>3.000000</td>\n      <td>2.000000</td>\n      <td>0.000000</td>\n      <td>0.000000</td>\n      <td>0.000000</td>\n      <td>0.000000</td>\n      <td>0.000000</td>\n      <td>0.000000</td>\n      <td>229.000000</td>\n      <td>270.000000</td>\n      <td>0.000000</td>\n      <td>126.000000</td>\n      <td>0.000000</td>\n      <td>1.000000</td>\n    </tr>\n    <tr>\n      <th>max</th>\n      <td>1.000000</td>\n      <td>737.000000</td>\n      <td>2017.000000</td>\n      <td>53.000000</td>\n      <td>31.000000</td>\n      <td>19.000000</td>\n      <td>50.000000</td>\n      <td>55.000000</td>\n      <td>10.000000</td>\n      <td>10.000000</td>\n      <td>1.000000</td>\n      <td>26.000000</td>\n      <td>72.000000</td>\n      <td>21.000000</td>\n      <td>535.000000</td>\n      <td>543.000000</td>\n      <td>391.000000</td>\n      <td>5400.000000</td>\n      <td>8.000000</td>\n      <td>5.000000</td>\n    </tr>\n  </tbody>\n</table>\n</div>"
     },
     "execution_count": 6,
     "metadata": {},
     "output_type": "execute_result"
    }
   ],
   "source": [
    "# summary of the numerical attributes\n",
    "# null values are ignored\n",
    "df.describe()"
   ],
   "metadata": {
    "collapsed": false,
    "pycharm": {
     "name": "#%%\n"
    }
   }
  },
  {
   "cell_type": "markdown",
   "source": [
    "> ### Features in the DataFrame:\n",
    ">> 1. hotel: Resort Hotel or City Hotel\n",
    ">> 2. is_canceled: Value indicating if the booking was canceled (1) or not (0)\n",
    ">> 3. lead_time: Number of days between the booking date to the arrival date\n",
    ">> 4. arrival_date_year: Year of arrival\n",
    ">> 5. arrival_date_month: Month of arrival\n",
    ">> 6. arrival_date_week_number: Week number according to year of arrival\n",
    ">> 7. arrival_date_day_of_month: Day of arrival\n",
    ">> 8. stays_in_weekend_nights: Number of weekend nights booked (Saturday or Sunday)\n",
    ">> 9. stays_in_week_nights: Number of week nights booked (Monday to Friday)\n",
    ">> 10. adults: Number of adults\n",
    ">> 11. children: Number of children\n",
    ">> 12. babies: Number of babies\n",
    ">> 13. meal: Type of meal booked\n",
    ">> 14. country: Country of origin\n",
    ">> 15. market_segment: Market segment designation, typically influences the price sensitivity\n",
    ">> 16. distribution_channel: Booking distribution channel, refers to how the booking was made\n",
    ">> 17. is_repeated_guest: Value indication if the booking was from a repeated guest (1) or not (0)\n",
    ">> 18. previous_cancellations: Number of previous cancellations prior to current booking\n",
    ">> 19. previous_bookings_not_canceled: Number of previous booking not canceled prior to current booking\n",
    ">> 20. reserved_room_type: Code of room type reserved\n",
    ">> 21. assigned_room_type: Code for the type of room assigned to the booking\n",
    ">> 22. booking_changes: Number of changes made to the booking since entering the hotel management system\n",
    ">> 23. deposit_type: Type of deposit made for the reservation\n",
    ">> 24. agent: ID of the travel agency that made the booking\n",
    ">> 25. company: ID of the company/organization that made the booking or is responsible for payment\n",
    ">> 26. days_in_waiting_list: Number of days booking was in the waiting list until it was confirmed\n",
    ">> 27. customer_type: Type of booking\n",
    ">> 28. adr: Average Daily Rate (the sum of transactions divided by the number of nights stayed)\n",
    ">> 29. required_car_parking_spaces: Number of car parking spaces requested\n",
    ">> 30. total_of_special_requests: Number of special requests made by the customer\n",
    ">> 31. reservation_status: Last reservation status (Canceled, Check-Out, No-Show)\n",
    ">> 32. reservation_status_date: Date at which the last status was set\n",
    ">>\n",
    ">>> ##### *Understanding the features could help gain insight on how to treat null values.*"
   ],
   "metadata": {
    "collapsed": false
   }
  },
  {
   "cell_type": "code",
   "execution_count": 7,
   "outputs": [
    {
     "data": {
      "text/plain": "<Figure size 1440x1080 with 20 Axes>",
      "image/png": "[encoded data removed]"
     },
     "metadata": {},
     "output_type": "display_data"
    }
   ],
   "source": [
    "# a histogram plot for each numerical attribute\n",
    "df.hist(bins=50, figsize=(20, 15))\n",
    "plt.tight_layout()\n",
    "plt.show()"
   ],
   "metadata": {
    "collapsed": false,
    "pycharm": {
     "name": "#%%\n"
    }
   }
  },
  {
   "cell_type": "markdown",
   "source": [
    "> Initial observations from the histograms:\n",
    ">> 1. Some weeks have more bookings. This could be because of holiday or summer seasons, when people tend to travel more.\n",
    ">> 2. According to the lead_time plot, most bookings were made shortly before arrival.\n",
    ">> 3. Bookings tend to be without children or babies.\n",
    ">> 4. It seems that the most accommodations are two weeks long or shorter.\n",
    ">> 5. While most bookings were not canceled, there are thousands of instances that were."
   ],
   "metadata": {
    "collapsed": false
   }
  },
  {
   "cell_type": "markdown",
   "source": [
    "> # Objective\n",
    "> ## Predicting if a booking will be canceled.\n",
    ">> ### Chosen Feature:\n",
    ">> #### *is_canceled* column\n",
    ">>> 0 means the booking was not canceled\n",
    ">>>\n",
    ">>> 1 means the booking was canceled\n",
    ">> ### Motive:\n",
    ">> Like any business, hotels are also looking to gain profit. A model that predicts if the booking\n",
    ">> is likely to be canceled could be a good indication for hotels, as they\n",
    ">> may prefer to accept the lower risk bookings first."
   ],
   "metadata": {
    "collapsed": false
   }
  },
  {
   "cell_type": "markdown",
   "source": [
    "> ### Splitting the Data:\n",
    ">> Before further analysis let's split the data into a training set and a testing set.\n",
    ">> This will ensure avoidance of bias that could occur from learning the data as a whole."
   ],
   "metadata": {
    "collapsed": false
   }
  },
  {
   "cell_type": "code",
   "execution_count": 8,
   "outputs": [],
   "source": [
    "# use Scikit-learn train_test_split function to split the data\n",
    "# the reason for selecting 0.15 as the test size is because the dataset is very large\n",
    "# the random state parameter ensures that data will be shuffled and split the same way in each run\n",
    "train_set, test_set = train_test_split(df, test_size=0.15, random_state=42)"
   ],
   "metadata": {
    "collapsed": false,
    "pycharm": {
     "name": "#%%\n"
    }
   }
  },
  {
   "cell_type": "code",
   "execution_count": 9,
   "outputs": [
    {
     "name": "stdout",
     "output_type": "stream",
     "text": [
      "Number of instances in training set:  101481\n",
      "Number of instances in testing set:  17909\n"
     ]
    }
   ],
   "source": [
    "print(\"Number of instances in training set: \", len(train_set))\n",
    "print(\"Number of instances in testing set: \", len(test_set))"
   ],
   "metadata": {
    "collapsed": false,
    "pycharm": {
     "name": "#%%\n"
    }
   }
  },
  {
   "cell_type": "markdown",
   "source": [
    "<a id=\"two\"></a>"
   ],
   "metadata": {
    "collapsed": false
   }
  },
  {
   "cell_type": "markdown",
   "source": [
    "# 2. Understanding and Visualizing the Data\n",
    "> ##### *The motivation for this section is to gain more insights.*"
   ],
   "metadata": {
    "collapsed": false
   }
  },
  {
   "cell_type": "code",
   "execution_count": 10,
   "outputs": [],
   "source": [
    "# deep copy of the training set\n",
    "df2 = train_set.copy()"
   ],
   "metadata": {
    "collapsed": false,
    "pycharm": {
     "name": "#%%\n"
    }
   }
  },
  {
   "cell_type": "code",
   "execution_count": 11,
   "outputs": [
    {
     "data": {
      "text/plain": "              hotel  is_canceled  lead_time  arrival_date_year  \\\n24840  Resort Hotel            0        156               2016   \n6904   Resort Hotel            0        292               2016   \n\n      arrival_date_month  arrival_date_week_number  arrival_date_day_of_month  \\\n24840                May                        23                         30   \n6904                July                        29                         10   \n\n       stays_in_weekend_nights  stays_in_week_nights  adults  children  \\\n24840                        1                     5       2       0.0   \n6904                         1                     0       2       0.0   \n\n       babies meal country market_segment distribution_channel  \\\n24840       0   BB     GBR      Online TA                TA/TO   \n6904        0   BB     ISR      Online TA                TA/TO   \n\n       is_repeated_guest  previous_cancellations  \\\n24840                  0                       0   \n6904                   0                       0   \n\n       previous_bookings_not_canceled reserved_room_type assigned_room_type  \\\n24840                               0                  A                  A   \n6904                                0                  A                  A   \n\n       booking_changes deposit_type  agent  company  days_in_waiting_list  \\\n24840                0   No Deposit  241.0      NaN                     0   \n6904                 0   No Deposit  240.0      NaN                     0   \n\n      customer_type    adr  required_car_parking_spaces  \\\n24840     Transient  52.36                            0   \n6904      Transient  72.90                            1   \n\n       total_of_special_requests reservation_status reservation_status_date  \n24840                          1          Check-Out              2016-06-05  \n6904                           2          Check-Out              2016-07-11  ",
      "text/html": "<div>\n<style scoped>\n    .dataframe tbody tr th:only-of-type {\n        vertical-align: middle;\n    }\n\n    .dataframe tbody tr th {\n        vertical-align: top;\n    }\n\n    .dataframe thead th {\n        text-align: right;\n    }\n</style>\n<table border=\"1\" class=\"dataframe\">\n  <thead>\n    <tr style=\"text-align: right;\">\n      <th></th>\n      <th>hotel</th>\n      <th>is_canceled</th>\n      <th>lead_time</th>\n      <th>arrival_date_year</th>\n      <th>arrival_date_month</th>\n      <th>arrival_date_week_number</th>\n      <th>arrival_date_day_of_month</th>\n      <th>stays_in_weekend_nights</th>\n      <th>stays_in_week_nights</th>\n      <th>adults</th>\n      <th>children</th>\n      <th>babies</th>\n      <th>meal</th>\n      <th>country</th>\n      <th>market_segment</th>\n      <th>distribution_channel</th>\n      <th>is_repeated_guest</th>\n      <th>previous_cancellations</th>\n      <th>previous_bookings_not_canceled</th>\n      <th>reserved_room_type</th>\n      <th>assigned_room_type</th>\n      <th>booking_changes</th>\n      <th>deposit_type</th>\n      <th>agent</th>\n      <th>company</th>\n      <th>days_in_waiting_list</th>\n      <th>customer_type</th>\n      <th>adr</th>\n      <th>required_car_parking_spaces</th>\n      <th>total_of_special_requests</th>\n      <th>reservation_status</th>\n      <th>reservation_status_date</th>\n    </tr>\n  </thead>\n  <tbody>\n    <tr>\n      <th>24840</th>\n      <td>Resort Hotel</td>\n      <td>0</td>\n      <td>156</td>\n      <td>2016</td>\n      <td>May</td>\n      <td>23</td>\n      <td>30</td>\n      <td>1</td>\n      <td>5</td>\n      <td>2</td>\n      <td>0.0</td>\n      <td>0</td>\n      <td>BB</td>\n      <td>GBR</td>\n      <td>Online TA</td>\n      <td>TA/TO</td>\n      <td>0</td>\n      <td>0</td>\n      <td>0</td>\n      <td>A</td>\n      <td>A</td>\n      <td>0</td>\n      <td>No Deposit</td>\n      <td>241.0</td>\n      <td>NaN</td>\n      <td>0</td>\n      <td>Transient</td>\n      <td>52.36</td>\n      <td>0</td>\n      <td>1</td>\n      <td>Check-Out</td>\n      <td>2016-06-05</td>\n    </tr>\n    <tr>\n      <th>6904</th>\n      <td>Resort Hotel</td>\n      <td>0</td>\n      <td>292</td>\n      <td>2016</td>\n      <td>July</td>\n      <td>29</td>\n      <td>10</td>\n      <td>1</td>\n      <td>0</td>\n      <td>2</td>\n      <td>0.0</td>\n      <td>0</td>\n      <td>BB</td>\n      <td>ISR</td>\n      <td>Online TA</td>\n      <td>TA/TO</td>\n      <td>0</td>\n      <td>0</td>\n      <td>0</td>\n      <td>A</td>\n      <td>A</td>\n      <td>0</td>\n      <td>No Deposit</td>\n      <td>240.0</td>\n      <td>NaN</td>\n      <td>0</td>\n      <td>Transient</td>\n      <td>72.90</td>\n      <td>1</td>\n      <td>2</td>\n      <td>Check-Out</td>\n      <td>2016-07-11</td>\n    </tr>\n  </tbody>\n</table>\n</div>"
     },
     "execution_count": 11,
     "metadata": {},
     "output_type": "execute_result"
    }
   ],
   "source": [
    "df2.head(2)"
   ],
   "metadata": {
    "collapsed": false,
    "pycharm": {
     "name": "#%%\n"
    }
   }
  },
  {
   "cell_type": "code",
   "execution_count": 12,
   "outputs": [
    {
     "data": {
      "text/plain": "0    64049\n1    37432\nName: is_canceled, dtype: int64"
     },
     "execution_count": 12,
     "metadata": {},
     "output_type": "execute_result"
    }
   ],
   "source": [
    "df2.is_canceled.value_counts()"
   ],
   "metadata": {
    "collapsed": false,
    "pycharm": {
     "name": "#%%\n"
    }
   }
  },
  {
   "cell_type": "markdown",
   "source": [
    "> ### Missing Features:"
   ],
   "metadata": {
    "collapsed": false
   }
  },
  {
   "cell_type": "code",
   "execution_count": 13,
   "outputs": [
    {
     "data": {
      "text/plain": "children        4\ncountry       396\nagent       13851\ncompany     95711\ndtype: int64"
     },
     "execution_count": 13,
     "metadata": {},
     "output_type": "execute_result"
    }
   ],
   "source": [
    "# the methods below calculate the number of missing values\n",
    "missing_values = df2.isna().sum()\n",
    "missing_values = missing_values[missing_values != 0]\n",
    "missing_values"
   ],
   "metadata": {
    "collapsed": false,
    "pycharm": {
     "name": "#%%\n"
    }
   }
  },
  {
   "cell_type": "code",
   "execution_count": 14,
   "outputs": [],
   "source": [
    "# replace missing values\n",
    "\n",
    "# can assume that there were no children\n",
    "df2.fillna({\"children\": 0}, inplace=True)\n",
    "\n",
    "# missing countries can be labeled unknown\n",
    "df2.fillna({\"country\": \"Unknown\"}, inplace=True)\n",
    "\n",
    "# missing agent ID can be zero, presuming the booking was made privately\n",
    "df2.fillna({\"agent\": 0}, inplace=True)\n",
    "\n",
    "# missing company ID can be zero (for the same reason as agent ID)\n",
    "df2.fillna({\"company\": 0}, inplace=True)"
   ],
   "metadata": {
    "collapsed": false,
    "pycharm": {
     "name": "#%%\n"
    }
   }
  },
  {
   "cell_type": "code",
   "execution_count": 15,
   "outputs": [
    {
     "data": {
      "text/plain": "hotel                             0\nis_canceled                       0\nlead_time                         0\narrival_date_year                 0\narrival_date_month                0\narrival_date_week_number          0\narrival_date_day_of_month         0\nstays_in_weekend_nights           0\nstays_in_week_nights              0\nadults                            0\nchildren                          0\nbabies                            0\nmeal                              0\ncountry                           0\nmarket_segment                    0\ndistribution_channel              0\nis_repeated_guest                 0\nprevious_cancellations            0\nprevious_bookings_not_canceled    0\nreserved_room_type                0\nassigned_room_type                0\nbooking_changes                   0\ndeposit_type                      0\nagent                             0\ncompany                           0\ndays_in_waiting_list              0\ncustomer_type                     0\nadr                               0\nrequired_car_parking_spaces       0\ntotal_of_special_requests         0\nreservation_status                0\nreservation_status_date           0\ndtype: int64"
     },
     "execution_count": 15,
     "metadata": {},
     "output_type": "execute_result"
    }
   ],
   "source": [
    "# check that the values were filled\n",
    "df2.isna().sum()"
   ],
   "metadata": {
    "collapsed": false,
    "pycharm": {
     "name": "#%%\n"
    }
   }
  },
  {
   "cell_type": "markdown",
   "source": [
    "> ### Numerical Attributes:"
   ],
   "metadata": {
    "collapsed": false
   }
  },
  {
   "cell_type": "code",
   "execution_count": 16,
   "outputs": [],
   "source": [
    "# method creates a correlations matrix\n",
    "corr_matrix = df2.corr()"
   ],
   "metadata": {
    "collapsed": false,
    "pycharm": {
     "name": "#%%\n"
    }
   }
  },
  {
   "cell_type": "code",
   "execution_count": 17,
   "outputs": [
    {
     "data": {
      "text/plain": "is_canceled                       1.000000\nlead_time                         0.292182\nprevious_cancellations            0.109883\nadults                            0.059744\ndays_in_waiting_list              0.053068\nadr                               0.046790\nstays_in_week_nights              0.027764\narrival_date_year                 0.017365\narrival_date_week_number          0.007757\nchildren                          0.006771\nstays_in_weekend_nights          -0.000019\narrival_date_day_of_month        -0.006062\nbabies                           -0.034658\nagent                            -0.046444\nprevious_bookings_not_canceled   -0.055847\ncompany                          -0.082484\nis_repeated_guest                -0.084179\nbooking_changes                  -0.142916\nrequired_car_parking_spaces      -0.195675\ntotal_of_special_requests        -0.233580\nName: is_canceled, dtype: float64"
     },
     "execution_count": 17,
     "metadata": {},
     "output_type": "execute_result"
    }
   ],
   "source": [
    "# looking at attributes correlation with is_canceled feature\n",
    "corr_matrix[\"is_canceled\"].sort_values(ascending=False)"
   ],
   "metadata": {
    "collapsed": false,
    "pycharm": {
     "name": "#%%\n"
    }
   }
  },
  {
   "cell_type": "code",
   "execution_count": 18,
   "outputs": [],
   "source": [
    "# experimenting with attribute combinations\n",
    "\n",
    "# create a column with total amount of guests\n",
    "df2[\"guests_stayed\"] = df2[\"adults\"] + df2[\"children\"] + df2[\"babies\"]\n",
    "\n",
    "# create a column with total nights booked\n",
    "df2[\"nights_stayed\"] = df2[\"stays_in_week_nights\"] + df2[\"stays_in_weekend_nights\"]"
   ],
   "metadata": {
    "collapsed": false,
    "pycharm": {
     "name": "#%%\n"
    }
   }
  },
  {
   "cell_type": "code",
   "execution_count": 19,
   "outputs": [
    {
     "data": {
      "text/plain": "is_canceled                       1.000000\nlead_time                         0.292182\nprevious_cancellations            0.109883\nadults                            0.059744\ndays_in_waiting_list              0.053068\nadr                               0.046790\nguests_stayed                     0.046693\nstays_in_week_nights              0.027764\nnights_stayed                     0.020709\narrival_date_year                 0.017365\narrival_date_week_number          0.007757\nchildren                          0.006771\nstays_in_weekend_nights          -0.000019\narrival_date_day_of_month        -0.006062\nbabies                           -0.034658\nagent                            -0.046444\nprevious_bookings_not_canceled   -0.055847\ncompany                          -0.082484\nis_repeated_guest                -0.084179\nbooking_changes                  -0.142916\nrequired_car_parking_spaces      -0.195675\ntotal_of_special_requests        -0.233580\nName: is_canceled, dtype: float64"
     },
     "execution_count": 19,
     "metadata": {},
     "output_type": "execute_result"
    }
   ],
   "source": [
    "# looking at the correlation matrix again with the added columns\n",
    "corr_matrix = df2.corr()\n",
    "corr_matrix[\"is_canceled\"].sort_values(ascending=False)"
   ],
   "metadata": {
    "collapsed": false,
    "pycharm": {
     "name": "#%%\n"
    }
   }
  },
  {
   "cell_type": "markdown",
   "source": [
    "> ### Correlations with is_canceled Attribute - Overview:\n",
    ">> The strongest positive correlations (0.1 or more) are:\n",
    ">> * lead_time\n",
    ">> * previous_cancellations\n",
    ">>\n",
    ">> The strongest negative correlations (-0.1 or less) are:\n",
    ">> * total_of_special_requests\n",
    ">> * required_car_parking_spaces\n",
    ">> * booking_changes\n",
    ">>\n",
    "> The attribute combinations tested (guests stayed and nights stayed) both had weak correlations."
   ],
   "metadata": {
    "collapsed": false
   }
  },
  {
   "cell_type": "markdown",
   "source": [
    "> ### Cancellations According to Lead Time"
   ],
   "metadata": {
    "collapsed": false
   }
  },
  {
   "cell_type": "code",
   "execution_count": 20,
   "outputs": [
    {
     "data": {
      "text/plain": "<Figure size 720x360 with 1 Axes>",
      "image/png": "[encoded data removed]"
     },
     "metadata": {},
     "output_type": "display_data"
    }
   ],
   "source": [
    "# hist plot of lead time\n",
    "# kde = kernel density estimation (displays distribution function, density curve)\n",
    "# shows the distribution and highest concentration points\n",
    "plt.figure(figsize=(10, 5))\n",
    "lead_time = df2['lead_time']\n",
    "lead_time = pd.DataFrame(sorted(lead_time, reverse=True), columns=['Lead'])\n",
    "sns.histplot(lead_time, kde=True)\n",
    "plt.title(\"Lead Time\", size=20)\n",
    "plt.xlabel(\"lead time days\", size=15)\n",
    "plt.tight_layout()\n",
    "plt.show()"
   ],
   "metadata": {
    "collapsed": false,
    "pycharm": {
     "name": "#%%\n"
    }
   }
  },
  {
   "cell_type": "code",
   "execution_count": 21,
   "outputs": [],
   "source": [
    "# divides lead time by less than 100 days, 100-355 days and 365 or more days\n",
    "lead_time_1 = df2[df2[\"lead_time\"] < 100]\n",
    "lead_time_2 = df2[(df2[\"lead_time\"] >= 100) & (df2[\"lead_time\"] < 365)]\n",
    "lead_time_3 = df2[df2[\"lead_time\"] >= 365]"
   ],
   "metadata": {
    "collapsed": false,
    "pycharm": {
     "name": "#%%\n"
    }
   }
  },
  {
   "cell_type": "code",
   "execution_count": 22,
   "outputs": [],
   "source": [
    "# calculates cancellations according to lead time groups\n",
    "lead_cancel_1 = lead_time_1[\"is_canceled\"].value_counts()\n",
    "lead_cancel_2 = lead_time_2[\"is_canceled\"].value_counts()\n",
    "lead_cancel_3 = lead_time_3[\"is_canceled\"].value_counts()"
   ],
   "metadata": {
    "collapsed": false,
    "pycharm": {
     "name": "#%%\n"
    }
   }
  },
  {
   "cell_type": "code",
   "execution_count": 23,
   "outputs": [
    {
     "data": {
      "text/plain": "<Figure size 1512x432 with 3 Axes>",
      "image/png": "[encoded data removed]"
     },
     "metadata": {},
     "output_type": "display_data"
    }
   ],
   "source": [
    "# hist plot for each lead time group\n",
    "fig, (bx1, bx2, bx3) = plt.subplots(1, 3, figsize=(21, 6))\n",
    "sns.histplot(lead_time_1[\"lead_time\"], ax=bx1, kde=True)\n",
    "bx1.set_title(\"lead_time [0,100) days\", size=20)\n",
    "sns.histplot(lead_time_2[\"lead_time\"], ax=bx2, kde=True)\n",
    "bx2.set_title(\"lead_time [100,365) days\", size=20)\n",
    "sns.histplot(lead_time_3[\"lead_time\"], ax=bx3, kde=True)\n",
    "bx3.set_title(\"lead_time [365,max) days\", size=20)\n",
    "plt.tight_layout()\n",
    "plt.show()"
   ],
   "metadata": {
    "collapsed": false,
    "pycharm": {
     "name": "#%%\n"
    }
   }
  },
  {
   "cell_type": "code",
   "execution_count": 24,
   "outputs": [
    {
     "data": {
      "text/plain": "                    0      1\n[0,100) days    44163  16828\n[100,365) days  19013  18746\n[365,max) days    873   1858",
      "text/html": "<div>\n<style scoped>\n    .dataframe tbody tr th:only-of-type {\n        vertical-align: middle;\n    }\n\n    .dataframe tbody tr th {\n        vertical-align: top;\n    }\n\n    .dataframe thead th {\n        text-align: right;\n    }\n</style>\n<table border=\"1\" class=\"dataframe\">\n  <thead>\n    <tr style=\"text-align: right;\">\n      <th></th>\n      <th>0</th>\n      <th>1</th>\n    </tr>\n  </thead>\n  <tbody>\n    <tr>\n      <th>[0,100) days</th>\n      <td>44163</td>\n      <td>16828</td>\n    </tr>\n    <tr>\n      <th>[100,365) days</th>\n      <td>19013</td>\n      <td>18746</td>\n    </tr>\n    <tr>\n      <th>[365,max) days</th>\n      <td>873</td>\n      <td>1858</td>\n    </tr>\n  </tbody>\n</table>\n</div>"
     },
     "execution_count": 24,
     "metadata": {},
     "output_type": "execute_result"
    }
   ],
   "source": [
    "# total count of lead time according to cancellation\n",
    "total_lead_days_cancel = pd.DataFrame(data=[lead_cancel_1, lead_cancel_2, lead_cancel_3],\n",
    "                                      index=[\"[0,100) days\", \"[100,365) days\", \"[365,max) days\"])\n",
    "total_lead_days_cancel"
   ],
   "metadata": {
    "collapsed": false,
    "pycharm": {
     "name": "#%%\n"
    }
   }
  },
  {
   "cell_type": "code",
   "execution_count": 25,
   "outputs": [
    {
     "data": {
      "text/plain": "<Figure size 1512x432 with 3 Axes>",
      "image/png": "[encoded data removed]"
     },
     "metadata": {},
     "output_type": "display_data"
    }
   ],
   "source": [
    "# pie plot for each lead time group\n",
    "fig, ax = plt.subplots(1, 3, figsize=(21, 6))\n",
    "ax[0].pie(np.array([total_lead_days_cancel[0][0], total_lead_days_cancel[1][0]]),\n",
    "          labels=[\"not_canceled\", \"canceled\"], autopct='%1.1f%%', startangle=90,\n",
    "          colors=['forestgreen', 'firebrick'])\n",
    "ax[0].set_title(\"lead_time [0,100) days\", size=20)\n",
    "ax[1].pie(np.array([total_lead_days_cancel[0][1], total_lead_days_cancel[1][1]]),\n",
    "          labels=[\"not_canceled\", \"canceled\"], autopct='%1.1f%%', startangle=90,\n",
    "          colors=['forestgreen', 'firebrick'])\n",
    "ax[1].set_title(\"lead_time [100,365) days\", size=20)\n",
    "ax[2].pie(np.array([total_lead_days_cancel[0][2], total_lead_days_cancel[1][2]]),\n",
    "          labels=[\"not_canceled\", \"canceled\"], autopct='%1.1f%%', startangle=90,\n",
    "          colors=['forestgreen', 'firebrick'])\n",
    "ax[2].set_title(\"lead_time [365,max) days\", size=20)\n",
    "plt.tight_layout()\n",
    "plt.show()"
   ],
   "metadata": {
    "collapsed": false,
    "pycharm": {
     "name": "#%%\n"
    }
   }
  },
  {
   "cell_type": "markdown",
   "source": [
    "> #### Observations:\n",
    ">> * Most bookings occur about 5 days prior to arrival.\n",
    ">> * When the lead time is larger the chances for cancellation increase.\n",
    ">> * The amount of bookings is steady overall between 20-100 days, then drops."
   ],
   "metadata": {
    "collapsed": false
   }
  },
  {
   "cell_type": "markdown",
   "source": [
    "> ### Cancellations According to Previous Cancellations"
   ],
   "metadata": {
    "collapsed": false
   }
  },
  {
   "cell_type": "code",
   "execution_count": 26,
   "outputs": [],
   "source": [
    "# get previous cancellations column\n",
    "prev_cancel = df2[\"previous_cancellations\"]"
   ],
   "metadata": {
    "collapsed": false,
    "pycharm": {
     "name": "#%%\n"
    }
   }
  },
  {
   "cell_type": "code",
   "execution_count": 27,
   "outputs": [
    {
     "data": {
      "text/plain": "0     96001\n1      5112\n2       101\n3        48\n4        29\n5        15\n6        22\n11       30\n13        8\n14       11\n19       17\n21        1\n24       45\n25       20\n26       21\nName: previous_cancellations, dtype: int64"
     },
     "execution_count": 27,
     "metadata": {},
     "output_type": "execute_result"
    }
   ],
   "source": [
    "# sort the index values\n",
    "prev_cancel.value_counts().sort_index()"
   ],
   "metadata": {
    "collapsed": false,
    "pycharm": {
     "name": "#%%\n"
    }
   }
  },
  {
   "cell_type": "code",
   "execution_count": 28,
   "outputs": [
    {
     "name": "stdout",
     "output_type": "stream",
     "text": [
      "Cancellation Rates:\n",
      "\n",
      "Never canceled = 33.76 %\n",
      "Canceled once = 94.37 %\n",
      "Canceled more than 10 times: 85.62 %\n",
      "Canceled more than 11 times: 99.19 %\n"
     ]
    }
   ],
   "source": [
    "print(\"Cancellation Rates:\\n\")\n",
    "print('Never canceled =', str(round(df2[df2['previous_cancellations'] == 0]\n",
    "                                    ['is_canceled'].mean() * 100, 2)) + ' %')\n",
    "print('Canceled once =', str(round(df2[df2['previous_cancellations'] == 1]\n",
    "                                   ['is_canceled'].mean() * 100, 2)) + ' %')\n",
    "print('Canceled more than 10 times:', str(round(df2[df2['previous_cancellations'] > 10]\n",
    "                                                ['is_canceled'].mean() * 100, 2)) + ' %')\n",
    "print('Canceled more than 11 times:', str(round(df2[df2['previous_cancellations'] > 11]\n",
    "                                                ['is_canceled'].mean() * 100, 2)) + ' %')"
   ],
   "metadata": {
    "collapsed": false,
    "pycharm": {
     "name": "#%%\n"
    }
   }
  },
  {
   "cell_type": "code",
   "execution_count": 29,
   "outputs": [],
   "source": [
    "# create a list with previous cancellations indices\n",
    "prev_cancel_index = df2[\"previous_cancellations\"].value_counts().index.to_list()\n",
    "# sort the list\n",
    "prev_cancel_index.sort()\n",
    "\n",
    "# calculate the average percentage of cancellations for each value in the DataFrame\n",
    "percentage_prev_cancel = []\n",
    "for i in prev_cancel_index:\n",
    "    percentage_prev_cancel.append((round(df2[df2[\"previous_cancellations\"] == i][\"is_canceled\"].mean() * 100, 2)))"
   ],
   "metadata": {
    "collapsed": false,
    "pycharm": {
     "name": "#%%\n"
    }
   }
  },
  {
   "cell_type": "code",
   "execution_count": 30,
   "outputs": [
    {
     "data": {
      "text/plain": "    Previous Cancellations %\n0                      33.76\n1                      94.37\n2                      33.66\n3                      29.17\n4                      24.14\n5                      13.33\n6                      31.82\n11                     30.00\n13                     87.50\n14                    100.00\n19                    100.00\n21                    100.00\n24                    100.00\n25                    100.00\n26                    100.00",
      "text/html": "<div>\n<style scoped>\n    .dataframe tbody tr th:only-of-type {\n        vertical-align: middle;\n    }\n\n    .dataframe tbody tr th {\n        vertical-align: top;\n    }\n\n    .dataframe thead th {\n        text-align: right;\n    }\n</style>\n<table border=\"1\" class=\"dataframe\">\n  <thead>\n    <tr style=\"text-align: right;\">\n      <th></th>\n      <th>Previous Cancellations %</th>\n    </tr>\n  </thead>\n  <tbody>\n    <tr>\n      <th>0</th>\n      <td>33.76</td>\n    </tr>\n    <tr>\n      <th>1</th>\n      <td>94.37</td>\n    </tr>\n    <tr>\n      <th>2</th>\n      <td>33.66</td>\n    </tr>\n    <tr>\n      <th>3</th>\n      <td>29.17</td>\n    </tr>\n    <tr>\n      <th>4</th>\n      <td>24.14</td>\n    </tr>\n    <tr>\n      <th>5</th>\n      <td>13.33</td>\n    </tr>\n    <tr>\n      <th>6</th>\n      <td>31.82</td>\n    </tr>\n    <tr>\n      <th>11</th>\n      <td>30.00</td>\n    </tr>\n    <tr>\n      <th>13</th>\n      <td>87.50</td>\n    </tr>\n    <tr>\n      <th>14</th>\n      <td>100.00</td>\n    </tr>\n    <tr>\n      <th>19</th>\n      <td>100.00</td>\n    </tr>\n    <tr>\n      <th>21</th>\n      <td>100.00</td>\n    </tr>\n    <tr>\n      <th>24</th>\n      <td>100.00</td>\n    </tr>\n    <tr>\n      <th>25</th>\n      <td>100.00</td>\n    </tr>\n    <tr>\n      <th>26</th>\n      <td>100.00</td>\n    </tr>\n  </tbody>\n</table>\n</div>"
     },
     "execution_count": 30,
     "metadata": {},
     "output_type": "execute_result"
    }
   ],
   "source": [
    "# create a DataFrame with the results\n",
    "df_prev_cancel = pd.DataFrame(percentage_prev_cancel, index=prev_cancel_index, columns=[\"Previous Cancellations %\"])\n",
    "df_prev_cancel"
   ],
   "metadata": {
    "collapsed": false,
    "pycharm": {
     "name": "#%%\n"
    }
   }
  },
  {
   "cell_type": "code",
   "execution_count": 31,
   "outputs": [
    {
     "data": {
      "text/plain": "<Figure size 720x360 with 1 Axes>",
      "image/png": "[encoded data removed]"
     },
     "metadata": {},
     "output_type": "display_data"
    }
   ],
   "source": [
    "# plot previous cancellations by percentages\n",
    "df_prev_cancel.plot(figsize=(10, 5), linewidth=3)\n",
    "plt.title(\"Previous Cancellations\", size=20)\n",
    "plt.xlabel(\"Number of Previous Cancellations\", size=15)\n",
    "plt.ylabel(\"%\", size=15)\n",
    "plt.tight_layout()\n",
    "plt.show()"
   ],
   "metadata": {
    "collapsed": false,
    "pycharm": {
     "name": "#%%\n"
    }
   }
  },
  {
   "cell_type": "markdown",
   "source": [
    "> ### Observations:\n",
    ">> The percentages show that when there are more previous cancellations, there is\n",
    ">> a substantially higher chance the customer will cancel again."
   ],
   "metadata": {
    "collapsed": false
   }
  },
  {
   "cell_type": "markdown",
   "source": [
    "> ### Cancellations According to Total of Special Requests"
   ],
   "metadata": {
    "collapsed": false
   }
  },
  {
   "cell_type": "code",
   "execution_count": 32,
   "outputs": [
    {
     "data": {
      "text/plain": "0    59677\n1    28355\n2    11017\n3     2120\n4      279\n5       33\nName: total_of_special_requests, dtype: int64"
     },
     "execution_count": 32,
     "metadata": {},
     "output_type": "execute_result"
    }
   ],
   "source": [
    "# number of instances for each value\n",
    "df2[\"total_of_special_requests\"].value_counts()"
   ],
   "metadata": {
    "collapsed": false,
    "pycharm": {
     "name": "#%%\n"
    }
   }
  },
  {
   "cell_type": "code",
   "execution_count": 33,
   "outputs": [],
   "source": [
    "# group by cancellations\n",
    "is_canceled = df2.groupby(by=\"is_canceled\")"
   ],
   "metadata": {
    "collapsed": false,
    "pycharm": {
     "name": "#%%\n"
    }
   }
  },
  {
   "cell_type": "code",
   "execution_count": 34,
   "outputs": [],
   "source": [
    "# get groups according to binary outcome\n",
    "canceled = is_canceled.get_group(1)\n",
    "not_canceled = is_canceled.get_group(0)"
   ],
   "metadata": {
    "collapsed": false,
    "pycharm": {
     "name": "#%%\n"
    }
   }
  },
  {
   "cell_type": "code",
   "execution_count": 35,
   "outputs": [],
   "source": [
    "# count values for each outcome\n",
    "special_requests_0 = not_canceled[\"total_of_special_requests\"].value_counts()\n",
    "special_requests_1 = canceled[\"total_of_special_requests\"].value_counts()"
   ],
   "metadata": {
    "collapsed": false,
    "pycharm": {
     "name": "#%%\n"
    }
   }
  },
  {
   "cell_type": "code",
   "execution_count": 36,
   "outputs": [],
   "source": [
    "# create a DataFrame for each outcome\n",
    "df_special_requests_0 = pd.DataFrame(special_requests_0.values, index=special_requests_0.index,\n",
    "                                     columns=[\"not_canceled\"])\n",
    "df_special_requests_1 = pd.DataFrame(special_requests_1.values, index=special_requests_1.index, columns=[\"canceled\"])"
   ],
   "metadata": {
    "collapsed": false,
    "pycharm": {
     "name": "#%%\n"
    }
   }
  },
  {
   "cell_type": "code",
   "execution_count": 37,
   "outputs": [],
   "source": [
    "# join both DataFrames side by side\n",
    "df_special_requests = df_special_requests_0.join(df_special_requests_1)"
   ],
   "metadata": {
    "collapsed": false,
    "pycharm": {
     "name": "#%%\n"
    }
   }
  },
  {
   "cell_type": "code",
   "execution_count": 38,
   "outputs": [
    {
     "data": {
      "text/plain": "[47.53, 21.97, 22.05, 17.88, 10.39, 6.06]"
     },
     "execution_count": 38,
     "metadata": {},
     "output_type": "execute_result"
    }
   ],
   "source": [
    "# add total of both outcomes\n",
    "special_requests_total = df_special_requests[\"not_canceled\"] + df_special_requests[\"canceled\"]\n",
    "\n",
    "# calculate percentage of cancellations for each number of requests value individually\n",
    "special_requests_percentage = []\n",
    "for i in special_requests_total.index:\n",
    "    special_requests_percentage.append(round((special_requests_1[i] / special_requests_total[i]) * 100, 2))\n",
    "special_requests_percentage"
   ],
   "metadata": {
    "collapsed": false,
    "pycharm": {
     "name": "#%%\n"
    }
   }
  },
  {
   "cell_type": "code",
   "execution_count": 39,
   "outputs": [
    {
     "data": {
      "text/plain": "   not_canceled  canceled  cancellations %\n0         31313     28364            47.53\n1         22126      6229            21.97\n2          8588      2429            22.05\n3          1741       379            17.88\n4           250        29            10.39\n5            31         2             6.06",
      "text/html": "<div>\n<style scoped>\n    .dataframe tbody tr th:only-of-type {\n        vertical-align: middle;\n    }\n\n    .dataframe tbody tr th {\n        vertical-align: top;\n    }\n\n    .dataframe thead th {\n        text-align: right;\n    }\n</style>\n<table border=\"1\" class=\"dataframe\">\n  <thead>\n    <tr style=\"text-align: right;\">\n      <th></th>\n      <th>not_canceled</th>\n      <th>canceled</th>\n      <th>cancellations %</th>\n    </tr>\n  </thead>\n  <tbody>\n    <tr>\n      <th>0</th>\n      <td>31313</td>\n      <td>28364</td>\n      <td>47.53</td>\n    </tr>\n    <tr>\n      <th>1</th>\n      <td>22126</td>\n      <td>6229</td>\n      <td>21.97</td>\n    </tr>\n    <tr>\n      <th>2</th>\n      <td>8588</td>\n      <td>2429</td>\n      <td>22.05</td>\n    </tr>\n    <tr>\n      <th>3</th>\n      <td>1741</td>\n      <td>379</td>\n      <td>17.88</td>\n    </tr>\n    <tr>\n      <th>4</th>\n      <td>250</td>\n      <td>29</td>\n      <td>10.39</td>\n    </tr>\n    <tr>\n      <th>5</th>\n      <td>31</td>\n      <td>2</td>\n      <td>6.06</td>\n    </tr>\n  </tbody>\n</table>\n</div>"
     },
     "execution_count": 39,
     "metadata": {},
     "output_type": "execute_result"
    }
   ],
   "source": [
    "# add percentages as new column in DataFrame\n",
    "df_special_requests.join(pd.DataFrame(special_requests_percentage, index=df_special_requests.index,\n",
    "                                      columns=[\"cancellations %\"]))"
   ],
   "metadata": {
    "collapsed": false,
    "pycharm": {
     "name": "#%%\n"
    }
   }
  },
  {
   "cell_type": "code",
   "execution_count": 40,
   "outputs": [
    {
     "data": {
      "text/plain": "<Figure size 720x360 with 1 Axes>",
      "image/png": "[encoded data removed]"
     },
     "metadata": {},
     "output_type": "display_data"
    }
   ],
   "source": [
    "# plot special requests according to cancellations\n",
    "plt.figure(figsize=(10, 5))\n",
    "sns.countplot(x=df2[\"total_of_special_requests\"], hue=df2[\"is_canceled\"])\n",
    "plt.title(\"Special Requests\", size=20)\n",
    "plt.xlabel(\"Number of Special Requests\", size=15)\n",
    "plt.legend([\"not canceled\", \"canceled\"])\n",
    "plt.tight_layout()\n",
    "plt.show()"
   ],
   "metadata": {
    "collapsed": false,
    "pycharm": {
     "name": "#%%\n"
    }
   }
  },
  {
   "cell_type": "markdown",
   "source": [
    "> ### Observations:\n",
    ">> * Nearly half of the bookings without special requests are canceled.\n",
    ">> * There are fewer cancellations when the number of special requests increases."
   ],
   "metadata": {
    "collapsed": false
   }
  },
  {
   "cell_type": "markdown",
   "source": [
    "> ### Cancellations According to Required Car Parking Spaces"
   ],
   "metadata": {
    "collapsed": false
   }
  },
  {
   "cell_type": "code",
   "execution_count": 41,
   "outputs": [
    {
     "data": {
      "text/plain": "0    95114\n1     6337\n2       26\n3        2\n8        2\nName: required_car_parking_spaces, dtype: int64"
     },
     "execution_count": 41,
     "metadata": {},
     "output_type": "execute_result"
    }
   ],
   "source": [
    "# number of instances for each value\n",
    "df2[\"required_car_parking_spaces\"].value_counts().sort_index()"
   ],
   "metadata": {
    "collapsed": false,
    "pycharm": {
     "name": "#%%\n"
    }
   }
  },
  {
   "cell_type": "code",
   "execution_count": 42,
   "outputs": [],
   "source": [
    "# count values for each outcome with previous groupby\n",
    "parking_spaces_0 = not_canceled[\"required_car_parking_spaces\"].value_counts()\n",
    "parking_spaces_1 = canceled[\"required_car_parking_spaces\"].value_counts()"
   ],
   "metadata": {
    "collapsed": false,
    "pycharm": {
     "name": "#%%\n"
    }
   }
  },
  {
   "cell_type": "code",
   "execution_count": 43,
   "outputs": [
    {
     "data": {
      "text/plain": "0    57682\n1     6337\n2       26\n3        2\n8        2\nName: required_car_parking_spaces, dtype: int64"
     },
     "execution_count": 43,
     "metadata": {},
     "output_type": "execute_result"
    }
   ],
   "source": [
    "# value counts for non canceled instances\n",
    "parking_spaces_0.sort_index()"
   ],
   "metadata": {
    "collapsed": false,
    "pycharm": {
     "name": "#%%\n"
    }
   }
  },
  {
   "cell_type": "code",
   "execution_count": 44,
   "outputs": [
    {
     "data": {
      "text/plain": "0    37432\nName: required_car_parking_spaces, dtype: int64"
     },
     "execution_count": 44,
     "metadata": {},
     "output_type": "execute_result"
    }
   ],
   "source": [
    "# value counts for canceled instances\n",
    "parking_spaces_1"
   ],
   "metadata": {
    "collapsed": false,
    "pycharm": {
     "name": "#%%\n"
    }
   }
  },
  {
   "cell_type": "code",
   "execution_count": 45,
   "outputs": [
    {
     "data": {
      "text/plain": "<Figure size 576x396 with 1 Axes>",
      "image/png": "[encoded data removed]"
     },
     "metadata": {},
     "output_type": "display_data"
    }
   ],
   "source": [
    "# pie plot of cancellations with zero required parking spaces\n",
    "plt.pie(x=[parking_spaces_0[0], parking_spaces_1[0]], labels=[\"not_canceled\", \"canceled\"], autopct='%1.1f%%',\n",
    "        startangle=90, colors=['forestgreen', 'firebrick'])\n",
    "plt.title(\"Zero Required Parking Spaces Cancellations\", size=20)\n",
    "plt.tight_layout()\n",
    "plt.show()"
   ],
   "metadata": {
    "collapsed": false,
    "pycharm": {
     "name": "#%%\n"
    }
   }
  },
  {
   "cell_type": "markdown",
   "source": [
    "> ### Observations:\n",
    ">> * Dividing the instances into groups according to cancellations shows that canceled\n",
    ">> bookings were only ones without required parking spaces.\n",
    ">> * This could potentially be a bad indication for cancellations. The model could learn\n",
    ">> that a booking can be canceled **only** if no parking spaces were required, which does not\n",
    ">> necessarily have to be the case."
   ],
   "metadata": {
    "collapsed": false
   }
  },
  {
   "cell_type": "markdown",
   "source": [
    "> ### Cancellations According to Booking Changes"
   ],
   "metadata": {
    "collapsed": false
   }
  },
  {
   "cell_type": "code",
   "execution_count": 46,
   "outputs": [
    {
     "data": {
      "text/plain": "0     86077\n1     10809\n2      3256\n3       793\n4       314\n5        99\n6        60\n7        28\n8        14\n9         6\n10        5\n11        2\n12        2\n13        3\n14        4\n15        3\n16        2\n17        1\n18        1\n20        1\n21        1\nName: booking_changes, dtype: int64"
     },
     "execution_count": 46,
     "metadata": {},
     "output_type": "execute_result"
    }
   ],
   "source": [
    "# number of instances for each value\n",
    "df2[\"booking_changes\"].value_counts().sort_index()"
   ],
   "metadata": {
    "collapsed": false,
    "pycharm": {
     "name": "#%%\n"
    }
   }
  },
  {
   "cell_type": "code",
   "execution_count": 47,
   "outputs": [],
   "source": [
    "# count values for each outcome with previous groupby\n",
    "booking_changes_0 = not_canceled[\"booking_changes\"].value_counts()\n",
    "booking_changes_1 = canceled[\"booking_changes\"].value_counts()"
   ],
   "metadata": {
    "collapsed": false,
    "pycharm": {
     "name": "#%%\n"
    }
   }
  },
  {
   "cell_type": "code",
   "execution_count": 48,
   "outputs": [
    {
     "data": {
      "text/plain": "21"
     },
     "execution_count": 48,
     "metadata": {},
     "output_type": "execute_result"
    }
   ],
   "source": [
    "# count index of not canceled\n",
    "len(booking_changes_0.index)"
   ],
   "metadata": {
    "collapsed": false,
    "pycharm": {
     "name": "#%%\n"
    }
   }
  },
  {
   "cell_type": "code",
   "execution_count": 49,
   "outputs": [
    {
     "data": {
      "text/plain": "12"
     },
     "execution_count": 49,
     "metadata": {},
     "output_type": "execute_result"
    }
   ],
   "source": [
    "# count index of canceled\n",
    "len(booking_changes_1.index)"
   ],
   "metadata": {
    "collapsed": false,
    "pycharm": {
     "name": "#%%\n"
    }
   }
  },
  {
   "cell_type": "code",
   "execution_count": 50,
   "outputs": [],
   "source": [
    "# fill missing values\n",
    "# the outcome 0 has more values\n",
    "# filling the values will enable joining the dataframes later\n",
    "df_booking_changes_1 = pd.DataFrame(booking_changes_1, index=booking_changes_0.index)\n",
    "df_booking_changes_1.fillna({\"booking_changes\": 0}, inplace=True)\n",
    "booking_changes_1 = pd.Series(df_booking_changes_1[\"booking_changes\"])"
   ],
   "metadata": {
    "collapsed": false,
    "pycharm": {
     "name": "#%%\n"
    }
   }
  },
  {
   "cell_type": "code",
   "execution_count": 51,
   "outputs": [],
   "source": [
    "# add total of both outcomes\n",
    "booking_changes_total = booking_changes_0 + booking_changes_1\n",
    "\n",
    "# calculate percentage of cancellations for each number of booking changes individually\n",
    "percentage_booking_changes = []\n",
    "for i in booking_changes_total.index:\n",
    "    percentage_booking_changes.append(round((booking_changes_1[i] / booking_changes_total[i]) * 100, 2))"
   ],
   "metadata": {
    "collapsed": false,
    "pycharm": {
     "name": "#%%\n"
    }
   }
  },
  {
   "cell_type": "code",
   "execution_count": 52,
   "outputs": [],
   "source": [
    "# create a DataFrame with the percentage of cancellations\n",
    "df_percentage_booking_changes = pd.DataFrame(percentage_booking_changes, index=booking_changes_total.index,\n",
    "                                             columns=[\"cancellations %\"])"
   ],
   "metadata": {
    "collapsed": false,
    "pycharm": {
     "name": "#%%\n"
    }
   }
  },
  {
   "cell_type": "code",
   "execution_count": 53,
   "outputs": [],
   "source": [
    "# create a DataFrame for each outcome\n",
    "df_booking_changes_0 = pd.DataFrame(booking_changes_0.values, index=booking_changes_0.index, columns=[\"not_canceled\"])\n",
    "df_booking_changes_1 = pd.DataFrame(booking_changes_1.values, index=booking_changes_1.index, columns=[\"canceled\"])"
   ],
   "metadata": {
    "collapsed": false,
    "pycharm": {
     "name": "#%%\n"
    }
   }
  },
  {
   "cell_type": "code",
   "execution_count": 54,
   "outputs": [
    {
     "data": {
      "text/plain": "    not_canceled  canceled  cancellations %\n0          51065   35012.0            40.68\n1           9272    1537.0            14.22\n2           2599     657.0            20.18\n3            668     125.0            15.76\n4            257      57.0            18.15\n5             81      18.0            18.18\n6             43      17.0            28.33\n7             26       2.0             7.14\n8             10       4.0            28.57\n10             4       1.0            20.00\n14             3       1.0            25.00\n16             1       1.0            50.00",
      "text/html": "<div>\n<style scoped>\n    .dataframe tbody tr th:only-of-type {\n        vertical-align: middle;\n    }\n\n    .dataframe tbody tr th {\n        vertical-align: top;\n    }\n\n    .dataframe thead th {\n        text-align: right;\n    }\n</style>\n<table border=\"1\" class=\"dataframe\">\n  <thead>\n    <tr style=\"text-align: right;\">\n      <th></th>\n      <th>not_canceled</th>\n      <th>canceled</th>\n      <th>cancellations %</th>\n    </tr>\n  </thead>\n  <tbody>\n    <tr>\n      <th>0</th>\n      <td>51065</td>\n      <td>35012.0</td>\n      <td>40.68</td>\n    </tr>\n    <tr>\n      <th>1</th>\n      <td>9272</td>\n      <td>1537.0</td>\n      <td>14.22</td>\n    </tr>\n    <tr>\n      <th>2</th>\n      <td>2599</td>\n      <td>657.0</td>\n      <td>20.18</td>\n    </tr>\n    <tr>\n      <th>3</th>\n      <td>668</td>\n      <td>125.0</td>\n      <td>15.76</td>\n    </tr>\n    <tr>\n      <th>4</th>\n      <td>257</td>\n      <td>57.0</td>\n      <td>18.15</td>\n    </tr>\n    <tr>\n      <th>5</th>\n      <td>81</td>\n      <td>18.0</td>\n      <td>18.18</td>\n    </tr>\n    <tr>\n      <th>6</th>\n      <td>43</td>\n      <td>17.0</td>\n      <td>28.33</td>\n    </tr>\n    <tr>\n      <th>7</th>\n      <td>26</td>\n      <td>2.0</td>\n      <td>7.14</td>\n    </tr>\n    <tr>\n      <th>8</th>\n      <td>10</td>\n      <td>4.0</td>\n      <td>28.57</td>\n    </tr>\n    <tr>\n      <th>10</th>\n      <td>4</td>\n      <td>1.0</td>\n      <td>20.00</td>\n    </tr>\n    <tr>\n      <th>14</th>\n      <td>3</td>\n      <td>1.0</td>\n      <td>25.00</td>\n    </tr>\n    <tr>\n      <th>16</th>\n      <td>1</td>\n      <td>1.0</td>\n      <td>50.00</td>\n    </tr>\n  </tbody>\n</table>\n</div>"
     },
     "execution_count": 54,
     "metadata": {},
     "output_type": "execute_result"
    }
   ],
   "source": [
    "# join all three DataFrames side by side\n",
    "df_booking_changes = df_booking_changes_0.join([df_booking_changes_1, df_percentage_booking_changes])\n",
    "\n",
    "# remove rows with 0% cancellations\n",
    "df_booking_changes = df_booking_changes[df_booking_changes[\"cancellations %\"] != 0]\n",
    "df_booking_changes"
   ],
   "metadata": {
    "collapsed": false,
    "pycharm": {
     "name": "#%%\n"
    }
   }
  },
  {
   "cell_type": "markdown",
   "source": [
    "> ### Observations:\n",
    ">> * While a large amount of bookings with no changes were canceled, this category can change overtime\n",
    ">> which could possibly be a source of leakage."
   ],
   "metadata": {
    "collapsed": false
   }
  },
  {
   "cell_type": "markdown",
   "source": [
    "> ### Understanding the ADR Feature\n",
    ">> Since this feature is not entirely clear from the description on Kaggle,\n",
    ">> I've decided to further assess it.\n",
    ">>\n",
    ">> The Average Daily Rate (ADR) is typically calculated by taking the average revenue\n",
    ">> earned from the rooms and dividing by the number of rooms sold (excluding rooms occupied\n",
    ">> by staff).\n",
    ">>\n",
    ">> Since it is not clear if an ADR of zero indicates that the booking was canceled or\n",
    ">> if the hotel did not gain profit, I will look at instances listed with an ADR\n",
    ">> of zero. This should provide enough insight to see if this feature should be removed\n",
    ">> during before model evaluations."
   ],
   "metadata": {
    "collapsed": false
   }
  },
  {
   "cell_type": "code",
   "execution_count": 55,
   "outputs": [
    {
     "data": {
      "text/plain": "Check-Out    1514\nCanceled      160\nNo-Show        26\nName: reservation_status, dtype: int64"
     },
     "execution_count": 55,
     "metadata": {},
     "output_type": "execute_result"
    }
   ],
   "source": [
    "df2[df2[\"adr\"] == 0][\"reservation_status\"].value_counts()"
   ],
   "metadata": {
    "collapsed": false,
    "pycharm": {
     "name": "#%%\n"
    }
   }
  },
  {
   "cell_type": "code",
   "execution_count": 56,
   "outputs": [
    {
     "data": {
      "text/plain": "0    1514\n1     186\nName: is_canceled, dtype: int64"
     },
     "execution_count": 56,
     "metadata": {},
     "output_type": "execute_result"
    }
   ],
   "source": [
    "df2[df2[\"adr\"] == 0][\"is_canceled\"].value_counts()"
   ],
   "metadata": {
    "collapsed": false,
    "pycharm": {
     "name": "#%%\n"
    }
   }
  },
  {
   "cell_type": "markdown",
   "source": [
    "> ### Observations:\n",
    ">> * Most bookings are labeled as checked-out and not canceled when the ADR was zero.\n",
    ">> This concludes the previous speculation."
   ],
   "metadata": {
    "collapsed": false
   }
  },
  {
   "cell_type": "markdown",
   "source": [
    "> ### Categorical Attributes:"
   ],
   "metadata": {
    "collapsed": false
   }
  },
  {
   "cell_type": "markdown",
   "source": [
    "> ### Cancellations According to Hotels and Arrival Month"
   ],
   "metadata": {
    "collapsed": false
   }
  },
  {
   "cell_type": "code",
   "execution_count": 57,
   "outputs": [
    {
     "data": {
      "text/plain": "City Hotel      67539\nResort Hotel    33942\nName: hotel, dtype: int64"
     },
     "execution_count": 57,
     "metadata": {},
     "output_type": "execute_result"
    }
   ],
   "source": [
    "df2[\"hotel\"].value_counts()"
   ],
   "metadata": {
    "collapsed": false,
    "pycharm": {
     "name": "#%%\n"
    }
   }
  },
  {
   "cell_type": "code",
   "execution_count": 58,
   "outputs": [
    {
     "data": {
      "text/plain": "<Figure size 720x360 with 1 Axes>",
      "image/png": "[encoded data removed]"
     },
     "metadata": {},
     "output_type": "display_data"
    }
   ],
   "source": [
    "# a plot of the number of instances for each hotel according to cancellations\n",
    "plt.figure(figsize=(10, 5))\n",
    "sns.countplot(x=df2[\"hotel\"], hue=df2[\"is_canceled\"])\n",
    "plt.title(\"Hotel Cancellations\", size=20)\n",
    "plt.legend([\"not canceled\", \"canceled\"])\n",
    "plt.tight_layout()\n",
    "plt.show()"
   ],
   "metadata": {
    "collapsed": false,
    "pycharm": {
     "name": "#%%\n"
    }
   }
  },
  {
   "cell_type": "code",
   "execution_count": 59,
   "outputs": [
    {
     "data": {
      "text/plain": "           Resort Hotel Canceled %  City Hotel Canceled %\nJanuary                      15.33                  39.29\nFebruary                     25.10                  38.22\nMarch                        22.89                  36.82\nApril                        29.35                  46.17\nMay                          28.83                  44.26\nJune                         32.95                  44.37\nJuly                         31.03                  40.63\nAugust                       33.33                  39.78\nSeptember                    32.13                  42.06\nOctober                      27.20                  42.82\nNovember                     19.39                  37.96\nDecember                     23.52                  41.49",
      "text/html": "<div>\n<style scoped>\n    .dataframe tbody tr th:only-of-type {\n        vertical-align: middle;\n    }\n\n    .dataframe tbody tr th {\n        vertical-align: top;\n    }\n\n    .dataframe thead th {\n        text-align: right;\n    }\n</style>\n<table border=\"1\" class=\"dataframe\">\n  <thead>\n    <tr style=\"text-align: right;\">\n      <th></th>\n      <th>Resort Hotel Canceled %</th>\n      <th>City Hotel Canceled %</th>\n    </tr>\n  </thead>\n  <tbody>\n    <tr>\n      <th>January</th>\n      <td>15.33</td>\n      <td>39.29</td>\n    </tr>\n    <tr>\n      <th>February</th>\n      <td>25.10</td>\n      <td>38.22</td>\n    </tr>\n    <tr>\n      <th>March</th>\n      <td>22.89</td>\n      <td>36.82</td>\n    </tr>\n    <tr>\n      <th>April</th>\n      <td>29.35</td>\n      <td>46.17</td>\n    </tr>\n    <tr>\n      <th>May</th>\n      <td>28.83</td>\n      <td>44.26</td>\n    </tr>\n    <tr>\n      <th>June</th>\n      <td>32.95</td>\n      <td>44.37</td>\n    </tr>\n    <tr>\n      <th>July</th>\n      <td>31.03</td>\n      <td>40.63</td>\n    </tr>\n    <tr>\n      <th>August</th>\n      <td>33.33</td>\n      <td>39.78</td>\n    </tr>\n    <tr>\n      <th>September</th>\n      <td>32.13</td>\n      <td>42.06</td>\n    </tr>\n    <tr>\n      <th>October</th>\n      <td>27.20</td>\n      <td>42.82</td>\n    </tr>\n    <tr>\n      <th>November</th>\n      <td>19.39</td>\n      <td>37.96</td>\n    </tr>\n    <tr>\n      <th>December</th>\n      <td>23.52</td>\n      <td>41.49</td>\n    </tr>\n  </tbody>\n</table>\n</div>"
     },
     "execution_count": 59,
     "metadata": {},
     "output_type": "execute_result"
    }
   ],
   "source": [
    "ordered_months = [\"January\", \"February\", \"March\", \"April\", \"May\", \"June\",\n",
    "                  \"July\", \"August\", \"September\", \"October\", \"November\", \"December\"]\n",
    "\n",
    "resort_canceled_percent = []\n",
    "city_canceled_percent = []\n",
    "\n",
    "# divide cancellation outcome by hotel and month of arrival\n",
    "resort_1 = canceled[canceled[\"hotel\"] == \"Resort Hotel\"][\"arrival_date_month\"].value_counts()\n",
    "resort_0 = not_canceled[not_canceled[\"hotel\"] == \"Resort Hotel\"][\"arrival_date_month\"].value_counts()\n",
    "city_1 = canceled[canceled[\"hotel\"] == \"City Hotel\"][\"arrival_date_month\"].value_counts()\n",
    "city_0 = not_canceled[not_canceled[\"hotel\"] == \"City Hotel\"][\"arrival_date_month\"].value_counts()\n",
    "\n",
    "# calculate cancellation percentage according to hotel\n",
    "for i in ordered_months:\n",
    "    resort_canceled_percent.append(round((resort_1[i] / (resort_0[i] + resort_1[i])) * 100, 2))\n",
    "    city_canceled_percent.append(round((city_1[i] / (city_0[i] + city_1[i])) * 100, 2))\n",
    "\n",
    "# create a DataFrame with the cancellation percentage of each hotel\n",
    "df_resort_cancel = pd.DataFrame(resort_canceled_percent, index=ordered_months, columns=[\"Resort Hotel Canceled %\"])\n",
    "df_city_cancel = pd.DataFrame(city_canceled_percent, index=ordered_months, columns=[\"City Hotel Canceled %\"])\n",
    "\n",
    "# join DataFrames\n",
    "df_hotel_cancel = df_resort_cancel.join(df_city_cancel)\n",
    "df_hotel_cancel"
   ],
   "metadata": {
    "collapsed": false,
    "pycharm": {
     "name": "#%%\n"
    }
   }
  },
  {
   "cell_type": "markdown",
   "source": [
    "> ### Observations:\n",
    ">> * There are more instances for City Hotel than Resort Hotel in the data.\n",
    ">> * City Hotel has a higher cancellation rate according to arrival months."
   ],
   "metadata": {
    "collapsed": false
   }
  },
  {
   "cell_type": "markdown",
   "source": [
    "> ### Cancellations According to Meal Booked"
   ],
   "metadata": {
    "collapsed": false
   }
  },
  {
   "cell_type": "code",
   "execution_count": 60,
   "outputs": [
    {
     "data": {
      "text/plain": "<Figure size 720x360 with 1 Axes>",
      "image/png": "[encoded data removed]"
     },
     "metadata": {},
     "output_type": "display_data"
    }
   ],
   "source": [
    "# plot meal according to cancellations\n",
    "plt.figure(figsize=(10, 5))\n",
    "sns.countplot(x=df2[\"meal\"], hue=df2[\"is_canceled\"])\n",
    "plt.title(\"Cancellations According to Meal Booked\", size=20)\n",
    "plt.xlabel(\"meal\", size=15)\n",
    "plt.legend([\"not canceled\", \"canceled\"])\n",
    "plt.tight_layout()\n",
    "plt.show()"
   ],
   "metadata": {
    "collapsed": false,
    "pycharm": {
     "name": "#%%\n"
    }
   }
  },
  {
   "cell_type": "markdown",
   "source": [
    "> ### Observations:\n",
    ">> * The BB (Bed & Breakfast) meal is most common. It is also most frequently canceled."
   ],
   "metadata": {
    "collapsed": false
   }
  },
  {
   "cell_type": "markdown",
   "source": [
    "> ### Cancellations According to Market Segment, Distribution Channel, Customer Type and Room Type"
   ],
   "metadata": {
    "collapsed": false
   }
  },
  {
   "cell_type": "code",
   "execution_count": 61,
   "outputs": [
    {
     "data": {
      "text/plain": "Online TA        48113\nOffline TA/TO    20585\nGroups           16769\nDirect           10689\nCorporate         4485\nComplementary      639\nAviation           199\nUndefined            2\nName: market_segment, dtype: int64"
     },
     "execution_count": 61,
     "metadata": {},
     "output_type": "execute_result"
    }
   ],
   "source": [
    "df2[\"market_segment\"].value_counts()"
   ],
   "metadata": {
    "collapsed": false,
    "pycharm": {
     "name": "#%%\n"
    }
   }
  },
  {
   "cell_type": "code",
   "execution_count": 62,
   "outputs": [
    {
     "data": {
      "text/plain": "['Online TA: 36.57',\n 'Offline TA/TO: 34.19',\n 'Groups: 60.65',\n 'Direct: 15.51',\n 'Corporate: 18.71',\n 'Complementary: 13.15',\n 'Aviation: 22.11',\n 'Undefined: 100.0']"
     },
     "execution_count": 62,
     "metadata": {},
     "output_type": "execute_result"
    }
   ],
   "source": [
    "# calculate cancellation percentage according to market segment\n",
    "market_segment_percent = []\n",
    "\n",
    "market_segment_1 = canceled[\"market_segment\"].value_counts()\n",
    "market_segment_total = df2[\"market_segment\"].value_counts()\n",
    "\n",
    "for i in market_segment_total.index:\n",
    "    market_segment_percent.append(str(i + \": \") +\n",
    "                                  str(round((market_segment_1[i] / market_segment_total[i]) * 100, 2)))\n",
    "market_segment_percent"
   ],
   "metadata": {
    "collapsed": false,
    "pycharm": {
     "name": "#%%\n"
    }
   }
  },
  {
   "cell_type": "code",
   "execution_count": 63,
   "outputs": [
    {
     "data": {
      "text/plain": "TA/TO        83251\nDirect       12412\nCorporate     5652\nGDS            161\nUndefined        5\nName: distribution_channel, dtype: int64"
     },
     "execution_count": 63,
     "metadata": {},
     "output_type": "execute_result"
    }
   ],
   "source": [
    "df2[\"distribution_channel\"].value_counts()"
   ],
   "metadata": {
    "collapsed": false,
    "pycharm": {
     "name": "#%%\n"
    }
   }
  },
  {
   "cell_type": "code",
   "execution_count": 64,
   "outputs": [
    {
     "data": {
      "text/plain": "['TA/TO: 40.81',\n 'Direct: 17.6',\n 'Corporate: 21.89',\n 'GDS: 19.88',\n 'Undefined: 80.0']"
     },
     "execution_count": 64,
     "metadata": {},
     "output_type": "execute_result"
    }
   ],
   "source": [
    "# calculate cancellation percentage according to distribution channel\n",
    "distribution_channel_percent = []\n",
    "\n",
    "distribution_channel_1 = canceled[\"distribution_channel\"].value_counts()\n",
    "distribution_channel_total = df2[\"distribution_channel\"].value_counts()\n",
    "\n",
    "for i in distribution_channel_total.index:\n",
    "    distribution_channel_percent.append(str(i + \": \") +\n",
    "                                        str(round((distribution_channel_1[i] / distribution_channel_total[i]) * 100,\n",
    "                                                  2)))\n",
    "distribution_channel_percent"
   ],
   "metadata": {
    "collapsed": false,
    "pycharm": {
     "name": "#%%\n"
    }
   }
  },
  {
   "cell_type": "code",
   "execution_count": 65,
   "outputs": [
    {
     "data": {
      "text/plain": "Transient          76111\nTransient-Party    21426\nContract            3448\nGroup                496\nName: customer_type, dtype: int64"
     },
     "execution_count": 65,
     "metadata": {},
     "output_type": "execute_result"
    }
   ],
   "source": [
    "df2[\"customer_type\"].value_counts()"
   ],
   "metadata": {
    "collapsed": false,
    "pycharm": {
     "name": "#%%\n"
    }
   }
  },
  {
   "cell_type": "code",
   "execution_count": 66,
   "outputs": [
    {
     "data": {
      "text/plain": "['Transient: 40.6', 'Transient-Party: 25.28', 'Contract: 31.0', 'Group: 9.48']"
     },
     "execution_count": 66,
     "metadata": {},
     "output_type": "execute_result"
    }
   ],
   "source": [
    "# calculate cancellation percentage according to customer type\n",
    "customer_type_percent = []\n",
    "\n",
    "customer_type_1 = canceled[\"customer_type\"].value_counts()\n",
    "customer_type_total = df2[\"customer_type\"].value_counts()\n",
    "\n",
    "for i in customer_type_total.index:\n",
    "    customer_type_percent.append(str(i + \": \") +\n",
    "                                 str(round((customer_type_1[i] / customer_type_total[i]) * 100, 2)))\n",
    "customer_type_percent"
   ],
   "metadata": {
    "collapsed": false,
    "pycharm": {
     "name": "#%%\n"
    }
   }
  },
  {
   "cell_type": "code",
   "execution_count": 67,
   "outputs": [
    {
     "data": {
      "text/plain": "<Figure size 720x360 with 1 Axes>",
      "image/png": "[encoded data removed]"
     },
     "metadata": {},
     "output_type": "display_data"
    }
   ],
   "source": [
    "# plot of cancellations according to room type\n",
    "plt.figure(figsize=(10, 5))\n",
    "sns.countplot(x=df2[\"reserved_room_type\"], hue=df2[\"is_canceled\"])\n",
    "plt.title(\"Cancellations According to Room Type\", size=20)\n",
    "plt.legend([\"not canceled\", \"canceled\"], loc=1)\n",
    "plt.tight_layout()\n",
    "plt.show()"
   ],
   "metadata": {
    "collapsed": false,
    "pycharm": {
     "name": "#%%\n"
    }
   }
  },
  {
   "cell_type": "markdown",
   "source": [
    "> ### Observations:\n",
    ">> * Market segment cancellation rates are highest amongst travel agencies and tour operators.\n",
    ">> * Distribution channel cancellation rates are highest amongst groups, travel agencies and tour operators.\n",
    ">> * Customer type cancellation rates are highest amongst transient\n",
    ">> (meaning the booking is not part of a group or contract and is not associated to another transient booking).\n",
    ">> * The room type \"A\" is canceled most frequently."
   ],
   "metadata": {
    "collapsed": false
   }
  },
  {
   "cell_type": "markdown",
   "source": [
    "> ### Cancellations According to Deposit Type"
   ],
   "metadata": {
    "collapsed": false
   }
  },
  {
   "cell_type": "code",
   "execution_count": 68,
   "outputs": [
    {
     "data": {
      "text/plain": "No Deposit    89037\nNon Refund    12304\nRefundable      140\nName: deposit_type, dtype: int64"
     },
     "execution_count": 68,
     "metadata": {},
     "output_type": "execute_result"
    }
   ],
   "source": [
    "df2[\"deposit_type\"].value_counts()"
   ],
   "metadata": {
    "collapsed": false,
    "pycharm": {
     "name": "#%%\n"
    }
   }
  },
  {
   "cell_type": "code",
   "execution_count": 69,
   "outputs": [
    {
     "data": {
      "text/plain": "No Deposit    74.5766\nNon Refund    10.3057\nRefundable     0.1173\nName: deposit_type, dtype: float64"
     },
     "execution_count": 69,
     "metadata": {},
     "output_type": "execute_result"
    }
   ],
   "source": [
    "# calculate deposit type instances percentage in data\n",
    "deposit_percent = round(df2[\"deposit_type\"].value_counts() / len(df[\"deposit_type\"]) * 100, 4)\n",
    "deposit_percent"
   ],
   "metadata": {
    "collapsed": false,
    "pycharm": {
     "name": "#%%\n"
    }
   }
  },
  {
   "cell_type": "code",
   "execution_count": 70,
   "outputs": [],
   "source": [
    "# use groupby to divide according to deposit type\n",
    "deposit = df2.groupby(by=\"deposit_type\")\n",
    "non_refund = deposit.get_group(\"Non Refund\")\n",
    "refundable = deposit.get_group(\"Refundable\")\n",
    "no_deposit = deposit.get_group(\"No Deposit\")"
   ],
   "metadata": {
    "collapsed": false,
    "pycharm": {
     "name": "#%%\n"
    }
   }
  },
  {
   "cell_type": "code",
   "execution_count": 71,
   "outputs": [],
   "source": [
    "# calculate number of cancellations according to deposit type\n",
    "no_deposit_0 = (no_deposit[\"is_canceled\"] == 0).sum()\n",
    "no_deposit_1 = (no_deposit[\"is_canceled\"] == 1).sum()\n",
    "non_refund_0 = (non_refund[\"is_canceled\"] == 0).sum()\n",
    "non_refund_1 = (non_refund[\"is_canceled\"] == 1).sum()\n",
    "refundable_0 = (refundable[\"is_canceled\"] == 0).sum()\n",
    "refundable_1 = (refundable[\"is_canceled\"] == 1).sum()\n",
    "all_canceled = no_deposit_1 + non_refund_1 + refundable_1\n",
    "all_not_canceled = no_deposit_0 + non_refund_0 + refundable_0"
   ],
   "metadata": {
    "collapsed": false,
    "pycharm": {
     "name": "#%%\n"
    }
   }
  },
  {
   "cell_type": "code",
   "execution_count": 72,
   "outputs": [
    {
     "data": {
      "text/plain": "True"
     },
     "execution_count": 72,
     "metadata": {},
     "output_type": "execute_result"
    }
   ],
   "source": [
    "# check that all values were calculated\n",
    "all_canceled + all_not_canceled == df2[\"deposit_type\"].size"
   ],
   "metadata": {
    "collapsed": false,
    "pycharm": {
     "name": "#%%\n"
    }
   }
  },
  {
   "cell_type": "code",
   "execution_count": 73,
   "outputs": [
    {
     "data": {
      "text/plain": "              no_deposit  non_refund  refundable\nNot Canceled       63860          81         108\nCanceled           25177       12223          32",
      "text/html": "<div>\n<style scoped>\n    .dataframe tbody tr th:only-of-type {\n        vertical-align: middle;\n    }\n\n    .dataframe tbody tr th {\n        vertical-align: top;\n    }\n\n    .dataframe thead th {\n        text-align: right;\n    }\n</style>\n<table border=\"1\" class=\"dataframe\">\n  <thead>\n    <tr style=\"text-align: right;\">\n      <th></th>\n      <th>no_deposit</th>\n      <th>non_refund</th>\n      <th>refundable</th>\n    </tr>\n  </thead>\n  <tbody>\n    <tr>\n      <th>Not Canceled</th>\n      <td>63860</td>\n      <td>81</td>\n      <td>108</td>\n    </tr>\n    <tr>\n      <th>Canceled</th>\n      <td>25177</td>\n      <td>12223</td>\n      <td>32</td>\n    </tr>\n  </tbody>\n</table>\n</div>"
     },
     "execution_count": 73,
     "metadata": {},
     "output_type": "execute_result"
    }
   ],
   "source": [
    "# create a DataFrame with the number of instances for each deposit type\n",
    "df_deposit_type = pd.DataFrame(index=[\"Not Canceled\", \"Canceled\"])\n",
    "df_deposit_type[\"no_deposit\"] = [no_deposit_0, no_deposit_1]\n",
    "df_deposit_type[\"non_refund\"] = [non_refund_0, non_refund_1]\n",
    "df_deposit_type[\"refundable\"] = [refundable_0, refundable_1]\n",
    "df_deposit_type"
   ],
   "metadata": {
    "collapsed": false,
    "pycharm": {
     "name": "#%%\n"
    }
   }
  },
  {
   "cell_type": "code",
   "execution_count": 74,
   "outputs": [
    {
     "data": {
      "text/plain": "<Figure size 1512x432 with 3 Axes>",
      "image/png": "[encoded data removed]"
     },
     "metadata": {},
     "output_type": "display_data"
    }
   ],
   "source": [
    "# pie plot of cancellations according to deposit type\n",
    "cancel_labels = [\"cancelled\", \"not_cancelled\"]\n",
    "fig, dx = plt.subplots(1, 3, figsize=(21, 6))\n",
    "dx[0].pie(np.array([no_deposit_1, no_deposit_0]), labels=cancel_labels, autopct='%1.1f%%', startangle=90,\n",
    "          colors=['firebrick', 'forestgreen'])\n",
    "dx[0].set_title(\"No Deposit Cancellations\", size=20)\n",
    "dx[1].pie(np.array([non_refund_1, non_refund_0]), labels=cancel_labels, autopct='%1.1f%%', startangle=90,\n",
    "          colors=['firebrick', 'forestgreen'])\n",
    "dx[1].set_title(\"Non Refund Cancellations\", size=20)\n",
    "dx[2].pie(np.array([refundable_1, refundable_0]), labels=cancel_labels, autopct='%1.1f%%', startangle=90,\n",
    "          colors=['firebrick', 'forestgreen'])\n",
    "dx[2].set_title(\"Refundable Cancellations\", size=20)\n",
    "plt.tight_layout()\n",
    "plt.show()"
   ],
   "metadata": {
    "collapsed": false,
    "pycharm": {
     "name": "#%%\n"
    }
   }
  },
  {
   "cell_type": "markdown",
   "source": [
    "> #### Observations:\n",
    ">> * The non refund values and graph look a bit off. It almost seems that the values\n",
    ">> for canceled and not canceled were accidentally switched!\n",
    ">> In light of this, it might be better to evaluate the model both with and without this\n",
    ">> feature."
   ],
   "metadata": {
    "collapsed": false
   }
  },
  {
   "cell_type": "markdown",
   "source": [
    "> ### Cancellations According to Country of Origin"
   ],
   "metadata": {
    "collapsed": false
   }
  },
  {
   "cell_type": "code",
   "execution_count": 75,
   "outputs": [
    {
     "data": {
      "text/plain": "175"
     },
     "execution_count": 75,
     "metadata": {},
     "output_type": "execute_result"
    }
   ],
   "source": [
    "df2[\"country\"].unique().size"
   ],
   "metadata": {
    "collapsed": false,
    "pycharm": {
     "name": "#%%\n"
    }
   }
  },
  {
   "cell_type": "code",
   "execution_count": 76,
   "outputs": [
    {
     "data": {
      "text/plain": "PRT    23227\nGBR     2069\nESP     1832\nFRA     1658\nITA     1148\n       ...  \nUMI        1\nGNB        1\nNIC        1\nALB        1\nKEN        1\nName: country, Length: 125, dtype: int64"
     },
     "execution_count": 76,
     "metadata": {},
     "output_type": "execute_result"
    }
   ],
   "source": [
    "canceled[\"country\"].value_counts()"
   ],
   "metadata": {
    "collapsed": false,
    "pycharm": {
     "name": "#%%\n"
    }
   }
  },
  {
   "cell_type": "code",
   "execution_count": 77,
   "outputs": [
    {
     "name": "stdout",
     "output_type": "stream",
     "text": [
      "Number of countries with one or less instances: 33 \n",
      "Number of countries with 10 or less instances: 88 \n",
      "Number of countries with 50 or less instances: 123 \n",
      "Number of countries with 100 or less instances: 139 \n",
      "Number of countries with 1000 or less instances: 161\n"
     ]
    }
   ],
   "source": [
    "# calculate countries by number of instances that appear in data\n",
    "country_1 = (df2[\"country\"].value_counts() <= 1).sum()\n",
    "country_10 = (df2[\"country\"].value_counts() <= 10).sum()\n",
    "country_50 = (df2[\"country\"].value_counts() <= 50).sum()\n",
    "country_100 = (df2[\"country\"].value_counts() <= 100).sum()\n",
    "country_1000 = (df2[\"country\"].value_counts() <= 1000).sum()\n",
    "\n",
    "print(\"Number of countries with one or less instances:\", country_1,\n",
    "      \"\\nNumber of countries with 10 or less instances:\", country_10,\n",
    "      \"\\nNumber of countries with 50 or less instances:\", country_50,\n",
    "      \"\\nNumber of countries with 100 or less instances:\", country_100,\n",
    "      \"\\nNumber of countries with 1000 or less instances:\", country_1000)"
   ],
   "metadata": {
    "collapsed": false,
    "pycharm": {
     "name": "#%%\n"
    }
   }
  },
  {
   "cell_type": "markdown",
   "source": [
    "> ### Observations:\n",
    ">> * There are 175 unique countries. This indicates that the data is representative\n",
    ">> worldwide, contrary to a specific region.\n",
    ">> * More than half of the instances have 50 or fewer observations in the DataFrame.\n",
    ">> * A model would likely generalize better if we avoid using this column."
   ],
   "metadata": {
    "collapsed": false
   }
  },
  {
   "cell_type": "markdown",
   "source": [
    "<a id=\"three\"></a>"
   ],
   "metadata": {
    "collapsed": false
   }
  },
  {
   "cell_type": "markdown",
   "source": [
    "# 3. Data Cleaning"
   ],
   "metadata": {
    "collapsed": false
   }
  },
  {
   "cell_type": "code",
   "execution_count": 78,
   "outputs": [],
   "source": [
    "# clean copy of the training set\n",
    "df3 = train_set.copy()"
   ],
   "metadata": {
    "collapsed": false,
    "pycharm": {
     "name": "#%%\n"
    }
   }
  },
  {
   "cell_type": "code",
   "execution_count": 79,
   "outputs": [],
   "source": [
    "# custom transformer removes instances with zero guests\n",
    "\n",
    "class RemoveZeroGuests(TransformerMixin):\n",
    "\n",
    "    def fit(self, X, y=None):\n",
    "        return self\n",
    "\n",
    "    def transform(self, X):\n",
    "        XData = X.loc[((X[\"adults\"]) + (X[\"children\"]) + (X[\"babies\"])) > 0]\n",
    "        return XData"
   ],
   "metadata": {
    "collapsed": false,
    "pycharm": {
     "name": "#%%\n"
    }
   }
  },
  {
   "cell_type": "code",
   "execution_count": 80,
   "outputs": [
    {
     "data": {
      "text/plain": "(101481, 32)"
     },
     "execution_count": 80,
     "metadata": {},
     "output_type": "execute_result"
    }
   ],
   "source": [
    "df3.shape"
   ],
   "metadata": {
    "collapsed": false,
    "pycharm": {
     "name": "#%%\n"
    }
   }
  },
  {
   "cell_type": "code",
   "execution_count": 81,
   "outputs": [],
   "source": [
    "# use transformer to remove instances with zero guests stayed\n",
    "df3 = RemoveZeroGuests().fit_transform(df3)"
   ],
   "metadata": {
    "collapsed": false,
    "pycharm": {
     "name": "#%%\n"
    }
   }
  },
  {
   "cell_type": "code",
   "execution_count": 82,
   "outputs": [
    {
     "data": {
      "text/plain": "(101327, 32)"
     },
     "execution_count": 82,
     "metadata": {},
     "output_type": "execute_result"
    }
   ],
   "source": [
    "df3.shape"
   ],
   "metadata": {
    "collapsed": false,
    "pycharm": {
     "name": "#%%\n"
    }
   }
  },
  {
   "cell_type": "code",
   "execution_count": 83,
   "outputs": [],
   "source": [
    "# separate features from target values\n",
    "\n",
    "# drop- creates a copy without changing the training set\n",
    "X_train = df3.drop(\"is_canceled\", axis=1)\n",
    "\n",
    "# create a deep copy of the target values\n",
    "y_train = df3[\"is_canceled\"].copy()"
   ],
   "metadata": {
    "collapsed": false,
    "pycharm": {
     "name": "#%%\n"
    }
   }
  },
  {
   "cell_type": "markdown",
   "source": [
    "> ### Removing the Following Columns:\n",
    ">> #### Numerical Attributes:\n",
    ">> * arrival_date_year: This category references towards certain years. This could be\n",
    ">> problematic for instances during years that do not appear in the training data, or\n",
    ">> perhaps have bias towards certain years specifically due to the unequal amounts of\n",
    ">> observations in the training data.\n",
    ">> * arrival_date_day_of_month: The column arrival date week of month generalizes this.\n",
    ">> * booking_changes: Could change over time, potentially causing data leakage.\n",
    ">> * days_in_waiting_list: Could constantly change over time. Additionally, there are many\n",
    ">> instances. This could prevent the model from generalizing.\n",
    ">> * agent & company: Represented by an ID. These columns are uninformative since they\n",
    ">> contain a substantial amount of various numerical values without having an actual\n",
    ">> numerical meaning. Since other columns (such as market segment) indicate the type of\n",
    ">> reservation, these columns won't be needed.\n",
    ">>\n",
    ">> #### Categorical Attributes:\n",
    ">> * country: There are many categories, most with few instances. In order to make a model\n",
    ">> that generalizes, it is better to dismiss this category.\n",
    ">> * assigned_room_type: Similar to reserved_room_type and seems like the reserved room is\n",
    ">> a more suitable choice.\n",
    ">> * reservation_status: Major data leakage! The categories are Check-Out, Canceled and No-Show.\n",
    ">> This is exactly what we are trying to predict.\n",
    ">> * reservation_status_date: This is the date when the reservation status was last changed,\n",
    ">> and therefore is irrelevant."
   ],
   "metadata": {
    "collapsed": false
   }
  },
  {
   "cell_type": "code",
   "execution_count": 84,
   "outputs": [],
   "source": [
    "num_features = [\"lead_time\", \"stays_in_weekend_nights\", \"stays_in_week_nights\", \"adults\", \"children\", \"babies\",\n",
    "                \"is_repeated_guest\", \"previous_cancellations\", \"previous_bookings_not_canceled\", \"adr\",\n",
    "                \"required_car_parking_spaces\", \"total_of_special_requests\"]\n",
    "\n",
    "cat_features = [\"hotel\", \"arrival_date_month\", \"arrival_date_week_number\", \"meal\", \"market_segment\",\n",
    "                \"distribution_channel\", \"reserved_room_type\", \"deposit_type\", \"customer_type\"]"
   ],
   "metadata": {
    "collapsed": false,
    "pycharm": {
     "name": "#%%\n"
    }
   }
  },
  {
   "cell_type": "code",
   "execution_count": 85,
   "outputs": [],
   "source": [
    "# Undefined/SC both represent no meal package and can be combined\n",
    "\n",
    "class ReplaceMeal(TransformerMixin):\n",
    "\n",
    "    def fit(self, X, y=None):\n",
    "        return self\n",
    "\n",
    "    def transform(self, X):\n",
    "        XData = X.copy()\n",
    "        XData[\"meal\"].replace(\"Undefined\", \"SC\", inplace=True)\n",
    "        return XData"
   ],
   "metadata": {
    "collapsed": false,
    "pycharm": {
     "name": "#%%\n"
    }
   }
  },
  {
   "cell_type": "code",
   "execution_count": 86,
   "outputs": [],
   "source": [
    "# SimpleImputer constant default fills values with zero\n",
    "# MinMaxScaler normalizes data (rescales between 0-1)\n",
    "num_pipeline = Pipeline([\n",
    "    (\"imputer\", SimpleImputer(strategy=\"constant\")),\n",
    "    (\"min_max\", MinMaxScaler())\n",
    "])"
   ],
   "metadata": {
    "collapsed": false,
    "pycharm": {
     "name": "#%%\n"
    }
   }
  },
  {
   "cell_type": "code",
   "execution_count": 87,
   "outputs": [],
   "source": [
    "# SimpleImputer fills missing values with 'Unknown'\n",
    "# OneHotEncoder converts categories to a numeric dummy array\n",
    "# (one binary attribute per category)\n",
    "cat_pipeline = Pipeline([\n",
    "    (\"meal\", ReplaceMeal()),\n",
    "    (\"imputer\", SimpleImputer(strategy=\"constant\", fill_value=\"Unknown\")),\n",
    "    (\"one_hot\", OneHotEncoder(handle_unknown=\"ignore\"))\n",
    "])"
   ],
   "metadata": {
    "collapsed": false,
    "pycharm": {
     "name": "#%%\n"
    }
   }
  },
  {
   "cell_type": "code",
   "execution_count": 88,
   "outputs": [],
   "source": [
    "# column transformer:\n",
    "# features generated by each transformer will be concatenated to form a single feature space\n",
    "# columns of the original feature matrix that are not specified are dropped\n",
    "full_pipeline = ColumnTransformer([\n",
    "    (\"numerical\", num_pipeline, num_features),\n",
    "    (\"categorical\", cat_pipeline, cat_features)\n",
    "])"
   ],
   "metadata": {
    "collapsed": false,
    "pycharm": {
     "name": "#%%\n"
    }
   }
  },
  {
   "cell_type": "code",
   "execution_count": 89,
   "outputs": [],
   "source": [
    "# transform training data using pipeline\n",
    "X_train_prepared = full_pipeline.fit_transform(X_train)"
   ],
   "metadata": {
    "collapsed": false,
    "pycharm": {
     "name": "#%%\n"
    }
   }
  },
  {
   "cell_type": "markdown",
   "source": [
    "<a id=\"four\"></a>"
   ],
   "metadata": {
    "collapsed": false
   }
  },
  {
   "cell_type": "markdown",
   "source": [
    "# 4. Training and Evaluating Models"
   ],
   "metadata": {
    "collapsed": false
   }
  },
  {
   "cell_type": "markdown",
   "source": [
    "> Accuracy is less relevant for an imbalanced classification problem.\n",
    "> Evaluating by a metric that represents the data better is important.\n",
    ">\n",
    "> Chosen evaluation metric:\n",
    ">\n",
    "> The F1 Score is calculated by using precision (the accuracy of the positive predictions) and\n",
    "> recall (the ratio of positive instances correctly classified) accuracy.\n",
    "> This metric gives a higher value towards false positives rather than false negatives."
   ],
   "metadata": {
    "collapsed": false
   }
  },
  {
   "cell_type": "code",
   "execution_count": 90,
   "outputs": [],
   "source": [
    "# function prints scores\n",
    "def display_evaluation(actual, pred, print_report=False):\n",
    "    print(\"F1 Score:\", round(metrics.f1_score(actual, pred), 5), \"\\n\")\n",
    "    print(\"Confusion Matrix:\\n\", metrics.confusion_matrix(actual, pred), \"\\n\")\n",
    "    if print_report:\n",
    "        print(\"Classification Report:\\n\", metrics.classification_report(actual, pred))"
   ],
   "metadata": {
    "collapsed": false,
    "pycharm": {
     "name": "#%%\n"
    }
   }
  },
  {
   "cell_type": "markdown",
   "source": [
    "#### Model 1: KNN"
   ],
   "metadata": {
    "collapsed": false
   }
  },
  {
   "cell_type": "code",
   "execution_count": 91,
   "outputs": [
    {
     "name": "stdout",
     "output_type": "stream",
     "text": [
      "Predictions: [0 0 0 0 0 1 0 1 0 0]\n",
      "Labels: [0, 0, 0, 0, 0, 0, 1, 1, 1, 0]\n"
     ]
    }
   ],
   "source": [
    "# instantiate classifier\n",
    "# default k=5\n",
    "knn = KNeighborsClassifier()\n",
    "# knn.fit(X_train_prepared, y_train) # fit the training set\n",
    "# joblib.dump(knn, \"bookings/models/knn1.pkl\")\n",
    "knn = joblib.load(r\"bookings/models/knn1.pkl\")\n",
    "\n",
    "# test on a few instances from training data\n",
    "some_data = X_train.iloc[:10]\n",
    "some_labels = y_train.iloc[:10]\n",
    "some_data_prepared = full_pipeline.transform(some_data)\n",
    "print(\"Predictions:\", knn.predict(some_data_prepared))\n",
    "print(\"Labels:\", list(some_labels))"
   ],
   "metadata": {
    "collapsed": false,
    "pycharm": {
     "name": "#%%\n"
    }
   }
  },
  {
   "cell_type": "code",
   "execution_count": 92,
   "outputs": [
    {
     "name": "stdout",
     "output_type": "stream",
     "text": [
      "F1 Score: 0.80691 \n",
      "\n",
      "Confusion Matrix:\n",
      " [[58977  4943]\n",
      " [ 8765 28642]] \n",
      "\n"
     ]
    }
   ],
   "source": [
    "# knn_pred = knn.predict(X_train_prepared) # predict using the training data\n",
    "# joblib.dump(knn_pred, \"bookings/pred/knn1_pred.pkl\")\n",
    "knn_pred = joblib.load(r\"bookings/pred/knn1_pred.pkl\")\n",
    "display_evaluation(y_train, knn_pred)  # use function to show results"
   ],
   "metadata": {
    "collapsed": false,
    "pycharm": {
     "name": "#%%\n"
    }
   }
  },
  {
   "cell_type": "markdown",
   "source": [
    "#### Model 2: KNN"
   ],
   "metadata": {
    "collapsed": false
   }
  },
  {
   "cell_type": "code",
   "execution_count": 93,
   "outputs": [
    {
     "name": "stdout",
     "output_type": "stream",
     "text": [
      "Predictions: [0 0 0 0 0 0 1 1 1 0]\n",
      "Labels: [0, 0, 0, 0, 0, 0, 1, 1, 1, 0]\n"
     ]
    }
   ],
   "source": [
    "# instantiate KNN model using distance instead of uniform\n",
    "# distance means closer instances have a larger weight\n",
    "# uniform weighs all instances equally\n",
    "# default k=5\n",
    "knn = KNeighborsClassifier(weights=\"distance\")\n",
    "# knn.fit(X_train_prepared, y_train) # fit the training set\n",
    "# joblib.dump(knn, \"bookings/models/knn2.pkl\")\n",
    "knn = joblib.load(r\"bookings/models/knn2.pkl\")\n",
    "\n",
    "# test on a few instances from training data\n",
    "some_data = X_train.iloc[:10]\n",
    "some_labels = y_train.iloc[:10]\n",
    "some_data_prepared = full_pipeline.transform(some_data)\n",
    "print(\"Predictions:\", knn.predict(some_data_prepared))\n",
    "print(\"Labels:\", list(some_labels))"
   ],
   "metadata": {
    "collapsed": false,
    "pycharm": {
     "name": "#%%\n"
    }
   }
  },
  {
   "cell_type": "code",
   "execution_count": 94,
   "outputs": [
    {
     "name": "stdout",
     "output_type": "stream",
     "text": [
      "F1 Score: 0.98576 \n",
      "\n",
      "Confusion Matrix:\n",
      " [[63548   372]\n",
      " [  689 36718]] \n",
      "\n"
     ]
    }
   ],
   "source": [
    "# knn2_pred = knn.predict(X_train_prepared) # predict using the training data\n",
    "# joblib.dump(knn2_pred, \"bookings/pred/knn2_pred.pkl\")\n",
    "knn2_pred = joblib.load(r\"bookings/pred/knn2_pred.pkl\")\n",
    "display_evaluation(y_train, knn2_pred)  # use function to show results"
   ],
   "metadata": {
    "collapsed": false,
    "pycharm": {
     "name": "#%%\n"
    }
   }
  },
  {
   "cell_type": "markdown",
   "source": [
    "> So far, the performance of the KNN model using distance weights instead of uniform\n",
    "> drastically improved the results."
   ],
   "metadata": {
    "collapsed": false
   }
  },
  {
   "cell_type": "markdown",
   "source": [
    "#### Model 3: Random Forest Classifier"
   ],
   "metadata": {
    "collapsed": false
   }
  },
  {
   "cell_type": "markdown",
   "source": [
    "> ### What is the Random Forest Classification Model?\n",
    "\n",
    "Forests are based on multiple decision trees, so it is vital to first understand how decision\n",
    "trees work.\n",
    "\n",
    "A decision tree is a non-linear model built by constructing many linear boundaries.\n",
    "The tree works as a sequence of yes or no, true or false questions that progress down\n",
    "the tree until reaching a predicted class. The data is split into nodes based on\n",
    "feature values. This model is good for occasions when there is no single linear line that\n",
    "can divide the data. Gini Impurity of a node represents the probability that a randomly chosen\n",
    "sample would be incorrectly classified, so the goal is to reduce this as much as possible.\n",
    "\n",
    "Using a single decision tree could cause overfitting of the training data. For example,\n",
    "a decision tree could create a leaf node (the predicted class) for each instance.\n",
    "Using a forest could help generalize better to new data. The random forest model\n",
    "samples random points and subsets of features when training. Then, the predictions are made\n",
    "by averaging the predictions made by each decision tree."
   ],
   "metadata": {
    "collapsed": false
   }
  },
  {
   "cell_type": "code",
   "execution_count": 95,
   "outputs": [
    {
     "name": "stdout",
     "output_type": "stream",
     "text": [
      "Predictions: [0 0 0 0 0 0 1 1 1 0]\n",
      "Labels: [0, 0, 0, 0, 0, 0, 1, 1, 1, 0]\n"
     ]
    }
   ],
   "source": [
    "# max features default is sqrt (number of features selected per split)\n",
    "# bootstrap default is true (resampling data true)\n",
    "# n estimators default is 100 (number of decision tree classifiers)\n",
    "rf_clf = RandomForestClassifier(random_state=42, n_jobs=-1)\n",
    "# rf_clf.fit(X_train_prepared, y_train) # fit the training set\n",
    "# joblib.dump(rf_clf, \"bookings/models/rf_clf1.pkl\")\n",
    "rf_clf = joblib.load(r\"bookings/models/rf_clf1.pkl\")\n",
    "\n",
    "# test on a few instances from training data\n",
    "some_data = X_train.iloc[:10]\n",
    "some_labels = y_train.iloc[:10]\n",
    "some_data_prepared = full_pipeline.transform(some_data)\n",
    "print(\"Predictions:\", rf_clf.predict(some_data_prepared))\n",
    "print(\"Labels:\", list(some_labels))"
   ],
   "metadata": {
    "collapsed": false,
    "pycharm": {
     "name": "#%%\n"
    }
   }
  },
  {
   "cell_type": "code",
   "execution_count": 96,
   "outputs": [
    {
     "name": "stdout",
     "output_type": "stream",
     "text": [
      "F1 Score: 0.98663 \n",
      "\n",
      "Confusion Matrix:\n",
      " [[63607   313]\n",
      " [  682 36725]] \n",
      "\n"
     ]
    }
   ],
   "source": [
    "# rf_pred = rf_clf.predict(X_train_prepared) # predict using the training data\n",
    "# joblib.dump(rf_pred, \"bookings/pred/rf_clf1_pred.pkl\")\n",
    "rf_pred = joblib.load(r\"bookings/pred/rf_clf1_pred.pkl\")\n",
    "display_evaluation(y_train, rf_pred)  # use function to show results"
   ],
   "metadata": {
    "collapsed": false,
    "pycharm": {
     "name": "#%%\n"
    }
   }
  },
  {
   "cell_type": "markdown",
   "source": [
    "> The Random Forest Classification model performed slightly better than the second\n",
    "> KNN model. The next step is to find the hyperparameters\n",
    "> that provide the best results.\n",
    ">\n",
    "> Since the dataset is rather large, and it would take a long time\n",
    "> to run all estimators, using randomized search cv is the ideal\n",
    "> option. The size of the dataset is also the reason I have neglected\n",
    "> randomized search for the KNN model.\n",
    ">\n",
    "> The randomized search runs an amount of iterations specified\n",
    "> and tries random combinations of the attributes listed."
   ],
   "metadata": {
    "collapsed": false
   }
  },
  {
   "cell_type": "markdown",
   "source": [
    "> Before Tuning:"
   ],
   "metadata": {
    "collapsed": false
   }
  },
  {
   "cell_type": "code",
   "execution_count": 97,
   "outputs": [
    {
     "name": "stdout",
     "output_type": "stream",
     "text": [
      "F1 Score: 0.98663 \n",
      "\n",
      "Confusion Matrix:\n",
      " [[63607   313]\n",
      " [  682 36725]] \n",
      "\n"
     ]
    },
    {
     "data": {
      "text/plain": "0.7943834640057021"
     },
     "execution_count": 97,
     "metadata": {},
     "output_type": "execute_result"
    }
   ],
   "source": [
    "# rf_pred_before = cross_val_predict(rf_clf, X_train_prepared, y_train, cv=5, verbose=2)\n",
    "# joblib.dump(rf_pred_before, \"bookings/pred/rf_pred_before.pkl\")\n",
    "rf_pred_before = joblib.load(r\"bookings/pred/rf_pred_before.pkl\")\n",
    "display_evaluation(y_train, rf_pred)\n",
    "metrics.f1_score(y_train, rf_pred_before)"
   ],
   "metadata": {
    "collapsed": false,
    "pycharm": {
     "name": "#%%\n"
    }
   }
  },
  {
   "cell_type": "markdown",
   "source": [
    "#### Random Search Cross Validation 1"
   ],
   "metadata": {
    "collapsed": false
   }
  },
  {
   "cell_type": "code",
   "execution_count": 98,
   "outputs": [],
   "source": [
    "# parameters for random search\n",
    "param_dist_rf = [{\"n_estimators\": [10, 50, 100, 500], \"max_features\": [\"sqrt\", 8, 16], \"bootstrap\": [True, False]}]\n",
    "# instantiate randomized search\n",
    "rf_cv = RandomizedSearchCV(rf_clf, param_dist_rf, n_iter=10, random_state=42, cv=5, scoring=\"f1\")\n",
    "# rf_cv.fit(X_train_prepared, y_train) # fit the training set\n",
    "# joblib.dump(rf_cv, \"bookings/scores/rf_cv1.pkl\")\n",
    "rf_cv = joblib.load(r\"bookings/scores/rf_cv1.pkl\")"
   ],
   "metadata": {
    "collapsed": false,
    "pycharm": {
     "name": "#%%\n"
    }
   }
  },
  {
   "cell_type": "code",
   "execution_count": 99,
   "outputs": [
    {
     "data": {
      "text/plain": "0.7991628082032618"
     },
     "execution_count": 99,
     "metadata": {},
     "output_type": "execute_result"
    }
   ],
   "source": [
    "# show the best score\n",
    "rf_cv.best_score_"
   ],
   "metadata": {
    "collapsed": false,
    "pycharm": {
     "name": "#%%\n"
    }
   }
  },
  {
   "cell_type": "code",
   "execution_count": 100,
   "outputs": [
    {
     "data": {
      "text/plain": "RandomForestClassifier(max_features=16, n_estimators=500, n_jobs=-1,\n                       random_state=42)"
     },
     "execution_count": 100,
     "metadata": {},
     "output_type": "execute_result"
    }
   ],
   "source": [
    "# show the best estimator parameters\n",
    "rf_clf2 = rf_cv.best_estimator_\n",
    "rf_clf2"
   ],
   "metadata": {
    "collapsed": false,
    "pycharm": {
     "name": "#%%\n"
    }
   }
  },
  {
   "cell_type": "code",
   "execution_count": 101,
   "outputs": [
    {
     "name": "stdout",
     "output_type": "stream",
     "text": [
      "0.78073 {'n_estimators': 10, 'max_features': 16, 'bootstrap': True}\n",
      "0.77888 {'n_estimators': 10, 'max_features': 8, 'bootstrap': False}\n",
      "0.77867 {'n_estimators': 10, 'max_features': 'sqrt', 'bootstrap': True}\n",
      "0.7892 {'n_estimators': 100, 'max_features': 8, 'bootstrap': False}\n",
      "0.79916 {'n_estimators': 500, 'max_features': 16, 'bootstrap': True}\n",
      "0.79605 {'n_estimators': 50, 'max_features': 16, 'bootstrap': True}\n",
      "0.78996 {'n_estimators': 50, 'max_features': 'sqrt', 'bootstrap': False}\n",
      "0.79279 {'n_estimators': 50, 'max_features': 'sqrt', 'bootstrap': True}\n",
      "0.79337 {'n_estimators': 50, 'max_features': 16, 'bootstrap': False}\n",
      "0.79074 {'n_estimators': 50, 'max_features': 8, 'bootstrap': True}\n"
     ]
    }
   ],
   "source": [
    "# show results for each iteration\n",
    "cvres = rf_cv.cv_results_\n",
    "for mean_score, params in zip(cvres[\"mean_test_score\"], cvres[\"params\"]):\n",
    "    print(round(mean_score, 5), params)"
   ],
   "metadata": {
    "collapsed": false,
    "pycharm": {
     "name": "#%%\n"
    }
   }
  },
  {
   "cell_type": "markdown",
   "source": [
    "#### Model 4: Random Forest Classifier"
   ],
   "metadata": {
    "collapsed": false
   }
  },
  {
   "cell_type": "code",
   "execution_count": 102,
   "outputs": [
    {
     "name": "stdout",
     "output_type": "stream",
     "text": [
      "F1 Score: 0.79916 \n",
      "\n",
      "Confusion Matrix:\n",
      " [[59028  4892]\n",
      " [ 9257 28150]] \n",
      "\n"
     ]
    }
   ],
   "source": [
    "# rf_clf2_pred = cross_val_predict(rf_clf2, X_train_prepared, y_train, cv=5, verbose=2)\n",
    "# joblib.dump(rf_clf2_pred, \"bookings/pred/rf_clf2_pred.pkl\")\n",
    "rf_clf2_pred = joblib.load(r\"bookings/pred/rf_clf2_pred.pkl\")\n",
    "display_evaluation(y_train, rf_clf2_pred)  # display evaluation scores"
   ],
   "metadata": {
    "collapsed": false,
    "pycharm": {
     "name": "#%%\n"
    }
   }
  },
  {
   "cell_type": "markdown",
   "source": [
    "#### Feature Importance"
   ],
   "metadata": {
    "collapsed": false
   }
  },
  {
   "cell_type": "code",
   "execution_count": 103,
   "outputs": [
    {
     "data": {
      "text/plain": "[(0.16118362429277072, 'lead_time'),\n (0.11086779060263112, 'adr'),\n (0.0599602778426879, 'total_of_special_requests'),\n (0.05056320624761356, 'stays_in_week_nights'),\n (0.03957611116006944, 'previous_cancellations'),\n (0.03281066695110617, 'stays_in_weekend_nights'),\n (0.022474263702596767, 'required_car_parking_spaces'),\n (0.017276395063004255, 'adults'),\n (0.00740954216206894, 'children'),\n (0.006787490796244419, 'hotel'),\n (0.006247423364587789, 'arrival_date_month'),\n (0.0050279961594726945, 'deposit_type'),\n (0.004610996180061733, 'meal'),\n (0.004503642204425172, 'customer_type'),\n (0.004460744145312597, 'arrival_date_week_number'),\n (0.003953187308655435, 'previous_bookings_not_canceled'),\n (0.0035960665798245293, 'distribution_channel'),\n (0.0031149369629089115, 'market_segment'),\n (0.002602523363804602, 'reserved_room_type'),\n (0.002209948979420808, 'is_repeated_guest'),\n (0.0011738575904849042, 'babies')]"
     },
     "execution_count": 103,
     "metadata": {},
     "output_type": "execute_result"
    }
   ],
   "source": [
    "# pair the feature names with the results from randomized search\n",
    "feature_importance = rf_cv.best_estimator_.feature_importances_\n",
    "features = num_features + cat_features\n",
    "sorted(zip(feature_importance, features), reverse=True)"
   ],
   "metadata": {
    "collapsed": false,
    "pycharm": {
     "name": "#%%\n"
    }
   }
  },
  {
   "cell_type": "markdown",
   "source": [
    "> Deposit type is pretty high on the list which raises speculation. As seen earlier,\n",
    "> the cancellation rate was nearly 100% in the category Non Refund.\n",
    "> Lets train a model without this feature.\n",
    ">\n",
    "> Additionally, lets train a model without the parameters that have less\n",
    "> than 0.005 feature importance. If the training error is nearly the\n",
    "> same when using fewer features, it might be more efficient to\n",
    "> train a model without them."
   ],
   "metadata": {
    "collapsed": false
   }
  },
  {
   "cell_type": "code",
   "execution_count": 104,
   "outputs": [],
   "source": [
    "# features left\n",
    "\n",
    "num_features_2 = [\"lead_time\", \"stays_in_weekend_nights\", \"stays_in_week_nights\", \"adults\", \"children\",\n",
    "                  \"previous_cancellations\", \"adr\", \"required_car_parking_spaces\", \"total_of_special_requests\"]\n",
    "\n",
    "cat_features_2 = [\"hotel\", \"arrival_date_month\"]\n",
    "\n",
    "# category pipeline without meal transformer\n",
    "cat_pipeline_2 = Pipeline([\n",
    "    (\"imputer\", SimpleImputer(strategy=\"constant\", fill_value=\"Unknown\")),\n",
    "    (\"one_hot\", OneHotEncoder(handle_unknown=\"ignore\"))\n",
    "])\n",
    "\n",
    "# pipeline with new features\n",
    "full_pipeline_2 = ColumnTransformer([\n",
    "    (\"numerical\", num_pipeline, num_features_2),\n",
    "    (\"categorical\", cat_pipeline_2, cat_features_2)\n",
    "])"
   ],
   "metadata": {
    "collapsed": false,
    "pycharm": {
     "name": "#%%\n"
    }
   }
  },
  {
   "cell_type": "code",
   "execution_count": 105,
   "outputs": [],
   "source": [
    "# transform data with new pipeline\n",
    "X_train_prepared_2 = full_pipeline_2.fit_transform(X_train)"
   ],
   "metadata": {
    "collapsed": false,
    "pycharm": {
     "name": "#%%\n"
    }
   }
  },
  {
   "cell_type": "markdown",
   "source": [
    "#### Model 5: Random Forest Classifier"
   ],
   "metadata": {
    "collapsed": false
   }
  },
  {
   "cell_type": "code",
   "execution_count": 106,
   "outputs": [
    {
     "name": "stdout",
     "output_type": "stream",
     "text": [
      "F1 Score: 0.98247 \n",
      "\n",
      "Confusion Matrix:\n",
      " [[63512   408]\n",
      " [  895 36512]] \n",
      "\n"
     ]
    }
   ],
   "source": [
    "# instantiate model\n",
    "rf_clf3 = RandomForestClassifier(random_state=42, n_jobs=-1)\n",
    "# rf_clf3.fit(X_train_prepared_2, y_train) # fit the training set\n",
    "# joblib.dump(rf_clf3, \"bookings/models/rf_clf3.pkl\")\n",
    "rf_clf3 = joblib.load(r\"bookings/models/rf_clf3.pkl\")\n",
    "# rf_clf3_pred = rf_clf3.predict(X_train_prepared_2) # predictions on training data\n",
    "# joblib.dump(rf_clf3_pred, \"bookings/pred/rf_clf3_pred.pkl\")\n",
    "rf_clf3_pred = joblib.load(r\"bookings/pred/rf_clf3_pred.pkl\")\n",
    "display_evaluation(y_train, rf_clf3_pred)  # display evaluation scores"
   ],
   "metadata": {
    "collapsed": false,
    "pycharm": {
     "name": "#%%\n"
    }
   }
  },
  {
   "cell_type": "markdown",
   "source": [
    "#### Random Search Cross Validation 2"
   ],
   "metadata": {
    "collapsed": false
   }
  },
  {
   "cell_type": "code",
   "execution_count": 107,
   "outputs": [],
   "source": [
    "# parameters for random search\n",
    "param_dist = [{\"n_estimators\": [10, 50, 100, 500], \"max_features\": [4, 8, 16], \"bootstrap\": [True, False]}]\n",
    "rf_cv2 = RandomizedSearchCV(rf_clf3, param_dist, cv=5, n_iter=10, scoring=\"f1\",\n",
    "                            random_state=42)  # instantiate randomized search\n",
    "# rf_cv2.fit(X_train_prepared_2, y_train) # fit the training set\n",
    "# joblib.dump(rf_cv2, \"bookings/scores/rf_cv2.pkl\")\n",
    "rf_cv2 = joblib.load(r\"bookings/scores/rf_cv2.pkl\")"
   ],
   "metadata": {
    "collapsed": false,
    "pycharm": {
     "name": "#%%\n"
    }
   }
  },
  {
   "cell_type": "code",
   "execution_count": 108,
   "outputs": [
    {
     "data": {
      "text/plain": "0.7598261972629967"
     },
     "execution_count": 108,
     "metadata": {},
     "output_type": "execute_result"
    }
   ],
   "source": [
    "# show the best score\n",
    "rf_cv2.best_score_"
   ],
   "metadata": {
    "collapsed": false,
    "pycharm": {
     "name": "#%%\n"
    }
   }
  },
  {
   "cell_type": "code",
   "execution_count": 109,
   "outputs": [
    {
     "data": {
      "text/plain": "RandomForestClassifier(max_features=16, n_estimators=500, n_jobs=-1,\n                       random_state=42)"
     },
     "execution_count": 109,
     "metadata": {},
     "output_type": "execute_result"
    }
   ],
   "source": [
    "# show the best estimator parameters\n",
    "rf_clf4 = rf_cv2.best_estimator_\n",
    "rf_clf4"
   ],
   "metadata": {
    "collapsed": false,
    "pycharm": {
     "name": "#%%\n"
    }
   }
  },
  {
   "cell_type": "code",
   "execution_count": 110,
   "outputs": [
    {
     "name": "stdout",
     "output_type": "stream",
     "text": [
      "0.74426 {'n_estimators': 10, 'max_features': 16, 'bootstrap': True}\n",
      "0.74764 {'n_estimators': 10, 'max_features': 8, 'bootstrap': False}\n",
      "0.74215 {'n_estimators': 10, 'max_features': 4, 'bootstrap': True}\n",
      "0.75542 {'n_estimators': 100, 'max_features': 8, 'bootstrap': False}\n",
      "0.75983 {'n_estimators': 500, 'max_features': 16, 'bootstrap': True}\n",
      "0.75608 {'n_estimators': 50, 'max_features': 16, 'bootstrap': True}\n",
      "0.75021 {'n_estimators': 50, 'max_features': 4, 'bootstrap': False}\n",
      "0.75506 {'n_estimators': 50, 'max_features': 4, 'bootstrap': True}\n",
      "0.7492 {'n_estimators': 50, 'max_features': 16, 'bootstrap': False}\n",
      "0.75857 {'n_estimators': 50, 'max_features': 8, 'bootstrap': True}\n"
     ]
    }
   ],
   "source": [
    "# show results for each iteration\n",
    "cvres = rf_cv2.cv_results_\n",
    "for mean_score, params in zip(cvres[\"mean_test_score\"], cvres[\"params\"]):\n",
    "    print(round(mean_score, 5), params)"
   ],
   "metadata": {
    "collapsed": false,
    "pycharm": {
     "name": "#%%\n"
    }
   }
  },
  {
   "cell_type": "code",
   "execution_count": 111,
   "outputs": [
    {
     "name": "stdout",
     "output_type": "stream",
     "text": [
      "F1 Score: 0.75983 \n",
      "\n",
      "Confusion Matrix:\n",
      " [[57807  6113]\n",
      " [10743 26664]] \n",
      "\n",
      "Classification Report:\n",
      "               precision    recall  f1-score   support\n",
      "\n",
      "           0       0.84      0.90      0.87     63920\n",
      "           1       0.81      0.71      0.76     37407\n",
      "\n",
      "    accuracy                           0.83    101327\n",
      "   macro avg       0.83      0.81      0.82    101327\n",
      "weighted avg       0.83      0.83      0.83    101327\n",
      "\n"
     ]
    }
   ],
   "source": [
    "# predict using training data\n",
    "# rf_clf4_pred = cross_val_predict(rf_clf4, X_train_prepared_2, y_train, cv=5, verbose=2)\n",
    "# joblib.dump(rf_clf4_pred, \"bookings/pred/rf_clf4_pred.pkl\")\n",
    "rf_clf4_pred = joblib.load(r\"bookings/pred/rf_clf4_pred.pkl\")\n",
    "display_evaluation(y_train, rf_clf4_pred, True)  # display evaluation scores"
   ],
   "metadata": {
    "collapsed": false,
    "pycharm": {
     "name": "#%%\n"
    }
   }
  },
  {
   "cell_type": "markdown",
   "source": [
    "#### Dummy Classifier\n",
    "> The dummy classifier serves as an indication and comparison for model performance."
   ],
   "metadata": {
    "collapsed": false
   }
  },
  {
   "cell_type": "code",
   "execution_count": 112,
   "outputs": [],
   "source": [
    "# dummy classifier\n",
    "# classifies every instance as not canceled\n",
    "# BaseEstimator allows to set and get estimator parameters\n",
    "class NeverCanceledClassifier(BaseEstimator):\n",
    "\n",
    "    def fit(self, X, y=None):\n",
    "        pass\n",
    "\n",
    "    def predict(self, X):\n",
    "        return np.zeros((len(X), 1), dtype=int)"
   ],
   "metadata": {
    "collapsed": false,
    "pycharm": {
     "name": "#%%\n"
    }
   }
  },
  {
   "cell_type": "code",
   "execution_count": 113,
   "outputs": [],
   "source": [
    "# instantiate dummy classifier\n",
    "never_canceled = NeverCanceledClassifier()"
   ],
   "metadata": {
    "collapsed": false,
    "pycharm": {
     "name": "#%%\n"
    }
   }
  },
  {
   "cell_type": "code",
   "execution_count": 114,
   "outputs": [],
   "source": [
    "# fit the training set\n",
    "never_canceled.fit(X_train, y_train)"
   ],
   "metadata": {
    "collapsed": false,
    "pycharm": {
     "name": "#%%\n"
    }
   }
  },
  {
   "cell_type": "code",
   "execution_count": 115,
   "outputs": [],
   "source": [
    "# predict using dummy classifier\n",
    "never_canceled_pred = never_canceled.predict(X_train)"
   ],
   "metadata": {
    "collapsed": false,
    "pycharm": {
     "name": "#%%\n"
    }
   }
  },
  {
   "cell_type": "code",
   "execution_count": 116,
   "outputs": [
    {
     "name": "stdout",
     "output_type": "stream",
     "text": [
      "Accuracy: 0.6308289004904912\n",
      "Confusion Matrix:\n",
      " [[63920     0]\n",
      " [37407     0]]\n"
     ]
    }
   ],
   "source": [
    "# evaluate scores for comparison\n",
    "# can't assess using F1 score\n",
    "# precision will divide by zero\n",
    "print(\"Accuracy:\", metrics.accuracy_score(y_train, never_canceled_pred))\n",
    "print(\"Confusion Matrix:\\n\", metrics.confusion_matrix(y_train, never_canceled_pred))"
   ],
   "metadata": {
    "collapsed": false,
    "pycharm": {
     "name": "#%%\n"
    }
   }
  },
  {
   "cell_type": "markdown",
   "source": [
    "> ### Overview:\n",
    ">> ####  Removing nearly half of the features did not drastically change the score.\n",
    ">> * The model prior to feature selection had an F1 score of 0.99.\n",
    ">> * The model after feature selection has an F1 score of 0.98.\n",
    ">> * The model performs better than the dummy classifier."
   ],
   "metadata": {
    "collapsed": false
   }
  },
  {
   "cell_type": "code",
   "execution_count": 117,
   "outputs": [],
   "source": [
    "# use predictions to get precision recall curve values\n",
    "rf_scores = rf_cv2.best_estimator_.predict_proba(X_train_prepared_2)[:, 1]\n",
    "precisions, recalls, thresholds = metrics.precision_recall_curve(y_train, rf_scores)"
   ],
   "metadata": {
    "collapsed": false,
    "pycharm": {
     "name": "#%%\n"
    }
   }
  },
  {
   "cell_type": "code",
   "execution_count": 118,
   "outputs": [
    {
     "data": {
      "text/plain": "<Figure size 504x360 with 1 Axes>",
      "image/png": "[encoded data removed]"
     },
     "metadata": {},
     "output_type": "display_data"
    }
   ],
   "source": [
    "# plot precision recall curve\n",
    "plt.figure(figsize=(7, 5))\n",
    "plt.plot(precisions, recalls, linewidth=3)\n",
    "plt.title(\"Precision Recall Curve for Hotel Cancellations\", size=20)\n",
    "plt.xlabel(\"Recall\", size=15)\n",
    "plt.ylabel(\"Precision\", size=15)\n",
    "plt.tight_layout()\n",
    "plt.show()"
   ],
   "metadata": {
    "collapsed": false,
    "pycharm": {
     "name": "#%%\n"
    }
   }
  },
  {
   "cell_type": "markdown",
   "source": [
    "<a id=\"five\"></a>"
   ],
   "metadata": {
    "collapsed": false
   }
  },
  {
   "cell_type": "markdown",
   "source": [
    "# 5. Evaluating the Test Set"
   ],
   "metadata": {
    "collapsed": false
   }
  },
  {
   "cell_type": "code",
   "execution_count": 119,
   "outputs": [],
   "source": [
    "# separate test set predictors and labels\n",
    "X_test = test_set.drop(\"is_canceled\", axis=1)\n",
    "y_test = test_set[\"is_canceled\"].copy()"
   ],
   "metadata": {
    "collapsed": false,
    "pycharm": {
     "name": "#%%\n"
    }
   }
  },
  {
   "cell_type": "code",
   "execution_count": 120,
   "outputs": [],
   "source": [
    "# transform test set\n",
    "X_test_prep = full_pipeline_2.transform(X_test)"
   ],
   "metadata": {
    "collapsed": false,
    "pycharm": {
     "name": "#%%\n"
    }
   }
  },
  {
   "cell_type": "code",
   "execution_count": 121,
   "outputs": [
    {
     "data": {
      "text/plain": "RandomForestClassifier(max_features=16, n_estimators=500, n_jobs=-1,\n                       random_state=42)"
     },
     "execution_count": 121,
     "metadata": {},
     "output_type": "execute_result"
    }
   ],
   "source": [
    "final_model = rf_cv2.best_estimator_\n",
    "final_model"
   ],
   "metadata": {
    "collapsed": false,
    "pycharm": {
     "name": "#%%\n"
    }
   }
  },
  {
   "cell_type": "code",
   "execution_count": 122,
   "outputs": [
    {
     "name": "stdout",
     "output_type": "stream",
     "text": [
      "F1 Score: 0.77825 \n",
      "\n",
      "Confusion Matrix:\n",
      " [[10124   993]\n",
      " [ 1833  4959]] \n",
      "\n",
      "Classification Report:\n",
      "               precision    recall  f1-score   support\n",
      "\n",
      "           0       0.85      0.91      0.88     11117\n",
      "           1       0.83      0.73      0.78      6792\n",
      "\n",
      "    accuracy                           0.84     17909\n",
      "   macro avg       0.84      0.82      0.83     17909\n",
      "weighted avg       0.84      0.84      0.84     17909\n",
      "\n"
     ]
    }
   ],
   "source": [
    "final_predictions = final_model.predict(X_test_prep)  # predict test set\n",
    "display_evaluation(y_test, final_predictions, True)  # evaluate predictions"
   ],
   "metadata": {
    "collapsed": false,
    "pycharm": {
     "name": "#%%\n"
    }
   }
  },
  {
   "cell_type": "code",
   "execution_count": 123,
   "outputs": [],
   "source": [
    "# save a local copy of the final model\n",
    "# joblib.dump(final_model, \"bookings/models/final_model_A.pkl\")"
   ],
   "metadata": {
    "collapsed": false,
    "pycharm": {
     "name": "#%%\n"
    }
   }
  },
  {
   "cell_type": "markdown",
   "source": [
    "<a id='section_b'></a>"
   ],
   "metadata": {
    "collapsed": false
   }
  },
  {
   "cell_type": "markdown",
   "source": [
    "## Section B: Using Different ML Techniques to Improve Prediction Results"
   ],
   "metadata": {
    "collapsed": false
   }
  },
  {
   "cell_type": "markdown",
   "source": [
    "In this second part, I will attempt to improve the prediction score of my previous project by\n",
    "using the knowledge and skills I have gained the past several months."
   ],
   "metadata": {
    "collapsed": false
   }
  },
  {
   "cell_type": "markdown",
   "source": [
    "> Important Notes:\n",
    "* Feature importance was explored in the previous section. 111 features were reduced to 23 (recall that\n",
    "the number of columns is greater than the originally explored dataset. This is due to the fact that\n",
    "OneHotEncoder converts categories to a numeric dummy array which adds columns).\n",
    "I will be using the data transformed from the most recent feature selection.\n",
    "* PCA is also trickier to apply here since I chose to use MinMaxScaler during the first part of\n",
    "the project, which normalizes the data to the range [0, 1]. PCA requires a zero mean, which is\n",
    "achieved when using StandardScaler."
   ],
   "metadata": {
    "collapsed": false
   }
  },
  {
   "cell_type": "code",
   "execution_count": 124,
   "outputs": [],
   "source": [
    "# function for evaluating cross-validation scores and for easy model comparison\n",
    "def display_scores(scores):\n",
    "    print(\"Scores:\", scores)\n",
    "    print(\"Mean:\", round(scores.mean(), 5))\n",
    "    print(\"Standard Deviation:\", round(scores.std(), 5))"
   ],
   "metadata": {
    "collapsed": false,
    "pycharm": {
     "name": "#%%\n"
    }
   }
  },
  {
   "cell_type": "code",
   "execution_count": 125,
   "outputs": [
    {
     "data": {
      "text/plain": "RandomForestClassifier(max_features=16, n_estimators=500, n_jobs=-1,\n                       random_state=42)"
     },
     "execution_count": 125,
     "metadata": {},
     "output_type": "execute_result"
    }
   ],
   "source": [
    "final_model_A = joblib.load(r\"bookings/models/final_model_A.pkl\")\n",
    "final_model_A"
   ],
   "metadata": {
    "collapsed": false,
    "pycharm": {
     "name": "#%%\n"
    }
   }
  },
  {
   "cell_type": "code",
   "execution_count": 126,
   "outputs": [
    {
     "name": "stdout",
     "output_type": "stream",
     "text": [
      "F1 Score: 0.77825 \n",
      "\n",
      "Confusion Matrix:\n",
      " [[10124   993]\n",
      " [ 1833  4959]] \n",
      "\n",
      "Classification Report:\n",
      "               precision    recall  f1-score   support\n",
      "\n",
      "           0       0.85      0.91      0.88     11117\n",
      "           1       0.83      0.73      0.78      6792\n",
      "\n",
      "    accuracy                           0.84     17909\n",
      "   macro avg       0.84      0.82      0.83     17909\n",
      "weighted avg       0.84      0.84      0.84     17909\n",
      "\n"
     ]
    }
   ],
   "source": [
    "# cross-validation prediction of previous final model\n",
    "display_evaluation(y_test, final_predictions, True)"
   ],
   "metadata": {
    "collapsed": false,
    "pycharm": {
     "name": "#%%\n"
    }
   }
  },
  {
   "cell_type": "markdown",
   "source": [
    "# 6. Model Improvements- First Attempt:\n",
    "## Fine-Tune the Random Forest model.\n",
    "> This is the final model used in the previous section.\n",
    "> To kick-start this project, I will fine-tune the Random Forest model again.\n",
    "> I have studied this Machine Learning algorithm in depth since then and believe\n",
    "> I have better knowledge of the hyperparameters."
   ],
   "metadata": {
    "collapsed": false,
    "pycharm": {
     "name": "#%% md\n"
    }
   }
  },
  {
   "cell_type": "markdown",
   "source": [
    "> Previous Model:"
   ],
   "metadata": {
    "collapsed": false,
    "pycharm": {
     "name": "#%% md\n"
    }
   }
  },
  {
   "cell_type": "code",
   "execution_count": 127,
   "outputs": [
    {
     "name": "stdout",
     "output_type": "stream",
     "text": [
      "F1 Score: 0.75983 \n",
      "\n",
      "Confusion Matrix:\n",
      " [[57807  6113]\n",
      " [10743 26664]] \n",
      "\n"
     ]
    }
   ],
   "source": [
    "display_evaluation(y_train, rf_clf4_pred)"
   ],
   "metadata": {
    "collapsed": false,
    "pycharm": {
     "name": "#%%\n"
    }
   }
  },
  {
   "cell_type": "markdown",
   "source": [
    "> Tuning the maximum number of features per tree:"
   ],
   "metadata": {
    "collapsed": false
   }
  },
  {
   "cell_type": "code",
   "execution_count": 128,
   "outputs": [],
   "source": [
    "param_grid = [{\n",
    "    \"max_features\": ['sqrt', \"log2\", 0.1, 0.2, 0.5, 0.8, None]\n",
    "    # max features that are evaluated before splitting a node\n",
    "}]"
   ],
   "metadata": {
    "collapsed": false,
    "pycharm": {
     "name": "#%%\n"
    }
   }
  },
  {
   "cell_type": "code",
   "execution_count": 129,
   "outputs": [],
   "source": [
    "rf_cv3 = GridSearchCV(RandomForestClassifier(random_state=42, n_jobs=-1), param_grid, scoring=\"f1\", cv=5, verbose=2)\n",
    "# rf_cv3.fit(X_train_prepared_2, y_train)\n",
    "# joblib.dump(rf_cv3, \"bookings/scores/rf_cv3.pkl\")\n",
    "rf_cv3 = joblib.load(r\"bookings/scores/rf_cv3.pkl\")"
   ],
   "metadata": {
    "collapsed": false,
    "pycharm": {
     "name": "#%%\n"
    }
   }
  },
  {
   "cell_type": "code",
   "execution_count": 130,
   "outputs": [
    {
     "data": {
      "text/plain": "0.75937797040982"
     },
     "execution_count": 130,
     "metadata": {},
     "output_type": "execute_result"
    }
   ],
   "source": [
    "rf_cv3.best_score_"
   ],
   "metadata": {
    "collapsed": false,
    "pycharm": {
     "name": "#%%\n"
    }
   }
  },
  {
   "cell_type": "code",
   "execution_count": 131,
   "outputs": [
    {
     "data": {
      "text/plain": "RandomForestClassifier(max_features=0.5, n_jobs=-1, random_state=42)"
     },
     "execution_count": 131,
     "metadata": {},
     "output_type": "execute_result"
    }
   ],
   "source": [
    "rf_clf5 = rf_cv3.best_estimator_\n",
    "rf_clf5"
   ],
   "metadata": {
    "collapsed": false,
    "pycharm": {
     "name": "#%%\n"
    }
   }
  },
  {
   "cell_type": "code",
   "execution_count": 132,
   "outputs": [
    {
     "name": "stdout",
     "output_type": "stream",
     "text": [
      "0.75689 {'max_features': 'sqrt'}\n",
      "0.75689 {'max_features': 'log2'}\n",
      "0.75223 {'max_features': 0.1}\n",
      "0.75689 {'max_features': 0.2}\n",
      "0.75938 {'max_features': 0.5}\n",
      "0.75859 {'max_features': 0.8}\n",
      "0.75727 {'max_features': None}\n"
     ]
    }
   ],
   "source": [
    "# show results for each iteration\n",
    "cvres = rf_cv3.cv_results_\n",
    "for mean_score, params in zip(cvres[\"mean_test_score\"], cvres[\"params\"]):\n",
    "    print(round(mean_score, 5), params)"
   ],
   "metadata": {
    "collapsed": false,
    "pycharm": {
     "name": "#%%\n"
    }
   }
  },
  {
   "cell_type": "code",
   "execution_count": 133,
   "outputs": [],
   "source": [
    "param_grid = [{\n",
    "    \"max_features\": [0.3, 0.4, 0.5, 0.6, 0.7]\n",
    "}]"
   ],
   "metadata": {
    "collapsed": false,
    "pycharm": {
     "name": "#%%\n"
    }
   }
  },
  {
   "cell_type": "code",
   "execution_count": 134,
   "outputs": [],
   "source": [
    "rf_cv4 = GridSearchCV(rf_clf5, param_grid, scoring=\"f1\", cv=5, verbose=2)\n",
    "# rf_cv4.fit(X_train_prepared_2, y_train)\n",
    "# joblib.dump(rf_cv4, \"bookings/scores/rf_cv4.pkl\")\n",
    "rf_cv4 = joblib.load(r\"bookings/scores/rf_cv4.pkl\")"
   ],
   "metadata": {
    "collapsed": false,
    "pycharm": {
     "name": "#%%\n"
    }
   }
  },
  {
   "cell_type": "code",
   "execution_count": 135,
   "outputs": [
    {
     "data": {
      "text/plain": "0.7612587216860941"
     },
     "execution_count": 135,
     "metadata": {},
     "output_type": "execute_result"
    }
   ],
   "source": [
    "rf_cv4.best_score_"
   ],
   "metadata": {
    "collapsed": false,
    "pycharm": {
     "name": "#%%\n"
    }
   }
  },
  {
   "cell_type": "code",
   "execution_count": 136,
   "outputs": [
    {
     "data": {
      "text/plain": "RandomForestClassifier(max_features=0.4, n_jobs=-1, random_state=42)"
     },
     "execution_count": 136,
     "metadata": {},
     "output_type": "execute_result"
    }
   ],
   "source": [
    "rf_clf6 = rf_cv4.best_estimator_\n",
    "rf_clf6"
   ],
   "metadata": {
    "collapsed": false,
    "pycharm": {
     "name": "#%%\n"
    }
   }
  },
  {
   "cell_type": "code",
   "execution_count": 137,
   "outputs": [
    {
     "name": "stdout",
     "output_type": "stream",
     "text": [
      "0.75787 {'max_features': 0.3}\n",
      "0.76126 {'max_features': 0.4}\n",
      "0.75938 {'max_features': 0.5}\n",
      "0.75999 {'max_features': 0.6}\n",
      "0.75905 {'max_features': 0.7}\n"
     ]
    }
   ],
   "source": [
    "# show results for each iteration\n",
    "cvres = rf_cv4.cv_results_\n",
    "for mean_score, params in zip(cvres[\"mean_test_score\"], cvres[\"params\"]):\n",
    "    print(round(mean_score, 5), params)"
   ],
   "metadata": {
    "collapsed": false,
    "pycharm": {
     "name": "#%%\n"
    }
   }
  },
  {
   "cell_type": "markdown",
   "source": [
    "> Tuning number of trees and criterion with Bagging and Pasting:\n",
    ">> Note- The main difference between the criterion:\n",
    "- Gini is faster to compute and tends to separate the most frequent class to its own branch.\n",
    "- Entropy takes longer to compute and is likely to have more balanced trees."
   ],
   "metadata": {
    "collapsed": false
   }
  },
  {
   "cell_type": "code",
   "execution_count": 138,
   "outputs": [],
   "source": [
    "param_grid = [{\n",
    "    \"n_estimators\": [100, 200, 300],  # max features in an individual tree\n",
    "    \"bootstrap\": [True, False],  # sampling with or without replacement\n",
    "    # True (Scikit-learn default) = bagging, False = pasting\n",
    "    \"criterion\": [\"gini\", \"entropy\"]  # function to measure quality of split\n",
    "}]"
   ],
   "metadata": {
    "collapsed": false,
    "pycharm": {
     "name": "#%%\n"
    }
   }
  },
  {
   "cell_type": "code",
   "execution_count": 139,
   "outputs": [],
   "source": [
    "rf_cv5 = GridSearchCV(rf_clf6, param_grid, scoring=\"f1\", cv=5, verbose=2)\n",
    "# rf_cv5.fit(X_train_prepared_2, y_train)\n",
    "# joblib.dump(rf_cv5, \"bookings/scores/rf_cv5.pkl\")\n",
    "rf_cv5 = joblib.load(r\"bookings/scores/rf_cv5.pkl\")"
   ],
   "metadata": {
    "collapsed": false,
    "pycharm": {
     "name": "#%%\n"
    }
   }
  },
  {
   "cell_type": "code",
   "execution_count": 140,
   "outputs": [
    {
     "data": {
      "text/plain": "0.7617297093621068"
     },
     "execution_count": 140,
     "metadata": {},
     "output_type": "execute_result"
    }
   ],
   "source": [
    "rf_cv5.best_score_"
   ],
   "metadata": {
    "collapsed": false,
    "pycharm": {
     "name": "#%%\n"
    }
   }
  },
  {
   "cell_type": "code",
   "execution_count": 141,
   "outputs": [
    {
     "data": {
      "text/plain": "RandomForestClassifier(max_features=0.4, n_estimators=300, n_jobs=-1,\n                       random_state=42)"
     },
     "execution_count": 141,
     "metadata": {},
     "output_type": "execute_result"
    }
   ],
   "source": [
    "rf_clf7 = rf_cv5.best_estimator_\n",
    "rf_clf7"
   ],
   "metadata": {
    "collapsed": false,
    "pycharm": {
     "name": "#%%\n"
    }
   }
  },
  {
   "cell_type": "code",
   "execution_count": 142,
   "outputs": [
    {
     "name": "stdout",
     "output_type": "stream",
     "text": [
      "0.76126 {'bootstrap': True, 'criterion': 'gini', 'n_estimators': 100}\n",
      "0.76165 {'bootstrap': True, 'criterion': 'gini', 'n_estimators': 200}\n",
      "0.76173 {'bootstrap': True, 'criterion': 'gini', 'n_estimators': 300}\n",
      "0.76008 {'bootstrap': True, 'criterion': 'entropy', 'n_estimators': 100}\n",
      "0.76125 {'bootstrap': True, 'criterion': 'entropy', 'n_estimators': 200}\n",
      "0.7613 {'bootstrap': True, 'criterion': 'entropy', 'n_estimators': 300}\n",
      "0.75616 {'bootstrap': False, 'criterion': 'gini', 'n_estimators': 100}\n",
      "0.75627 {'bootstrap': False, 'criterion': 'gini', 'n_estimators': 200}\n",
      "0.7566 {'bootstrap': False, 'criterion': 'gini', 'n_estimators': 300}\n",
      "0.75578 {'bootstrap': False, 'criterion': 'entropy', 'n_estimators': 100}\n",
      "0.75581 {'bootstrap': False, 'criterion': 'entropy', 'n_estimators': 200}\n",
      "0.75688 {'bootstrap': False, 'criterion': 'entropy', 'n_estimators': 300}\n"
     ]
    }
   ],
   "source": [
    "# show results for each iteration\n",
    "cvres = rf_cv5.cv_results_\n",
    "for mean_score, params in zip(cvres[\"mean_test_score\"], cvres[\"params\"]):\n",
    "    print(round(mean_score, 5), params)"
   ],
   "metadata": {
    "collapsed": false,
    "pycharm": {
     "name": "#%%\n"
    }
   }
  },
  {
   "cell_type": "markdown",
   "source": [
    "> #### Observations:\n",
    "* There is a minor difference between the highest score with 300 estimators and 200 estimators.\n",
    "* 200 estimators reduces computational complexity while maintaining nearly the same score."
   ],
   "metadata": {
    "collapsed": false,
    "pycharm": {
     "name": "#%% md\n"
    }
   }
  },
  {
   "cell_type": "markdown",
   "source": [
    "> **Final Random Forest model:** 200 estimators, bagging method (sampling with replacement), gini criterion,\n",
    "> and considers 0.4 features when splitting a node.\n",
    ">> Note: The Random Forest model has a higher F1 score than the previous one!"
   ],
   "metadata": {
    "collapsed": false,
    "pycharm": {
     "name": "#%% md\n"
    }
   }
  },
  {
   "cell_type": "code",
   "execution_count": 143,
   "outputs": [
    {
     "name": "stdout",
     "output_type": "stream",
     "text": [
      "F1 Score: 0.76126 \n",
      "\n",
      "Confusion Matrix:\n",
      " [[58075  5845]\n",
      " [10827 26580]] \n",
      "\n",
      "Classification Report:\n",
      "               precision    recall  f1-score   support\n",
      "\n",
      "           0       0.84      0.91      0.87     63920\n",
      "           1       0.82      0.71      0.76     37407\n",
      "\n",
      "    accuracy                           0.84    101327\n",
      "   macro avg       0.83      0.81      0.82    101327\n",
      "weighted avg       0.83      0.84      0.83    101327\n",
      "\n"
     ]
    }
   ],
   "source": [
    "rf_clf_final = RandomForestClassifier(n_estimators=200, criterion=\"entropy\", max_features=0.4, random_state=42, n_jobs=-1)\n",
    "# rf_clf_final.fit(X_train_prepared_2, y_train)\n",
    "# joblib.dump(rf_clf_final, \"bookings/models/rf_clf_final.pkl\")\n",
    "rf_clf_final = joblib.load(r\"bookings/models/rf_clf_final.pkl\")\n",
    "\n",
    "# rf_clf_final_pred = cross_val_predict(rf_clf_final, X_train_prepared_2, y_train, cv=5, verbose=2)\n",
    "# joblib.dump(rf_clf_final_pred, \"bookings/pred/rf_clf_final_pred.pkl\")\n",
    "rf_clf_final_pred = joblib.load(r\"bookings/pred/rf_clf_final_pred.pkl\")\n",
    "display_evaluation(y_train, rf_clf_final_pred, True)"
   ],
   "metadata": {
    "collapsed": false,
    "pycharm": {
     "name": "#%%\n"
    }
   }
  },
  {
   "cell_type": "markdown",
   "source": [
    "# 7. Model Improvements- Second Attempt:\n",
    "## Fine-Tune the KNN model.\n",
    "> When training models in section A I trained two KNN classifiers, each using different weights.\n",
    "> The model that used distance weights deemed promising results.\n",
    "> Now, I will use Grid Search to find the optimal parameters using distance weights."
   ],
   "metadata": {
    "collapsed": false
   }
  },
  {
   "cell_type": "markdown",
   "source": [
    "> Baseline Model:"
   ],
   "metadata": {
    "collapsed": false,
    "pycharm": {
     "name": "#%% md\n"
    }
   }
  },
  {
   "cell_type": "code",
   "execution_count": 144,
   "outputs": [
    {
     "name": "stdout",
     "output_type": "stream",
     "text": [
      "F1 Score: 0.72542 \n",
      "\n",
      "Confusion Matrix:\n",
      " [[55657  8263]\n",
      " [11414 25993]] \n",
      "\n"
     ]
    }
   ],
   "source": [
    "knn_clf = KNeighborsClassifier(weights=\"distance\")\n",
    "# knn_clf_pred = cross_val_predict(knn_clf, X_train_prepared_2, y_train, cv=5, verbose=2, n_jobs=-1)\n",
    "# joblib.dump(knn_clf_pred, \"bookings/pred/knn_clf_pred.pkl\")\n",
    "knn_clf_pred = joblib.load(r\"bookings/pred/knn_clf_pred.pkl\")\n",
    "display_evaluation(y_train, knn_clf_pred)"
   ],
   "metadata": {
    "collapsed": false,
    "pycharm": {
     "name": "#%%\n"
    }
   }
  },
  {
   "cell_type": "markdown",
   "source": [
    "> Tuning the number of neighbors and penalty:\n",
    ">> Note: There is an even number of classes. It is better to choose an odd number of neighbors to\n",
    ">> prevent ties."
   ],
   "metadata": {
    "collapsed": false
   }
  },
  {
   "cell_type": "code",
   "execution_count": 145,
   "outputs": [],
   "source": [
    "param_grid = [{\n",
    "    \"n_neighbors\": [3, 5, 7, 9, 11, 13, 15, 17, 19, 21, 23],\n",
    "    \"weights\": [\"distance\"],\n",
    "    \"p\": [1, 2]\n",
    "}]"
   ],
   "metadata": {
    "collapsed": false,
    "pycharm": {
     "name": "#%%\n"
    }
   }
  },
  {
   "cell_type": "code",
   "execution_count": 146,
   "outputs": [],
   "source": [
    "knn_cv = GridSearchCV(KNeighborsClassifier(), param_grid, scoring=\"f1\", cv=5, n_jobs=-1, verbose=2)\n",
    "# knn_cv.fit(X_train_prepared_2, y_train)\n",
    "# joblib.dump(knn_cv, \"bookings/scores/knn_cv1.pkl\")\n",
    "knn_cv = joblib.load(r\"bookings/scores/knn_cv1.pkl\")"
   ],
   "metadata": {
    "collapsed": false,
    "pycharm": {
     "name": "#%%\n"
    }
   }
  },
  {
   "cell_type": "code",
   "execution_count": 147,
   "outputs": [
    {
     "data": {
      "text/plain": "0.7345900961987614"
     },
     "execution_count": 147,
     "metadata": {},
     "output_type": "execute_result"
    }
   ],
   "source": [
    "knn_cv.best_score_"
   ],
   "metadata": {
    "collapsed": false,
    "pycharm": {
     "name": "#%%\n"
    }
   }
  },
  {
   "cell_type": "code",
   "execution_count": 148,
   "outputs": [
    {
     "data": {
      "text/plain": "KNeighborsClassifier(n_neighbors=23, p=1, weights='distance')"
     },
     "execution_count": 148,
     "metadata": {},
     "output_type": "execute_result"
    }
   ],
   "source": [
    "knn2 = knn_cv.best_estimator_\n",
    "knn2"
   ],
   "metadata": {
    "collapsed": false,
    "pycharm": {
     "name": "#%%\n"
    }
   }
  },
  {
   "cell_type": "code",
   "execution_count": 149,
   "outputs": [
    {
     "name": "stdout",
     "output_type": "stream",
     "text": [
      "0.72427 {'n_neighbors': 3, 'p': 1, 'weights': 'distance'}\n",
      "0.72183 {'n_neighbors': 3, 'p': 2, 'weights': 'distance'}\n",
      "0.72713 {'n_neighbors': 5, 'p': 1, 'weights': 'distance'}\n",
      "0.72542 {'n_neighbors': 5, 'p': 2, 'weights': 'distance'}\n",
      "0.72925 {'n_neighbors': 7, 'p': 1, 'weights': 'distance'}\n",
      "0.72876 {'n_neighbors': 7, 'p': 2, 'weights': 'distance'}\n",
      "0.73128 {'n_neighbors': 9, 'p': 1, 'weights': 'distance'}\n",
      "0.72922 {'n_neighbors': 9, 'p': 2, 'weights': 'distance'}\n",
      "0.7319 {'n_neighbors': 11, 'p': 1, 'weights': 'distance'}\n",
      "0.73103 {'n_neighbors': 11, 'p': 2, 'weights': 'distance'}\n",
      "0.73355 {'n_neighbors': 13, 'p': 1, 'weights': 'distance'}\n",
      "0.73164 {'n_neighbors': 13, 'p': 2, 'weights': 'distance'}\n",
      "0.73325 {'n_neighbors': 15, 'p': 1, 'weights': 'distance'}\n",
      "0.73181 {'n_neighbors': 15, 'p': 2, 'weights': 'distance'}\n",
      "0.73401 {'n_neighbors': 17, 'p': 1, 'weights': 'distance'}\n",
      "0.73158 {'n_neighbors': 17, 'p': 2, 'weights': 'distance'}\n",
      "0.73444 {'n_neighbors': 19, 'p': 1, 'weights': 'distance'}\n",
      "0.732 {'n_neighbors': 19, 'p': 2, 'weights': 'distance'}\n",
      "0.73393 {'n_neighbors': 21, 'p': 1, 'weights': 'distance'}\n",
      "0.73184 {'n_neighbors': 21, 'p': 2, 'weights': 'distance'}\n",
      "0.73459 {'n_neighbors': 23, 'p': 1, 'weights': 'distance'}\n",
      "0.73224 {'n_neighbors': 23, 'p': 2, 'weights': 'distance'}\n"
     ]
    }
   ],
   "source": [
    "# show results for each iteration\n",
    "cvres = knn_cv.cv_results_\n",
    "for mean_score, params in zip(cvres[\"mean_test_score\"], cvres[\"params\"]):\n",
    "    print(round(mean_score, 5), params)"
   ],
   "metadata": {
    "collapsed": false,
    "pycharm": {
     "name": "#%%\n"
    }
   }
  },
  {
   "cell_type": "markdown",
   "source": [
    "> **Final KNN model:** Distance weights, l1 norm and 17 neighbors."
   ],
   "metadata": {
    "collapsed": false,
    "pycharm": {
     "name": "#%% md\n"
    }
   }
  },
  {
   "cell_type": "code",
   "execution_count": 150,
   "outputs": [
    {
     "name": "stdout",
     "output_type": "stream",
     "text": [
      "F1 Score: 0.73401 \n",
      "\n",
      "Confusion Matrix:\n",
      " [[57675  6245]\n",
      " [12098 25309]] \n",
      "\n",
      "Classification Report:\n",
      "               precision    recall  f1-score   support\n",
      "\n",
      "           0       0.83      0.90      0.86     63920\n",
      "           1       0.80      0.68      0.73     37407\n",
      "\n",
      "    accuracy                           0.82    101327\n",
      "   macro avg       0.81      0.79      0.80    101327\n",
      "weighted avg       0.82      0.82      0.82    101327\n",
      "\n"
     ]
    }
   ],
   "source": [
    "knn_final = KNeighborsClassifier(n_neighbors=17, weights=\"distance\", p=1, n_jobs=-1)\n",
    "# knn_final.fit(X_train_prepared_2, y_train)\n",
    "# joblib.dump(knn_final, \"bookings/models/knn_final.pkl\")\n",
    "knn_final = joblib.load(r\"bookings/models/knn_final.pkl\")\n",
    "# knn_final_pred = cross_val_predict(knn_final, X_train_prepared_2, y_train, cv=5, verbose=2)\n",
    "# joblib.dump(knn_final_pred, \"bookings/pred/knn_final_pred.pkl\")\n",
    "knn_final_pred = joblib.load(r\"bookings/pred/knn_final_pred.pkl\")\n",
    "display_evaluation(y_train, knn_final_pred, True)"
   ],
   "metadata": {
    "collapsed": false,
    "pycharm": {
     "name": "#%%\n"
    }
   }
  },
  {
   "cell_type": "markdown",
   "source": [
    "# 8. Model Improvements- Third Attempt:\n",
    "## Train and Tune a Logistic Regression model.\n",
    "> This is a linear model that generally works well with large datasets. Additionally, the tuned model\n",
    "> can be used later on for various ensemble methods.\n",
    ">> Note: When dealing with imbalanced labels, calculating the class weights can improve this model."
   ],
   "metadata": {
    "collapsed": false
   }
  },
  {
   "cell_type": "markdown",
   "source": [
    "> Baseline Model:"
   ],
   "metadata": {
    "collapsed": false,
    "pycharm": {
     "name": "#%% md\n"
    }
   }
  },
  {
   "cell_type": "code",
   "execution_count": 151,
   "outputs": [],
   "source": [
    "# calculate class weights\n",
    "n_samples = len(y_train)  # total number of instances\n",
    "w0 = round(n_samples / y_train.value_counts()[0], 5)  # divide n_samples to determine class 0 ratio\n",
    "w1 = round(n_samples / y_train.value_counts()[1], 5)  # divide n_samples to determine class 1 ratio\n",
    "weights = {0: w0, 1: w1}  # dictionary to pass to model hyperparameter"
   ],
   "metadata": {
    "collapsed": false,
    "pycharm": {
     "name": "#%%\n"
    }
   }
  },
  {
   "cell_type": "code",
   "execution_count": 152,
   "outputs": [
    {
     "name": "stdout",
     "output_type": "stream",
     "text": [
      "F1 Score: 0.63621 \n",
      "\n",
      "Confusion Matrix:\n",
      " [[44311 19609]\n",
      " [10809 26598]] \n",
      "\n"
     ]
    }
   ],
   "source": [
    "log_reg = LogisticRegression(class_weight=weights, random_state=42, n_jobs=-1)\n",
    "# log_reg_pred = cross_val_predict(log_reg, X_train_prepared_2, y_train, cv=5, verbose=2)\n",
    "# joblib.dump(log_reg_pred, \"bookings/pred/log_reg_pred.pkl\")\n",
    "log_reg_pred = joblib.load(r\"bookings/pred/log_reg_pred.pkl\")\n",
    "display_evaluation(y_train, log_reg_pred)"
   ],
   "metadata": {
    "collapsed": false,
    "pycharm": {
     "name": "#%%\n"
    }
   }
  },
  {
   "cell_type": "markdown",
   "source": [
    "> Tuning solver, penalty and regularization strength:"
   ],
   "metadata": {
    "collapsed": false,
    "pycharm": {
     "name": "#%% md\n"
    }
   }
  },
  {
   "cell_type": "code",
   "execution_count": 153,
   "outputs": [],
   "source": [
    "param_grid = [{\n",
    "    \"solver\": [\"lbfgs\", \"liblinear\", \"sag\", \"saga\"]\n",
    "}]"
   ],
   "metadata": {
    "collapsed": false,
    "pycharm": {
     "name": "#%%\n"
    }
   }
  },
  {
   "cell_type": "code",
   "execution_count": 154,
   "outputs": [],
   "source": [
    "log_reg_cv = GridSearchCV(LogisticRegression(class_weight=weights, random_state=42), param_grid, cv=5, scoring='f1', verbose=2)\n",
    "# log_reg_cv.fit(X_train_prepared_2, y_train)\n",
    "# joblib.dump(log_reg_cv, \"bookings/scores/log_reg_cv.pkl\")\n",
    "log_reg_cv = joblib.load(r\"bookings/scores/log_reg_cv.pkl\")"
   ],
   "metadata": {
    "collapsed": false,
    "pycharm": {
     "name": "#%%\n"
    }
   }
  },
  {
   "cell_type": "code",
   "execution_count": 155,
   "outputs": [
    {
     "data": {
      "text/plain": "0.6364512229816668"
     },
     "execution_count": 155,
     "metadata": {},
     "output_type": "execute_result"
    }
   ],
   "source": [
    "log_reg_cv.best_score_"
   ],
   "metadata": {
    "collapsed": false,
    "pycharm": {
     "name": "#%%\n"
    }
   }
  },
  {
   "cell_type": "code",
   "execution_count": 156,
   "outputs": [
    {
     "data": {
      "text/plain": "LogisticRegression(class_weight={0: 1.58522, 1: 2.70877}, random_state=42,\n                   solver='liblinear')"
     },
     "execution_count": 156,
     "metadata": {},
     "output_type": "execute_result"
    }
   ],
   "source": [
    "log_reg2 = log_reg_cv.best_estimator_\n",
    "log_reg2"
   ],
   "metadata": {
    "collapsed": false,
    "pycharm": {
     "name": "#%%\n"
    }
   }
  },
  {
   "cell_type": "code",
   "execution_count": 157,
   "outputs": [
    {
     "name": "stdout",
     "output_type": "stream",
     "text": [
      "0.63599 {'solver': 'lbfgs'}\n",
      "0.63645 {'solver': 'liblinear'}\n",
      "0.6364 {'solver': 'sag'}\n",
      "0.6364 {'solver': 'saga'}\n"
     ]
    }
   ],
   "source": [
    "# show results for each iteration\n",
    "cvres = log_reg_cv.cv_results_\n",
    "for mean_score, params in zip(cvres[\"mean_test_score\"], cvres[\"params\"]):\n",
    "    print(round(mean_score, 5), params)"
   ],
   "metadata": {
    "collapsed": false,
    "pycharm": {
     "name": "#%%\n"
    }
   }
  },
  {
   "cell_type": "code",
   "execution_count": 158,
   "outputs": [],
   "source": [
    "param_grid = [{\n",
    "    \"penalty\": [\"l1\", \"l2\"],  # liblinear supports l1 and l2 norms\n",
    "    \"C\": [0.001, 0.05, 0.01, 0.1, 0.5, 1.]  # C controls regularization\n",
    "    # light penalty if close to 1.0, strong penalty if close to 0.0\n",
    "}]"
   ],
   "metadata": {
    "collapsed": false,
    "pycharm": {
     "name": "#%%\n"
    }
   }
  },
  {
   "cell_type": "code",
   "execution_count": 159,
   "outputs": [],
   "source": [
    "log_reg_cv2 = GridSearchCV(log_reg2, param_grid, cv=5, scoring='f1', verbose=2)\n",
    "# log_reg_cv2.fit(X_train_prepared_2, y_train)\n",
    "# joblib.dump(log_reg_cv2, \"bookings/scores/log_reg_cv2.pkl\")\n",
    "log_reg_cv2 = joblib.load(r\"bookings/scores/log_reg_cv2.pkl\")"
   ],
   "metadata": {
    "collapsed": false,
    "pycharm": {
     "name": "#%%\n"
    }
   }
  },
  {
   "cell_type": "code",
   "execution_count": 160,
   "outputs": [
    {
     "data": {
      "text/plain": "0.637904124458194"
     },
     "execution_count": 160,
     "metadata": {},
     "output_type": "execute_result"
    }
   ],
   "source": [
    "log_reg_cv2.best_score_"
   ],
   "metadata": {
    "collapsed": false,
    "pycharm": {
     "name": "#%%\n"
    }
   }
  },
  {
   "cell_type": "code",
   "execution_count": 161,
   "outputs": [
    {
     "data": {
      "text/plain": "LogisticRegression(class_weight={0: 1.58522, 1: 2.70877}, penalty='l1',\n                   random_state=42, solver='liblinear')"
     },
     "execution_count": 161,
     "metadata": {},
     "output_type": "execute_result"
    }
   ],
   "source": [
    "log_reg3 = log_reg_cv2.best_estimator_\n",
    "log_reg3"
   ],
   "metadata": {
    "collapsed": false,
    "pycharm": {
     "name": "#%%\n"
    }
   }
  },
  {
   "cell_type": "code",
   "execution_count": 162,
   "outputs": [
    {
     "name": "stdout",
     "output_type": "stream",
     "text": [
      "0.59844 {'C': 0.001, 'penalty': 'l1'}\n",
      "0.58263 {'C': 0.001, 'penalty': 'l2'}\n",
      "0.63758 {'C': 0.05, 'penalty': 'l1'}\n",
      "0.6218 {'C': 0.05, 'penalty': 'l2'}\n",
      "0.62207 {'C': 0.01, 'penalty': 'l1'}\n",
      "0.61025 {'C': 0.01, 'penalty': 'l2'}\n",
      "0.63773 {'C': 0.1, 'penalty': 'l1'}\n",
      "0.62696 {'C': 0.1, 'penalty': 'l2'}\n",
      "0.63777 {'C': 0.5, 'penalty': 'l1'}\n",
      "0.63451 {'C': 0.5, 'penalty': 'l2'}\n",
      "0.6379 {'C': 1.0, 'penalty': 'l1'}\n",
      "0.63645 {'C': 1.0, 'penalty': 'l2'}\n"
     ]
    }
   ],
   "source": [
    "# show results for each iteration\n",
    "cvres = log_reg_cv2.cv_results_\n",
    "for mean_score, params in zip(cvres[\"mean_test_score\"], cvres[\"params\"]):\n",
    "    print(round(mean_score, 5), params)"
   ],
   "metadata": {
    "collapsed": false,
    "pycharm": {
     "name": "#%%\n"
    }
   }
  },
  {
   "cell_type": "markdown",
   "source": [
    "> **Final Logistic Regression model:** Liblinear solver, l1 norm, and 1.0 regularization strength."
   ],
   "metadata": {
    "collapsed": false
   }
  },
  {
   "cell_type": "code",
   "execution_count": 163,
   "outputs": [
    {
     "name": "stdout",
     "output_type": "stream",
     "text": [
      "F1 Score: 0.6379 \n",
      "\n",
      "Confusion Matrix:\n",
      " [[44881 19039]\n",
      " [10972 26435]] \n",
      "\n",
      "Classification Report:\n",
      "               precision    recall  f1-score   support\n",
      "\n",
      "           0       0.80      0.70      0.75     63920\n",
      "           1       0.58      0.71      0.64     37407\n",
      "\n",
      "    accuracy                           0.70    101327\n",
      "   macro avg       0.69      0.70      0.69    101327\n",
      "weighted avg       0.72      0.70      0.71    101327\n",
      "\n"
     ]
    }
   ],
   "source": [
    "log_reg_final = log_reg3\n",
    "# log_reg_final_pred = cross_val_predict(log_reg_final, X_train_prepared_2, y_train, cv=5, verbose=2)\n",
    "# joblib.dump(log_reg_final_pred, \"bookings/pred/log_reg_final_pred.pkl\")\n",
    "log_reg_final_pred = joblib.load(r\"bookings/pred/log_reg_final_pred.pkl\")\n",
    "display_evaluation(y_train, log_reg_final_pred, True)"
   ],
   "metadata": {
    "collapsed": false,
    "pycharm": {
     "name": "#%%\n"
    }
   }
  },
  {
   "cell_type": "markdown",
   "source": [
    "# 9. Model Improvements- Fourth Attempt:\n",
    "## Train and Tune a Gradient Boosting model.\n",
    "> Note: Since this is an imbalanced classification task, the weights need to be adjusted.\n",
    "XGBoost contains a hyperparameter \"scale_pos_weight\" that is set by default to 1.0.\n",
    "This parameter weighs the positive instances relative to the negative when boosting decision trees.\n",
    "In other words, the parameter is used to scale the gradient for the positive class."
   ],
   "metadata": {
    "collapsed": false
   }
  },
  {
   "cell_type": "markdown",
   "source": [
    "> Baseline Model:"
   ],
   "metadata": {
    "collapsed": false,
    "pycharm": {
     "name": "#%% md\n"
    }
   }
  },
  {
   "cell_type": "code",
   "execution_count": 164,
   "outputs": [
    {
     "name": "stdout",
     "output_type": "stream",
     "text": [
      "F1 Score: 0.75539 \n",
      "\n",
      "Confusion Matrix:\n",
      " [[53456 10464]\n",
      " [ 8353 29054]] \n",
      "\n"
     ]
    }
   ],
   "source": [
    "estimate_weight = round(y_train.value_counts()[0] / y_train.value_counts()[1], 3)  # estimate scale_weight_pos value\n",
    "xgb_clf = XGBClassifier(random_state=42, n_jobs=-1, eval_metric='aucpr', objective='binary:logistic', use_label_encoder=False,\n",
    "                        scale_pos_weight=estimate_weight)\n",
    "xgb_clf.fit(X_train_prepared_2, y_train)\n",
    "xgb_pred = xgb_clf.predict(X_train_prepared_2)\n",
    "display_evaluation(y_train, xgb_pred)"
   ],
   "metadata": {
    "collapsed": false,
    "pycharm": {
     "name": "#%%\n"
    }
   }
  },
  {
   "cell_type": "code",
   "execution_count": 165,
   "outputs": [
    {
     "data": {
      "text/plain": "99"
     },
     "execution_count": 165,
     "metadata": {},
     "output_type": "execute_result"
    }
   ],
   "source": [
    "xgb_clf.best_iteration"
   ],
   "metadata": {
    "collapsed": false,
    "pycharm": {
     "name": "#%%\n"
    }
   }
  },
  {
   "cell_type": "markdown",
   "source": [
    "> #### Observations:\n",
    "* The best iteration was 99, meaning all 100 trees were trained. We can try increasing the number of\n",
    "estimators in order to find the optimal value."
   ],
   "metadata": {
    "collapsed": false,
    "pycharm": {
     "name": "#%% md\n"
    }
   }
  },
  {
   "cell_type": "markdown",
   "source": [
    "> Tuning the number of estimators:"
   ],
   "metadata": {
    "collapsed": false,
    "pycharm": {
     "name": "#%% md\n"
    }
   }
  },
  {
   "cell_type": "code",
   "execution_count": 166,
   "outputs": [],
   "source": [
    "params = {\n",
    "    \"scale_pos_weight\": estimate_weight,\n",
    "    \"objective\": \"binary:logistic\",\n",
    "    \"eval_metric\": \"aucpr\"  # measures the area under the PR curve\n",
    "}\n",
    "\n",
    "# dmatrix is a data structure used by the XGBoost library that optimizes performance\n",
    "# it is needed when using the XGBoost library cross-validation\n",
    "dmat_train = DMatrix(X_train_prepared_2, y_train)"
   ],
   "metadata": {
    "collapsed": false,
    "pycharm": {
     "name": "#%%\n"
    }
   }
  },
  {
   "cell_type": "code",
   "execution_count": 167,
   "outputs": [],
   "source": [
    "# xgb_scores_cv1 = cv(params, dmat_train, num_boost_round=500, nfold=5, early_stopping_rounds=5, seed=42, metrics=\"aucpr\",\n",
    "#                       verbose_eval=True)\n",
    "# joblib.dump(xgb_scores_cv1, \"bookings/scores/xgb_scores_cv1.pkl\")\n",
    "xgb_scores_cv1 = joblib.load(r\"bookings/scores/xgb_scores_cv1.pkl\")"
   ],
   "metadata": {
    "collapsed": false,
    "pycharm": {
     "name": "#%%\n"
    }
   }
  },
  {
   "cell_type": "code",
   "execution_count": 168,
   "outputs": [
    {
     "data": {
      "text/plain": "train-aucpr-mean    0.940656\ntrain-aucpr-std     0.001353\ntest-aucpr-mean     0.856250\ntest-aucpr-std      0.001679\nName: 464, dtype: float64"
     },
     "execution_count": 168,
     "metadata": {},
     "output_type": "execute_result"
    }
   ],
   "source": [
    "curr_auc_max = xgb_scores_cv1[\"test-aucpr-mean\"].argmax()\n",
    "xgb_scores_cv1.loc[curr_auc_max]"
   ],
   "metadata": {
    "collapsed": false,
    "pycharm": {
     "name": "#%%\n"
    }
   }
  },
  {
   "cell_type": "code",
   "execution_count": 169,
   "outputs": [
    {
     "data": {
      "text/plain": "train-aucpr-mean    0.932581\ntrain-aucpr-std     0.001259\ntest-aucpr-mean     0.854423\ntest-aucpr-std      0.001525\nName: 390, dtype: float64"
     },
     "execution_count": 169,
     "metadata": {},
     "output_type": "execute_result"
    }
   ],
   "source": [
    "curr_std_min = xgb_scores_cv1[\"test-aucpr-std\"].argmin()\n",
    "xgb_scores_cv1.loc[curr_std_min]"
   ],
   "metadata": {
    "collapsed": false,
    "pycharm": {
     "name": "#%%\n"
    }
   }
  },
  {
   "cell_type": "code",
   "execution_count": 170,
   "outputs": [
    {
     "data": {
      "text/plain": "<Figure size 504x360 with 1 Axes>",
      "image/png": "[encoded data removed]"
     },
     "metadata": {},
     "output_type": "display_data"
    }
   ],
   "source": [
    "# plot classification errors from cross-validation\n",
    "plt.figure(figsize=(7, 5))\n",
    "sns.lineplot(data=[xgb_scores_cv1[\"test-aucpr-mean\"], xgb_scores_cv1[\"train-aucpr-mean\"]])\n",
    "plt.xlabel(\"number of estimators\")\n",
    "plt.ylabel(\"classification error rate\")\n",
    "plt.title(\"XGBoost Classification PR Curve\", size=15)\n",
    "plt.tight_layout()\n",
    "plt.show()"
   ],
   "metadata": {
    "collapsed": false,
    "pycharm": {
     "name": "#%%\n"
    }
   }
  },
  {
   "cell_type": "markdown",
   "source": [
    "> #### Observations:\n",
    "* The iteration with the lowest standard deviation has nearly the same AUC PR curve score as the one with\n",
    "the highest mean. The difference is that the round with the highest mean uses 465 estimators and the\n",
    "one with the lowest standard deviation uses 391. Furthermore, the graph growth is slow in between those\n",
    "values. Therefore, I will use 391 estimators."
   ],
   "metadata": {
    "collapsed": false,
    "pycharm": {
     "name": "#%% md\n"
    }
   }
  },
  {
   "cell_type": "markdown",
   "source": [
    "> Tuning weights for class imbalance:"
   ],
   "metadata": {
    "collapsed": false,
    "pycharm": {
     "name": "#%% md\n"
    }
   }
  },
  {
   "cell_type": "code",
   "execution_count": 171,
   "outputs": [],
   "source": [
    "param_grid = [{\n",
    "    \"scale_pos_weight\": [1, estimate_weight, 2, 3, 10]\n",
    "}]"
   ],
   "metadata": {
    "collapsed": false,
    "pycharm": {
     "name": "#%%\n"
    }
   }
  },
  {
   "cell_type": "code",
   "execution_count": 172,
   "outputs": [],
   "source": [
    "xgb_scores_cv2 = GridSearchCV(XGBClassifier(random_state=42, n_jobs=-1, eval_metric='aucpr', objective='binary:logistic',\n",
    "                                            use_label_encoder=False, scale_pos_weight=estimate_weight, n_estimators=391), param_grid,\n",
    "                                            cv=5, scoring='f1', verbose=2)\n",
    "# xgb_scores_cv2.fit(X_train_prepared_2, y_train)\n",
    "# joblib.dump(xgb_scores_cv2, \"bookings/scores/xgb_scores_cv2.pkl\")\n",
    "xgb_scores_cv2 = joblib.load(r\"bookings/scores/xgb_scores_cv2.pkl\")"
   ],
   "metadata": {
    "collapsed": false,
    "pycharm": {
     "name": "#%%\n"
    }
   }
  },
  {
   "cell_type": "code",
   "execution_count": 173,
   "outputs": [
    {
     "data": {
      "text/plain": "0.7508844917672988"
     },
     "execution_count": 173,
     "metadata": {},
     "output_type": "execute_result"
    }
   ],
   "source": [
    "xgb_scores_cv2.best_score_"
   ],
   "metadata": {
    "collapsed": false,
    "pycharm": {
     "name": "#%%\n"
    }
   }
  },
  {
   "cell_type": "code",
   "execution_count": 174,
   "outputs": [
    {
     "data": {
      "text/plain": "XGBClassifier(base_score=0.5, booster='gbtree', colsample_bylevel=1,\n              colsample_bynode=1, colsample_bytree=1, eval_metric='aucpr',\n              gamma=0, gpu_id=-1, importance_type='gain',\n              interaction_constraints='', learning_rate=0.300000012,\n              max_delta_step=0, max_depth=6, min_child_weight=1, missing=nan,\n              monotone_constraints='()', n_estimators=391, n_jobs=-1,\n              num_parallel_tree=1, random_state=42, reg_alpha=0, reg_lambda=1,\n              scale_pos_weight=1.709, subsample=1, tree_method='exact',\n              use_label_encoder=False, validate_parameters=1, verbosity=None)"
     },
     "execution_count": 174,
     "metadata": {},
     "output_type": "execute_result"
    }
   ],
   "source": [
    "xgb_clf2 = xgb_scores_cv2.best_estimator_\n",
    "xgb_clf2"
   ],
   "metadata": {
    "collapsed": false,
    "pycharm": {
     "name": "#%%\n"
    }
   }
  },
  {
   "cell_type": "code",
   "execution_count": 175,
   "outputs": [
    {
     "name": "stdout",
     "output_type": "stream",
     "text": [
      "0.73652 {'scale_pos_weight': 1}\n",
      "0.75088 {'scale_pos_weight': 1.709}\n",
      "0.74792 {'scale_pos_weight': 2}\n",
      "0.73726 {'scale_pos_weight': 3}\n",
      "0.67824 {'scale_pos_weight': 10}\n"
     ]
    }
   ],
   "source": [
    "# show results for each iteration\n",
    "cvres = xgb_scores_cv2.cv_results_\n",
    "for mean_score, params in zip(cvres[\"mean_test_score\"], cvres[\"params\"]):\n",
    "    print(round(mean_score, 5), params)"
   ],
   "metadata": {
    "collapsed": false,
    "pycharm": {
     "name": "#%%\n"
    }
   }
  },
  {
   "cell_type": "markdown",
   "source": [
    "> Tuning the learning rate and tree depth:"
   ],
   "metadata": {
    "collapsed": false
   }
  },
  {
   "cell_type": "code",
   "execution_count": 176,
   "outputs": [],
   "source": [
    "param_grid = [{\n",
    "    \"max_depth\": [4, 6, 8],  # maximum depth of a tree\n",
    "    \"learning_rate\": [0.1, 0.5, 1.]  # controls the weights after every boost (eta)\n",
    "}]"
   ],
   "metadata": {
    "collapsed": false,
    "pycharm": {
     "name": "#%%\n"
    }
   }
  },
  {
   "cell_type": "code",
   "execution_count": 177,
   "outputs": [],
   "source": [
    "xgb_scores_cv3 = GridSearchCV(xgb_clf2, param_grid, cv=5, scoring='f1', verbose=2)\n",
    "# xgb_scores_cv3.fit(X_train_prepared_2, y_train)\n",
    "# joblib.dump(xgb_scores_cv3, \"bookings/scores/xgb_scores_cv3.pkl\")\n",
    "xgb_scores_cv3 = joblib.load(r\"bookings/scores/xgb_scores_cv3.pkl\")"
   ],
   "metadata": {
    "collapsed": false,
    "pycharm": {
     "name": "#%%\n"
    }
   }
  },
  {
   "cell_type": "code",
   "execution_count": 178,
   "outputs": [
    {
     "data": {
      "text/plain": "0.7574341521942365"
     },
     "execution_count": 178,
     "metadata": {},
     "output_type": "execute_result"
    }
   ],
   "source": [
    "xgb_scores_cv3.best_score_"
   ],
   "metadata": {
    "collapsed": false,
    "pycharm": {
     "name": "#%%\n"
    }
   }
  },
  {
   "cell_type": "code",
   "execution_count": 179,
   "outputs": [
    {
     "data": {
      "text/plain": "XGBClassifier(base_score=0.5, booster='gbtree', colsample_bylevel=1,\n              colsample_bynode=1, colsample_bytree=1, eval_metric='aucpr',\n              gamma=0, gpu_id=-1, importance_type='gain',\n              interaction_constraints='', learning_rate=0.5, max_delta_step=0,\n              max_depth=8, min_child_weight=1, missing=nan,\n              monotone_constraints='()', n_estimators=391, n_jobs=-1,\n              num_parallel_tree=1, random_state=42, reg_alpha=0, reg_lambda=1,\n              scale_pos_weight=1.709, subsample=1, tree_method='exact',\n              use_label_encoder=False, validate_parameters=1, verbosity=None)"
     },
     "execution_count": 179,
     "metadata": {},
     "output_type": "execute_result"
    }
   ],
   "source": [
    "xgb_clf3 = xgb_scores_cv3.best_estimator_\n",
    "xgb_clf3"
   ],
   "metadata": {
    "collapsed": false,
    "pycharm": {
     "name": "#%%\n"
    }
   }
  },
  {
   "cell_type": "code",
   "execution_count": 180,
   "outputs": [
    {
     "name": "stdout",
     "output_type": "stream",
     "text": [
      "0.70535 {'learning_rate': 0.1, 'max_depth': 4}\n",
      "0.73335 {'learning_rate': 0.1, 'max_depth': 6}\n",
      "0.74945 {'learning_rate': 0.1, 'max_depth': 8}\n",
      "0.73313 {'learning_rate': 0.5, 'max_depth': 4}\n",
      "0.75111 {'learning_rate': 0.5, 'max_depth': 6}\n",
      "0.75743 {'learning_rate': 0.5, 'max_depth': 8}\n",
      "0.73229 {'learning_rate': 1.0, 'max_depth': 4}\n",
      "0.74575 {'learning_rate': 1.0, 'max_depth': 6}\n",
      "0.75072 {'learning_rate': 1.0, 'max_depth': 8}\n"
     ]
    }
   ],
   "source": [
    "# show results for each iteration\n",
    "cvres = xgb_scores_cv3.cv_results_\n",
    "for mean_score, params in zip(cvres[\"mean_test_score\"], cvres[\"params\"]):\n",
    "    print(round(mean_score, 5), params)"
   ],
   "metadata": {
    "collapsed": false,
    "pycharm": {
     "name": "#%%\n"
    }
   }
  },
  {
   "cell_type": "code",
   "execution_count": 181,
   "outputs": [],
   "source": [
    "param_grid = [{\n",
    "    \"max_depth\": [7, 8, 9],\n",
    "    \"learning_rate\": [0.2, 0.4, 0.5, 0.6, 0.9]\n",
    "}]"
   ],
   "metadata": {
    "collapsed": false,
    "pycharm": {
     "name": "#%%\n"
    }
   }
  },
  {
   "cell_type": "code",
   "execution_count": 182,
   "outputs": [],
   "source": [
    "xgb_scores_cv4 = GridSearchCV(xgb_clf3, param_grid, cv=5, scoring='f1', verbose=2)\n",
    "# xgb_scores_cv4.fit(X_train_prepared_2, y_train)\n",
    "# joblib.dump(xgb_scores_cv4, \"bookings/scores/xgb_scores_cv4.pkl\")\n",
    "xgb_scores_cv4 = joblib.load(r\"bookings/scores/xgb_scores_cv4.pkl\")"
   ],
   "metadata": {
    "collapsed": false,
    "pycharm": {
     "name": "#%%\n"
    }
   }
  },
  {
   "cell_type": "code",
   "execution_count": 183,
   "outputs": [
    {
     "data": {
      "text/plain": "0.7599005687895402"
     },
     "execution_count": 183,
     "metadata": {},
     "output_type": "execute_result"
    }
   ],
   "source": [
    "xgb_scores_cv4.best_score_"
   ],
   "metadata": {
    "collapsed": false,
    "pycharm": {
     "name": "#%%\n"
    }
   }
  },
  {
   "cell_type": "code",
   "execution_count": 184,
   "outputs": [
    {
     "data": {
      "text/plain": "XGBClassifier(base_score=0.5, booster='gbtree', colsample_bylevel=1,\n              colsample_bynode=1, colsample_bytree=1, eval_metric='aucpr',\n              gamma=0, gpu_id=-1, importance_type='gain',\n              interaction_constraints='', learning_rate=0.2, max_delta_step=0,\n              max_depth=9, min_child_weight=1, missing=nan,\n              monotone_constraints='()', n_estimators=391, n_jobs=-1,\n              num_parallel_tree=1, random_state=42, reg_alpha=0, reg_lambda=1,\n              scale_pos_weight=1.709, subsample=1, tree_method='exact',\n              use_label_encoder=False, validate_parameters=1, verbosity=None)"
     },
     "execution_count": 184,
     "metadata": {},
     "output_type": "execute_result"
    }
   ],
   "source": [
    "xgb_clf4 = xgb_scores_cv4.best_estimator_\n",
    "xgb_clf4"
   ],
   "metadata": {
    "collapsed": false,
    "pycharm": {
     "name": "#%%\n"
    }
   }
  },
  {
   "cell_type": "code",
   "execution_count": 185,
   "outputs": [
    {
     "name": "stdout",
     "output_type": "stream",
     "text": [
      "0.75207 {'learning_rate': 0.2, 'max_depth': 7}\n",
      "0.7585 {'learning_rate': 0.2, 'max_depth': 8}\n",
      "0.7599 {'learning_rate': 0.2, 'max_depth': 9}\n",
      "0.75551 {'learning_rate': 0.4, 'max_depth': 7}\n",
      "0.75931 {'learning_rate': 0.4, 'max_depth': 8}\n",
      "0.75981 {'learning_rate': 0.4, 'max_depth': 9}\n",
      "0.75474 {'learning_rate': 0.5, 'max_depth': 7}\n",
      "0.75743 {'learning_rate': 0.5, 'max_depth': 8}\n",
      "0.759 {'learning_rate': 0.5, 'max_depth': 9}\n",
      "0.75308 {'learning_rate': 0.6, 'max_depth': 7}\n",
      "0.7567 {'learning_rate': 0.6, 'max_depth': 8}\n",
      "0.75734 {'learning_rate': 0.6, 'max_depth': 9}\n",
      "0.75207 {'learning_rate': 0.9, 'max_depth': 7}\n",
      "0.75318 {'learning_rate': 0.9, 'max_depth': 8}\n",
      "0.75609 {'learning_rate': 0.9, 'max_depth': 9}\n"
     ]
    }
   ],
   "source": [
    "# show results for each iteration\n",
    "cvres = xgb_scores_cv4.cv_results_\n",
    "for mean_score, params in zip(cvres[\"mean_test_score\"], cvres[\"params\"]):\n",
    "    print(round(mean_score, 5), params)"
   ],
   "metadata": {
    "collapsed": false,
    "pycharm": {
     "name": "#%%\n"
    }
   }
  },
  {
   "cell_type": "code",
   "execution_count": 186,
   "outputs": [],
   "source": [
    "param_grid = [{\n",
    "    \"max_depth\": [8, 9, 10],\n",
    "    \"learning_rate\": [0.2, 0.3, 0.4]\n",
    "}]"
   ],
   "metadata": {
    "collapsed": false,
    "pycharm": {
     "name": "#%%\n"
    }
   }
  },
  {
   "cell_type": "code",
   "execution_count": 187,
   "outputs": [],
   "source": [
    "xgb_scores_cv5 = GridSearchCV(xgb_clf4, param_grid, cv=5, scoring='f1', verbose=2)\n",
    "# xgb_scores_cv5.fit(X_train_prepared_2, y_train)\n",
    "# joblib.dump(xgb_scores_cv5, \"bookings/scores/xgb_scores_cv5.pkl\")\n",
    "xgb_scores_cv5 = joblib.load(r\"bookings/scores/xgb_scores_cv5.pkl\")"
   ],
   "metadata": {
    "collapsed": false,
    "pycharm": {
     "name": "#%%\n"
    }
   }
  },
  {
   "cell_type": "code",
   "execution_count": 188,
   "outputs": [
    {
     "data": {
      "text/plain": "0.7637074145022924"
     },
     "execution_count": 188,
     "metadata": {},
     "output_type": "execute_result"
    }
   ],
   "source": [
    "xgb_scores_cv5.best_score_"
   ],
   "metadata": {
    "collapsed": false,
    "pycharm": {
     "name": "#%%\n"
    }
   }
  },
  {
   "cell_type": "code",
   "execution_count": 189,
   "outputs": [
    {
     "data": {
      "text/plain": "XGBClassifier(base_score=0.5, booster='gbtree', colsample_bylevel=1,\n              colsample_bynode=1, colsample_bytree=1, eval_metric='aucpr',\n              gamma=0, gpu_id=-1, importance_type='gain',\n              interaction_constraints='', learning_rate=0.2, max_delta_step=0,\n              max_depth=10, min_child_weight=1, missing=nan,\n              monotone_constraints='()', n_estimators=391, n_jobs=-1,\n              num_parallel_tree=1, random_state=42, reg_alpha=0, reg_lambda=1,\n              scale_pos_weight=1.709, subsample=1, tree_method='exact',\n              use_label_encoder=False, validate_parameters=1, verbosity=None)"
     },
     "execution_count": 189,
     "metadata": {},
     "output_type": "execute_result"
    }
   ],
   "source": [
    "xgb_clf5 = xgb_scores_cv5.best_estimator_\n",
    "xgb_clf5"
   ],
   "metadata": {
    "collapsed": false,
    "pycharm": {
     "name": "#%%\n"
    }
   }
  },
  {
   "cell_type": "code",
   "execution_count": 190,
   "outputs": [
    {
     "name": "stdout",
     "output_type": "stream",
     "text": [
      "0.7585 {'learning_rate': 0.2, 'max_depth': 8}\n",
      "0.7599 {'learning_rate': 0.2, 'max_depth': 9}\n",
      "0.76371 {'learning_rate': 0.2, 'max_depth': 10}\n",
      "0.75862 {'learning_rate': 0.3, 'max_depth': 8}\n",
      "0.7607 {'learning_rate': 0.3, 'max_depth': 9}\n",
      "0.76188 {'learning_rate': 0.3, 'max_depth': 10}\n",
      "0.75931 {'learning_rate': 0.4, 'max_depth': 8}\n",
      "0.75981 {'learning_rate': 0.4, 'max_depth': 9}\n",
      "0.76065 {'learning_rate': 0.4, 'max_depth': 10}\n"
     ]
    }
   ],
   "source": [
    "# show results for each iteration\n",
    "cvres = xgb_scores_cv5.cv_results_\n",
    "for mean_score, params in zip(cvres[\"mean_test_score\"], cvres[\"params\"]):\n",
    "    print(round(mean_score, 5), params)"
   ],
   "metadata": {
    "collapsed": false,
    "pycharm": {
     "name": "#%%\n"
    }
   }
  },
  {
   "cell_type": "code",
   "execution_count": 191,
   "outputs": [],
   "source": [
    "param_grid = [{\n",
    "    \"max_depth\": [10, 11, 12, 13, 14, 15],\n",
    "    \"learning_rate\": [0.2]\n",
    "}]"
   ],
   "metadata": {
    "collapsed": false,
    "pycharm": {
     "name": "#%%\n"
    }
   }
  },
  {
   "cell_type": "code",
   "execution_count": 192,
   "outputs": [],
   "source": [
    "xgb_scores_cv6 = GridSearchCV(xgb_clf5, param_grid, cv=5, scoring='f1', verbose=2)\n",
    "# xgb_scores_cv6.fit(X_train_prepared_2, y_train)\n",
    "# joblib.dump(xgb_scores_cv6, \"bookings/scores/xgb_scores_cv6.pkl\")\n",
    "xgb_scores_cv6 = joblib.load(r\"bookings/scores/xgb_scores_cv6.pkl\")"
   ],
   "metadata": {
    "collapsed": false,
    "pycharm": {
     "name": "#%%\n"
    }
   }
  },
  {
   "cell_type": "code",
   "execution_count": 193,
   "outputs": [
    {
     "data": {
      "text/plain": "0.7661967476449169"
     },
     "execution_count": 193,
     "metadata": {},
     "output_type": "execute_result"
    }
   ],
   "source": [
    "xgb_scores_cv6.best_score_"
   ],
   "metadata": {
    "collapsed": false,
    "pycharm": {
     "name": "#%%\n"
    }
   }
  },
  {
   "cell_type": "code",
   "execution_count": 194,
   "outputs": [
    {
     "data": {
      "text/plain": "XGBClassifier(base_score=0.5, booster='gbtree', colsample_bylevel=1,\n              colsample_bynode=1, colsample_bytree=1, eval_metric='aucpr',\n              gamma=0, gpu_id=-1, importance_type='gain',\n              interaction_constraints='', learning_rate=0.2, max_delta_step=0,\n              max_depth=12, min_child_weight=1, missing=nan,\n              monotone_constraints='()', n_estimators=391, n_jobs=-1,\n              num_parallel_tree=1, random_state=42, reg_alpha=0, reg_lambda=1,\n              scale_pos_weight=1.709, subsample=1, tree_method='exact',\n              use_label_encoder=False, validate_parameters=1, verbosity=None)"
     },
     "execution_count": 194,
     "metadata": {},
     "output_type": "execute_result"
    }
   ],
   "source": [
    "xgb_clf6 = xgb_scores_cv6.best_estimator_\n",
    "xgb_clf6"
   ],
   "metadata": {
    "collapsed": false,
    "pycharm": {
     "name": "#%%\n"
    }
   }
  },
  {
   "cell_type": "code",
   "execution_count": 195,
   "outputs": [
    {
     "name": "stdout",
     "output_type": "stream",
     "text": [
      "0.76371 {'learning_rate': 0.2, 'max_depth': 10}\n",
      "0.76397 {'learning_rate': 0.2, 'max_depth': 11}\n",
      "0.7662 {'learning_rate': 0.2, 'max_depth': 12}\n",
      "0.76421 {'learning_rate': 0.2, 'max_depth': 13}\n",
      "0.7639 {'learning_rate': 0.2, 'max_depth': 14}\n",
      "0.76385 {'learning_rate': 0.2, 'max_depth': 15}\n"
     ]
    }
   ],
   "source": [
    "# show results for each iteration\n",
    "cvres = xgb_scores_cv6.cv_results_\n",
    "for mean_score, params in zip(cvres[\"mean_test_score\"], cvres[\"params\"]):\n",
    "    print(round(mean_score, 5), params)"
   ],
   "metadata": {
    "collapsed": false,
    "pycharm": {
     "name": "#%%\n"
    }
   }
  },
  {
   "cell_type": "markdown",
   "source": [
    "> **Final XGBoost model:** 391 estimators, 1.709 weights, 0.2 learning rate, and maximum tree depth 12."
   ],
   "metadata": {
    "collapsed": false,
    "pycharm": {
     "name": "#%% md\n"
    }
   }
  },
  {
   "cell_type": "code",
   "execution_count": 196,
   "outputs": [
    {
     "name": "stdout",
     "output_type": "stream",
     "text": [
      "F1 Score: 0.76619 \n",
      "\n",
      "Confusion Matrix:\n",
      " [[55443  8477]\n",
      " [ 8913 28494]] \n",
      "\n",
      "Classification Report:\n",
      "               precision    recall  f1-score   support\n",
      "\n",
      "           0       0.86      0.87      0.86     63920\n",
      "           1       0.77      0.76      0.77     37407\n",
      "\n",
      "    accuracy                           0.83    101327\n",
      "   macro avg       0.82      0.81      0.82    101327\n",
      "weighted avg       0.83      0.83      0.83    101327\n",
      "\n"
     ]
    }
   ],
   "source": [
    "xgb_clf_final = xgb_clf6\n",
    "# xgb_clf_final_pred = cross_val_predict(xgb_clf_final, X_train_prepared_2, y_train, cv=5, verbose=2)\n",
    "# joblib.dump(xgb_clf_final_pred, \"bookings/pred/xgb_clf_final_pred.pkl\")\n",
    "xgb_clf_final_pred = joblib.load(r\"bookings/pred/xgb_clf_final_pred.pkl\")\n",
    "display_evaluation(y_train, xgb_clf_final_pred, True)"
   ],
   "metadata": {
    "collapsed": false,
    "pycharm": {
     "name": "#%%\n"
    }
   }
  },
  {
   "cell_type": "markdown",
   "source": [
    "# 10. Model Improvements- Fifth Attempt:\n",
    "## Train Voting Classifiers using the Tuned Models."
   ],
   "metadata": {
    "collapsed": false
   }
  },
  {
   "cell_type": "markdown",
   "source": [
    "> ### Hard Voting Classifier:\n",
    "> Predicts the class that received the most votes."
   ],
   "metadata": {
    "collapsed": false
   }
  },
  {
   "cell_type": "code",
   "execution_count": 197,
   "outputs": [],
   "source": [
    "voting_hard = VotingClassifier(\n",
    "    estimators=[\n",
    "        ('log_reg', clone(log_reg_final)),\n",
    "        ('knn', clone(knn_final)),\n",
    "        ('rf_clf', clone(rf_clf_final))],\n",
    "    voting='hard')"
   ],
   "metadata": {
    "collapsed": false,
    "pycharm": {
     "name": "#%%\n"
    }
   }
  },
  {
   "cell_type": "code",
   "execution_count": 198,
   "outputs": [
    {
     "name": "stdout",
     "output_type": "stream",
     "text": [
      "Scores: [0.76045302 0.76057135 0.75633473 0.76060928 0.76018742]\n",
      "Mean: 0.75963\n",
      "Standard Deviation: 0.00165\n"
     ]
    }
   ],
   "source": [
    "# voting_hard_scores = cross_val_score(voting_hard, X_train_prepared_2, y_train, cv=5, scoring=\"f1\", verbose=2)\n",
    "# joblib.dump(voting_hard_scores, \"bookings/scores/voting_hard_scores.pkl\")\n",
    "voting_hard_scores = joblib.load(r\"bookings/scores/voting_hard_scores.pkl\")\n",
    "display_scores(voting_hard_scores)"
   ],
   "metadata": {
    "collapsed": false,
    "pycharm": {
     "name": "#%%\n"
    }
   }
  },
  {
   "cell_type": "code",
   "execution_count": 199,
   "outputs": [
    {
     "name": "stdout",
     "output_type": "stream",
     "text": [
      "F1 Score: 0.75963 \n",
      "\n",
      "Confusion Matrix:\n",
      " [[57622  6298]\n",
      " [10641 26766]] \n",
      "\n",
      "Classification Report:\n",
      "               precision    recall  f1-score   support\n",
      "\n",
      "           0       0.84      0.90      0.87     63920\n",
      "           1       0.81      0.72      0.76     37407\n",
      "\n",
      "    accuracy                           0.83    101327\n",
      "   macro avg       0.83      0.81      0.82    101327\n",
      "weighted avg       0.83      0.83      0.83    101327\n",
      "\n"
     ]
    }
   ],
   "source": [
    "# voting_hard_pred = cross_val_predict(voting_hard, X_train_prepared_2, y_train, cv=5, verbose=2)\n",
    "# joblib.dump(voting_hard_pred, \"bookings/pred/voting_hard_pred.pkl\")\n",
    "voting_hard_pred = joblib.load(r\"bookings/pred/voting_hard_pred.pkl\")\n",
    "display_evaluation(y_train, voting_hard_pred, True)"
   ],
   "metadata": {
    "collapsed": false,
    "pycharm": {
     "name": "#%%\n"
    }
   }
  },
  {
   "cell_type": "markdown",
   "source": [
    "> ### Soft Voting Classifier:\n",
    "> Averages the predicted probabilities."
   ],
   "metadata": {
    "collapsed": false
   }
  },
  {
   "cell_type": "code",
   "execution_count": 200,
   "outputs": [],
   "source": [
    "voting_soft = VotingClassifier(\n",
    "    estimators=[\n",
    "        ('log_reg', clone(log_reg_final)),\n",
    "        ('rf_clf', clone(rf_clf_final)),\n",
    "        ('xgb', clone(xgb_clf_final))],\n",
    "    voting='soft')"
   ],
   "metadata": {
    "collapsed": false,
    "pycharm": {
     "name": "#%%\n"
    }
   }
  },
  {
   "cell_type": "code",
   "execution_count": 201,
   "outputs": [
    {
     "name": "stdout",
     "output_type": "stream",
     "text": [
      "Scores: [0.7721519  0.77356417 0.7694116  0.77251908 0.77354571]\n",
      "Mean: 0.77224\n",
      "Standard Deviation: 0.00152\n"
     ]
    }
   ],
   "source": [
    "# voting_soft_scores = cross_val_score(voting_soft, X_train_prepared_2, y_train, cv=5, scoring=\"f1\", verbose=2)\n",
    "# joblib.dump(voting_soft_scores, \"bookings/scores/voting_soft_scores.pkl\")\n",
    "voting_soft_scores = joblib.load(r\"bookings/scores/voting_soft_scores.pkl\")\n",
    "display_scores(voting_soft_scores)"
   ],
   "metadata": {
    "collapsed": false,
    "pycharm": {
     "name": "#%%\n"
    }
   }
  },
  {
   "cell_type": "code",
   "execution_count": 202,
   "outputs": [
    {
     "name": "stdout",
     "output_type": "stream",
     "text": [
      "F1 Score: 0.77224 \n",
      "\n",
      "Confusion Matrix:\n",
      " [[56976  6944]\n",
      " [ 9511 27896]] \n",
      "\n",
      "Classification Report:\n",
      "               precision    recall  f1-score   support\n",
      "\n",
      "           0       0.86      0.89      0.87     63920\n",
      "           1       0.80      0.75      0.77     37407\n",
      "\n",
      "    accuracy                           0.84    101327\n",
      "   macro avg       0.83      0.82      0.82    101327\n",
      "weighted avg       0.84      0.84      0.84    101327\n",
      "\n"
     ]
    }
   ],
   "source": [
    "# voting_soft_pred = cross_val_predict(voting_soft, X_train_prepared_2, y_train, cv=5, verbose=2)\n",
    "# joblib.dump(voting_soft_pred, \"bookings/pred/voting_soft_pred.pkl\")\n",
    "voting_soft_pred = joblib.load(r\"bookings/pred/voting_soft_pred.pkl\")\n",
    "display_evaluation(y_train, voting_soft_pred, True)"
   ],
   "metadata": {
    "collapsed": false,
    "pycharm": {
     "name": "#%%\n"
    }
   }
  },
  {
   "cell_type": "markdown",
   "source": [
    "# 11. Model Improvements- Sixth Attempt:\n",
    "## Use the Tuned Models for Stacking."
   ],
   "metadata": {
    "collapsed": false,
    "pycharm": {
     "name": "#%% md\n"
    }
   }
  },
  {
   "cell_type": "code",
   "execution_count": 203,
   "outputs": [],
   "source": [
    "stack_clf = StackingClassifier(\n",
    "    estimators=[\n",
    "        (\"knn\", clone(knn_final)),\n",
    "        (\"rf_clf\", clone(rf_clf_final)),\n",
    "        (\"xgb\", clone(xgb_clf_final))\n",
    "    ],\n",
    "    final_estimator=clone(log_reg_final),\n",
    "    verbose=2,\n",
    "    cv=5,  # determines cross-validation folds used to train final estimator\n",
    "    n_jobs=-1,\n",
    "    passthrough=True  # when True- trains final estimator on original data too\n",
    ")"
   ],
   "metadata": {
    "collapsed": false,
    "pycharm": {
     "name": "#%%\n"
    }
   }
  },
  {
   "cell_type": "code",
   "execution_count": 204,
   "outputs": [
    {
     "name": "stdout",
     "output_type": "stream",
     "text": [
      "Scores: [0.77190203 0.76858748 0.76811403 0.77142482 0.77259303]\n",
      "Mean: 0.77052\n",
      "Standard Deviation: 0.00182\n"
     ]
    }
   ],
   "source": [
    "# stack_clf_scores = cross_val_score(stack_clf, X_train_prepared_2, y_train, cv=5, scoring=\"f1\", verbose=2)\n",
    "# joblib.dump(stack_clf_scores, \"bookings/scores/stack_clf_scores.pkl\")\n",
    "stack_clf_scores = joblib.load(r\"bookings/scores/stack_clf_scores.pkl\")\n",
    "display_scores(stack_clf_scores)"
   ],
   "metadata": {
    "collapsed": false,
    "pycharm": {
     "name": "#%%\n"
    }
   }
  },
  {
   "cell_type": "code",
   "execution_count": 205,
   "outputs": [
    {
     "name": "stdout",
     "output_type": "stream",
     "text": [
      "F1 Score: 0.77052 \n",
      "\n",
      "Confusion Matrix:\n",
      " [[54570  9350]\n",
      " [ 8104 29303]] \n",
      "\n",
      "Classification Report:\n",
      "               precision    recall  f1-score   support\n",
      "\n",
      "           0       0.87      0.85      0.86     63920\n",
      "           1       0.76      0.78      0.77     37407\n",
      "\n",
      "    accuracy                           0.83    101327\n",
      "   macro avg       0.81      0.82      0.82    101327\n",
      "weighted avg       0.83      0.83      0.83    101327\n",
      "\n"
     ]
    }
   ],
   "source": [
    "# stack_clf_pred = cross_val_predict(stack_clf, X_train_prepared_2, y_train, cv=5, verbose=2)\n",
    "# joblib.dump(stack_clf_pred, \"bookings/pred/stack_clf_pred.pkl\")\n",
    "stack_clf_pred = joblib.load(r\"bookings/pred/stack_clf_pred.pkl\")\n",
    "display_evaluation(y_train, stack_clf_pred, True)"
   ],
   "metadata": {
    "collapsed": false,
    "pycharm": {
     "name": "#%%\n"
    }
   }
  },
  {
   "cell_type": "markdown",
   "source": [
    "### The model with the highest accuracy score is the Soft Voting Classifier!"
   ],
   "metadata": {
    "collapsed": false,
    "pycharm": {
     "name": "#%% md\n"
    }
   }
  },
  {
   "cell_type": "code",
   "execution_count": 206,
   "outputs": [],
   "source": [
    "# final_model_B = voting_soft.fit(X_train_prepared_2, y_train)\n",
    "# joblib.dump(final_model_B, \"bookings/models/final_model_B.pkl\")\n",
    "final_model_B = joblib.load(r\"bookings/models/final_model_B.pkl\")"
   ],
   "metadata": {
    "collapsed": false,
    "pycharm": {
     "name": "#%%\n"
    }
   }
  },
  {
   "cell_type": "markdown",
   "source": [
    "# 12. Re-evaluating the Test Set"
   ],
   "metadata": {
    "collapsed": false,
    "pycharm": {
     "name": "#%% md\n"
    }
   }
  },
  {
   "cell_type": "markdown",
   "source": [
    "> Section A Test Set Predictions:"
   ],
   "metadata": {
    "collapsed": false,
    "pycharm": {
     "name": "#%% md\n"
    }
   }
  },
  {
   "cell_type": "code",
   "execution_count": 207,
   "outputs": [
    {
     "name": "stdout",
     "output_type": "stream",
     "text": [
      "F1 Score: 0.77825 \n",
      "\n",
      "Confusion Matrix:\n",
      " [[10124   993]\n",
      " [ 1833  4959]] \n",
      "\n",
      "Classification Report:\n",
      "               precision    recall  f1-score   support\n",
      "\n",
      "           0       0.85      0.91      0.88     11117\n",
      "           1       0.83      0.73      0.78      6792\n",
      "\n",
      "    accuracy                           0.84     17909\n",
      "   macro avg       0.84      0.82      0.83     17909\n",
      "weighted avg       0.84      0.84      0.84     17909\n",
      "\n"
     ]
    }
   ],
   "source": [
    "display_evaluation(y_test, final_predictions, True)"
   ],
   "metadata": {
    "collapsed": false,
    "pycharm": {
     "name": "#%%\n"
    }
   }
  },
  {
   "cell_type": "markdown",
   "source": [
    "> Section B Test Set Predictions:"
   ],
   "metadata": {
    "collapsed": false,
    "pycharm": {
     "name": "#%% md\n"
    }
   }
  },
  {
   "cell_type": "code",
   "execution_count": 208,
   "outputs": [
    {
     "name": "stdout",
     "output_type": "stream",
     "text": [
      "F1 Score: 0.78524 \n",
      "\n",
      "Confusion Matrix:\n",
      " [[9942 1175]\n",
      " [1642 5150]] \n",
      "\n",
      "Classification Report:\n",
      "               precision    recall  f1-score   support\n",
      "\n",
      "           0       0.86      0.89      0.88     11117\n",
      "           1       0.81      0.76      0.79      6792\n",
      "\n",
      "    accuracy                           0.84     17909\n",
      "   macro avg       0.84      0.83      0.83     17909\n",
      "weighted avg       0.84      0.84      0.84     17909\n",
      "\n"
     ]
    }
   ],
   "source": [
    "final_predictions2 = final_model_B.predict(X_test_prep)\n",
    "display_evaluation(y_test, final_predictions2, True)"
   ],
   "metadata": {
    "collapsed": false,
    "pycharm": {
     "name": "#%%\n"
    }
   }
  },
  {
   "cell_type": "code",
   "source": [
    "print(\"Improvement Percentage:\", round(metrics.f1_score(y_test, final_predictions2) * 100 -\n",
    "                                       metrics.f1_score(y_test, final_predictions) * 100, 2), \"%\")"
   ],
   "metadata": {
    "collapsed": false,
    "pycharm": {
     "name": "#%%\n"
    }
   },
   "execution_count": 209,
   "outputs": [
    {
     "name": "stdout",
     "output_type": "stream",
     "text": [
      "Improvement Percentage: 0.7 %\n"
     ]
    }
   ]
  },
  {
   "cell_type": "markdown",
   "source": [
    "> #### Resources:\n",
    "1. <a href=\"https://www.kaggle.com/jessemostipak/hotel-booking-demand\">Hotel Booking Demand Dataset</a>\n",
    "2. <a href=\"https://www.sciencedirect.com/science/article/pii/S2352340918315191\">Hotel Booking Demand Article</a>\n",
    "3. <a href=\"https://www.investopedia.com/terms/a/average-daily-rate.asp\">Average Daily Rate Article</a>\n",
    "4. <a href=\"https://towardsdatascience.com/an-implementation-and-explanation-of-the-random-forest-in-python-77bf308a9b76\">An Implementation and Explanation of the Random Forest in Python</a>"
   ],
   "metadata": {
    "collapsed": false
   }
  },
  {
   "cell_type": "markdown",
   "source": [],
   "metadata": {
    "collapsed": false,
    "pycharm": {
     "name": "#%% md\n"
    }
   }
  }
 ]
}