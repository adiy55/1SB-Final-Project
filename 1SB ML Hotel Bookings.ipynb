{
  "nbformat": 4,
  "nbformat_minor": 0,
  "metadata": {
    "kernelspec": {
      "name": "pycharm-822448ac",
      "language": "python",
      "display_name": "PyCharm (2SA-DS-Assignments)"
    },
    "language_info": {
      "codemirror_mode": {
        "name": "ipython",
        "version": 2
      },
      "file_extension": ".py",
      "mimetype": "text/x-python",
      "name": "python",
      "nbconvert_exporter": "python",
      "pygments_lexer": "ipython2",
      "version": "2.7.6"
    },
    "colab": {
      "name": "1SB ML Hotel Bookings.ipynb",
      "provenance": []
    }
  },
  "cells": [
    {
      "cell_type": "markdown",
      "metadata": {
        "collapsed": false,
        "id": "ySrSjRJPA39S"
      },
      "source": [
        "<h1 style=\"text-align: center;\">Data Science Project</h1>\n",
        "<h2 style=\"text-align: center;\">Part 1</h2>\n",
        "<h2 style=\"text-align: center;\">Hotel Booking Demand DataSet</h2>"
      ]
    },
    {
      "cell_type": "markdown",
      "metadata": {
        "collapsed": false,
        "pycharm": {
          "name": "#%% md\n"
        },
        "id": "ECfw_8WKA39T"
      },
      "source": [
        "**General Note:** IPython Notebook files render as static HTML files on GitHub\n",
        "(i.e. internal links to specific cells that I added won't work on GitHub).\n",
        "\n",
        "For an interactive experience you can view this notebook <a href=\"https://nbviewer.jupyter.org/\" title=\"nbviewer\">here</a>."
      ]
    },
    {
      "cell_type": "markdown",
      "metadata": {
        "collapsed": false,
        "pycharm": {
          "name": "#%% md\n"
        },
        "id": "CqoeEgbqA39U"
      },
      "source": [
        "## Contents:\n",
        "> Section A: EDA of Hotel Bookings and ML to Predict Cancellations\n",
        ">> 1. [Getting the Data](#one)\n",
        ">> 2. [Understanding and Visualizing the Data](#two)\n",
        ">> 3. [Data Cleaning](#three)\n",
        ">> 4. [Training and Evaluating Models](#four)\n",
        ">> 5. [Evaluating the Test Set](#five)\n",
        ">\n",
        "> Section B: Using Different ML Techniques to Improve Prediction Results\n",
        ">>\n",
        "\n",
        "\n",
        "**Note:** If you already read the first section, you may want to skip directly to [Section B](#section_b)."
      ]
    },
    {
      "cell_type": "code",
      "metadata": {
        "pycharm": {
          "name": "#%%\n"
        },
        "id": "rai3XXRjA39U"
      },
      "source": [
        "# common imports\n",
        "import numpy as np\n",
        "import pandas as pd\n",
        "import seaborn as sns\n",
        "import matplotlib.pyplot as plt\n",
        "%matplotlib inline\n",
        "\n",
        "# machine learning imports\n",
        "from sklearn.neighbors import KNeighborsClassifier\n",
        "from sklearn.ensemble import RandomForestClassifier\n",
        "from sklearn.model_selection import train_test_split\n",
        "from sklearn.model_selection import RandomizedSearchCV\n",
        "from sklearn.pipeline import Pipeline\n",
        "from sklearn.pipeline import TransformerMixin\n",
        "from sklearn.preprocessing import MinMaxScaler\n",
        "from sklearn.preprocessing import OneHotEncoder\n",
        "from sklearn.compose import ColumnTransformer\n",
        "from sklearn.impute import SimpleImputer\n",
        "from sklearn.base import BaseEstimator\n",
        "from sklearn import metrics\n",
        "\n",
        "# display setup\n",
        "pd.set_option(\"display.max_columns\", None) # the None parameter displays unlimited columns\n",
        "sns.set(style=\"whitegrid\") # for plots"
      ],
      "execution_count": 1,
      "outputs": []
    },
    {
      "cell_type": "markdown",
      "metadata": {
        "collapsed": false,
        "id": "lsWCqPM_A39V"
      },
      "source": [
        "## Section A: EDA of Hotel Bookings and ML to Predict Cancellations"
      ]
    },
    {
      "cell_type": "markdown",
      "metadata": {
        "collapsed": false,
        "id": "93_mb9rmA39V"
      },
      "source": [
        "<a id=\"one\"></a>"
      ]
    },
    {
      "cell_type": "markdown",
      "metadata": {
        "collapsed": false,
        "id": "cF-4MuXVA39V"
      },
      "source": [
        "# 1. Getting the Data"
      ]
    },
    {
      "cell_type": "code",
      "metadata": {
        "pycharm": {
          "name": "#%%\n"
        },
        "id": "J5O55qgjA39V"
      },
      "source": [
        "# read the csv file\n",
        "df = pd.read_csv(r\"hotel_bookings.csv\")"
      ],
      "execution_count": 2,
      "outputs": []
    },
    {
      "cell_type": "code",
      "metadata": {
        "pycharm": {
          "name": "#%%\n"
        },
        "colab": {
          "base_uri": "https://localhost:8080/",
          "height": 305
        },
        "id": "66I-CzSJA39W",
        "outputId": "cf5d0054-378a-4447-8785-10e998cd8073"
      },
      "source": [
        "# display the first 5 rows for a quick look\n",
        "df.head()"
      ],
      "execution_count": 3,
      "outputs": [
        {
          "output_type": "execute_result",
          "data": {
            "text/html": [
              "<div>\n",
              "<style scoped>\n",
              "    .dataframe tbody tr th:only-of-type {\n",
              "        vertical-align: middle;\n",
              "    }\n",
              "\n",
              "    .dataframe tbody tr th {\n",
              "        vertical-align: top;\n",
              "    }\n",
              "\n",
              "    .dataframe thead th {\n",
              "        text-align: right;\n",
              "    }\n",
              "</style>\n",
              "<table border=\"1\" class=\"dataframe\">\n",
              "  <thead>\n",
              "    <tr style=\"text-align: right;\">\n",
              "      <th></th>\n",
              "      <th>hotel</th>\n",
              "      <th>is_canceled</th>\n",
              "      <th>lead_time</th>\n",
              "      <th>arrival_date_year</th>\n",
              "      <th>arrival_date_month</th>\n",
              "      <th>arrival_date_week_number</th>\n",
              "      <th>arrival_date_day_of_month</th>\n",
              "      <th>stays_in_weekend_nights</th>\n",
              "      <th>stays_in_week_nights</th>\n",
              "      <th>adults</th>\n",
              "      <th>children</th>\n",
              "      <th>babies</th>\n",
              "      <th>meal</th>\n",
              "      <th>country</th>\n",
              "      <th>market_segment</th>\n",
              "      <th>distribution_channel</th>\n",
              "      <th>is_repeated_guest</th>\n",
              "      <th>previous_cancellations</th>\n",
              "      <th>previous_bookings_not_canceled</th>\n",
              "      <th>reserved_room_type</th>\n",
              "      <th>assigned_room_type</th>\n",
              "      <th>booking_changes</th>\n",
              "      <th>deposit_type</th>\n",
              "      <th>agent</th>\n",
              "      <th>company</th>\n",
              "      <th>days_in_waiting_list</th>\n",
              "      <th>customer_type</th>\n",
              "      <th>adr</th>\n",
              "      <th>required_car_parking_spaces</th>\n",
              "      <th>total_of_special_requests</th>\n",
              "      <th>reservation_status</th>\n",
              "      <th>reservation_status_date</th>\n",
              "    </tr>\n",
              "  </thead>\n",
              "  <tbody>\n",
              "    <tr>\n",
              "      <th>0</th>\n",
              "      <td>Resort Hotel</td>\n",
              "      <td>0</td>\n",
              "      <td>342</td>\n",
              "      <td>2015</td>\n",
              "      <td>July</td>\n",
              "      <td>27</td>\n",
              "      <td>1</td>\n",
              "      <td>0</td>\n",
              "      <td>0</td>\n",
              "      <td>2</td>\n",
              "      <td>0.0</td>\n",
              "      <td>0</td>\n",
              "      <td>BB</td>\n",
              "      <td>PRT</td>\n",
              "      <td>Direct</td>\n",
              "      <td>Direct</td>\n",
              "      <td>0</td>\n",
              "      <td>0</td>\n",
              "      <td>0</td>\n",
              "      <td>C</td>\n",
              "      <td>C</td>\n",
              "      <td>3</td>\n",
              "      <td>No Deposit</td>\n",
              "      <td>NaN</td>\n",
              "      <td>NaN</td>\n",
              "      <td>0</td>\n",
              "      <td>Transient</td>\n",
              "      <td>0.0</td>\n",
              "      <td>0</td>\n",
              "      <td>0</td>\n",
              "      <td>Check-Out</td>\n",
              "      <td>2015-07-01</td>\n",
              "    </tr>\n",
              "    <tr>\n",
              "      <th>1</th>\n",
              "      <td>Resort Hotel</td>\n",
              "      <td>0</td>\n",
              "      <td>737</td>\n",
              "      <td>2015</td>\n",
              "      <td>July</td>\n",
              "      <td>27</td>\n",
              "      <td>1</td>\n",
              "      <td>0</td>\n",
              "      <td>0</td>\n",
              "      <td>2</td>\n",
              "      <td>0.0</td>\n",
              "      <td>0</td>\n",
              "      <td>BB</td>\n",
              "      <td>PRT</td>\n",
              "      <td>Direct</td>\n",
              "      <td>Direct</td>\n",
              "      <td>0</td>\n",
              "      <td>0</td>\n",
              "      <td>0</td>\n",
              "      <td>C</td>\n",
              "      <td>C</td>\n",
              "      <td>4</td>\n",
              "      <td>No Deposit</td>\n",
              "      <td>NaN</td>\n",
              "      <td>NaN</td>\n",
              "      <td>0</td>\n",
              "      <td>Transient</td>\n",
              "      <td>0.0</td>\n",
              "      <td>0</td>\n",
              "      <td>0</td>\n",
              "      <td>Check-Out</td>\n",
              "      <td>2015-07-01</td>\n",
              "    </tr>\n",
              "    <tr>\n",
              "      <th>2</th>\n",
              "      <td>Resort Hotel</td>\n",
              "      <td>0</td>\n",
              "      <td>7</td>\n",
              "      <td>2015</td>\n",
              "      <td>July</td>\n",
              "      <td>27</td>\n",
              "      <td>1</td>\n",
              "      <td>0</td>\n",
              "      <td>1</td>\n",
              "      <td>1</td>\n",
              "      <td>0.0</td>\n",
              "      <td>0</td>\n",
              "      <td>BB</td>\n",
              "      <td>GBR</td>\n",
              "      <td>Direct</td>\n",
              "      <td>Direct</td>\n",
              "      <td>0</td>\n",
              "      <td>0</td>\n",
              "      <td>0</td>\n",
              "      <td>A</td>\n",
              "      <td>C</td>\n",
              "      <td>0</td>\n",
              "      <td>No Deposit</td>\n",
              "      <td>NaN</td>\n",
              "      <td>NaN</td>\n",
              "      <td>0</td>\n",
              "      <td>Transient</td>\n",
              "      <td>75.0</td>\n",
              "      <td>0</td>\n",
              "      <td>0</td>\n",
              "      <td>Check-Out</td>\n",
              "      <td>2015-07-02</td>\n",
              "    </tr>\n",
              "    <tr>\n",
              "      <th>3</th>\n",
              "      <td>Resort Hotel</td>\n",
              "      <td>0</td>\n",
              "      <td>13</td>\n",
              "      <td>2015</td>\n",
              "      <td>July</td>\n",
              "      <td>27</td>\n",
              "      <td>1</td>\n",
              "      <td>0</td>\n",
              "      <td>1</td>\n",
              "      <td>1</td>\n",
              "      <td>0.0</td>\n",
              "      <td>0</td>\n",
              "      <td>BB</td>\n",
              "      <td>GBR</td>\n",
              "      <td>Corporate</td>\n",
              "      <td>Corporate</td>\n",
              "      <td>0</td>\n",
              "      <td>0</td>\n",
              "      <td>0</td>\n",
              "      <td>A</td>\n",
              "      <td>A</td>\n",
              "      <td>0</td>\n",
              "      <td>No Deposit</td>\n",
              "      <td>304.0</td>\n",
              "      <td>NaN</td>\n",
              "      <td>0</td>\n",
              "      <td>Transient</td>\n",
              "      <td>75.0</td>\n",
              "      <td>0</td>\n",
              "      <td>0</td>\n",
              "      <td>Check-Out</td>\n",
              "      <td>2015-07-02</td>\n",
              "    </tr>\n",
              "    <tr>\n",
              "      <th>4</th>\n",
              "      <td>Resort Hotel</td>\n",
              "      <td>0</td>\n",
              "      <td>14</td>\n",
              "      <td>2015</td>\n",
              "      <td>July</td>\n",
              "      <td>27</td>\n",
              "      <td>1</td>\n",
              "      <td>0</td>\n",
              "      <td>2</td>\n",
              "      <td>2</td>\n",
              "      <td>0.0</td>\n",
              "      <td>0</td>\n",
              "      <td>BB</td>\n",
              "      <td>GBR</td>\n",
              "      <td>Online TA</td>\n",
              "      <td>TA/TO</td>\n",
              "      <td>0</td>\n",
              "      <td>0</td>\n",
              "      <td>0</td>\n",
              "      <td>A</td>\n",
              "      <td>A</td>\n",
              "      <td>0</td>\n",
              "      <td>No Deposit</td>\n",
              "      <td>240.0</td>\n",
              "      <td>NaN</td>\n",
              "      <td>0</td>\n",
              "      <td>Transient</td>\n",
              "      <td>98.0</td>\n",
              "      <td>0</td>\n",
              "      <td>1</td>\n",
              "      <td>Check-Out</td>\n",
              "      <td>2015-07-03</td>\n",
              "    </tr>\n",
              "  </tbody>\n",
              "</table>\n",
              "</div>"
            ],
            "text/plain": [
              "          hotel  is_canceled  lead_time  arrival_date_year arrival_date_month  \\\n",
              "0  Resort Hotel            0        342               2015               July   \n",
              "1  Resort Hotel            0        737               2015               July   \n",
              "2  Resort Hotel            0          7               2015               July   \n",
              "3  Resort Hotel            0         13               2015               July   \n",
              "4  Resort Hotel            0         14               2015               July   \n",
              "\n",
              "   arrival_date_week_number  arrival_date_day_of_month  \\\n",
              "0                        27                          1   \n",
              "1                        27                          1   \n",
              "2                        27                          1   \n",
              "3                        27                          1   \n",
              "4                        27                          1   \n",
              "\n",
              "   stays_in_weekend_nights  stays_in_week_nights  adults  children  babies  \\\n",
              "0                        0                     0       2       0.0       0   \n",
              "1                        0                     0       2       0.0       0   \n",
              "2                        0                     1       1       0.0       0   \n",
              "3                        0                     1       1       0.0       0   \n",
              "4                        0                     2       2       0.0       0   \n",
              "\n",
              "  meal country market_segment distribution_channel  is_repeated_guest  \\\n",
              "0   BB     PRT         Direct               Direct                  0   \n",
              "1   BB     PRT         Direct               Direct                  0   \n",
              "2   BB     GBR         Direct               Direct                  0   \n",
              "3   BB     GBR      Corporate            Corporate                  0   \n",
              "4   BB     GBR      Online TA                TA/TO                  0   \n",
              "\n",
              "   previous_cancellations  previous_bookings_not_canceled reserved_room_type  \\\n",
              "0                       0                               0                  C   \n",
              "1                       0                               0                  C   \n",
              "2                       0                               0                  A   \n",
              "3                       0                               0                  A   \n",
              "4                       0                               0                  A   \n",
              "\n",
              "  assigned_room_type  booking_changes deposit_type  agent  company  \\\n",
              "0                  C                3   No Deposit    NaN      NaN   \n",
              "1                  C                4   No Deposit    NaN      NaN   \n",
              "2                  C                0   No Deposit    NaN      NaN   \n",
              "3                  A                0   No Deposit  304.0      NaN   \n",
              "4                  A                0   No Deposit  240.0      NaN   \n",
              "\n",
              "   days_in_waiting_list customer_type   adr  required_car_parking_spaces  \\\n",
              "0                     0     Transient   0.0                            0   \n",
              "1                     0     Transient   0.0                            0   \n",
              "2                     0     Transient  75.0                            0   \n",
              "3                     0     Transient  75.0                            0   \n",
              "4                     0     Transient  98.0                            0   \n",
              "\n",
              "   total_of_special_requests reservation_status reservation_status_date  \n",
              "0                          0          Check-Out              2015-07-01  \n",
              "1                          0          Check-Out              2015-07-01  \n",
              "2                          0          Check-Out              2015-07-02  \n",
              "3                          0          Check-Out              2015-07-02  \n",
              "4                          1          Check-Out              2015-07-03  "
            ]
          },
          "metadata": {
            "tags": []
          },
          "execution_count": 3
        }
      ]
    },
    {
      "cell_type": "code",
      "metadata": {
        "pycharm": {
          "name": "#%%\n"
        },
        "colab": {
          "base_uri": "https://localhost:8080/"
        },
        "id": "_3zxTgUaA39W",
        "outputId": "98212117-afcb-4f73-cc27-8eab19d544d6"
      },
      "source": [
        "# DataFrame shape (rows, columns)\n",
        "# understand the amount of data we are working with\n",
        "df.shape"
      ],
      "execution_count": 4,
      "outputs": [
        {
          "output_type": "execute_result",
          "data": {
            "text/plain": [
              "(119390, 32)"
            ]
          },
          "metadata": {
            "tags": []
          },
          "execution_count": 4
        }
      ]
    },
    {
      "cell_type": "code",
      "metadata": {
        "pycharm": {
          "name": "#%%\n"
        },
        "colab": {
          "base_uri": "https://localhost:8080/"
        },
        "id": "38ksUkwjA39X",
        "outputId": "c2ffdd36-dc5e-4ca0-9f42-42e3de12655a"
      },
      "source": [
        "# description of data\n",
        "df.info()"
      ],
      "execution_count": 5,
      "outputs": [
        {
          "output_type": "stream",
          "text": [
            "<class 'pandas.core.frame.DataFrame'>\n",
            "RangeIndex: 119390 entries, 0 to 119389\n",
            "Data columns (total 32 columns):\n",
            " #   Column                          Non-Null Count   Dtype  \n",
            "---  ------                          --------------   -----  \n",
            " 0   hotel                           119390 non-null  object \n",
            " 1   is_canceled                     119390 non-null  int64  \n",
            " 2   lead_time                       119390 non-null  int64  \n",
            " 3   arrival_date_year               119390 non-null  int64  \n",
            " 4   arrival_date_month              119390 non-null  object \n",
            " 5   arrival_date_week_number        119390 non-null  int64  \n",
            " 6   arrival_date_day_of_month       119390 non-null  int64  \n",
            " 7   stays_in_weekend_nights         119390 non-null  int64  \n",
            " 8   stays_in_week_nights            119390 non-null  int64  \n",
            " 9   adults                          119390 non-null  int64  \n",
            " 10  children                        119386 non-null  float64\n",
            " 11  babies                          119390 non-null  int64  \n",
            " 12  meal                            119390 non-null  object \n",
            " 13  country                         118902 non-null  object \n",
            " 14  market_segment                  119390 non-null  object \n",
            " 15  distribution_channel            119390 non-null  object \n",
            " 16  is_repeated_guest               119390 non-null  int64  \n",
            " 17  previous_cancellations          119390 non-null  int64  \n",
            " 18  previous_bookings_not_canceled  119390 non-null  int64  \n",
            " 19  reserved_room_type              119390 non-null  object \n",
            " 20  assigned_room_type              119390 non-null  object \n",
            " 21  booking_changes                 119390 non-null  int64  \n",
            " 22  deposit_type                    119390 non-null  object \n",
            " 23  agent                           103050 non-null  float64\n",
            " 24  company                         6797 non-null    float64\n",
            " 25  days_in_waiting_list            119390 non-null  int64  \n",
            " 26  customer_type                   119390 non-null  object \n",
            " 27  adr                             119390 non-null  float64\n",
            " 28  required_car_parking_spaces     119390 non-null  int64  \n",
            " 29  total_of_special_requests       119390 non-null  int64  \n",
            " 30  reservation_status              119390 non-null  object \n",
            " 31  reservation_status_date         119390 non-null  object \n",
            "dtypes: float64(4), int64(16), object(12)\n",
            "memory usage: 29.1+ MB\n"
          ],
          "name": "stdout"
        }
      ]
    },
    {
      "cell_type": "markdown",
      "metadata": {
        "collapsed": false,
        "id": "ztLFe4TcA39X"
      },
      "source": [
        "> In a first observation it is clear that some features have\n",
        "> missing values (i.e. \"company\" and \"agent\" columns).\n",
        "> We will need to take care of this later."
      ]
    },
    {
      "cell_type": "code",
      "metadata": {
        "pycharm": {
          "name": "#%%\n"
        },
        "colab": {
          "base_uri": "https://localhost:8080/",
          "height": 314
        },
        "id": "NqyX6QmkA39X",
        "outputId": "d7f5e8ab-e132-488a-81a4-0cbf51f47482"
      },
      "source": [
        "# summary of the numerical attributes\n",
        "# null values are ignored\n",
        "df.describe()"
      ],
      "execution_count": 6,
      "outputs": [
        {
          "output_type": "execute_result",
          "data": {
            "text/html": [
              "<div>\n",
              "<style scoped>\n",
              "    .dataframe tbody tr th:only-of-type {\n",
              "        vertical-align: middle;\n",
              "    }\n",
              "\n",
              "    .dataframe tbody tr th {\n",
              "        vertical-align: top;\n",
              "    }\n",
              "\n",
              "    .dataframe thead th {\n",
              "        text-align: right;\n",
              "    }\n",
              "</style>\n",
              "<table border=\"1\" class=\"dataframe\">\n",
              "  <thead>\n",
              "    <tr style=\"text-align: right;\">\n",
              "      <th></th>\n",
              "      <th>is_canceled</th>\n",
              "      <th>lead_time</th>\n",
              "      <th>arrival_date_year</th>\n",
              "      <th>arrival_date_week_number</th>\n",
              "      <th>arrival_date_day_of_month</th>\n",
              "      <th>stays_in_weekend_nights</th>\n",
              "      <th>stays_in_week_nights</th>\n",
              "      <th>adults</th>\n",
              "      <th>children</th>\n",
              "      <th>babies</th>\n",
              "      <th>is_repeated_guest</th>\n",
              "      <th>previous_cancellations</th>\n",
              "      <th>previous_bookings_not_canceled</th>\n",
              "      <th>booking_changes</th>\n",
              "      <th>agent</th>\n",
              "      <th>company</th>\n",
              "      <th>days_in_waiting_list</th>\n",
              "      <th>adr</th>\n",
              "      <th>required_car_parking_spaces</th>\n",
              "      <th>total_of_special_requests</th>\n",
              "    </tr>\n",
              "  </thead>\n",
              "  <tbody>\n",
              "    <tr>\n",
              "      <th>count</th>\n",
              "      <td>119390.000000</td>\n",
              "      <td>119390.000000</td>\n",
              "      <td>119390.000000</td>\n",
              "      <td>119390.000000</td>\n",
              "      <td>119390.000000</td>\n",
              "      <td>119390.000000</td>\n",
              "      <td>119390.000000</td>\n",
              "      <td>119390.000000</td>\n",
              "      <td>119386.000000</td>\n",
              "      <td>119390.000000</td>\n",
              "      <td>119390.000000</td>\n",
              "      <td>119390.000000</td>\n",
              "      <td>119390.000000</td>\n",
              "      <td>119390.000000</td>\n",
              "      <td>103050.000000</td>\n",
              "      <td>6797.000000</td>\n",
              "      <td>119390.000000</td>\n",
              "      <td>119390.000000</td>\n",
              "      <td>119390.000000</td>\n",
              "      <td>119390.000000</td>\n",
              "    </tr>\n",
              "    <tr>\n",
              "      <th>mean</th>\n",
              "      <td>0.370416</td>\n",
              "      <td>104.011416</td>\n",
              "      <td>2016.156554</td>\n",
              "      <td>27.165173</td>\n",
              "      <td>15.798241</td>\n",
              "      <td>0.927599</td>\n",
              "      <td>2.500302</td>\n",
              "      <td>1.856403</td>\n",
              "      <td>0.103890</td>\n",
              "      <td>0.007949</td>\n",
              "      <td>0.031912</td>\n",
              "      <td>0.087118</td>\n",
              "      <td>0.137097</td>\n",
              "      <td>0.221124</td>\n",
              "      <td>86.693382</td>\n",
              "      <td>189.266735</td>\n",
              "      <td>2.321149</td>\n",
              "      <td>101.831122</td>\n",
              "      <td>0.062518</td>\n",
              "      <td>0.571363</td>\n",
              "    </tr>\n",
              "    <tr>\n",
              "      <th>std</th>\n",
              "      <td>0.482918</td>\n",
              "      <td>106.863097</td>\n",
              "      <td>0.707476</td>\n",
              "      <td>13.605138</td>\n",
              "      <td>8.780829</td>\n",
              "      <td>0.998613</td>\n",
              "      <td>1.908286</td>\n",
              "      <td>0.579261</td>\n",
              "      <td>0.398561</td>\n",
              "      <td>0.097436</td>\n",
              "      <td>0.175767</td>\n",
              "      <td>0.844336</td>\n",
              "      <td>1.497437</td>\n",
              "      <td>0.652306</td>\n",
              "      <td>110.774548</td>\n",
              "      <td>131.655015</td>\n",
              "      <td>17.594721</td>\n",
              "      <td>50.535790</td>\n",
              "      <td>0.245291</td>\n",
              "      <td>0.792798</td>\n",
              "    </tr>\n",
              "    <tr>\n",
              "      <th>min</th>\n",
              "      <td>0.000000</td>\n",
              "      <td>0.000000</td>\n",
              "      <td>2015.000000</td>\n",
              "      <td>1.000000</td>\n",
              "      <td>1.000000</td>\n",
              "      <td>0.000000</td>\n",
              "      <td>0.000000</td>\n",
              "      <td>0.000000</td>\n",
              "      <td>0.000000</td>\n",
              "      <td>0.000000</td>\n",
              "      <td>0.000000</td>\n",
              "      <td>0.000000</td>\n",
              "      <td>0.000000</td>\n",
              "      <td>0.000000</td>\n",
              "      <td>1.000000</td>\n",
              "      <td>6.000000</td>\n",
              "      <td>0.000000</td>\n",
              "      <td>-6.380000</td>\n",
              "      <td>0.000000</td>\n",
              "      <td>0.000000</td>\n",
              "    </tr>\n",
              "    <tr>\n",
              "      <th>25%</th>\n",
              "      <td>0.000000</td>\n",
              "      <td>18.000000</td>\n",
              "      <td>2016.000000</td>\n",
              "      <td>16.000000</td>\n",
              "      <td>8.000000</td>\n",
              "      <td>0.000000</td>\n",
              "      <td>1.000000</td>\n",
              "      <td>2.000000</td>\n",
              "      <td>0.000000</td>\n",
              "      <td>0.000000</td>\n",
              "      <td>0.000000</td>\n",
              "      <td>0.000000</td>\n",
              "      <td>0.000000</td>\n",
              "      <td>0.000000</td>\n",
              "      <td>9.000000</td>\n",
              "      <td>62.000000</td>\n",
              "      <td>0.000000</td>\n",
              "      <td>69.290000</td>\n",
              "      <td>0.000000</td>\n",
              "      <td>0.000000</td>\n",
              "    </tr>\n",
              "    <tr>\n",
              "      <th>50%</th>\n",
              "      <td>0.000000</td>\n",
              "      <td>69.000000</td>\n",
              "      <td>2016.000000</td>\n",
              "      <td>28.000000</td>\n",
              "      <td>16.000000</td>\n",
              "      <td>1.000000</td>\n",
              "      <td>2.000000</td>\n",
              "      <td>2.000000</td>\n",
              "      <td>0.000000</td>\n",
              "      <td>0.000000</td>\n",
              "      <td>0.000000</td>\n",
              "      <td>0.000000</td>\n",
              "      <td>0.000000</td>\n",
              "      <td>0.000000</td>\n",
              "      <td>14.000000</td>\n",
              "      <td>179.000000</td>\n",
              "      <td>0.000000</td>\n",
              "      <td>94.575000</td>\n",
              "      <td>0.000000</td>\n",
              "      <td>0.000000</td>\n",
              "    </tr>\n",
              "    <tr>\n",
              "      <th>75%</th>\n",
              "      <td>1.000000</td>\n",
              "      <td>160.000000</td>\n",
              "      <td>2017.000000</td>\n",
              "      <td>38.000000</td>\n",
              "      <td>23.000000</td>\n",
              "      <td>2.000000</td>\n",
              "      <td>3.000000</td>\n",
              "      <td>2.000000</td>\n",
              "      <td>0.000000</td>\n",
              "      <td>0.000000</td>\n",
              "      <td>0.000000</td>\n",
              "      <td>0.000000</td>\n",
              "      <td>0.000000</td>\n",
              "      <td>0.000000</td>\n",
              "      <td>229.000000</td>\n",
              "      <td>270.000000</td>\n",
              "      <td>0.000000</td>\n",
              "      <td>126.000000</td>\n",
              "      <td>0.000000</td>\n",
              "      <td>1.000000</td>\n",
              "    </tr>\n",
              "    <tr>\n",
              "      <th>max</th>\n",
              "      <td>1.000000</td>\n",
              "      <td>737.000000</td>\n",
              "      <td>2017.000000</td>\n",
              "      <td>53.000000</td>\n",
              "      <td>31.000000</td>\n",
              "      <td>19.000000</td>\n",
              "      <td>50.000000</td>\n",
              "      <td>55.000000</td>\n",
              "      <td>10.000000</td>\n",
              "      <td>10.000000</td>\n",
              "      <td>1.000000</td>\n",
              "      <td>26.000000</td>\n",
              "      <td>72.000000</td>\n",
              "      <td>21.000000</td>\n",
              "      <td>535.000000</td>\n",
              "      <td>543.000000</td>\n",
              "      <td>391.000000</td>\n",
              "      <td>5400.000000</td>\n",
              "      <td>8.000000</td>\n",
              "      <td>5.000000</td>\n",
              "    </tr>\n",
              "  </tbody>\n",
              "</table>\n",
              "</div>"
            ],
            "text/plain": [
              "         is_canceled      lead_time  arrival_date_year  \\\n",
              "count  119390.000000  119390.000000      119390.000000   \n",
              "mean        0.370416     104.011416        2016.156554   \n",
              "std         0.482918     106.863097           0.707476   \n",
              "min         0.000000       0.000000        2015.000000   \n",
              "25%         0.000000      18.000000        2016.000000   \n",
              "50%         0.000000      69.000000        2016.000000   \n",
              "75%         1.000000     160.000000        2017.000000   \n",
              "max         1.000000     737.000000        2017.000000   \n",
              "\n",
              "       arrival_date_week_number  arrival_date_day_of_month  \\\n",
              "count             119390.000000              119390.000000   \n",
              "mean                  27.165173                  15.798241   \n",
              "std                   13.605138                   8.780829   \n",
              "min                    1.000000                   1.000000   \n",
              "25%                   16.000000                   8.000000   \n",
              "50%                   28.000000                  16.000000   \n",
              "75%                   38.000000                  23.000000   \n",
              "max                   53.000000                  31.000000   \n",
              "\n",
              "       stays_in_weekend_nights  stays_in_week_nights         adults  \\\n",
              "count            119390.000000         119390.000000  119390.000000   \n",
              "mean                  0.927599              2.500302       1.856403   \n",
              "std                   0.998613              1.908286       0.579261   \n",
              "min                   0.000000              0.000000       0.000000   \n",
              "25%                   0.000000              1.000000       2.000000   \n",
              "50%                   1.000000              2.000000       2.000000   \n",
              "75%                   2.000000              3.000000       2.000000   \n",
              "max                  19.000000             50.000000      55.000000   \n",
              "\n",
              "            children         babies  is_repeated_guest  \\\n",
              "count  119386.000000  119390.000000      119390.000000   \n",
              "mean        0.103890       0.007949           0.031912   \n",
              "std         0.398561       0.097436           0.175767   \n",
              "min         0.000000       0.000000           0.000000   \n",
              "25%         0.000000       0.000000           0.000000   \n",
              "50%         0.000000       0.000000           0.000000   \n",
              "75%         0.000000       0.000000           0.000000   \n",
              "max        10.000000      10.000000           1.000000   \n",
              "\n",
              "       previous_cancellations  previous_bookings_not_canceled  \\\n",
              "count           119390.000000                   119390.000000   \n",
              "mean                 0.087118                        0.137097   \n",
              "std                  0.844336                        1.497437   \n",
              "min                  0.000000                        0.000000   \n",
              "25%                  0.000000                        0.000000   \n",
              "50%                  0.000000                        0.000000   \n",
              "75%                  0.000000                        0.000000   \n",
              "max                 26.000000                       72.000000   \n",
              "\n",
              "       booking_changes          agent      company  days_in_waiting_list  \\\n",
              "count    119390.000000  103050.000000  6797.000000         119390.000000   \n",
              "mean          0.221124      86.693382   189.266735              2.321149   \n",
              "std           0.652306     110.774548   131.655015             17.594721   \n",
              "min           0.000000       1.000000     6.000000              0.000000   \n",
              "25%           0.000000       9.000000    62.000000              0.000000   \n",
              "50%           0.000000      14.000000   179.000000              0.000000   \n",
              "75%           0.000000     229.000000   270.000000              0.000000   \n",
              "max          21.000000     535.000000   543.000000            391.000000   \n",
              "\n",
              "                 adr  required_car_parking_spaces  total_of_special_requests  \n",
              "count  119390.000000                119390.000000              119390.000000  \n",
              "mean      101.831122                     0.062518                   0.571363  \n",
              "std        50.535790                     0.245291                   0.792798  \n",
              "min        -6.380000                     0.000000                   0.000000  \n",
              "25%        69.290000                     0.000000                   0.000000  \n",
              "50%        94.575000                     0.000000                   0.000000  \n",
              "75%       126.000000                     0.000000                   1.000000  \n",
              "max      5400.000000                     8.000000                   5.000000  "
            ]
          },
          "metadata": {
            "tags": []
          },
          "execution_count": 6
        }
      ]
    },
    {
      "cell_type": "markdown",
      "metadata": {
        "collapsed": false,
        "id": "pCSMTztvA39X"
      },
      "source": [
        "> ### Features in the DataFrame:\n",
        ">> 1. hotel: Resort Hotel or City Hotel\n",
        ">> 2. is_canceled: Value indicating if the booking was canceled (1) or not (0)\n",
        ">> 3. lead_time: Number of days between the booking date to the arrival date\n",
        ">> 4. arrival_date_year: Year of arrival\n",
        ">> 5. arrival_date_month: Month of arrival\n",
        ">> 6. arrival_date_week_number: Week number according to year of arrival\n",
        ">> 7. arrival_date_day_of_month: Day of arrival\n",
        ">> 8. stays_in_weekend_nights: Number of weekend nights booked (Saturday or Sunday)\n",
        ">> 9. stays_in_week_nights: Number of week nights booked (Monday to Friday)\n",
        ">> 10. adults: Number of adults\n",
        ">> 11. children: Number of children\n",
        ">> 12. babies: Number of babies\n",
        ">> 13. meal: Type of meal booked\n",
        ">> 14. country: Country of origin\n",
        ">> 15. market_segment: Market segment designation, typically influences the price sensitivity\n",
        ">> 16. distribution_channel: Booking distribution channel, refers to how the booking was made\n",
        ">> 17. is_repeated_guest: Value indication if the booking was from a repeated guest (1) or not (0)\n",
        ">> 18. previous_cancellations: Number of previous cancellations prior to current booking\n",
        ">> 19. previous_bookings_not_canceled: Number of previous booking not canceled prior to current booking\n",
        ">> 20. reserved_room_type: Code of room type reserved\n",
        ">> 21. assigned_room_type: Code for the type of room assigned to the booking\n",
        ">> 22. booking_changes: Number of changes made to the booking since entering the hotel management system\n",
        ">> 23. deposit_type: Type of deposit made for the reservation\n",
        ">> 24. agent: ID of the travel agency that made the booking\n",
        ">> 25. company: ID of the company/organization that made the booking or is responsible for payment\n",
        ">> 26. days_in_waiting_list: Number of days booking was in the waiting list until it was confirmed\n",
        ">> 27. customer_type: Type of booking\n",
        ">> 28. adr: Average Daily Rate (the sum of transactions divided by the number of nights stayed)\n",
        ">> 29. required_car_parking_spaces: Number of car parking spaces requested\n",
        ">> 30. total_of_special_requests: Number of special requests made by the customer\n",
        ">> 31. reservation_status: Last reservation status (Canceled, Check-Out, No-Show)\n",
        ">> 32. reservation_status_date: Date at which the last status was set\n",
        ">>\n",
        ">>> ##### *Understanding the features could help gain insight on how to treat null values.*"
      ]
    },
    {
      "cell_type": "code",
      "metadata": {
        "pycharm": {
          "name": "#%%\n"
        },
        "colab": {
          "base_uri": "https://localhost:8080/",
          "height": 1000
        },
        "id": "-rN2mbTGA39Y",
        "outputId": "4e8b5025-82b6-415e-da30-e49eac68df2e"
      },
      "source": [
        "# a histogram plot for each numerical attribute\n",
        "df.hist(bins=50, figsize=(20,15))\n",
        "plt.tight_layout()\n",
        "plt.show()"
      ],
      "execution_count": 7,
      "outputs": [
        {
          "output_type": "display_data",
          "data": {
            "image/png": "[encoded data removed]",
            "text/plain": [
              "<Figure size 1440x1080 with 20 Axes>"
            ]
          },
          "metadata": {
            "tags": [],
            "needs_background": "light"
          }
        }
      ]
    },
    {
      "cell_type": "markdown",
      "metadata": {
        "collapsed": false,
        "id": "ckInOVs2A39Y"
      },
      "source": [
        "> Initial observations from the histograms:\n",
        ">> 1. Some weeks have more bookings. This could be because of holiday or summer seasons, when people tend to travel more.\n",
        ">> 2. According to the lead_time plot, most bookings were made shortly before arrival.\n",
        ">> 3. Bookings tend to be without children or babies.\n",
        ">> 4. It seems that the most accommodations are two weeks long or shorter.\n",
        ">> 5. While most bookings were not canceled, there are thousands of instances that were."
      ]
    },
    {
      "cell_type": "markdown",
      "metadata": {
        "collapsed": false,
        "id": "FvWq5GVxA39Z"
      },
      "source": [
        "> # Objective\n",
        "> ## Predicting if a booking will be canceled.\n",
        ">> ### Chosen Feature:\n",
        ">> #### *is_canceled* column\n",
        ">>> 0 means the booking was not canceled\n",
        ">>>\n",
        ">>> 1 means the booking was canceled\n",
        ">> ### Motive:\n",
        ">> Like any business, hotels are also looking to gain profit. A model that predicts if the booking\n",
        ">> is likely to be canceled could be a good indication for hotels, as they\n",
        ">> may prefer to accept the lower risk bookings first."
      ]
    },
    {
      "cell_type": "markdown",
      "metadata": {
        "collapsed": false,
        "id": "6gftRHKMA39Z"
      },
      "source": [
        "> ### Splitting the Data:\n",
        ">> Before further analysis let's split the data into a training set and a testing set.\n",
        ">> This will ensure avoidance of bias that could occur from learning the data as a whole."
      ]
    },
    {
      "cell_type": "code",
      "metadata": {
        "pycharm": {
          "name": "#%%\n"
        },
        "id": "EH7ktc8hA39Z"
      },
      "source": [
        "# use sklearn train_test_split function to split the data\n",
        "# the reason for selecting 0.15 as the test size is because the dataset is very large\n",
        "# the random state parameter ensures that data will be shuffled and split the same way in each run\n",
        "train_set, test_set = train_test_split(df, test_size=0.15, random_state=42)"
      ],
      "execution_count": 8,
      "outputs": []
    },
    {
      "cell_type": "code",
      "metadata": {
        "pycharm": {
          "name": "#%%\n"
        },
        "colab": {
          "base_uri": "https://localhost:8080/"
        },
        "id": "oowlAzhJA39Z",
        "outputId": "6b9fc3f3-8580-475c-877e-851e4a189bbf"
      },
      "source": [
        "print(\"Number of instances in training set: \", len(train_set))\n",
        "print(\"Number of instances in testing set: \", len(test_set))"
      ],
      "execution_count": 9,
      "outputs": [
        {
          "output_type": "stream",
          "text": [
            "Number of instances in training set:  101481\n",
            "Number of instances in testing set:  17909\n"
          ],
          "name": "stdout"
        }
      ]
    },
    {
      "cell_type": "markdown",
      "metadata": {
        "collapsed": false,
        "id": "imCroQpxA39Z"
      },
      "source": [
        "<a id=\"two\"></a>"
      ]
    },
    {
      "cell_type": "markdown",
      "metadata": {
        "collapsed": false,
        "id": "zS8thBG3A39Z"
      },
      "source": [
        "# 2. Understanding and Visualizing the Data\n",
        "> ##### *The motivation for this section is to gain more insights.*"
      ]
    },
    {
      "cell_type": "code",
      "metadata": {
        "pycharm": {
          "name": "#%%\n"
        },
        "id": "XZAWCMq3A39a"
      },
      "source": [
        "# deep copy of the training set\n",
        "df2 = train_set.copy()"
      ],
      "execution_count": 10,
      "outputs": []
    },
    {
      "cell_type": "code",
      "metadata": {
        "pycharm": {
          "name": "#%%\n"
        },
        "colab": {
          "base_uri": "https://localhost:8080/",
          "height": 163
        },
        "id": "3UftMFgiA39a",
        "outputId": "ef2a2c9e-3112-4b7a-e82f-b58b19e3978b"
      },
      "source": [
        "df2.head(2)"
      ],
      "execution_count": 11,
      "outputs": [
        {
          "output_type": "execute_result",
          "data": {
            "text/html": [
              "<div>\n",
              "<style scoped>\n",
              "    .dataframe tbody tr th:only-of-type {\n",
              "        vertical-align: middle;\n",
              "    }\n",
              "\n",
              "    .dataframe tbody tr th {\n",
              "        vertical-align: top;\n",
              "    }\n",
              "\n",
              "    .dataframe thead th {\n",
              "        text-align: right;\n",
              "    }\n",
              "</style>\n",
              "<table border=\"1\" class=\"dataframe\">\n",
              "  <thead>\n",
              "    <tr style=\"text-align: right;\">\n",
              "      <th></th>\n",
              "      <th>hotel</th>\n",
              "      <th>is_canceled</th>\n",
              "      <th>lead_time</th>\n",
              "      <th>arrival_date_year</th>\n",
              "      <th>arrival_date_month</th>\n",
              "      <th>arrival_date_week_number</th>\n",
              "      <th>arrival_date_day_of_month</th>\n",
              "      <th>stays_in_weekend_nights</th>\n",
              "      <th>stays_in_week_nights</th>\n",
              "      <th>adults</th>\n",
              "      <th>children</th>\n",
              "      <th>babies</th>\n",
              "      <th>meal</th>\n",
              "      <th>country</th>\n",
              "      <th>market_segment</th>\n",
              "      <th>distribution_channel</th>\n",
              "      <th>is_repeated_guest</th>\n",
              "      <th>previous_cancellations</th>\n",
              "      <th>previous_bookings_not_canceled</th>\n",
              "      <th>reserved_room_type</th>\n",
              "      <th>assigned_room_type</th>\n",
              "      <th>booking_changes</th>\n",
              "      <th>deposit_type</th>\n",
              "      <th>agent</th>\n",
              "      <th>company</th>\n",
              "      <th>days_in_waiting_list</th>\n",
              "      <th>customer_type</th>\n",
              "      <th>adr</th>\n",
              "      <th>required_car_parking_spaces</th>\n",
              "      <th>total_of_special_requests</th>\n",
              "      <th>reservation_status</th>\n",
              "      <th>reservation_status_date</th>\n",
              "    </tr>\n",
              "  </thead>\n",
              "  <tbody>\n",
              "    <tr>\n",
              "      <th>24840</th>\n",
              "      <td>Resort Hotel</td>\n",
              "      <td>0</td>\n",
              "      <td>156</td>\n",
              "      <td>2016</td>\n",
              "      <td>May</td>\n",
              "      <td>23</td>\n",
              "      <td>30</td>\n",
              "      <td>1</td>\n",
              "      <td>5</td>\n",
              "      <td>2</td>\n",
              "      <td>0.0</td>\n",
              "      <td>0</td>\n",
              "      <td>BB</td>\n",
              "      <td>GBR</td>\n",
              "      <td>Online TA</td>\n",
              "      <td>TA/TO</td>\n",
              "      <td>0</td>\n",
              "      <td>0</td>\n",
              "      <td>0</td>\n",
              "      <td>A</td>\n",
              "      <td>A</td>\n",
              "      <td>0</td>\n",
              "      <td>No Deposit</td>\n",
              "      <td>241.0</td>\n",
              "      <td>NaN</td>\n",
              "      <td>0</td>\n",
              "      <td>Transient</td>\n",
              "      <td>52.36</td>\n",
              "      <td>0</td>\n",
              "      <td>1</td>\n",
              "      <td>Check-Out</td>\n",
              "      <td>2016-06-05</td>\n",
              "    </tr>\n",
              "    <tr>\n",
              "      <th>6904</th>\n",
              "      <td>Resort Hotel</td>\n",
              "      <td>0</td>\n",
              "      <td>292</td>\n",
              "      <td>2016</td>\n",
              "      <td>July</td>\n",
              "      <td>29</td>\n",
              "      <td>10</td>\n",
              "      <td>1</td>\n",
              "      <td>0</td>\n",
              "      <td>2</td>\n",
              "      <td>0.0</td>\n",
              "      <td>0</td>\n",
              "      <td>BB</td>\n",
              "      <td>ISR</td>\n",
              "      <td>Online TA</td>\n",
              "      <td>TA/TO</td>\n",
              "      <td>0</td>\n",
              "      <td>0</td>\n",
              "      <td>0</td>\n",
              "      <td>A</td>\n",
              "      <td>A</td>\n",
              "      <td>0</td>\n",
              "      <td>No Deposit</td>\n",
              "      <td>240.0</td>\n",
              "      <td>NaN</td>\n",
              "      <td>0</td>\n",
              "      <td>Transient</td>\n",
              "      <td>72.90</td>\n",
              "      <td>1</td>\n",
              "      <td>2</td>\n",
              "      <td>Check-Out</td>\n",
              "      <td>2016-07-11</td>\n",
              "    </tr>\n",
              "  </tbody>\n",
              "</table>\n",
              "</div>"
            ],
            "text/plain": [
              "              hotel  is_canceled  lead_time  arrival_date_year  \\\n",
              "24840  Resort Hotel            0        156               2016   \n",
              "6904   Resort Hotel            0        292               2016   \n",
              "\n",
              "      arrival_date_month  arrival_date_week_number  arrival_date_day_of_month  \\\n",
              "24840                May                        23                         30   \n",
              "6904                July                        29                         10   \n",
              "\n",
              "       stays_in_weekend_nights  stays_in_week_nights  adults  children  \\\n",
              "24840                        1                     5       2       0.0   \n",
              "6904                         1                     0       2       0.0   \n",
              "\n",
              "       babies meal country market_segment distribution_channel  \\\n",
              "24840       0   BB     GBR      Online TA                TA/TO   \n",
              "6904        0   BB     ISR      Online TA                TA/TO   \n",
              "\n",
              "       is_repeated_guest  previous_cancellations  \\\n",
              "24840                  0                       0   \n",
              "6904                   0                       0   \n",
              "\n",
              "       previous_bookings_not_canceled reserved_room_type assigned_room_type  \\\n",
              "24840                               0                  A                  A   \n",
              "6904                                0                  A                  A   \n",
              "\n",
              "       booking_changes deposit_type  agent  company  days_in_waiting_list  \\\n",
              "24840                0   No Deposit  241.0      NaN                     0   \n",
              "6904                 0   No Deposit  240.0      NaN                     0   \n",
              "\n",
              "      customer_type    adr  required_car_parking_spaces  \\\n",
              "24840     Transient  52.36                            0   \n",
              "6904      Transient  72.90                            1   \n",
              "\n",
              "       total_of_special_requests reservation_status reservation_status_date  \n",
              "24840                          1          Check-Out              2016-06-05  \n",
              "6904                           2          Check-Out              2016-07-11  "
            ]
          },
          "metadata": {
            "tags": []
          },
          "execution_count": 11
        }
      ]
    },
    {
      "cell_type": "markdown",
      "metadata": {
        "collapsed": false,
        "id": "aKQwGvAfA39a"
      },
      "source": [
        "> ### Missing Features:"
      ]
    },
    {
      "cell_type": "code",
      "metadata": {
        "pycharm": {
          "name": "#%%\n"
        },
        "colab": {
          "base_uri": "https://localhost:8080/"
        },
        "id": "5lVdiTJiA39a",
        "outputId": "2e1d0662-0396-49b7-d16c-36aaa20e212a"
      },
      "source": [
        "# the methods below calculate the number of missing values\n",
        "missing_values = df2.isna().sum()\n",
        "missing_values = missing_values[missing_values != 0]\n",
        "missing_values"
      ],
      "execution_count": 12,
      "outputs": [
        {
          "output_type": "execute_result",
          "data": {
            "text/plain": [
              "children        4\n",
              "country       396\n",
              "agent       13851\n",
              "company     95711\n",
              "dtype: int64"
            ]
          },
          "metadata": {
            "tags": []
          },
          "execution_count": 12
        }
      ]
    },
    {
      "cell_type": "code",
      "metadata": {
        "pycharm": {
          "name": "#%%\n"
        },
        "id": "i3ucAH39A39a"
      },
      "source": [
        "# replace missing values\n",
        "\n",
        "# can assume that there were no children\n",
        "df2.fillna({\"children\": 0}, inplace=True)\n",
        "\n",
        "# missing countries can be labeled unknown\n",
        "df2.fillna({\"country\": \"Unknown\"}, inplace=True)\n",
        "\n",
        "# missing agent ID can be zero, presuming the booking was made privately\n",
        "df2.fillna({\"agent\": 0}, inplace=True)\n",
        "\n",
        "# missing company ID can be zero (for the same reason as agent ID)\n",
        "df2.fillna({\"company\": 0}, inplace=True)"
      ],
      "execution_count": 13,
      "outputs": []
    },
    {
      "cell_type": "code",
      "metadata": {
        "pycharm": {
          "name": "#%%\n"
        },
        "colab": {
          "base_uri": "https://localhost:8080/"
        },
        "id": "Y7KPQSVxA39a",
        "outputId": "2f2775c3-70e6-4962-c486-e8d19b8c2aec"
      },
      "source": [
        "# check that the values were filled\n",
        "df2.isna().sum()"
      ],
      "execution_count": 14,
      "outputs": [
        {
          "output_type": "execute_result",
          "data": {
            "text/plain": [
              "hotel                             0\n",
              "is_canceled                       0\n",
              "lead_time                         0\n",
              "arrival_date_year                 0\n",
              "arrival_date_month                0\n",
              "arrival_date_week_number          0\n",
              "arrival_date_day_of_month         0\n",
              "stays_in_weekend_nights           0\n",
              "stays_in_week_nights              0\n",
              "adults                            0\n",
              "children                          0\n",
              "babies                            0\n",
              "meal                              0\n",
              "country                           0\n",
              "market_segment                    0\n",
              "distribution_channel              0\n",
              "is_repeated_guest                 0\n",
              "previous_cancellations            0\n",
              "previous_bookings_not_canceled    0\n",
              "reserved_room_type                0\n",
              "assigned_room_type                0\n",
              "booking_changes                   0\n",
              "deposit_type                      0\n",
              "agent                             0\n",
              "company                           0\n",
              "days_in_waiting_list              0\n",
              "customer_type                     0\n",
              "adr                               0\n",
              "required_car_parking_spaces       0\n",
              "total_of_special_requests         0\n",
              "reservation_status                0\n",
              "reservation_status_date           0\n",
              "dtype: int64"
            ]
          },
          "metadata": {
            "tags": []
          },
          "execution_count": 14
        }
      ]
    },
    {
      "cell_type": "markdown",
      "metadata": {
        "collapsed": false,
        "id": "fSJHQMYNA39a"
      },
      "source": [
        "> ### Numerical Attributes:"
      ]
    },
    {
      "cell_type": "code",
      "metadata": {
        "pycharm": {
          "name": "#%%\n"
        },
        "id": "90xOSX8rA39b"
      },
      "source": [
        "# method creates a correlations matrix\n",
        "corr_matrix = df2.corr()"
      ],
      "execution_count": 15,
      "outputs": []
    },
    {
      "cell_type": "code",
      "metadata": {
        "pycharm": {
          "name": "#%%\n"
        },
        "colab": {
          "base_uri": "https://localhost:8080/"
        },
        "id": "-AmTSfzJA39b",
        "outputId": "070218a4-c9a2-4197-998d-0b65b52f911c"
      },
      "source": [
        "# looking at attributes correlation with is_canceled feature\n",
        "corr_matrix[\"is_canceled\"].sort_values(ascending=False)"
      ],
      "execution_count": 16,
      "outputs": [
        {
          "output_type": "execute_result",
          "data": {
            "text/plain": [
              "is_canceled                       1.000000\n",
              "lead_time                         0.292182\n",
              "previous_cancellations            0.109883\n",
              "adults                            0.059744\n",
              "days_in_waiting_list              0.053068\n",
              "adr                               0.046790\n",
              "stays_in_week_nights              0.027764\n",
              "arrival_date_year                 0.017365\n",
              "arrival_date_week_number          0.007757\n",
              "children                          0.006771\n",
              "stays_in_weekend_nights          -0.000019\n",
              "arrival_date_day_of_month        -0.006062\n",
              "babies                           -0.034658\n",
              "agent                            -0.046444\n",
              "previous_bookings_not_canceled   -0.055847\n",
              "company                          -0.082484\n",
              "is_repeated_guest                -0.084179\n",
              "booking_changes                  -0.142916\n",
              "required_car_parking_spaces      -0.195675\n",
              "total_of_special_requests        -0.233580\n",
              "Name: is_canceled, dtype: float64"
            ]
          },
          "metadata": {
            "tags": []
          },
          "execution_count": 16
        }
      ]
    },
    {
      "cell_type": "code",
      "metadata": {
        "pycharm": {
          "name": "#%%\n"
        },
        "id": "Rop8jm85A39b"
      },
      "source": [
        "# experimenting with attribute combinations\n",
        "\n",
        "# create a column with total amount of guests\n",
        "df2[\"guests_stayed\"] = df2[\"adults\"] + df2[\"children\"] + df2[\"babies\"]\n",
        "\n",
        "# create a column with total nights booked\n",
        "df2[\"nights_stayed\"] = df2[\"stays_in_week_nights\"] + df2[\"stays_in_weekend_nights\"]"
      ],
      "execution_count": 17,
      "outputs": []
    },
    {
      "cell_type": "code",
      "metadata": {
        "pycharm": {
          "name": "#%%\n"
        },
        "colab": {
          "base_uri": "https://localhost:8080/"
        },
        "id": "cQWDJmc8A39b",
        "outputId": "347c38e9-64ec-4f1f-b931-a9183ff50bc9"
      },
      "source": [
        "# looking at the correlation matrix again with the added columns\n",
        "corr_matrix = df2.corr()\n",
        "corr_matrix[\"is_canceled\"].sort_values(ascending=False)"
      ],
      "execution_count": 18,
      "outputs": [
        {
          "output_type": "execute_result",
          "data": {
            "text/plain": [
              "is_canceled                       1.000000\n",
              "lead_time                         0.292182\n",
              "previous_cancellations            0.109883\n",
              "adults                            0.059744\n",
              "days_in_waiting_list              0.053068\n",
              "adr                               0.046790\n",
              "guests_stayed                     0.046693\n",
              "stays_in_week_nights              0.027764\n",
              "nights_stayed                     0.020709\n",
              "arrival_date_year                 0.017365\n",
              "arrival_date_week_number          0.007757\n",
              "children                          0.006771\n",
              "stays_in_weekend_nights          -0.000019\n",
              "arrival_date_day_of_month        -0.006062\n",
              "babies                           -0.034658\n",
              "agent                            -0.046444\n",
              "previous_bookings_not_canceled   -0.055847\n",
              "company                          -0.082484\n",
              "is_repeated_guest                -0.084179\n",
              "booking_changes                  -0.142916\n",
              "required_car_parking_spaces      -0.195675\n",
              "total_of_special_requests        -0.233580\n",
              "Name: is_canceled, dtype: float64"
            ]
          },
          "metadata": {
            "tags": []
          },
          "execution_count": 18
        }
      ]
    },
    {
      "cell_type": "markdown",
      "metadata": {
        "collapsed": false,
        "id": "hTXkYjNAA39b"
      },
      "source": [
        "> ### Correlations with is_canceled Attribute - Overview:\n",
        ">> The strongest positive correlations (0.1 or more) are:\n",
        ">> * lead_time\n",
        ">> * previous_cancellations\n",
        ">>\n",
        ">> The strongest negative correlations (-0.1 or less) are:\n",
        ">> * total_of_special_requests\n",
        ">> * required_car_parking_spaces\n",
        ">> * booking_changes\n",
        ">>\n",
        "> The attribute combinations tested (guests stayed and nights stayed) both had weak correlations."
      ]
    },
    {
      "cell_type": "markdown",
      "metadata": {
        "collapsed": false,
        "id": "7BnAlT24A39b"
      },
      "source": [
        "> ### Cancellations According to Lead Time"
      ]
    },
    {
      "cell_type": "code",
      "metadata": {
        "pycharm": {
          "name": "#%%\n"
        },
        "colab": {
          "base_uri": "https://localhost:8080/",
          "height": 368
        },
        "id": "fDgEYwJTA39b",
        "outputId": "09ccca30-edcf-48cb-c34e-92dceac0e75e"
      },
      "source": [
        "# hist plot of lead time\n",
        "# kde = kernel density estimation (displays distribution function, density curve)\n",
        "# shows the distribution and highest concentration points\n",
        "plt.figure(figsize=(10,5))\n",
        "lead_time = df2['lead_time']\n",
        "lead_time = pd.DataFrame(sorted(lead_time, reverse = True), columns = ['Lead'])\n",
        "sns.histplot(lead_time, kde=True)\n",
        "plt.title(\"Lead Time\", size=20)\n",
        "plt.xlabel(\"lead time days\", size=15)\n",
        "plt.tight_layout()\n",
        "plt.show()"
      ],
      "execution_count": 19,
      "outputs": [
        {
          "output_type": "display_data",
          "data": {
            "image/png": "[encoded data removed]",
            "text/plain": [
              "<Figure size 720x360 with 1 Axes>"
            ]
          },
          "metadata": {
            "tags": [],
            "needs_background": "light"
          }
        }
      ]
    },
    {
      "cell_type": "code",
      "metadata": {
        "pycharm": {
          "name": "#%%\n"
        },
        "id": "FII_Z6PmA39c"
      },
      "source": [
        "# divides lead time by less than 100 days, 100-355 days and 365 or more days\n",
        "lead_time_1 = df2[df2[\"lead_time\"] < 100]\n",
        "lead_time_2 = df2[(df2[\"lead_time\"] >= 100) & (df2[\"lead_time\"] < 365)]\n",
        "lead_time_3 = df2[df2[\"lead_time\"] >= 365]"
      ],
      "execution_count": 20,
      "outputs": []
    },
    {
      "cell_type": "code",
      "metadata": {
        "pycharm": {
          "name": "#%%\n"
        },
        "id": "aPIyjDdIA39c"
      },
      "source": [
        "# calculates cancellations according to lead time groups\n",
        "lead_cancel_1 = lead_time_1[\"is_canceled\"].value_counts()\n",
        "lead_cancel_2 = lead_time_2[\"is_canceled\"].value_counts()\n",
        "lead_cancel_3 = lead_time_3[\"is_canceled\"].value_counts()"
      ],
      "execution_count": 21,
      "outputs": []
    },
    {
      "cell_type": "code",
      "metadata": {
        "pycharm": {
          "name": "#%%\n"
        },
        "colab": {
          "base_uri": "https://localhost:8080/",
          "height": 441
        },
        "id": "Xx1dzeChA39c",
        "outputId": "18ef5737-5038-4d0a-bff2-40831cf2eed8"
      },
      "source": [
        "# hist plot for each lead time group\n",
        "fig, (bx1, bx2, bx3) = plt.subplots(1,3,figsize=(21,6))\n",
        "sns.histplot(lead_time_1[\"lead_time\"], ax = bx1, kde=True)\n",
        "bx1.set_title(\"lead_time [0,100) days\", size=20)\n",
        "sns.histplot(lead_time_2[\"lead_time\"], ax = bx2, kde=True)\n",
        "bx2.set_title(\"lead_time [100,365) days\", size=20)\n",
        "sns.histplot(lead_time_3[\"lead_time\"], ax = bx3, kde=True)\n",
        "bx3.set_title(\"lead_time [365,max) days\", size=20)\n",
        "plt.tight_layout()\n",
        "plt.show()"
      ],
      "execution_count": 22,
      "outputs": [
        {
          "output_type": "display_data",
          "data": {
            "image/png": "[encoded data removed]",
            "text/plain": [
              "<Figure size 1512x432 with 3 Axes>"
            ]
          },
          "metadata": {
            "tags": [],
            "needs_background": "light"
          }
        }
      ]
    },
    {
      "cell_type": "code",
      "metadata": {
        "pycharm": {
          "name": "#%%\n"
        },
        "colab": {
          "base_uri": "https://localhost:8080/",
          "height": 141
        },
        "id": "Tdy2fDXCA39c",
        "outputId": "edb9f602-7ab0-4589-ec5a-5e385e9fab70"
      },
      "source": [
        "# total count of lead time according to cancellation\n",
        "total_lead_days_cancel = pd.DataFrame(data=[lead_cancel_1,lead_cancel_2,lead_cancel_3],\n",
        "             index=[\"[0,100) days\", \"[100,365) days\", \"[365,max) days\"])\n",
        "total_lead_days_cancel"
      ],
      "execution_count": 23,
      "outputs": [
        {
          "output_type": "execute_result",
          "data": {
            "text/html": [
              "<div>\n",
              "<style scoped>\n",
              "    .dataframe tbody tr th:only-of-type {\n",
              "        vertical-align: middle;\n",
              "    }\n",
              "\n",
              "    .dataframe tbody tr th {\n",
              "        vertical-align: top;\n",
              "    }\n",
              "\n",
              "    .dataframe thead th {\n",
              "        text-align: right;\n",
              "    }\n",
              "</style>\n",
              "<table border=\"1\" class=\"dataframe\">\n",
              "  <thead>\n",
              "    <tr style=\"text-align: right;\">\n",
              "      <th></th>\n",
              "      <th>0</th>\n",
              "      <th>1</th>\n",
              "    </tr>\n",
              "  </thead>\n",
              "  <tbody>\n",
              "    <tr>\n",
              "      <th>[0,100) days</th>\n",
              "      <td>44163</td>\n",
              "      <td>16828</td>\n",
              "    </tr>\n",
              "    <tr>\n",
              "      <th>[100,365) days</th>\n",
              "      <td>19013</td>\n",
              "      <td>18746</td>\n",
              "    </tr>\n",
              "    <tr>\n",
              "      <th>[365,max) days</th>\n",
              "      <td>873</td>\n",
              "      <td>1858</td>\n",
              "    </tr>\n",
              "  </tbody>\n",
              "</table>\n",
              "</div>"
            ],
            "text/plain": [
              "                    0      1\n",
              "[0,100) days    44163  16828\n",
              "[100,365) days  19013  18746\n",
              "[365,max) days    873   1858"
            ]
          },
          "metadata": {
            "tags": []
          },
          "execution_count": 23
        }
      ]
    },
    {
      "cell_type": "code",
      "metadata": {
        "pycharm": {
          "name": "#%%\n"
        },
        "colab": {
          "base_uri": "https://localhost:8080/",
          "height": 441
        },
        "id": "oebLhcUOA39c",
        "outputId": "87eb40d5-cbb7-47f4-98f7-49b5baf0f0bd"
      },
      "source": [
        "# pie plot for each lead time group\n",
        "fig, ax = plt.subplots(1,3, figsize=(21,6))\n",
        "ax[0].pie(np.array([total_lead_days_cancel[0][0], total_lead_days_cancel[1][0]]),\n",
        "          labels=[\"not_canceled\", \"canceled\"], autopct='%1.1f%%', startangle=90,\n",
        "          colors=['forestgreen', 'firebrick'])\n",
        "ax[0].set_title(\"lead_time [0,100) days\", size=20)\n",
        "ax[1].pie(np.array([total_lead_days_cancel[0][1], total_lead_days_cancel[1][1]]),\n",
        "          labels=[\"not_canceled\", \"canceled\"], autopct='%1.1f%%', startangle=90,\n",
        "          colors=['forestgreen', 'firebrick'])\n",
        "ax[1].set_title(\"lead_time [100,365) days\", size=20)\n",
        "ax[2].pie(np.array([total_lead_days_cancel[0][2], total_lead_days_cancel[1][2]]),\n",
        "          labels=[\"not_canceled\", \"canceled\"], autopct='%1.1f%%', startangle=90,\n",
        "          colors=['forestgreen', 'firebrick'])\n",
        "ax[2].set_title(\"lead_time [365,max) days\", size=20)\n",
        "plt.tight_layout()\n",
        "plt.show()"
      ],
      "execution_count": 24,
      "outputs": [
        {
          "output_type": "display_data",
          "data": {
            "image/png": "[encoded data removed]",
            "text/plain": [
              "<Figure size 1512x432 with 3 Axes>"
            ]
          },
          "metadata": {
            "tags": []
          }
        }
      ]
    },
    {
      "cell_type": "markdown",
      "metadata": {
        "collapsed": false,
        "id": "xrlvnWYLA39d"
      },
      "source": [
        "> #### Observations:\n",
        ">> * Most bookings occur about 5 days prior to arrival.\n",
        ">> * When the lead time is larger the chances for cancellation increase.\n",
        ">> * The amount of bookings is steady overall between 20-100 days, then drops."
      ]
    },
    {
      "cell_type": "markdown",
      "metadata": {
        "collapsed": false,
        "id": "vnIhMGWWA39d"
      },
      "source": [
        "> ### Cancellations According to Previous Cancellations"
      ]
    },
    {
      "cell_type": "code",
      "metadata": {
        "pycharm": {
          "name": "#%%\n"
        },
        "id": "IOPV9ivDA39d"
      },
      "source": [
        "# get previous cancellations column\n",
        "prev_cancel = df2[\"previous_cancellations\"]"
      ],
      "execution_count": 25,
      "outputs": []
    },
    {
      "cell_type": "code",
      "metadata": {
        "pycharm": {
          "name": "#%%\n"
        },
        "colab": {
          "base_uri": "https://localhost:8080/"
        },
        "id": "CoPtTI3iA39d",
        "outputId": "b9466cd3-21aa-484e-cbe0-9e15ec76a80d"
      },
      "source": [
        "# sort the index values\n",
        "prev_cancel.value_counts().sort_index()"
      ],
      "execution_count": 26,
      "outputs": [
        {
          "output_type": "execute_result",
          "data": {
            "text/plain": [
              "0     96001\n",
              "1      5112\n",
              "2       101\n",
              "3        48\n",
              "4        29\n",
              "5        15\n",
              "6        22\n",
              "11       30\n",
              "13        8\n",
              "14       11\n",
              "19       17\n",
              "21        1\n",
              "24       45\n",
              "25       20\n",
              "26       21\n",
              "Name: previous_cancellations, dtype: int64"
            ]
          },
          "metadata": {
            "tags": []
          },
          "execution_count": 26
        }
      ]
    },
    {
      "cell_type": "code",
      "metadata": {
        "pycharm": {
          "name": "#%%\n"
        },
        "colab": {
          "base_uri": "https://localhost:8080/"
        },
        "id": "nnkWD3TKA39d",
        "outputId": "510be691-9310-4f36-a141-19c8ab1e1e39"
      },
      "source": [
        "print(\"Cancellation Rates:\\n\")\n",
        "print('Never canceled =' ,str(round(df2[df2['previous_cancellations']==0]\n",
        "                                            ['is_canceled'].mean()*100,2))+' %')\n",
        "print('Canceled once =' ,str(round(df2[df2['previous_cancellations']==1]\n",
        "                                            ['is_canceled'].mean()*100,2))+' %')\n",
        "print('Canceled more than 10 times:',str(round(df2[df2['previous_cancellations']>10]\n",
        "                                            ['is_canceled'].mean()*100,2))+' %')\n",
        "print('Canceled more than 11 times:' ,str(round(df2[df2['previous_cancellations']>11]\n",
        "                                            ['is_canceled'].mean()*100,2))+' %')"
      ],
      "execution_count": 27,
      "outputs": [
        {
          "output_type": "stream",
          "text": [
            "Cancellation Rates:\n",
            "\n",
            "Never canceled = 33.76 %\n",
            "Canceled once = 94.37 %\n",
            "Canceled more than 10 times: 85.62 %\n",
            "Canceled more than 11 times: 99.19 %\n"
          ],
          "name": "stdout"
        }
      ]
    },
    {
      "cell_type": "code",
      "metadata": {
        "pycharm": {
          "name": "#%%\n"
        },
        "id": "4__obQatA39d"
      },
      "source": [
        "# create a list with previous cancellations indices\n",
        "prev_cancel_index = df2[\"previous_cancellations\"].value_counts().index.to_list()\n",
        "# sort the list\n",
        "prev_cancel_index.sort()\n",
        "\n",
        "# calculate the average percentage of cancellations for each value in the DataFrame\n",
        "percentage_prev_cancel= []\n",
        "for i in prev_cancel_index:\n",
        "    percentage_prev_cancel.append((round(df2[df2[\"previous_cancellations\"]==i][\"is_canceled\"].mean()*100,2)))"
      ],
      "execution_count": 28,
      "outputs": []
    },
    {
      "cell_type": "code",
      "metadata": {
        "pycharm": {
          "name": "#%%\n"
        },
        "colab": {
          "base_uri": "https://localhost:8080/",
          "height": 508
        },
        "id": "K-L8qvZvA39d",
        "outputId": "92a953d2-242d-43ae-a2f0-5b19302f71a5"
      },
      "source": [
        "# create a DataFrame with the results\n",
        "df_prev_cancel = pd.DataFrame(percentage_prev_cancel, index=prev_cancel_index, columns=[\"Previous Cancellations %\"])\n",
        "df_prev_cancel"
      ],
      "execution_count": 29,
      "outputs": [
        {
          "output_type": "execute_result",
          "data": {
            "text/html": [
              "<div>\n",
              "<style scoped>\n",
              "    .dataframe tbody tr th:only-of-type {\n",
              "        vertical-align: middle;\n",
              "    }\n",
              "\n",
              "    .dataframe tbody tr th {\n",
              "        vertical-align: top;\n",
              "    }\n",
              "\n",
              "    .dataframe thead th {\n",
              "        text-align: right;\n",
              "    }\n",
              "</style>\n",
              "<table border=\"1\" class=\"dataframe\">\n",
              "  <thead>\n",
              "    <tr style=\"text-align: right;\">\n",
              "      <th></th>\n",
              "      <th>Previous Cancellations %</th>\n",
              "    </tr>\n",
              "  </thead>\n",
              "  <tbody>\n",
              "    <tr>\n",
              "      <th>0</th>\n",
              "      <td>33.76</td>\n",
              "    </tr>\n",
              "    <tr>\n",
              "      <th>1</th>\n",
              "      <td>94.37</td>\n",
              "    </tr>\n",
              "    <tr>\n",
              "      <th>2</th>\n",
              "      <td>33.66</td>\n",
              "    </tr>\n",
              "    <tr>\n",
              "      <th>3</th>\n",
              "      <td>29.17</td>\n",
              "    </tr>\n",
              "    <tr>\n",
              "      <th>4</th>\n",
              "      <td>24.14</td>\n",
              "    </tr>\n",
              "    <tr>\n",
              "      <th>5</th>\n",
              "      <td>13.33</td>\n",
              "    </tr>\n",
              "    <tr>\n",
              "      <th>6</th>\n",
              "      <td>31.82</td>\n",
              "    </tr>\n",
              "    <tr>\n",
              "      <th>11</th>\n",
              "      <td>30.00</td>\n",
              "    </tr>\n",
              "    <tr>\n",
              "      <th>13</th>\n",
              "      <td>87.50</td>\n",
              "    </tr>\n",
              "    <tr>\n",
              "      <th>14</th>\n",
              "      <td>100.00</td>\n",
              "    </tr>\n",
              "    <tr>\n",
              "      <th>19</th>\n",
              "      <td>100.00</td>\n",
              "    </tr>\n",
              "    <tr>\n",
              "      <th>21</th>\n",
              "      <td>100.00</td>\n",
              "    </tr>\n",
              "    <tr>\n",
              "      <th>24</th>\n",
              "      <td>100.00</td>\n",
              "    </tr>\n",
              "    <tr>\n",
              "      <th>25</th>\n",
              "      <td>100.00</td>\n",
              "    </tr>\n",
              "    <tr>\n",
              "      <th>26</th>\n",
              "      <td>100.00</td>\n",
              "    </tr>\n",
              "  </tbody>\n",
              "</table>\n",
              "</div>"
            ],
            "text/plain": [
              "    Previous Cancellations %\n",
              "0                      33.76\n",
              "1                      94.37\n",
              "2                      33.66\n",
              "3                      29.17\n",
              "4                      24.14\n",
              "5                      13.33\n",
              "6                      31.82\n",
              "11                     30.00\n",
              "13                     87.50\n",
              "14                    100.00\n",
              "19                    100.00\n",
              "21                    100.00\n",
              "24                    100.00\n",
              "25                    100.00\n",
              "26                    100.00"
            ]
          },
          "metadata": {
            "tags": []
          },
          "execution_count": 29
        }
      ]
    },
    {
      "cell_type": "code",
      "metadata": {
        "pycharm": {
          "name": "#%%\n"
        },
        "colab": {
          "base_uri": "https://localhost:8080/",
          "height": 368
        },
        "id": "Hfqea5DIA39e",
        "outputId": "d82c54a4-89ae-42d3-f6ab-08fa3d1d3f45"
      },
      "source": [
        "# plot previous cancellations by percentages\n",
        "df_prev_cancel.plot(figsize= (10,5), linewidth=3)\n",
        "plt.title(\"Previous Cancellations\", size=20)\n",
        "plt.xlabel(\"Number of Previous Cancellations\", size=15)\n",
        "plt.ylabel(\"%\", size=15)\n",
        "plt.tight_layout()\n",
        "plt.show()"
      ],
      "execution_count": 30,
      "outputs": [
        {
          "output_type": "display_data",
          "data": {
            "image/png": "[encoded data removed]",
            "text/plain": [
              "<Figure size 720x360 with 1 Axes>"
            ]
          },
          "metadata": {
            "tags": [],
            "needs_background": "light"
          }
        }
      ]
    },
    {
      "cell_type": "markdown",
      "metadata": {
        "collapsed": false,
        "id": "w61UINzDA39e"
      },
      "source": [
        "> ### Observations:\n",
        ">> The percentages show that when there are more previous cancellations, there is\n",
        ">> a substantially higher chance the customer will cancel again."
      ]
    },
    {
      "cell_type": "markdown",
      "metadata": {
        "collapsed": false,
        "id": "iiWelR1oA39e"
      },
      "source": [
        "> ### Cancellations According to Total of Special Requests"
      ]
    },
    {
      "cell_type": "code",
      "metadata": {
        "pycharm": {
          "name": "#%%\n"
        },
        "colab": {
          "base_uri": "https://localhost:8080/"
        },
        "id": "GjOkvjXvA39e",
        "outputId": "5525f580-b1e1-4cce-ed08-19c93a815057"
      },
      "source": [
        "# number of instances for each value\n",
        "df2[\"total_of_special_requests\"].value_counts()"
      ],
      "execution_count": 31,
      "outputs": [
        {
          "output_type": "execute_result",
          "data": {
            "text/plain": [
              "0    59677\n",
              "1    28355\n",
              "2    11017\n",
              "3     2120\n",
              "4      279\n",
              "5       33\n",
              "Name: total_of_special_requests, dtype: int64"
            ]
          },
          "metadata": {
            "tags": []
          },
          "execution_count": 31
        }
      ]
    },
    {
      "cell_type": "code",
      "metadata": {
        "pycharm": {
          "name": "#%%\n"
        },
        "id": "XSte2NBgA39e"
      },
      "source": [
        "# group by cancellations\n",
        "is_canceled = df2.groupby(by=\"is_canceled\")"
      ],
      "execution_count": 32,
      "outputs": []
    },
    {
      "cell_type": "code",
      "metadata": {
        "pycharm": {
          "name": "#%%\n"
        },
        "id": "ZWniPtxoA39e"
      },
      "source": [
        "# get groups according to binary outcome\n",
        "canceled = is_canceled.get_group(1)\n",
        "not_canceled = is_canceled.get_group(0)"
      ],
      "execution_count": 33,
      "outputs": []
    },
    {
      "cell_type": "code",
      "metadata": {
        "pycharm": {
          "name": "#%%\n"
        },
        "id": "JFh3nMKtA39e"
      },
      "source": [
        "# count values for each outcome\n",
        "special_requests_0 = not_canceled[\"total_of_special_requests\"].value_counts()\n",
        "special_requests_1 = canceled[\"total_of_special_requests\"].value_counts()"
      ],
      "execution_count": 34,
      "outputs": []
    },
    {
      "cell_type": "code",
      "metadata": {
        "pycharm": {
          "name": "#%%\n"
        },
        "id": "8L97UDv8A39f"
      },
      "source": [
        "# create a DataFrame for each outcome\n",
        "df_special_requests_0 = pd.DataFrame(special_requests_0.values, index=special_requests_0.index, columns=[\"not_canceled\"])\n",
        "df_special_requests_1 = pd.DataFrame(special_requests_1.values, index=special_requests_1.index, columns=[\"canceled\"])"
      ],
      "execution_count": 35,
      "outputs": []
    },
    {
      "cell_type": "code",
      "metadata": {
        "pycharm": {
          "name": "#%%\n"
        },
        "id": "xnxaZ5Q0A39f"
      },
      "source": [
        "# join both DataFrames side by side\n",
        "df_special_requests= df_special_requests_0.join(df_special_requests_1)"
      ],
      "execution_count": 36,
      "outputs": []
    },
    {
      "cell_type": "code",
      "metadata": {
        "pycharm": {
          "name": "#%%\n"
        },
        "colab": {
          "base_uri": "https://localhost:8080/"
        },
        "id": "JOl-KjlnA39f",
        "outputId": "c9be6e6f-4fcc-4410-9a65-7e53d57f2772"
      },
      "source": [
        "# add total of both outcomes\n",
        "special_requests_total = df_special_requests[\"not_canceled\"] + df_special_requests[\"canceled\"]\n",
        "\n",
        "# calculate percentage of cancellations for each number of requests value individually\n",
        "special_requests_percentage = []\n",
        "for i in special_requests_total.index:\n",
        "    special_requests_percentage.append(round((special_requests_1[i]/special_requests_total[i])*100,2))\n",
        "special_requests_percentage"
      ],
      "execution_count": 37,
      "outputs": [
        {
          "output_type": "execute_result",
          "data": {
            "text/plain": [
              "[47.53, 21.97, 22.05, 17.88, 10.39, 6.06]"
            ]
          },
          "metadata": {
            "tags": []
          },
          "execution_count": 37
        }
      ]
    },
    {
      "cell_type": "code",
      "metadata": {
        "pycharm": {
          "name": "#%%\n"
        },
        "colab": {
          "base_uri": "https://localhost:8080/",
          "height": 232
        },
        "id": "dLCFSBWdA39f",
        "outputId": "c40ef4ab-6591-41c5-a245-3db19fca8ab0"
      },
      "source": [
        "# add percentages as new column in DataFrame\n",
        "df_special_requests.join(pd.DataFrame(special_requests_percentage, index=df_special_requests.index,\n",
        "             columns=[\"cancellations %\"]))"
      ],
      "execution_count": 38,
      "outputs": [
        {
          "output_type": "execute_result",
          "data": {
            "text/html": [
              "<div>\n",
              "<style scoped>\n",
              "    .dataframe tbody tr th:only-of-type {\n",
              "        vertical-align: middle;\n",
              "    }\n",
              "\n",
              "    .dataframe tbody tr th {\n",
              "        vertical-align: top;\n",
              "    }\n",
              "\n",
              "    .dataframe thead th {\n",
              "        text-align: right;\n",
              "    }\n",
              "</style>\n",
              "<table border=\"1\" class=\"dataframe\">\n",
              "  <thead>\n",
              "    <tr style=\"text-align: right;\">\n",
              "      <th></th>\n",
              "      <th>not_canceled</th>\n",
              "      <th>canceled</th>\n",
              "      <th>cancellations %</th>\n",
              "    </tr>\n",
              "  </thead>\n",
              "  <tbody>\n",
              "    <tr>\n",
              "      <th>0</th>\n",
              "      <td>31313</td>\n",
              "      <td>28364</td>\n",
              "      <td>47.53</td>\n",
              "    </tr>\n",
              "    <tr>\n",
              "      <th>1</th>\n",
              "      <td>22126</td>\n",
              "      <td>6229</td>\n",
              "      <td>21.97</td>\n",
              "    </tr>\n",
              "    <tr>\n",
              "      <th>2</th>\n",
              "      <td>8588</td>\n",
              "      <td>2429</td>\n",
              "      <td>22.05</td>\n",
              "    </tr>\n",
              "    <tr>\n",
              "      <th>3</th>\n",
              "      <td>1741</td>\n",
              "      <td>379</td>\n",
              "      <td>17.88</td>\n",
              "    </tr>\n",
              "    <tr>\n",
              "      <th>4</th>\n",
              "      <td>250</td>\n",
              "      <td>29</td>\n",
              "      <td>10.39</td>\n",
              "    </tr>\n",
              "    <tr>\n",
              "      <th>5</th>\n",
              "      <td>31</td>\n",
              "      <td>2</td>\n",
              "      <td>6.06</td>\n",
              "    </tr>\n",
              "  </tbody>\n",
              "</table>\n",
              "</div>"
            ],
            "text/plain": [
              "   not_canceled  canceled  cancellations %\n",
              "0         31313     28364            47.53\n",
              "1         22126      6229            21.97\n",
              "2          8588      2429            22.05\n",
              "3          1741       379            17.88\n",
              "4           250        29            10.39\n",
              "5            31         2             6.06"
            ]
          },
          "metadata": {
            "tags": []
          },
          "execution_count": 38
        }
      ]
    },
    {
      "cell_type": "code",
      "metadata": {
        "pycharm": {
          "name": "#%%\n"
        },
        "colab": {
          "base_uri": "https://localhost:8080/",
          "height": 368
        },
        "id": "hUmgmNMqA39f",
        "outputId": "ce846c1f-46b0-4a2e-a4e0-62821fcb0fb7"
      },
      "source": [
        "# plot special requests according to cancellations\n",
        "plt.figure(figsize=(10,5))\n",
        "sns.countplot(x=df2[\"total_of_special_requests\"], hue=df2[\"is_canceled\"])\n",
        "plt.title(\"Special Requests\", size=20)\n",
        "plt.xlabel(\"Number of Special Requests\", size=15)\n",
        "plt.legend([\"not canceled\", \"canceled\"])\n",
        "plt.tight_layout()\n",
        "plt.show()"
      ],
      "execution_count": 39,
      "outputs": [
        {
          "output_type": "display_data",
          "data": {
            "image/png": "[encoded data removed]",
            "text/plain": [
              "<Figure size 720x360 with 1 Axes>"
            ]
          },
          "metadata": {
            "tags": [],
            "needs_background": "light"
          }
        }
      ]
    },
    {
      "cell_type": "markdown",
      "metadata": {
        "collapsed": false,
        "id": "5kgl8zWUA39f"
      },
      "source": [
        "> ### Observations:\n",
        ">> * Nearly half of the bookings without special requests are canceled.\n",
        ">> * There are fewer cancellations when the number of special requests increases."
      ]
    },
    {
      "cell_type": "markdown",
      "metadata": {
        "collapsed": false,
        "id": "MCCKuehLA39f"
      },
      "source": [
        "> ### Cancellations According to Required Car Parking Spaces"
      ]
    },
    {
      "cell_type": "code",
      "metadata": {
        "pycharm": {
          "name": "#%%\n"
        },
        "colab": {
          "base_uri": "https://localhost:8080/"
        },
        "id": "6HBlb2A5A39f",
        "outputId": "6b20b6ef-7275-4c7a-ff82-6f481b4410b0"
      },
      "source": [
        "# number of instances for each value\n",
        "df2[\"required_car_parking_spaces\"].value_counts().sort_index()"
      ],
      "execution_count": 40,
      "outputs": [
        {
          "output_type": "execute_result",
          "data": {
            "text/plain": [
              "0    95114\n",
              "1     6337\n",
              "2       26\n",
              "3        2\n",
              "8        2\n",
              "Name: required_car_parking_spaces, dtype: int64"
            ]
          },
          "metadata": {
            "tags": []
          },
          "execution_count": 40
        }
      ]
    },
    {
      "cell_type": "code",
      "metadata": {
        "pycharm": {
          "name": "#%%\n"
        },
        "id": "Hwh0n9AkA39g"
      },
      "source": [
        "# count values for each outcome with previous groupby\n",
        "parking_spaces_0 = not_canceled[\"required_car_parking_spaces\"].value_counts()\n",
        "parking_spaces_1 = canceled[\"required_car_parking_spaces\"].value_counts()"
      ],
      "execution_count": 41,
      "outputs": []
    },
    {
      "cell_type": "code",
      "metadata": {
        "pycharm": {
          "name": "#%%\n"
        },
        "colab": {
          "base_uri": "https://localhost:8080/"
        },
        "id": "H0THUljPA39g",
        "outputId": "58e65bdf-1170-4ccc-fab5-c7e7e23753e1"
      },
      "source": [
        "# value counts for non canceled instances\n",
        "parking_spaces_0.sort_index()"
      ],
      "execution_count": 42,
      "outputs": [
        {
          "output_type": "execute_result",
          "data": {
            "text/plain": [
              "0    57682\n",
              "1     6337\n",
              "2       26\n",
              "3        2\n",
              "8        2\n",
              "Name: required_car_parking_spaces, dtype: int64"
            ]
          },
          "metadata": {
            "tags": []
          },
          "execution_count": 42
        }
      ]
    },
    {
      "cell_type": "code",
      "metadata": {
        "pycharm": {
          "name": "#%%\n"
        },
        "colab": {
          "base_uri": "https://localhost:8080/"
        },
        "id": "HZ5WzC5KA39g",
        "outputId": "1ee765c6-af54-4e63-f9f7-25a1b3027cef"
      },
      "source": [
        "# value counts for canceled instances\n",
        "parking_spaces_1"
      ],
      "execution_count": 43,
      "outputs": [
        {
          "output_type": "execute_result",
          "data": {
            "text/plain": [
              "0    37432\n",
              "Name: required_car_parking_spaces, dtype: int64"
            ]
          },
          "metadata": {
            "tags": []
          },
          "execution_count": 43
        }
      ]
    },
    {
      "cell_type": "code",
      "metadata": {
        "pycharm": {
          "name": "#%%\n"
        },
        "colab": {
          "base_uri": "https://localhost:8080/",
          "height": 296
        },
        "id": "Oyr62wjQA39g",
        "outputId": "bb756b8f-c145-42d5-e98d-3c998a307e8e"
      },
      "source": [
        "# pie plot of cancellations with zero required parking spaces\n",
        "plt.pie(x=[parking_spaces_0[0], parking_spaces_1[0]], labels=[\"not_canceled\", \"canceled\"],autopct='%1.1f%%',\n",
        "        startangle=90, colors=['forestgreen', 'firebrick'])\n",
        "plt.title(\"Zero Required Parking Spaces Cancellations\", size=20)\n",
        "plt.tight_layout()\n",
        "plt.show()"
      ],
      "execution_count": 44,
      "outputs": [
        {
          "output_type": "display_data",
          "data": {
            "image/png": "[encoded data removed]",
            "text/plain": [
              "<Figure size 432x288 with 1 Axes>"
            ]
          },
          "metadata": {
            "tags": []
          }
        }
      ]
    },
    {
      "cell_type": "markdown",
      "metadata": {
        "collapsed": false,
        "id": "nbovEAtBA39g"
      },
      "source": [
        "> ### Observations:\n",
        ">> * Dividing the instances into groups according to cancellations shows that canceled\n",
        ">> bookings were only ones without required parking spaces.\n",
        ">> * This could potentially be a bad indication for cancellations. The model could learn\n",
        ">> that a booking can be canceled **only** if no parking spaces were required, which does not\n",
        ">> necessarily have to be the case."
      ]
    },
    {
      "cell_type": "markdown",
      "metadata": {
        "collapsed": false,
        "id": "mxe93lLTA39g"
      },
      "source": [
        "> ### Cancellations According to Booking Changes"
      ]
    },
    {
      "cell_type": "code",
      "metadata": {
        "pycharm": {
          "name": "#%%\n"
        },
        "colab": {
          "base_uri": "https://localhost:8080/"
        },
        "id": "2Yvm2GA4A39g",
        "outputId": "e874534c-00f2-43dd-a7cc-2581bed0e34b"
      },
      "source": [
        "# number of instances for each value\n",
        "df2[\"booking_changes\"].value_counts().sort_index()"
      ],
      "execution_count": 45,
      "outputs": [
        {
          "output_type": "execute_result",
          "data": {
            "text/plain": [
              "0     86077\n",
              "1     10809\n",
              "2      3256\n",
              "3       793\n",
              "4       314\n",
              "5        99\n",
              "6        60\n",
              "7        28\n",
              "8        14\n",
              "9         6\n",
              "10        5\n",
              "11        2\n",
              "12        2\n",
              "13        3\n",
              "14        4\n",
              "15        3\n",
              "16        2\n",
              "17        1\n",
              "18        1\n",
              "20        1\n",
              "21        1\n",
              "Name: booking_changes, dtype: int64"
            ]
          },
          "metadata": {
            "tags": []
          },
          "execution_count": 45
        }
      ]
    },
    {
      "cell_type": "code",
      "metadata": {
        "pycharm": {
          "name": "#%%\n"
        },
        "id": "mJ6RkK9rA39g"
      },
      "source": [
        "# count values for each outcome with previous groupby\n",
        "booking_changes_0 = not_canceled[\"booking_changes\"].value_counts()\n",
        "booking_changes_1 = canceled[\"booking_changes\"].value_counts()"
      ],
      "execution_count": 46,
      "outputs": []
    },
    {
      "cell_type": "code",
      "metadata": {
        "pycharm": {
          "name": "#%%\n"
        },
        "colab": {
          "base_uri": "https://localhost:8080/"
        },
        "id": "qxCCVoGIA39h",
        "outputId": "c86f71e8-6c78-459c-e04d-cc4674724766"
      },
      "source": [
        "# count index of not canceled\n",
        "len(booking_changes_0.index)"
      ],
      "execution_count": 47,
      "outputs": [
        {
          "output_type": "execute_result",
          "data": {
            "text/plain": [
              "21"
            ]
          },
          "metadata": {
            "tags": []
          },
          "execution_count": 47
        }
      ]
    },
    {
      "cell_type": "code",
      "metadata": {
        "pycharm": {
          "name": "#%%\n"
        },
        "colab": {
          "base_uri": "https://localhost:8080/"
        },
        "id": "ww_28OfMA39h",
        "outputId": "60167ddc-e6af-41a5-f241-9c3500517552"
      },
      "source": [
        "# count index of canceled\n",
        "len(booking_changes_1.index)"
      ],
      "execution_count": 48,
      "outputs": [
        {
          "output_type": "execute_result",
          "data": {
            "text/plain": [
              "12"
            ]
          },
          "metadata": {
            "tags": []
          },
          "execution_count": 48
        }
      ]
    },
    {
      "cell_type": "code",
      "metadata": {
        "pycharm": {
          "name": "#%%\n"
        },
        "id": "k8AmwlepA39h"
      },
      "source": [
        "# fill missing values\n",
        "# the outcome 0 has more values\n",
        "# filling the values will enable joining the dataframes later\n",
        "df_booking_changes_1 = pd.DataFrame(booking_changes_1, index=booking_changes_0.index)\n",
        "df_booking_changes_1.fillna({\"booking_changes\": 0}, inplace=True)\n",
        "booking_changes_1 = pd.Series(df_booking_changes_1[\"booking_changes\"])"
      ],
      "execution_count": 49,
      "outputs": []
    },
    {
      "cell_type": "code",
      "metadata": {
        "pycharm": {
          "name": "#%%\n"
        },
        "id": "FhRKjAwnA39h"
      },
      "source": [
        "# add total of both outcomes\n",
        "booking_changes_total = booking_changes_0 + booking_changes_1\n",
        "\n",
        "# calculate percentage of cancellations for each number of booking changes individually\n",
        "percentage_booking_changes = []\n",
        "for i in booking_changes_total.index:\n",
        "    percentage_booking_changes.append(round((booking_changes_1[i]/booking_changes_total[i])*100,2))"
      ],
      "execution_count": 50,
      "outputs": []
    },
    {
      "cell_type": "code",
      "metadata": {
        "pycharm": {
          "name": "#%%\n"
        },
        "id": "G0Qy9d1HA39h"
      },
      "source": [
        "# create a DataFrame with the percentage of cancellations\n",
        "df_percentage_booking_changes = pd.DataFrame(percentage_booking_changes, index=booking_changes_total.index,\n",
        "                                             columns=[\"cancellations %\"])"
      ],
      "execution_count": 51,
      "outputs": []
    },
    {
      "cell_type": "code",
      "metadata": {
        "pycharm": {
          "name": "#%%\n"
        },
        "id": "6JHNE4ctA39h"
      },
      "source": [
        "# create a DataFrame for each outcome\n",
        "df_booking_changes_0 = pd.DataFrame(booking_changes_0.values, index=booking_changes_0.index, columns=[\"not_canceled\"])\n",
        "df_booking_changes_1 = pd.DataFrame(booking_changes_1.values, index=booking_changes_1.index, columns=[\"canceled\"])"
      ],
      "execution_count": 52,
      "outputs": []
    },
    {
      "cell_type": "code",
      "metadata": {
        "pycharm": {
          "name": "#%%\n"
        },
        "colab": {
          "base_uri": "https://localhost:8080/",
          "height": 416
        },
        "id": "1tZJX0TKA39h",
        "outputId": "64419772-22d8-4199-ae82-34749a22c1f0"
      },
      "source": [
        "# join all three DataFrames side by side\n",
        "df_booking_changes = df_booking_changes_0.join\\\n",
        "    ([df_booking_changes_1, df_percentage_booking_changes])\n",
        "\n",
        "# remove rows with 0% cancellations\n",
        "df_booking_changes = df_booking_changes[df_booking_changes[\"cancellations %\"]!=0]\n",
        "df_booking_changes"
      ],
      "execution_count": 53,
      "outputs": [
        {
          "output_type": "execute_result",
          "data": {
            "text/html": [
              "<div>\n",
              "<style scoped>\n",
              "    .dataframe tbody tr th:only-of-type {\n",
              "        vertical-align: middle;\n",
              "    }\n",
              "\n",
              "    .dataframe tbody tr th {\n",
              "        vertical-align: top;\n",
              "    }\n",
              "\n",
              "    .dataframe thead th {\n",
              "        text-align: right;\n",
              "    }\n",
              "</style>\n",
              "<table border=\"1\" class=\"dataframe\">\n",
              "  <thead>\n",
              "    <tr style=\"text-align: right;\">\n",
              "      <th></th>\n",
              "      <th>not_canceled</th>\n",
              "      <th>canceled</th>\n",
              "      <th>cancellations %</th>\n",
              "    </tr>\n",
              "  </thead>\n",
              "  <tbody>\n",
              "    <tr>\n",
              "      <th>0</th>\n",
              "      <td>51065</td>\n",
              "      <td>35012.0</td>\n",
              "      <td>40.68</td>\n",
              "    </tr>\n",
              "    <tr>\n",
              "      <th>1</th>\n",
              "      <td>9272</td>\n",
              "      <td>1537.0</td>\n",
              "      <td>14.22</td>\n",
              "    </tr>\n",
              "    <tr>\n",
              "      <th>2</th>\n",
              "      <td>2599</td>\n",
              "      <td>657.0</td>\n",
              "      <td>20.18</td>\n",
              "    </tr>\n",
              "    <tr>\n",
              "      <th>3</th>\n",
              "      <td>668</td>\n",
              "      <td>125.0</td>\n",
              "      <td>15.76</td>\n",
              "    </tr>\n",
              "    <tr>\n",
              "      <th>4</th>\n",
              "      <td>257</td>\n",
              "      <td>57.0</td>\n",
              "      <td>18.15</td>\n",
              "    </tr>\n",
              "    <tr>\n",
              "      <th>5</th>\n",
              "      <td>81</td>\n",
              "      <td>18.0</td>\n",
              "      <td>18.18</td>\n",
              "    </tr>\n",
              "    <tr>\n",
              "      <th>6</th>\n",
              "      <td>43</td>\n",
              "      <td>17.0</td>\n",
              "      <td>28.33</td>\n",
              "    </tr>\n",
              "    <tr>\n",
              "      <th>7</th>\n",
              "      <td>26</td>\n",
              "      <td>2.0</td>\n",
              "      <td>7.14</td>\n",
              "    </tr>\n",
              "    <tr>\n",
              "      <th>8</th>\n",
              "      <td>10</td>\n",
              "      <td>4.0</td>\n",
              "      <td>28.57</td>\n",
              "    </tr>\n",
              "    <tr>\n",
              "      <th>10</th>\n",
              "      <td>4</td>\n",
              "      <td>1.0</td>\n",
              "      <td>20.00</td>\n",
              "    </tr>\n",
              "    <tr>\n",
              "      <th>14</th>\n",
              "      <td>3</td>\n",
              "      <td>1.0</td>\n",
              "      <td>25.00</td>\n",
              "    </tr>\n",
              "    <tr>\n",
              "      <th>16</th>\n",
              "      <td>1</td>\n",
              "      <td>1.0</td>\n",
              "      <td>50.00</td>\n",
              "    </tr>\n",
              "  </tbody>\n",
              "</table>\n",
              "</div>"
            ],
            "text/plain": [
              "    not_canceled  canceled  cancellations %\n",
              "0          51065   35012.0            40.68\n",
              "1           9272    1537.0            14.22\n",
              "2           2599     657.0            20.18\n",
              "3            668     125.0            15.76\n",
              "4            257      57.0            18.15\n",
              "5             81      18.0            18.18\n",
              "6             43      17.0            28.33\n",
              "7             26       2.0             7.14\n",
              "8             10       4.0            28.57\n",
              "10             4       1.0            20.00\n",
              "14             3       1.0            25.00\n",
              "16             1       1.0            50.00"
            ]
          },
          "metadata": {
            "tags": []
          },
          "execution_count": 53
        }
      ]
    },
    {
      "cell_type": "markdown",
      "metadata": {
        "collapsed": false,
        "id": "snaPrWaCA39h"
      },
      "source": [
        "> ### Observations:\n",
        ">> * While a large amount of bookings with no changes were canceled, this category can change overtime\n",
        ">> which could possibly be a source of leakage."
      ]
    },
    {
      "cell_type": "markdown",
      "metadata": {
        "collapsed": false,
        "id": "fwPpgh15A39i"
      },
      "source": [
        "> ### Understanding the ADR Feature\n",
        ">> Since this feature is not entirely clear from the description on Kaggle,\n",
        ">> I've decided to further assess it.\n",
        ">>\n",
        ">> The Average Daily Rate (ADR) is typically calculated by taking the average revenue\n",
        ">> earned from the rooms and dividing by the number of rooms sold (excluding rooms occupied\n",
        ">> by staff).\n",
        ">>\n",
        ">> Since it is not clear if an ADR of zero indicates that the booking was canceled or\n",
        ">> if the hotel did not gain profit, I will look at instances listed with an ADR\n",
        ">> of zero. This should provide enough insight to see if this feature should be removed\n",
        ">> during before model evaluations."
      ]
    },
    {
      "cell_type": "code",
      "metadata": {
        "pycharm": {
          "name": "#%%\n"
        },
        "colab": {
          "base_uri": "https://localhost:8080/"
        },
        "id": "fn_rgHjMA39i",
        "outputId": "667a1be7-02ff-4799-8253-e62ee2835d0c"
      },
      "source": [
        "df2[df2[\"adr\"]==0][\"reservation_status\"].value_counts()"
      ],
      "execution_count": 54,
      "outputs": [
        {
          "output_type": "execute_result",
          "data": {
            "text/plain": [
              "Check-Out    1514\n",
              "Canceled      160\n",
              "No-Show        26\n",
              "Name: reservation_status, dtype: int64"
            ]
          },
          "metadata": {
            "tags": []
          },
          "execution_count": 54
        }
      ]
    },
    {
      "cell_type": "code",
      "metadata": {
        "pycharm": {
          "name": "#%%\n"
        },
        "colab": {
          "base_uri": "https://localhost:8080/"
        },
        "id": "EkxoFtkLA39i",
        "outputId": "77971d68-b160-45bc-ef3f-2db75cf7e556"
      },
      "source": [
        "df2[df2[\"adr\"]==0][\"is_canceled\"].value_counts()"
      ],
      "execution_count": 55,
      "outputs": [
        {
          "output_type": "execute_result",
          "data": {
            "text/plain": [
              "0    1514\n",
              "1     186\n",
              "Name: is_canceled, dtype: int64"
            ]
          },
          "metadata": {
            "tags": []
          },
          "execution_count": 55
        }
      ]
    },
    {
      "cell_type": "markdown",
      "metadata": {
        "collapsed": false,
        "id": "G4QNdyAMA39i"
      },
      "source": [
        "> ### Observations:\n",
        ">> * Most bookings are labeled as checked-out and not canceled when the ADR was zero.\n",
        ">> This concludes the previous speculation."
      ]
    },
    {
      "cell_type": "markdown",
      "metadata": {
        "collapsed": false,
        "id": "UJBfP1LHA39i"
      },
      "source": [
        "> ### Categorical Attributes:"
      ]
    },
    {
      "cell_type": "markdown",
      "metadata": {
        "collapsed": false,
        "id": "uTTFxEa3A39i"
      },
      "source": [
        "> ### Cancellations According to Hotels and Arrival Month"
      ]
    },
    {
      "cell_type": "code",
      "metadata": {
        "pycharm": {
          "name": "#%%\n"
        },
        "colab": {
          "base_uri": "https://localhost:8080/"
        },
        "id": "2VWE3ugGA39i",
        "outputId": "3bc5a855-33e0-4369-d67b-7eb4c8dc2368"
      },
      "source": [
        "df2[\"hotel\"].value_counts()"
      ],
      "execution_count": 56,
      "outputs": [
        {
          "output_type": "execute_result",
          "data": {
            "text/plain": [
              "City Hotel      67539\n",
              "Resort Hotel    33942\n",
              "Name: hotel, dtype: int64"
            ]
          },
          "metadata": {
            "tags": []
          },
          "execution_count": 56
        }
      ]
    },
    {
      "cell_type": "code",
      "metadata": {
        "pycharm": {
          "name": "#%%\n"
        },
        "colab": {
          "base_uri": "https://localhost:8080/",
          "height": 368
        },
        "id": "4pbHTuK1A39i",
        "outputId": "b9ea2b21-296a-4b1f-8e73-fa39a2719103"
      },
      "source": [
        "# a plot of the number of instances for each hotel according to cancellations\n",
        "plt.figure(figsize=(10,5))\n",
        "sns.countplot(x=df2[\"hotel\"], hue=df2[\"is_canceled\"])\n",
        "plt.title(\"Hotel Cancellations\", size=20)\n",
        "plt.legend([\"not canceled\", \"canceled\"])\n",
        "plt.tight_layout()\n",
        "plt.show()"
      ],
      "execution_count": 57,
      "outputs": [
        {
          "output_type": "display_data",
          "data": {
            "image/png": "[encoded data removed]",
            "text/plain": [
              "<Figure size 720x360 with 1 Axes>"
            ]
          },
          "metadata": {
            "tags": [],
            "needs_background": "light"
          }
        }
      ]
    },
    {
      "cell_type": "code",
      "metadata": {
        "pycharm": {
          "name": "#%%\n"
        },
        "colab": {
          "base_uri": "https://localhost:8080/",
          "height": 416
        },
        "id": "4piae6vfA39j",
        "outputId": "1280906d-8289-48f7-ac44-1d99376801ba"
      },
      "source": [
        "ordered_months = [\"January\", \"February\", \"March\", \"April\", \"May\", \"June\",\n",
        "          \"July\", \"August\", \"September\", \"October\", \"November\", \"December\"]\n",
        "\n",
        "resort_canceled_percent = []\n",
        "city_canceled_percent = []\n",
        "\n",
        "# divide cancellation outcome by hotel and month of arrival\n",
        "resort_1 = canceled[canceled[\"hotel\"]==\"Resort Hotel\"][\"arrival_date_month\"].value_counts()\n",
        "resort_0 = not_canceled[not_canceled[\"hotel\"]==\"Resort Hotel\"][\"arrival_date_month\"].value_counts()\n",
        "city_1 = canceled[canceled[\"hotel\"]==\"City Hotel\"][\"arrival_date_month\"].value_counts()\n",
        "city_0 = not_canceled[not_canceled[\"hotel\"]==\"City Hotel\"][\"arrival_date_month\"].value_counts()\n",
        "\n",
        "# calculate cancellation percentage according to hotel\n",
        "for i in ordered_months:\n",
        "    resort_canceled_percent.append(round((resort_1[i] / (resort_0[i]+resort_1[i]))*100,2))\n",
        "    city_canceled_percent.append(round((city_1[i]/(city_0[i]+city_1[i]))*100,2))\n",
        "\n",
        "# create a DataFrame with the cancellation percentage of each hotel\n",
        "df_resort_cancel = pd.DataFrame(resort_canceled_percent, index=ordered_months, columns=[\"Resort Hotel Canceled %\"])\n",
        "df_city_cancel = pd.DataFrame(city_canceled_percent, index=ordered_months, columns=[\"City Hotel Canceled %\"])\n",
        "\n",
        "# join DataFrames\n",
        "df_hotel_cancel = df_resort_cancel.join(df_city_cancel)\n",
        "df_hotel_cancel"
      ],
      "execution_count": 58,
      "outputs": [
        {
          "output_type": "execute_result",
          "data": {
            "text/html": [
              "<div>\n",
              "<style scoped>\n",
              "    .dataframe tbody tr th:only-of-type {\n",
              "        vertical-align: middle;\n",
              "    }\n",
              "\n",
              "    .dataframe tbody tr th {\n",
              "        vertical-align: top;\n",
              "    }\n",
              "\n",
              "    .dataframe thead th {\n",
              "        text-align: right;\n",
              "    }\n",
              "</style>\n",
              "<table border=\"1\" class=\"dataframe\">\n",
              "  <thead>\n",
              "    <tr style=\"text-align: right;\">\n",
              "      <th></th>\n",
              "      <th>Resort Hotel Canceled %</th>\n",
              "      <th>City Hotel Canceled %</th>\n",
              "    </tr>\n",
              "  </thead>\n",
              "  <tbody>\n",
              "    <tr>\n",
              "      <th>January</th>\n",
              "      <td>15.33</td>\n",
              "      <td>39.29</td>\n",
              "    </tr>\n",
              "    <tr>\n",
              "      <th>February</th>\n",
              "      <td>25.10</td>\n",
              "      <td>38.22</td>\n",
              "    </tr>\n",
              "    <tr>\n",
              "      <th>March</th>\n",
              "      <td>22.89</td>\n",
              "      <td>36.82</td>\n",
              "    </tr>\n",
              "    <tr>\n",
              "      <th>April</th>\n",
              "      <td>29.35</td>\n",
              "      <td>46.17</td>\n",
              "    </tr>\n",
              "    <tr>\n",
              "      <th>May</th>\n",
              "      <td>28.83</td>\n",
              "      <td>44.26</td>\n",
              "    </tr>\n",
              "    <tr>\n",
              "      <th>June</th>\n",
              "      <td>32.95</td>\n",
              "      <td>44.37</td>\n",
              "    </tr>\n",
              "    <tr>\n",
              "      <th>July</th>\n",
              "      <td>31.03</td>\n",
              "      <td>40.63</td>\n",
              "    </tr>\n",
              "    <tr>\n",
              "      <th>August</th>\n",
              "      <td>33.33</td>\n",
              "      <td>39.78</td>\n",
              "    </tr>\n",
              "    <tr>\n",
              "      <th>September</th>\n",
              "      <td>32.13</td>\n",
              "      <td>42.06</td>\n",
              "    </tr>\n",
              "    <tr>\n",
              "      <th>October</th>\n",
              "      <td>27.20</td>\n",
              "      <td>42.82</td>\n",
              "    </tr>\n",
              "    <tr>\n",
              "      <th>November</th>\n",
              "      <td>19.39</td>\n",
              "      <td>37.96</td>\n",
              "    </tr>\n",
              "    <tr>\n",
              "      <th>December</th>\n",
              "      <td>23.52</td>\n",
              "      <td>41.49</td>\n",
              "    </tr>\n",
              "  </tbody>\n",
              "</table>\n",
              "</div>"
            ],
            "text/plain": [
              "           Resort Hotel Canceled %  City Hotel Canceled %\n",
              "January                      15.33                  39.29\n",
              "February                     25.10                  38.22\n",
              "March                        22.89                  36.82\n",
              "April                        29.35                  46.17\n",
              "May                          28.83                  44.26\n",
              "June                         32.95                  44.37\n",
              "July                         31.03                  40.63\n",
              "August                       33.33                  39.78\n",
              "September                    32.13                  42.06\n",
              "October                      27.20                  42.82\n",
              "November                     19.39                  37.96\n",
              "December                     23.52                  41.49"
            ]
          },
          "metadata": {
            "tags": []
          },
          "execution_count": 58
        }
      ]
    },
    {
      "cell_type": "markdown",
      "metadata": {
        "collapsed": false,
        "id": "NVHC8R_BA39j"
      },
      "source": [
        "> ### Observations:\n",
        ">> * There are more instances for City Hotel than Resort Hotel in the data.\n",
        ">> * City Hotel has a higher cancellation rate according to arrival months."
      ]
    },
    {
      "cell_type": "markdown",
      "metadata": {
        "collapsed": false,
        "id": "2tsy5qrFA39j"
      },
      "source": [
        "> ### Cancellations According to Meal Booked"
      ]
    },
    {
      "cell_type": "code",
      "metadata": {
        "pycharm": {
          "name": "#%%\n"
        },
        "colab": {
          "base_uri": "https://localhost:8080/",
          "height": 368
        },
        "id": "fws4vX86A39j",
        "outputId": "2c4be912-e6fc-42be-d840-44a80f2ab868"
      },
      "source": [
        "# plot meal according to cancellations\n",
        "plt.figure(figsize=(10,5))\n",
        "sns.countplot(x=df2[\"meal\"], hue=df2[\"is_canceled\"])\n",
        "plt.title(\"Cancellations According to Meal Booked\", size=20)\n",
        "plt.xlabel(\"meal\", size=15)\n",
        "plt.legend([\"not canceled\", \"canceled\"])\n",
        "plt.tight_layout()\n",
        "plt.show()"
      ],
      "execution_count": 59,
      "outputs": [
        {
          "output_type": "display_data",
          "data": {
            "image/png": "[encoded data removed]",
            "text/plain": [
              "<Figure size 720x360 with 1 Axes>"
            ]
          },
          "metadata": {
            "tags": [],
            "needs_background": "light"
          }
        }
      ]
    },
    {
      "cell_type": "markdown",
      "metadata": {
        "collapsed": false,
        "id": "IW20ZviHA39j"
      },
      "source": [
        "> ### Observations:\n",
        ">> * The BB (Bed & Breakfast) meal is most common. It is also most frequently canceled."
      ]
    },
    {
      "cell_type": "markdown",
      "metadata": {
        "collapsed": false,
        "id": "96UYyZ-iA39j"
      },
      "source": [
        "> ### Cancellations According to Market Segment, Distribution Channel, Customer Type and Room Type"
      ]
    },
    {
      "cell_type": "code",
      "metadata": {
        "pycharm": {
          "name": "#%%\n"
        },
        "colab": {
          "base_uri": "https://localhost:8080/"
        },
        "id": "faS-mNBlA39j",
        "outputId": "fc1cb0e7-a6a7-4183-ab46-3731a23973a3"
      },
      "source": [
        "df2[\"market_segment\"].value_counts()"
      ],
      "execution_count": 60,
      "outputs": [
        {
          "output_type": "execute_result",
          "data": {
            "text/plain": [
              "Online TA        48113\n",
              "Offline TA/TO    20585\n",
              "Groups           16769\n",
              "Direct           10689\n",
              "Corporate         4485\n",
              "Complementary      639\n",
              "Aviation           199\n",
              "Undefined            2\n",
              "Name: market_segment, dtype: int64"
            ]
          },
          "metadata": {
            "tags": []
          },
          "execution_count": 60
        }
      ]
    },
    {
      "cell_type": "code",
      "metadata": {
        "pycharm": {
          "name": "#%%\n"
        },
        "colab": {
          "base_uri": "https://localhost:8080/"
        },
        "id": "-WTNSAhMA39k",
        "outputId": "5b34f6a4-0d73-4e48-abe3-1834c8fc0a77"
      },
      "source": [
        "# calculate cancellation percentage according to market segment\n",
        "market_segment_percent = []\n",
        "\n",
        "market_segment_1 = canceled[\"market_segment\"].value_counts()\n",
        "market_segment_total = df2[\"market_segment\"].value_counts()\n",
        "\n",
        "for i in market_segment_total.index:\n",
        "    market_segment_percent.append(str(i+\": \") +\n",
        "                    str(round((market_segment_1[i]/market_segment_total[i])*100,2)))\n",
        "market_segment_percent"
      ],
      "execution_count": 61,
      "outputs": [
        {
          "output_type": "execute_result",
          "data": {
            "text/plain": [
              "['Online TA: 36.57',\n",
              " 'Offline TA/TO: 34.19',\n",
              " 'Groups: 60.65',\n",
              " 'Direct: 15.51',\n",
              " 'Corporate: 18.71',\n",
              " 'Complementary: 13.15',\n",
              " 'Aviation: 22.11',\n",
              " 'Undefined: 100.0']"
            ]
          },
          "metadata": {
            "tags": []
          },
          "execution_count": 61
        }
      ]
    },
    {
      "cell_type": "code",
      "metadata": {
        "pycharm": {
          "name": "#%%\n"
        },
        "colab": {
          "base_uri": "https://localhost:8080/"
        },
        "id": "waYNgdlQA39k",
        "outputId": "f3ed0cf3-d40d-4ce0-d330-a75c3f8094b7"
      },
      "source": [
        "df2[\"distribution_channel\"].value_counts()"
      ],
      "execution_count": 62,
      "outputs": [
        {
          "output_type": "execute_result",
          "data": {
            "text/plain": [
              "TA/TO        83251\n",
              "Direct       12412\n",
              "Corporate     5652\n",
              "GDS            161\n",
              "Undefined        5\n",
              "Name: distribution_channel, dtype: int64"
            ]
          },
          "metadata": {
            "tags": []
          },
          "execution_count": 62
        }
      ]
    },
    {
      "cell_type": "code",
      "metadata": {
        "pycharm": {
          "name": "#%%\n"
        },
        "colab": {
          "base_uri": "https://localhost:8080/"
        },
        "id": "Rk5CvXsCA39k",
        "outputId": "eb79abce-f410-439b-e94e-f017a1c08b4b"
      },
      "source": [
        "# calculate cancellation percentage according to distribution channel\n",
        "distribution_channel_percent = []\n",
        "\n",
        "distribution_channel_1 = canceled[\"distribution_channel\"].value_counts()\n",
        "distribution_channel_total = df2[\"distribution_channel\"].value_counts()\n",
        "\n",
        "for i in distribution_channel_total.index:\n",
        "    distribution_channel_percent.append(str(i+\": \") +\n",
        "                    str(round((distribution_channel_1[i]/distribution_channel_total[i])*100,2)))\n",
        "distribution_channel_percent"
      ],
      "execution_count": 63,
      "outputs": [
        {
          "output_type": "execute_result",
          "data": {
            "text/plain": [
              "['TA/TO: 40.81',\n",
              " 'Direct: 17.6',\n",
              " 'Corporate: 21.89',\n",
              " 'GDS: 19.88',\n",
              " 'Undefined: 80.0']"
            ]
          },
          "metadata": {
            "tags": []
          },
          "execution_count": 63
        }
      ]
    },
    {
      "cell_type": "code",
      "metadata": {
        "pycharm": {
          "name": "#%%\n"
        },
        "colab": {
          "base_uri": "https://localhost:8080/"
        },
        "id": "XsV35vjSA39k",
        "outputId": "867f00ff-4e04-4be1-b13d-897a902d15a8"
      },
      "source": [
        "df2[\"customer_type\"].value_counts()"
      ],
      "execution_count": 64,
      "outputs": [
        {
          "output_type": "execute_result",
          "data": {
            "text/plain": [
              "Transient          76111\n",
              "Transient-Party    21426\n",
              "Contract            3448\n",
              "Group                496\n",
              "Name: customer_type, dtype: int64"
            ]
          },
          "metadata": {
            "tags": []
          },
          "execution_count": 64
        }
      ]
    },
    {
      "cell_type": "code",
      "metadata": {
        "pycharm": {
          "name": "#%%\n"
        },
        "colab": {
          "base_uri": "https://localhost:8080/"
        },
        "id": "XsmnhOhKA39k",
        "outputId": "14f08ead-588f-4649-c240-a53344ec7b2b"
      },
      "source": [
        "# calculate cancellation percentage according to customer type\n",
        "customer_type_percent = []\n",
        "\n",
        "customer_type_1 = canceled[\"customer_type\"].value_counts()\n",
        "customer_type_total = df2[\"customer_type\"].value_counts()\n",
        "\n",
        "for i in customer_type_total.index:\n",
        "    customer_type_percent.append(str(i+\": \") +\n",
        "                    str(round((customer_type_1[i]/customer_type_total[i])*100,2)))\n",
        "customer_type_percent"
      ],
      "execution_count": 65,
      "outputs": [
        {
          "output_type": "execute_result",
          "data": {
            "text/plain": [
              "['Transient: 40.6', 'Transient-Party: 25.28', 'Contract: 31.0', 'Group: 9.48']"
            ]
          },
          "metadata": {
            "tags": []
          },
          "execution_count": 65
        }
      ]
    },
    {
      "cell_type": "code",
      "metadata": {
        "pycharm": {
          "name": "#%%\n"
        },
        "colab": {
          "base_uri": "https://localhost:8080/",
          "height": 368
        },
        "id": "xDvj-SYcA39k",
        "outputId": "8ae9dd85-4cf1-40c4-e3f5-6153273e105a"
      },
      "source": [
        "# plot of cancellations according to room type\n",
        "plt.figure(figsize=(10,5))\n",
        "sns.countplot(x=df2[\"reserved_room_type\"], hue=df2[\"is_canceled\"])\n",
        "plt.title(\"Cancellations According to Room Type\", size=20)\n",
        "plt.legend([\"not canceled\", \"canceled\"], loc=1)\n",
        "plt.tight_layout()\n",
        "plt.show()"
      ],
      "execution_count": 66,
      "outputs": [
        {
          "output_type": "display_data",
          "data": {
            "image/png": "[encoded data removed]",
            "text/plain": [
              "<Figure size 720x360 with 1 Axes>"
            ]
          },
          "metadata": {
            "tags": [],
            "needs_background": "light"
          }
        }
      ]
    },
    {
      "cell_type": "markdown",
      "metadata": {
        "collapsed": false,
        "id": "jRpijwbLA39k"
      },
      "source": [
        "> ### Observations:\n",
        ">> * Market segment cancellation rates are highest amongst travel agencies and tour operators.\n",
        ">> * Distribution channel cancellation rates are highest amongst groups, travel agencies and tour operators.\n",
        ">> * Customer type cancellation rates are highest amongst transient\n",
        ">> (meaning the booking is not part of a group or contract and is not associated to another transient booking).\n",
        ">> * The room type \"A\" is canceled most frequently."
      ]
    },
    {
      "cell_type": "markdown",
      "metadata": {
        "collapsed": false,
        "id": "aH1U1_DtA39l"
      },
      "source": [
        "> ### Cancellations According to Deposit Type"
      ]
    },
    {
      "cell_type": "code",
      "metadata": {
        "pycharm": {
          "name": "#%%\n"
        },
        "colab": {
          "base_uri": "https://localhost:8080/"
        },
        "id": "qjFf-lH8A39l",
        "outputId": "e8822b64-2220-4fcd-fd35-c7071ccec39d"
      },
      "source": [
        "df2[\"deposit_type\"].value_counts()"
      ],
      "execution_count": 67,
      "outputs": [
        {
          "output_type": "execute_result",
          "data": {
            "text/plain": [
              "No Deposit    89037\n",
              "Non Refund    12304\n",
              "Refundable      140\n",
              "Name: deposit_type, dtype: int64"
            ]
          },
          "metadata": {
            "tags": []
          },
          "execution_count": 67
        }
      ]
    },
    {
      "cell_type": "code",
      "metadata": {
        "pycharm": {
          "name": "#%%\n"
        },
        "colab": {
          "base_uri": "https://localhost:8080/"
        },
        "id": "hya5MNiXA39l",
        "outputId": "9803f465-c08d-4576-9d30-2658acb36f35"
      },
      "source": [
        "# calculate deposit type instances percentage in data\n",
        "deposit_percent = round(df2[\"deposit_type\"].value_counts()/len(df[\"deposit_type\"])*100,4)\n",
        "deposit_percent"
      ],
      "execution_count": 68,
      "outputs": [
        {
          "output_type": "execute_result",
          "data": {
            "text/plain": [
              "No Deposit    74.5766\n",
              "Non Refund    10.3057\n",
              "Refundable     0.1173\n",
              "Name: deposit_type, dtype: float64"
            ]
          },
          "metadata": {
            "tags": []
          },
          "execution_count": 68
        }
      ]
    },
    {
      "cell_type": "code",
      "metadata": {
        "pycharm": {
          "name": "#%%\n"
        },
        "id": "W15_Ua-nA39l"
      },
      "source": [
        "# use groupby to divide according to deposit type\n",
        "deposit = df2.groupby(by=\"deposit_type\")\n",
        "non_refund = deposit.get_group(\"Non Refund\")\n",
        "refundable = deposit.get_group(\"Refundable\")\n",
        "no_deposit = deposit.get_group(\"No Deposit\")"
      ],
      "execution_count": 69,
      "outputs": []
    },
    {
      "cell_type": "code",
      "metadata": {
        "pycharm": {
          "name": "#%%\n"
        },
        "id": "sY4ZtmGIA39l"
      },
      "source": [
        "# calculate number of cancellations according to deposit type\n",
        "no_deposit_0 = (no_deposit[\"is_canceled\"]==0).sum()\n",
        "no_deposit_1 = (no_deposit[\"is_canceled\"]==1).sum()\n",
        "non_refund_0 = (non_refund[\"is_canceled\"]==0).sum()\n",
        "non_refund_1 = (non_refund[\"is_canceled\"]==1).sum()\n",
        "refundable_0 = (refundable[\"is_canceled\"]==0).sum()\n",
        "refundable_1 = (refundable[\"is_canceled\"]==1).sum()\n",
        "all_canceled = no_deposit_1 + non_refund_1 + refundable_1\n",
        "all_not_canceled = no_deposit_0 + non_refund_0 + refundable_0"
      ],
      "execution_count": 70,
      "outputs": []
    },
    {
      "cell_type": "code",
      "metadata": {
        "pycharm": {
          "name": "#%%\n"
        },
        "colab": {
          "base_uri": "https://localhost:8080/"
        },
        "id": "cQLbperOA39m",
        "outputId": "1aa3fa57-03b7-47eb-d678-5c1359ce6b0f"
      },
      "source": [
        "# check that all values were calculated\n",
        "all_canceled + all_not_canceled == df2[\"deposit_type\"].size"
      ],
      "execution_count": 71,
      "outputs": [
        {
          "output_type": "execute_result",
          "data": {
            "text/plain": [
              "True"
            ]
          },
          "metadata": {
            "tags": []
          },
          "execution_count": 71
        }
      ]
    },
    {
      "cell_type": "code",
      "metadata": {
        "pycharm": {
          "name": "#%%\n"
        },
        "colab": {
          "base_uri": "https://localhost:8080/",
          "height": 110
        },
        "id": "beFXtIp4A39m",
        "outputId": "0aa20aad-1ddb-4a4e-af54-338c3f5624f3"
      },
      "source": [
        "# create a DataFrame with the number of instances for each deposit type\n",
        "df_deposit_type = pd.DataFrame(index=[\"Not Canceled\", \"Canceled\"])\n",
        "df_deposit_type[\"no_deposit\"] = [no_deposit_0, no_deposit_1]\n",
        "df_deposit_type[\"non_refund\"] = [non_refund_0, non_refund_1]\n",
        "df_deposit_type[\"refundable\"] = [refundable_0, refundable_1]\n",
        "df_deposit_type"
      ],
      "execution_count": 72,
      "outputs": [
        {
          "output_type": "execute_result",
          "data": {
            "text/html": [
              "<div>\n",
              "<style scoped>\n",
              "    .dataframe tbody tr th:only-of-type {\n",
              "        vertical-align: middle;\n",
              "    }\n",
              "\n",
              "    .dataframe tbody tr th {\n",
              "        vertical-align: top;\n",
              "    }\n",
              "\n",
              "    .dataframe thead th {\n",
              "        text-align: right;\n",
              "    }\n",
              "</style>\n",
              "<table border=\"1\" class=\"dataframe\">\n",
              "  <thead>\n",
              "    <tr style=\"text-align: right;\">\n",
              "      <th></th>\n",
              "      <th>no_deposit</th>\n",
              "      <th>non_refund</th>\n",
              "      <th>refundable</th>\n",
              "    </tr>\n",
              "  </thead>\n",
              "  <tbody>\n",
              "    <tr>\n",
              "      <th>Not Canceled</th>\n",
              "      <td>63860</td>\n",
              "      <td>81</td>\n",
              "      <td>108</td>\n",
              "    </tr>\n",
              "    <tr>\n",
              "      <th>Canceled</th>\n",
              "      <td>25177</td>\n",
              "      <td>12223</td>\n",
              "      <td>32</td>\n",
              "    </tr>\n",
              "  </tbody>\n",
              "</table>\n",
              "</div>"
            ],
            "text/plain": [
              "              no_deposit  non_refund  refundable\n",
              "Not Canceled       63860          81         108\n",
              "Canceled           25177       12223          32"
            ]
          },
          "metadata": {
            "tags": []
          },
          "execution_count": 72
        }
      ]
    },
    {
      "cell_type": "code",
      "metadata": {
        "pycharm": {
          "name": "#%%\n"
        },
        "colab": {
          "base_uri": "https://localhost:8080/",
          "height": 441
        },
        "id": "iwMWQ-15A39m",
        "outputId": "76f01e7a-612a-4ed9-99e0-3f7c39954289"
      },
      "source": [
        "# pie plot of cancellations according to deposit type\n",
        "cancel_labels = [\"cancelled\", \"not_cancelled\"]\n",
        "fig, dx = plt.subplots(1,3, figsize=(21,6))\n",
        "dx[0].pie(np.array([no_deposit_1, no_deposit_0]), labels=cancel_labels, autopct='%1.1f%%', startangle=90,\n",
        "          colors=['firebrick', 'forestgreen'])\n",
        "dx[0].set_title(\"No Deposit Cancellations\", size=20)\n",
        "dx[1].pie(np.array([non_refund_1, non_refund_0]), labels=cancel_labels, autopct='%1.1f%%', startangle=90,\n",
        "          colors=['firebrick', 'forestgreen'])\n",
        "dx[1].set_title(\"Non Refund Cancellations\", size=20)\n",
        "dx[2].pie(np.array([refundable_1, refundable_0]), labels=cancel_labels, autopct='%1.1f%%', startangle=90,\n",
        "          colors=['firebrick', 'forestgreen'])\n",
        "dx[2].set_title(\"Refundable Cancellations\", size=20)\n",
        "plt.tight_layout()\n",
        "plt.show()"
      ],
      "execution_count": 73,
      "outputs": [
        {
          "output_type": "display_data",
          "data": {
            "image/png": "[encoded data removed]",
            "text/plain": [
              "<Figure size 1512x432 with 3 Axes>"
            ]
          },
          "metadata": {
            "tags": []
          }
        }
      ]
    },
    {
      "cell_type": "markdown",
      "metadata": {
        "collapsed": false,
        "id": "BByTezAFA39m"
      },
      "source": [
        "> #### Observations:\n",
        ">> * The non refund values and graph look a bit off. It almost seems that the values\n",
        ">> for canceled and not canceled were accidentally switched!\n",
        ">> In light of this, it might be better to evaluate the model both with and without this\n",
        ">> feature."
      ]
    },
    {
      "cell_type": "markdown",
      "metadata": {
        "collapsed": false,
        "id": "05-C_AO2A39n"
      },
      "source": [
        "> ### Cancellations According to Country of Origin"
      ]
    },
    {
      "cell_type": "code",
      "metadata": {
        "pycharm": {
          "name": "#%%\n"
        },
        "colab": {
          "base_uri": "https://localhost:8080/"
        },
        "id": "OGAC4KDDA39n",
        "outputId": "3da8beed-8b2e-4d22-9bc1-c9052f81483f"
      },
      "source": [
        "df2[\"country\"].unique().size"
      ],
      "execution_count": 74,
      "outputs": [
        {
          "output_type": "execute_result",
          "data": {
            "text/plain": [
              "175"
            ]
          },
          "metadata": {
            "tags": []
          },
          "execution_count": 74
        }
      ]
    },
    {
      "cell_type": "code",
      "metadata": {
        "pycharm": {
          "name": "#%%\n"
        },
        "colab": {
          "base_uri": "https://localhost:8080/"
        },
        "id": "TwHIbqwhA39n",
        "outputId": "d7b47019-a5a6-4665-cea3-4c27beae137a"
      },
      "source": [
        "canceled[\"country\"].value_counts()"
      ],
      "execution_count": 75,
      "outputs": [
        {
          "output_type": "execute_result",
          "data": {
            "text/plain": [
              "PRT    23227\n",
              "GBR     2069\n",
              "ESP     1832\n",
              "FRA     1658\n",
              "ITA     1148\n",
              "       ...  \n",
              "GNB        1\n",
              "FJI        1\n",
              "CRI        1\n",
              "LIE        1\n",
              "ETH        1\n",
              "Name: country, Length: 125, dtype: int64"
            ]
          },
          "metadata": {
            "tags": []
          },
          "execution_count": 75
        }
      ]
    },
    {
      "cell_type": "code",
      "metadata": {
        "pycharm": {
          "name": "#%%\n"
        },
        "colab": {
          "base_uri": "https://localhost:8080/"
        },
        "id": "n-dTrDMFA39n",
        "outputId": "cd858a7d-8107-418e-ee96-57f742744236"
      },
      "source": [
        "# calculate countries by number of instances that appear in data\n",
        "country_1 = (df2[\"country\"].value_counts() <= 1).sum()\n",
        "country_10 = (df2[\"country\"].value_counts() <= 10).sum()\n",
        "country_50 = (df2[\"country\"].value_counts() <= 50).sum()\n",
        "country_100 = (df2[\"country\"].value_counts() <= 100).sum()\n",
        "country_1000 = (df2[\"country\"].value_counts() <= 1000).sum()\n",
        "\n",
        "print(\"Number of countries with one or less instances:\", country_1,\n",
        "      \"\\nNumber of countries with 10 or less instances:\", country_10,\n",
        "      \"\\nNumber of countries with 50 or less instances:\", country_50,\n",
        "      \"\\nNumber of countries with 100 or less instances:\", country_100,\n",
        "      \"\\nNumber of countries with 1000 or less instances:\", country_1000)"
      ],
      "execution_count": 76,
      "outputs": [
        {
          "output_type": "stream",
          "text": [
            "Number of countries with one or less instances: 33 \n",
            "Number of countries with 10 or less instances: 88 \n",
            "Number of countries with 50 or less instances: 123 \n",
            "Number of countries with 100 or less instances: 139 \n",
            "Number of countries with 1000 or less instances: 161\n"
          ],
          "name": "stdout"
        }
      ]
    },
    {
      "cell_type": "markdown",
      "metadata": {
        "collapsed": false,
        "id": "PsJfk929A39n"
      },
      "source": [
        "> ### Observations:\n",
        ">> * There are 175 unique countries. This indicates that the data is representative\n",
        ">> worldwide, contrary to a specific region.\n",
        ">> * More than half of the instances have 50 or fewer observations in the DataFrame.\n",
        ">> * A model would likely generalize better if we avoid using this column."
      ]
    },
    {
      "cell_type": "markdown",
      "metadata": {
        "collapsed": false,
        "id": "Ldg0cgFVA39n"
      },
      "source": [
        "<a id=\"three\"></a>"
      ]
    },
    {
      "cell_type": "markdown",
      "metadata": {
        "collapsed": false,
        "id": "5jQWm0B1A39o"
      },
      "source": [
        "# 3. Data Cleaning"
      ]
    },
    {
      "cell_type": "code",
      "metadata": {
        "pycharm": {
          "name": "#%%\n"
        },
        "id": "5Z3QyzpCA39o"
      },
      "source": [
        "# clean copy of the training set\n",
        "df3 = train_set.copy()"
      ],
      "execution_count": 77,
      "outputs": []
    },
    {
      "cell_type": "code",
      "metadata": {
        "pycharm": {
          "name": "#%%\n"
        },
        "id": "afICppgHA39o"
      },
      "source": [
        "# custom transformer removes instances with zero guests\n",
        "\n",
        "class RemoveZeroGuests(TransformerMixin):\n",
        "\n",
        "    def fit(self, X, y=None):\n",
        "        return self\n",
        "\n",
        "    def transform(self, X):\n",
        "        XData = X.loc[((X[\"adults\"]) + (X[\"children\"]) + (X[\"babies\"])) > 0]\n",
        "        return XData"
      ],
      "execution_count": 78,
      "outputs": []
    },
    {
      "cell_type": "code",
      "metadata": {
        "pycharm": {
          "name": "#%%\n"
        },
        "colab": {
          "base_uri": "https://localhost:8080/"
        },
        "id": "JLPoMmObA39o",
        "outputId": "e324304a-f04b-4f48-cc37-b41e0400e6e6"
      },
      "source": [
        "df3.shape"
      ],
      "execution_count": 79,
      "outputs": [
        {
          "output_type": "execute_result",
          "data": {
            "text/plain": [
              "(101481, 32)"
            ]
          },
          "metadata": {
            "tags": []
          },
          "execution_count": 79
        }
      ]
    },
    {
      "cell_type": "code",
      "metadata": {
        "pycharm": {
          "name": "#%%\n"
        },
        "id": "uHhpzOoPA39o"
      },
      "source": [
        "# use transformer to remove instances with zero guests stayed\n",
        "df3 = RemoveZeroGuests().fit_transform(df3)"
      ],
      "execution_count": 80,
      "outputs": []
    },
    {
      "cell_type": "code",
      "metadata": {
        "pycharm": {
          "name": "#%%\n"
        },
        "colab": {
          "base_uri": "https://localhost:8080/"
        },
        "id": "ZL7a7hPCA39o",
        "outputId": "a38f2590-2795-492e-e859-1fff5fc13d76"
      },
      "source": [
        "df3.shape"
      ],
      "execution_count": 81,
      "outputs": [
        {
          "output_type": "execute_result",
          "data": {
            "text/plain": [
              "(101327, 32)"
            ]
          },
          "metadata": {
            "tags": []
          },
          "execution_count": 81
        }
      ]
    },
    {
      "cell_type": "code",
      "metadata": {
        "pycharm": {
          "name": "#%%\n"
        },
        "id": "vXHV2k5gA39o"
      },
      "source": [
        "# separate predictors from target values\n",
        "\n",
        "# drop- creates a copy without changing the training set\n",
        "X_train = df3.drop(\"is_canceled\", axis=1)\n",
        "\n",
        "# create a deep copy of the target values\n",
        "y_train = df3[\"is_canceled\"].copy()"
      ],
      "execution_count": 82,
      "outputs": []
    },
    {
      "cell_type": "markdown",
      "metadata": {
        "collapsed": false,
        "id": "_CKBMFSCA39o"
      },
      "source": [
        "> ### Removing the Following Columns:\n",
        ">> #### Numerical Attributes:\n",
        ">> * arrival_date_year: This category references towards certain years. This could be\n",
        ">> problematic for instances during years that do not appear in the training data, or\n",
        ">> perhaps have bias towards certain years specifically due to the unequal amounts of\n",
        ">> observations in the training data.\n",
        ">> * arrival_date_day_of_month: The column arrival date week of month generalizes this.\n",
        ">> * booking_changes: Could change over time, potentially causing data leakage.\n",
        ">> * days_in_waiting_list: Could constantly change over time. Additionally, there are many\n",
        ">> instances. This could prevent the model from generalizing.\n",
        ">> * agent & company: Represented by an ID. These columns are uninformative since they\n",
        ">> contain a substantial amount of various numerical values without having an actual\n",
        ">> numerical meaning. Since other columns (such as market segment) indicate the type of\n",
        ">> reservation, these columns won't be needed.\n",
        ">>\n",
        ">> #### Categorical Attributes:\n",
        ">> * country: There are many categories, most with few instances. In order to make a model\n",
        ">> that generalizes, it is better to dismiss this category.\n",
        ">> * assigned_room_type: Similar to reserved_room_type and seems like the reserved room is\n",
        ">> a more suitable choice.\n",
        ">> * reservation_status: Major data leakage! The categories are Check-Out, Canceled and No-Show.\n",
        ">> This is exactly what we are trying to predict.\n",
        ">> * reservation_status_date: This is the date when the reservation status was last changed,\n",
        ">> and therefore is irrelevant."
      ]
    },
    {
      "cell_type": "code",
      "metadata": {
        "pycharm": {
          "name": "#%%\n"
        },
        "id": "Lij6Ht_TA39p"
      },
      "source": [
        "num_features = [\"lead_time\", \"stays_in_weekend_nights\", \"stays_in_week_nights\", \"adults\", \"children\", \"babies\",\n",
        "                \"is_repeated_guest\", \"previous_cancellations\", \"previous_bookings_not_canceled\", \"adr\",\n",
        "                \"required_car_parking_spaces\", \"total_of_special_requests\"]\n",
        "\n",
        "cat_features = [\"hotel\", \"arrival_date_month\", \"arrival_date_week_number\", \"meal\", \"market_segment\",\n",
        "                \"distribution_channel\", \"reserved_room_type\", \"deposit_type\", \"customer_type\"]"
      ],
      "execution_count": 83,
      "outputs": []
    },
    {
      "cell_type": "code",
      "metadata": {
        "pycharm": {
          "name": "#%%\n"
        },
        "id": "nVP392SoA39p"
      },
      "source": [
        "# Undefined/SC both represent no meal package and can be combined\n",
        "\n",
        "class ReplaceMeal(TransformerMixin):\n",
        "\n",
        "    def fit(self,X, y=None):\n",
        "        return self\n",
        "\n",
        "    def transform(self, X):\n",
        "        XData = X.copy()\n",
        "        XData[\"meal\"].replace(\"Undefined\", \"SC\", inplace=True)\n",
        "        return XData"
      ],
      "execution_count": 84,
      "outputs": []
    },
    {
      "cell_type": "code",
      "metadata": {
        "pycharm": {
          "name": "#%%\n"
        },
        "id": "AP7zOuWtA39p"
      },
      "source": [
        "# SimpleImputer constant default fills values with zero\n",
        "# MinMaxScaler normalizes data (rescales between 0-1)\n",
        "num_pipeline = Pipeline([\n",
        "    (\"imputer\", SimpleImputer(strategy=\"constant\")),\n",
        "    (\"min_max\", MinMaxScaler())\n",
        "])"
      ],
      "execution_count": 85,
      "outputs": []
    },
    {
      "cell_type": "code",
      "metadata": {
        "pycharm": {
          "name": "#%%\n"
        },
        "id": "WKzQfa4qA39p"
      },
      "source": [
        "# SimpleImputer fills missing values with 'Unknown'\n",
        "# OneHotEncoder converts categories to a numeric dummy array\n",
        "# (one binary attribute per category)\n",
        "cat_pipeline = Pipeline([\n",
        "    (\"meal\", ReplaceMeal()),\n",
        "    (\"imputer\", SimpleImputer(strategy=\"constant\", fill_value=\"Unknown\")),\n",
        "    (\"one_hot\", OneHotEncoder(handle_unknown=\"ignore\"))\n",
        "])"
      ],
      "execution_count": 86,
      "outputs": []
    },
    {
      "cell_type": "code",
      "metadata": {
        "pycharm": {
          "name": "#%%\n"
        },
        "id": "hJVDqQWoA39p"
      },
      "source": [
        "# column transformer:\n",
        "# features generated by each transformer will be concatenated to form a single feature space\n",
        "# columns of the original feature matrix that are not specified are dropped\n",
        "full_pipeline = ColumnTransformer([\n",
        "    (\"numerical\", num_pipeline, num_features),\n",
        "    (\"categorical\", cat_pipeline, cat_features)\n",
        "])"
      ],
      "execution_count": 87,
      "outputs": []
    },
    {
      "cell_type": "code",
      "metadata": {
        "pycharm": {
          "name": "#%%\n"
        },
        "id": "hI7_ehOBA39p"
      },
      "source": [
        "# transform training data using pipeline\n",
        "X_train_prepared = full_pipeline.fit_transform(X_train)\n",
        "\n",
        "# transform training data without fit for testing\n",
        "X_tr_testing = full_pipeline.transform(X_train)"
      ],
      "execution_count": 88,
      "outputs": []
    },
    {
      "cell_type": "markdown",
      "metadata": {
        "collapsed": false,
        "id": "NPKwoEcAA39p"
      },
      "source": [
        "<a id=\"four\"></a>"
      ]
    },
    {
      "cell_type": "markdown",
      "metadata": {
        "collapsed": false,
        "id": "2wkVrGSLA39q"
      },
      "source": [
        "# 4. Training and Evaluating Models"
      ]
    },
    {
      "cell_type": "markdown",
      "metadata": {
        "collapsed": false,
        "id": "q1czOM1qA39q"
      },
      "source": [
        "> Accuracy is less relevant for an imbalanced classification problem.\n",
        "> Evaluating by a metric that represents the data better is important.\n",
        ">\n",
        "> Chosen evaluation metric:\n",
        ">\n",
        "> The F1 Score is calculated by using precision (the accuracy of the positive predictions) and\n",
        "> recall (the ratio of positive instances correctly classified) accuracy.\n",
        "> This metric gives a higher value towards false positives rather than false negatives."
      ]
    },
    {
      "cell_type": "code",
      "metadata": {
        "pycharm": {
          "name": "#%%\n"
        },
        "id": "pRdUh_wHA39q"
      },
      "source": [
        "# function prints scores\n",
        "def display_evaluation(actual, pred):\n",
        "    print(\"Confusion Matrix:\\n\", metrics.confusion_matrix(actual, pred), \"\\n\")\n",
        "    print(\"Classification Report:\\n\", metrics.classification_report(actual, pred))"
      ],
      "execution_count": 89,
      "outputs": []
    },
    {
      "cell_type": "markdown",
      "metadata": {
        "collapsed": false,
        "id": "ikzBDxrgA39q"
      },
      "source": [
        "#### Model 1: KNN"
      ]
    },
    {
      "cell_type": "code",
      "metadata": {
        "pycharm": {
          "name": "#%%\n"
        },
        "id": "2dhBsgYqA39q"
      },
      "source": [
        "# instantiate classifier\n",
        "# default k=5\n",
        "knn = KNeighborsClassifier()"
      ],
      "execution_count": 90,
      "outputs": []
    },
    {
      "cell_type": "code",
      "metadata": {
        "pycharm": {
          "name": "#%%\n"
        },
        "colab": {
          "base_uri": "https://localhost:8080/"
        },
        "id": "eUYKdb_KA39q",
        "outputId": "a6a5f981-b515-4fe3-aaa8-251dfaf7a357"
      },
      "source": [
        "# fit the training set\n",
        "knn.fit(X_train_prepared, y_train)"
      ],
      "execution_count": 91,
      "outputs": [
        {
          "output_type": "execute_result",
          "data": {
            "text/plain": [
              "KNeighborsClassifier(algorithm='auto', leaf_size=30, metric='minkowski',\n",
              "                     metric_params=None, n_jobs=None, n_neighbors=5, p=2,\n",
              "                     weights='uniform')"
            ]
          },
          "metadata": {
            "tags": []
          },
          "execution_count": 91
        }
      ]
    },
    {
      "cell_type": "code",
      "metadata": {
        "pycharm": {
          "name": "#%%\n"
        },
        "colab": {
          "base_uri": "https://localhost:8080/"
        },
        "id": "x6ow0CtDA39q",
        "outputId": "a00c8722-7dd8-459b-a051-92662387bd5c"
      },
      "source": [
        "# test on a few instances from training data\n",
        "some_data = X_train.iloc[:10]\n",
        "some_labels = y_train.iloc[:10]\n",
        "some_data_prepared = full_pipeline.transform(some_data)\n",
        "print(\"Predictions:\", knn.predict(some_data_prepared))\n",
        "print(\"Labels:\", list(some_labels))"
      ],
      "execution_count": 92,
      "outputs": [
        {
          "output_type": "stream",
          "text": [
            "Predictions: [0 0 0 0 0 1 0 1 0 0]\n",
            "Labels: [0, 0, 0, 0, 0, 0, 1, 1, 1, 0]\n"
          ],
          "name": "stdout"
        }
      ]
    },
    {
      "cell_type": "code",
      "metadata": {
        "pycharm": {
          "name": "#%%\n"
        },
        "id": "ZVytXIwoA39q"
      },
      "source": [
        "# predict using the training data\n",
        "knn_pred = knn.predict(X_tr_testing)"
      ],
      "execution_count": 93,
      "outputs": []
    },
    {
      "cell_type": "code",
      "metadata": {
        "pycharm": {
          "name": "#%%\n"
        },
        "colab": {
          "base_uri": "https://localhost:8080/"
        },
        "id": "UiJPtLo8A39r",
        "outputId": "00d94594-22c1-43c8-d9cb-aef60802fe2c"
      },
      "source": [
        "# use function to show results\n",
        "display_evaluation(y_train, knn_pred)"
      ],
      "execution_count": 94,
      "outputs": [
        {
          "output_type": "stream",
          "text": [
            "Confusion Matrix:\n",
            " [[58977  4943]\n",
            " [ 8765 28642]] \n",
            "\n",
            "Classification Report:\n",
            "               precision    recall  f1-score   support\n",
            "\n",
            "           0       0.87      0.92      0.90     63920\n",
            "           1       0.85      0.77      0.81     37407\n",
            "\n",
            "    accuracy                           0.86    101327\n",
            "   macro avg       0.86      0.84      0.85    101327\n",
            "weighted avg       0.86      0.86      0.86    101327\n",
            "\n"
          ],
          "name": "stdout"
        }
      ]
    },
    {
      "cell_type": "markdown",
      "metadata": {
        "collapsed": false,
        "id": "zfaigObcA39r"
      },
      "source": [
        "#### Model 2: KNN"
      ]
    },
    {
      "cell_type": "code",
      "metadata": {
        "pycharm": {
          "name": "#%%\n"
        },
        "id": "ljW3VtQmA39r"
      },
      "source": [
        "# instantiate KNN model using distance instead of uniform\n",
        "# distance means closer instances have a larger weight\n",
        "# uniform weighs all instances equally\n",
        "# default k=5\n",
        "knn = KNeighborsClassifier(weights=\"distance\")"
      ],
      "execution_count": 95,
      "outputs": []
    },
    {
      "cell_type": "code",
      "metadata": {
        "pycharm": {
          "name": "#%%\n"
        },
        "colab": {
          "base_uri": "https://localhost:8080/"
        },
        "id": "LHpDCSJfA39r",
        "outputId": "4dba752e-d645-47fc-84ae-417b6ddc5a07"
      },
      "source": [
        "# fit the training set\n",
        "knn.fit(X_train_prepared, y_train)"
      ],
      "execution_count": 96,
      "outputs": [
        {
          "output_type": "execute_result",
          "data": {
            "text/plain": [
              "KNeighborsClassifier(algorithm='auto', leaf_size=30, metric='minkowski',\n",
              "                     metric_params=None, n_jobs=None, n_neighbors=5, p=2,\n",
              "                     weights='distance')"
            ]
          },
          "metadata": {
            "tags": []
          },
          "execution_count": 96
        }
      ]
    },
    {
      "cell_type": "code",
      "metadata": {
        "pycharm": {
          "name": "#%%\n"
        },
        "colab": {
          "base_uri": "https://localhost:8080/"
        },
        "id": "2i0MTx3eA39r",
        "outputId": "f3a73a34-224a-4fe2-abb6-e2357bd67334"
      },
      "source": [
        "# test on a few instances from training data\n",
        "some_data = X_train.iloc[:10]\n",
        "some_labels = y_train.iloc[:10]\n",
        "some_data_prepared = full_pipeline.transform(some_data)\n",
        "print(\"Predictions:\", knn.predict(some_data_prepared))\n",
        "print(\"Labels:\", list(some_labels))"
      ],
      "execution_count": 97,
      "outputs": [
        {
          "output_type": "stream",
          "text": [
            "Predictions: [0 0 0 0 0 0 1 1 1 0]\n",
            "Labels: [0, 0, 0, 0, 0, 0, 1, 1, 1, 0]\n"
          ],
          "name": "stdout"
        }
      ]
    },
    {
      "cell_type": "code",
      "metadata": {
        "pycharm": {
          "name": "#%%\n"
        },
        "id": "NC5EDBz6A39r"
      },
      "source": [
        "# predict using the training data\n",
        "knn_pred_2 = knn.predict(X_tr_testing)"
      ],
      "execution_count": 98,
      "outputs": []
    },
    {
      "cell_type": "code",
      "metadata": {
        "pycharm": {
          "name": "#%%\n"
        },
        "colab": {
          "base_uri": "https://localhost:8080/"
        },
        "id": "_27GXWPVA39r",
        "outputId": "75237c7b-e147-4f28-c055-c8555c374ab4"
      },
      "source": [
        "# use function to show results\n",
        "display_evaluation(y_train, knn_pred_2)"
      ],
      "execution_count": 99,
      "outputs": [
        {
          "output_type": "stream",
          "text": [
            "Confusion Matrix:\n",
            " [[63548   372]\n",
            " [  689 36718]] \n",
            "\n",
            "Classification Report:\n",
            "               precision    recall  f1-score   support\n",
            "\n",
            "           0       0.99      0.99      0.99     63920\n",
            "           1       0.99      0.98      0.99     37407\n",
            "\n",
            "    accuracy                           0.99    101327\n",
            "   macro avg       0.99      0.99      0.99    101327\n",
            "weighted avg       0.99      0.99      0.99    101327\n",
            "\n"
          ],
          "name": "stdout"
        }
      ]
    },
    {
      "cell_type": "markdown",
      "metadata": {
        "collapsed": false,
        "id": "51qh1wbMA39r"
      },
      "source": [
        "> So far, the performance of the KNN model using distance weights instead of uniform\n",
        "> drastically improved the results."
      ]
    },
    {
      "cell_type": "markdown",
      "metadata": {
        "collapsed": false,
        "id": "UzTusNolA39s"
      },
      "source": [
        "#### Model 3: Random Forest Classifier"
      ]
    },
    {
      "cell_type": "markdown",
      "metadata": {
        "collapsed": false,
        "id": "dQdrEpY8A39s"
      },
      "source": [
        "> ### What is the Random Forest Classification Model?\n",
        "\n",
        "Forests are based on multiple decision trees, so it is vital to first understand how decision\n",
        "trees work.\n",
        "\n",
        "A decision tree is a non-linear model built by constructing many linear boundaries.\n",
        "The tree works as a sequence of yes or no, true or false questions that progress down\n",
        "the tree until reaching a predicted class. The data is split into nodes based on\n",
        "feature values. This model is good for occasions when there is no single linear line that\n",
        "can divide the data. Gini Impurity of a node represents the probability that a randomly chosen\n",
        "sample would be incorrectly classified, so the goal is to reduce this as much as possible.\n",
        "\n",
        "Using a single decision tree could cause overfitting of the training data. For example,\n",
        "a decision tree could create a leaf node (the predicted class) for each instance.\n",
        "Using a forest could help generalize better to new data. The random forest model\n",
        "samples random points and subsets of features when training. Then, the predictions are made\n",
        "by averaging the predictions made by each decision tree."
      ]
    },
    {
      "cell_type": "code",
      "metadata": {
        "pycharm": {
          "name": "#%%\n"
        },
        "id": "NzLlJG-WA39s"
      },
      "source": [
        "# max features default is sqrt (number of features selected per split)\n",
        "# bootstrap default is true (resampling data true)\n",
        "# n estimators default is 100 (number of decision tree classifiers)\n",
        "rf_clf = RandomForestClassifier(random_state=42, n_jobs=-1)"
      ],
      "execution_count": 100,
      "outputs": []
    },
    {
      "cell_type": "code",
      "metadata": {
        "pycharm": {
          "name": "#%%\n"
        },
        "colab": {
          "base_uri": "https://localhost:8080/"
        },
        "id": "l4vsHL2iA39s",
        "outputId": "90d06dde-1498-403e-996b-0842e3fe283e"
      },
      "source": [
        "# fit the training set\n",
        "rf_clf.fit(X_train_prepared, y_train)"
      ],
      "execution_count": 101,
      "outputs": [
        {
          "output_type": "execute_result",
          "data": {
            "text/plain": [
              "RandomForestClassifier(bootstrap=True, ccp_alpha=0.0, class_weight=None,\n",
              "                       criterion='gini', max_depth=None, max_features='auto',\n",
              "                       max_leaf_nodes=None, max_samples=None,\n",
              "                       min_impurity_decrease=0.0, min_impurity_split=None,\n",
              "                       min_samples_leaf=1, min_samples_split=2,\n",
              "                       min_weight_fraction_leaf=0.0, n_estimators=100,\n",
              "                       n_jobs=-1, oob_score=False, random_state=42, verbose=0,\n",
              "                       warm_start=False)"
            ]
          },
          "metadata": {
            "tags": []
          },
          "execution_count": 101
        }
      ]
    },
    {
      "cell_type": "code",
      "metadata": {
        "pycharm": {
          "name": "#%%\n"
        },
        "colab": {
          "base_uri": "https://localhost:8080/"
        },
        "id": "D2JichHtA39s",
        "outputId": "3e4c0bf9-8962-479c-d69d-25ae1bea9531"
      },
      "source": [
        "# test on a few instances from training data\n",
        "some_data = X_train.iloc[:10]\n",
        "some_labels = y_train.iloc[:10]\n",
        "some_data_prepared = full_pipeline.transform(some_data)\n",
        "print(\"Predictions:\", rf_clf.predict(some_data_prepared))\n",
        "print(\"Labels:\", list(some_labels))"
      ],
      "execution_count": 102,
      "outputs": [
        {
          "output_type": "stream",
          "text": [
            "Predictions: [0 0 0 0 0 0 1 1 1 0]\n",
            "Labels: [0, 0, 0, 0, 0, 0, 1, 1, 1, 0]\n"
          ],
          "name": "stdout"
        }
      ]
    },
    {
      "cell_type": "code",
      "metadata": {
        "pycharm": {
          "name": "#%%\n"
        },
        "id": "8wBdYb8gA39s"
      },
      "source": [
        "# predict using the training data\n",
        "rf_pred = rf_clf.predict(X_tr_testing)"
      ],
      "execution_count": 103,
      "outputs": []
    },
    {
      "cell_type": "code",
      "metadata": {
        "pycharm": {
          "name": "#%%\n"
        },
        "colab": {
          "base_uri": "https://localhost:8080/"
        },
        "id": "1_PjTKH7A39s",
        "outputId": "0aa29be7-1755-4c6a-e8d2-30c6089fe547"
      },
      "source": [
        "# use function to show results\n",
        "print(display_evaluation(y_train, rf_pred))"
      ],
      "execution_count": 104,
      "outputs": [
        {
          "output_type": "stream",
          "text": [
            "Confusion Matrix:\n",
            " [[63607   313]\n",
            " [  682 36725]] \n",
            "\n",
            "Classification Report:\n",
            "               precision    recall  f1-score   support\n",
            "\n",
            "           0       0.99      1.00      0.99     63920\n",
            "           1       0.99      0.98      0.99     37407\n",
            "\n",
            "    accuracy                           0.99    101327\n",
            "   macro avg       0.99      0.99      0.99    101327\n",
            "weighted avg       0.99      0.99      0.99    101327\n",
            "\n",
            "None\n"
          ],
          "name": "stdout"
        }
      ]
    },
    {
      "cell_type": "markdown",
      "metadata": {
        "collapsed": false,
        "id": "XNa6HprJA39t"
      },
      "source": [
        "> The Random Forest Classification model performed slightly better than the second\n",
        "> KNN model. The next step is to find the hyperparameters\n",
        "> that provide the best results.\n",
        ">\n",
        "> Since the dataset is rather large, and it would take a long time\n",
        "> to run all estimators, using randomized search cv is the ideal\n",
        "> option. The size of the dataset is also the reason I have neglected\n",
        "> randomized search for the KNN model.\n",
        ">\n",
        "> The randomized search runs an amount of iterations specified\n",
        "> and tries random combinations of the attributes listed."
      ]
    },
    {
      "cell_type": "markdown",
      "metadata": {
        "collapsed": false,
        "id": "-Dygu3U5A39t"
      },
      "source": [
        "#### Random Search Cross Validation 1"
      ]
    },
    {
      "cell_type": "code",
      "metadata": {
        "pycharm": {
          "name": "#%%\n"
        },
        "id": "yfIMUE1gA39t"
      },
      "source": [
        "# parameters for random search\n",
        "param_dist_rf = [{\"n_estimators\": [10, 50, 100, 500], \"max_features\": [\"sqrt\", 8, 16], \"bootstrap\": [True, False]}]"
      ],
      "execution_count": 105,
      "outputs": []
    },
    {
      "cell_type": "code",
      "metadata": {
        "pycharm": {
          "name": "#%%\n"
        },
        "id": "Sfpqz5AZA39t"
      },
      "source": [
        "# instantiate randomized search\n",
        "rf_cv = RandomizedSearchCV(rf_clf, param_dist_rf, n_iter=10, random_state=42, cv=5, scoring=\"f1\")"
      ],
      "execution_count": 106,
      "outputs": []
    },
    {
      "cell_type": "code",
      "metadata": {
        "pycharm": {
          "name": "#%%\n"
        },
        "colab": {
          "base_uri": "https://localhost:8080/"
        },
        "id": "iHOZlATKA39t",
        "outputId": "14e06890-519b-494c-b68a-fc078231a63f"
      },
      "source": [
        "# fit the training set\n",
        "rf_cv.fit(X_train_prepared, y_train)"
      ],
      "execution_count": 107,
      "outputs": [
        {
          "output_type": "execute_result",
          "data": {
            "text/plain": [
              "RandomizedSearchCV(cv=5, error_score=nan,\n",
              "                   estimator=RandomForestClassifier(bootstrap=True,\n",
              "                                                    ccp_alpha=0.0,\n",
              "                                                    class_weight=None,\n",
              "                                                    criterion='gini',\n",
              "                                                    max_depth=None,\n",
              "                                                    max_features='auto',\n",
              "                                                    max_leaf_nodes=None,\n",
              "                                                    max_samples=None,\n",
              "                                                    min_impurity_decrease=0.0,\n",
              "                                                    min_impurity_split=None,\n",
              "                                                    min_samples_leaf=1,\n",
              "                                                    min_samples_split=2,\n",
              "                                                    min_weight_fraction_leaf=0.0,\n",
              "                                                    n_estimators=100, n_jobs=-1,\n",
              "                                                    oob_score=False,\n",
              "                                                    random_state=42, verbose=0,\n",
              "                                                    warm_start=False),\n",
              "                   iid='deprecated', n_iter=10, n_jobs=None,\n",
              "                   param_distributions=[{'bootstrap': [True, False],\n",
              "                                         'max_features': ['sqrt', 8, 16],\n",
              "                                         'n_estimators': [10, 50, 100, 500]}],\n",
              "                   pre_dispatch='2*n_jobs', random_state=42, refit=True,\n",
              "                   return_train_score=False, scoring='f1', verbose=0)"
            ]
          },
          "metadata": {
            "tags": []
          },
          "execution_count": 107
        }
      ]
    },
    {
      "cell_type": "code",
      "metadata": {
        "pycharm": {
          "name": "#%%\n"
        },
        "colab": {
          "base_uri": "https://localhost:8080/"
        },
        "id": "cGK4eSMOA39t",
        "outputId": "8bf43aef-0ab6-484a-dbcb-f3914565d5c6"
      },
      "source": [
        "# show the best score\n",
        "rf_cv.best_score_"
      ],
      "execution_count": 108,
      "outputs": [
        {
          "output_type": "execute_result",
          "data": {
            "text/plain": [
              "0.7991628082032618"
            ]
          },
          "metadata": {
            "tags": []
          },
          "execution_count": 108
        }
      ]
    },
    {
      "cell_type": "code",
      "metadata": {
        "pycharm": {
          "name": "#%%\n"
        },
        "colab": {
          "base_uri": "https://localhost:8080/"
        },
        "id": "Svh3ZXguA39t",
        "outputId": "affcfc4b-1c13-4770-c685-e966e88ff4f6"
      },
      "source": [
        "# show the best estimator parameters\n",
        "rf_clf = rf_cv.best_estimator_\n",
        "rf_clf"
      ],
      "execution_count": 109,
      "outputs": [
        {
          "output_type": "execute_result",
          "data": {
            "text/plain": [
              "RandomForestClassifier(bootstrap=True, ccp_alpha=0.0, class_weight=None,\n",
              "                       criterion='gini', max_depth=None, max_features=16,\n",
              "                       max_leaf_nodes=None, max_samples=None,\n",
              "                       min_impurity_decrease=0.0, min_impurity_split=None,\n",
              "                       min_samples_leaf=1, min_samples_split=2,\n",
              "                       min_weight_fraction_leaf=0.0, n_estimators=500,\n",
              "                       n_jobs=-1, oob_score=False, random_state=42, verbose=0,\n",
              "                       warm_start=False)"
            ]
          },
          "metadata": {
            "tags": []
          },
          "execution_count": 109
        }
      ]
    },
    {
      "cell_type": "code",
      "metadata": {
        "pycharm": {
          "name": "#%%\n"
        },
        "colab": {
          "base_uri": "https://localhost:8080/"
        },
        "id": "cKyfLVTdA39t",
        "outputId": "8ae568f6-fae5-4a35-c879-1b4e0a360f76"
      },
      "source": [
        "# show results for each iteration\n",
        "cvres = rf_cv.cv_results_\n",
        "for mean_score, params in zip(cvres[\"mean_test_score\"], cvres[\"params\"]):\n",
        "    print(mean_score, params)"
      ],
      "execution_count": 110,
      "outputs": [
        {
          "output_type": "stream",
          "text": [
            "0.7807288970906722 {'n_estimators': 10, 'max_features': 16, 'bootstrap': True}\n",
            "0.7788962647324669 {'n_estimators': 10, 'max_features': 8, 'bootstrap': False}\n",
            "0.7786695963841325 {'n_estimators': 10, 'max_features': 'sqrt', 'bootstrap': True}\n",
            "0.789199258156148 {'n_estimators': 100, 'max_features': 8, 'bootstrap': False}\n",
            "0.7991628082032618 {'n_estimators': 500, 'max_features': 16, 'bootstrap': True}\n",
            "0.7960544128412383 {'n_estimators': 50, 'max_features': 16, 'bootstrap': True}\n",
            "0.7899554974631137 {'n_estimators': 50, 'max_features': 'sqrt', 'bootstrap': False}\n",
            "0.7927899092347352 {'n_estimators': 50, 'max_features': 'sqrt', 'bootstrap': True}\n",
            "0.7933702855207556 {'n_estimators': 50, 'max_features': 16, 'bootstrap': False}\n",
            "0.7907350930486216 {'n_estimators': 50, 'max_features': 8, 'bootstrap': True}\n"
          ],
          "name": "stdout"
        }
      ]
    },
    {
      "cell_type": "markdown",
      "metadata": {
        "collapsed": false,
        "id": "AAoEPMgHA39u"
      },
      "source": [
        "#### Model 4: Random Forest Classifier"
      ]
    },
    {
      "cell_type": "code",
      "metadata": {
        "pycharm": {
          "name": "#%%\n"
        },
        "id": "PnKHBQnjA39u"
      },
      "source": [
        "# predict using training data\n",
        "rf_pred_2 = rf_clf.predict(X_tr_testing)"
      ],
      "execution_count": 111,
      "outputs": []
    },
    {
      "cell_type": "code",
      "metadata": {
        "pycharm": {
          "name": "#%%\n"
        },
        "colab": {
          "base_uri": "https://localhost:8080/"
        },
        "id": "XIwIcUlBA39u",
        "outputId": "bbeb9ff2-1809-4a59-9686-e86b327b0f1e"
      },
      "source": [
        "# display evaluation scores\n",
        "display_evaluation(y_train, rf_pred_2)"
      ],
      "execution_count": 112,
      "outputs": [
        {
          "output_type": "stream",
          "text": [
            "Confusion Matrix:\n",
            " [[63624   296]\n",
            " [  697 36710]] \n",
            "\n",
            "Classification Report:\n",
            "               precision    recall  f1-score   support\n",
            "\n",
            "           0       0.99      1.00      0.99     63920\n",
            "           1       0.99      0.98      0.99     37407\n",
            "\n",
            "    accuracy                           0.99    101327\n",
            "   macro avg       0.99      0.99      0.99    101327\n",
            "weighted avg       0.99      0.99      0.99    101327\n",
            "\n"
          ],
          "name": "stdout"
        }
      ]
    },
    {
      "cell_type": "markdown",
      "metadata": {
        "collapsed": false,
        "id": "xmgCc2eFA39u"
      },
      "source": [
        "#### Feature Importance"
      ]
    },
    {
      "cell_type": "code",
      "metadata": {
        "pycharm": {
          "name": "#%%\n"
        },
        "colab": {
          "base_uri": "https://localhost:8080/"
        },
        "id": "-TuNTuk3A39u",
        "outputId": "43b7fd54-f8c6-4764-f34f-ba1a20518cd8"
      },
      "source": [
        "# pair the feature names with the results from randomized search\n",
        "feature_importance = rf_cv.best_estimator_.feature_importances_\n",
        "features = num_features+cat_features\n",
        "sorted(zip(feature_importance,features), reverse=True)"
      ],
      "execution_count": 113,
      "outputs": [
        {
          "output_type": "execute_result",
          "data": {
            "text/plain": [
              "[(0.16118362429277072, 'lead_time'),\n",
              " (0.11086779060263112, 'adr'),\n",
              " (0.0599602778426879, 'total_of_special_requests'),\n",
              " (0.05056320624761356, 'stays_in_week_nights'),\n",
              " (0.03957611116006944, 'previous_cancellations'),\n",
              " (0.03281066695110617, 'stays_in_weekend_nights'),\n",
              " (0.022474263702596767, 'required_car_parking_spaces'),\n",
              " (0.017276395063004255, 'adults'),\n",
              " (0.00740954216206894, 'children'),\n",
              " (0.006787490796244419, 'hotel'),\n",
              " (0.006247423364587789, 'arrival_date_month'),\n",
              " (0.0050279961594726945, 'deposit_type'),\n",
              " (0.004610996180061733, 'meal'),\n",
              " (0.004503642204425172, 'customer_type'),\n",
              " (0.004460744145312597, 'arrival_date_week_number'),\n",
              " (0.003953187308655435, 'previous_bookings_not_canceled'),\n",
              " (0.0035960665798245293, 'distribution_channel'),\n",
              " (0.0031149369629089115, 'market_segment'),\n",
              " (0.002602523363804602, 'reserved_room_type'),\n",
              " (0.002209948979420808, 'is_repeated_guest'),\n",
              " (0.0011738575904849042, 'babies')]"
            ]
          },
          "metadata": {
            "tags": []
          },
          "execution_count": 113
        }
      ]
    },
    {
      "cell_type": "markdown",
      "metadata": {
        "collapsed": false,
        "id": "K9LOQpZ9A39u"
      },
      "source": [
        "> Deposit type is pretty high on the list which raises speculation. As seen earlier,\n",
        "> the cancellation rate was nearly 100% in the category Non Refund.\n",
        "> Lets train a model without this feature.\n",
        ">\n",
        "> Additionally, lets train a model without the parameters that have less\n",
        "> than 0.005 feature importance. If the training error is nearly the\n",
        "> same when using fewer features, it might be more efficient to\n",
        "> train a model without them."
      ]
    },
    {
      "cell_type": "code",
      "metadata": {
        "pycharm": {
          "name": "#%%\n"
        },
        "id": "_dTm5msqA39u"
      },
      "source": [
        "# features left\n",
        "\n",
        "num_features_2 = [\"lead_time\", \"stays_in_weekend_nights\", \"stays_in_week_nights\", \"adults\", \"children\",\n",
        "                  \"previous_cancellations\", \"adr\", \"required_car_parking_spaces\", \"total_of_special_requests\"]\n",
        "\n",
        "cat_features_2 = [\"hotel\", \"arrival_date_month\"]\n",
        "\n",
        "\n",
        "# category pipeline without meal transformer\n",
        "cat_pipeline_2 = Pipeline([\n",
        "    (\"imputer\", SimpleImputer(strategy=\"constant\", fill_value=\"Unknown\")),\n",
        "    (\"one_hot\", OneHotEncoder(handle_unknown=\"ignore\"))\n",
        "])\n",
        "\n",
        "# pipeline with new features\n",
        "full_pipeline_2 = ColumnTransformer([\n",
        "    (\"numerical\", num_pipeline, num_features_2),\n",
        "    (\"categorical\", cat_pipeline_2, cat_features_2)\n",
        "])"
      ],
      "execution_count": 114,
      "outputs": []
    },
    {
      "cell_type": "code",
      "metadata": {
        "pycharm": {
          "name": "#%%\n"
        },
        "id": "zYTfKZ0fA39v"
      },
      "source": [
        "# transform data with new pipeline\n",
        "X_train_prepared_2 = full_pipeline_2.fit_transform(X_train)\n",
        "X_tr_testing_2 = full_pipeline_2.transform(X_train)"
      ],
      "execution_count": 115,
      "outputs": []
    },
    {
      "cell_type": "markdown",
      "metadata": {
        "collapsed": false,
        "id": "XwunxsaFA39v"
      },
      "source": [
        "#### Model 5: Random Forest Classifier"
      ]
    },
    {
      "cell_type": "code",
      "metadata": {
        "pycharm": {
          "name": "#%%\n"
        },
        "id": "slu18BV9A39v"
      },
      "source": [
        "# instantiate model\n",
        "rf_clf_2 = RandomForestClassifier(random_state=42, n_jobs=-1)"
      ],
      "execution_count": 116,
      "outputs": []
    },
    {
      "cell_type": "code",
      "metadata": {
        "pycharm": {
          "name": "#%%\n"
        },
        "colab": {
          "base_uri": "https://localhost:8080/"
        },
        "id": "HwAUUCyUA39v",
        "outputId": "38908917-2397-4d05-9496-c9365d5a4831"
      },
      "source": [
        "# fit the training set\n",
        "rf_clf_2.fit(X_train_prepared_2, y_train)"
      ],
      "execution_count": 117,
      "outputs": [
        {
          "output_type": "execute_result",
          "data": {
            "text/plain": [
              "RandomForestClassifier(bootstrap=True, ccp_alpha=0.0, class_weight=None,\n",
              "                       criterion='gini', max_depth=None, max_features='auto',\n",
              "                       max_leaf_nodes=None, max_samples=None,\n",
              "                       min_impurity_decrease=0.0, min_impurity_split=None,\n",
              "                       min_samples_leaf=1, min_samples_split=2,\n",
              "                       min_weight_fraction_leaf=0.0, n_estimators=100,\n",
              "                       n_jobs=-1, oob_score=False, random_state=42, verbose=0,\n",
              "                       warm_start=False)"
            ]
          },
          "metadata": {
            "tags": []
          },
          "execution_count": 117
        }
      ]
    },
    {
      "cell_type": "code",
      "metadata": {
        "pycharm": {
          "name": "#%%\n"
        },
        "id": "BkVjaSWjA39v"
      },
      "source": [
        "# predictions on training data\n",
        "rf_pred_3 = rf_clf_2.predict(X_tr_testing_2)"
      ],
      "execution_count": 118,
      "outputs": []
    },
    {
      "cell_type": "code",
      "metadata": {
        "pycharm": {
          "name": "#%%\n"
        },
        "colab": {
          "base_uri": "https://localhost:8080/"
        },
        "id": "pRkXxV7tA39v",
        "outputId": "eabf07ee-6b40-4471-d716-458927b93e40"
      },
      "source": [
        "# display evaluation scores\n",
        "display_evaluation(y_train, rf_pred_3)"
      ],
      "execution_count": 119,
      "outputs": [
        {
          "output_type": "stream",
          "text": [
            "Confusion Matrix:\n",
            " [[63512   408]\n",
            " [  895 36512]] \n",
            "\n",
            "Classification Report:\n",
            "               precision    recall  f1-score   support\n",
            "\n",
            "           0       0.99      0.99      0.99     63920\n",
            "           1       0.99      0.98      0.98     37407\n",
            "\n",
            "    accuracy                           0.99    101327\n",
            "   macro avg       0.99      0.98      0.99    101327\n",
            "weighted avg       0.99      0.99      0.99    101327\n",
            "\n"
          ],
          "name": "stdout"
        }
      ]
    },
    {
      "cell_type": "markdown",
      "metadata": {
        "collapsed": false,
        "id": "MZmCahGjA39v"
      },
      "source": [
        "#### Random Search Cross Validation 2"
      ]
    },
    {
      "cell_type": "code",
      "metadata": {
        "pycharm": {
          "name": "#%%\n"
        },
        "id": "MuzmmmivA39v"
      },
      "source": [
        "# parameters for random search\n",
        "param_dist = [{\"n_estimators\": [10, 50, 100, 500], \"max_features\": [4, 8, 16], \"bootstrap\": [True, False]}]"
      ],
      "execution_count": 120,
      "outputs": []
    },
    {
      "cell_type": "code",
      "metadata": {
        "pycharm": {
          "name": "#%%\n"
        },
        "id": "UpfnheHHA39w"
      },
      "source": [
        "# instantiate randomized search\n",
        "rf_cv_2 = RandomizedSearchCV(rf_clf_2, param_dist, cv=5, n_iter=10, scoring=\"f1\", random_state=42)"
      ],
      "execution_count": 121,
      "outputs": []
    },
    {
      "cell_type": "code",
      "metadata": {
        "pycharm": {
          "name": "#%%\n"
        },
        "colab": {
          "base_uri": "https://localhost:8080/"
        },
        "id": "jioAIEAAA39w",
        "outputId": "21ad8e3b-f9a9-43b6-a4da-863c8e6d1602"
      },
      "source": [
        "# fit the training set\n",
        "rf_cv_2.fit(X_train_prepared_2, y_train)"
      ],
      "execution_count": 122,
      "outputs": [
        {
          "output_type": "execute_result",
          "data": {
            "text/plain": [
              "RandomizedSearchCV(cv=5, error_score=nan,\n",
              "                   estimator=RandomForestClassifier(bootstrap=True,\n",
              "                                                    ccp_alpha=0.0,\n",
              "                                                    class_weight=None,\n",
              "                                                    criterion='gini',\n",
              "                                                    max_depth=None,\n",
              "                                                    max_features='auto',\n",
              "                                                    max_leaf_nodes=None,\n",
              "                                                    max_samples=None,\n",
              "                                                    min_impurity_decrease=0.0,\n",
              "                                                    min_impurity_split=None,\n",
              "                                                    min_samples_leaf=1,\n",
              "                                                    min_samples_split=2,\n",
              "                                                    min_weight_fraction_leaf=0.0,\n",
              "                                                    n_estimators=100, n_jobs=-1,\n",
              "                                                    oob_score=False,\n",
              "                                                    random_state=42, verbose=0,\n",
              "                                                    warm_start=False),\n",
              "                   iid='deprecated', n_iter=10, n_jobs=None,\n",
              "                   param_distributions=[{'bootstrap': [True, False],\n",
              "                                         'max_features': [4, 8, 16],\n",
              "                                         'n_estimators': [10, 50, 100, 500]}],\n",
              "                   pre_dispatch='2*n_jobs', random_state=42, refit=True,\n",
              "                   return_train_score=False, scoring='f1', verbose=0)"
            ]
          },
          "metadata": {
            "tags": []
          },
          "execution_count": 122
        }
      ]
    },
    {
      "cell_type": "code",
      "metadata": {
        "pycharm": {
          "name": "#%%\n"
        },
        "colab": {
          "base_uri": "https://localhost:8080/"
        },
        "id": "ZE2MADl4A39w",
        "outputId": "07d1fb40-c1da-4cec-d2e0-3d84a6a0f57d"
      },
      "source": [
        "# show the best score\n",
        "rf_cv_2.best_score_"
      ],
      "execution_count": 123,
      "outputs": [
        {
          "output_type": "execute_result",
          "data": {
            "text/plain": [
              "0.7598261972629967"
            ]
          },
          "metadata": {
            "tags": []
          },
          "execution_count": 123
        }
      ]
    },
    {
      "cell_type": "code",
      "metadata": {
        "pycharm": {
          "name": "#%%\n"
        },
        "colab": {
          "base_uri": "https://localhost:8080/"
        },
        "id": "udP3yibKA39w",
        "outputId": "92aaf285-af0d-4f0c-8ecd-f60f3eb4bfe7"
      },
      "source": [
        "# show the best estimator parameters\n",
        "rf_clf_3 = rf_cv_2.best_estimator_\n",
        "rf_clf_3"
      ],
      "execution_count": 124,
      "outputs": [
        {
          "output_type": "execute_result",
          "data": {
            "text/plain": [
              "RandomForestClassifier(bootstrap=True, ccp_alpha=0.0, class_weight=None,\n",
              "                       criterion='gini', max_depth=None, max_features=16,\n",
              "                       max_leaf_nodes=None, max_samples=None,\n",
              "                       min_impurity_decrease=0.0, min_impurity_split=None,\n",
              "                       min_samples_leaf=1, min_samples_split=2,\n",
              "                       min_weight_fraction_leaf=0.0, n_estimators=500,\n",
              "                       n_jobs=-1, oob_score=False, random_state=42, verbose=0,\n",
              "                       warm_start=False)"
            ]
          },
          "metadata": {
            "tags": []
          },
          "execution_count": 124
        }
      ]
    },
    {
      "cell_type": "code",
      "metadata": {
        "pycharm": {
          "name": "#%%\n"
        },
        "colab": {
          "base_uri": "https://localhost:8080/"
        },
        "id": "EO9WFpbfA39w",
        "outputId": "072e6a25-2d32-4111-aa03-381b7ebf0f8e"
      },
      "source": [
        "# show results for each iteration\n",
        "cvres = rf_cv_2.cv_results_\n",
        "for mean_score, params in zip(cvres[\"mean_test_score\"], cvres[\"params\"]):\n",
        "    print(mean_score, params)"
      ],
      "execution_count": 125,
      "outputs": [
        {
          "output_type": "stream",
          "text": [
            "0.7442612252149945 {'n_estimators': 10, 'max_features': 16, 'bootstrap': True}\n",
            "0.7476152266104137 {'n_estimators': 10, 'max_features': 8, 'bootstrap': False}\n",
            "0.7421546862186734 {'n_estimators': 10, 'max_features': 4, 'bootstrap': True}\n",
            "0.755422837075258 {'n_estimators': 100, 'max_features': 8, 'bootstrap': False}\n",
            "0.7598261972629967 {'n_estimators': 500, 'max_features': 16, 'bootstrap': True}\n",
            "0.7560849598788411 {'n_estimators': 50, 'max_features': 16, 'bootstrap': True}\n",
            "0.7502124173124856 {'n_estimators': 50, 'max_features': 4, 'bootstrap': False}\n",
            "0.7550647084168153 {'n_estimators': 50, 'max_features': 4, 'bootstrap': True}\n",
            "0.7492024185465712 {'n_estimators': 50, 'max_features': 16, 'bootstrap': False}\n",
            "0.7585733821231688 {'n_estimators': 50, 'max_features': 8, 'bootstrap': True}\n"
          ],
          "name": "stdout"
        }
      ]
    },
    {
      "cell_type": "code",
      "metadata": {
        "pycharm": {
          "name": "#%%\n"
        },
        "id": "S1g199_qA39w"
      },
      "source": [
        "# predict using training data\n",
        "rf_pred_4 = rf_clf_3.predict(X_tr_testing_2)"
      ],
      "execution_count": 126,
      "outputs": []
    },
    {
      "cell_type": "code",
      "metadata": {
        "pycharm": {
          "name": "#%%\n"
        },
        "colab": {
          "base_uri": "https://localhost:8080/"
        },
        "id": "V-dgXpAaA39w",
        "outputId": "2755b74c-dc94-4270-b082-aec066734eef"
      },
      "source": [
        "# display evaluation scores\n",
        "display_evaluation(y_train, rf_pred_4)"
      ],
      "execution_count": 127,
      "outputs": [
        {
          "output_type": "stream",
          "text": [
            "Confusion Matrix:\n",
            " [[63528   392]\n",
            " [  909 36498]] \n",
            "\n",
            "Classification Report:\n",
            "               precision    recall  f1-score   support\n",
            "\n",
            "           0       0.99      0.99      0.99     63920\n",
            "           1       0.99      0.98      0.98     37407\n",
            "\n",
            "    accuracy                           0.99    101327\n",
            "   macro avg       0.99      0.98      0.99    101327\n",
            "weighted avg       0.99      0.99      0.99    101327\n",
            "\n"
          ],
          "name": "stdout"
        }
      ]
    },
    {
      "cell_type": "markdown",
      "metadata": {
        "collapsed": false,
        "id": "CfjOxIysA39x"
      },
      "source": [
        "#### Dummy Classifier\n",
        "> The dummy classifier serves as an indication and comparison for model performance."
      ]
    },
    {
      "cell_type": "code",
      "metadata": {
        "pycharm": {
          "name": "#%%\n"
        },
        "id": "P7Q_4-R0A39x"
      },
      "source": [
        "# dummy classifier\n",
        "# classifies every instance as not canceled\n",
        "# BaseEstimator allows to set and get estimator parameters\n",
        "class NeverCanceledClassifier(BaseEstimator):\n",
        "\n",
        "    def fit(self, X, y=None):\n",
        "        pass\n",
        "\n",
        "    def predict(self, X):\n",
        "        return np.zeros((len(X), 1), dtype=int)"
      ],
      "execution_count": 128,
      "outputs": []
    },
    {
      "cell_type": "code",
      "metadata": {
        "pycharm": {
          "name": "#%%\n"
        },
        "id": "enE8jAaRA39x"
      },
      "source": [
        "# instantiate dummy classifier\n",
        "never_canceled = NeverCanceledClassifier()"
      ],
      "execution_count": 129,
      "outputs": []
    },
    {
      "cell_type": "code",
      "metadata": {
        "pycharm": {
          "name": "#%%\n"
        },
        "id": "T_f4NPMsA39x"
      },
      "source": [
        "# fit the training set\n",
        "never_canceled.fit(X_train, y_train)"
      ],
      "execution_count": 130,
      "outputs": []
    },
    {
      "cell_type": "code",
      "metadata": {
        "pycharm": {
          "name": "#%%\n"
        },
        "id": "Fvi2X300A39x"
      },
      "source": [
        "# predict using dummy classifier\n",
        "never_canceled_pred = never_canceled.predict(X_train)"
      ],
      "execution_count": 131,
      "outputs": []
    },
    {
      "cell_type": "code",
      "metadata": {
        "pycharm": {
          "name": "#%%\n"
        },
        "colab": {
          "base_uri": "https://localhost:8080/"
        },
        "id": "BR7yUcJjA39x",
        "outputId": "b8003bd0-6213-4924-e4c3-2a248b581a0a"
      },
      "source": [
        "# evaluate scores for comparison\n",
        "# can't assess using F1 score\n",
        "# precision will divide by zero\n",
        "print(\"Accuracy:\", metrics.accuracy_score(y_train, never_canceled_pred))\n",
        "print(\"Confusion Matrix:\\n\", metrics.confusion_matrix(y_train, never_canceled_pred))"
      ],
      "execution_count": 132,
      "outputs": [
        {
          "output_type": "stream",
          "text": [
            "Accuracy: 0.6308289004904912\n",
            "Confusion Matrix:\n",
            " [[63920     0]\n",
            " [37407     0]]\n"
          ],
          "name": "stdout"
        }
      ]
    },
    {
      "cell_type": "markdown",
      "metadata": {
        "collapsed": false,
        "id": "BQnIW7DeA39x"
      },
      "source": [
        "> ### Overview:\n",
        ">> ####  Removing nearly half of the features did not drastically change the score.\n",
        ">> * The model prior to feature selection had an F1 score of 0.99.\n",
        ">> * The model after feature selection has an F1 score of 0.98.\n",
        ">> * The model performs better than the dummy classifier."
      ]
    },
    {
      "cell_type": "code",
      "metadata": {
        "pycharm": {
          "name": "#%%\n"
        },
        "id": "YHjl3MPXA39x"
      },
      "source": [
        "# use predictions to get precision recall curve values\n",
        "rf_scores = rf_cv_2.best_estimator_.predict_proba(X_tr_testing_2)[:, 1]\n",
        "precisions, recalls, thresholds = metrics.precision_recall_curve(y_train, rf_scores)"
      ],
      "execution_count": 133,
      "outputs": []
    },
    {
      "cell_type": "code",
      "metadata": {
        "pycharm": {
          "name": "#%%\n"
        },
        "colab": {
          "base_uri": "https://localhost:8080/",
          "height": 368
        },
        "id": "JIU4ZHXfA39y",
        "outputId": "828eefaa-f0ef-4fd2-f32e-6ac816813dd2"
      },
      "source": [
        "# plot precision recall curve\n",
        "plt.figure(figsize=(10,5))\n",
        "plt.plot(precisions, recalls, linewidth=3)\n",
        "plt.title(\"Precision Recall Curve for Hotel Cancellations\", size=20)\n",
        "plt.xlabel(\"Recall\", size=15)\n",
        "plt.ylabel(\"Precision\", size=15)\n",
        "plt.tight_layout()\n",
        "plt.show()"
      ],
      "execution_count": 134,
      "outputs": [
        {
          "output_type": "display_data",
          "data": {
            "image/png": "[encoded data removed]",
            "text/plain": [
              "<Figure size 720x360 with 1 Axes>"
            ]
          },
          "metadata": {
            "tags": [],
            "needs_background": "light"
          }
        }
      ]
    },
    {
      "cell_type": "markdown",
      "metadata": {
        "collapsed": false,
        "id": "PZqcMUXdA39y"
      },
      "source": [
        "<a id=\"five\"></a>"
      ]
    },
    {
      "cell_type": "markdown",
      "metadata": {
        "collapsed": false,
        "id": "H5R0oHi8A39y"
      },
      "source": [
        "# 5. Evaluating the Test Set"
      ]
    },
    {
      "cell_type": "code",
      "metadata": {
        "pycharm": {
          "name": "#%%\n"
        },
        "id": "hj6L4hMCA39y"
      },
      "source": [
        "# separate test set predictors and labels\n",
        "X_test = test_set.drop(\"is_canceled\", axis=1)\n",
        "y_test = test_set[\"is_canceled\"].copy()"
      ],
      "execution_count": 135,
      "outputs": []
    },
    {
      "cell_type": "code",
      "metadata": {
        "pycharm": {
          "name": "#%%\n"
        },
        "id": "ekJuQ_bZA39y"
      },
      "source": [
        "# transform test set\n",
        "X_test_prep = full_pipeline_2.transform(X_test)"
      ],
      "execution_count": 136,
      "outputs": []
    },
    {
      "cell_type": "code",
      "metadata": {
        "pycharm": {
          "name": "#%%\n"
        },
        "colab": {
          "base_uri": "https://localhost:8080/"
        },
        "id": "ngN2a1wZA39y",
        "outputId": "bb0c6c45-d8bb-4f3c-9865-79488a6a0931"
      },
      "source": [
        "final_model = rf_cv_2.best_estimator_\n",
        "final_model"
      ],
      "execution_count": 137,
      "outputs": [
        {
          "output_type": "execute_result",
          "data": {
            "text/plain": [
              "RandomForestClassifier(bootstrap=True, ccp_alpha=0.0, class_weight=None,\n",
              "                       criterion='gini', max_depth=None, max_features=16,\n",
              "                       max_leaf_nodes=None, max_samples=None,\n",
              "                       min_impurity_decrease=0.0, min_impurity_split=None,\n",
              "                       min_samples_leaf=1, min_samples_split=2,\n",
              "                       min_weight_fraction_leaf=0.0, n_estimators=500,\n",
              "                       n_jobs=-1, oob_score=False, random_state=42, verbose=0,\n",
              "                       warm_start=False)"
            ]
          },
          "metadata": {
            "tags": []
          },
          "execution_count": 137
        }
      ]
    },
    {
      "cell_type": "code",
      "metadata": {
        "pycharm": {
          "name": "#%%\n"
        },
        "id": "9zWeCCs2A39z"
      },
      "source": [
        "# predict test set\n",
        "final_predictions = final_model.predict(X_test_prep)"
      ],
      "execution_count": 138,
      "outputs": []
    },
    {
      "cell_type": "code",
      "metadata": {
        "pycharm": {
          "name": "#%%\n"
        },
        "colab": {
          "base_uri": "https://localhost:8080/"
        },
        "id": "foc9nQUgA39z",
        "outputId": "b35b11b1-ccfe-4d71-db73-f6634553d85b"
      },
      "source": [
        "# evaluate predictions\n",
        "display_evaluation(y_test, final_predictions)"
      ],
      "execution_count": 139,
      "outputs": [
        {
          "output_type": "stream",
          "text": [
            "Confusion Matrix:\n",
            " [[10124   993]\n",
            " [ 1833  4959]] \n",
            "\n",
            "Classification Report:\n",
            "               precision    recall  f1-score   support\n",
            "\n",
            "           0       0.85      0.91      0.88     11117\n",
            "           1       0.83      0.73      0.78      6792\n",
            "\n",
            "    accuracy                           0.84     17909\n",
            "   macro avg       0.84      0.82      0.83     17909\n",
            "weighted avg       0.84      0.84      0.84     17909\n",
            "\n"
          ],
          "name": "stdout"
        }
      ]
    },
    {
      "cell_type": "markdown",
      "metadata": {
        "collapsed": false,
        "id": "wCntFgczA39z"
      },
      "source": [
        "> #### Resources:\n",
        "> 1. Hotel Booking Demand Dataset <a href=\"https://www.kaggle.com/jessemostipak/hotel-booking-demand\"\n",
        "> title=\"Kaggle\">link</a>\n",
        "> 2. Hotel Booking Demand Article <a href=\"https://www.sciencedirect.com/science/article/pii/S2352340918315191\"\n",
        "> title=\"Article\">link</a>\n",
        "> 3. Average Daily Rate Article <a href=\"https://www.investopedia.com/terms/a/average-daily-rate.asp\"\n",
        "> title=\"Investopedia\">link</a>\n",
        "> 4. Random Forest Article <a href=\"https://towardsdatascience.com/an-implementation-and-explanation-of-the-random-forest-in-python-77bf308a9b76\" title=\"towardsdatascience\">link</a>"
      ]
    },
    {
      "cell_type": "markdown",
      "metadata": {
        "collapsed": false,
        "id": "Qj8rBTs-A39z"
      },
      "source": [
        "<a id='section_b'></a>"
      ]
    },
    {
      "cell_type": "code",
      "metadata": {
        "id": "aGhFOSnHGYzs"
      },
      "source": [
        "import joblib"
      ],
      "execution_count": 140,
      "outputs": []
    },
    {
      "cell_type": "code",
      "metadata": {
        "id": "R2Zoh1G-GdQR",
        "outputId": "8c904a5d-ef48-4bb5-b96e-363a73c9ad1c",
        "colab": {
          "base_uri": "https://localhost:8080/"
        }
      },
      "source": [
        "joblib.dump(final_model, \"bookings_final_model_A.pkl\")"
      ],
      "execution_count": 143,
      "outputs": [
        {
          "output_type": "execute_result",
          "data": {
            "text/plain": [
              "['bookings_final_model_A.pkl']"
            ]
          },
          "metadata": {
            "tags": []
          },
          "execution_count": 143
        }
      ]
    },
    {
      "cell_type": "markdown",
      "metadata": {
        "collapsed": false,
        "pycharm": {
          "name": "#%% md\n"
        },
        "id": "wpPyHattA39z"
      },
      "source": [
        "## Section B: Using Different ML Techniques to Improve Prediction Results"
      ]
    },
    {
      "cell_type": "markdown",
      "metadata": {
        "collapsed": false,
        "pycharm": {
          "name": "#%% md\n"
        },
        "id": "Vk02UsLlA39z"
      },
      "source": [
        "*\"If we have a project, and you're saying 'okay I can do that'. That's not the project we want. The projects that say [...]\n",
        "I don't know how to do that. Those are the things we want because through that curiosity you'll reach a level that\n",
        "you didn't think was possible.\"* -Kobe Bryant"
      ]
    },
    {
      "cell_type": "markdown",
      "metadata": {
        "collapsed": false,
        "pycharm": {
          "name": "#%% md\n"
        },
        "id": "iGS57V6FA39z"
      },
      "source": [
        "In this second part, I will attempt to improve the results of my previous project by\n",
        "using the knowledge and skills I have gained the past several months.\n",
        "\n",
        "How I plan to achieve this task:\n",
        "\n",
        "I am a firm believer in learning from my past mistakes which is why\n",
        "I will acknowledge the vital ones I made in this project, and correct them.\n",
        "\n",
        "Additionally, I will select a few promising new methods to implement and explain why I chose them."
      ]
    },
    {
      "cell_type": "code",
      "metadata": {
        "pycharm": {
          "name": "#%%\n"
        },
        "id": "C9On3T2kA390"
      },
      "source": [
        "final_model_A = joblib.load(\"bookings_final_model_A.pkl\")"
      ],
      "execution_count": 144,
      "outputs": []
    },
    {
      "cell_type": "code",
      "metadata": {
        "id": "aBo6gFirHqSe",
        "outputId": "b1edf68f-bc6e-4e16-8879-654b61fb27b8",
        "colab": {
          "base_uri": "https://localhost:8080/"
        }
      },
      "source": [
        "final_model_A"
      ],
      "execution_count": 145,
      "outputs": [
        {
          "output_type": "execute_result",
          "data": {
            "text/plain": [
              "RandomForestClassifier(bootstrap=True, ccp_alpha=0.0, class_weight=None,\n",
              "                       criterion='gini', max_depth=None, max_features=16,\n",
              "                       max_leaf_nodes=None, max_samples=None,\n",
              "                       min_impurity_decrease=0.0, min_impurity_split=None,\n",
              "                       min_samples_leaf=1, min_samples_split=2,\n",
              "                       min_weight_fraction_leaf=0.0, n_estimators=500,\n",
              "                       n_jobs=-1, oob_score=False, random_state=42, verbose=0,\n",
              "                       warm_start=False)"
            ]
          },
          "metadata": {
            "tags": []
          },
          "execution_count": 145
        }
      ]
    },
    {
      "cell_type": "code",
      "metadata": {
        "id": "Nkk-M2AQHtxG"
      },
      "source": [
        ""
      ],
      "execution_count": null,
      "outputs": []
    }
  ]
}