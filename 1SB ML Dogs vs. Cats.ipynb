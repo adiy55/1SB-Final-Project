{
 "cells": [
  {
   "cell_type": "code",
   "execution_count": null,
   "outputs": [],
   "source": [
    "# common imports\n",
    "import numpy as np\n",
    "import pandas as pd\n",
    "import os, cv2, joblib\n",
    "import seaborn as sns\n",
    "import matplotlib.pyplot as plt\n",
    "%matplotlib inline\n",
    "\n",
    "from sklearn.model_selection import StratifiedShuffleSplit, cross_val_score\n",
    "from sklearn.preprocessing import StandardScaler\n",
    "from sklearn.decomposition import PCA\n",
    "from sklearn.cluster import KMeans\n",
    "from sklearn import metrics\n",
    "from sklearn.pipeline import Pipeline\n",
    "from sklearn.linear_model import LogisticRegression\n",
    "from sklearn.neighbors import KNeighborsClassifier\n",
    "from sklearn.tree import DecisionTreeClassifier\n",
    "from sklearn.ensemble import RandomForestClassifier\n",
    "\n",
    "# global variables\n",
    "global ROWS, COLUMNS, CHANNELS, IS_CANNY\n",
    "CLASSES = {0: 'cat', 1: 'dog'}\n",
    "\n",
    "# display setup\n",
    "sns.set(style=\"whitegrid\")  # for plots"
   ],
   "metadata": {
    "collapsed": false,
    "pycharm": {
     "name": "#%%\n"
    }
   }
  },
  {
   "cell_type": "markdown",
   "source": [
    "# Preface\n",
    "* Dogs vs. Cats is a dataset containing 25,000 samples.\n",
    "* Each sample is a colored image (JPEG file) of a dog or a cat. The image sizes vary, so they need to be scaled to the same size.\n",
    "* The data contains two labels (mentioned in each image file's name), making this a **binary classification** problem.\n",
    "In other words, this is a **supervised learning** task.\n",
    "* The model will be trained using all available data and run without learning anymore. This method is named **offline/batch learning**.\n",
    "* Main objective: Find the best algorithm and model parameters that classify the unused images correctly."
   ],
   "metadata": {
    "collapsed": false
   }
  },
  {
   "cell_type": "markdown",
   "source": [
    "# 1. Getting the Data"
   ],
   "metadata": {
    "collapsed": false
   }
  },
  {
   "cell_type": "code",
   "execution_count": null,
   "outputs": [],
   "source": [
    "path = r\"dogs-vs-cats\\train/\"\n",
    "\n",
    "images = [path + i for i in os.listdir(path)]\n",
    "# listdir returns a list with the file names in the given directory"
   ],
   "metadata": {
    "collapsed": false,
    "pycharm": {
     "name": "#%%\n"
    }
   }
  },
  {
   "cell_type": "code",
   "execution_count": null,
   "outputs": [],
   "source": [
    "def load_dogs_vs_cats(image_dir):\n",
    "    images_lst = [image_dir + i for i in os.listdir(image_dir)]\n",
    "    # listdir returns a list with the file names in the given directory\n",
    "    y = []\n",
    "    path = []\n",
    "    for i, image_path in enumerate(images_lst):\n",
    "        path.append(image_path)\n",
    "        if '/dog' in image_path:\n",
    "            y.append(1)\n",
    "        elif '/cat' in image_path:\n",
    "            y.append(0)\n",
    "        else:  # if needed for the test set on kaggle (each image has an id instead of a class)\n",
    "            y.append(image_path.split('/')[-1].split('.')[0])\n",
    "    return pd.DataFrame({\"path\": path, \"label\": y})"
   ],
   "metadata": {
    "collapsed": false,
    "pycharm": {
     "name": "#%%\n"
    }
   }
  },
  {
   "cell_type": "code",
   "execution_count": null,
   "outputs": [],
   "source": [
    "df = load_dogs_vs_cats(path)"
   ],
   "metadata": {
    "collapsed": false,
    "pycharm": {
     "name": "#%%\n"
    }
   }
  },
  {
   "cell_type": "code",
   "execution_count": null,
   "outputs": [],
   "source": [
    "df.head()"
   ],
   "metadata": {
    "collapsed": false,
    "pycharm": {
     "name": "#%%\n"
    }
   }
  },
  {
   "cell_type": "code",
   "execution_count": null,
   "outputs": [],
   "source": [
    "df.isna().sum().sum()"
   ],
   "metadata": {
    "collapsed": false,
    "pycharm": {
     "name": "#%%\n"
    }
   }
  },
  {
   "cell_type": "code",
   "execution_count": null,
   "outputs": [],
   "source": [
    "df['label'].value_counts()"
   ],
   "metadata": {
    "collapsed": false,
    "pycharm": {
     "name": "#%%\n"
    }
   }
  },
  {
   "cell_type": "code",
   "execution_count": null,
   "outputs": [],
   "source": [
    "# use groupby to locate instances for each label\n",
    "label_groups = df.groupby('label')"
   ],
   "metadata": {
    "collapsed": false,
    "pycharm": {
     "name": "#%%\n"
    }
   }
  },
  {
   "cell_type": "code",
   "execution_count": null,
   "outputs": [],
   "source": [
    "# 3 cat image samples\n",
    "sample0 = label_groups.get_group(0)[:3]\n",
    "sample0"
   ],
   "metadata": {
    "collapsed": false,
    "pycharm": {
     "name": "#%%\n"
    }
   }
  },
  {
   "cell_type": "code",
   "execution_count": null,
   "outputs": [],
   "source": [
    "# 3 dog image samples\n",
    "sample1 = label_groups.get_group(1)[:3]\n",
    "sample1"
   ],
   "metadata": {
    "collapsed": false,
    "pycharm": {
     "name": "#%%\n"
    }
   }
  },
  {
   "cell_type": "code",
   "execution_count": null,
   "outputs": [],
   "source": [
    "# combine cat and dog samples as one DataFrame\n",
    "sample_images = pd.concat([sample0, sample1], ignore_index=True)"
   ],
   "metadata": {
    "collapsed": false,
    "pycharm": {
     "name": "#%%\n"
    }
   }
  },
  {
   "cell_type": "code",
   "execution_count": null,
   "outputs": [],
   "source": [
    "fig = plt.figure(figsize=(10, 7))\n",
    "\n",
    "for i in range(len(sample_images)):\n",
    "    plt.subplot(330 + i + 1)\n",
    "    filename = sample_images['path'][i]\n",
    "    image = cv2.imread(filename)\n",
    "    plt.imshow(cv2.cvtColor(image, cv2.COLOR_BGR2RGB))\n",
    "fig.suptitle(\"Dogs vs. Cats Original Samples\", size=30)\n",
    "plt.tight_layout()\n",
    "plt.show()"
   ],
   "metadata": {
    "collapsed": false,
    "pycharm": {
     "name": "#%%\n"
    }
   }
  },
  {
   "cell_type": "markdown",
   "source": [
    "> Initial Observations:\n",
    ">> * The dogs and cats are in different angles. Some are cropped in a way that only the face is seen,\n",
    ">> others of the whole body.\n",
    ">> * The photos may also include a person or surrounding objects (i.e. in the bottom right image the\n",
    "> dog is held by a person).\n",
    ">> The photos could also be blurry (i.e. in the top left photo it looks like the camera was slightly\n",
    ">> moved while taking the photo).\n",
    ">> * There are various image sizes.\n",
    ">> In order to use the data for ML algorithms, all images need to be processed into an array containing the same pixel values.\n",
    ">> * The images are in color, meaning the number of pixels chosen for the width and height will be multiplied by 3.\n",
    ">> This should be taken into account since it adds a substantial amount of features, as opposing to using grayscale images.\n",
    ">\n",
    "> The following functions will read the data, and turn it into a DataFrame.\n",
    "> When implementing these functions, I took into account that rescaling the images and loading new data could be needed\n",
    "> further on. (Necessary tweaks implemented in the code according to these measures).\n",
    ">\n",
    "> Note: The default rescaled size of the images is 64x64x3. This will likely change later on."
   ],
   "metadata": {
    "collapsed": false
   }
  },
  {
   "cell_type": "markdown",
   "source": [
    "> ### Splitting the Data:\n",
    ">> Before further analysis let's split the data into a training set and a testing set.\n",
    ">> This will ensure avoidance of bias that could occur from learning the data as a whole."
   ],
   "metadata": {
    "collapsed": false
   }
  },
  {
   "cell_type": "markdown",
   "source": [
    "The training and testing data should be representative of both classes.\n",
    "I noticed that the number of samples for dogs and cats are equal and decided a stratified\n",
    "split is the optimal choice.\n",
    "Although regular random sampling would have split the data nearly equally, there would\n",
    "have been more bias towards one of the classes."
   ],
   "metadata": {
    "collapsed": false
   }
  },
  {
   "cell_type": "code",
   "execution_count": null,
   "outputs": [],
   "source": [
    "split = StratifiedShuffleSplit(n_splits=1, test_size=0.2, random_state=42)\n",
    "for train_index, test_index in split.split(df, df['label']):\n",
    "    strat_train_set = df.iloc[train_index]\n",
    "    strat_test_set = df.iloc[test_index]"
   ],
   "metadata": {
    "collapsed": false,
    "pycharm": {
     "name": "#%%\n"
    }
   }
  },
  {
   "cell_type": "code",
   "execution_count": null,
   "outputs": [],
   "source": [
    "# make sure that class distribution is equal\n",
    "strat_test_set['label'].value_counts() / len(strat_test_set)"
   ],
   "metadata": {
    "collapsed": false,
    "pycharm": {
     "name": "#%%\n"
    }
   }
  },
  {
   "cell_type": "code",
   "execution_count": null,
   "outputs": [],
   "source": [
    "# DataFrame shape (rows, columns)\n",
    "print(\"Training Set:\", strat_train_set.shape)\n",
    "print(\"Test Set:\", strat_test_set.shape)"
   ],
   "metadata": {
    "collapsed": false,
    "pycharm": {
     "name": "#%%\n"
    }
   }
  },
  {
   "cell_type": "markdown",
   "source": [
    "# 2. Understanding and Visualizing the Data\n",
    "> ##### *The motivation for this section is to gain more insights.*"
   ],
   "metadata": {
    "collapsed": false
   }
  },
  {
   "cell_type": "code",
   "execution_count": null,
   "outputs": [],
   "source": [
    "# deep copy of the training set\n",
    "df2 = strat_train_set.copy()"
   ],
   "metadata": {
    "collapsed": false,
    "pycharm": {
     "name": "#%%\n"
    }
   }
  },
  {
   "cell_type": "code",
   "execution_count": null,
   "outputs": [],
   "source": [
    "df2.head(2)"
   ],
   "metadata": {
    "collapsed": false,
    "pycharm": {
     "name": "#%%\n"
    }
   }
  },
  {
   "cell_type": "code",
   "execution_count": null,
   "outputs": [],
   "source": [
    "def image_shape(image_path):\n",
    "    return cv2.imread(image_path).shape\n",
    "\n",
    "\n",
    "def load_data_shapes(image_file_names):\n",
    "    shapes = []\n",
    "    for i, image_file in enumerate(image_file_names):\n",
    "        shapes.append(image_shape(image_file))\n",
    "    return shapes"
   ],
   "metadata": {
    "collapsed": false,
    "pycharm": {
     "name": "#%%\n"
    }
   }
  },
  {
   "cell_type": "code",
   "execution_count": null,
   "outputs": [],
   "source": [
    "# image_shapes = load_data_shapes(strat_train_set['path'])\n",
    "# joblib.dump(image_shapes, \"dogs-vs-cats/image_shapes.pkl\")"
   ],
   "metadata": {
    "collapsed": false,
    "pycharm": {
     "name": "#%%\n"
    }
   }
  },
  {
   "cell_type": "code",
   "execution_count": null,
   "outputs": [],
   "source": [
    "image_shapes = joblib.load(r\"dogs-vs-cats/image_shapes.pkl\")"
   ],
   "metadata": {
    "collapsed": false,
    "pycharm": {
     "name": "#%%\n"
    }
   }
  },
  {
   "cell_type": "code",
   "execution_count": null,
   "outputs": [],
   "source": [
    "image_res_df = pd.DataFrame(image_shapes, columns=['height', 'width', 'n_channels'])\n",
    "image_res_df.head(3)"
   ],
   "metadata": {
    "collapsed": false,
    "pycharm": {
     "name": "#%%\n"
    }
   }
  },
  {
   "cell_type": "code",
   "execution_count": null,
   "outputs": [],
   "source": [
    "fig, (ax1, ax2) = plt.subplots(1, 2, figsize=(10, 5))\n",
    "ax1.scatter(image_res_df.width, image_res_df.height, color='blue', alpha=0.2)\n",
    "ax1.set_title(\"Original View\", size=15)\n",
    "points = ax2.scatter(image_res_df.width, image_res_df.height, color='blue', alpha=0.05)\n",
    "ax1.set_xlabel(\"width\")\n",
    "ax1.set_ylabel(\"height\")\n",
    "ax2.set_xlim(xmin=20, xmax=510)\n",
    "ax2.set_ylim(ymin=20, ymax=510)\n",
    "ax2.set_title(\"Zoomed View\", size=15)\n",
    "ax2.set_xlabel(\"width\")\n",
    "ax2.set_ylabel(\"height\")\n",
    "fig.suptitle(\"Image Resolutions\", size=20)\n",
    "plt.tight_layout()\n",
    "plt.show()"
   ],
   "metadata": {
    "collapsed": false,
    "pycharm": {
     "name": "#%%\n"
    }
   }
  },
  {
   "cell_type": "code",
   "execution_count": null,
   "outputs": [],
   "source": [
    "image_res_df[\"height\"].min()"
   ],
   "metadata": {
    "collapsed": false,
    "pycharm": {
     "name": "#%%\n"
    }
   }
  },
  {
   "cell_type": "code",
   "execution_count": null,
   "outputs": [],
   "source": [
    "image_res_df[\"width\"].min()"
   ],
   "metadata": {
    "collapsed": false,
    "pycharm": {
     "name": "#%%\n"
    }
   }
  },
  {
   "cell_type": "markdown",
   "source": [
    "> Observations:\n",
    "> * Most image resolutions are less than 500x500. There is also a fair amount around 400x400,\n",
    "> 300x300, and 200x200."
   ],
   "metadata": {
    "collapsed": false
   }
  },
  {
   "cell_type": "markdown",
   "source": [
    "## Exploring Pre-processing Implementations\n",
    ">\n",
    "> The pixels represent the features in the data. The larger the size is, the higher the complexity.\n",
    "Additionally, processing the images with color results in 3 times more features than in grayscale.\n",
    ">\n",
    "> In this next part, I will evaluate several pre-processing options.\n",
    ">\n",
    "> #### Incremental Sizing:\n",
    "> In this approach, the images are rescaled to a small size, gradually increasing.\n",
    ">> Sizes:\n",
    "1. 28x28\n",
    "2. 64x64\n",
    "3. 128x128\n",
    "\n",
    "#### Why is resizing necessary?\n",
    "In order to use the data for ML algorithms, all images need to be processed into an array containing the same pixel values.\n",
    "\n",
    "\n",
    "> Although actual model training will be later on, I will train simple Logistic Regression baseline models\n",
    "> to easily compare the performance on 3 different transformations (in order from highest to lowest complexity):\n",
    ">> Transformations:\n",
    "1. Color\n",
    "2. Grayscale\n",
    "3. Canny Edge Detection\n",
    "\n",
    "#### What is Canny Edge Detection?\n",
    "\n",
    "Note: The algorithm is based on grayscale images."
   ],
   "metadata": {
    "collapsed": false
   }
  },
  {
   "cell_type": "markdown",
   "source": [
    "> After many attempts, the color images increased complexity significantly! I was unable to run simple\n",
    "> transformations on the data. Since it seems unlikely that the color has much significance to the\n",
    "> images (i.e. there are people and objects other than the dogs and cats), I decided to switch to\n",
    "> grayscale.\n",
    ">\n",
    "> Note: The global variables (instantiated below the imports) have been set to these values."
   ],
   "metadata": {
    "collapsed": false
   }
  },
  {
   "cell_type": "markdown",
   "source": [
    "### Pre-processing Implementations:\n",
    "1. Use grayscale images (has one channel so there are fewer features).\n",
    "2. Dimensionality reduction using PCA (the grayscale images have 40,000 features!).\n",
    "3. K-Means for image segmentation.\n",
    "4. Dimensionality reduction using K-Means.\n",
    "\n",
    "**To help determine which pre-processing is the best, I will train a couple baseline models on each\n",
    "of them and compare the results.**"
   ],
   "metadata": {
    "collapsed": false
   }
  },
  {
   "cell_type": "markdown",
   "source": [
    "> Why is resizing necessary?\n",
    ">\n",
    "> In order to use the data for ML algorithms, all images need to be processed into an array containing the same pixel values.\n",
    "> The following functions do just that:\n",
    ">\n",
    "> Note: If needed, the code is implemented with an option to process images with color."
   ],
   "metadata": {
    "collapsed": false
   }
  },
  {
   "cell_type": "code",
   "execution_count": null,
   "outputs": [],
   "source": [
    "# set global variables\n",
    "def set_params(n_rows, n_cols, n_channels, is_canny):\n",
    "    global ROWS, COLUMNS, CHANNELS, IS_CANNY\n",
    "    ROWS = n_rows\n",
    "    COLUMNS = n_cols\n",
    "    CHANNELS = n_channels\n",
    "    IS_CANNY = is_canny\n",
    "\n",
    "\n",
    "def read_resize_img(file_path):\n",
    "    img = cv2.imread(file_path, cv2.IMREAD_COLOR)\n",
    "    if CHANNELS == 3:\n",
    "        img = cv2.cvtColor(img, cv2.COLOR_BGR2RGB)\n",
    "    elif CHANNELS == 1:\n",
    "        img = cv2.cvtColor(img, cv2.COLOR_BGR2GRAY)\n",
    "        if IS_CANNY:\n",
    "            img = cv2.Canny(img, 100, 200)\n",
    "    return cv2.resize(img, (ROWS, COLUMNS), interpolation=cv2.INTER_CUBIC)\n",
    "\n",
    "\n",
    "def prep_data(images, n_rows, n_cols, n_channels, is_canny):\n",
    "    set_params(n_rows, n_cols, n_channels, is_canny) # set global variables with inserted values\n",
    "    m = len(images)\n",
    "    n_pixels = ROWS * COLUMNS * CHANNELS\n",
    "    X = np.ndarray((m, n_pixels), dtype=np.uint8)\n",
    "    y = np.zeros((m, 1))\n",
    "    #    path = []  # saving the path ensures we can load each image again in case rescaling is required\n",
    "\n",
    "    # enumerate() function iterates the input object ('images') by using two variables:\n",
    "    # i is the count of the current iteration\n",
    "    # img_file is the path of the image file at the current iteration\n",
    "    for i, img_file in enumerate(images):\n",
    "        img = read_resize_img(img_file)\n",
    "        X[i, :] = np.squeeze(img.reshape((n_pixels, 1)))  # squeeze removes useless one-dimensional arrays\n",
    "        #        path.append(img_file)\n",
    "\n",
    "        if '/dog' in img_file:\n",
    "            y[i, 0] = 1\n",
    "        elif '/cat' in img_file:\n",
    "            y[i, 0] = 0\n",
    "        else:  # if needed for the test set on kaggle (each image has an id instead of a class)\n",
    "            y[i, 0] = img_file.split('/')[-1].split('.')[0]\n",
    "        if i % 5000 == 0:\n",
    "            print(\"Loading: {}/{}\".format(i, m))  # print loading progress\n",
    "    print(\"Finished Loading Data\")\n",
    "    return X, y.flatten()"
   ],
   "metadata": {
    "collapsed": false,
    "pycharm": {
     "name": "#%%\n"
    }
   }
  },
  {
   "cell_type": "markdown",
   "source": [
    "> #### How to choose rescale size:\n",
    "* Start rescaling from 28x28, trying both grayscale and color.\n",
    "* Train Logistic Regression baseline models on various data transformations.\n",
    "* Evaluate the accuracy score for each of the model predictions.\n",
    "* Choose the optimal scale and colors."
   ],
   "metadata": {
    "collapsed": false
   }
  },
  {
   "cell_type": "code",
   "execution_count": null,
   "outputs": [],
   "source": [
    "# function for evaluating cross validation scores and for easy model comparison\n",
    "def display_scores(scores):\n",
    "    print(\"Scores:\", scores)\n",
    "    print(\"Mean:\", round(scores.mean(), 5))\n",
    "    print(\"Standard Deviation:\", round(scores.std(), 5))\n"
   ],
   "metadata": {
    "collapsed": false,
    "pycharm": {
     "name": "#%%\n"
    }
   }
  },
  {
   "cell_type": "markdown",
   "source": [
    "> #### 28x28 Observations:\n",
    "* Although at first it seemed like color was going to obtain the highest score,\n",
    "cross-validation showed that canny is just as good as color!\n",
    "(I would even consider canny as much better than color, since canny has fewer features).\n",
    "* Grayscale underperformed both color and canny."
   ],
   "metadata": {
    "collapsed": false
   }
  },
  {
   "cell_type": "markdown",
   "source": [
    "> #### 64x64 Observations:\n",
    "* 64x64 color was worse than 28x28 color. Although the model fit the training set better, cross-validation showed\n",
    "a decrease in performance.\n",
    "* 64x64 grayscale fit the training data better compared to 28x28 grayscale, with a minimal decrease in\n",
    "cross-validation accuracy.\n",
    "*"
   ],
   "metadata": {
    "collapsed": false
   }
  },
  {
   "cell_type": "markdown",
   "source": [
    "testing 30x30\n",
    "\n",
    "-----"
   ],
   "metadata": {
    "collapsed": false
   }
  },
  {
   "cell_type": "markdown",
   "source": [
    "> #### 30x30x3 Color"
   ],
   "metadata": {
    "collapsed": false
   }
  },
  {
   "cell_type": "code",
   "execution_count": null,
   "outputs": [],
   "source": [
    "# X_30, y_30 = prep_data(strat_train_set[\"path\"], 30, 30, 3, is_canny=False)\n",
    "# joblib.dump(X_30, \"dogs-vs-cats/data/X_30.pkl\")\n",
    "# joblib.dump(y_30, \"dogs-vs-cats/data/y_30.pkl\")"
   ],
   "metadata": {
    "collapsed": false,
    "pycharm": {
     "name": "#%%\n"
    }
   }
  },
  {
   "cell_type": "code",
   "execution_count": null,
   "outputs": [],
   "source": [
    "X_30 = joblib.load(r\"dogs-vs-cats/data/X_30.pkl\")\n",
    "y_30 = joblib.load(r\"dogs-vs-cats/data/y_30.pkl\")"
   ],
   "metadata": {
    "collapsed": false,
    "pycharm": {
     "name": "#%%\n"
    }
   }
  },
  {
   "cell_type": "code",
   "execution_count": null,
   "outputs": [],
   "source": [
    "X_30 = StandardScaler().fit_transform(X_30)"
   ],
   "metadata": {
    "collapsed": false,
    "pycharm": {
     "name": "#%%\n"
    }
   }
  },
  {
   "cell_type": "code",
   "execution_count": null,
   "outputs": [],
   "source": [
    "log_reg_30 = LogisticRegression(random_state=42, n_jobs=-1)\n",
    "# log_reg_30.fit(X_30, y_30)\n",
    "# joblib.dump(log_reg_30, \"dogs-vs-cats/models/log_reg_30.pkl\")"
   ],
   "metadata": {
    "collapsed": false,
    "pycharm": {
     "name": "#%%\n"
    }
   }
  },
  {
   "cell_type": "code",
   "execution_count": null,
   "outputs": [],
   "source": [
    "log_reg_30 = joblib.load(r\"dogs-vs-cats/models/log_reg_30.pkl\")"
   ],
   "metadata": {
    "collapsed": false,
    "pycharm": {
     "name": "#%%\n"
    }
   }
  },
  {
   "cell_type": "code",
   "execution_count": null,
   "outputs": [],
   "source": [
    "# log_reg_30_pred = log_reg_30.predict(X_30)\n",
    "# joblib.dump(log_reg_30_pred, \"dogs-vs-cats/pred/log_reg_30_pred.pkl\")"
   ],
   "metadata": {
    "collapsed": false,
    "pycharm": {
     "name": "#%%\n"
    }
   }
  },
  {
   "cell_type": "code",
   "execution_count": null,
   "outputs": [],
   "source": [
    "log_reg_30_pred = joblib.load(r\"dogs-vs-cats/pred/log_reg_30_pred.pkl\")"
   ],
   "metadata": {
    "collapsed": false,
    "pycharm": {
     "name": "#%%\n"
    }
   }
  },
  {
   "cell_type": "code",
   "execution_count": null,
   "outputs": [],
   "source": [
    "metrics.accuracy_score(y_30, log_reg_30_pred)"
   ],
   "metadata": {
    "collapsed": false,
    "pycharm": {
     "name": "#%%\n"
    }
   }
  },
  {
   "cell_type": "code",
   "execution_count": null,
   "outputs": [],
   "source": [
    "# log_reg_30_scores = cross_val_score(log_reg_30, X_30, y_30, scoring=\"accuracy\", cv=4)\n",
    "# joblib.dump(log_reg_30_scores, \"dogs-vs-cats/scores/log_reg_30_scores.pkl\")"
   ],
   "metadata": {
    "collapsed": false,
    "pycharm": {
     "name": "#%%\n"
    }
   }
  },
  {
   "cell_type": "code",
   "execution_count": null,
   "outputs": [],
   "source": [
    "log_reg_30_scores = joblib.load(r\"dogs-vs-cats/scores/log_reg_30_scores.pkl\")"
   ],
   "metadata": {
    "collapsed": false,
    "pycharm": {
     "name": "#%%\n"
    }
   }
  },
  {
   "cell_type": "code",
   "execution_count": null,
   "outputs": [],
   "source": [
    "display_scores(log_reg_30_scores)"
   ],
   "metadata": {
    "collapsed": false,
    "pycharm": {
     "name": "#%%\n"
    }
   }
  },
  {
   "cell_type": "markdown",
   "source": [
    "> #### 30x30 Grayscale"
   ],
   "metadata": {
    "collapsed": false
   }
  },
  {
   "cell_type": "code",
   "execution_count": null,
   "outputs": [],
   "source": [
    "# X_30g, y_30g = prep_data(strat_train_set[\"path\"], 30, 30, 1, is_canny=False)\n",
    "# joblib.dump(X_30g, \"dogs-vs-cats/data/X_30g.pkl\")\n",
    "# joblib.dump(y_30g, \"dogs-vs-cats/data/y_30g.pkl\")"
   ],
   "metadata": {
    "collapsed": false,
    "pycharm": {
     "name": "#%%\n"
    }
   }
  },
  {
   "cell_type": "code",
   "execution_count": null,
   "outputs": [],
   "source": [
    "X_30g = joblib.load(r\"dogs-vs-cats/data/X_30g.pkl\")\n",
    "y_30g = joblib.load(r\"dogs-vs-cats/data/y_30g.pkl\")"
   ],
   "metadata": {
    "collapsed": false,
    "pycharm": {
     "name": "#%%\n"
    }
   }
  },
  {
   "cell_type": "code",
   "execution_count": null,
   "outputs": [],
   "source": [
    "X_30g = StandardScaler().fit_transform(X_30g)"
   ],
   "metadata": {
    "collapsed": false,
    "pycharm": {
     "name": "#%%\n"
    }
   }
  },
  {
   "cell_type": "code",
   "execution_count": null,
   "outputs": [],
   "source": [
    "log_reg_30g = LogisticRegression(random_state=42, n_jobs=-1)\n",
    "# log_reg_30g.fit(X_30g, y_30g)\n",
    "# joblib.dump(log_reg_30g, \"dogs-vs-cats/models/log_reg_30g.pkl\")"
   ],
   "metadata": {
    "collapsed": false,
    "pycharm": {
     "name": "#%%\n"
    }
   }
  },
  {
   "cell_type": "code",
   "execution_count": null,
   "outputs": [],
   "source": [
    "log_reg_30g = joblib.load(r\"dogs-vs-cats/models/log_reg_30g.pkl\")"
   ],
   "metadata": {
    "collapsed": false,
    "pycharm": {
     "name": "#%%\n"
    }
   }
  },
  {
   "cell_type": "code",
   "execution_count": null,
   "outputs": [],
   "source": [
    "# log_reg_30g_pred = log_reg_30g.predict(X_30g)\n",
    "# joblib.dump(log_reg_30g_pred, \"dogs-vs-cats/pred/log_reg_30g_pred.pkl\")"
   ],
   "metadata": {
    "collapsed": false,
    "pycharm": {
     "name": "#%%\n"
    }
   }
  },
  {
   "cell_type": "code",
   "execution_count": null,
   "outputs": [],
   "source": [
    "log_reg_30g_pred = joblib.load(r\"dogs-vs-cats/pred/log_reg_30g_pred.pkl\")"
   ],
   "metadata": {
    "collapsed": false,
    "pycharm": {
     "name": "#%%\n"
    }
   }
  },
  {
   "cell_type": "code",
   "execution_count": null,
   "outputs": [],
   "source": [
    "metrics.accuracy_score(y_30g, log_reg_30g_pred)"
   ],
   "metadata": {
    "collapsed": false,
    "pycharm": {
     "name": "#%%\n"
    }
   }
  },
  {
   "cell_type": "code",
   "execution_count": null,
   "outputs": [],
   "source": [
    "# log_reg_30g_scores = cross_val_score(log_reg_30g, X_30g, y_30g, scoring=\"accuracy\", cv=4)\n",
    "# joblib.dump(log_reg_30g_scores, \"dogs-vs-cats/scores/log_reg_30g_scores.pkl\")"
   ],
   "metadata": {
    "collapsed": false,
    "pycharm": {
     "name": "#%%\n"
    }
   }
  },
  {
   "cell_type": "code",
   "execution_count": null,
   "outputs": [],
   "source": [
    "log_reg_30g_scores = joblib.load(r\"dogs-vs-cats/scores/log_reg_30g_scores.pkl\")"
   ],
   "metadata": {
    "collapsed": false,
    "pycharm": {
     "name": "#%%\n"
    }
   }
  },
  {
   "cell_type": "code",
   "execution_count": null,
   "outputs": [],
   "source": [
    "display_scores(log_reg_30g_scores)"
   ],
   "metadata": {
    "collapsed": false,
    "pycharm": {
     "name": "#%%\n"
    }
   }
  },
  {
   "cell_type": "markdown",
   "source": [
    "> #### 30x30 Canny"
   ],
   "metadata": {
    "collapsed": false
   }
  },
  {
   "cell_type": "code",
   "execution_count": null,
   "outputs": [],
   "source": [
    "# X_30C, y_30C = prep_data(strat_train_set[\"path\"], 30, 30, 1, is_canny=True)\n",
    "# joblib.dump(X_30C, \"dogs-vs-cats/data/X_30C.pkl\")\n",
    "# joblib.dump(y_30C, \"dogs-vs-cats/data/y_30C.pkl\")"
   ],
   "metadata": {
    "collapsed": false,
    "pycharm": {
     "name": "#%%\n"
    }
   }
  },
  {
   "cell_type": "code",
   "execution_count": null,
   "outputs": [],
   "source": [
    "X_30C = joblib.load(r\"dogs-vs-cats/data/X_30C.pkl\")\n",
    "y_30C = joblib.load(r\"dogs-vs-cats/data/y_30C.pkl\")"
   ],
   "metadata": {
    "collapsed": false,
    "pycharm": {
     "name": "#%%\n"
    }
   }
  },
  {
   "cell_type": "code",
   "execution_count": null,
   "outputs": [],
   "source": [
    "X_30C = StandardScaler().fit_transform(X_30C)"
   ],
   "metadata": {
    "collapsed": false,
    "pycharm": {
     "name": "#%%\n"
    }
   }
  },
  {
   "cell_type": "code",
   "execution_count": null,
   "outputs": [],
   "source": [
    "log_reg_30C = LogisticRegression(random_state=42, n_jobs=-1)\n",
    "# log_reg_30C.fit(X_30C, y_30C)\n",
    "# joblib.dump(log_reg_30C, \"dogs-vs-cats/models/log_reg_30C.pkl\")"
   ],
   "metadata": {
    "collapsed": false,
    "pycharm": {
     "name": "#%%\n"
    }
   }
  },
  {
   "cell_type": "code",
   "execution_count": null,
   "outputs": [],
   "source": [
    "log_reg_30C = joblib.load(r\"dogs-vs-cats/models/log_reg_30C.pkl\")"
   ],
   "metadata": {
    "collapsed": false,
    "pycharm": {
     "name": "#%%\n"
    }
   }
  },
  {
   "cell_type": "code",
   "execution_count": null,
   "outputs": [],
   "source": [
    "# log_reg_30C_pred = log_reg_30C.predict(X_30C)\n",
    "# joblib.dump(log_reg_30C_pred, \"dogs-vs-cats/pred/log_reg_30C_pred.pkl\")"
   ],
   "metadata": {
    "collapsed": false,
    "pycharm": {
     "name": "#%%\n"
    }
   }
  },
  {
   "cell_type": "code",
   "execution_count": null,
   "outputs": [],
   "source": [
    "log_reg_30C_pred = joblib.load(r\"dogs-vs-cats/pred/log_reg_30C_pred.pkl\")"
   ],
   "metadata": {
    "collapsed": false,
    "pycharm": {
     "name": "#%%\n"
    }
   }
  },
  {
   "cell_type": "code",
   "execution_count": null,
   "outputs": [],
   "source": [
    "metrics.accuracy_score(y_30C, log_reg_30C_pred)"
   ],
   "metadata": {
    "collapsed": false,
    "pycharm": {
     "name": "#%%\n"
    }
   }
  },
  {
   "cell_type": "code",
   "execution_count": null,
   "outputs": [],
   "source": [
    "# log_reg_30C_scores = cross_val_score(log_reg_30C, X_30C, y_30C, scoring=\"accuracy\", cv=4)\n",
    "# joblib.dump(log_reg_30C_scores, \"dogs-vs-cats/scores/log_reg_30C_scores.pkl\")"
   ],
   "metadata": {
    "collapsed": false,
    "pycharm": {
     "name": "#%%\n"
    }
   }
  },
  {
   "cell_type": "code",
   "execution_count": null,
   "outputs": [],
   "source": [
    "log_reg_30C_scores = joblib.load(r\"dogs-vs-cats/scores/log_reg_30C_scores.pkl\")"
   ],
   "metadata": {
    "collapsed": false,
    "pycharm": {
     "name": "#%%\n"
    }
   }
  },
  {
   "cell_type": "code",
   "execution_count": null,
   "outputs": [],
   "source": [
    "display_scores(log_reg_30C_scores)"
   ],
   "metadata": {
    "collapsed": false,
    "pycharm": {
     "name": "#%%\n"
    }
   }
  },
  {
   "cell_type": "markdown",
   "source": [
    "end testing 30x30\n",
    "\n",
    "----"
   ],
   "metadata": {
    "collapsed": false
   }
  },
  {
   "cell_type": "markdown",
   "source": [
    "testing 40x40\n",
    "\n",
    "-----"
   ],
   "metadata": {
    "collapsed": false
   }
  },
  {
   "cell_type": "markdown",
   "source": [
    "> #### 40x40x3 Color"
   ],
   "metadata": {
    "collapsed": false
   }
  },
  {
   "cell_type": "code",
   "execution_count": null,
   "outputs": [],
   "source": [
    "# X_40, y_40 = prep_data(strat_train_set[\"path\"], 40, 40, 3, is_canny=False)\n",
    "# joblib.dump(X_40, \"dogs-vs-cats/data/X_40.pkl\")\n",
    "# joblib.dump(y_40, \"dogs-vs-cats/data/y_40.pkl\")"
   ],
   "metadata": {
    "collapsed": false,
    "pycharm": {
     "name": "#%%\n"
    }
   }
  },
  {
   "cell_type": "code",
   "execution_count": null,
   "outputs": [],
   "source": [
    "X_40 = joblib.load(r\"dogs-vs-cats/data/X_40.pkl\")\n",
    "y_40 = joblib.load(r\"dogs-vs-cats/data/y_40.pkl\")"
   ],
   "metadata": {
    "collapsed": false,
    "pycharm": {
     "name": "#%%\n"
    }
   }
  },
  {
   "cell_type": "code",
   "execution_count": null,
   "outputs": [],
   "source": [
    "X_40 = StandardScaler().fit_transform(X_40)"
   ],
   "metadata": {
    "collapsed": false,
    "pycharm": {
     "name": "#%%\n"
    }
   }
  },
  {
   "cell_type": "code",
   "execution_count": null,
   "outputs": [],
   "source": [
    "log_reg_40 = LogisticRegression(random_state=42, n_jobs=-1)\n",
    "# log_reg_40.fit(X_40, y_40)\n",
    "# joblib.dump(log_reg_40, \"dogs-vs-cats/models/log_reg_40.pkl\")"
   ],
   "metadata": {
    "collapsed": false,
    "pycharm": {
     "name": "#%%\n"
    }
   }
  },
  {
   "cell_type": "code",
   "execution_count": null,
   "outputs": [],
   "source": [
    "log_reg_40 = joblib.load(r\"dogs-vs-cats/models/log_reg_40.pkl\")"
   ],
   "metadata": {
    "collapsed": false,
    "pycharm": {
     "name": "#%%\n"
    }
   }
  },
  {
   "cell_type": "code",
   "execution_count": null,
   "outputs": [],
   "source": [
    "# log_reg_40_pred = log_reg_40.predict(X_40)\n",
    "# joblib.dump(log_reg_40_pred, \"dogs-vs-cats/pred/log_reg_40_pred.pkl\")"
   ],
   "metadata": {
    "collapsed": false,
    "pycharm": {
     "name": "#%%\n"
    }
   }
  },
  {
   "cell_type": "code",
   "execution_count": null,
   "outputs": [],
   "source": [
    "log_reg_40_pred = joblib.load(r\"dogs-vs-cats/pred/log_reg_40_pred.pkl\")"
   ],
   "metadata": {
    "collapsed": false,
    "pycharm": {
     "name": "#%%\n"
    }
   }
  },
  {
   "cell_type": "code",
   "execution_count": null,
   "outputs": [],
   "source": [
    "metrics.accuracy_score(y_40, log_reg_40_pred)"
   ],
   "metadata": {
    "collapsed": false,
    "pycharm": {
     "name": "#%%\n"
    }
   }
  },
  {
   "cell_type": "code",
   "execution_count": null,
   "outputs": [],
   "source": [
    "# log_reg_40_scores = cross_val_score(log_reg_40, X_40, y_40, scoring=\"accuracy\", cv=4)\n",
    "# joblib.dump(log_reg_40_scores, \"dogs-vs-cats/scores/log_reg_40_scores.pkl\")"
   ],
   "metadata": {
    "collapsed": false,
    "pycharm": {
     "name": "#%%\n"
    }
   }
  },
  {
   "cell_type": "code",
   "execution_count": null,
   "outputs": [],
   "source": [
    "log_reg_40_scores = joblib.load(r\"dogs-vs-cats/scores/log_reg_40_scores.pkl\")"
   ],
   "metadata": {
    "collapsed": false,
    "pycharm": {
     "name": "#%%\n"
    }
   }
  },
  {
   "cell_type": "code",
   "execution_count": null,
   "outputs": [],
   "source": [
    "display_scores(log_reg_40_scores)"
   ],
   "metadata": {
    "collapsed": false,
    "pycharm": {
     "name": "#%%\n"
    }
   }
  },
  {
   "cell_type": "markdown",
   "source": [
    "> #### 40x40 Grayscale"
   ],
   "metadata": {
    "collapsed": false
   }
  },
  {
   "cell_type": "code",
   "execution_count": null,
   "outputs": [],
   "source": [
    "# X_40g, y_40g = prep_data(strat_train_set[\"path\"], 40, 40, 1, is_canny=False)\n",
    "# joblib.dump(X_40g, \"dogs-vs-cats/data/X_40g.pkl\")\n",
    "# joblib.dump(y_40g, \"dogs-vs-cats/data/y_40g.pkl\")"
   ],
   "metadata": {
    "collapsed": false,
    "pycharm": {
     "name": "#%%\n"
    }
   }
  },
  {
   "cell_type": "code",
   "execution_count": null,
   "outputs": [],
   "source": [
    "X_40g = joblib.load(r\"dogs-vs-cats/data/X_40g.pkl\")\n",
    "y_40g = joblib.load(r\"dogs-vs-cats/data/y_40g.pkl\")"
   ],
   "metadata": {
    "collapsed": false,
    "pycharm": {
     "name": "#%%\n"
    }
   }
  },
  {
   "cell_type": "code",
   "execution_count": null,
   "outputs": [],
   "source": [
    "X_40g = StandardScaler().fit_transform(X_40g)"
   ],
   "metadata": {
    "collapsed": false,
    "pycharm": {
     "name": "#%%\n"
    }
   }
  },
  {
   "cell_type": "code",
   "execution_count": null,
   "outputs": [],
   "source": [
    "log_reg_40g = LogisticRegression(random_state=42, n_jobs=-1)\n",
    "# log_reg_40g.fit(X_40g, y_40g)\n",
    "# joblib.dump(log_reg_40g, \"dogs-vs-cats/models/log_reg_40g.pkl\")"
   ],
   "metadata": {
    "collapsed": false,
    "pycharm": {
     "name": "#%%\n"
    }
   }
  },
  {
   "cell_type": "code",
   "execution_count": null,
   "outputs": [],
   "source": [
    "log_reg_40g = joblib.load(r\"dogs-vs-cats/models/log_reg_40g.pkl\")"
   ],
   "metadata": {
    "collapsed": false,
    "pycharm": {
     "name": "#%%\n"
    }
   }
  },
  {
   "cell_type": "code",
   "execution_count": null,
   "outputs": [],
   "source": [
    "# log_reg_40g_pred = log_reg_40g.predict(X_40g)\n",
    "# joblib.dump(log_reg_40g_pred, \"dogs-vs-cats/pred/log_reg_40g_pred.pkl\")"
   ],
   "metadata": {
    "collapsed": false,
    "pycharm": {
     "name": "#%%\n"
    }
   }
  },
  {
   "cell_type": "code",
   "execution_count": null,
   "outputs": [],
   "source": [
    "log_reg_40g_pred = joblib.load(r\"dogs-vs-cats/pred/log_reg_40g_pred.pkl\")"
   ],
   "metadata": {
    "collapsed": false,
    "pycharm": {
     "name": "#%%\n"
    }
   }
  },
  {
   "cell_type": "code",
   "execution_count": null,
   "outputs": [],
   "source": [
    "metrics.accuracy_score(y_40g, log_reg_40g_pred)"
   ],
   "metadata": {
    "collapsed": false,
    "pycharm": {
     "name": "#%%\n"
    }
   }
  },
  {
   "cell_type": "code",
   "execution_count": null,
   "outputs": [],
   "source": [
    "# log_reg_40g_scores = cross_val_score(log_reg_40g, X_40g, y_40g, scoring=\"accuracy\", cv=4)\n",
    "# joblib.dump(log_reg_40g_scores, \"dogs-vs-cats/scores/log_reg_40g_scores.pkl\")"
   ],
   "metadata": {
    "collapsed": false,
    "pycharm": {
     "name": "#%%\n"
    }
   }
  },
  {
   "cell_type": "code",
   "execution_count": null,
   "outputs": [],
   "source": [
    "log_reg_40g_scores = joblib.load(r\"dogs-vs-cats/scores/log_reg_40g_scores.pkl\")"
   ],
   "metadata": {
    "collapsed": false,
    "pycharm": {
     "name": "#%%\n"
    }
   }
  },
  {
   "cell_type": "code",
   "execution_count": null,
   "outputs": [],
   "source": [
    "display_scores(log_reg_40g_scores)"
   ],
   "metadata": {
    "collapsed": false,
    "pycharm": {
     "name": "#%%\n"
    }
   }
  },
  {
   "cell_type": "markdown",
   "source": [
    "> #### 40x40 Canny"
   ],
   "metadata": {
    "collapsed": false
   }
  },
  {
   "cell_type": "code",
   "execution_count": null,
   "outputs": [],
   "source": [
    "# X_40C, y_40C = prep_data(strat_train_set[\"path\"], 40, 40, 1, is_canny=True)\n",
    "# joblib.dump(X_40C, \"dogs-vs-cats/data/X_40C.pkl\")\n",
    "# joblib.dump(y_40C, \"dogs-vs-cats/data/y_40C.pkl\")"
   ],
   "metadata": {
    "collapsed": false,
    "pycharm": {
     "name": "#%%\n"
    }
   }
  },
  {
   "cell_type": "code",
   "execution_count": null,
   "outputs": [],
   "source": [
    "X_40C = joblib.load(r\"dogs-vs-cats/data/X_40C.pkl\")\n",
    "y_40C = joblib.load(r\"dogs-vs-cats/data/y_40C.pkl\")"
   ],
   "metadata": {
    "collapsed": false,
    "pycharm": {
     "name": "#%%\n"
    }
   }
  },
  {
   "cell_type": "code",
   "execution_count": null,
   "outputs": [],
   "source": [
    "X_40C = StandardScaler().fit_transform(X_40C)"
   ],
   "metadata": {
    "collapsed": false,
    "pycharm": {
     "name": "#%%\n"
    }
   }
  },
  {
   "cell_type": "code",
   "execution_count": null,
   "outputs": [],
   "source": [
    "log_reg_40C = LogisticRegression(random_state=42, n_jobs=-1)\n",
    "# log_reg_40C.fit(X_40C, y_40C)\n",
    "# joblib.dump(log_reg_40C, \"dogs-vs-cats/models/log_reg_40C.pkl\")"
   ],
   "metadata": {
    "collapsed": false,
    "pycharm": {
     "name": "#%%\n"
    }
   }
  },
  {
   "cell_type": "code",
   "execution_count": null,
   "outputs": [],
   "source": [
    "log_reg_40C = joblib.load(r\"dogs-vs-cats/models/log_reg_40C.pkl\")"
   ],
   "metadata": {
    "collapsed": false,
    "pycharm": {
     "name": "#%%\n"
    }
   }
  },
  {
   "cell_type": "code",
   "execution_count": null,
   "outputs": [],
   "source": [
    "# log_reg_40C_pred = log_reg_40C.predict(X_40C)\n",
    "# joblib.dump(log_reg_40C_pred, \"dogs-vs-cats/pred/log_reg_40C_pred.pkl\")"
   ],
   "metadata": {
    "collapsed": false,
    "pycharm": {
     "name": "#%%\n"
    }
   }
  },
  {
   "cell_type": "code",
   "execution_count": null,
   "outputs": [],
   "source": [
    "log_reg_40C_pred = joblib.load(r\"dogs-vs-cats/pred/log_reg_40C_pred.pkl\")"
   ],
   "metadata": {
    "collapsed": false,
    "pycharm": {
     "name": "#%%\n"
    }
   }
  },
  {
   "cell_type": "code",
   "execution_count": null,
   "outputs": [],
   "source": [
    "metrics.accuracy_score(y_40C, log_reg_40C_pred)"
   ],
   "metadata": {
    "collapsed": false,
    "pycharm": {
     "name": "#%%\n"
    }
   }
  },
  {
   "cell_type": "code",
   "execution_count": null,
   "outputs": [],
   "source": [
    "# log_reg_40C_scores = cross_val_score(log_reg_40C, X_40C, y_40C, scoring=\"accuracy\", cv=4)\n",
    "# joblib.dump(log_reg_40C_scores, \"dogs-vs-cats/scores/log_reg_40C_scores.pkl\")"
   ],
   "metadata": {
    "collapsed": false,
    "pycharm": {
     "name": "#%%\n"
    }
   }
  },
  {
   "cell_type": "code",
   "execution_count": null,
   "outputs": [],
   "source": [
    "log_reg_40C_scores = joblib.load(r\"dogs-vs-cats/scores/log_reg_40C_scores.pkl\")"
   ],
   "metadata": {
    "collapsed": false,
    "pycharm": {
     "name": "#%%\n"
    }
   }
  },
  {
   "cell_type": "code",
   "execution_count": null,
   "outputs": [],
   "source": [
    "display_scores(log_reg_40C_scores)"
   ],
   "metadata": {
    "collapsed": false,
    "pycharm": {
     "name": "#%%\n"
    }
   }
  },
  {
   "cell_type": "markdown",
   "source": [
    "end testing 40x40\n",
    "\n",
    "----"
   ],
   "metadata": {
    "collapsed": false
   }
  },
  {
   "cell_type": "markdown",
   "source": [
    "testing 50x50\n",
    "\n",
    "-----"
   ],
   "metadata": {
    "collapsed": false
   }
  },
  {
   "cell_type": "markdown",
   "source": [
    "> #### 50x50x3 Color"
   ],
   "metadata": {
    "collapsed": false
   }
  },
  {
   "cell_type": "code",
   "execution_count": null,
   "outputs": [],
   "source": [
    "# X_50, y_50 = prep_data(strat_train_set[\"path\"], 50, 50, 3, is_canny=False)\n",
    "# joblib.dump(X_50, \"dogs-vs-cats/data/X_50.pkl\")\n",
    "# joblib.dump(y_50, \"dogs-vs-cats/data/y_50.pkl\")"
   ],
   "metadata": {
    "collapsed": false,
    "pycharm": {
     "name": "#%%\n"
    }
   }
  },
  {
   "cell_type": "code",
   "execution_count": null,
   "outputs": [],
   "source": [
    "X_50 = joblib.load(r\"dogs-vs-cats/data/X_50.pkl\")\n",
    "y_50 = joblib.load(r\"dogs-vs-cats/data/y_50.pkl\")"
   ],
   "metadata": {
    "collapsed": false,
    "pycharm": {
     "name": "#%%\n"
    }
   }
  },
  {
   "cell_type": "code",
   "execution_count": null,
   "outputs": [],
   "source": [
    "X_50 = StandardScaler().fit_transform(X_50)"
   ],
   "metadata": {
    "collapsed": false,
    "pycharm": {
     "name": "#%%\n"
    }
   }
  },
  {
   "cell_type": "code",
   "execution_count": null,
   "outputs": [],
   "source": [
    "log_reg_50 = LogisticRegression(random_state=42, n_jobs=-1)\n",
    "# log_reg_50.fit(X_50, y_50)\n",
    "# joblib.dump(log_reg_50, \"dogs-vs-cats/models/log_reg_50.pkl\")"
   ],
   "metadata": {
    "collapsed": false,
    "pycharm": {
     "name": "#%%\n"
    }
   }
  },
  {
   "cell_type": "code",
   "execution_count": null,
   "outputs": [],
   "source": [
    "log_reg_50 = joblib.load(r\"dogs-vs-cats/models/log_reg_50.pkl\")"
   ],
   "metadata": {
    "collapsed": false,
    "pycharm": {
     "name": "#%%\n"
    }
   }
  },
  {
   "cell_type": "code",
   "execution_count": null,
   "outputs": [],
   "source": [
    "# log_reg_50_pred = log_reg_50.predict(X_50)\n",
    "# joblib.dump(log_reg_50_pred, \"dogs-vs-cats/pred/log_reg_50_pred.pkl\")"
   ],
   "metadata": {
    "collapsed": false,
    "pycharm": {
     "name": "#%%\n"
    }
   }
  },
  {
   "cell_type": "code",
   "execution_count": null,
   "outputs": [],
   "source": [
    "log_reg_50_pred = joblib.load(r\"dogs-vs-cats/pred/log_reg_50_pred.pkl\")"
   ],
   "metadata": {
    "collapsed": false,
    "pycharm": {
     "name": "#%%\n"
    }
   }
  },
  {
   "cell_type": "code",
   "execution_count": null,
   "outputs": [],
   "source": [
    "metrics.accuracy_score(y_50, log_reg_50_pred)"
   ],
   "metadata": {
    "collapsed": false,
    "pycharm": {
     "name": "#%%\n"
    }
   }
  },
  {
   "cell_type": "code",
   "execution_count": null,
   "outputs": [],
   "source": [
    "# log_reg_50_scores = cross_val_score(log_reg_50, X_50, y_50, scoring=\"accuracy\", cv=4)\n",
    "# joblib.dump(log_reg_50_scores, \"dogs-vs-cats/scores/log_reg_50_scores.pkl\")"
   ],
   "metadata": {
    "collapsed": false,
    "pycharm": {
     "name": "#%%\n"
    }
   }
  },
  {
   "cell_type": "code",
   "execution_count": null,
   "outputs": [],
   "source": [
    "log_reg_50_scores = joblib.load(r\"dogs-vs-cats/scores/log_reg_50_scores.pkl\")"
   ],
   "metadata": {
    "collapsed": false,
    "pycharm": {
     "name": "#%%\n"
    }
   }
  },
  {
   "cell_type": "code",
   "execution_count": null,
   "outputs": [],
   "source": [
    "display_scores(log_reg_50_scores)"
   ],
   "metadata": {
    "collapsed": false,
    "pycharm": {
     "name": "#%%\n"
    }
   }
  },
  {
   "cell_type": "markdown",
   "source": [
    "> #### 50x50 Grayscale"
   ],
   "metadata": {
    "collapsed": false
   }
  },
  {
   "cell_type": "code",
   "execution_count": null,
   "outputs": [],
   "source": [
    "# X_50g, y_50g = prep_data(strat_train_set[\"path\"], 50, 50, 1, is_canny=False)\n",
    "#joblib.dump(X_50g, \"dogs-vs-cats/data/X_50g.pkl\")\n",
    "# joblib.dump(y_50g, \"dogs-vs-cats/data/y_50g.pkl\")"
   ],
   "metadata": {
    "collapsed": false,
    "pycharm": {
     "name": "#%%\n"
    }
   }
  },
  {
   "cell_type": "code",
   "execution_count": null,
   "outputs": [],
   "source": [
    "X_50g = joblib.load(r\"dogs-vs-cats/data/X_50g.pkl\")\n",
    "y_50g = joblib.load(r\"dogs-vs-cats/data/y_50g.pkl\")"
   ],
   "metadata": {
    "collapsed": false,
    "pycharm": {
     "name": "#%%\n"
    }
   }
  },
  {
   "cell_type": "code",
   "execution_count": null,
   "outputs": [],
   "source": [
    "X_50g = StandardScaler().fit_transform(X_50g)"
   ],
   "metadata": {
    "collapsed": false,
    "pycharm": {
     "name": "#%%\n"
    }
   }
  },
  {
   "cell_type": "code",
   "execution_count": null,
   "outputs": [],
   "source": [
    "log_reg_50g = LogisticRegression(random_state=42, n_jobs=-1)\n",
    "# log_reg_50g.fit(X_50g, y_50g)\n",
    "# joblib.dump(log_reg_50g, \"dogs-vs-cats/models/log_reg_50g.pkl\")"
   ],
   "metadata": {
    "collapsed": false,
    "pycharm": {
     "name": "#%%\n"
    }
   }
  },
  {
   "cell_type": "code",
   "execution_count": null,
   "outputs": [],
   "source": [
    "log_reg_50g = joblib.load(r\"dogs-vs-cats/models/log_reg_50g.pkl\")"
   ],
   "metadata": {
    "collapsed": false,
    "pycharm": {
     "name": "#%%\n"
    }
   }
  },
  {
   "cell_type": "code",
   "execution_count": null,
   "outputs": [],
   "source": [
    "# log_reg_50g_pred = log_reg_50g.predict(X_50g)\n",
    "# joblib.dump(log_reg_50g_pred, \"dogs-vs-cats/pred/log_reg_50g_pred.pkl\")"
   ],
   "metadata": {
    "collapsed": false,
    "pycharm": {
     "name": "#%%\n"
    }
   }
  },
  {
   "cell_type": "code",
   "execution_count": null,
   "outputs": [],
   "source": [
    "log_reg_50g_pred = joblib.load(r\"dogs-vs-cats/pred/log_reg_50g_pred.pkl\")"
   ],
   "metadata": {
    "collapsed": false,
    "pycharm": {
     "name": "#%%\n"
    }
   }
  },
  {
   "cell_type": "code",
   "execution_count": null,
   "outputs": [],
   "source": [
    "metrics.accuracy_score(y_50g, log_reg_50g_pred)"
   ],
   "metadata": {
    "collapsed": false,
    "pycharm": {
     "name": "#%%\n"
    }
   }
  },
  {
   "cell_type": "code",
   "execution_count": null,
   "outputs": [],
   "source": [
    "# log_reg_50g_scores = cross_val_score(log_reg_50g, X_50g, y_50g, scoring=\"accuracy\", cv=4)\n",
    "# joblib.dump(log_reg_50g_scores, \"dogs-vs-cats/scores/log_reg_50g_scores.pkl\")"
   ],
   "metadata": {
    "collapsed": false,
    "pycharm": {
     "name": "#%%\n"
    }
   }
  },
  {
   "cell_type": "code",
   "execution_count": null,
   "outputs": [],
   "source": [
    "log_reg_50g_scores = joblib.load(r\"dogs-vs-cats/scores/log_reg_50g_scores.pkl\")"
   ],
   "metadata": {
    "collapsed": false,
    "pycharm": {
     "name": "#%%\n"
    }
   }
  },
  {
   "cell_type": "code",
   "execution_count": null,
   "outputs": [],
   "source": [
    "display_scores(log_reg_50g_scores)"
   ],
   "metadata": {
    "collapsed": false,
    "pycharm": {
     "name": "#%%\n"
    }
   }
  },
  {
   "cell_type": "markdown",
   "source": [
    "> #### 50x50 Canny"
   ],
   "metadata": {
    "collapsed": false
   }
  },
  {
   "cell_type": "code",
   "execution_count": null,
   "outputs": [],
   "source": [
    "# X_50C, y_50C = prep_data(strat_train_set[\"path\"], 50, 50, 1, is_canny=True)\n",
    "# joblib.dump(X_50C, \"dogs-vs-cats/data/X_50C.pkl\")\n",
    "# joblib.dump(y_50C, \"dogs-vs-cats/data/y_50C.pkl\")"
   ],
   "metadata": {
    "collapsed": false,
    "pycharm": {
     "name": "#%%\n"
    }
   }
  },
  {
   "cell_type": "code",
   "execution_count": null,
   "outputs": [],
   "source": [
    "X_50C = joblib.load(r\"dogs-vs-cats/data/X_50C.pkl\")\n",
    "y_50C = joblib.load(r\"dogs-vs-cats/data/y_50C.pkl\")"
   ],
   "metadata": {
    "collapsed": false,
    "pycharm": {
     "name": "#%%\n"
    }
   }
  },
  {
   "cell_type": "code",
   "execution_count": null,
   "outputs": [],
   "source": [
    "X_50C = StandardScaler().fit_transform(X_50C)"
   ],
   "metadata": {
    "collapsed": false,
    "pycharm": {
     "name": "#%%\n"
    }
   }
  },
  {
   "cell_type": "code",
   "execution_count": null,
   "outputs": [],
   "source": [
    "log_reg_50C = LogisticRegression(random_state=42, n_jobs=-1)\n",
    "# log_reg_50C.fit(X_50C, y_50C)\n",
    "# joblib.dump(log_reg_50C, \"dogs-vs-cats/models/log_reg_50C.pkl\")"
   ],
   "metadata": {
    "collapsed": false,
    "pycharm": {
     "name": "#%%\n"
    }
   }
  },
  {
   "cell_type": "code",
   "execution_count": null,
   "outputs": [],
   "source": [
    "log_reg_50C = joblib.load(r\"dogs-vs-cats/models/log_reg_50C.pkl\")"
   ],
   "metadata": {
    "collapsed": false,
    "pycharm": {
     "name": "#%%\n"
    }
   }
  },
  {
   "cell_type": "code",
   "execution_count": null,
   "outputs": [],
   "source": [
    "# log_reg_50C_pred = log_reg_50C.predict(X_50C)\n",
    "# joblib.dump(log_reg_50C_pred, \"dogs-vs-cats/pred/log_reg_50C_pred.pkl\")"
   ],
   "metadata": {
    "collapsed": false,
    "pycharm": {
     "name": "#%%\n"
    }
   }
  },
  {
   "cell_type": "code",
   "execution_count": null,
   "outputs": [],
   "source": [
    "log_reg_50C_pred = joblib.load(r\"dogs-vs-cats/pred/log_reg_50C_pred.pkl\")"
   ],
   "metadata": {
    "collapsed": false,
    "pycharm": {
     "name": "#%%\n"
    }
   }
  },
  {
   "cell_type": "code",
   "execution_count": null,
   "outputs": [],
   "source": [
    "metrics.accuracy_score(y_50C, log_reg_50C_pred)"
   ],
   "metadata": {
    "collapsed": false,
    "pycharm": {
     "name": "#%%\n"
    }
   }
  },
  {
   "cell_type": "code",
   "execution_count": null,
   "outputs": [],
   "source": [
    "# log_reg_50C_scores = cross_val_score(log_reg_50C, X_50C, y_50C, scoring=\"accuracy\", cv=4)\n",
    "# joblib.dump(log_reg_50C_scores, \"dogs-vs-cats/scores/log_reg_50C_scores.pkl\")"
   ],
   "metadata": {
    "collapsed": false,
    "pycharm": {
     "name": "#%%\n"
    }
   }
  },
  {
   "cell_type": "code",
   "execution_count": null,
   "outputs": [],
   "source": [
    "log_reg_50C_scores = joblib.load(r\"dogs-vs-cats/scores/log_reg_50C_scores.pkl\")"
   ],
   "metadata": {
    "collapsed": false,
    "pycharm": {
     "name": "#%%\n"
    }
   }
  },
  {
   "cell_type": "code",
   "execution_count": null,
   "outputs": [],
   "source": [
    "display_scores(log_reg_50C_scores)"
   ],
   "metadata": {
    "collapsed": false,
    "pycharm": {
     "name": "#%%\n"
    }
   }
  },
  {
   "cell_type": "markdown",
   "source": [
    "end testing 50x50\n",
    "\n",
    "----"
   ],
   "metadata": {
    "collapsed": false
   }
  },
  {
   "cell_type": "markdown",
   "source": [
    "* As the size increases, the model fits the training set better (perhaps sometimes overfitting it).\n",
    "However, cross-validation accuracy decreased, meaning that the models performed worse\n",
    "on unseen data.\n",
    "* Grayscale had the lowest accuracy in each scale."
   ],
   "metadata": {
    "collapsed": false
   }
  },
  {
   "cell_type": "markdown",
   "source": [
    "---------"
   ],
   "metadata": {
    "collapsed": false
   }
  },
  {
   "cell_type": "code",
   "execution_count": null,
   "outputs": [],
   "source": [
    "# X_train_gray, y_train_gray = prep_data(strat_train_set['path'], 200, 200, 1)\n",
    "# joblib.dump(X_train_gray, 'dogs-vs-cats/X_train_gray' + '.z', compress=3)\n",
    "# joblib.dump(y_train_gray, 'dogs-vs-cats/y_train_gray' + '.z', compress=3)"
   ],
   "metadata": {
    "collapsed": false,
    "pycharm": {
     "name": "#%%\n"
    }
   }
  },
  {
   "cell_type": "code",
   "execution_count": null,
   "outputs": [],
   "source": [
    "X_train_gray = joblib.load(r'dogs-vs-cats/X_train_gray.z')\n",
    "y_train_gray = joblib.load(r'dogs-vs-cats/y_train_gray.z')\n",
    "set_params(200, 200, 1)"
   ],
   "metadata": {
    "collapsed": false,
    "pycharm": {
     "name": "#%%\n"
    }
   }
  },
  {
   "cell_type": "code",
   "execution_count": null,
   "outputs": [],
   "source": [
    "# X_train_color, y_train_color = prep_data(strat_train_set['path'], 100, 100, 3)\n",
    "# joblib.dump(X_train_color, 'dogs-vs-cats/X_train' + '.z', compress=3)\n",
    "# joblib.dump(y_train_color, 'dogs-vs-cats/y_train' + '.z', compress=3)"
   ],
   "metadata": {
    "collapsed": false,
    "pycharm": {
     "name": "#%%\n"
    }
   }
  },
  {
   "cell_type": "code",
   "execution_count": null,
   "outputs": [],
   "source": [
    "X_train_gray"
   ],
   "metadata": {
    "collapsed": false,
    "pycharm": {
     "name": "#%%\n"
    }
   }
  },
  {
   "cell_type": "code",
   "execution_count": null,
   "outputs": [],
   "source": [
    "y_train_gray"
   ],
   "metadata": {
    "collapsed": false,
    "pycharm": {
     "name": "#%%\n"
    }
   }
  },
  {
   "cell_type": "code",
   "execution_count": null,
   "outputs": [],
   "source": [
    "# data shape (rows, columns)\n",
    "print(\"Grayscale data:\", X_train_gray.shape)\n",
    "print(\"Labels:\", y_train_gray.shape)"
   ],
   "metadata": {
    "collapsed": false,
    "pycharm": {
     "name": "#%%\n"
    }
   }
  },
  {
   "cell_type": "code",
   "execution_count": null,
   "outputs": [],
   "source": [
    "img1_before = strat_train_set['path'][0:1].iloc[0]\n",
    "img1_after = X_train_gray[0]\n",
    "img1_after = img1_after.reshape((ROWS, COLUMNS, CHANNELS))\n",
    "img2_before = strat_train_set['path'][1:2].iloc[0]\n",
    "img2_after = X_train_gray[1]\n",
    "img2_after = img2_after.reshape((ROWS, COLUMNS, CHANNELS))"
   ],
   "metadata": {
    "collapsed": false,
    "pycharm": {
     "name": "#%%\n"
    }
   }
  },
  {
   "cell_type": "code",
   "execution_count": null,
   "outputs": [],
   "source": [
    "fig = plt.figure(figsize=(10, 7))\n",
    "\n",
    "fig.add_subplot(2, 2, 1)\n",
    "image = cv2.imread(img1_before)\n",
    "plt.imshow(cv2.cvtColor(image, cv2.COLOR_BGR2RGB))\n",
    "plt.title('Before', size=15)\n",
    "fig.add_subplot(2, 2, 3)\n",
    "plt.imshow(img1_after, cmap='gray')\n",
    "plt.title('After', size=15)\n",
    "fig.add_subplot(2, 2, 2)\n",
    "image = cv2.imread(img2_before)\n",
    "plt.imshow(cv2.cvtColor(image, cv2.COLOR_BGR2RGB))\n",
    "plt.title('Before', size=15)\n",
    "fig.add_subplot(2, 2, 4)\n",
    "plt.imshow(img2_after, cmap='gray')\n",
    "plt.title('After', size=15)\n",
    "fig.suptitle(\"Dogs vs. Cats Resized Samples\", size=30)\n",
    "plt.tight_layout()\n",
    "plt.show()"
   ],
   "metadata": {
    "collapsed": false,
    "pycharm": {
     "name": "#%%\n"
    }
   }
  },
  {
   "cell_type": "code",
   "execution_count": null,
   "outputs": [],
   "source": [
    "# std_scl = StandardScaler()\n",
    "# X_train_gray_scaled = std_scl.fit_transform(X_train_gray)\n",
    "# joblib.dump(X_train_gray_scaled, 'dogs-vs-cats/X_train_gray_scaled' + '.z', compress=3)\n",
    "# joblib.dump(std_scl, 'dogs-vs-cats/std_scl1.pkl')"
   ],
   "metadata": {
    "collapsed": false,
    "pycharm": {
     "name": "#%%\n"
    }
   }
  },
  {
   "cell_type": "code",
   "execution_count": null,
   "outputs": [],
   "source": [
    "X_train_gray_scaled = joblib.load(r'dogs-vs-cats/X_train_gray_scaled.z')"
   ],
   "metadata": {
    "collapsed": false,
    "pycharm": {
     "name": "#%%\n"
    }
   }
  },
  {
   "cell_type": "code",
   "execution_count": null,
   "outputs": [],
   "source": [
    "# pca = PCA(svd_solver='randomized', random_state=42)\n",
    "# pca.fit(X_train_gray_scaled)\n",
    "# joblib.dump(pca, \"dogs-vs-cats/pca.pkl\")"
   ],
   "metadata": {
    "collapsed": false,
    "pycharm": {
     "name": "#%%\n"
    }
   }
  },
  {
   "cell_type": "code",
   "execution_count": null,
   "outputs": [],
   "source": [
    "pca = joblib.load(r\"dogs-vs-cats/pca.pkl\")"
   ],
   "metadata": {
    "collapsed": false,
    "pycharm": {
     "name": "#%%\n"
    }
   }
  },
  {
   "cell_type": "code",
   "execution_count": null,
   "outputs": [],
   "source": [
    "# cumulative sum (increasing by sequential addition) of components\n",
    "cumsum = np.cumsum(pca.explained_variance_ratio_)\n",
    "d = np.argmax(cumsum >= 0.95) + 1"
   ],
   "metadata": {
    "collapsed": false,
    "pycharm": {
     "name": "#%%\n"
    }
   }
  },
  {
   "cell_type": "code",
   "execution_count": null,
   "outputs": [],
   "source": [
    "plt.figure(figsize=(12, 5))\n",
    "plt.axis([0, 20000, 0, 1])  # axis limits\n",
    "plt.plot(cumsum, linewidth=3)\n",
    "plt.xlabel(\"Dimensions\", size=15)\n",
    "plt.ylabel(\"Explained Variance\", size=15)\n",
    "plt.plot([d, d], [0, 0.95], \"k:\")\n",
    "plt.plot([0, d], [0.95, 0.95], \"k:\")\n",
    "plt.tight_layout()\n",
    "plt.show()"
   ],
   "metadata": {
    "collapsed": false,
    "pycharm": {
     "name": "#%%\n"
    }
   }
  },
  {
   "cell_type": "code",
   "execution_count": null,
   "outputs": [],
   "source": [
    "d"
   ],
   "metadata": {
    "collapsed": false,
    "pycharm": {
     "name": "#%%\n"
    }
   }
  },
  {
   "cell_type": "markdown",
   "source": [
    "> We can preserve 95% of the variance with just 1575 features, drastically\n",
    "> better than the original 40,000 dimensions!"
   ],
   "metadata": {
    "collapsed": false
   }
  },
  {
   "cell_type": "code",
   "execution_count": null,
   "outputs": [],
   "source": [
    "# pca = PCA(n_components=d, svd_solver=\"randomized\", random_state=42)\n",
    "# pca.fit(X_train_gray_scaled)\n",
    "# joblib.dump(pca, \"dogs-vs-cats/pca2.pkl\")"
   ],
   "metadata": {
    "collapsed": false,
    "pycharm": {
     "name": "#%%\n"
    }
   }
  },
  {
   "cell_type": "code",
   "execution_count": null,
   "outputs": [],
   "source": [
    "pca = joblib.load(r\"dogs-vs-cats/pca2.pkl\")"
   ],
   "metadata": {
    "collapsed": false,
    "pycharm": {
     "name": "#%%\n"
    }
   }
  },
  {
   "cell_type": "code",
   "execution_count": null,
   "outputs": [],
   "source": [
    "X_reduced = pca.transform(X_train_gray_scaled)"
   ],
   "metadata": {
    "collapsed": false,
    "pycharm": {
     "name": "#%%\n"
    }
   }
  },
  {
   "cell_type": "code",
   "execution_count": null,
   "outputs": [],
   "source": [
    "joblib.dump(X_reduced, \"dogs-vs-cats/X_reduced.pkl\")"
   ],
   "metadata": {
    "collapsed": false,
    "pycharm": {
     "name": "#%%\n"
    }
   }
  },
  {
   "cell_type": "code",
   "execution_count": null,
   "outputs": [],
   "source": [
    "X_reduced = joblib.load(r\"dogs-vs-cats/X_reduced.pkl\")"
   ],
   "metadata": {
    "collapsed": false,
    "pycharm": {
     "name": "#%%\n"
    }
   }
  },
  {
   "cell_type": "code",
   "execution_count": null,
   "outputs": [],
   "source": [
    "X_reduced.shape"
   ],
   "metadata": {
    "collapsed": false,
    "pycharm": {
     "name": "#%%\n"
    }
   }
  },
  {
   "cell_type": "code",
   "execution_count": null,
   "outputs": [],
   "source": [
    "from sklearn.manifold import TSNE"
   ],
   "metadata": {
    "collapsed": false,
    "pycharm": {
     "name": "#%%\n"
    }
   }
  },
  {
   "cell_type": "code",
   "execution_count": null,
   "outputs": [],
   "source": [
    "# tsne30 = TSNE(n_components=2, perplexity=30, random_state=42, n_jobs=-1)\n",
    "# X_reduced_tsne30 = tsne30.fit_transform(X_reduced, y_train)\n",
    "# joblib.dump(X_reduced_tsne30, \"dogs-vs-cats/X_reduced_tsne30.pkl\")\n",
    "\n",
    "# tsne50 = TSNE(n_components=2, perplexity=50, random_state=42, n_jobs=-1)\n",
    "# X_reduced_tsne50 = tsne50.fit_transform(X_reduced, y_train)\n",
    "# joblib.dump(X_reduced_tsne50, \"dogs-vs-cats/X_reduced_tsne50.pkl\")"
   ],
   "metadata": {
    "collapsed": false,
    "pycharm": {
     "name": "#%%\n"
    }
   }
  },
  {
   "cell_type": "code",
   "execution_count": null,
   "outputs": [],
   "source": [
    "X_reduced_tsne30 = joblib.load(r\"dogs-vs-cats/X_reduced_tsne30.pkl\")"
   ],
   "metadata": {
    "collapsed": false,
    "pycharm": {
     "name": "#%%\n"
    }
   }
  },
  {
   "cell_type": "code",
   "execution_count": null,
   "outputs": [],
   "source": [
    "plt.figure(figsize=(35, 25))\n",
    "plt.scatter(X_reduced_tsne30[:, 0], X_reduced_tsne30[:, 1], c=y_train_gray, cmap='summer')\n",
    "plt.axis('off')\n",
    "cb = plt.colorbar(ticks=range(2))\n",
    "cb.ax.set_yticklabels(['cat', 'dog'], size=25)\n",
    "plt.show()"
   ],
   "metadata": {
    "collapsed": false,
    "pycharm": {
     "name": "#%%\n"
    }
   }
  },
  {
   "cell_type": "code",
   "execution_count": null,
   "outputs": [],
   "source": [
    "# silhouette_scores = []\n",
    "# for i in range(2,21):\n",
    "#    print(\"Starting iteration {}\".format(i-1))\n",
    "#    kmeans = KMeans(n_clusters= i, random_state=42)\n",
    "#    kmeans.fit(X_reduced)\n",
    "#    silhouette_scores.append(metrics.silhouette_score(X_reduced, kmeans.labels_))\n",
    "\n",
    "# joblib.dump(silhouette_scores, \"dogs-vs-cats/silhouette_scores.pkl\")"
   ],
   "metadata": {
    "collapsed": false,
    "pycharm": {
     "name": "#%%\n"
    }
   }
  },
  {
   "cell_type": "code",
   "execution_count": null,
   "outputs": [],
   "source": [
    "silhouette_scores = joblib.load(r\"dogs-vs-cats/silhouette_scores.pkl\")"
   ],
   "metadata": {
    "collapsed": false,
    "pycharm": {
     "name": "#%%\n"
    }
   }
  },
  {
   "cell_type": "code",
   "execution_count": null,
   "outputs": [],
   "source": [
    "plt.figure(figsize=(12, 5))\n",
    "plt.plot(range(2, 21), silhouette_scores, \"bo-\")\n",
    "plt.xlabel(\"$k$\", fontsize=15)\n",
    "plt.ylabel(\"Silhouette score\", fontsize=15)\n",
    "plt.show()"
   ],
   "metadata": {
    "collapsed": false,
    "pycharm": {
     "name": "#%%\n"
    }
   }
  },
  {
   "cell_type": "markdown",
   "source": [
    "> Observations:\n",
    "* When looking at the t-SNE plot, the classes mix in one big blob.\n",
    "* The silhouette score for K-means is very low from the start (2 clusters) and drops as the number of\n",
    "clusters increases.\n",
    "* All silhouette scores are close to 0, which means that the instances are close to the cluster boundaries.\n",
    ">\n",
    "> Given these observations, it is clear that the images can't be clustered."
   ],
   "metadata": {
    "collapsed": false
   }
  },
  {
   "cell_type": "markdown",
   "source": [
    "> PCA should definitely be used for pre-processing the data.\n",
    "> Since there are still many dimensions, trying another dimensionality reduction algorithm on the\n",
    "> transformed data should be considered."
   ],
   "metadata": {
    "collapsed": false
   }
  },
  {
   "cell_type": "markdown",
   "source": [
    "# 3. Data Cleaning"
   ],
   "metadata": {
    "collapsed": false
   }
  },
  {
   "cell_type": "code",
   "execution_count": null,
   "outputs": [],
   "source": [
    "# load data with chosen pre-processing transformations\n",
    "# scale 128x128, grayscale --> canny\n"
   ],
   "metadata": {
    "collapsed": false,
    "pycharm": {
     "name": "#%%\n"
    }
   }
  },
  {
   "cell_type": "code",
   "execution_count": null,
   "outputs": [],
   "source": [
    "# clean copy of the training set\n",
    "X_train = X_train_gray.copy()\n",
    "y_train = y_train_gray.copy()"
   ],
   "metadata": {
    "collapsed": false,
    "pycharm": {
     "name": "#%%\n"
    }
   }
  },
  {
   "cell_type": "code",
   "execution_count": null,
   "outputs": [],
   "source": [
    "# create transformation pipeline\n",
    "\n",
    "full_pipeline = Pipeline([\n",
    "    ('std_scaler', StandardScaler()),\n",
    "    ('pca', PCA(n_components=d, svd_solver='randomized', random_state=42))\n",
    "])"
   ],
   "metadata": {
    "collapsed": false,
    "pycharm": {
     "name": "#%%\n"
    }
   }
  },
  {
   "cell_type": "code",
   "execution_count": null,
   "outputs": [],
   "source": [
    "# transform training data using pipeline\n",
    "X_train_prepared = full_pipeline.fit_transform(X_train)"
   ],
   "metadata": {
    "collapsed": false,
    "pycharm": {
     "name": "#%%\n"
    }
   }
  },
  {
   "cell_type": "markdown",
   "source": [
    "# 4. Training and Evaluating Models"
   ],
   "metadata": {
    "collapsed": false
   }
  },
  {
   "cell_type": "markdown",
   "source": [
    "> The number of instances for each class in the training set are equal which makes this a balanced classification task.\n",
    ">\n",
    "> Chosen evaluation metric:\n",
    ">\n",
    "> The ROC curve plots the trade-off between the true positive rate (TPR = sensitivity/recall)\n",
    "> against the false positive rate (FPR = 1 - specificity/TNR).\n",
    "> This evaluation metric is widely used for binary classification and works well when the data\n",
    "> is balanced (as it is sensitive to class imbalance).\n",
    "> The ROC AUC score is good for when the positive and negative class predictions are equally important,\n",
    "> and is also an excellent way to compare classifiers and thresholds.\n",
    ">\n",
    "> A ROC AUC score of a random classifier is 0.5. The closer the score is to 1, the better the classifier.\n",
    ">\n",
    ">> Note: A major difference between ROC and accuracy is that accuracy is calculated using the predicted classes\n",
    "> and ROC AUC is calculated on the predicted scores."
   ],
   "metadata": {
    "collapsed": false
   }
  },
  {
   "cell_type": "code",
   "execution_count": null,
   "outputs": [],
   "source": [
    "# function prints scores\n",
    "def display_evaluation(actual, pred):\n",
    "    print(\"Confusion Matrix:\\n\", metrics.confusion_matrix(actual, pred), \"\\n\")\n",
    "    print(\"Classification Report:\\n\", metrics.classification_report(actual, pred))\n",
    "\n",
    "\n",
    "# function for evaluating cross validation scores and for easy model comparison\n",
    "def display_scores(scores):\n",
    "    print(\"Scores:\", scores)\n",
    "    print(\"Mean:\", round(scores.mean(), 5))\n",
    "    print(\"Standard Deviation:\", round(scores.std(), 5))"
   ],
   "metadata": {
    "collapsed": false,
    "pycharm": {
     "name": "#%%\n"
    }
   }
  },
  {
   "cell_type": "markdown",
   "source": [
    "### Shortlist Promising Models:\n",
    "> Trying many models quickly and selecting the ones that show promising results.\n",
    ">\n",
    ">> How I plan to do this:\n",
    "1. Train a baseline model and evaluate sample predictions.\n",
    "**Continue to step 2 if the sample predictions were mostly correct.**\n",
    "2. Use cross-validation and evaluate scores.\n",
    "3. If the model has a significant hyperparameters, try changing it. Use cross-validation to\n",
    "compare the results to step 2."
   ],
   "metadata": {
    "collapsed": false
   }
  },
  {
   "cell_type": "code",
   "execution_count": null,
   "outputs": [],
   "source": [
    "# a few instances from the training data for testing\n",
    "some_data = X_train.iloc[:10]\n",
    "some_labels = y_train.iloc[:10]\n",
    "some_data_prepared = full_pipeline.transform(some_data)"
   ],
   "metadata": {
    "collapsed": false,
    "pycharm": {
     "name": "#%%\n"
    }
   }
  },
  {
   "cell_type": "markdown",
   "source": [
    "#### 1. Logistic Regression"
   ],
   "metadata": {
    "collapsed": false
   }
  },
  {
   "cell_type": "code",
   "execution_count": null,
   "outputs": [],
   "source": [
    "log_reg = LogisticRegression(random_state=42, n_jobs=-1)\n",
    "log_reg.fit(X_train_prepared, y_train)\n",
    "joblib.dump(log_reg, \"dogs-vs-cats/models/log_reg_1.pkl\")"
   ],
   "metadata": {
    "collapsed": false,
    "pycharm": {
     "name": "#%%\n"
    }
   }
  },
  {
   "cell_type": "code",
   "execution_count": null,
   "outputs": [],
   "source": [
    "# log_reg = joblib.load(r\"dogs-vs-cats/models/log_reg_1.pkl\")"
   ],
   "metadata": {
    "collapsed": false,
    "pycharm": {
     "name": "#%%\n"
    }
   }
  },
  {
   "cell_type": "code",
   "execution_count": null,
   "outputs": [],
   "source": [
    "print(\"Predictions:\", log_reg.predict(some_data_prepared))\n",
    "print(\"Labels:\", list(some_labels))"
   ],
   "metadata": {
    "collapsed": false,
    "pycharm": {
     "name": "#%%\n"
    }
   }
  },
  {
   "cell_type": "code",
   "execution_count": null,
   "outputs": [],
   "source": [
    "log_reg_scores_1 = cross_val_score(log_reg, X_train_prepared, y_train, scoring='accuracy', cv=4)\n",
    "joblib.dump(log_reg_scores_1, \"dogs-vs-cats/scores/log_reg_scores_1.pkl\")"
   ],
   "metadata": {
    "collapsed": false,
    "pycharm": {
     "name": "#%%\n"
    }
   }
  },
  {
   "cell_type": "code",
   "execution_count": null,
   "outputs": [],
   "source": [
    "# log_reg_scores_1 = joblib.load(r\"dogs-vs-cats/scores/log_reg_scores_1.pkl\")"
   ],
   "metadata": {
    "collapsed": false,
    "pycharm": {
     "name": "#%%\n"
    }
   }
  },
  {
   "cell_type": "code",
   "execution_count": null,
   "outputs": [],
   "source": [
    "display_scores(log_reg_scores_1)"
   ],
   "metadata": {
    "collapsed": false,
    "pycharm": {
     "name": "#%%\n"
    }
   }
  },
  {
   "cell_type": "markdown",
   "source": [
    "#### 2. KNN"
   ],
   "metadata": {
    "collapsed": false
   }
  },
  {
   "cell_type": "code",
   "execution_count": null,
   "outputs": [],
   "source": [
    "# using default weights (uniform)\n",
    "# using default n_neighbors (n = 5)\n",
    "knn_clf = KNeighborsClassifier(n_jobs=-1)\n",
    "knn_clf.fit(X_train_prepared, y_train)\n",
    "joblib.dump(knn_clf, \"dogs-vs-cats/models/knn_clf_2.pkl\")"
   ],
   "metadata": {
    "collapsed": false,
    "pycharm": {
     "name": "#%%\n"
    }
   }
  },
  {
   "cell_type": "code",
   "execution_count": null,
   "outputs": [],
   "source": [
    "# knn_clf = joblib.load(r\"dogs-vs-cats/models/knn_clf_2.pkl\")"
   ],
   "metadata": {
    "collapsed": false,
    "pycharm": {
     "name": "#%%\n"
    }
   }
  },
  {
   "cell_type": "code",
   "execution_count": null,
   "outputs": [],
   "source": [
    "print(\"Predictions:\", knn_clf.predict(some_data_prepared))\n",
    "print(\"Labels:\", list(some_labels))"
   ],
   "metadata": {
    "collapsed": false,
    "pycharm": {
     "name": "#%%\n"
    }
   }
  },
  {
   "cell_type": "code",
   "execution_count": null,
   "outputs": [],
   "source": [
    "knn_scores_2 = cross_val_score(knn_clf, X_train_prepared, y_train, scoring='accuracy', cv=4)\n",
    "joblib.dump(knn_scores_2, \"dogs-vs-cats/scores/knn_scores_2.pkl\")"
   ],
   "metadata": {
    "collapsed": false,
    "pycharm": {
     "name": "#%%\n"
    }
   }
  },
  {
   "cell_type": "code",
   "execution_count": null,
   "outputs": [],
   "source": [
    "# knn_scores_2 = joblib.load(r\"dogs-vs-cats/scores/knn_scores_2.pkl\")"
   ],
   "metadata": {
    "collapsed": false,
    "pycharm": {
     "name": "#%%\n"
    }
   }
  },
  {
   "cell_type": "code",
   "execution_count": null,
   "outputs": [],
   "source": [
    "display_scores(knn_scores_2)"
   ],
   "metadata": {
    "collapsed": false,
    "pycharm": {
     "name": "#%%\n"
    }
   }
  },
  {
   "cell_type": "markdown",
   "source": [
    "#### 3. Decision Tree Classifier"
   ],
   "metadata": {
    "collapsed": false
   }
  },
  {
   "cell_type": "code",
   "execution_count": null,
   "outputs": [],
   "source": [
    "tree_clf = DecisionTreeClassifier(random_state=42)\n",
    "tree_clf.fit(X_train_prepared, y_train)\n",
    "joblib.dump(tree_clf, \"dogs-vs-cats/models/tree_clf_3.pkl\")"
   ],
   "metadata": {
    "collapsed": false,
    "pycharm": {
     "name": "#%%\n"
    }
   }
  },
  {
   "cell_type": "code",
   "execution_count": null,
   "outputs": [],
   "source": [
    "# tree_clf = joblib.load(r\"dogs-vs-cats/models/tree_clf_3.pkl\")"
   ],
   "metadata": {
    "collapsed": false,
    "pycharm": {
     "name": "#%%\n"
    }
   }
  },
  {
   "cell_type": "code",
   "execution_count": null,
   "outputs": [],
   "source": [
    "print(\"Predictions:\", tree_clf.predict(some_data_prepared))\n",
    "print(\"Labels:\", list(some_labels))"
   ],
   "metadata": {
    "collapsed": false,
    "pycharm": {
     "name": "#%%\n"
    }
   }
  },
  {
   "cell_type": "code",
   "execution_count": null,
   "outputs": [],
   "source": [
    "tree_scores_3 = cross_val_score(tree_clf, X_train_prepared, y_train, scoring='accuracy', cv=4, n_jobs=-1)\n",
    "joblib.dump(tree_scores_3, \"dogs-vs-cats/scores/tree_scores_3.pkl\")"
   ],
   "metadata": {
    "collapsed": false,
    "pycharm": {
     "name": "#%%\n"
    }
   }
  },
  {
   "cell_type": "code",
   "execution_count": null,
   "outputs": [],
   "source": [
    "# tree_scores_3 = joblib.load(r\"dogs-vs-cats/scores/tree_scores_3.pkl\")"
   ],
   "metadata": {
    "collapsed": false,
    "pycharm": {
     "name": "#%%\n"
    }
   }
  },
  {
   "cell_type": "code",
   "execution_count": null,
   "outputs": [],
   "source": [
    "display_scores(tree_scores_3)"
   ],
   "metadata": {
    "collapsed": false,
    "pycharm": {
     "name": "#%%\n"
    }
   }
  },
  {
   "cell_type": "markdown",
   "source": [
    "#### 4. Random Forest Classifier"
   ],
   "metadata": {
    "collapsed": false
   }
  },
  {
   "cell_type": "code",
   "execution_count": null,
   "outputs": [],
   "source": [
    "rf_clf = RandomForestClassifier(random_state=42, n_jobs=-1)\n",
    "rf_clf.fit(X_train_prepared, y_train)\n",
    "joblib.dump(rf_clf, \"dogs-vs-cats/models/rf_clf_4.pkl\")"
   ],
   "metadata": {
    "collapsed": false,
    "pycharm": {
     "name": "#%%\n"
    }
   }
  },
  {
   "cell_type": "code",
   "execution_count": null,
   "outputs": [],
   "source": [
    "# rf_clf = joblib.load(r\"dogs-vs-cats/models/rf_clf_4.pkl\")"
   ],
   "metadata": {
    "collapsed": false,
    "pycharm": {
     "name": "#%%\n"
    }
   }
  },
  {
   "cell_type": "code",
   "execution_count": null,
   "outputs": [],
   "source": [
    "print(\"Predictions:\", rf_clf.predict(some_data_prepared))\n",
    "print(\"Labels:\", list(some_labels))"
   ],
   "metadata": {
    "collapsed": false,
    "pycharm": {
     "name": "#%%\n"
    }
   }
  },
  {
   "cell_type": "code",
   "execution_count": null,
   "outputs": [],
   "source": [
    "rf_scores_4 = cross_val_score(rf_clf, X_train_prepared, y_train, scoring='accuracy', cv=4)\n",
    "joblib.dump(rf_scores_4, \"dogs-vs-cats/scores/rf_scores_4.pkl\")"
   ],
   "metadata": {
    "collapsed": false,
    "pycharm": {
     "name": "#%%\n"
    }
   }
  },
  {
   "cell_type": "code",
   "execution_count": null,
   "outputs": [],
   "source": [
    "# rf_scores_4 = joblib.load(r\"dogs-vs-cats/scores/rf_scores_4.pkl\")"
   ],
   "metadata": {
    "collapsed": false,
    "pycharm": {
     "name": "#%%\n"
    }
   }
  },
  {
   "cell_type": "code",
   "execution_count": null,
   "outputs": [],
   "source": [
    "display_scores(rf_scores_4)"
   ],
   "metadata": {
    "collapsed": false,
    "pycharm": {
     "name": "#%%\n"
    }
   }
  },
  {
   "cell_type": "markdown",
   "source": [
    "-------------------------"
   ],
   "metadata": {
    "collapsed": false
   }
  },
  {
   "cell_type": "markdown",
   "source": [
    "def read_resize_img(file_path, color):\n",
    "    img = cv2.imread(file_path, cv2.IMREAD_COLOR)\n",
    "    if color:\n",
    "        img = cv2.cvtColor(img, cv2.COLOR_BGR2RGB)\n",
    "    else:\n",
    "        img = cv2.cvtColor(img, cv2.COLOR_BGR2GRAY)\n",
    "    return cv2.resize(img, (ROWS, COLUMNS), interpolation=cv2.INTER_CUBIC)\n",
    "\n",
    "def prep_data(images, color):\n",
    "    m = len(images)\n",
    "    n_pixels = ROWS * COLUMNS * CHANNELS\n",
    "    X = np.ndarray((m, n_pixels), dtype=np.uint8)\n",
    "    y = np.zeros((m, 1))\n",
    "    path = []  # saving the path ensures we can load each image again in case rescaling is required\n",
    "\n",
    "    # enumerate() function iterates the input object ('images') by using two variables:\n",
    "    # i is the count of the current iteration\n",
    "    # img_file is the path of the image file at the current iteration\n",
    "    for i, img_file in enumerate(images):\n",
    "        img = read_resize_img(img_file, color)\n",
    "        X[i, :] = np.squeeze(img.reshape((n_pixels, 1)))  # squeeze removes useless one-dimensional arrays\n",
    "        path.append(img_file)\n",
    "\n",
    "        if '/dog' in img_file:\n",
    "            y[i, 0] = 1\n",
    "        elif '/cat' in img_file:\n",
    "            y[i, 0] = 0\n",
    "        else:  # if needed for the test set on kaggle (each image has an id instead of a class)\n",
    "            y[i, 0] = img_file.split('/')[-1].split('.')[0]\n",
    "        if i % 5000 == 0:\n",
    "            print(\"Loading: {}/{}\".format(i, m))  # print loading progress\n",
    "    print(\"Finished Loading Data\")\n",
    "    return X, y, path\n",
    "\n",
    "def load_data(img_dir, n_rows, n_cols, color):\n",
    "    global ROWS, COLUMNS, CHANNELS\n",
    "    ROWS = n_rows\n",
    "    COLUMNS = n_cols\n",
    "    if color:\n",
    "        CHANNELS = 3\n",
    "    else:\n",
    "        CHANNELS = 1\n",
    "    X, y, path = prep_data(img_dir, color)\n",
    "    print(\"Converting to DataFrame\")\n",
    "    # create a DataFrame including a column for file path and labels\n",
    "    df = pd.concat([pd.DataFrame(path, columns=['path']), pd.DataFrame(y, columns=['label']), pd.DataFrame(X)], axis=1)\n",
    "    return df"
   ],
   "metadata": {
    "collapsed": false
   }
  },
  {
   "cell_type": "markdown",
   "source": [
    "df = load_data(images, n_rows=200, n_cols=200, color=True)"
   ],
   "metadata": {
    "collapsed": false
   }
  },
  {
   "cell_type": "markdown",
   "source": [
    "df.head()"
   ],
   "metadata": {
    "collapsed": false
   }
  },
  {
   "cell_type": "code",
   "execution_count": null,
   "outputs": [],
   "source": [
    "# check if all values are in DataFrame, merely a precaution after this data processing\n",
    "# np.isnan checks if the element is is not a number\n",
    "# df.values returns a numpy array containing the data without index or column names\n",
    "# (like X shown above with an additional value in each row for the label)\n",
    "# sum() returns the absolute amount missing\n",
    "# np.isnan(df.values).sum()\n",
    "df.isna().sum().sum()"
   ],
   "metadata": {
    "collapsed": false,
    "pycharm": {
     "name": "#%%\n"
    }
   }
  },
  {
   "cell_type": "code",
   "execution_count": null,
   "outputs": [],
   "source": [
    "def show_images(X, y, index):\n",
    "    image = X[index]\n",
    "    image = image.reshape((ROWS, COLUMNS, CHANNELS))\n",
    "    plt.figure(figsize=(6, 3))\n",
    "    plt.imshow(image)\n",
    "    plt.title(\"This is a {}\".format(CLASSES[y[index, 0]]))\n",
    "    plt.axis('off')\n",
    "    plt.show()"
   ],
   "metadata": {
    "collapsed": false,
    "pycharm": {
     "name": "#%%\n"
    }
   }
  },
  {
   "cell_type": "markdown",
   "source": [
    "> Observations:\n",
    ">> * By looking at the index numbers for each group, the first instance labeled 1 (dog) is located at index 12500.\n",
    ">> My assumption was that all cat images were the first 12,500 samples, with the rest as dogs.\n",
    ">> To validate my assumptions I counted the values for each class.\n",
    ">> * Why is this important? Data arranged by class order could result in poor performance of the ML algorithms,\n",
    ">> an unrepresentative test set or cross-validation folds later on (i.e., a test set containing only cat images).\n",
    ">> * Solution: The train_test_split() is a random sampling method, so it takes care of this.\n",
    ">> The random_state parameter ensures that the generated shuffled split is the same each time.\n",
    ">"
   ],
   "metadata": {
    "collapsed": false
   }
  },
  {
   "cell_type": "code",
   "execution_count": null,
   "outputs": [],
   "source": [
    "df2"
   ],
   "metadata": {
    "collapsed": false,
    "pycharm": {
     "name": "#%%\n"
    }
   }
  },
  {
   "cell_type": "code",
   "execution_count": null,
   "outputs": [],
   "source": [
    "df['path'][0]"
   ],
   "metadata": {
    "collapsed": false,
    "pycharm": {
     "name": "#%%\n"
    }
   }
  },
  {
   "cell_type": "code",
   "execution_count": null,
   "outputs": [],
   "source": [
    "img = cv2.imread(df['path'][3], cv2.IMREAD_COLOR)\n",
    "img = cv2.cvtColor(img, cv2.COLOR_BGR2RGB)\n",
    "img_vec = img.reshape(-1, 3)\n",
    "img_vec = np.float32(img_vec)"
   ],
   "metadata": {
    "collapsed": false,
    "pycharm": {
     "name": "#%%\n"
    }
   }
  },
  {
   "cell_type": "code",
   "execution_count": null,
   "outputs": [],
   "source": [
    "from sklearn.cluster import KMeans\n",
    "\n",
    "kmeans = KMeans(n_clusters=10, random_state=42).fit(img_vec)"
   ],
   "metadata": {
    "collapsed": false,
    "pycharm": {
     "name": "#%%\n"
    }
   }
  },
  {
   "cell_type": "code",
   "execution_count": null,
   "outputs": [],
   "source": [
    "seg_img = kmeans.cluster_centers_[kmeans.labels_]\n",
    "seg_img = seg_img.reshape(img.shape)\n",
    "seg_img = seg_img.astype('uint8')"
   ],
   "metadata": {
    "collapsed": false,
    "pycharm": {
     "name": "#%%\n"
    }
   }
  },
  {
   "cell_type": "code",
   "execution_count": null,
   "outputs": [],
   "source": [
    "plt.imshow(seg_img)"
   ],
   "metadata": {
    "collapsed": false,
    "pycharm": {
     "name": "#%%\n"
    }
   }
  },
  {
   "cell_type": "markdown",
   "source": [
    "> #### Resources:\n",
    "> 1. Dogs vs. Cats Dataset <a href=\"https://www.kaggle.com/c/dogs-vs-cats\"\n",
    "> title=\"Kaggle\">link</a>\n",
    "> 2. Loading Data Tutorial <a href=\"https://medium.com/@mrgarg.rajat/kaggle-dogs-vs-cats-challenge-complete-step-by-step-guide-part-1-a347194e55b1\"\n",
    "> title=\"medium\">link</a>"
   ],
   "metadata": {
    "collapsed": false
   }
  },
  {
   "cell_type": "markdown",
   "source": [],
   "metadata": {
    "collapsed": false
   }
  }
 ],
 "metadata": {
  "kernelspec": {
   "name": "pycharm-bcecade4",
   "language": "python",
   "display_name": "PyCharm (1SB-Final-Project)"
  },
  "language_info": {
   "codemirror_mode": {
    "name": "ipython",
    "version": 2
   },
   "file_extension": ".py",
   "mimetype": "text/x-python",
   "name": "python",
   "nbconvert_exporter": "python",
   "pygments_lexer": "ipython2",
   "version": "2.7.6"
  }
 },
 "nbformat": 4,
 "nbformat_minor": 0
}