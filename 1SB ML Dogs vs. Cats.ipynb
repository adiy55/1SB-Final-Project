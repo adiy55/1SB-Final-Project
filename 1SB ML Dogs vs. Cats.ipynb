{
 "cells": [
  {
   "cell_type": "code",
   "execution_count": 1,
   "outputs": [],
   "source": [
    "# common imports\n",
    "import numpy as np\n",
    "import pandas as pd\n",
    "import os, cv2, joblib\n",
    "import seaborn as sns\n",
    "import matplotlib.pyplot as plt\n",
    "%matplotlib inline\n",
    "\n",
    "from sklearn.model_selection import StratifiedShuffleSplit, cross_val_score\n",
    "from sklearn.preprocessing import StandardScaler\n",
    "from sklearn.decomposition import PCA\n",
    "from sklearn.cluster import KMeans\n",
    "from sklearn import metrics\n",
    "from sklearn.pipeline import Pipeline\n",
    "from sklearn.linear_model import LogisticRegression\n",
    "from sklearn.neighbors import KNeighborsClassifier\n",
    "from sklearn.tree import DecisionTreeClassifier\n",
    "from sklearn.ensemble import RandomForestClassifier\n",
    "\n",
    "# global variables\n",
    "global ROWS, COLUMNS, CHANNELS, IS_CANNY\n",
    "CLASSES = {0: 'cat', 1: 'dog'}\n",
    "\n",
    "# display setup\n",
    "sns.set(style=\"whitegrid\")  # for plots"
   ],
   "metadata": {
    "collapsed": false,
    "pycharm": {
     "name": "#%%\n"
    }
   }
  },
  {
   "cell_type": "markdown",
   "source": [
    "# Preface\n",
    "* Dogs vs. Cats is a dataset containing 25,000 samples.\n",
    "* Each sample is a colored image (JPEG file) of a dog or a cat. The image sizes vary, so they need to be scaled to the same size.\n",
    "* The data contains two labels (mentioned in each image file's name), making this a **binary classification** problem.\n",
    "In other words, this is a **supervised learning** task.\n",
    "* The model will be trained using all available data and run without learning anymore. This method is named **offline/batch learning**.\n",
    "* Main objective: Find the best algorithm and model parameters that classify the unused images correctly."
   ],
   "metadata": {
    "collapsed": false
   }
  },
  {
   "cell_type": "markdown",
   "source": [
    "# 1. Getting the Data"
   ],
   "metadata": {
    "collapsed": false
   }
  },
  {
   "cell_type": "code",
   "execution_count": 2,
   "outputs": [],
   "source": [
    "path = r\"dogs-vs-cats\\train/\"\n",
    "\n",
    "images = [path + i for i in os.listdir(path)]\n",
    "# listdir returns a list with the file names in the given directory"
   ],
   "metadata": {
    "collapsed": false,
    "pycharm": {
     "name": "#%%\n"
    }
   }
  },
  {
   "cell_type": "code",
   "execution_count": 3,
   "outputs": [],
   "source": [
    "def load_dogs_vs_cats(image_dir):\n",
    "    images_lst = [image_dir + i for i in os.listdir(image_dir)]\n",
    "    # listdir returns a list with the file names in the given directory\n",
    "    y = []\n",
    "    path = []\n",
    "    for i, image_path in enumerate(images_lst):\n",
    "        path.append(image_path)\n",
    "        if '/dog' in image_path:\n",
    "            y.append(1)\n",
    "        elif '/cat' in image_path:\n",
    "            y.append(0)\n",
    "        else:  # if needed for the test set on kaggle (each image has an id instead of a class)\n",
    "            y.append(image_path.split('/')[-1].split('.')[0])\n",
    "    return pd.DataFrame({\"path\": path, \"label\": y})"
   ],
   "metadata": {
    "collapsed": false,
    "pycharm": {
     "name": "#%%\n"
    }
   }
  },
  {
   "cell_type": "code",
   "execution_count": 4,
   "outputs": [],
   "source": [
    "df = load_dogs_vs_cats(path)"
   ],
   "metadata": {
    "collapsed": false,
    "pycharm": {
     "name": "#%%\n"
    }
   }
  },
  {
   "cell_type": "code",
   "execution_count": 5,
   "outputs": [
    {
     "data": {
      "text/plain": "                              path  label\n0     dogs-vs-cats\\train/cat.0.jpg      0\n1     dogs-vs-cats\\train/cat.1.jpg      0\n2    dogs-vs-cats\\train/cat.10.jpg      0\n3   dogs-vs-cats\\train/cat.100.jpg      0\n4  dogs-vs-cats\\train/cat.1000.jpg      0",
      "text/html": "<div>\n<style scoped>\n    .dataframe tbody tr th:only-of-type {\n        vertical-align: middle;\n    }\n\n    .dataframe tbody tr th {\n        vertical-align: top;\n    }\n\n    .dataframe thead th {\n        text-align: right;\n    }\n</style>\n<table border=\"1\" class=\"dataframe\">\n  <thead>\n    <tr style=\"text-align: right;\">\n      <th></th>\n      <th>path</th>\n      <th>label</th>\n    </tr>\n  </thead>\n  <tbody>\n    <tr>\n      <th>0</th>\n      <td>dogs-vs-cats\\train/cat.0.jpg</td>\n      <td>0</td>\n    </tr>\n    <tr>\n      <th>1</th>\n      <td>dogs-vs-cats\\train/cat.1.jpg</td>\n      <td>0</td>\n    </tr>\n    <tr>\n      <th>2</th>\n      <td>dogs-vs-cats\\train/cat.10.jpg</td>\n      <td>0</td>\n    </tr>\n    <tr>\n      <th>3</th>\n      <td>dogs-vs-cats\\train/cat.100.jpg</td>\n      <td>0</td>\n    </tr>\n    <tr>\n      <th>4</th>\n      <td>dogs-vs-cats\\train/cat.1000.jpg</td>\n      <td>0</td>\n    </tr>\n  </tbody>\n</table>\n</div>"
     },
     "execution_count": 5,
     "metadata": {},
     "output_type": "execute_result"
    }
   ],
   "source": [
    "df.head()"
   ],
   "metadata": {
    "collapsed": false,
    "pycharm": {
     "name": "#%%\n"
    }
   }
  },
  {
   "cell_type": "code",
   "execution_count": 6,
   "outputs": [
    {
     "data": {
      "text/plain": "0"
     },
     "execution_count": 6,
     "metadata": {},
     "output_type": "execute_result"
    }
   ],
   "source": [
    "df.isna().sum().sum()"
   ],
   "metadata": {
    "collapsed": false,
    "pycharm": {
     "name": "#%%\n"
    }
   }
  },
  {
   "cell_type": "code",
   "execution_count": 7,
   "outputs": [
    {
     "data": {
      "text/plain": "0    12500\n1    12500\nName: label, dtype: int64"
     },
     "execution_count": 7,
     "metadata": {},
     "output_type": "execute_result"
    }
   ],
   "source": [
    "df['label'].value_counts()"
   ],
   "metadata": {
    "collapsed": false,
    "pycharm": {
     "name": "#%%\n"
    }
   }
  },
  {
   "cell_type": "code",
   "execution_count": 8,
   "outputs": [],
   "source": [
    "# use groupby to locate instances for each label\n",
    "label_groups = df.groupby('label')"
   ],
   "metadata": {
    "collapsed": false,
    "pycharm": {
     "name": "#%%\n"
    }
   }
  },
  {
   "cell_type": "code",
   "execution_count": 9,
   "outputs": [
    {
     "data": {
      "text/plain": "                            path  label\n0   dogs-vs-cats\\train/cat.0.jpg      0\n1   dogs-vs-cats\\train/cat.1.jpg      0\n2  dogs-vs-cats\\train/cat.10.jpg      0",
      "text/html": "<div>\n<style scoped>\n    .dataframe tbody tr th:only-of-type {\n        vertical-align: middle;\n    }\n\n    .dataframe tbody tr th {\n        vertical-align: top;\n    }\n\n    .dataframe thead th {\n        text-align: right;\n    }\n</style>\n<table border=\"1\" class=\"dataframe\">\n  <thead>\n    <tr style=\"text-align: right;\">\n      <th></th>\n      <th>path</th>\n      <th>label</th>\n    </tr>\n  </thead>\n  <tbody>\n    <tr>\n      <th>0</th>\n      <td>dogs-vs-cats\\train/cat.0.jpg</td>\n      <td>0</td>\n    </tr>\n    <tr>\n      <th>1</th>\n      <td>dogs-vs-cats\\train/cat.1.jpg</td>\n      <td>0</td>\n    </tr>\n    <tr>\n      <th>2</th>\n      <td>dogs-vs-cats\\train/cat.10.jpg</td>\n      <td>0</td>\n    </tr>\n  </tbody>\n</table>\n</div>"
     },
     "execution_count": 9,
     "metadata": {},
     "output_type": "execute_result"
    }
   ],
   "source": [
    "# 3 cat image samples\n",
    "sample0 = label_groups.get_group(0)[:3]\n",
    "sample0"
   ],
   "metadata": {
    "collapsed": false,
    "pycharm": {
     "name": "#%%\n"
    }
   }
  },
  {
   "cell_type": "code",
   "execution_count": 10,
   "outputs": [
    {
     "data": {
      "text/plain": "                                path  label\n12500   dogs-vs-cats\\train/dog.0.jpg      1\n12501   dogs-vs-cats\\train/dog.1.jpg      1\n12502  dogs-vs-cats\\train/dog.10.jpg      1",
      "text/html": "<div>\n<style scoped>\n    .dataframe tbody tr th:only-of-type {\n        vertical-align: middle;\n    }\n\n    .dataframe tbody tr th {\n        vertical-align: top;\n    }\n\n    .dataframe thead th {\n        text-align: right;\n    }\n</style>\n<table border=\"1\" class=\"dataframe\">\n  <thead>\n    <tr style=\"text-align: right;\">\n      <th></th>\n      <th>path</th>\n      <th>label</th>\n    </tr>\n  </thead>\n  <tbody>\n    <tr>\n      <th>12500</th>\n      <td>dogs-vs-cats\\train/dog.0.jpg</td>\n      <td>1</td>\n    </tr>\n    <tr>\n      <th>12501</th>\n      <td>dogs-vs-cats\\train/dog.1.jpg</td>\n      <td>1</td>\n    </tr>\n    <tr>\n      <th>12502</th>\n      <td>dogs-vs-cats\\train/dog.10.jpg</td>\n      <td>1</td>\n    </tr>\n  </tbody>\n</table>\n</div>"
     },
     "execution_count": 10,
     "metadata": {},
     "output_type": "execute_result"
    }
   ],
   "source": [
    "# 3 dog image samples\n",
    "sample1 = label_groups.get_group(1)[:3]\n",
    "sample1"
   ],
   "metadata": {
    "collapsed": false,
    "pycharm": {
     "name": "#%%\n"
    }
   }
  },
  {
   "cell_type": "code",
   "execution_count": 11,
   "outputs": [],
   "source": [
    "# combine cat and dog samples as one DataFrame\n",
    "sample_images = pd.concat([sample0, sample1], ignore_index=True)"
   ],
   "metadata": {
    "collapsed": false,
    "pycharm": {
     "name": "#%%\n"
    }
   }
  },
  {
   "cell_type": "code",
   "execution_count": 12,
   "outputs": [
    {
     "data": {
      "text/plain": "<Figure size 720x504 with 6 Axes>",
      "image/png": "[encoded data removed]"
     },
     "metadata": {},
     "output_type": "display_data"
    }
   ],
   "source": [
    "fig = plt.figure(figsize=(10, 7))\n",
    "\n",
    "for i in range(len(sample_images)):\n",
    "    plt.subplot(330 + i + 1)\n",
    "    filename = sample_images['path'][i]\n",
    "    image = cv2.imread(filename)\n",
    "    plt.imshow(cv2.cvtColor(image, cv2.COLOR_BGR2RGB))\n",
    "fig.suptitle(\"Dogs vs. Cats Original Samples\", size=30)\n",
    "plt.tight_layout()\n",
    "plt.show()"
   ],
   "metadata": {
    "collapsed": false,
    "pycharm": {
     "name": "#%%\n"
    }
   }
  },
  {
   "cell_type": "markdown",
   "source": [
    "> Initial Observations:\n",
    ">> * The dogs and cats are in different angles. Some are cropped in a way that only the face is seen,\n",
    ">> others of the whole body.\n",
    ">> * The photos may also include a person or surrounding objects (i.e. in the bottom right image the\n",
    "> dog is held by a person).\n",
    ">> The photos could also be blurry (i.e. in the top left photo it looks like the camera was slightly\n",
    ">> moved while taking the photo).\n",
    ">> * There are various image sizes.\n",
    ">> In order to use the data for ML algorithms, all images need to be processed into an array containing the same pixel values.\n",
    ">> * The images are in color, meaning the number of pixels chosen for the width and height will be multiplied by 3.\n",
    ">> This should be taken into account since it adds a substantial amount of features, as opposing to using grayscale images.\n",
    ">\n",
    "> The following functions will read the data, and turn it into a DataFrame.\n",
    "> When implementing these functions, I took into account that rescaling the images and loading new data could be needed\n",
    "> further on. (Necessary tweaks implemented in the code according to these measures).\n",
    ">\n",
    "> Note: The default rescaled size of the images is 64x64x3. This will likely change later on."
   ],
   "metadata": {
    "collapsed": false
   }
  },
  {
   "cell_type": "markdown",
   "source": [
    "> ### Splitting the Data:\n",
    ">> Before further analysis let's split the data into a training set and a testing set.\n",
    ">> This will ensure avoidance of bias that could occur from learning the data as a whole."
   ],
   "metadata": {
    "collapsed": false
   }
  },
  {
   "cell_type": "markdown",
   "source": [
    "The training and testing data should be representative of both classes.\n",
    "I noticed that the number of samples for dogs and cats are equal and decided a stratified\n",
    "split is the optimal choice.\n",
    "Although regular random sampling would have split the data nearly equally, there would\n",
    "have been more bias towards one of the classes."
   ],
   "metadata": {
    "collapsed": false
   }
  },
  {
   "cell_type": "code",
   "execution_count": 13,
   "outputs": [],
   "source": [
    "split = StratifiedShuffleSplit(n_splits=1, test_size=0.2, random_state=42)\n",
    "for train_index, test_index in split.split(df, df['label']):\n",
    "    strat_train_set = df.iloc[train_index]\n",
    "    strat_test_set = df.iloc[test_index]"
   ],
   "metadata": {
    "collapsed": false,
    "pycharm": {
     "name": "#%%\n"
    }
   }
  },
  {
   "cell_type": "code",
   "execution_count": 14,
   "outputs": [
    {
     "data": {
      "text/plain": "1    0.5\n0    0.5\nName: label, dtype: float64"
     },
     "execution_count": 14,
     "metadata": {},
     "output_type": "execute_result"
    }
   ],
   "source": [
    "# make sure that class distribution is equal\n",
    "strat_test_set['label'].value_counts() / len(strat_test_set)"
   ],
   "metadata": {
    "collapsed": false,
    "pycharm": {
     "name": "#%%\n"
    }
   }
  },
  {
   "cell_type": "code",
   "execution_count": 15,
   "outputs": [
    {
     "name": "stdout",
     "output_type": "stream",
     "text": [
      "Training Set: (20000, 2)\n",
      "Test Set: (5000, 2)\n"
     ]
    }
   ],
   "source": [
    "# DataFrame shape (rows, columns)\n",
    "print(\"Training Set:\", strat_train_set.shape)\n",
    "print(\"Test Set:\", strat_test_set.shape)"
   ],
   "metadata": {
    "collapsed": false,
    "pycharm": {
     "name": "#%%\n"
    }
   }
  },
  {
   "cell_type": "markdown",
   "source": [
    "# 2. Understanding and Visualizing the Data\n",
    "> ##### *The motivation for this section is to gain more insights.*"
   ],
   "metadata": {
    "collapsed": false
   }
  },
  {
   "cell_type": "code",
   "execution_count": 16,
   "outputs": [],
   "source": [
    "# deep copy of the training set\n",
    "df2 = strat_train_set.copy()"
   ],
   "metadata": {
    "collapsed": false,
    "pycharm": {
     "name": "#%%\n"
    }
   }
  },
  {
   "cell_type": "code",
   "execution_count": 17,
   "outputs": [
    {
     "data": {
      "text/plain": "                                  path  label\n20022  dogs-vs-cats\\train/dog.5518.jpg      1\n4993   dogs-vs-cats\\train/cat.3241.jpg      0",
      "text/html": "<div>\n<style scoped>\n    .dataframe tbody tr th:only-of-type {\n        vertical-align: middle;\n    }\n\n    .dataframe tbody tr th {\n        vertical-align: top;\n    }\n\n    .dataframe thead th {\n        text-align: right;\n    }\n</style>\n<table border=\"1\" class=\"dataframe\">\n  <thead>\n    <tr style=\"text-align: right;\">\n      <th></th>\n      <th>path</th>\n      <th>label</th>\n    </tr>\n  </thead>\n  <tbody>\n    <tr>\n      <th>20022</th>\n      <td>dogs-vs-cats\\train/dog.5518.jpg</td>\n      <td>1</td>\n    </tr>\n    <tr>\n      <th>4993</th>\n      <td>dogs-vs-cats\\train/cat.3241.jpg</td>\n      <td>0</td>\n    </tr>\n  </tbody>\n</table>\n</div>"
     },
     "execution_count": 17,
     "metadata": {},
     "output_type": "execute_result"
    }
   ],
   "source": [
    "df2.head(2)"
   ],
   "metadata": {
    "collapsed": false,
    "pycharm": {
     "name": "#%%\n"
    }
   }
  },
  {
   "cell_type": "code",
   "execution_count": 18,
   "outputs": [],
   "source": [
    "def image_shape(image_path):\n",
    "    return cv2.imread(image_path).shape\n",
    "\n",
    "\n",
    "def load_data_shapes(image_file_names):\n",
    "    shapes = []\n",
    "    for i, image_file in enumerate(image_file_names):\n",
    "        shapes.append(image_shape(image_file))\n",
    "    return shapes"
   ],
   "metadata": {
    "collapsed": false,
    "pycharm": {
     "name": "#%%\n"
    }
   }
  },
  {
   "cell_type": "code",
   "execution_count": 19,
   "outputs": [],
   "source": [
    "# image_shapes = load_data_shapes(strat_train_set['path'])\n",
    "# joblib.dump(image_shapes, \"dogs-vs-cats/image_shapes.pkl\")"
   ],
   "metadata": {
    "collapsed": false,
    "pycharm": {
     "name": "#%%\n"
    }
   }
  },
  {
   "cell_type": "code",
   "execution_count": 20,
   "outputs": [],
   "source": [
    "image_shapes = joblib.load(r\"dogs-vs-cats/image_shapes.pkl\")"
   ],
   "metadata": {
    "collapsed": false,
    "pycharm": {
     "name": "#%%\n"
    }
   }
  },
  {
   "cell_type": "code",
   "execution_count": 21,
   "outputs": [
    {
     "data": {
      "text/plain": "   height  width  n_channels\n0     138    129           3\n1     374    500           3\n2     438    349           3",
      "text/html": "<div>\n<style scoped>\n    .dataframe tbody tr th:only-of-type {\n        vertical-align: middle;\n    }\n\n    .dataframe tbody tr th {\n        vertical-align: top;\n    }\n\n    .dataframe thead th {\n        text-align: right;\n    }\n</style>\n<table border=\"1\" class=\"dataframe\">\n  <thead>\n    <tr style=\"text-align: right;\">\n      <th></th>\n      <th>height</th>\n      <th>width</th>\n      <th>n_channels</th>\n    </tr>\n  </thead>\n  <tbody>\n    <tr>\n      <th>0</th>\n      <td>138</td>\n      <td>129</td>\n      <td>3</td>\n    </tr>\n    <tr>\n      <th>1</th>\n      <td>374</td>\n      <td>500</td>\n      <td>3</td>\n    </tr>\n    <tr>\n      <th>2</th>\n      <td>438</td>\n      <td>349</td>\n      <td>3</td>\n    </tr>\n  </tbody>\n</table>\n</div>"
     },
     "execution_count": 21,
     "metadata": {},
     "output_type": "execute_result"
    }
   ],
   "source": [
    "image_res_df = pd.DataFrame(image_shapes, columns=['height', 'width', 'n_channels'])\n",
    "image_res_df.head(3)"
   ],
   "metadata": {
    "collapsed": false,
    "pycharm": {
     "name": "#%%\n"
    }
   }
  },
  {
   "cell_type": "code",
   "execution_count": 22,
   "outputs": [
    {
     "data": {
      "text/plain": "<Figure size 720x360 with 2 Axes>",
      "image/png": "[encoded data removed]"
     },
     "metadata": {},
     "output_type": "display_data"
    }
   ],
   "source": [
    "fig, (ax1, ax2) = plt.subplots(1, 2, figsize=(10, 5))\n",
    "ax1.scatter(image_res_df.width, image_res_df.height, color='blue', alpha=0.2)\n",
    "ax1.set_title(\"Original View\", size=15)\n",
    "points = ax2.scatter(image_res_df.width, image_res_df.height, color='blue', alpha=0.05)\n",
    "ax1.set_xlabel(\"width\")\n",
    "ax1.set_ylabel(\"height\")\n",
    "ax2.set_xlim(xmin=20, xmax=510)\n",
    "ax2.set_ylim(ymin=20, ymax=510)\n",
    "ax2.set_title(\"Zoomed View\", size=15)\n",
    "ax2.set_xlabel(\"width\")\n",
    "ax2.set_ylabel(\"height\")\n",
    "fig.suptitle(\"Image Resolutions\", size=20)\n",
    "plt.tight_layout()\n",
    "plt.show()"
   ],
   "metadata": {
    "collapsed": false,
    "pycharm": {
     "name": "#%%\n"
    }
   }
  },
  {
   "cell_type": "markdown",
   "source": [
    "> Observations:\n",
    "> * Most image resolutions are less than 500x500. There is also a fair amount around 400x400,\n",
    "> 300x300, and 200x200."
   ],
   "metadata": {
    "collapsed": false
   }
  },
  {
   "cell_type": "markdown",
   "source": [
    "## Exploring Pre-processing Implementations\n",
    ">\n",
    "> The pixels represent the features in the data. The larger the size is, the higher the complexity.\n",
    "Additionally, processing the images with color results in 3 times more features than in grayscale.\n",
    ">\n",
    "> In this next part, I will evaluate several pre-processing options.\n",
    ">\n",
    "> #### Incremental Sizing:\n",
    "> In this approach, the images are rescaled to a small size, gradually increasing.\n",
    ">> Sizes:\n",
    "1. 28x28\n",
    "2. 64x64\n",
    "3. 128x128\n",
    "\n",
    "#### Why is resizing necessary?\n",
    "In order to use the data for ML algorithms, all images need to be processed into an array containing the same pixel values.\n",
    "\n",
    "\n",
    "> Although actual model training will be later on, I will train simple Logistic Regression baseline models\n",
    "> to easily compare the performance on 3 different transformations (in order from highest to lowest complexity):\n",
    ">> Transformations:\n",
    "1. Color\n",
    "2. Grayscale\n",
    "3. Canny Edge Detection\n",
    "\n",
    "#### What is Canny Edge Detection?\n",
    "\n",
    "Note: The algorithm is based on grayscale images."
   ],
   "metadata": {
    "collapsed": false
   }
  },
  {
   "cell_type": "markdown",
   "source": [
    "> After many attempts, the color images increased complexity significantly! I was unable to run simple\n",
    "> transformations on the data. Since it seems unlikely that the color has much significance to the\n",
    "> images (i.e. there are people and objects other than the dogs and cats), I decided to switch to\n",
    "> grayscale.\n",
    ">\n",
    "> Note: The global variables (instantiated below the imports) have been set to these values."
   ],
   "metadata": {
    "collapsed": false
   }
  },
  {
   "cell_type": "markdown",
   "source": [
    "### Pre-processing Implementations:\n",
    "1. Use grayscale images (has one channel so there are fewer features).\n",
    "2. Dimensionality reduction using PCA (the grayscale images have 40,000 features!).\n",
    "3. K-Means for image segmentation.\n",
    "4. Dimensionality reduction using K-Means.\n",
    "\n",
    "**To help determine which pre-processing is the best, I will train a couple baseline models on each\n",
    "of them and compare the results.**"
   ],
   "metadata": {
    "collapsed": false
   }
  },
  {
   "cell_type": "markdown",
   "source": [
    "> Why is resizing necessary?\n",
    ">\n",
    "> In order to use the data for ML algorithms, all images need to be processed into an array containing the same pixel values.\n",
    "> The following functions do just that:\n",
    ">\n",
    "> Note: If needed, the code is implemented with an option to process images with color."
   ],
   "metadata": {
    "collapsed": false
   }
  },
  {
   "cell_type": "code",
   "execution_count": 23,
   "outputs": [],
   "source": [
    "# set global variables\n",
    "def set_params(n_rows, n_cols, n_channels, is_canny):\n",
    "    global ROWS, COLUMNS, CHANNELS, IS_CANNY\n",
    "    ROWS = n_rows\n",
    "    COLUMNS = n_cols\n",
    "    CHANNELS = n_channels\n",
    "    IS_CANNY = is_canny\n",
    "\n",
    "\n",
    "def read_resize_img(file_path):\n",
    "    img = cv2.imread(file_path, cv2.IMREAD_COLOR)\n",
    "    if CHANNELS == 3:\n",
    "        img = cv2.cvtColor(img, cv2.COLOR_BGR2RGB)\n",
    "    elif CHANNELS == 1:\n",
    "        img = cv2.cvtColor(img, cv2.COLOR_BGR2GRAY)\n",
    "        if IS_CANNY:\n",
    "            img = cv2.Canny(img, 100, 200)\n",
    "    return cv2.resize(img, (ROWS, COLUMNS), interpolation=cv2.INTER_CUBIC)\n",
    "\n",
    "\n",
    "def prep_data(images, n_rows, n_cols, n_channels, is_canny):\n",
    "    set_params(n_rows, n_cols, n_channels, is_canny) # set global variables with inserted values\n",
    "    m = len(images)\n",
    "    n_pixels = ROWS * COLUMNS * CHANNELS\n",
    "    X = np.ndarray((m, n_pixels), dtype=np.uint8)\n",
    "    y = np.zeros((m, 1))\n",
    "    #    path = []  # saving the path ensures we can load each image again in case rescaling is required\n",
    "\n",
    "    # enumerate() function iterates the input object ('images') by using two variables:\n",
    "    # i is the count of the current iteration\n",
    "    # img_file is the path of the image file at the current iteration\n",
    "    for i, img_file in enumerate(images):\n",
    "        img = read_resize_img(img_file)\n",
    "        X[i, :] = np.squeeze(img.reshape((n_pixels, 1)))  # squeeze removes useless one-dimensional arrays\n",
    "        #        path.append(img_file)\n",
    "\n",
    "        if '/dog' in img_file:\n",
    "            y[i, 0] = 1\n",
    "        elif '/cat' in img_file:\n",
    "            y[i, 0] = 0\n",
    "        else:  # if needed for the test set on kaggle (each image has an id instead of a class)\n",
    "            y[i, 0] = img_file.split('/')[-1].split('.')[0]\n",
    "        if i % 5000 == 0:\n",
    "            print(\"Loading: {}/{}\".format(i, m))  # print loading progress\n",
    "    print(\"Finished Loading Data\")\n",
    "    return X, y.flatten()"
   ],
   "metadata": {
    "collapsed": false,
    "pycharm": {
     "name": "#%%\n"
    }
   }
  },
  {
   "cell_type": "markdown",
   "source": [
    "> #### How to choose rescale size:\n",
    "* Start rescaling from 28x28, trying both grayscale and color.\n",
    "* Train Logistic Regression baseline models on various data transformations.\n",
    "* Evaluate the accuracy score for each of the model predictions.\n",
    "* Choose the optimal scale and colors."
   ],
   "metadata": {
    "collapsed": false
   }
  },
  {
   "cell_type": "code",
   "execution_count": 24,
   "outputs": [],
   "source": [
    "# function for evaluating cross validation scores and for easy model comparison\n",
    "def display_scores(scores):\n",
    "    print(\"Scores:\", scores)\n",
    "    print(\"Mean:\", round(scores.mean(), 5))\n",
    "    print(\"Standard Deviation:\", round(scores.std(), 5))"
   ],
   "metadata": {
    "collapsed": false,
    "pycharm": {
     "name": "#%%\n"
    }
   }
  },
  {
   "cell_type": "markdown",
   "source": [
    "> #### 28x28x3 Color"
   ],
   "metadata": {
    "collapsed": false
   }
  },
  {
   "cell_type": "code",
   "execution_count": 26,
   "outputs": [],
   "source": [
    "# X_28, y_28 = prep_data(strat_train_set[\"path\"], 28, 28, 3, is_canny=False)\n",
    "# joblib.dump(X_28, \"dogs-vs-cats/data/X_28.pkl\")\n",
    "# joblib.dump(y_28, \"dogs-vs-cats/data/y_28.pkl\")"
   ],
   "metadata": {
    "collapsed": false,
    "pycharm": {
     "name": "#%%\n"
    }
   }
  },
  {
   "cell_type": "code",
   "execution_count": 27,
   "outputs": [],
   "source": [
    "X_28 = joblib.load(r\"dogs-vs-cats/data/X_28.pkl\")\n",
    "y_28 = joblib.load(r\"dogs-vs-cats/data/y_28.pkl\")"
   ],
   "metadata": {
    "collapsed": false,
    "pycharm": {
     "name": "#%%\n"
    }
   }
  },
  {
   "cell_type": "code",
   "execution_count": 28,
   "outputs": [],
   "source": [
    "X_28 = StandardScaler().fit_transform(X_28)"
   ],
   "metadata": {
    "collapsed": false,
    "pycharm": {
     "name": "#%%\n"
    }
   }
  },
  {
   "cell_type": "code",
   "execution_count": 29,
   "outputs": [],
   "source": [
    "log_reg_28 = LogisticRegression(random_state=42, n_jobs=-1)\n",
    "# log_reg_28.fit(X_28, y_28)\n",
    "# joblib.dump(log_reg_28, \"dogs-vs-cats/models/log_reg_28.pkl\")"
   ],
   "metadata": {
    "collapsed": false,
    "pycharm": {
     "name": "#%%\n"
    }
   }
  },
  {
   "cell_type": "code",
   "execution_count": 30,
   "outputs": [],
   "source": [
    "log_reg_28 = joblib.load(r\"dogs-vs-cats/models/log_reg_28.pkl\")"
   ],
   "metadata": {
    "collapsed": false,
    "pycharm": {
     "name": "#%%\n"
    }
   }
  },
  {
   "cell_type": "code",
   "execution_count": null,
   "outputs": [],
   "source": [
    "# log_reg_28_pred = log_reg_28.predict(X_28)\n",
    "# joblib.dump(log_reg_28_pred, \"dogs-vs-cats/pred/log_reg_28_pred.pkl\")"
   ],
   "metadata": {
    "collapsed": false,
    "pycharm": {
     "name": "#%%\n"
    }
   }
  },
  {
   "cell_type": "code",
   "execution_count": null,
   "outputs": [],
   "source": [
    "log_reg_28_pred = joblib.load(r\"dogs-vs-cats/pred/log_reg_28_pred.pkl\")"
   ],
   "metadata": {
    "collapsed": false,
    "pycharm": {
     "name": "#%%\n"
    }
   }
  },
  {
   "cell_type": "code",
   "execution_count": null,
   "outputs": [],
   "source": [
    "metrics.accuracy_score(y_28, log_reg_28_pred)"
   ],
   "metadata": {
    "collapsed": false,
    "pycharm": {
     "name": "#%%\n"
    }
   }
  },
  {
   "cell_type": "code",
   "execution_count": null,
   "outputs": [],
   "source": [
    "# log_reg_28_scores = cross_val_score(log_reg_28, X_28, y_28, scoring=\"accuracy\", cv=4)\n",
    "# joblib.dump(log_reg_28_scores, \"dogs-vs-cats/scores/log_reg_28_scores.pkl\")"
   ],
   "metadata": {
    "collapsed": false,
    "pycharm": {
     "name": "#%%\n"
    }
   }
  },
  {
   "cell_type": "code",
   "execution_count": null,
   "outputs": [],
   "source": [
    "log_reg_28_scores = joblib.load(r\"dogs-vs-cats/scores/log_reg_28_scores.pkl\")"
   ],
   "metadata": {
    "collapsed": false,
    "pycharm": {
     "name": "#%%\n"
    }
   }
  },
  {
   "cell_type": "code",
   "execution_count": null,
   "outputs": [],
   "source": [
    "display_scores(log_reg_28_scores)"
   ],
   "metadata": {
    "collapsed": false,
    "pycharm": {
     "name": "#%%\n"
    }
   }
  },
  {
   "cell_type": "markdown",
   "source": [
    "> #### 28x28 Grayscale"
   ],
   "metadata": {
    "collapsed": false
   }
  },
  {
   "cell_type": "code",
   "execution_count": null,
   "outputs": [],
   "source": [
    "# X_28g, y_28g = prep_data(strat_train_set[\"path\"], 28, 28, 1, is_canny=False)\n",
    "# joblib.dump(X_28g, \"dogs-vs-cats/data/X_28g.pkl\")\n",
    "# joblib.dump(y_28g, \"dogs-vs-cats/data/y_28g.pkl\")"
   ],
   "metadata": {
    "collapsed": false,
    "pycharm": {
     "name": "#%%\n"
    }
   }
  },
  {
   "cell_type": "code",
   "execution_count": null,
   "outputs": [],
   "source": [
    "X_28g = joblib.load(r\"dogs-vs-cats/data/X_28g.pkl\")\n",
    "y_28g = joblib.load(r\"dogs-vs-cats/data/y_28g.pkl\")"
   ],
   "metadata": {
    "collapsed": false,
    "pycharm": {
     "name": "#%%\n"
    }
   }
  },
  {
   "cell_type": "code",
   "execution_count": null,
   "outputs": [],
   "source": [
    "X_28g = StandardScaler().fit_transform(X_28g)"
   ],
   "metadata": {
    "collapsed": false,
    "pycharm": {
     "name": "#%%\n"
    }
   }
  },
  {
   "cell_type": "code",
   "execution_count": null,
   "outputs": [],
   "source": [
    "log_reg_28g = LogisticRegression(random_state=42, n_jobs=-1)\n",
    "# log_reg_28g.fit(X_28g, y_28g)\n",
    "# joblib.dump(log_reg_28g, \"dogs-vs-cats/models/log_reg_28g.pkl\")"
   ],
   "metadata": {
    "collapsed": false,
    "pycharm": {
     "name": "#%%\n"
    }
   }
  },
  {
   "cell_type": "code",
   "execution_count": null,
   "outputs": [],
   "source": [
    "log_reg_28g = joblib.load(r\"dogs-vs-cats/models/log_reg_28g.pkl\")"
   ],
   "metadata": {
    "collapsed": false,
    "pycharm": {
     "name": "#%%\n"
    }
   }
  },
  {
   "cell_type": "code",
   "execution_count": null,
   "outputs": [],
   "source": [
    "# log_reg_28g_pred = log_reg_28g.predict(X_28g)\n",
    "# joblib.dump(log_reg_28g_pred, \"dogs-vs-cats/pred/log_reg_28g_pred.pkl\")"
   ],
   "metadata": {
    "collapsed": false,
    "pycharm": {
     "name": "#%%\n"
    }
   }
  },
  {
   "cell_type": "code",
   "execution_count": null,
   "outputs": [],
   "source": [
    "log_reg_28g_pred = joblib.load(r\"dogs-vs-cats/pred/log_reg_28g_pred.pkl\")"
   ],
   "metadata": {
    "collapsed": false,
    "pycharm": {
     "name": "#%%\n"
    }
   }
  },
  {
   "cell_type": "code",
   "execution_count": null,
   "outputs": [],
   "source": [
    "metrics.accuracy_score(y_28g, log_reg_28g_pred)"
   ],
   "metadata": {
    "collapsed": false,
    "pycharm": {
     "name": "#%%\n"
    }
   }
  },
  {
   "cell_type": "code",
   "execution_count": null,
   "outputs": [],
   "source": [
    "# log_reg_28g_scores = cross_val_score(log_reg_28g, X_28g, y_28g, scoring=\"accuracy\", cv=4)\n",
    "# joblib.dump(log_reg_28g_scores, \"dogs-vs-cats/scores/log_reg_28g_scores.pkl\")"
   ],
   "metadata": {
    "collapsed": false,
    "pycharm": {
     "name": "#%%\n"
    }
   }
  },
  {
   "cell_type": "code",
   "execution_count": null,
   "outputs": [],
   "source": [
    "log_reg_28g_scores = joblib.load(r\"dogs-vs-cats/scores/log_reg_28g_scores.pkl\")"
   ],
   "metadata": {
    "collapsed": false,
    "pycharm": {
     "name": "#%%\n"
    }
   }
  },
  {
   "cell_type": "code",
   "execution_count": null,
   "outputs": [],
   "source": [
    "display_scores(log_reg_28g_scores)"
   ],
   "metadata": {
    "collapsed": false,
    "pycharm": {
     "name": "#%%\n"
    }
   }
  },
  {
   "cell_type": "markdown",
   "source": [
    "> #### 28x28 Canny"
   ],
   "metadata": {
    "collapsed": false
   }
  },
  {
   "cell_type": "code",
   "execution_count": null,
   "outputs": [],
   "source": [
    "# X_28C, y_28C = prep_data(strat_train_set[\"path\"], 28, 28, 1, is_canny=True)\n",
    "# joblib.dump(X_28C, \"dogs-vs-cats/data/X_28C.pkl\")\n",
    "# joblib.dump(y_28C, \"dogs-vs-cats/data/y_28C.pkl\")"
   ],
   "metadata": {
    "collapsed": false,
    "pycharm": {
     "name": "#%%\n"
    }
   }
  },
  {
   "cell_type": "code",
   "execution_count": null,
   "outputs": [],
   "source": [
    "X_28C = joblib.load(r\"dogs-vs-cats/data/X_28C.pkl\")\n",
    "y_28C = joblib.load(r\"dogs-vs-cats/data/y_28C.pkl\")"
   ],
   "metadata": {
    "collapsed": false,
    "pycharm": {
     "name": "#%%\n"
    }
   }
  },
  {
   "cell_type": "code",
   "execution_count": null,
   "outputs": [],
   "source": [
    "X_28C = StandardScaler().fit_transform(X_28C)"
   ],
   "metadata": {
    "collapsed": false,
    "pycharm": {
     "name": "#%%\n"
    }
   }
  },
  {
   "cell_type": "code",
   "execution_count": null,
   "outputs": [],
   "source": [
    "log_reg_28C = LogisticRegression(random_state=42, n_jobs=-1)\n",
    "# log_reg_28C.fit(X_28C, y_28C)\n",
    "# joblib.dump(log_reg_28C, \"dogs-vs-cats/models/log_reg_28C.pkl\")"
   ],
   "metadata": {
    "collapsed": false,
    "pycharm": {
     "name": "#%%\n"
    }
   }
  },
  {
   "cell_type": "code",
   "execution_count": null,
   "outputs": [],
   "source": [
    "log_reg_28C = joblib.load(r\"dogs-vs-cats/models/log_reg_28C.pkl\")"
   ],
   "metadata": {
    "collapsed": false,
    "pycharm": {
     "name": "#%%\n"
    }
   }
  },
  {
   "cell_type": "code",
   "execution_count": null,
   "outputs": [],
   "source": [
    "# log_reg_28C_pred = log_reg_28C.predict(X_28C)\n",
    "# joblib.dump(log_reg_28C_pred, \"dogs-vs-cats/pred/log_reg_28C_pred.pkl\")"
   ],
   "metadata": {
    "collapsed": false,
    "pycharm": {
     "name": "#%%\n"
    }
   }
  },
  {
   "cell_type": "code",
   "execution_count": null,
   "outputs": [],
   "source": [
    "log_reg_28C_pred = joblib.load(r\"dogs-vs-cats/pred/log_reg_28C_pred.pkl\")"
   ],
   "metadata": {
    "collapsed": false,
    "pycharm": {
     "name": "#%%\n"
    }
   }
  },
  {
   "cell_type": "code",
   "execution_count": null,
   "outputs": [],
   "source": [
    "metrics.accuracy_score(y_28C, log_reg_28C_pred)"
   ],
   "metadata": {
    "collapsed": false,
    "pycharm": {
     "name": "#%%\n"
    }
   }
  },
  {
   "cell_type": "code",
   "execution_count": null,
   "outputs": [],
   "source": [
    "# log_reg_28C_scores = cross_val_score(log_reg_28C, X_28C, y_28C, scoring=\"accuracy\", cv=4)\n",
    "# joblib.dump(log_reg_28C_scores, \"dogs-vs-cats/scores/log_reg_28C_scores.pkl\")"
   ],
   "metadata": {
    "collapsed": false,
    "pycharm": {
     "name": "#%%\n"
    }
   }
  },
  {
   "cell_type": "code",
   "execution_count": null,
   "outputs": [],
   "source": [
    "log_reg_28C_scores = joblib.load(r\"dogs-vs-cats/scores/log_reg_28C_scores.pkl\")"
   ],
   "metadata": {
    "collapsed": false,
    "pycharm": {
     "name": "#%%\n"
    }
   }
  },
  {
   "cell_type": "code",
   "execution_count": null,
   "outputs": [],
   "source": [
    "display_scores(log_reg_28C_scores)"
   ],
   "metadata": {
    "collapsed": false,
    "pycharm": {
     "name": "#%%\n"
    }
   }
  },
  {
   "cell_type": "markdown",
   "source": [
    "> #### 28x28 Observations:\n",
    "* Although at first it seemed like color was going to obtain the highest score,\n",
    "cross-validation showed that canny is just as good as color!\n",
    "(I would even consider canny as much better than color, since canny has fewer features).\n",
    "* Grayscale underperformed both color and canny."
   ],
   "metadata": {
    "collapsed": false
   }
  },
  {
   "cell_type": "markdown",
   "source": [
    "> #### 64x64x3 Color"
   ],
   "metadata": {
    "collapsed": false
   }
  },
  {
   "cell_type": "code",
   "execution_count": null,
   "outputs": [],
   "source": [
    "# X_64, y_64 = prep_data(strat_train_set[\"path\"], 64, 64, 3, is_canny=False)\n",
    "# joblib.dump(X_64, \"dogs-vs-cats/data/X_64.pkl\")\n",
    "# joblib.dump(y_64, \"dogs-vs-cats/data/y_64.pkl\")"
   ],
   "metadata": {
    "collapsed": false,
    "pycharm": {
     "name": "#%%\n"
    }
   }
  },
  {
   "cell_type": "code",
   "execution_count": null,
   "outputs": [],
   "source": [
    "X_64 = joblib.load(r\"dogs-vs-cats/data/X_64.pkl\")\n",
    "y_64 = joblib.load(r\"dogs-vs-cats/data/y_64.pkl\")"
   ],
   "metadata": {
    "collapsed": false,
    "pycharm": {
     "name": "#%%\n"
    }
   }
  },
  {
   "cell_type": "code",
   "execution_count": null,
   "outputs": [],
   "source": [
    "X_64 = StandardScaler().fit_transform(X_64)"
   ],
   "metadata": {
    "collapsed": false,
    "pycharm": {
     "name": "#%%\n"
    }
   }
  },
  {
   "cell_type": "code",
   "execution_count": null,
   "outputs": [],
   "source": [
    "log_reg_64 = LogisticRegression(random_state=42, n_jobs=-1)\n",
    "# log_reg_64.fit(X_64, y_64)\n",
    "# joblib.dump(log_reg_64, \"dogs-vs-cats/models/log_reg_64.pkl\")"
   ],
   "metadata": {
    "collapsed": false,
    "pycharm": {
     "name": "#%%\n"
    }
   }
  },
  {
   "cell_type": "code",
   "execution_count": null,
   "outputs": [],
   "source": [
    "log_reg_64 = joblib.load(r\"dogs-vs-cats/models/log_reg_64.pkl\")"
   ],
   "metadata": {
    "collapsed": false,
    "pycharm": {
     "name": "#%%\n"
    }
   }
  },
  {
   "cell_type": "code",
   "execution_count": null,
   "outputs": [],
   "source": [
    "# log_reg_64_pred = log_reg_64.predict(X_64)\n",
    "# joblib.dump(log_reg_64_pred, \"dogs-vs-cats/pred/log_reg_64_pred.pkl\")"
   ],
   "metadata": {
    "collapsed": false,
    "pycharm": {
     "name": "#%%\n"
    }
   }
  },
  {
   "cell_type": "code",
   "execution_count": null,
   "outputs": [],
   "source": [
    "log_reg_64_pred = joblib.load(r\"dogs-vs-cats/pred/log_reg_64_pred.pkl\")"
   ],
   "metadata": {
    "collapsed": false,
    "pycharm": {
     "name": "#%%\n"
    }
   }
  },
  {
   "cell_type": "code",
   "execution_count": null,
   "outputs": [],
   "source": [
    "metrics.accuracy_score(y_64, log_reg_64_pred)"
   ],
   "metadata": {
    "collapsed": false,
    "pycharm": {
     "name": "#%%\n"
    }
   }
  },
  {
   "cell_type": "code",
   "execution_count": null,
   "outputs": [],
   "source": [
    "# log_reg_64_scores = cross_val_score(log_reg_64, X_64, y_64, scoring=\"accuracy\", cv=4)\n",
    "# joblib.dump(log_reg_64_scores, \"dogs-vs-cats/scores/log_reg_64_scores.pkl\")"
   ],
   "metadata": {
    "collapsed": false,
    "pycharm": {
     "name": "#%%\n"
    }
   }
  },
  {
   "cell_type": "code",
   "execution_count": null,
   "outputs": [],
   "source": [
    "log_reg_64_scores = joblib.load(r\"dogs-vs-cats/scores/log_reg_64_scores.pkl\")"
   ],
   "metadata": {
    "collapsed": false,
    "pycharm": {
     "name": "#%%\n"
    }
   }
  },
  {
   "cell_type": "code",
   "execution_count": null,
   "outputs": [],
   "source": [
    "display_scores(log_reg_64_scores)"
   ],
   "metadata": {
    "collapsed": false,
    "pycharm": {
     "name": "#%%\n"
    }
   }
  },
  {
   "cell_type": "markdown",
   "source": [
    "> #### 64x64 Grayscale"
   ],
   "metadata": {
    "collapsed": false
   }
  },
  {
   "cell_type": "code",
   "execution_count": null,
   "outputs": [],
   "source": [
    "# X_64g, y_64g = prep_data(strat_train_set[\"path\"], 64, 64, 1, is_canny=False)\n",
    "# joblib.dump(X_64g, \"dogs-vs-cats/data/X_64g.pkl\")\n",
    "# joblib.dump(y_64g, \"dogs-vs-cats/data/y_64g.pkl\")"
   ],
   "metadata": {
    "collapsed": false,
    "pycharm": {
     "name": "#%%\n"
    }
   }
  },
  {
   "cell_type": "code",
   "execution_count": null,
   "outputs": [],
   "source": [
    "X_64g = joblib.load(r\"dogs-vs-cats/data/X_64g.pkl\")\n",
    "y_64g = joblib.load(r\"dogs-vs-cats/data/y_64g.pkl\")"
   ],
   "metadata": {
    "collapsed": false,
    "pycharm": {
     "name": "#%%\n"
    }
   }
  },
  {
   "cell_type": "code",
   "execution_count": null,
   "outputs": [],
   "source": [
    "X_64g = StandardScaler().fit_transform(X_64g)"
   ],
   "metadata": {
    "collapsed": false,
    "pycharm": {
     "name": "#%%\n"
    }
   }
  },
  {
   "cell_type": "code",
   "execution_count": null,
   "outputs": [],
   "source": [
    "log_reg_64g = LogisticRegression(random_state=42, n_jobs=-1)\n",
    "# log_reg_64g.fit(X_64g, y_64g)\n",
    "# joblib.dump(log_reg_64g, \"dogs-vs-cats/models/log_reg_64g.pkl\")"
   ],
   "metadata": {
    "collapsed": false,
    "pycharm": {
     "name": "#%%\n"
    }
   }
  },
  {
   "cell_type": "code",
   "execution_count": null,
   "outputs": [],
   "source": [
    "log_reg_64g = joblib.load(r\"dogs-vs-cats/models/log_reg_64g.pkl\")"
   ],
   "metadata": {
    "collapsed": false,
    "pycharm": {
     "name": "#%%\n"
    }
   }
  },
  {
   "cell_type": "code",
   "execution_count": null,
   "outputs": [],
   "source": [
    "# log_reg_64g_pred = log_reg_64g.predict(X_64g)\n",
    "# joblib.dump(log_reg_64g_pred, \"dogs-vs-cats/pred/log_reg_64g_pred.pkl\")"
   ],
   "metadata": {
    "collapsed": false,
    "pycharm": {
     "name": "#%%\n"
    }
   }
  },
  {
   "cell_type": "code",
   "execution_count": null,
   "outputs": [],
   "source": [
    "log_reg_64g_pred = joblib.load(r\"dogs-vs-cats/pred/log_reg_64g_pred.pkl\")"
   ],
   "metadata": {
    "collapsed": false,
    "pycharm": {
     "name": "#%%\n"
    }
   }
  },
  {
   "cell_type": "code",
   "execution_count": null,
   "outputs": [],
   "source": [
    "metrics.accuracy_score(y_64g, log_reg_64g_pred)"
   ],
   "metadata": {
    "collapsed": false,
    "pycharm": {
     "name": "#%%\n"
    }
   }
  },
  {
   "cell_type": "code",
   "execution_count": null,
   "outputs": [],
   "source": [
    "# log_reg_64g_scores = cross_val_score(log_reg_64g, X_64g, y_64g, scoring=\"accuracy\", cv=4)\n",
    "# joblib.dump(log_reg_64g_scores, \"dogs-vs-cats/scores/log_reg_64g_scores.pkl\")"
   ],
   "metadata": {
    "collapsed": false,
    "pycharm": {
     "name": "#%%\n"
    }
   }
  },
  {
   "cell_type": "code",
   "execution_count": null,
   "outputs": [],
   "source": [
    "log_reg_64g_scores = joblib.load(r\"dogs-vs-cats/scores/log_reg_64g_scores.pkl\")"
   ],
   "metadata": {
    "collapsed": false,
    "pycharm": {
     "name": "#%%\n"
    }
   }
  },
  {
   "cell_type": "code",
   "execution_count": null,
   "outputs": [],
   "source": [
    "display_scores(log_reg_64g_scores)"
   ],
   "metadata": {
    "collapsed": false,
    "pycharm": {
     "name": "#%%\n"
    }
   }
  },
  {
   "cell_type": "markdown",
   "source": [
    "> #### 64x64 Canny"
   ],
   "metadata": {
    "collapsed": false
   }
  },
  {
   "cell_type": "code",
   "execution_count": null,
   "outputs": [],
   "source": [
    "# X_64C, y_64C = prep_data(strat_train_set[\"path\"], 64, 64, 1, is_canny=True)\n",
    "# joblib.dump(X_64C, \"dogs-vs-cats/data/X_64C.pkl\")\n",
    "# joblib.dump(y_64C, \"dogs-vs-cats/data/y_64C.pkl\")"
   ],
   "metadata": {
    "collapsed": false,
    "pycharm": {
     "name": "#%%\n"
    }
   }
  },
  {
   "cell_type": "code",
   "execution_count": null,
   "outputs": [],
   "source": [
    "X_64C = joblib.load(r\"dogs-vs-cats/data/X_64C.pkl\")\n",
    "y_64C = joblib.load(r\"dogs-vs-cats/data/y_64C.pkl\")"
   ],
   "metadata": {
    "collapsed": false,
    "pycharm": {
     "name": "#%%\n"
    }
   }
  },
  {
   "cell_type": "code",
   "execution_count": null,
   "outputs": [],
   "source": [
    "X_64C = StandardScaler().fit_transform(X_64C)"
   ],
   "metadata": {
    "collapsed": false,
    "pycharm": {
     "name": "#%%\n"
    }
   }
  },
  {
   "cell_type": "code",
   "execution_count": null,
   "outputs": [],
   "source": [
    "log_reg_64C = LogisticRegression(random_state=42, n_jobs=-1)\n",
    "# log_reg_64C.fit(X_64C, y_64C)\n",
    "# joblib.dump(log_reg_64C, \"dogs-vs-cats/models/log_reg_64C.pkl\")"
   ],
   "metadata": {
    "collapsed": false,
    "pycharm": {
     "name": "#%%\n"
    }
   }
  },
  {
   "cell_type": "code",
   "execution_count": null,
   "outputs": [],
   "source": [
    "log_reg_64C = joblib.load(r\"dogs-vs-cats/models/log_reg_64C.pkl\")"
   ],
   "metadata": {
    "collapsed": false,
    "pycharm": {
     "name": "#%%\n"
    }
   }
  },
  {
   "cell_type": "code",
   "execution_count": null,
   "outputs": [],
   "source": [
    "# log_reg_64C_pred = log_reg_64C.predict(X_64C)\n",
    "# joblib.dump(log_reg_64C_pred, \"dogs-vs-cats/pred/log_reg_64C_pred.pkl\")"
   ],
   "metadata": {
    "collapsed": false,
    "pycharm": {
     "name": "#%%\n"
    }
   }
  },
  {
   "cell_type": "code",
   "execution_count": null,
   "outputs": [],
   "source": [
    "log_reg_64C_pred = joblib.load(r\"dogs-vs-cats/pred/log_reg_64C_pred.pkl\")"
   ],
   "metadata": {
    "collapsed": false,
    "pycharm": {
     "name": "#%%\n"
    }
   }
  },
  {
   "cell_type": "code",
   "execution_count": null,
   "outputs": [],
   "source": [
    "metrics.accuracy_score(y_64C, log_reg_64C_pred)"
   ],
   "metadata": {
    "collapsed": false,
    "pycharm": {
     "name": "#%%\n"
    }
   }
  },
  {
   "cell_type": "code",
   "execution_count": null,
   "outputs": [],
   "source": [
    "# log_reg_64C_scores = cross_val_score(log_reg_64C, X_64C, y_64C, scoring=\"accuracy\", cv=4)\n",
    "# joblib.dump(log_reg_64C_scores, \"dogs-vs-cats/scores/log_reg_64C_scores.pkl\")"
   ],
   "metadata": {
    "collapsed": false,
    "pycharm": {
     "name": "#%%\n"
    }
   }
  },
  {
   "cell_type": "code",
   "execution_count": null,
   "outputs": [],
   "source": [
    "log_reg_64C_scores = joblib.load(r\"dogs-vs-cats/scores/log_reg_64C_scores.pkl\")"
   ],
   "metadata": {
    "collapsed": false,
    "pycharm": {
     "name": "#%%\n"
    }
   }
  },
  {
   "cell_type": "code",
   "execution_count": null,
   "outputs": [],
   "source": [
    "display_scores(log_reg_64C_scores)"
   ],
   "metadata": {
    "collapsed": false,
    "pycharm": {
     "name": "#%%\n"
    }
   }
  },
  {
   "cell_type": "markdown",
   "source": [
    "> #### 64x64 Observations:\n",
    "* 64x64 color was worse than 28x28 color. Although the model fit the training set better, cross-validation showed\n",
    "a decrease in performance.\n",
    "* 64x64 grayscale fit the training data better compared to 28x28 grayscale, with a minimal decrease in\n",
    "cross-validation accuracy.\n",
    "*"
   ],
   "metadata": {
    "collapsed": false
   }
  },
  {
   "cell_type": "markdown",
   "source": [
    "testing 30x30\n",
    "\n",
    "-----"
   ],
   "metadata": {
    "collapsed": false
   }
  },
  {
   "cell_type": "markdown",
   "source": [
    "> #### 30x30x3 Color"
   ],
   "metadata": {
    "collapsed": false
   }
  },
  {
   "cell_type": "code",
   "execution_count": 25,
   "outputs": [],
   "source": [
    "# X_30, y_30 = prep_data(strat_train_set[\"path\"], 30\n",
    "# , 30, 3, is_canny=False)\n",
    "# joblib.dump(X_30, \"dogs-vs-cats/data/X_30.pkl\")\n",
    "# joblib.dump(y_30, \"dogs-vs-cats/data/y_30.pkl\")"
   ],
   "metadata": {
    "collapsed": false,
    "pycharm": {
     "name": "#%%\n"
    }
   }
  },
  {
   "cell_type": "code",
   "execution_count": 26,
   "outputs": [],
   "source": [
    "X_30 = joblib.load(r\"dogs-vs-cats/data/X_30.pkl\")\n",
    "y_30 = joblib.load(r\"dogs-vs-cats/data/y_30.pkl\")"
   ],
   "metadata": {
    "collapsed": false,
    "pycharm": {
     "name": "#%%\n"
    }
   }
  },
  {
   "cell_type": "code",
   "execution_count": 27,
   "outputs": [],
   "source": [
    "X_30 = StandardScaler().fit_transform(X_30)"
   ],
   "metadata": {
    "collapsed": false,
    "pycharm": {
     "name": "#%%\n"
    }
   }
  },
  {
   "cell_type": "code",
   "execution_count": 28,
   "outputs": [],
   "source": [
    "log_reg_30 = LogisticRegression(random_state=42, n_jobs=-1)\n",
    "# log_reg_30.fit(X_30, y_30)\n",
    "# joblib.dump(log_reg_30, \"dogs-vs-cats/models/log_reg_30.pkl\")"
   ],
   "metadata": {
    "collapsed": false,
    "pycharm": {
     "name": "#%%\n"
    }
   }
  },
  {
   "cell_type": "code",
   "execution_count": 29,
   "outputs": [],
   "source": [
    "log_reg_30 = joblib.load(r\"dogs-vs-cats/models/log_reg_30.pkl\")"
   ],
   "metadata": {
    "collapsed": false,
    "pycharm": {
     "name": "#%%\n"
    }
   }
  },
  {
   "cell_type": "code",
   "execution_count": 30,
   "outputs": [],
   "source": [
    "# log_reg_30_pred = log_reg_30.predict(X_30)\n",
    "# joblib.dump(log_reg_30_pred, \"dogs-vs-cats/pred/log_reg_30_pred.pkl\")"
   ],
   "metadata": {
    "collapsed": false,
    "pycharm": {
     "name": "#%%\n"
    }
   }
  },
  {
   "cell_type": "code",
   "execution_count": 31,
   "outputs": [],
   "source": [
    "log_reg_30_pred = joblib.load(r\"dogs-vs-cats/pred/log_reg_30_pred.pkl\")"
   ],
   "metadata": {
    "collapsed": false,
    "pycharm": {
     "name": "#%%\n"
    }
   }
  },
  {
   "cell_type": "code",
   "execution_count": 32,
   "outputs": [
    {
     "data": {
      "text/plain": "0.68855"
     },
     "execution_count": 32,
     "metadata": {},
     "output_type": "execute_result"
    }
   ],
   "source": [
    "metrics.accuracy_score(y_30, log_reg_30_pred)"
   ],
   "metadata": {
    "collapsed": false,
    "pycharm": {
     "name": "#%%\n"
    }
   }
  },
  {
   "cell_type": "code",
   "execution_count": 33,
   "outputs": [],
   "source": [
    "# log_reg_30_scores = cross_val_score(log_reg_30, X_30, y_30, scoring=\"accuracy\", cv=4)\n",
    "# joblib.dump(log_reg_30_scores, \"dogs-vs-cats/scores/log_reg_30_scores.pkl\")"
   ],
   "metadata": {
    "collapsed": false,
    "pycharm": {
     "name": "#%%\n"
    }
   }
  },
  {
   "cell_type": "code",
   "execution_count": 34,
   "outputs": [],
   "source": [
    "log_reg_30_scores = joblib.load(r\"dogs-vs-cats/scores/log_reg_30_scores.pkl\")"
   ],
   "metadata": {
    "collapsed": false,
    "pycharm": {
     "name": "#%%\n"
    }
   }
  },
  {
   "cell_type": "code",
   "execution_count": 35,
   "outputs": [
    {
     "name": "stdout",
     "output_type": "stream",
     "text": [
      "Scores: [0.592  0.5962 0.6004 0.5972]\n",
      "Mean: 0.59645\n",
      "Standard Deviation: 0.003\n"
     ]
    }
   ],
   "source": [
    "display_scores(log_reg_30_scores)"
   ],
   "metadata": {
    "collapsed": false,
    "pycharm": {
     "name": "#%%\n"
    }
   }
  },
  {
   "cell_type": "markdown",
   "source": [
    "> #### 30x30 Grayscale"
   ],
   "metadata": {
    "collapsed": false
   }
  },
  {
   "cell_type": "code",
   "execution_count": 36,
   "outputs": [
    {
     "name": "stdout",
     "output_type": "stream",
     "text": [
      "Loading: 0/20000\n",
      "Loading: 5000/20000\n",
      "Loading: 10000/20000\n",
      "Loading: 15000/20000\n",
      "Finished Loading Data\n"
     ]
    },
    {
     "data": {
      "text/plain": "['dogs-vs-cats/data/y_30g.pkl']"
     },
     "execution_count": 36,
     "metadata": {},
     "output_type": "execute_result"
    }
   ],
   "source": [
    "X_30g, y_30g = prep_data(strat_train_set[\"path\"], 30, 30, 1, is_canny=False)\n",
    "joblib.dump(X_30g, \"dogs-vs-cats/data/X_30g.pkl\")\n",
    "joblib.dump(y_30g, \"dogs-vs-cats/data/y_30g.pkl\")"
   ],
   "metadata": {
    "collapsed": false,
    "pycharm": {
     "name": "#%%\n"
    }
   }
  },
  {
   "cell_type": "code",
   "execution_count": 37,
   "outputs": [],
   "source": [
    "# X_30g = joblib.load(r\"dogs-vs-cats/data/X_30g.pkl\")\n",
    "# y_30g = joblib.load(r\"dogs-vs-cats/data/y_30g.pkl\")"
   ],
   "metadata": {
    "collapsed": false,
    "pycharm": {
     "name": "#%%\n"
    }
   }
  },
  {
   "cell_type": "code",
   "execution_count": 38,
   "outputs": [],
   "source": [
    "X_30g = StandardScaler().fit_transform(X_30g)"
   ],
   "metadata": {
    "collapsed": false,
    "pycharm": {
     "name": "#%%\n"
    }
   }
  },
  {
   "cell_type": "code",
   "execution_count": 39,
   "outputs": [
    {
     "data": {
      "text/plain": "['dogs-vs-cats/models/log_reg_30g.pkl']"
     },
     "execution_count": 39,
     "metadata": {},
     "output_type": "execute_result"
    }
   ],
   "source": [
    "log_reg_30g = LogisticRegression(random_state=42, n_jobs=-1)\n",
    "log_reg_30g.fit(X_30g, y_30g)\n",
    "joblib.dump(log_reg_30g, \"dogs-vs-cats/models/log_reg_30g.pkl\")"
   ],
   "metadata": {
    "collapsed": false,
    "pycharm": {
     "name": "#%%\n"
    }
   }
  },
  {
   "cell_type": "code",
   "execution_count": 40,
   "outputs": [],
   "source": [
    "# log_reg_30g = joblib.load(r\"dogs-vs-cats/models/log_reg_30g.pkl\")"
   ],
   "metadata": {
    "collapsed": false,
    "pycharm": {
     "name": "#%%\n"
    }
   }
  },
  {
   "cell_type": "code",
   "execution_count": 41,
   "outputs": [
    {
     "data": {
      "text/plain": "['dogs-vs-cats/pred/log_reg_30g_pred.pkl']"
     },
     "execution_count": 41,
     "metadata": {},
     "output_type": "execute_result"
    }
   ],
   "source": [
    "log_reg_30g_pred = log_reg_30g.predict(X_30g)\n",
    "joblib.dump(log_reg_30g_pred, \"dogs-vs-cats/pred/log_reg_30g_pred.pkl\")"
   ],
   "metadata": {
    "collapsed": false,
    "pycharm": {
     "name": "#%%\n"
    }
   }
  },
  {
   "cell_type": "code",
   "execution_count": 42,
   "outputs": [],
   "source": [
    "# log_reg_30g_pred = joblib.load(r\"dogs-vs-cats/pred/log_reg_30g_pred.pkl\")"
   ],
   "metadata": {
    "collapsed": false,
    "pycharm": {
     "name": "#%%\n"
    }
   }
  },
  {
   "cell_type": "code",
   "execution_count": 43,
   "outputs": [
    {
     "data": {
      "text/plain": "0.6097"
     },
     "execution_count": 43,
     "metadata": {},
     "output_type": "execute_result"
    }
   ],
   "source": [
    "metrics.accuracy_score(y_30g, log_reg_30g_pred)"
   ],
   "metadata": {
    "collapsed": false,
    "pycharm": {
     "name": "#%%\n"
    }
   }
  },
  {
   "cell_type": "code",
   "execution_count": 44,
   "outputs": [
    {
     "data": {
      "text/plain": "['dogs-vs-cats/scores/log_reg_30g_scores.pkl']"
     },
     "execution_count": 44,
     "metadata": {},
     "output_type": "execute_result"
    }
   ],
   "source": [
    "log_reg_30g_scores = cross_val_score(log_reg_30g, X_30g, y_30g, scoring=\"accuracy\", cv=4)\n",
    "joblib.dump(log_reg_30g_scores, \"dogs-vs-cats/scores/log_reg_30g_scores.pkl\")"
   ],
   "metadata": {
    "collapsed": false,
    "pycharm": {
     "name": "#%%\n"
    }
   }
  },
  {
   "cell_type": "code",
   "execution_count": 45,
   "outputs": [],
   "source": [
    "# log_reg_30g_scores = joblib.load(r\"dogs-vs-cats/scores/log_reg_30g_scores.pkl\")"
   ],
   "metadata": {
    "collapsed": false,
    "pycharm": {
     "name": "#%%\n"
    }
   }
  },
  {
   "cell_type": "code",
   "execution_count": 46,
   "outputs": [
    {
     "name": "stdout",
     "output_type": "stream",
     "text": [
      "Scores: [0.5456 0.5286 0.5462 0.551 ]\n",
      "Mean: 0.54285\n",
      "Standard Deviation: 0.00849\n"
     ]
    }
   ],
   "source": [
    "display_scores(log_reg_30g_scores)"
   ],
   "metadata": {
    "collapsed": false,
    "pycharm": {
     "name": "#%%\n"
    }
   }
  },
  {
   "cell_type": "markdown",
   "source": [
    "> #### 30x30 Canny"
   ],
   "metadata": {
    "collapsed": false
   }
  },
  {
   "cell_type": "code",
   "execution_count": 47,
   "outputs": [
    {
     "name": "stdout",
     "output_type": "stream",
     "text": [
      "Loading: 0/20000\n",
      "Loading: 5000/20000\n",
      "Loading: 10000/20000\n",
      "Loading: 15000/20000\n",
      "Finished Loading Data\n"
     ]
    },
    {
     "data": {
      "text/plain": "['dogs-vs-cats/data/y_30C.pkl']"
     },
     "execution_count": 47,
     "metadata": {},
     "output_type": "execute_result"
    }
   ],
   "source": [
    "X_30C, y_30C = prep_data(strat_train_set[\"path\"], 30, 30, 1, is_canny=True)\n",
    "joblib.dump(X_30C, \"dogs-vs-cats/data/X_30C.pkl\")\n",
    "joblib.dump(y_30C, \"dogs-vs-cats/data/y_30C.pkl\")"
   ],
   "metadata": {
    "collapsed": false,
    "pycharm": {
     "name": "#%%\n"
    }
   }
  },
  {
   "cell_type": "code",
   "execution_count": 48,
   "outputs": [],
   "source": [
    "# X_30C = joblib.load(r\"dogs-vs-cats/data/X_30C.pkl\")\n",
    "# y_30C = joblib.load(r\"dogs-vs-cats/data/y_30C.pkl\")"
   ],
   "metadata": {
    "collapsed": false,
    "pycharm": {
     "name": "#%%\n"
    }
   }
  },
  {
   "cell_type": "code",
   "execution_count": 49,
   "outputs": [],
   "source": [
    "X_30C = StandardScaler().fit_transform(X_30C)"
   ],
   "metadata": {
    "collapsed": false,
    "pycharm": {
     "name": "#%%\n"
    }
   }
  },
  {
   "cell_type": "code",
   "execution_count": 50,
   "outputs": [
    {
     "data": {
      "text/plain": "['dogs-vs-cats/models/log_reg_30C.pkl']"
     },
     "execution_count": 50,
     "metadata": {},
     "output_type": "execute_result"
    }
   ],
   "source": [
    "log_reg_30C = LogisticRegression(random_state=42, n_jobs=-1)\n",
    "log_reg_30C.fit(X_30C, y_30C)\n",
    "joblib.dump(log_reg_30C, \"dogs-vs-cats/models/log_reg_30C.pkl\")"
   ],
   "metadata": {
    "collapsed": false,
    "pycharm": {
     "name": "#%%\n"
    }
   }
  },
  {
   "cell_type": "code",
   "execution_count": 51,
   "outputs": [],
   "source": [
    "# log_reg_30C = joblib.load(r\"dogs-vs-cats/models/log_reg_30C.pkl\")"
   ],
   "metadata": {
    "collapsed": false,
    "pycharm": {
     "name": "#%%\n"
    }
   }
  },
  {
   "cell_type": "code",
   "execution_count": 52,
   "outputs": [
    {
     "data": {
      "text/plain": "['dogs-vs-cats/pred/log_reg_30C_pred.pkl']"
     },
     "execution_count": 52,
     "metadata": {},
     "output_type": "execute_result"
    }
   ],
   "source": [
    "log_reg_30C_pred = log_reg_30C.predict(X_30C)\n",
    "joblib.dump(log_reg_30C_pred, \"dogs-vs-cats/pred/log_reg_30C_pred.pkl\")"
   ],
   "metadata": {
    "collapsed": false,
    "pycharm": {
     "name": "#%%\n"
    }
   }
  },
  {
   "cell_type": "code",
   "execution_count": 53,
   "outputs": [],
   "source": [
    "# log_reg_30C_pred = joblib.load(r\"dogs-vs-cats/pred/log_reg_30C_pred.pkl\")"
   ],
   "metadata": {
    "collapsed": false,
    "pycharm": {
     "name": "#%%\n"
    }
   }
  },
  {
   "cell_type": "code",
   "execution_count": 54,
   "outputs": [
    {
     "data": {
      "text/plain": "0.6446"
     },
     "execution_count": 54,
     "metadata": {},
     "output_type": "execute_result"
    }
   ],
   "source": [
    "metrics.accuracy_score(y_30C, log_reg_30C_pred)"
   ],
   "metadata": {
    "collapsed": false,
    "pycharm": {
     "name": "#%%\n"
    }
   }
  },
  {
   "cell_type": "code",
   "execution_count": 55,
   "outputs": [
    {
     "data": {
      "text/plain": "['dogs-vs-cats/scores/log_reg_30C_scores.pkl']"
     },
     "execution_count": 55,
     "metadata": {},
     "output_type": "execute_result"
    }
   ],
   "source": [
    "log_reg_30C_scores = cross_val_score(log_reg_30C, X_30C, y_30C, scoring=\"accuracy\", cv=4)\n",
    "joblib.dump(log_reg_30C_scores, \"dogs-vs-cats/scores/log_reg_30C_scores.pkl\")"
   ],
   "metadata": {
    "collapsed": false,
    "pycharm": {
     "name": "#%%\n"
    }
   }
  },
  {
   "cell_type": "code",
   "execution_count": 56,
   "outputs": [],
   "source": [
    "# log_reg_30C_scores = joblib.load(r\"dogs-vs-cats/scores/log_reg_30C_scores.pkl\")"
   ],
   "metadata": {
    "collapsed": false,
    "pycharm": {
     "name": "#%%\n"
    }
   }
  },
  {
   "cell_type": "code",
   "execution_count": 57,
   "outputs": [
    {
     "name": "stdout",
     "output_type": "stream",
     "text": [
      "Scores: [0.5922 0.5976 0.593  0.5888]\n",
      "Mean: 0.5929\n",
      "Standard Deviation: 0.00314\n"
     ]
    }
   ],
   "source": [
    "display_scores(log_reg_30C_scores)"
   ],
   "metadata": {
    "collapsed": false,
    "pycharm": {
     "name": "#%%\n"
    }
   }
  },
  {
   "cell_type": "markdown",
   "source": [
    "end testing 30x30\n",
    "\n",
    "----"
   ],
   "metadata": {
    "collapsed": false
   }
  },
  {
   "cell_type": "markdown",
   "source": [
    "testing 50x50\n",
    "\n",
    "-----"
   ],
   "metadata": {
    "collapsed": false
   }
  },
  {
   "cell_type": "markdown",
   "source": [
    "> #### 50x50x3 Color"
   ],
   "metadata": {
    "collapsed": false
   }
  },
  {
   "cell_type": "code",
   "execution_count": 58,
   "outputs": [],
   "source": [
    "# X_50, y_50 = prep_data(strat_train_set[\"path\"], 50, 50, 3, is_canny=False)\n",
    "# joblib.dump(X_50, \"dogs-vs-cats/data/X_50.pkl\")\n",
    "# joblib.dump(y_50, \"dogs-vs-cats/data/y_50.pkl\")"
   ],
   "metadata": {
    "collapsed": false,
    "pycharm": {
     "name": "#%%\n"
    }
   }
  },
  {
   "cell_type": "code",
   "execution_count": 59,
   "outputs": [],
   "source": [
    "X_50 = joblib.load(r\"dogs-vs-cats/data/X_50.pkl\")\n",
    "y_50 = joblib.load(r\"dogs-vs-cats/data/y_50.pkl\")"
   ],
   "metadata": {
    "collapsed": false,
    "pycharm": {
     "name": "#%%\n"
    }
   }
  },
  {
   "cell_type": "code",
   "execution_count": 60,
   "outputs": [],
   "source": [
    "X_50 = StandardScaler().fit_transform(X_50)"
   ],
   "metadata": {
    "collapsed": false,
    "pycharm": {
     "name": "#%%\n"
    }
   }
  },
  {
   "cell_type": "code",
   "execution_count": 61,
   "outputs": [],
   "source": [
    "log_reg_50 = LogisticRegression(random_state=42, n_jobs=-1)\n",
    "# log_reg_50.fit(X_50, y_50)\n",
    "# joblib.dump(log_reg_50, \"dogs-vs-cats/models/log_reg_50.pkl\")"
   ],
   "metadata": {
    "collapsed": false,
    "pycharm": {
     "name": "#%%\n"
    }
   }
  },
  {
   "cell_type": "code",
   "execution_count": 62,
   "outputs": [],
   "source": [
    "log_reg_50 = joblib.load(r\"dogs-vs-cats/models/log_reg_50.pkl\")"
   ],
   "metadata": {
    "collapsed": false,
    "pycharm": {
     "name": "#%%\n"
    }
   }
  },
  {
   "cell_type": "code",
   "execution_count": 63,
   "outputs": [],
   "source": [
    "# log_reg_50_pred = log_reg_50.predict(X_50)\n",
    "# joblib.dump(log_reg_50_pred, \"dogs-vs-cats/pred/log_reg_50_pred.pkl\")"
   ],
   "metadata": {
    "collapsed": false,
    "pycharm": {
     "name": "#%%\n"
    }
   }
  },
  {
   "cell_type": "code",
   "execution_count": 64,
   "outputs": [],
   "source": [
    "log_reg_50_pred = joblib.load(r\"dogs-vs-cats/pred/log_reg_50_pred.pkl\")"
   ],
   "metadata": {
    "collapsed": false,
    "pycharm": {
     "name": "#%%\n"
    }
   }
  },
  {
   "cell_type": "code",
   "execution_count": 65,
   "outputs": [
    {
     "data": {
      "text/plain": "0.7192"
     },
     "execution_count": 65,
     "metadata": {},
     "output_type": "execute_result"
    }
   ],
   "source": [
    "metrics.accuracy_score(y_50, log_reg_50_pred)"
   ],
   "metadata": {
    "collapsed": false,
    "pycharm": {
     "name": "#%%\n"
    }
   }
  },
  {
   "cell_type": "code",
   "execution_count": 66,
   "outputs": [],
   "source": [
    "# log_reg_50_scores = cross_val_score(log_reg_50, X_50, y_50, scoring=\"accuracy\", cv=4)\n",
    "# joblib.dump(log_reg_50_scores, \"dogs-vs-cats/scores/log_reg_50_scores.pkl\")"
   ],
   "metadata": {
    "collapsed": false,
    "pycharm": {
     "name": "#%%\n"
    }
   }
  },
  {
   "cell_type": "code",
   "execution_count": 67,
   "outputs": [],
   "source": [
    "log_reg_50_scores = joblib.load(r\"dogs-vs-cats/scores/log_reg_50_scores.pkl\")"
   ],
   "metadata": {
    "collapsed": false,
    "pycharm": {
     "name": "#%%\n"
    }
   }
  },
  {
   "cell_type": "code",
   "execution_count": 68,
   "outputs": [
    {
     "name": "stdout",
     "output_type": "stream",
     "text": [
      "Scores: [0.5674 0.5666 0.5694 0.5742]\n",
      "Mean: 0.5694\n",
      "Standard Deviation: 0.00295\n"
     ]
    }
   ],
   "source": [
    "display_scores(log_reg_50_scores)"
   ],
   "metadata": {
    "collapsed": false,
    "pycharm": {
     "name": "#%%\n"
    }
   }
  },
  {
   "cell_type": "markdown",
   "source": [
    "> #### 50x50 Grayscale"
   ],
   "metadata": {
    "collapsed": false
   }
  },
  {
   "cell_type": "code",
   "execution_count": 69,
   "outputs": [],
   "source": [
    "# X_50g, y_50g = prep_data(strat_train_set[\"path\"], 50, 50, 1, is_canny=False)\n",
    "#joblib.dump(X_50g, \"dogs-vs-cats/data/X_50g.pkl\")\n",
    "# joblib.dump(y_50g, \"dogs-vs-cats/data/y_50g.pkl\")"
   ],
   "metadata": {
    "collapsed": false,
    "pycharm": {
     "name": "#%%\n"
    }
   }
  },
  {
   "cell_type": "code",
   "execution_count": 70,
   "outputs": [],
   "source": [
    "X_50g = joblib.load(r\"dogs-vs-cats/data/X_50g.pkl\")\n",
    "y_50g = joblib.load(r\"dogs-vs-cats/data/y_50g.pkl\")"
   ],
   "metadata": {
    "collapsed": false,
    "pycharm": {
     "name": "#%%\n"
    }
   }
  },
  {
   "cell_type": "code",
   "execution_count": 71,
   "outputs": [],
   "source": [
    "X_50g = StandardScaler().fit_transform(X_50g)"
   ],
   "metadata": {
    "collapsed": false,
    "pycharm": {
     "name": "#%%\n"
    }
   }
  },
  {
   "cell_type": "code",
   "execution_count": 72,
   "outputs": [],
   "source": [
    "log_reg_50g = LogisticRegression(random_state=42, n_jobs=-1)\n",
    "# log_reg_50g.fit(X_50g, y_50g)\n",
    "# joblib.dump(log_reg_50g, \"dogs-vs-cats/models/log_reg_50g.pkl\")"
   ],
   "metadata": {
    "collapsed": false,
    "pycharm": {
     "name": "#%%\n"
    }
   }
  },
  {
   "cell_type": "code",
   "execution_count": 73,
   "outputs": [],
   "source": [
    "log_reg_50g = joblib.load(r\"dogs-vs-cats/models/log_reg_50g.pkl\")"
   ],
   "metadata": {
    "collapsed": false,
    "pycharm": {
     "name": "#%%\n"
    }
   }
  },
  {
   "cell_type": "code",
   "execution_count": 74,
   "outputs": [],
   "source": [
    "# log_reg_50g_pred = log_reg_50g.predict(X_50g)\n",
    "# joblib.dump(log_reg_50g_pred, \"dogs-vs-cats/pred/log_reg_50g_pred.pkl\")"
   ],
   "metadata": {
    "collapsed": false,
    "pycharm": {
     "name": "#%%\n"
    }
   }
  },
  {
   "cell_type": "code",
   "execution_count": 75,
   "outputs": [],
   "source": [
    "log_reg_50g_pred = joblib.load(r\"dogs-vs-cats/pred/log_reg_50g_pred.pkl\")"
   ],
   "metadata": {
    "collapsed": false,
    "pycharm": {
     "name": "#%%\n"
    }
   }
  },
  {
   "cell_type": "code",
   "execution_count": 76,
   "outputs": [
    {
     "data": {
      "text/plain": "0.66085"
     },
     "execution_count": 76,
     "metadata": {},
     "output_type": "execute_result"
    }
   ],
   "source": [
    "metrics.accuracy_score(y_50g, log_reg_50g_pred)"
   ],
   "metadata": {
    "collapsed": false,
    "pycharm": {
     "name": "#%%\n"
    }
   }
  },
  {
   "cell_type": "code",
   "execution_count": 77,
   "outputs": [],
   "source": [
    "# log_reg_50g_scores = cross_val_score(log_reg_50g, X_50g, y_50g, scoring=\"accuracy\", cv=4)\n",
    "# joblib.dump(log_reg_50g_scores, \"dogs-vs-cats/scores/log_reg_50g_scores.pkl\")"
   ],
   "metadata": {
    "collapsed": false,
    "pycharm": {
     "name": "#%%\n"
    }
   }
  },
  {
   "cell_type": "code",
   "execution_count": 78,
   "outputs": [],
   "source": [
    "log_reg_50g_scores = joblib.load(r\"dogs-vs-cats/scores/log_reg_50g_scores.pkl\")"
   ],
   "metadata": {
    "collapsed": false,
    "pycharm": {
     "name": "#%%\n"
    }
   }
  },
  {
   "cell_type": "code",
   "execution_count": 79,
   "outputs": [
    {
     "name": "stdout",
     "output_type": "stream",
     "text": [
      "Scores: [0.5278 0.5258 0.5222 0.5408]\n",
      "Mean: 0.52915\n",
      "Standard Deviation: 0.00702\n"
     ]
    }
   ],
   "source": [
    "display_scores(log_reg_50g_scores)"
   ],
   "metadata": {
    "collapsed": false,
    "pycharm": {
     "name": "#%%\n"
    }
   }
  },
  {
   "cell_type": "markdown",
   "source": [
    "> #### 50x50 Canny"
   ],
   "metadata": {
    "collapsed": false
   }
  },
  {
   "cell_type": "code",
   "execution_count": 80,
   "outputs": [],
   "source": [
    "# X_50C, y_50C = prep_data(strat_train_set[\"path\"], 50, 50, 1, is_canny=True)\n",
    "# joblib.dump(X_50C, \"dogs-vs-cats/data/X_50C.pkl\")\n",
    "# joblib.dump(y_50C, \"dogs-vs-cats/data/y_50C.pkl\")"
   ],
   "metadata": {
    "collapsed": false,
    "pycharm": {
     "name": "#%%\n"
    }
   }
  },
  {
   "cell_type": "code",
   "execution_count": 81,
   "outputs": [],
   "source": [
    "X_50C = joblib.load(r\"dogs-vs-cats/data/X_50C.pkl\")\n",
    "y_50C = joblib.load(r\"dogs-vs-cats/data/y_50C.pkl\")"
   ],
   "metadata": {
    "collapsed": false,
    "pycharm": {
     "name": "#%%\n"
    }
   }
  },
  {
   "cell_type": "code",
   "execution_count": 82,
   "outputs": [],
   "source": [
    "X_50C = StandardScaler().fit_transform(X_50C)"
   ],
   "metadata": {
    "collapsed": false,
    "pycharm": {
     "name": "#%%\n"
    }
   }
  },
  {
   "cell_type": "code",
   "execution_count": 83,
   "outputs": [],
   "source": [
    "log_reg_50C = LogisticRegression(random_state=42, n_jobs=-1)\n",
    "# log_reg_50C.fit(X_50C, y_50C)\n",
    "# joblib.dump(log_reg_50C, \"dogs-vs-cats/models/log_reg_50C.pkl\")"
   ],
   "metadata": {
    "collapsed": false,
    "pycharm": {
     "name": "#%%\n"
    }
   }
  },
  {
   "cell_type": "code",
   "execution_count": 84,
   "outputs": [],
   "source": [
    "log_reg_50C = joblib.load(r\"dogs-vs-cats/models/log_reg_50C.pkl\")"
   ],
   "metadata": {
    "collapsed": false,
    "pycharm": {
     "name": "#%%\n"
    }
   }
  },
  {
   "cell_type": "code",
   "execution_count": 85,
   "outputs": [],
   "source": [
    "# log_reg_50C_pred = log_reg_50C.predict(X_50C)\n",
    "# joblib.dump(log_reg_50C_pred, \"dogs-vs-cats/pred/log_reg_50C_pred.pkl\")"
   ],
   "metadata": {
    "collapsed": false,
    "pycharm": {
     "name": "#%%\n"
    }
   }
  },
  {
   "cell_type": "code",
   "execution_count": 86,
   "outputs": [],
   "source": [
    "log_reg_50C_pred = joblib.load(r\"dogs-vs-cats/pred/log_reg_50C_pred.pkl\")"
   ],
   "metadata": {
    "collapsed": false,
    "pycharm": {
     "name": "#%%\n"
    }
   }
  },
  {
   "cell_type": "code",
   "execution_count": 87,
   "outputs": [
    {
     "data": {
      "text/plain": "0.68965"
     },
     "execution_count": 87,
     "metadata": {},
     "output_type": "execute_result"
    }
   ],
   "source": [
    "metrics.accuracy_score(y_50C, log_reg_50C_pred)"
   ],
   "metadata": {
    "collapsed": false,
    "pycharm": {
     "name": "#%%\n"
    }
   }
  },
  {
   "cell_type": "code",
   "execution_count": 88,
   "outputs": [],
   "source": [
    "# log_reg_50C_scores = cross_val_score(log_reg_50C, X_50C, y_50C, scoring=\"accuracy\", cv=4)\n",
    "# joblib.dump(log_reg_50C_scores, \"dogs-vs-cats/scores/log_reg_50C_scores.pkl\")"
   ],
   "metadata": {
    "collapsed": false,
    "pycharm": {
     "name": "#%%\n"
    }
   }
  },
  {
   "cell_type": "code",
   "execution_count": 89,
   "outputs": [],
   "source": [
    "log_reg_50C_scores = joblib.load(r\"dogs-vs-cats/scores/log_reg_50C_scores.pkl\")"
   ],
   "metadata": {
    "collapsed": false,
    "pycharm": {
     "name": "#%%\n"
    }
   }
  },
  {
   "cell_type": "code",
   "execution_count": 90,
   "outputs": [
    {
     "name": "stdout",
     "output_type": "stream",
     "text": [
      "Scores: [0.5762 0.5736 0.5734 0.565 ]\n",
      "Mean: 0.57205\n",
      "Standard Deviation: 0.00422\n"
     ]
    }
   ],
   "source": [
    "display_scores(log_reg_50C_scores)"
   ],
   "metadata": {
    "collapsed": false,
    "pycharm": {
     "name": "#%%\n"
    }
   }
  },
  {
   "cell_type": "markdown",
   "source": [
    "end testing 50x50\n",
    "\n",
    "----"
   ],
   "metadata": {
    "collapsed": false
   }
  },
  {
   "cell_type": "markdown",
   "source": [
    "testing 80x80\n",
    "\n",
    "-----"
   ],
   "metadata": {
    "collapsed": false
   }
  },
  {
   "cell_type": "markdown",
   "source": [
    "> #### 80x80x3 Color"
   ],
   "metadata": {
    "collapsed": false
   }
  },
  {
   "cell_type": "code",
   "execution_count": 91,
   "outputs": [
    {
     "name": "stdout",
     "output_type": "stream",
     "text": [
      "Loading: 0/20000\n",
      "Loading: 5000/20000\n",
      "Loading: 10000/20000\n",
      "Loading: 15000/20000\n",
      "Finished Loading Data\n"
     ]
    },
    {
     "data": {
      "text/plain": "['dogs-vs-cats/data/y_80.pkl']"
     },
     "execution_count": 91,
     "metadata": {},
     "output_type": "execute_result"
    }
   ],
   "source": [
    "X_80, y_80 = prep_data(strat_train_set[\"path\"], 80, 80, 3, is_canny=False)\n",
    "joblib.dump(X_80, \"dogs-vs-cats/data/X_80.pkl\")\n",
    "joblib.dump(y_80, \"dogs-vs-cats/data/y_80.pkl\")"
   ],
   "metadata": {
    "collapsed": false,
    "pycharm": {
     "name": "#%%\n"
    }
   }
  },
  {
   "cell_type": "code",
   "execution_count": 92,
   "outputs": [],
   "source": [
    "# X_80 = joblib.load(r\"dogs-vs-cats/data/X_80.pkl\")\n",
    "# y_80 = joblib.load(r\"dogs-vs-cats/data/y_80.pkl\")"
   ],
   "metadata": {
    "collapsed": false,
    "pycharm": {
     "name": "#%%\n"
    }
   }
  },
  {
   "cell_type": "code",
   "execution_count": 93,
   "outputs": [],
   "source": [
    "X_80 = StandardScaler().fit_transform(X_80)"
   ],
   "metadata": {
    "collapsed": false,
    "pycharm": {
     "name": "#%%\n"
    }
   }
  },
  {
   "cell_type": "code",
   "execution_count": null,
   "outputs": [],
   "source": [
    "log_reg_80 = LogisticRegression(random_state=42, n_jobs=-1)\n",
    "log_reg_80.fit(X_80, y_80)\n",
    "joblib.dump(log_reg_80, \"dogs-vs-cats/models/log_reg_80.pkl\")"
   ],
   "metadata": {
    "collapsed": false,
    "pycharm": {
     "name": "#%%\n",
     "is_executing": true
    }
   }
  },
  {
   "cell_type": "code",
   "execution_count": null,
   "outputs": [],
   "source": [
    "# log_reg_80 = joblib.load(r\"dogs-vs-cats/models/log_reg_80.pkl\")"
   ],
   "metadata": {
    "collapsed": false,
    "pycharm": {
     "name": "#%%\n",
     "is_executing": true
    }
   }
  },
  {
   "cell_type": "code",
   "execution_count": null,
   "outputs": [],
   "source": [
    "log_reg_80_pred = log_reg_80.predict(X_80)\n",
    "joblib.dump(log_reg_80_pred, \"dogs-vs-cats/pred/log_reg_80_pred.pkl\")"
   ],
   "metadata": {
    "collapsed": false,
    "pycharm": {
     "name": "#%%\n",
     "is_executing": true
    }
   }
  },
  {
   "cell_type": "code",
   "execution_count": null,
   "outputs": [],
   "source": [
    "# log_reg_80_pred = joblib.load(r\"dogs-vs-cats/pred/log_reg_80_pred.pkl\")"
   ],
   "metadata": {
    "collapsed": false,
    "pycharm": {
     "name": "#%%\n",
     "is_executing": true
    }
   }
  },
  {
   "cell_type": "code",
   "execution_count": null,
   "outputs": [],
   "source": [
    "metrics.accuracy_score(y_80, log_reg_80_pred)"
   ],
   "metadata": {
    "collapsed": false,
    "pycharm": {
     "name": "#%%\n",
     "is_executing": true
    }
   }
  },
  {
   "cell_type": "code",
   "execution_count": null,
   "outputs": [],
   "source": [
    "log_reg_80_scores = cross_val_score(log_reg_80, X_80, y_80, scoring=\"accuracy\", cv=4)\n",
    "joblib.dump(log_reg_80_scores, \"dogs-vs-cats/scores/log_reg_80_scores.pkl\")"
   ],
   "metadata": {
    "collapsed": false,
    "pycharm": {
     "name": "#%%\n",
     "is_executing": true
    }
   }
  },
  {
   "cell_type": "code",
   "execution_count": null,
   "outputs": [],
   "source": [
    "# log_reg_80_scores = joblib.load(r\"dogs-vs-cats/scores/log_reg_80_scores.pkl\")"
   ],
   "metadata": {
    "collapsed": false,
    "pycharm": {
     "name": "#%%\n",
     "is_executing": true
    }
   }
  },
  {
   "cell_type": "code",
   "execution_count": null,
   "outputs": [],
   "source": [
    "display_scores(log_reg_80_scores)"
   ],
   "metadata": {
    "collapsed": false,
    "pycharm": {
     "name": "#%%\n",
     "is_executing": true
    }
   }
  },
  {
   "cell_type": "markdown",
   "source": [
    "> #### 80x80 Grayscale"
   ],
   "metadata": {
    "collapsed": false
   }
  },
  {
   "cell_type": "code",
   "execution_count": null,
   "outputs": [],
   "source": [
    "X_80g, y_80g = prep_data(strat_train_set[\"path\"], 80, 80, 1, is_canny=False)\n",
    "joblib.dump(X_80g, \"dogs-vs-cats/data/X_80g.pkl\")\n",
    "joblib.dump(y_80g, \"dogs-vs-cats/data/y_80g.pkl\")"
   ],
   "metadata": {
    "collapsed": false,
    "pycharm": {
     "name": "#%%\n",
     "is_executing": true
    }
   }
  },
  {
   "cell_type": "code",
   "execution_count": null,
   "outputs": [],
   "source": [
    "# X_80g = joblib.load(r\"dogs-vs-cats/data/X_80g.pkl\")\n",
    "# y_80g = joblib.load(r\"dogs-vs-cats/data/y_80g.pkl\")"
   ],
   "metadata": {
    "collapsed": false,
    "pycharm": {
     "name": "#%%\n",
     "is_executing": true
    }
   }
  },
  {
   "cell_type": "code",
   "execution_count": null,
   "outputs": [],
   "source": [
    "X_80g = StandardScaler().fit_transform(X_80g)"
   ],
   "metadata": {
    "collapsed": false,
    "pycharm": {
     "name": "#%%\n",
     "is_executing": true
    }
   }
  },
  {
   "cell_type": "code",
   "execution_count": null,
   "outputs": [],
   "source": [
    "log_reg_80g = LogisticRegression(random_state=42, n_jobs=-1)\n",
    "log_reg_80g.fit(X_80g, y_80g)\n",
    "joblib.dump(log_reg_80g, \"dogs-vs-cats/models/log_reg_80g.pkl\")"
   ],
   "metadata": {
    "collapsed": false,
    "pycharm": {
     "name": "#%%\n",
     "is_executing": true
    }
   }
  },
  {
   "cell_type": "code",
   "execution_count": null,
   "outputs": [],
   "source": [
    "# log_reg_80g = joblib.load(r\"dogs-vs-cats/models/log_reg_80g.pkl\")"
   ],
   "metadata": {
    "collapsed": false,
    "pycharm": {
     "name": "#%%\n",
     "is_executing": true
    }
   }
  },
  {
   "cell_type": "code",
   "execution_count": null,
   "outputs": [],
   "source": [
    "log_reg_80g_pred = log_reg_80g.predict(X_80g)\n",
    "joblib.dump(log_reg_80g_pred, \"dogs-vs-cats/pred/log_reg_80g_pred.pkl\")"
   ],
   "metadata": {
    "collapsed": false,
    "pycharm": {
     "name": "#%%\n",
     "is_executing": true
    }
   }
  },
  {
   "cell_type": "code",
   "execution_count": null,
   "outputs": [],
   "source": [
    "# log_reg_80g_pred = joblib.load(r\"dogs-vs-cats/pred/log_reg_80g_pred.pkl\")"
   ],
   "metadata": {
    "collapsed": false,
    "pycharm": {
     "name": "#%%\n",
     "is_executing": true
    }
   }
  },
  {
   "cell_type": "code",
   "execution_count": null,
   "outputs": [],
   "source": [
    "metrics.accuracy_score(y_80g, log_reg_80g_pred)"
   ],
   "metadata": {
    "collapsed": false,
    "pycharm": {
     "name": "#%%\n",
     "is_executing": true
    }
   }
  },
  {
   "cell_type": "code",
   "execution_count": null,
   "outputs": [],
   "source": [
    "log_reg_80g_scores = cross_val_score(log_reg_80g, X_80g, y_80g, scoring=\"accuracy\", cv=4)\n",
    "joblib.dump(log_reg_80g_scores, \"dogs-vs-cats/scores/log_reg_80g_scores.pkl\")"
   ],
   "metadata": {
    "collapsed": false,
    "pycharm": {
     "name": "#%%\n",
     "is_executing": true
    }
   }
  },
  {
   "cell_type": "code",
   "execution_count": null,
   "outputs": [],
   "source": [
    "# log_reg_80g_scores = joblib.load(r\"dogs-vs-cats/scores/log_reg_80g_scores.pkl\")"
   ],
   "metadata": {
    "collapsed": false,
    "pycharm": {
     "name": "#%%\n",
     "is_executing": true
    }
   }
  },
  {
   "cell_type": "code",
   "execution_count": null,
   "outputs": [],
   "source": [
    "display_scores(log_reg_80g_scores)"
   ],
   "metadata": {
    "collapsed": false,
    "pycharm": {
     "name": "#%%\n",
     "is_executing": true
    }
   }
  },
  {
   "cell_type": "markdown",
   "source": [
    "> #### 80x80 Canny"
   ],
   "metadata": {
    "collapsed": false
   }
  },
  {
   "cell_type": "code",
   "execution_count": null,
   "outputs": [],
   "source": [
    "X_80C, y_80C = prep_data(strat_train_set[\"path\"], 80, 80, 1, is_canny=True)\n",
    "joblib.dump(X_80C, \"dogs-vs-cats/data/X_80C.pkl\")\n",
    "joblib.dump(y_80C, \"dogs-vs-cats/data/y_80C.pkl\")"
   ],
   "metadata": {
    "collapsed": false,
    "pycharm": {
     "name": "#%%\n",
     "is_executing": true
    }
   }
  },
  {
   "cell_type": "code",
   "execution_count": null,
   "outputs": [],
   "source": [
    "# X_80C = joblib.load(r\"dogs-vs-cats/data/X_80C.pkl\")\n",
    "# y_80C = joblib.load(r\"dogs-vs-cats/data/y_80C.pkl\")"
   ],
   "metadata": {
    "collapsed": false,
    "pycharm": {
     "name": "#%%\n",
     "is_executing": true
    }
   }
  },
  {
   "cell_type": "code",
   "execution_count": null,
   "outputs": [],
   "source": [
    "X_80C = StandardScaler().fit_transform(X_80C)"
   ],
   "metadata": {
    "collapsed": false,
    "pycharm": {
     "name": "#%%\n",
     "is_executing": true
    }
   }
  },
  {
   "cell_type": "code",
   "execution_count": null,
   "outputs": [],
   "source": [
    "log_reg_80C = LogisticRegression(random_state=42, n_jobs=-1)\n",
    "log_reg_80C.fit(X_80C, y_80C)\n",
    "joblib.dump(log_reg_80C, \"dogs-vs-cats/models/log_reg_80C.pkl\")"
   ],
   "metadata": {
    "collapsed": false,
    "pycharm": {
     "name": "#%%\n",
     "is_executing": true
    }
   }
  },
  {
   "cell_type": "code",
   "execution_count": null,
   "outputs": [],
   "source": [
    "# log_reg_80C = joblib.load(r\"dogs-vs-cats/models/log_reg_80C.pkl\")"
   ],
   "metadata": {
    "collapsed": false,
    "pycharm": {
     "name": "#%%\n",
     "is_executing": true
    }
   }
  },
  {
   "cell_type": "code",
   "execution_count": null,
   "outputs": [],
   "source": [
    "log_reg_80C_pred = log_reg_80C.predict(X_80C)\n",
    "joblib.dump(log_reg_80C_pred, \"dogs-vs-cats/pred/log_reg_80C_pred.pkl\")"
   ],
   "metadata": {
    "collapsed": false,
    "pycharm": {
     "name": "#%%\n",
     "is_executing": true
    }
   }
  },
  {
   "cell_type": "code",
   "execution_count": null,
   "outputs": [],
   "source": [
    "# log_reg_80C_pred = joblib.load(r\"dogs-vs-cats/pred/log_reg_80C_pred.pkl\")"
   ],
   "metadata": {
    "collapsed": false,
    "pycharm": {
     "name": "#%%\n",
     "is_executing": true
    }
   }
  },
  {
   "cell_type": "code",
   "execution_count": null,
   "outputs": [],
   "source": [
    "metrics.accuracy_score(y_80C, log_reg_80C_pred)"
   ],
   "metadata": {
    "collapsed": false,
    "pycharm": {
     "name": "#%%\n",
     "is_executing": true
    }
   }
  },
  {
   "cell_type": "code",
   "execution_count": null,
   "outputs": [],
   "source": [
    "log_reg_80C_scores = cross_val_score(log_reg_80C, X_80C, y_80C, scoring=\"accuracy\", cv=4)\n",
    "joblib.dump(log_reg_80C_scores, \"dogs-vs-cats/scores/log_reg_80C_scores.pkl\")"
   ],
   "metadata": {
    "collapsed": false,
    "pycharm": {
     "name": "#%%\n",
     "is_executing": true
    }
   }
  },
  {
   "cell_type": "code",
   "execution_count": null,
   "outputs": [],
   "source": [
    "# log_reg_80C_scores = joblib.load(r\"dogs-vs-cats/scores/log_reg_80C_scores.pkl\")"
   ],
   "metadata": {
    "collapsed": false,
    "pycharm": {
     "name": "#%%\n",
     "is_executing": true
    }
   }
  },
  {
   "cell_type": "code",
   "execution_count": null,
   "outputs": [],
   "source": [
    "display_scores(log_reg_80C_scores)"
   ],
   "metadata": {
    "collapsed": false,
    "pycharm": {
     "name": "#%%\n",
     "is_executing": true
    }
   }
  },
  {
   "cell_type": "markdown",
   "source": [
    "end testing 80x80\n",
    "\n",
    "----"
   ],
   "metadata": {
    "collapsed": false
   }
  },
  {
   "cell_type": "markdown",
   "source": [
    "testing 100x100\n",
    "\n",
    "-----"
   ],
   "metadata": {
    "collapsed": false
   }
  },
  {
   "cell_type": "markdown",
   "source": [
    "> #### 100x100x3 Color"
   ],
   "metadata": {
    "collapsed": false
   }
  },
  {
   "cell_type": "code",
   "execution_count": null,
   "outputs": [],
   "source": [
    "X_100, y_100 = prep_data(strat_train_set[\"path\"], 100, 100, 3, is_canny=False)\n",
    "joblib.dump(X_100, \"dogs-vs-cats/data/X_100.pkl\")\n",
    "joblib.dump(y_100, \"dogs-vs-cats/data/y_100.pkl\")"
   ],
   "metadata": {
    "collapsed": false,
    "pycharm": {
     "name": "#%%\n"
    }
   }
  },
  {
   "cell_type": "code",
   "execution_count": null,
   "outputs": [],
   "source": [
    "# X_100 = joblib.load(r\"dogs-vs-cats/data/X_100.pkl\")\n",
    "# y_100 = joblib.load(r\"dogs-vs-cats/data/y_100.pkl\")"
   ],
   "metadata": {
    "collapsed": false,
    "pycharm": {
     "name": "#%%\n"
    }
   }
  },
  {
   "cell_type": "code",
   "execution_count": null,
   "outputs": [],
   "source": [
    "X_100 = StandardScaler().fit_transform(X_100)"
   ],
   "metadata": {
    "collapsed": false,
    "pycharm": {
     "name": "#%%\n"
    }
   }
  },
  {
   "cell_type": "code",
   "execution_count": null,
   "outputs": [],
   "source": [
    "log_reg_100 = LogisticRegression(random_state=42, n_jobs=-1)\n",
    "log_reg_100.fit(X_100, y_100)\n",
    "joblib.dump(log_reg_100, \"dogs-vs-cats/models/log_reg_100.pkl\")"
   ],
   "metadata": {
    "collapsed": false,
    "pycharm": {
     "name": "#%%\n"
    }
   }
  },
  {
   "cell_type": "code",
   "execution_count": null,
   "outputs": [],
   "source": [
    "# log_reg_100 = joblib.load(r\"dogs-vs-cats/models/log_reg_100.pkl\")"
   ],
   "metadata": {
    "collapsed": false,
    "pycharm": {
     "name": "#%%\n"
    }
   }
  },
  {
   "cell_type": "code",
   "execution_count": null,
   "outputs": [],
   "source": [
    "log_reg_100_pred = log_reg_100.predict(X_100)\n",
    "joblib.dump(log_reg_100_pred, \"dogs-vs-cats/pred/log_reg_100_pred.pkl\")"
   ],
   "metadata": {
    "collapsed": false,
    "pycharm": {
     "name": "#%%\n"
    }
   }
  },
  {
   "cell_type": "code",
   "execution_count": null,
   "outputs": [],
   "source": [
    "# log_reg_100_pred = joblib.load(r\"dogs-vs-cats/pred/log_reg_100_pred.pkl\")"
   ],
   "metadata": {
    "collapsed": false,
    "pycharm": {
     "name": "#%%\n"
    }
   }
  },
  {
   "cell_type": "code",
   "execution_count": null,
   "outputs": [],
   "source": [
    "metrics.accuracy_score(y_100, log_reg_100_pred)"
   ],
   "metadata": {
    "collapsed": false,
    "pycharm": {
     "name": "#%%\n"
    }
   }
  },
  {
   "cell_type": "code",
   "execution_count": null,
   "outputs": [],
   "source": [
    "log_reg_100_scores = cross_val_score(log_reg_100, X_100, y_100, scoring=\"accuracy\", cv=4)\n",
    "joblib.dump(log_reg_100_scores, \"dogs-vs-cats/scores/log_reg_100_scores.pkl\")"
   ],
   "metadata": {
    "collapsed": false,
    "pycharm": {
     "name": "#%%\n"
    }
   }
  },
  {
   "cell_type": "code",
   "execution_count": null,
   "outputs": [],
   "source": [
    "# log_reg_100_scores = joblib.load(r\"dogs-vs-cats/scores/log_reg_100_scores.pkl\")"
   ],
   "metadata": {
    "collapsed": false,
    "pycharm": {
     "name": "#%%\n"
    }
   }
  },
  {
   "cell_type": "code",
   "execution_count": null,
   "outputs": [],
   "source": [
    "display_scores(log_reg_100_scores)"
   ],
   "metadata": {
    "collapsed": false,
    "pycharm": {
     "name": "#%%\n"
    }
   }
  },
  {
   "cell_type": "markdown",
   "source": [
    "> #### 100x100 Grayscale"
   ],
   "metadata": {
    "collapsed": false
   }
  },
  {
   "cell_type": "code",
   "execution_count": null,
   "outputs": [],
   "source": [
    "X_100g, y_100g = prep_data(strat_train_set[\"path\"], 100, 100, 1, is_canny=False)\n",
    "joblib.dump(X_100g, \"dogs-vs-cats/data/X_100g.pkl\")\n",
    "joblib.dump(y_100g, \"dogs-vs-cats/data/y_100g.pkl\")"
   ],
   "metadata": {
    "collapsed": false,
    "pycharm": {
     "name": "#%%\n"
    }
   }
  },
  {
   "cell_type": "code",
   "execution_count": null,
   "outputs": [],
   "source": [
    "# X_100g = joblib.load(r\"dogs-vs-cats/data/X_100g.pkl\")\n",
    "# y_100g = joblib.load(r\"dogs-vs-cats/data/y_100g.pkl\")"
   ],
   "metadata": {
    "collapsed": false,
    "pycharm": {
     "name": "#%%\n"
    }
   }
  },
  {
   "cell_type": "code",
   "execution_count": null,
   "outputs": [],
   "source": [
    "X_100g = StandardScaler().fit_transform(X_100g)"
   ],
   "metadata": {
    "collapsed": false,
    "pycharm": {
     "name": "#%%\n"
    }
   }
  },
  {
   "cell_type": "code",
   "execution_count": null,
   "outputs": [],
   "source": [
    "log_reg_100g = LogisticRegression(random_state=42, n_jobs=-1)\n",
    "log_reg_100g.fit(X_100g, y_100g)\n",
    "joblib.dump(log_reg_100g, \"dogs-vs-cats/models/log_reg_100g.pkl\")"
   ],
   "metadata": {
    "collapsed": false,
    "pycharm": {
     "name": "#%%\n"
    }
   }
  },
  {
   "cell_type": "code",
   "execution_count": null,
   "outputs": [],
   "source": [
    "# log_reg_100g = joblib.load(r\"dogs-vs-cats/models/log_reg_100g.pkl\")"
   ],
   "metadata": {
    "collapsed": false,
    "pycharm": {
     "name": "#%%\n"
    }
   }
  },
  {
   "cell_type": "code",
   "execution_count": null,
   "outputs": [],
   "source": [
    "log_reg_100g_pred = log_reg_100g.predict(X_100g)\n",
    "joblib.dump(log_reg_100g_pred, \"dogs-vs-cats/pred/log_reg_100g_pred.pkl\")"
   ],
   "metadata": {
    "collapsed": false,
    "pycharm": {
     "name": "#%%\n"
    }
   }
  },
  {
   "cell_type": "code",
   "execution_count": null,
   "outputs": [],
   "source": [
    "# log_reg_100g_pred = joblib.load(r\"dogs-vs-cats/pred/log_reg_100g_pred.pkl\")"
   ],
   "metadata": {
    "collapsed": false,
    "pycharm": {
     "name": "#%%\n"
    }
   }
  },
  {
   "cell_type": "code",
   "execution_count": null,
   "outputs": [],
   "source": [
    "metrics.accuracy_score(y_100g, log_reg_100g_pred)"
   ],
   "metadata": {
    "collapsed": false,
    "pycharm": {
     "name": "#%%\n"
    }
   }
  },
  {
   "cell_type": "code",
   "execution_count": null,
   "outputs": [],
   "source": [
    "log_reg_100g_scores = cross_val_score(log_reg_100g, X_100g, y_100g, scoring=\"accuracy\", cv=4)\n",
    "joblib.dump(log_reg_100g_scores, \"dogs-vs-cats/scores/log_reg_100g_scores.pkl\")"
   ],
   "metadata": {
    "collapsed": false,
    "pycharm": {
     "name": "#%%\n"
    }
   }
  },
  {
   "cell_type": "code",
   "execution_count": null,
   "outputs": [],
   "source": [
    "# log_reg_100g_scores = joblib.load(r\"dogs-vs-cats/scores/log_reg_100g_scores.pkl\")"
   ],
   "metadata": {
    "collapsed": false,
    "pycharm": {
     "name": "#%%\n"
    }
   }
  },
  {
   "cell_type": "code",
   "execution_count": null,
   "outputs": [],
   "source": [
    "display_scores(log_reg_100g_scores)"
   ],
   "metadata": {
    "collapsed": false,
    "pycharm": {
     "name": "#%%\n"
    }
   }
  },
  {
   "cell_type": "markdown",
   "source": [
    "> #### 100x100 Canny"
   ],
   "metadata": {
    "collapsed": false
   }
  },
  {
   "cell_type": "code",
   "execution_count": null,
   "outputs": [],
   "source": [
    "X_100C, y_100C = prep_data(strat_train_set[\"path\"], 100, 100, 1, is_canny=True)\n",
    "joblib.dump(X_100C, \"dogs-vs-cats/data/X_100C.pkl\")\n",
    "joblib.dump(y_100C, \"dogs-vs-cats/data/y_100C.pkl\")"
   ],
   "metadata": {
    "collapsed": false,
    "pycharm": {
     "name": "#%%\n"
    }
   }
  },
  {
   "cell_type": "code",
   "execution_count": null,
   "outputs": [],
   "source": [
    "# X_100C = joblib.load(r\"dogs-vs-cats/data/X_100C.pkl\")\n",
    "# y_100C = joblib.load(r\"dogs-vs-cats/data/y_100C.pkl\")"
   ],
   "metadata": {
    "collapsed": false,
    "pycharm": {
     "name": "#%%\n"
    }
   }
  },
  {
   "cell_type": "code",
   "execution_count": null,
   "outputs": [],
   "source": [
    "X_100C = StandardScaler().fit_transform(X_100C)"
   ],
   "metadata": {
    "collapsed": false,
    "pycharm": {
     "name": "#%%\n"
    }
   }
  },
  {
   "cell_type": "code",
   "execution_count": null,
   "outputs": [],
   "source": [
    "log_reg_100C = LogisticRegression(random_state=42, n_jobs=-1)\n",
    "log_reg_100C.fit(X_100C, y_100C)\n",
    "joblib.dump(log_reg_100C, \"dogs-vs-cats/models/log_reg_100C.pkl\")"
   ],
   "metadata": {
    "collapsed": false,
    "pycharm": {
     "name": "#%%\n"
    }
   }
  },
  {
   "cell_type": "code",
   "execution_count": null,
   "outputs": [],
   "source": [
    "# log_reg_100C = joblib.load(r\"dogs-vs-cats/models/log_reg_100C.pkl\")"
   ],
   "metadata": {
    "collapsed": false,
    "pycharm": {
     "name": "#%%\n"
    }
   }
  },
  {
   "cell_type": "code",
   "execution_count": null,
   "outputs": [],
   "source": [
    "log_reg_100C_pred = log_reg_100C.predict(X_100C)\n",
    "joblib.dump(log_reg_100C_pred, \"dogs-vs-cats/pred/log_reg_100C_pred.pkl\")"
   ],
   "metadata": {
    "collapsed": false,
    "pycharm": {
     "name": "#%%\n"
    }
   }
  },
  {
   "cell_type": "code",
   "execution_count": null,
   "outputs": [],
   "source": [
    "# log_reg_100C_pred = joblib.load(r\"dogs-vs-cats/pred/log_reg_100C_pred.pkl\")"
   ],
   "metadata": {
    "collapsed": false,
    "pycharm": {
     "name": "#%%\n"
    }
   }
  },
  {
   "cell_type": "code",
   "execution_count": null,
   "outputs": [],
   "source": [
    "metrics.accuracy_score(y_100C, log_reg_100C_pred)"
   ],
   "metadata": {
    "collapsed": false,
    "pycharm": {
     "name": "#%%\n"
    }
   }
  },
  {
   "cell_type": "code",
   "execution_count": null,
   "outputs": [],
   "source": [
    "log_reg_100C_scores = cross_val_score(log_reg_100C, X_100C, y_100C, scoring=\"accuracy\", cv=4)\n",
    "joblib.dump(log_reg_100C_scores, \"dogs-vs-cats/scores/log_reg_100C_scores.pkl\")"
   ],
   "metadata": {
    "collapsed": false,
    "pycharm": {
     "name": "#%%\n"
    }
   }
  },
  {
   "cell_type": "code",
   "execution_count": null,
   "outputs": [],
   "source": [
    "# log_reg_100C_scores = joblib.load(r\"dogs-vs-cats/scores/log_reg_100C_scores.pkl\")"
   ],
   "metadata": {
    "collapsed": false,
    "pycharm": {
     "name": "#%%\n"
    }
   }
  },
  {
   "cell_type": "code",
   "execution_count": null,
   "outputs": [],
   "source": [
    "display_scores(log_reg_100C_scores)"
   ],
   "metadata": {
    "collapsed": false,
    "pycharm": {
     "name": "#%%\n"
    }
   }
  },
  {
   "cell_type": "markdown",
   "source": [
    "end testing 100x100\n",
    "\n",
    "----"
   ],
   "metadata": {
    "collapsed": false
   }
  },
  {
   "cell_type": "markdown",
   "source": [
    "> #### 128x128x3 Color"
   ],
   "metadata": {
    "collapsed": false
   }
  },
  {
   "cell_type": "code",
   "execution_count": null,
   "outputs": [],
   "source": [
    "# X_128, y_128 = prep_data(strat_train_set[\"path\"], 128, 128, 3, is_canny=False)\n",
    "# joblib.dump(X_128, \"dogs-vs-cats/data/X_128.pkl\")\n",
    "# joblib.dump(y_128, \"dogs-vs-cats/data/y_128.pkl\")"
   ],
   "metadata": {
    "collapsed": false,
    "pycharm": {
     "name": "#%%\n"
    }
   }
  },
  {
   "cell_type": "code",
   "execution_count": null,
   "outputs": [],
   "source": [
    "X_128 = joblib.load(r\"dogs-vs-cats/data/X_128.pkl\")\n",
    "y_128 = joblib.load(r\"dogs-vs-cats/data/y_128.pkl\")"
   ],
   "metadata": {
    "collapsed": false,
    "pycharm": {
     "name": "#%%\n"
    }
   }
  },
  {
   "cell_type": "code",
   "execution_count": null,
   "outputs": [],
   "source": [
    "X_128 = StandardScaler().fit_transform(X_128)"
   ],
   "metadata": {
    "collapsed": false,
    "pycharm": {
     "name": "#%%\n"
    }
   }
  },
  {
   "cell_type": "code",
   "execution_count": null,
   "outputs": [],
   "source": [
    "log_reg_128 = LogisticRegression(random_state=42, n_jobs=-1)\n",
    "# log_reg_128.fit(X_128, y_128)\n",
    "# joblib.dump(log_reg_128, \"dogs-vs-cats/models/log_reg_128.pkl\")"
   ],
   "metadata": {
    "collapsed": false,
    "pycharm": {
     "name": "#%%\n"
    }
   }
  },
  {
   "cell_type": "code",
   "execution_count": null,
   "outputs": [],
   "source": [
    "log_reg_128 = joblib.load(r\"dogs-vs-cats/models/log_reg_128.pkl\")"
   ],
   "metadata": {
    "collapsed": false,
    "pycharm": {
     "name": "#%%\n"
    }
   }
  },
  {
   "cell_type": "code",
   "execution_count": null,
   "outputs": [],
   "source": [
    "# log_reg_128_pred = log_reg_128.predict(X_128)\n",
    "# joblib.dump(log_reg_128_pred, \"dogs-vs-cats/pred/log_reg_128_pred.pkl\")"
   ],
   "metadata": {
    "collapsed": false,
    "pycharm": {
     "name": "#%%\n"
    }
   }
  },
  {
   "cell_type": "code",
   "execution_count": null,
   "outputs": [],
   "source": [
    "log_reg_128_pred = joblib.load(r\"dogs-vs-cats/pred/log_reg_128_pred.pkl\")"
   ],
   "metadata": {
    "collapsed": false,
    "pycharm": {
     "name": "#%%\n"
    }
   }
  },
  {
   "cell_type": "code",
   "execution_count": null,
   "outputs": [],
   "source": [
    "metrics.accuracy_score(y_128, log_reg_128_pred)"
   ],
   "metadata": {
    "collapsed": false,
    "pycharm": {
     "name": "#%%\n"
    }
   }
  },
  {
   "cell_type": "code",
   "execution_count": null,
   "outputs": [],
   "source": [
    "log_reg_128_scores = cross_val_score(log_reg_128, X_128, y_128, scoring=\"accuracy\", cv=4)\n",
    "joblib.dump(log_reg_128_scores, \"dogs-vs-cats/scores/log_reg_128_scores.pkl\")"
   ],
   "metadata": {
    "collapsed": false,
    "pycharm": {
     "name": "#%%\n"
    }
   }
  },
  {
   "cell_type": "code",
   "execution_count": null,
   "outputs": [],
   "source": [
    "# log_reg_128_scores = joblib.load(r\"dogs-vs-cats/scores/log_reg_128_scores.pkl\")"
   ],
   "metadata": {
    "collapsed": false,
    "pycharm": {
     "name": "#%%\n"
    }
   }
  },
  {
   "cell_type": "code",
   "execution_count": null,
   "outputs": [],
   "source": [
    "display_scores(log_reg_128_scores)"
   ],
   "metadata": {
    "collapsed": false,
    "pycharm": {
     "name": "#%%\n"
    }
   }
  },
  {
   "cell_type": "markdown",
   "source": [
    "> #### 128x128 Grayscale"
   ],
   "metadata": {
    "collapsed": false
   }
  },
  {
   "cell_type": "code",
   "execution_count": null,
   "outputs": [],
   "source": [
    "# X_128g, y_128g = prep_data(strat_train_set[\"path\"], 128, 128, 1, is_canny=False)\n",
    "# joblib.dump(X_128g, \"dogs-vs-cats/data/X_128g.pkl\")\n",
    "# joblib.dump(y_128g, \"dogs-vs-cats/data/y_128g.pkl\")"
   ],
   "metadata": {
    "collapsed": false,
    "pycharm": {
     "name": "#%%\n"
    }
   }
  },
  {
   "cell_type": "code",
   "execution_count": null,
   "outputs": [],
   "source": [
    "X_128g = joblib.load(r\"dogs-vs-cats/data/X_128g.pkl\")\n",
    "y_128g = joblib.load(r\"dogs-vs-cats/data/y_128g.pkl\")"
   ],
   "metadata": {
    "collapsed": false,
    "pycharm": {
     "name": "#%%\n"
    }
   }
  },
  {
   "cell_type": "code",
   "execution_count": null,
   "outputs": [],
   "source": [
    "X_128g = StandardScaler().fit_transform(X_128g)"
   ],
   "metadata": {
    "collapsed": false,
    "pycharm": {
     "name": "#%%\n"
    }
   }
  },
  {
   "cell_type": "code",
   "execution_count": null,
   "outputs": [],
   "source": [
    "log_reg_128g = LogisticRegression(random_state=42, n_jobs=-1)\n",
    "# log_reg_128g.fit(X_128g, y_128g)\n",
    "# joblib.dump(log_reg_128g, \"dogs-vs-cats/models/log_reg_128g.pkl\")"
   ],
   "metadata": {
    "collapsed": false,
    "pycharm": {
     "name": "#%%\n"
    }
   }
  },
  {
   "cell_type": "code",
   "execution_count": null,
   "outputs": [],
   "source": [
    "log_reg_128g = joblib.load(r\"dogs-vs-cats/models/log_reg_128g.pkl\")"
   ],
   "metadata": {
    "collapsed": false,
    "pycharm": {
     "name": "#%%\n"
    }
   }
  },
  {
   "cell_type": "code",
   "execution_count": null,
   "outputs": [],
   "source": [
    "# log_reg_128g_pred = log_reg_128g.predict(X_128g)\n",
    "# joblib.dump(log_reg_128g_pred, \"dogs-vs-cats/pred/log_reg_128g_pred.pkl\")"
   ],
   "metadata": {
    "collapsed": false,
    "pycharm": {
     "name": "#%%\n"
    }
   }
  },
  {
   "cell_type": "code",
   "execution_count": null,
   "outputs": [],
   "source": [
    "log_reg_128g_pred = joblib.load(r\"dogs-vs-cats/pred/log_reg_128g_pred.pkl\")"
   ],
   "metadata": {
    "collapsed": false,
    "pycharm": {
     "name": "#%%\n"
    }
   }
  },
  {
   "cell_type": "code",
   "execution_count": null,
   "outputs": [],
   "source": [
    "metrics.accuracy_score(y_128g, log_reg_128g_pred)"
   ],
   "metadata": {
    "collapsed": false,
    "pycharm": {
     "name": "#%%\n"
    }
   }
  },
  {
   "cell_type": "code",
   "execution_count": null,
   "outputs": [],
   "source": [
    "log_reg_128g_scores = cross_val_score(log_reg_128g, X_128g, y_128g, scoring=\"accuracy\", cv=4)\n",
    "joblib.dump(log_reg_128g_scores, \"dogs-vs-cats/scores/log_reg_128g_scores.pkl\")"
   ],
   "metadata": {
    "collapsed": false,
    "pycharm": {
     "name": "#%%\n"
    }
   }
  },
  {
   "cell_type": "code",
   "execution_count": null,
   "outputs": [],
   "source": [
    "# log_reg_128g_scores = joblib.load(r\"dogs-vs-cats/scores/log_reg_128g_scores.pkl\")"
   ],
   "metadata": {
    "collapsed": false,
    "pycharm": {
     "name": "#%%\n"
    }
   }
  },
  {
   "cell_type": "code",
   "execution_count": null,
   "outputs": [],
   "source": [
    "display_scores(log_reg_128g_scores)"
   ],
   "metadata": {
    "collapsed": false,
    "pycharm": {
     "name": "#%%\n"
    }
   }
  },
  {
   "cell_type": "markdown",
   "source": [
    "> #### 128x128 Canny"
   ],
   "metadata": {
    "collapsed": false
   }
  },
  {
   "cell_type": "code",
   "execution_count": null,
   "outputs": [],
   "source": [
    "# X_128C, y_128C = prep_data(strat_train_set[\"path\"], 128, 128, 1, is_canny=True)\n",
    "# joblib.dump(X_128C, \"dogs-vs-cats/data/X_128C.pkl\")\n",
    "# joblib.dump(y_128C, \"dogs-vs-cats/data/y_128C.pkl\")"
   ],
   "metadata": {
    "collapsed": false,
    "pycharm": {
     "name": "#%%\n"
    }
   }
  },
  {
   "cell_type": "code",
   "execution_count": null,
   "outputs": [],
   "source": [
    "X_128C = joblib.load(r\"dogs-vs-cats/data/X_128C.pkl\")\n",
    "y_128C = joblib.load(r\"dogs-vs-cats/data/y_128C.pkl\")"
   ],
   "metadata": {
    "collapsed": false,
    "pycharm": {
     "name": "#%%\n"
    }
   }
  },
  {
   "cell_type": "code",
   "execution_count": null,
   "outputs": [],
   "source": [
    "X_128C = StandardScaler().fit_transform(X_128C)"
   ],
   "metadata": {
    "collapsed": false,
    "pycharm": {
     "name": "#%%\n"
    }
   }
  },
  {
   "cell_type": "code",
   "execution_count": null,
   "outputs": [],
   "source": [
    "log_reg_128C = LogisticRegression(random_state=42, n_jobs=-1)\n",
    "# log_reg_128C.fit(X_128C, y_128C)\n",
    "# joblib.dump(log_reg_128C, \"dogs-vs-cats/models/log_reg_128C.pkl\")"
   ],
   "metadata": {
    "collapsed": false,
    "pycharm": {
     "name": "#%%\n"
    }
   }
  },
  {
   "cell_type": "code",
   "execution_count": null,
   "outputs": [],
   "source": [
    "log_reg_128C = joblib.load(r\"dogs-vs-cats/models/log_reg_128C.pkl\")"
   ],
   "metadata": {
    "collapsed": false,
    "pycharm": {
     "name": "#%%\n"
    }
   }
  },
  {
   "cell_type": "code",
   "execution_count": null,
   "outputs": [],
   "source": [
    "# log_reg_128C_pred = log_reg_128C.predict(X_128C)\n",
    "# joblib.dump(log_reg_128C_pred, \"dogs-vs-cats/pred/log_reg_128C_pred.pkl\")"
   ],
   "metadata": {
    "collapsed": false,
    "pycharm": {
     "name": "#%%\n"
    }
   }
  },
  {
   "cell_type": "code",
   "execution_count": null,
   "outputs": [],
   "source": [
    "log_reg_128C_pred = joblib.load(r\"dogs-vs-cats/pred/log_reg_128C_pred.pkl\")"
   ],
   "metadata": {
    "collapsed": false,
    "pycharm": {
     "name": "#%%\n"
    }
   }
  },
  {
   "cell_type": "code",
   "execution_count": null,
   "outputs": [],
   "source": [
    "metrics.accuracy_score(y_128C, log_reg_128C_pred)"
   ],
   "metadata": {
    "collapsed": false,
    "pycharm": {
     "name": "#%%\n"
    }
   }
  },
  {
   "cell_type": "code",
   "execution_count": null,
   "outputs": [],
   "source": [
    "# log_reg_128C_scores = cross_val_score(log_reg_128C, X_128C, y_128C, scoring=\"accuracy\", cv=4)\n",
    "# joblib.dump(log_reg_128C_scores, \"dogs-vs-cats/scores/log_reg_128C_scores.pkl\")"
   ],
   "metadata": {
    "collapsed": false,
    "pycharm": {
     "name": "#%%\n"
    }
   }
  },
  {
   "cell_type": "code",
   "execution_count": null,
   "outputs": [],
   "source": [
    "log_reg_128C_scores = joblib.load(r\"dogs-vs-cats/scores/log_reg_128C_scores.pkl\")"
   ],
   "metadata": {
    "collapsed": false,
    "pycharm": {
     "name": "#%%\n"
    }
   }
  },
  {
   "cell_type": "code",
   "execution_count": null,
   "outputs": [],
   "source": [
    "display_scores(log_reg_128C_scores)"
   ],
   "metadata": {
    "collapsed": false,
    "pycharm": {
     "name": "#%%\n"
    }
   }
  },
  {
   "cell_type": "markdown",
   "source": [
    "* As the size increases, the model fits the training set better (perhaps sometimes overfitting it).\n",
    "However, cross-validation accuracy decreased, meaning that the models performed worse\n",
    "on unseen data.\n",
    "* Grayscale had the lowest accuracy in each scale."
   ],
   "metadata": {
    "collapsed": false
   }
  },
  {
   "cell_type": "markdown",
   "source": [
    "---------"
   ],
   "metadata": {
    "collapsed": false
   }
  },
  {
   "cell_type": "code",
   "execution_count": null,
   "outputs": [],
   "source": [
    "# X_train_gray, y_train_gray = prep_data(strat_train_set['path'], 200, 200, 1)\n",
    "# joblib.dump(X_train_gray, 'dogs-vs-cats/X_train_gray' + '.z', compress=3)\n",
    "# joblib.dump(y_train_gray, 'dogs-vs-cats/y_train_gray' + '.z', compress=3)"
   ],
   "metadata": {
    "collapsed": false,
    "pycharm": {
     "name": "#%%\n"
    }
   }
  },
  {
   "cell_type": "code",
   "execution_count": null,
   "outputs": [],
   "source": [
    "X_train_gray = joblib.load(r'dogs-vs-cats/X_train_gray.z')\n",
    "y_train_gray = joblib.load(r'dogs-vs-cats/y_train_gray.z')\n",
    "set_params(200, 200, 1)"
   ],
   "metadata": {
    "collapsed": false,
    "pycharm": {
     "name": "#%%\n"
    }
   }
  },
  {
   "cell_type": "code",
   "execution_count": null,
   "outputs": [],
   "source": [
    "# X_train_color, y_train_color = prep_data(strat_train_set['path'], 100, 100, 3)\n",
    "# joblib.dump(X_train_color, 'dogs-vs-cats/X_train' + '.z', compress=3)\n",
    "# joblib.dump(y_train_color, 'dogs-vs-cats/y_train' + '.z', compress=3)"
   ],
   "metadata": {
    "collapsed": false,
    "pycharm": {
     "name": "#%%\n"
    }
   }
  },
  {
   "cell_type": "code",
   "execution_count": null,
   "outputs": [],
   "source": [
    "X_train_gray"
   ],
   "metadata": {
    "collapsed": false,
    "pycharm": {
     "name": "#%%\n"
    }
   }
  },
  {
   "cell_type": "code",
   "execution_count": null,
   "outputs": [],
   "source": [
    "y_train_gray"
   ],
   "metadata": {
    "collapsed": false,
    "pycharm": {
     "name": "#%%\n"
    }
   }
  },
  {
   "cell_type": "code",
   "execution_count": null,
   "outputs": [],
   "source": [
    "# data shape (rows, columns)\n",
    "print(\"Grayscale data:\", X_train_gray.shape)\n",
    "print(\"Labels:\", y_train_gray.shape)"
   ],
   "metadata": {
    "collapsed": false,
    "pycharm": {
     "name": "#%%\n"
    }
   }
  },
  {
   "cell_type": "code",
   "execution_count": null,
   "outputs": [],
   "source": [
    "img1_before = strat_train_set['path'][0:1].iloc[0]\n",
    "img1_after = X_train_gray[0]\n",
    "img1_after = img1_after.reshape((ROWS, COLUMNS, CHANNELS))\n",
    "img2_before = strat_train_set['path'][1:2].iloc[0]\n",
    "img2_after = X_train_gray[1]\n",
    "img2_after = img2_after.reshape((ROWS, COLUMNS, CHANNELS))"
   ],
   "metadata": {
    "collapsed": false,
    "pycharm": {
     "name": "#%%\n"
    }
   }
  },
  {
   "cell_type": "code",
   "execution_count": null,
   "outputs": [],
   "source": [
    "fig = plt.figure(figsize=(10, 7))\n",
    "\n",
    "fig.add_subplot(2, 2, 1)\n",
    "image = cv2.imread(img1_before)\n",
    "plt.imshow(cv2.cvtColor(image, cv2.COLOR_BGR2RGB))\n",
    "plt.title('Before', size=15)\n",
    "fig.add_subplot(2, 2, 3)\n",
    "plt.imshow(img1_after, cmap='gray')\n",
    "plt.title('After', size=15)\n",
    "fig.add_subplot(2, 2, 2)\n",
    "image = cv2.imread(img2_before)\n",
    "plt.imshow(cv2.cvtColor(image, cv2.COLOR_BGR2RGB))\n",
    "plt.title('Before', size=15)\n",
    "fig.add_subplot(2, 2, 4)\n",
    "plt.imshow(img2_after, cmap='gray')\n",
    "plt.title('After', size=15)\n",
    "fig.suptitle(\"Dogs vs. Cats Resized Samples\", size=30)\n",
    "plt.tight_layout()\n",
    "plt.show()"
   ],
   "metadata": {
    "collapsed": false,
    "pycharm": {
     "name": "#%%\n"
    }
   }
  },
  {
   "cell_type": "code",
   "execution_count": null,
   "outputs": [],
   "source": [
    "# std_scl = StandardScaler()\n",
    "# X_train_gray_scaled = std_scl.fit_transform(X_train_gray)\n",
    "# joblib.dump(X_train_gray_scaled, 'dogs-vs-cats/X_train_gray_scaled' + '.z', compress=3)\n",
    "# joblib.dump(std_scl, 'dogs-vs-cats/std_scl1.pkl')"
   ],
   "metadata": {
    "collapsed": false,
    "pycharm": {
     "name": "#%%\n"
    }
   }
  },
  {
   "cell_type": "code",
   "execution_count": null,
   "outputs": [],
   "source": [
    "X_train_gray_scaled = joblib.load(r'dogs-vs-cats/X_train_gray_scaled.z')"
   ],
   "metadata": {
    "collapsed": false,
    "pycharm": {
     "name": "#%%\n"
    }
   }
  },
  {
   "cell_type": "code",
   "execution_count": null,
   "outputs": [],
   "source": [
    "# pca = PCA(svd_solver='randomized', random_state=42)\n",
    "# pca.fit(X_train_gray_scaled)\n",
    "# joblib.dump(pca, \"dogs-vs-cats/pca.pkl\")"
   ],
   "metadata": {
    "collapsed": false,
    "pycharm": {
     "name": "#%%\n"
    }
   }
  },
  {
   "cell_type": "code",
   "execution_count": null,
   "outputs": [],
   "source": [
    "pca = joblib.load(r\"dogs-vs-cats/pca.pkl\")"
   ],
   "metadata": {
    "collapsed": false,
    "pycharm": {
     "name": "#%%\n"
    }
   }
  },
  {
   "cell_type": "code",
   "execution_count": null,
   "outputs": [],
   "source": [
    "# cumulative sum (increasing by sequential addition) of components\n",
    "cumsum = np.cumsum(pca.explained_variance_ratio_)\n",
    "d = np.argmax(cumsum >= 0.95) + 1"
   ],
   "metadata": {
    "collapsed": false,
    "pycharm": {
     "name": "#%%\n"
    }
   }
  },
  {
   "cell_type": "code",
   "execution_count": null,
   "outputs": [],
   "source": [
    "plt.figure(figsize=(12, 5))\n",
    "plt.axis([0, 20000, 0, 1])  # axis limits\n",
    "plt.plot(cumsum, linewidth=3)\n",
    "plt.xlabel(\"Dimensions\", size=15)\n",
    "plt.ylabel(\"Explained Variance\", size=15)\n",
    "plt.plot([d, d], [0, 0.95], \"k:\")\n",
    "plt.plot([0, d], [0.95, 0.95], \"k:\")\n",
    "plt.tight_layout()\n",
    "plt.show()"
   ],
   "metadata": {
    "collapsed": false,
    "pycharm": {
     "name": "#%%\n"
    }
   }
  },
  {
   "cell_type": "code",
   "execution_count": null,
   "outputs": [],
   "source": [
    "d"
   ],
   "metadata": {
    "collapsed": false,
    "pycharm": {
     "name": "#%%\n"
    }
   }
  },
  {
   "cell_type": "markdown",
   "source": [
    "> We can preserve 95% of the variance with just 1575 features, drastically\n",
    "> better than the original 40,000 dimensions!"
   ],
   "metadata": {
    "collapsed": false
   }
  },
  {
   "cell_type": "code",
   "execution_count": null,
   "outputs": [],
   "source": [
    "# pca = PCA(n_components=d, svd_solver=\"randomized\", random_state=42)\n",
    "# pca.fit(X_train_gray_scaled)\n",
    "# joblib.dump(pca, \"dogs-vs-cats/pca2.pkl\")"
   ],
   "metadata": {
    "collapsed": false,
    "pycharm": {
     "name": "#%%\n"
    }
   }
  },
  {
   "cell_type": "code",
   "execution_count": null,
   "outputs": [],
   "source": [
    "pca = joblib.load(r\"dogs-vs-cats/pca2.pkl\")"
   ],
   "metadata": {
    "collapsed": false,
    "pycharm": {
     "name": "#%%\n"
    }
   }
  },
  {
   "cell_type": "code",
   "execution_count": null,
   "outputs": [],
   "source": [
    "X_reduced = pca.transform(X_train_gray_scaled)"
   ],
   "metadata": {
    "collapsed": false,
    "pycharm": {
     "name": "#%%\n"
    }
   }
  },
  {
   "cell_type": "code",
   "execution_count": null,
   "outputs": [],
   "source": [
    "joblib.dump(X_reduced, \"dogs-vs-cats/X_reduced.pkl\")"
   ],
   "metadata": {
    "collapsed": false,
    "pycharm": {
     "name": "#%%\n"
    }
   }
  },
  {
   "cell_type": "code",
   "execution_count": null,
   "outputs": [],
   "source": [
    "X_reduced = joblib.load(r\"dogs-vs-cats/X_reduced.pkl\")"
   ],
   "metadata": {
    "collapsed": false,
    "pycharm": {
     "name": "#%%\n"
    }
   }
  },
  {
   "cell_type": "code",
   "execution_count": null,
   "outputs": [],
   "source": [
    "X_reduced.shape"
   ],
   "metadata": {
    "collapsed": false,
    "pycharm": {
     "name": "#%%\n"
    }
   }
  },
  {
   "cell_type": "code",
   "execution_count": null,
   "outputs": [],
   "source": [
    "from sklearn.manifold import TSNE"
   ],
   "metadata": {
    "collapsed": false,
    "pycharm": {
     "name": "#%%\n"
    }
   }
  },
  {
   "cell_type": "code",
   "execution_count": null,
   "outputs": [],
   "source": [
    "# tsne30 = TSNE(n_components=2, perplexity=30, random_state=42, n_jobs=-1)\n",
    "# X_reduced_tsne30 = tsne30.fit_transform(X_reduced, y_train)\n",
    "# joblib.dump(X_reduced_tsne30, \"dogs-vs-cats/X_reduced_tsne30.pkl\")\n",
    "\n",
    "# tsne50 = TSNE(n_components=2, perplexity=50, random_state=42, n_jobs=-1)\n",
    "# X_reduced_tsne50 = tsne50.fit_transform(X_reduced, y_train)\n",
    "# joblib.dump(X_reduced_tsne50, \"dogs-vs-cats/X_reduced_tsne50.pkl\")"
   ],
   "metadata": {
    "collapsed": false,
    "pycharm": {
     "name": "#%%\n"
    }
   }
  },
  {
   "cell_type": "code",
   "execution_count": null,
   "outputs": [],
   "source": [
    "X_reduced_tsne30 = joblib.load(r\"dogs-vs-cats/X_reduced_tsne30.pkl\")"
   ],
   "metadata": {
    "collapsed": false,
    "pycharm": {
     "name": "#%%\n"
    }
   }
  },
  {
   "cell_type": "code",
   "execution_count": null,
   "outputs": [],
   "source": [
    "plt.figure(figsize=(35, 25))\n",
    "plt.scatter(X_reduced_tsne30[:, 0], X_reduced_tsne30[:, 1], c=y_train_gray, cmap='summer')\n",
    "plt.axis('off')\n",
    "cb = plt.colorbar(ticks=range(2))\n",
    "cb.ax.set_yticklabels(['cat', 'dog'], size=25)\n",
    "plt.show()"
   ],
   "metadata": {
    "collapsed": false,
    "pycharm": {
     "name": "#%%\n"
    }
   }
  },
  {
   "cell_type": "code",
   "execution_count": null,
   "outputs": [],
   "source": [
    "# silhouette_scores = []\n",
    "# for i in range(2,21):\n",
    "#    print(\"Starting iteration {}\".format(i-1))\n",
    "#    kmeans = KMeans(n_clusters= i, random_state=42)\n",
    "#    kmeans.fit(X_reduced)\n",
    "#    silhouette_scores.append(metrics.silhouette_score(X_reduced, kmeans.labels_))\n",
    "\n",
    "# joblib.dump(silhouette_scores, \"dogs-vs-cats/silhouette_scores.pkl\")"
   ],
   "metadata": {
    "collapsed": false,
    "pycharm": {
     "name": "#%%\n"
    }
   }
  },
  {
   "cell_type": "code",
   "execution_count": null,
   "outputs": [],
   "source": [
    "silhouette_scores = joblib.load(r\"dogs-vs-cats/silhouette_scores.pkl\")"
   ],
   "metadata": {
    "collapsed": false,
    "pycharm": {
     "name": "#%%\n"
    }
   }
  },
  {
   "cell_type": "code",
   "execution_count": null,
   "outputs": [],
   "source": [
    "plt.figure(figsize=(12, 5))\n",
    "plt.plot(range(2, 21), silhouette_scores, \"bo-\")\n",
    "plt.xlabel(\"$k$\", fontsize=15)\n",
    "plt.ylabel(\"Silhouette score\", fontsize=15)\n",
    "plt.show()"
   ],
   "metadata": {
    "collapsed": false,
    "pycharm": {
     "name": "#%%\n"
    }
   }
  },
  {
   "cell_type": "markdown",
   "source": [
    "> Observations:\n",
    "* When looking at the t-SNE plot, the classes mix in one big blob.\n",
    "* The silhouette score for K-means is very low from the start (2 clusters) and drops as the number of\n",
    "clusters increases.\n",
    "* All silhouette scores are close to 0, which means that the instances are close to the cluster boundaries.\n",
    ">\n",
    "> Given these observations, it is clear that the images can't be clustered."
   ],
   "metadata": {
    "collapsed": false
   }
  },
  {
   "cell_type": "markdown",
   "source": [
    "> PCA should definitely be used for pre-processing the data.\n",
    "> Since there are still many dimensions, trying another dimensionality reduction algorithm on the\n",
    "> transformed data should be considered."
   ],
   "metadata": {
    "collapsed": false
   }
  },
  {
   "cell_type": "markdown",
   "source": [
    "# 3. Data Cleaning"
   ],
   "metadata": {
    "collapsed": false
   }
  },
  {
   "cell_type": "code",
   "execution_count": null,
   "outputs": [],
   "source": [
    "# load data with chosen pre-processing transformations\n",
    "# scale 128x128, grayscale --> canny\n"
   ],
   "metadata": {
    "collapsed": false,
    "pycharm": {
     "name": "#%%\n"
    }
   }
  },
  {
   "cell_type": "code",
   "execution_count": null,
   "outputs": [],
   "source": [
    "# clean copy of the training set\n",
    "X_train = X_train_gray.copy()\n",
    "y_train = y_train_gray.copy()"
   ],
   "metadata": {
    "collapsed": false,
    "pycharm": {
     "name": "#%%\n"
    }
   }
  },
  {
   "cell_type": "code",
   "execution_count": null,
   "outputs": [],
   "source": [
    "# create transformation pipeline\n",
    "\n",
    "full_pipeline = Pipeline([\n",
    "    ('std_scaler', StandardScaler()),\n",
    "    ('pca', PCA(n_components=d, svd_solver='randomized', random_state=42))\n",
    "])"
   ],
   "metadata": {
    "collapsed": false,
    "pycharm": {
     "name": "#%%\n"
    }
   }
  },
  {
   "cell_type": "code",
   "execution_count": null,
   "outputs": [],
   "source": [
    "# transform training data using pipeline\n",
    "X_train_prepared = full_pipeline.fit_transform(X_train)"
   ],
   "metadata": {
    "collapsed": false,
    "pycharm": {
     "name": "#%%\n"
    }
   }
  },
  {
   "cell_type": "markdown",
   "source": [
    "# 4. Training and Evaluating Models"
   ],
   "metadata": {
    "collapsed": false
   }
  },
  {
   "cell_type": "markdown",
   "source": [
    "> The number of instances for each class in the training set are equal which makes this a balanced classification task.\n",
    ">\n",
    "> Chosen evaluation metric:\n",
    ">\n",
    "> The ROC curve plots the trade-off between the true positive rate (TPR = sensitivity/recall)\n",
    "> against the false positive rate (FPR = 1 - specificity/TNR).\n",
    "> This evaluation metric is widely used for binary classification and works well when the data\n",
    "> is balanced (as it is sensitive to class imbalance).\n",
    "> The ROC AUC score is good for when the positive and negative class predictions are equally important,\n",
    "> and is also an excellent way to compare classifiers and thresholds.\n",
    ">\n",
    "> A ROC AUC score of a random classifier is 0.5. The closer the score is to 1, the better the classifier.\n",
    ">\n",
    ">> Note: A major difference between ROC and accuracy is that accuracy is calculated using the predicted classes\n",
    "> and ROC AUC is calculated on the predicted scores."
   ],
   "metadata": {
    "collapsed": false
   }
  },
  {
   "cell_type": "code",
   "execution_count": null,
   "outputs": [],
   "source": [
    "# function prints scores\n",
    "def display_evaluation(actual, pred):\n",
    "    print(\"Confusion Matrix:\\n\", metrics.confusion_matrix(actual, pred), \"\\n\")\n",
    "    print(\"Classification Report:\\n\", metrics.classification_report(actual, pred))\n",
    "\n",
    "\n",
    "# function for evaluating cross validation scores and for easy model comparison\n",
    "def display_scores(scores):\n",
    "    print(\"Scores:\", scores)\n",
    "    print(\"Mean:\", round(scores.mean(), 5))\n",
    "    print(\"Standard Deviation:\", round(scores.std(), 5))"
   ],
   "metadata": {
    "collapsed": false,
    "pycharm": {
     "name": "#%%\n"
    }
   }
  },
  {
   "cell_type": "markdown",
   "source": [
    "### Shortlist Promising Models:\n",
    "> Trying many models quickly and selecting the ones that show promising results.\n",
    ">\n",
    ">> How I plan to do this:\n",
    "1. Train a baseline model and evaluate sample predictions.\n",
    "**Continue to step 2 if the sample predictions were mostly correct.**\n",
    "2. Use cross-validation and evaluate scores.\n",
    "3. If the model has a significant hyperparameters, try changing it. Use cross-validation to\n",
    "compare the results to step 2."
   ],
   "metadata": {
    "collapsed": false
   }
  },
  {
   "cell_type": "code",
   "execution_count": null,
   "outputs": [],
   "source": [
    "# a few instances from the training data for testing\n",
    "some_data = X_train.iloc[:10]\n",
    "some_labels = y_train.iloc[:10]\n",
    "some_data_prepared = full_pipeline.transform(some_data)"
   ],
   "metadata": {
    "collapsed": false,
    "pycharm": {
     "name": "#%%\n"
    }
   }
  },
  {
   "cell_type": "markdown",
   "source": [
    "#### 1. Logistic Regression"
   ],
   "metadata": {
    "collapsed": false
   }
  },
  {
   "cell_type": "code",
   "execution_count": null,
   "outputs": [],
   "source": [
    "log_reg = LogisticRegression(random_state=42, n_jobs=-1)\n",
    "log_reg.fit(X_train_prepared, y_train)\n",
    "joblib.dump(log_reg, \"dogs-vs-cats/models/log_reg_1.pkl\")"
   ],
   "metadata": {
    "collapsed": false,
    "pycharm": {
     "name": "#%%\n"
    }
   }
  },
  {
   "cell_type": "code",
   "execution_count": null,
   "outputs": [],
   "source": [
    "# log_reg = joblib.load(r\"dogs-vs-cats/models/log_reg_1.pkl\")"
   ],
   "metadata": {
    "collapsed": false,
    "pycharm": {
     "name": "#%%\n"
    }
   }
  },
  {
   "cell_type": "code",
   "execution_count": null,
   "outputs": [],
   "source": [
    "print(\"Predictions:\", log_reg.predict(some_data_prepared))\n",
    "print(\"Labels:\", list(some_labels))"
   ],
   "metadata": {
    "collapsed": false,
    "pycharm": {
     "name": "#%%\n"
    }
   }
  },
  {
   "cell_type": "code",
   "execution_count": null,
   "outputs": [],
   "source": [
    "log_reg_scores_1 = cross_val_score(log_reg, X_train_prepared, y_train, scoring='accuracy', cv=4)\n",
    "joblib.dump(log_reg_scores_1, \"dogs-vs-cats/scores/log_reg_scores_1.pkl\")"
   ],
   "metadata": {
    "collapsed": false,
    "pycharm": {
     "name": "#%%\n"
    }
   }
  },
  {
   "cell_type": "code",
   "execution_count": null,
   "outputs": [],
   "source": [
    "# log_reg_scores_1 = joblib.load(r\"dogs-vs-cats/scores/log_reg_scores_1.pkl\")"
   ],
   "metadata": {
    "collapsed": false,
    "pycharm": {
     "name": "#%%\n"
    }
   }
  },
  {
   "cell_type": "code",
   "execution_count": null,
   "outputs": [],
   "source": [
    "display_scores(log_reg_scores_1)"
   ],
   "metadata": {
    "collapsed": false,
    "pycharm": {
     "name": "#%%\n"
    }
   }
  },
  {
   "cell_type": "markdown",
   "source": [
    "#### 2. KNN"
   ],
   "metadata": {
    "collapsed": false
   }
  },
  {
   "cell_type": "code",
   "execution_count": null,
   "outputs": [],
   "source": [
    "# using default weights (uniform)\n",
    "# using default n_neighbors (n = 5)\n",
    "knn_clf = KNeighborsClassifier(n_jobs=-1)\n",
    "knn_clf.fit(X_train_prepared, y_train)\n",
    "joblib.dump(knn_clf, \"dogs-vs-cats/models/knn_clf_2.pkl\")"
   ],
   "metadata": {
    "collapsed": false,
    "pycharm": {
     "name": "#%%\n"
    }
   }
  },
  {
   "cell_type": "code",
   "execution_count": null,
   "outputs": [],
   "source": [
    "# knn_clf = joblib.load(r\"dogs-vs-cats/models/knn_clf_2.pkl\")"
   ],
   "metadata": {
    "collapsed": false,
    "pycharm": {
     "name": "#%%\n"
    }
   }
  },
  {
   "cell_type": "code",
   "execution_count": null,
   "outputs": [],
   "source": [
    "print(\"Predictions:\", knn_clf.predict(some_data_prepared))\n",
    "print(\"Labels:\", list(some_labels))"
   ],
   "metadata": {
    "collapsed": false,
    "pycharm": {
     "name": "#%%\n"
    }
   }
  },
  {
   "cell_type": "code",
   "execution_count": null,
   "outputs": [],
   "source": [
    "knn_scores_2 = cross_val_score(knn_clf, X_train_prepared, y_train, scoring='accuracy', cv=4)\n",
    "joblib.dump(knn_scores_2, \"dogs-vs-cats/scores/knn_scores_2.pkl\")"
   ],
   "metadata": {
    "collapsed": false,
    "pycharm": {
     "name": "#%%\n"
    }
   }
  },
  {
   "cell_type": "code",
   "execution_count": null,
   "outputs": [],
   "source": [
    "# knn_scores_2 = joblib.load(r\"dogs-vs-cats/scores/knn_scores_2.pkl\")"
   ],
   "metadata": {
    "collapsed": false,
    "pycharm": {
     "name": "#%%\n"
    }
   }
  },
  {
   "cell_type": "code",
   "execution_count": null,
   "outputs": [],
   "source": [
    "display_scores(knn_scores_2)"
   ],
   "metadata": {
    "collapsed": false,
    "pycharm": {
     "name": "#%%\n"
    }
   }
  },
  {
   "cell_type": "markdown",
   "source": [
    "#### 3. Decision Tree Classifier"
   ],
   "metadata": {
    "collapsed": false
   }
  },
  {
   "cell_type": "code",
   "execution_count": null,
   "outputs": [],
   "source": [
    "tree_clf = DecisionTreeClassifier(random_state=42)\n",
    "tree_clf.fit(X_train_prepared, y_train)\n",
    "joblib.dump(tree_clf, \"dogs-vs-cats/models/tree_clf_3.pkl\")"
   ],
   "metadata": {
    "collapsed": false,
    "pycharm": {
     "name": "#%%\n"
    }
   }
  },
  {
   "cell_type": "code",
   "execution_count": null,
   "outputs": [],
   "source": [
    "# tree_clf = joblib.load(r\"dogs-vs-cats/models/tree_clf_3.pkl\")"
   ],
   "metadata": {
    "collapsed": false,
    "pycharm": {
     "name": "#%%\n"
    }
   }
  },
  {
   "cell_type": "code",
   "execution_count": null,
   "outputs": [],
   "source": [
    "print(\"Predictions:\", tree_clf.predict(some_data_prepared))\n",
    "print(\"Labels:\", list(some_labels))"
   ],
   "metadata": {
    "collapsed": false,
    "pycharm": {
     "name": "#%%\n"
    }
   }
  },
  {
   "cell_type": "code",
   "execution_count": null,
   "outputs": [],
   "source": [
    "tree_scores_3 = cross_val_score(tree_clf, X_train_prepared, y_train, scoring='accuracy', cv=4, n_jobs=-1)\n",
    "joblib.dump(tree_scores_3, \"dogs-vs-cats/scores/tree_scores_3.pkl\")"
   ],
   "metadata": {
    "collapsed": false,
    "pycharm": {
     "name": "#%%\n"
    }
   }
  },
  {
   "cell_type": "code",
   "execution_count": null,
   "outputs": [],
   "source": [
    "# tree_scores_3 = joblib.load(r\"dogs-vs-cats/scores/tree_scores_3.pkl\")"
   ],
   "metadata": {
    "collapsed": false,
    "pycharm": {
     "name": "#%%\n"
    }
   }
  },
  {
   "cell_type": "code",
   "execution_count": null,
   "outputs": [],
   "source": [
    "display_scores(tree_scores_3)"
   ],
   "metadata": {
    "collapsed": false,
    "pycharm": {
     "name": "#%%\n"
    }
   }
  },
  {
   "cell_type": "markdown",
   "source": [
    "#### 4. Random Forest Classifier"
   ],
   "metadata": {
    "collapsed": false
   }
  },
  {
   "cell_type": "code",
   "execution_count": null,
   "outputs": [],
   "source": [
    "rf_clf = RandomForestClassifier(random_state=42, n_jobs=-1)\n",
    "rf_clf.fit(X_train_prepared, y_train)\n",
    "joblib.dump(rf_clf, \"dogs-vs-cats/models/rf_clf_4.pkl\")"
   ],
   "metadata": {
    "collapsed": false,
    "pycharm": {
     "name": "#%%\n"
    }
   }
  },
  {
   "cell_type": "code",
   "execution_count": null,
   "outputs": [],
   "source": [
    "# rf_clf = joblib.load(r\"dogs-vs-cats/models/rf_clf_4.pkl\")"
   ],
   "metadata": {
    "collapsed": false,
    "pycharm": {
     "name": "#%%\n"
    }
   }
  },
  {
   "cell_type": "code",
   "execution_count": null,
   "outputs": [],
   "source": [
    "print(\"Predictions:\", rf_clf.predict(some_data_prepared))\n",
    "print(\"Labels:\", list(some_labels))"
   ],
   "metadata": {
    "collapsed": false,
    "pycharm": {
     "name": "#%%\n"
    }
   }
  },
  {
   "cell_type": "code",
   "execution_count": null,
   "outputs": [],
   "source": [
    "rf_scores_4 = cross_val_score(rf_clf, X_train_prepared, y_train, scoring='accuracy', cv=4)\n",
    "joblib.dump(rf_scores_4, \"dogs-vs-cats/scores/rf_scores_4.pkl\")"
   ],
   "metadata": {
    "collapsed": false,
    "pycharm": {
     "name": "#%%\n"
    }
   }
  },
  {
   "cell_type": "code",
   "execution_count": null,
   "outputs": [],
   "source": [
    "# rf_scores_4 = joblib.load(r\"dogs-vs-cats/scores/rf_scores_4.pkl\")"
   ],
   "metadata": {
    "collapsed": false,
    "pycharm": {
     "name": "#%%\n"
    }
   }
  },
  {
   "cell_type": "code",
   "execution_count": null,
   "outputs": [],
   "source": [
    "display_scores(rf_scores_4)"
   ],
   "metadata": {
    "collapsed": false,
    "pycharm": {
     "name": "#%%\n"
    }
   }
  },
  {
   "cell_type": "markdown",
   "source": [
    "-------------------------"
   ],
   "metadata": {
    "collapsed": false
   }
  },
  {
   "cell_type": "markdown",
   "source": [
    "def read_resize_img(file_path, color):\n",
    "    img = cv2.imread(file_path, cv2.IMREAD_COLOR)\n",
    "    if color:\n",
    "        img = cv2.cvtColor(img, cv2.COLOR_BGR2RGB)\n",
    "    else:\n",
    "        img = cv2.cvtColor(img, cv2.COLOR_BGR2GRAY)\n",
    "    return cv2.resize(img, (ROWS, COLUMNS), interpolation=cv2.INTER_CUBIC)\n",
    "\n",
    "def prep_data(images, color):\n",
    "    m = len(images)\n",
    "    n_pixels = ROWS * COLUMNS * CHANNELS\n",
    "    X = np.ndarray((m, n_pixels), dtype=np.uint8)\n",
    "    y = np.zeros((m, 1))\n",
    "    path = []  # saving the path ensures we can load each image again in case rescaling is required\n",
    "\n",
    "    # enumerate() function iterates the input object ('images') by using two variables:\n",
    "    # i is the count of the current iteration\n",
    "    # img_file is the path of the image file at the current iteration\n",
    "    for i, img_file in enumerate(images):\n",
    "        img = read_resize_img(img_file, color)\n",
    "        X[i, :] = np.squeeze(img.reshape((n_pixels, 1)))  # squeeze removes useless one-dimensional arrays\n",
    "        path.append(img_file)\n",
    "\n",
    "        if '/dog' in img_file:\n",
    "            y[i, 0] = 1\n",
    "        elif '/cat' in img_file:\n",
    "            y[i, 0] = 0\n",
    "        else:  # if needed for the test set on kaggle (each image has an id instead of a class)\n",
    "            y[i, 0] = img_file.split('/')[-1].split('.')[0]\n",
    "        if i % 5000 == 0:\n",
    "            print(\"Loading: {}/{}\".format(i, m))  # print loading progress\n",
    "    print(\"Finished Loading Data\")\n",
    "    return X, y, path\n",
    "\n",
    "def load_data(img_dir, n_rows, n_cols, color):\n",
    "    global ROWS, COLUMNS, CHANNELS\n",
    "    ROWS = n_rows\n",
    "    COLUMNS = n_cols\n",
    "    if color:\n",
    "        CHANNELS = 3\n",
    "    else:\n",
    "        CHANNELS = 1\n",
    "    X, y, path = prep_data(img_dir, color)\n",
    "    print(\"Converting to DataFrame\")\n",
    "    # create a DataFrame including a column for file path and labels\n",
    "    df = pd.concat([pd.DataFrame(path, columns=['path']), pd.DataFrame(y, columns=['label']), pd.DataFrame(X)], axis=1)\n",
    "    return df"
   ],
   "metadata": {
    "collapsed": false
   }
  },
  {
   "cell_type": "markdown",
   "source": [
    "df = load_data(images, n_rows=200, n_cols=200, color=True)"
   ],
   "metadata": {
    "collapsed": false
   }
  },
  {
   "cell_type": "markdown",
   "source": [
    "df.head()"
   ],
   "metadata": {
    "collapsed": false
   }
  },
  {
   "cell_type": "code",
   "execution_count": null,
   "outputs": [],
   "source": [
    "# check if all values are in DataFrame, merely a precaution after this data processing\n",
    "# np.isnan checks if the element is is not a number\n",
    "# df.values returns a numpy array containing the data without index or column names\n",
    "# (like X shown above with an additional value in each row for the label)\n",
    "# sum() returns the absolute amount missing\n",
    "# np.isnan(df.values).sum()\n",
    "df.isna().sum().sum()"
   ],
   "metadata": {
    "collapsed": false,
    "pycharm": {
     "name": "#%%\n"
    }
   }
  },
  {
   "cell_type": "code",
   "execution_count": null,
   "outputs": [],
   "source": [
    "def show_images(X, y, index):\n",
    "    image = X[index]\n",
    "    image = image.reshape((ROWS, COLUMNS, CHANNELS))\n",
    "    plt.figure(figsize=(6, 3))\n",
    "    plt.imshow(image)\n",
    "    plt.title(\"This is a {}\".format(CLASSES[y[index, 0]]))\n",
    "    plt.axis('off')\n",
    "    plt.show()"
   ],
   "metadata": {
    "collapsed": false,
    "pycharm": {
     "name": "#%%\n"
    }
   }
  },
  {
   "cell_type": "markdown",
   "source": [
    "> Observations:\n",
    ">> * By looking at the index numbers for each group, the first instance labeled 1 (dog) is located at index 12500.\n",
    ">> My assumption was that all cat images were the first 12,500 samples, with the rest as dogs.\n",
    ">> To validate my assumptions I counted the values for each class.\n",
    ">> * Why is this important? Data arranged by class order could result in poor performance of the ML algorithms,\n",
    ">> an unrepresentative test set or cross-validation folds later on (i.e., a test set containing only cat images).\n",
    ">> * Solution: The train_test_split() is a random sampling method, so it takes care of this.\n",
    ">> The random_state parameter ensures that the generated shuffled split is the same each time.\n",
    ">"
   ],
   "metadata": {
    "collapsed": false
   }
  },
  {
   "cell_type": "code",
   "execution_count": null,
   "outputs": [],
   "source": [
    "df2"
   ],
   "metadata": {
    "collapsed": false,
    "pycharm": {
     "name": "#%%\n"
    }
   }
  },
  {
   "cell_type": "code",
   "execution_count": null,
   "outputs": [],
   "source": [
    "df['path'][0]"
   ],
   "metadata": {
    "collapsed": false,
    "pycharm": {
     "name": "#%%\n"
    }
   }
  },
  {
   "cell_type": "code",
   "execution_count": null,
   "outputs": [],
   "source": [
    "img = cv2.imread(df['path'][3], cv2.IMREAD_COLOR)\n",
    "img = cv2.cvtColor(img, cv2.COLOR_BGR2RGB)\n",
    "img_vec = img.reshape(-1, 3)\n",
    "img_vec = np.float32(img_vec)"
   ],
   "metadata": {
    "collapsed": false,
    "pycharm": {
     "name": "#%%\n"
    }
   }
  },
  {
   "cell_type": "code",
   "execution_count": null,
   "outputs": [],
   "source": [
    "from sklearn.cluster import KMeans\n",
    "\n",
    "kmeans = KMeans(n_clusters=10, random_state=42).fit(img_vec)"
   ],
   "metadata": {
    "collapsed": false,
    "pycharm": {
     "name": "#%%\n"
    }
   }
  },
  {
   "cell_type": "code",
   "execution_count": null,
   "outputs": [],
   "source": [
    "seg_img = kmeans.cluster_centers_[kmeans.labels_]\n",
    "seg_img = seg_img.reshape(img.shape)\n",
    "seg_img = seg_img.astype('uint8')"
   ],
   "metadata": {
    "collapsed": false,
    "pycharm": {
     "name": "#%%\n"
    }
   }
  },
  {
   "cell_type": "code",
   "execution_count": null,
   "outputs": [],
   "source": [
    "plt.imshow(seg_img)"
   ],
   "metadata": {
    "collapsed": false,
    "pycharm": {
     "name": "#%%\n"
    }
   }
  },
  {
   "cell_type": "markdown",
   "source": [
    "> #### Resources:\n",
    "> 1. Dogs vs. Cats Dataset <a href=\"https://www.kaggle.com/c/dogs-vs-cats\"\n",
    "> title=\"Kaggle\">link</a>\n",
    "> 2. Loading Data Tutorial <a href=\"https://medium.com/@mrgarg.rajat/kaggle-dogs-vs-cats-challenge-complete-step-by-step-guide-part-1-a347194e55b1\"\n",
    "> title=\"medium\">link</a>"
   ],
   "metadata": {
    "collapsed": false
   }
  },
  {
   "cell_type": "markdown",
   "source": [],
   "metadata": {
    "collapsed": false
   }
  }
 ],
 "metadata": {
  "kernelspec": {
   "name": "pycharm-bcecade4",
   "language": "python",
   "display_name": "PyCharm (1SB-Final-Project)"
  },
  "language_info": {
   "codemirror_mode": {
    "name": "ipython",
    "version": 2
   },
   "file_extension": ".py",
   "mimetype": "text/x-python",
   "name": "python",
   "nbconvert_exporter": "python",
   "pygments_lexer": "ipython2",
   "version": "2.7.6"
  }
 },
 "nbformat": 4,
 "nbformat_minor": 0
}